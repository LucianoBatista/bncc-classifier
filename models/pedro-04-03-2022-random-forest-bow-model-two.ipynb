{
 "cells": [
  {
   "cell_type": "markdown",
   "metadata": {},
   "source": [
    "# Modeling - Random Forest"
   ]
  },
  {
   "cell_type": "code",
   "execution_count": 15,
   "metadata": {},
   "outputs": [],
   "source": [
    "from sklearn import (\n",
    "    feature_extraction,\n",
    "    ensemble,\n",
    "    metrics,\n",
    "    model_selection,\n",
    "    preprocessing,\n",
    "\n",
    ")\n",
    "import pandas as pd\n",
    "from nltk.tokenize import word_tokenize"
   ]
  },
  {
   "cell_type": "code",
   "execution_count": 16,
   "metadata": {},
   "outputs": [
    {
     "data": {
      "text/html": [
       "<div>\n",
       "<style scoped>\n",
       "    .dataframe tbody tr th:only-of-type {\n",
       "        vertical-align: middle;\n",
       "    }\n",
       "\n",
       "    .dataframe tbody tr th {\n",
       "        vertical-align: top;\n",
       "    }\n",
       "\n",
       "    .dataframe thead th {\n",
       "        text-align: right;\n",
       "    }\n",
       "</style>\n",
       "<table border=\"1\" class=\"dataframe\">\n",
       "  <thead>\n",
       "    <tr style=\"text-align: right;\">\n",
       "      <th></th>\n",
       "      <th>Unnamed: 0</th>\n",
       "      <th>id</th>\n",
       "      <th>questions_clean</th>\n",
       "      <th>target_enc</th>\n",
       "    </tr>\n",
       "  </thead>\n",
       "  <tbody>\n",
       "    <tr>\n",
       "      <th>0</th>\n",
       "      <td>0</td>\n",
       "      <td>3486670</td>\n",
       "      <td>base conhecimentos sobre compositor john cage ...</td>\n",
       "      <td>0</td>\n",
       "    </tr>\n",
       "    <tr>\n",
       "      <th>1</th>\n",
       "      <td>1</td>\n",
       "      <td>3343927</td>\n",
       "      <td>achar número somado 2 igual inverso” equações ...</td>\n",
       "      <td>10</td>\n",
       "    </tr>\n",
       "    <tr>\n",
       "      <th>2</th>\n",
       "      <td>4</td>\n",
       "      <td>3691951</td>\n",
       "      <td>chuva ácida fenômeno provocado poluição atmosf...</td>\n",
       "      <td>11</td>\n",
       "    </tr>\n",
       "    <tr>\n",
       "      <th>3</th>\n",
       "      <td>6</td>\n",
       "      <td>1744035</td>\n",
       "      <td>pagina nr 54 livro didático</td>\n",
       "      <td>7</td>\n",
       "    </tr>\n",
       "    <tr>\n",
       "      <th>4</th>\n",
       "      <td>7</td>\n",
       "      <td>2525602</td>\n",
       "      <td>chiaroscuro</td>\n",
       "      <td>0</td>\n",
       "    </tr>\n",
       "  </tbody>\n",
       "</table>\n",
       "</div>"
      ],
      "text/plain": [
       "   Unnamed: 0       id                                    questions_clean  \\\n",
       "0           0  3486670  base conhecimentos sobre compositor john cage ...   \n",
       "1           1  3343927  achar número somado 2 igual inverso” equações ...   \n",
       "2           4  3691951  chuva ácida fenômeno provocado poluição atmosf...   \n",
       "3           6  1744035                        pagina nr 54 livro didático   \n",
       "4           7  2525602                                        chiaroscuro   \n",
       "\n",
       "   target_enc  \n",
       "0           0  \n",
       "1          10  \n",
       "2          11  \n",
       "3           7  \n",
       "4           0  "
      ]
     },
     "execution_count": 16,
     "metadata": {},
     "output_type": "execute_result"
    }
   ],
   "source": [
    "# Importing the dataset\n",
    "\n",
    "bncc_cleaned_df = pd.read_csv('/home/pdsmoreau/data-science/tera/bncc-classifier/data/curateddf_bncc_model_two_curated_pedro_04032022.csv')\n",
    "\n",
    "bncc_cleaned_df.head()"
   ]
  },
  {
   "cell_type": "code",
   "execution_count": 17,
   "metadata": {},
   "outputs": [],
   "source": [
    "bncc_cleaned_df = bncc_cleaned_df.astype({\"questions_clean\": str})"
   ]
  },
  {
   "cell_type": "code",
   "execution_count": 18,
   "metadata": {
    "collapsed": false,
    "pycharm": {
     "name": "#%%\n"
    }
   },
   "outputs": [
    {
     "data": {
      "text/html": [
       "<div>\n",
       "<style scoped>\n",
       "    .dataframe tbody tr th:only-of-type {\n",
       "        vertical-align: middle;\n",
       "    }\n",
       "\n",
       "    .dataframe tbody tr th {\n",
       "        vertical-align: top;\n",
       "    }\n",
       "\n",
       "    .dataframe thead th {\n",
       "        text-align: right;\n",
       "    }\n",
       "</style>\n",
       "<table border=\"1\" class=\"dataframe\">\n",
       "  <thead>\n",
       "    <tr style=\"text-align: right;\">\n",
       "      <th></th>\n",
       "      <th>Unnamed: 0</th>\n",
       "      <th>id</th>\n",
       "      <th>questions_clean</th>\n",
       "      <th>target_enc</th>\n",
       "      <th>words_count</th>\n",
       "    </tr>\n",
       "  </thead>\n",
       "  <tbody>\n",
       "    <tr>\n",
       "      <th>0</th>\n",
       "      <td>0</td>\n",
       "      <td>3486670</td>\n",
       "      <td>base conhecimentos sobre compositor john cage ...</td>\n",
       "      <td>0</td>\n",
       "      <td>346</td>\n",
       "    </tr>\n",
       "    <tr>\n",
       "      <th>1</th>\n",
       "      <td>1</td>\n",
       "      <td>3343927</td>\n",
       "      <td>achar número somado 2 igual inverso” equações ...</td>\n",
       "      <td>10</td>\n",
       "      <td>65</td>\n",
       "    </tr>\n",
       "    <tr>\n",
       "      <th>2</th>\n",
       "      <td>4</td>\n",
       "      <td>3691951</td>\n",
       "      <td>chuva ácida fenômeno provocado poluição atmosf...</td>\n",
       "      <td>11</td>\n",
       "      <td>97</td>\n",
       "    </tr>\n",
       "    <tr>\n",
       "      <th>3</th>\n",
       "      <td>6</td>\n",
       "      <td>1744035</td>\n",
       "      <td>pagina nr 54 livro didático</td>\n",
       "      <td>7</td>\n",
       "      <td>27</td>\n",
       "    </tr>\n",
       "    <tr>\n",
       "      <th>4</th>\n",
       "      <td>7</td>\n",
       "      <td>2525602</td>\n",
       "      <td>chiaroscuro</td>\n",
       "      <td>0</td>\n",
       "      <td>11</td>\n",
       "    </tr>\n",
       "    <tr>\n",
       "      <th>...</th>\n",
       "      <td>...</td>\n",
       "      <td>...</td>\n",
       "      <td>...</td>\n",
       "      <td>...</td>\n",
       "      <td>...</td>\n",
       "    </tr>\n",
       "    <tr>\n",
       "      <th>76442</th>\n",
       "      <td>99994</td>\n",
       "      <td>2447693</td>\n",
       "      <td>leia reportagem responda questãosobre pergunta...</td>\n",
       "      <td>9</td>\n",
       "      <td>99</td>\n",
       "    </tr>\n",
       "    <tr>\n",
       "      <th>76443</th>\n",
       "      <td>99995</td>\n",
       "      <td>4330761</td>\n",
       "      <td>responder questão leia trecho contoprefácio hi...</td>\n",
       "      <td>9</td>\n",
       "      <td>1458</td>\n",
       "    </tr>\n",
       "    <tr>\n",
       "      <th>76444</th>\n",
       "      <td>99996</td>\n",
       "      <td>3249373</td>\n",
       "      <td>pais surgiu skate</td>\n",
       "      <td>3</td>\n",
       "      <td>17</td>\n",
       "    </tr>\n",
       "    <tr>\n",
       "      <th>76445</th>\n",
       "      <td>99998</td>\n",
       "      <td>4150214</td>\n",
       "      <td>machos fêmeas mosquitos gênero aedes vivem loc...</td>\n",
       "      <td>2</td>\n",
       "      <td>415</td>\n",
       "    </tr>\n",
       "    <tr>\n",
       "      <th>76446</th>\n",
       "      <td>99999</td>\n",
       "      <td>1487049</td>\n",
       "      <td>observe tabela veja quantos lanches vendidos t...</td>\n",
       "      <td>10</td>\n",
       "      <td>122</td>\n",
       "    </tr>\n",
       "  </tbody>\n",
       "</table>\n",
       "<p>76447 rows × 5 columns</p>\n",
       "</div>"
      ],
      "text/plain": [
       "       Unnamed: 0       id                                    questions_clean  \\\n",
       "0               0  3486670  base conhecimentos sobre compositor john cage ...   \n",
       "1               1  3343927  achar número somado 2 igual inverso” equações ...   \n",
       "2               4  3691951  chuva ácida fenômeno provocado poluição atmosf...   \n",
       "3               6  1744035                        pagina nr 54 livro didático   \n",
       "4               7  2525602                                        chiaroscuro   \n",
       "...           ...      ...                                                ...   \n",
       "76442       99994  2447693  leia reportagem responda questãosobre pergunta...   \n",
       "76443       99995  4330761  responder questão leia trecho contoprefácio hi...   \n",
       "76444       99996  3249373                                  pais surgiu skate   \n",
       "76445       99998  4150214  machos fêmeas mosquitos gênero aedes vivem loc...   \n",
       "76446       99999  1487049  observe tabela veja quantos lanches vendidos t...   \n",
       "\n",
       "       target_enc  words_count  \n",
       "0               0          346  \n",
       "1              10           65  \n",
       "2              11           97  \n",
       "3               7           27  \n",
       "4               0           11  \n",
       "...           ...          ...  \n",
       "76442           9           99  \n",
       "76443           9         1458  \n",
       "76444           3           17  \n",
       "76445           2          415  \n",
       "76446          10          122  \n",
       "\n",
       "[76447 rows x 5 columns]"
      ]
     },
     "execution_count": 18,
     "metadata": {},
     "output_type": "execute_result"
    }
   ],
   "source": [
    "# removing registers with zero chars\n",
    "bncc_cleaned_df[\"words_count\"] = bncc_cleaned_df[\"questions_clean\"].apply(len)\n",
    "bncc_cleaned_filtered_df = bncc_cleaned_df[bncc_cleaned_df[\"words_count\"] != 0]\n",
    "bncc_cleaned_filtered_df"
   ]
  },
  {
   "cell_type": "markdown",
   "metadata": {},
   "source": [
    "### Splitting the dataset into traind and test and applying Bag of Words"
   ]
  },
  {
   "cell_type": "code",
   "execution_count": 19,
   "metadata": {},
   "outputs": [],
   "source": [
    "# sklearn patterns names\n",
    "X = bncc_cleaned_filtered_df.drop(\n",
    "    [\"id\", \"words_count\", \"Unnamed: 0\", \"target_enc\"], axis=1\n",
    ")\n",
    "y = bncc_cleaned_filtered_df[\"target_enc\"]\n",
    "X_train, X_test, y_train, y_test = model_selection.train_test_split(\n",
    "    X, y, random_state=1\n",
    ")"
   ]
  },
  {
   "cell_type": "code",
   "execution_count": 20,
   "metadata": {
    "collapsed": false,
    "pycharm": {
     "name": "#%%\n"
    }
   },
   "outputs": [
    {
     "name": "stdout",
     "output_type": "stream",
     "text": [
      "(57335, 140264) (19112, 140264)\n"
     ]
    }
   ],
   "source": [
    "# bow vect\n",
    "vectBOW = feature_extraction.text.CountVectorizer()\n",
    "X_train_trans = vectBOW.fit_transform(X_train[\"questions_clean\"])\n",
    "X_test_trans = vectBOW.transform(X_test[\"questions_clean\"])\n",
    "print(X_train_trans.shape, X_test_trans.shape)"
   ]
  },
  {
   "cell_type": "markdown",
   "metadata": {},
   "source": [
    "### Grid Search"
   ]
  },
  {
   "cell_type": "code",
   "execution_count": 21,
   "metadata": {},
   "outputs": [],
   "source": [
    "# Armazenando os parâmetros a serem otimizados pelo Grid Search em um dicionário\n",
    "\n",
    "param_grid = {'max_depth': [3, 4, 5, 6, 7]}"
   ]
  },
  {
   "cell_type": "code",
   "execution_count": 22,
   "metadata": {},
   "outputs": [],
   "source": [
    "est = ensemble.RandomForestClassifier(n_estimators=1000, random_state=42)\n",
    "\n",
    "grid_search = model_selection.GridSearchCV(est, param_grid, n_jobs=-1, scoring='accuracy') # O Grid Search teve como parâmetro \n",
    "# a maximização da acurácia\n",
    "rf_grid_search = grid_search.fit(X_train_trans, y_train)\n",
    "y_pred_class = rf_grid_search.predict(X_test_trans)"
   ]
  },
  {
   "cell_type": "code",
   "execution_count": 23,
   "metadata": {},
   "outputs": [
    {
     "name": "stdout",
     "output_type": "stream",
     "text": [
      "              precision    recall  f1-score   support\n",
      "\n",
      "           0       0.00      0.00      0.00       991\n",
      "           1       0.00      0.00      0.00       760\n",
      "           2       0.00      0.00      0.00      1816\n",
      "           3       0.00      0.00      0.00       586\n",
      "           4       0.00      0.00      0.00       104\n",
      "           5       1.00      0.04      0.08      1285\n",
      "           6       0.92      0.03      0.05      2385\n",
      "           7       0.86      0.08      0.14      2263\n",
      "           8       1.00      0.34      0.51      1990\n",
      "           9       0.52      0.70      0.60      2896\n",
      "          10       0.22      0.99      0.36      3194\n",
      "          11       0.00      0.00      0.00       842\n",
      "\n",
      "    accuracy                           0.32     19112\n",
      "   macro avg       0.38      0.18      0.14     19112\n",
      "weighted avg       0.50      0.32      0.23     19112\n",
      "\n"
     ]
    },
    {
     "name": "stderr",
     "output_type": "stream",
     "text": [
      "/home/pdsmoreau/.local/share/virtualenvs/bncc-classifier-Qtat0hV3/lib/python3.9/site-packages/sklearn/metrics/_classification.py:1308: UndefinedMetricWarning: Precision and F-score are ill-defined and being set to 0.0 in labels with no predicted samples. Use `zero_division` parameter to control this behavior.\n",
      "  _warn_prf(average, modifier, msg_start, len(result))\n",
      "/home/pdsmoreau/.local/share/virtualenvs/bncc-classifier-Qtat0hV3/lib/python3.9/site-packages/sklearn/metrics/_classification.py:1308: UndefinedMetricWarning: Precision and F-score are ill-defined and being set to 0.0 in labels with no predicted samples. Use `zero_division` parameter to control this behavior.\n",
      "  _warn_prf(average, modifier, msg_start, len(result))\n",
      "/home/pdsmoreau/.local/share/virtualenvs/bncc-classifier-Qtat0hV3/lib/python3.9/site-packages/sklearn/metrics/_classification.py:1308: UndefinedMetricWarning: Precision and F-score are ill-defined and being set to 0.0 in labels with no predicted samples. Use `zero_division` parameter to control this behavior.\n",
      "  _warn_prf(average, modifier, msg_start, len(result))\n"
     ]
    }
   ],
   "source": [
    "print(metrics.classification_report(y_test, y_pred_class))"
   ]
  }
 ],
 "metadata": {
  "interpreter": {
   "hash": "a3af3214af4e872b3161d3c6a3bffbd99bf6587232dec24ec6e7026b16ba81c0"
  },
  "kernelspec": {
   "display_name": "Python 3.9.10 ('bncc-classifier-Qtat0hV3')",
   "language": "python",
   "name": "python3"
  },
  "language_info": {
   "codemirror_mode": {
    "name": "ipython",
    "version": 3
   },
   "file_extension": ".py",
   "mimetype": "text/x-python",
   "name": "python",
   "nbconvert_exporter": "python",
   "pygments_lexer": "ipython3",
   "version": "3.9.10"
  },
  "orig_nbformat": 4
 },
 "nbformat": 4,
 "nbformat_minor": 2
}
