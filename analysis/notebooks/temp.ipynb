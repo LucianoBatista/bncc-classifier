{
 "cells": [
  {
   "cell_type": "code",
   "execution_count": 6,
   "metadata": {},
   "outputs": [
    {
     "name": "stdout",
     "output_type": "stream",
     "text": [
      "2\n",
      "2018\n"
     ]
    }
   ],
   "source": [
    "class year_graduated:\n",
    "    def __init__(self, year=2):\n",
    "        self._year = year\n",
    "\n",
    "    @property\n",
    "    def Aboutyear(self):\n",
    "        return self.__year + 2\n",
    "\n",
    "    @Aboutyear.setter\n",
    "    def Aboutyear(self, a):\n",
    "        self.__year = a + 10\n",
    "\n",
    "\n",
    "grad_obj = year_graduated()\n",
    "print(grad_obj._year)\n",
    "\n",
    "grad_obj.year = 2018\n",
    "print(grad_obj.year)\n"
   ]
  },
  {
   "cell_type": "code",
   "execution_count": null,
   "metadata": {},
   "outputs": [],
   "source": []
  }
 ],
 "metadata": {
  "interpreter": {
   "hash": "ad4819e41335553f27260d49c6dabfb255fd8954fed1fc8f0a901abebba32364"
  },
  "kernelspec": {
   "display_name": "Python 3.9.0 ('bncc-classifier-AU87OF4y')",
   "language": "python",
   "name": "python3"
  },
  "language_info": {
   "codemirror_mode": {
    "name": "ipython",
    "version": 3
   },
   "file_extension": ".py",
   "mimetype": "text/x-python",
   "name": "python",
   "nbconvert_exporter": "python",
   "pygments_lexer": "ipython3",
   "version": "3.9.0"
  },
  "orig_nbformat": 4
 },
 "nbformat": 4,
 "nbformat_minor": 2
}
