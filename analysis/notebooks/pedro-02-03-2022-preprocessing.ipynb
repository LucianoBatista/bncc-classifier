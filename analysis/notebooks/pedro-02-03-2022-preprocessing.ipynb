{
 "cells": [
  {
   "cell_type": "markdown",
   "metadata": {},
   "source": [
    "# Dataset pre processing"
   ]
  },
  {
   "cell_type": "markdown",
   "metadata": {},
   "source": [
    "This notbook focuses on the bncc dataset pre processing aiming the training of a classification model for \"etapa do conhecimento\" prediction"
   ]
  },
  {
   "cell_type": "code",
   "execution_count": 89,
   "metadata": {},
   "outputs": [],
   "source": [
    "import html\n",
    "\n",
    "import pandas as pd\n",
    "from nltk.tokenize import word_tokenize\n",
    "from sklearn import (\n",
    "    feature_extraction,\n",
    "    linear_model,\n",
    "    metrics,\n",
    "    model_selection,\n",
    "    preprocessing,\n",
    ")\n",
    "\n",
    "from src.data_preprocessing import cleaning"
   ]
  },
  {
   "cell_type": "code",
   "execution_count": 2,
   "metadata": {},
   "outputs": [],
   "source": [
    "pd.set_option(\"display.max_rows\", 1000)\n",
    "pd.set_option(\"display.max_columns\", 1000)\n",
    "pd.set_option(\"display.width\", 1000)"
   ]
  },
  {
   "cell_type": "markdown",
   "metadata": {},
   "source": [
    "## Selecting and filtering the features that will be used in the model"
   ]
  },
  {
   "cell_type": "code",
   "execution_count": 3,
   "metadata": {},
   "outputs": [],
   "source": [
    "# Importing Data\n",
    "df_bncc = pd.read_csv(\"../../data/raw/bncc_first_classifier.csv\")"
   ]
  },
  {
   "cell_type": "code",
   "execution_count": 4,
   "metadata": {},
   "outputs": [
    {
     "data": {
      "text/plain": "        id                                           question  bulletType                                               name                                               slug                  name.1                  slug.1          name.2\n0  3486670  <p>Com base em seus conhecimentos sobre o comp...           2                                   História da Arte                                   historia-da-arte                    Arte                    arte  Fundamental II\n1  3343927  <p>&ldquo;Achar um n&uacute;mero que, somado c...           2  Álgebra: Equações do 2º grau: Equação do 2º gr...  algebra-equacoes-do-2o-grau-equacao-do-2o-grau...              Matemática              matematica  Fundamental II\n2  1927600  <p>2. Complete os espaços abaixo com os artigo...           4                                             Outros                                             outros                Espanhol                espanhol  Fundamental II\n3   106855  <p><div> A respeito dos serviços públicos e da...           2                   Responsabilidade Civil do Estado                   responsabilidade-civil-do-estado  Direito Administrativo  direito-administrativo        Concurso\n4  3691951  <p style=\"padding:0px;margin:10px 0px 0px;outl...           2                                             Outros                                             outros                 Química                 quimica  Fundamental II",
      "text/html": "<div>\n<style scoped>\n    .dataframe tbody tr th:only-of-type {\n        vertical-align: middle;\n    }\n\n    .dataframe tbody tr th {\n        vertical-align: top;\n    }\n\n    .dataframe thead th {\n        text-align: right;\n    }\n</style>\n<table border=\"1\" class=\"dataframe\">\n  <thead>\n    <tr style=\"text-align: right;\">\n      <th></th>\n      <th>id</th>\n      <th>question</th>\n      <th>bulletType</th>\n      <th>name</th>\n      <th>slug</th>\n      <th>name.1</th>\n      <th>slug.1</th>\n      <th>name.2</th>\n    </tr>\n  </thead>\n  <tbody>\n    <tr>\n      <th>0</th>\n      <td>3486670</td>\n      <td>&lt;p&gt;Com base em seus conhecimentos sobre o comp...</td>\n      <td>2</td>\n      <td>História da Arte</td>\n      <td>historia-da-arte</td>\n      <td>Arte</td>\n      <td>arte</td>\n      <td>Fundamental II</td>\n    </tr>\n    <tr>\n      <th>1</th>\n      <td>3343927</td>\n      <td>&lt;p&gt;&amp;ldquo;Achar um n&amp;uacute;mero que, somado c...</td>\n      <td>2</td>\n      <td>Álgebra: Equações do 2º grau: Equação do 2º gr...</td>\n      <td>algebra-equacoes-do-2o-grau-equacao-do-2o-grau...</td>\n      <td>Matemática</td>\n      <td>matematica</td>\n      <td>Fundamental II</td>\n    </tr>\n    <tr>\n      <th>2</th>\n      <td>1927600</td>\n      <td>&lt;p&gt;2. Complete os espaços abaixo com os artigo...</td>\n      <td>4</td>\n      <td>Outros</td>\n      <td>outros</td>\n      <td>Espanhol</td>\n      <td>espanhol</td>\n      <td>Fundamental II</td>\n    </tr>\n    <tr>\n      <th>3</th>\n      <td>106855</td>\n      <td>&lt;p&gt;&lt;div&gt; A respeito dos serviços públicos e da...</td>\n      <td>2</td>\n      <td>Responsabilidade Civil do Estado</td>\n      <td>responsabilidade-civil-do-estado</td>\n      <td>Direito Administrativo</td>\n      <td>direito-administrativo</td>\n      <td>Concurso</td>\n    </tr>\n    <tr>\n      <th>4</th>\n      <td>3691951</td>\n      <td>&lt;p style=\"padding:0px;margin:10px 0px 0px;outl...</td>\n      <td>2</td>\n      <td>Outros</td>\n      <td>outros</td>\n      <td>Química</td>\n      <td>quimica</td>\n      <td>Fundamental II</td>\n    </tr>\n  </tbody>\n</table>\n</div>"
     },
     "execution_count": 4,
     "metadata": {},
     "output_type": "execute_result"
    }
   ],
   "source": [
    "# Making a copy of the dataset and visualizing it\n",
    "df_bncc_copy = df_bncc.copy()\n",
    "\n",
    "df_bncc_copy.head()"
   ]
  },
  {
   "cell_type": "code",
   "execution_count": 5,
   "metadata": {},
   "outputs": [
    {
     "data": {
      "text/plain": "        id                                           question                  name.1\n0  3486670  <p>Com base em seus conhecimentos sobre o comp...                    Arte\n1  3343927  <p>&ldquo;Achar um n&uacute;mero que, somado c...              Matemática\n2  1927600  <p>2. Complete os espaços abaixo com os artigo...                Espanhol\n3   106855  <p><div> A respeito dos serviços públicos e da...  Direito Administrativo\n4  3691951  <p style=\"padding:0px;margin:10px 0px 0px;outl...                 Química",
      "text/html": "<div>\n<style scoped>\n    .dataframe tbody tr th:only-of-type {\n        vertical-align: middle;\n    }\n\n    .dataframe tbody tr th {\n        vertical-align: top;\n    }\n\n    .dataframe thead th {\n        text-align: right;\n    }\n</style>\n<table border=\"1\" class=\"dataframe\">\n  <thead>\n    <tr style=\"text-align: right;\">\n      <th></th>\n      <th>id</th>\n      <th>question</th>\n      <th>name.1</th>\n    </tr>\n  </thead>\n  <tbody>\n    <tr>\n      <th>0</th>\n      <td>3486670</td>\n      <td>&lt;p&gt;Com base em seus conhecimentos sobre o comp...</td>\n      <td>Arte</td>\n    </tr>\n    <tr>\n      <th>1</th>\n      <td>3343927</td>\n      <td>&lt;p&gt;&amp;ldquo;Achar um n&amp;uacute;mero que, somado c...</td>\n      <td>Matemática</td>\n    </tr>\n    <tr>\n      <th>2</th>\n      <td>1927600</td>\n      <td>&lt;p&gt;2. Complete os espaços abaixo com os artigo...</td>\n      <td>Espanhol</td>\n    </tr>\n    <tr>\n      <th>3</th>\n      <td>106855</td>\n      <td>&lt;p&gt;&lt;div&gt; A respeito dos serviços públicos e da...</td>\n      <td>Direito Administrativo</td>\n    </tr>\n    <tr>\n      <th>4</th>\n      <td>3691951</td>\n      <td>&lt;p style=\"padding:0px;margin:10px 0px 0px;outl...</td>\n      <td>Química</td>\n    </tr>\n  </tbody>\n</table>\n</div>"
     },
     "execution_count": 5,
     "metadata": {},
     "output_type": "execute_result"
    }
   ],
   "source": [
    "# Dropping unuseful columns\n",
    "df_bncc_copy = df_bncc_copy[[\"id\", \"question\", \"name.1\"]]\n",
    "\n",
    "df_bncc_copy.head()"
   ]
  },
  {
   "cell_type": "code",
   "execution_count": 6,
   "metadata": {},
   "outputs": [
    {
     "data": {
      "text/plain": "        id                                          questions      target\n0  3486670  <p>Com base em seus conhecimentos sobre o comp...        Arte\n1  3343927  <p>&ldquo;Achar um n&uacute;mero que, somado c...  Matemática\n2  1927600  <p>2. Complete os espaços abaixo com os artigo...    Espanhol",
      "text/html": "<div>\n<style scoped>\n    .dataframe tbody tr th:only-of-type {\n        vertical-align: middle;\n    }\n\n    .dataframe tbody tr th {\n        vertical-align: top;\n    }\n\n    .dataframe thead th {\n        text-align: right;\n    }\n</style>\n<table border=\"1\" class=\"dataframe\">\n  <thead>\n    <tr style=\"text-align: right;\">\n      <th></th>\n      <th>id</th>\n      <th>questions</th>\n      <th>target</th>\n    </tr>\n  </thead>\n  <tbody>\n    <tr>\n      <th>0</th>\n      <td>3486670</td>\n      <td>&lt;p&gt;Com base em seus conhecimentos sobre o comp...</td>\n      <td>Arte</td>\n    </tr>\n    <tr>\n      <th>1</th>\n      <td>3343927</td>\n      <td>&lt;p&gt;&amp;ldquo;Achar um n&amp;uacute;mero que, somado c...</td>\n      <td>Matemática</td>\n    </tr>\n    <tr>\n      <th>2</th>\n      <td>1927600</td>\n      <td>&lt;p&gt;2. Complete os espaços abaixo com os artigo...</td>\n      <td>Espanhol</td>\n    </tr>\n  </tbody>\n</table>\n</div>"
     },
     "execution_count": 6,
     "metadata": {},
     "output_type": "execute_result"
    }
   ],
   "source": [
    "# Renaming dataset columns\n",
    "df_bncc_copy.columns = [\"id\", \"questions\", \"target\"]\n",
    "\n",
    "df_bncc_copy.head(3)"
   ]
  },
  {
   "cell_type": "code",
   "execution_count": 7,
   "metadata": {},
   "outputs": [
    {
     "data": {
      "text/plain": "Matemática                                                                                                 12539\nLíngua Portuguesa                                                                                          11887\nGeografia                                                                                                   9266\nHistória                                                                                                    9072\nInglês                                                                                                      8103\nCiências                                                                                                    7099\nFísica                                                                                                      5537\nFilosofia                                                                                                   3728\nArte                                                                                                        3681\nQuímica                                                                                                     3276\nBiologia                                                                                                    3133\nEducação Física                                                                                             2386\nEspanhol                                                                                                    2294\nLiteratura                                                                                                  2211\nOutros                                                                                                      1522\nSociologia                                                                                                  1410\nPortuguês                                                                                                   1221\nRedação                                                                                                     1035\nDireito Administrativo                                                                                       494\nEnsino Religioso                                                                                             468\nMedicina                                                                                                     403\nProdução de Texto                                                                                            371\nDireito Constitucional                                                                                       327\nEnfermagem                                                                                                   295\nNoções De Informática                                                                                        287\nPedagogia                                                                                                    253\nOdontologia                                                                                                  231\nDireito Penal                                                                                                203\nPsicologia                                                                                                   202\nNão Classificada                                                                                             202\nNão Definido                                                                                                 194\nContabilidade Geral                                                                                          180\nAdministração Geral                                                                                          175\nEngenharia Civil                                                                                             163\nServiço Social                                                                                               158\nRaciocínio Lógico                                                                                            157\nAtualidades                                                                                                  153\nDireito Civil                                                                                                139\nDireito Processual Civil - Cpc 1973                                                                          138\nRedes De Computadores                                                                                        138\nBanco De Dados                                                                                               127\nAdministração Financeira E Orçamentária                                                                      126\nArquivologia                                                                                                 126\nContabilidade Pública                                                                                        125\nSegurança E Saúde No Trabalho                                                                                118\nEngenharia Elétrica                                                                                          116\nDireito Tributário                                                                                           106\nDireito Do Trabalho                                                                                          102\nDireito Processual Penal                                                                                     101\nBiblioteconomia                                                                                               99\nLegislação Estadual                                                                                           99\nGestão De Pessoas                                                                                             98\nProgramação                                                                                                   94\nFarmácia                                                                                                      92\nEconomia                                                                                                      87\nDireito Empresarial (comercial)                                                                               83\nEngenharia De Software                                                                                        82\nEngenharia Mecânica                                                                                           80\nArquitetura                                                                                                   79\nDireito Processual Do Trabalho                                                                                77\nComunicação Social                                                                                            76\nAdministração Pública                                                                                         75\nEstatística                                                                                                   73\nSegurança Da Informação                                                                                       72\nDireito Sanitário                                                                                             71\nNutrição                                                                                                      68\nSistemas Operacionais                                                                                         67\nFisioterapia                                                                                                  65\nLegislação Federal                                                                                            64\nConhecimentos Gerais                                                                                          63\nRadiologia                                                                                                    63\nDireito Ambiental                                                                                             62\nRedação Oficial                                                                                               60\nMedicina Do Trabalho                                                                                          54\nDesenho Geométrico                                                                                            53\nLegislação Municipal                                                                                          52\nDireito Previdenciário                                                                                        51\nGovernança De Ti                                                                                              50\nJornalismo                                                                                                    49\nDireito Processual Civil - Novo Código De Processo Civil - Cpc 2015                                           49\nDireito Financeiro                                                                                            48\nDireito Notarial E Registral                                                                                  47\nMatemática Financeira                                                                                         47\nHistória E Geografia De Estados E Municípios                                                                  47\nAdministração De Recursos Materiais                                                                           47\nVeterinária                                                                                                   46\nDireitos Humanos                                                                                              44\nDireito Da Criança E Do Adolescente - Estatuto Da Criança E Do Adolescente (eca) - Lei Nº 8.069 De 1990       43\nAuditoria                                                                                                     42\nPrincípios, Normas E Atribuições Institucionais                                                               40\nArquitetura De Computadores                                                                                   36\nMedicina Legal                                                                                                36\nRegimento Interno                                                                                             36\nArquitetura De Software                                                                                       34\nCiências Humanas                                                                                              33\nDireito Eleitoral                                                                                             31\nDireito Do Consumidor                                                                                         31\nGerência De Projetos                                                                                          29\nEletrônica                                                                                                    29\nTeologia                                                                                                      28\nAnálises Clínicas                                                                                             28\nEngenharia Agronômica (agronomia)                                                                             27\nRelações Públicas                                                                                             27\nMecânica                                                                                                      25\nBiomedicina                                                                                                   25\nAlemão                                                                                                        25\nConhecimentos Bancários                                                                                       25\nTécnicas Em Laboratório                                                                                       25\nAuditoria Governamental                                                                                       23\nLegislação De Trânsito                                                                                        23\nética Na Administração Pública                                                                                23\nLegislação Dos Tribunais De Justiça (tjs)                                                                     23\nEdificações                                                                                                   23\nDireito Internacional Público                                                                                 21\nEngenharia Eletrônica                                                                                         21\nPsiquiatria                                                                                                   21\nDireito Urbanístico                                                                                           21\nAnálise De Balanços                                                                                           20\nMeio Ambiente                                                                                                 20\nFrancês                                                                                                       20\nEngenharia Ambiental                                                                                          19\nFonoaudiologia                                                                                                17\nContabilidade De Custos                                                                                       16\nAlgoritmos E Estrutura De Dados                                                                               16\nMúsica                                                                                                        15\nTelecomunicações                                                                                              15\nTerapia Ocupacional                                                                                           15\nEngenharia Cartográfica E Cartografia                                                                         14\nModelagem De Processos De Negócio (bpm)                                                                       13\nSecretariado                                                                                                  13\nEletrotécnica                                                                                                 13\nLegislação Do Ministério Público                                                                              12\nAtendimento Ao Público                                                                                        12\nDireito Penal Militar                                                                                         12\nAuditoria De Obras Públicas                                                                                   12\náudio E Vídeo                                                                                                 12\nCiências Biológicas                                                                                           12\nControle Externo                                                                                              12\nEngenharia Química E Química Industrial                                                                       12\nItaliano                                                                                                      11\nEstatuto Do Idoso (lei Nº 10.741, De 1º De Outubro De 2003)                                                   11\nSaúde Pública                                                                                                 11\nDireito Agrário                                                                                               11\nTécnicas Em Topografia                                                                                        11\nGeologia                                                                                                      11\nLogística                                                                                                     10\nEngenharia De Telecomunicações                                                                                10\nBioquímica                                                                                                    10\nDireito Econômico                                                                                             10\nPatologia                                                                                                      9\nLegislação Dos Trfs, Stj, Stf E Cnj                                                                            9\nEducação Artística                                                                                             9\nMecânica De Autos                                                                                              9\nTécnicas Em Prótese Dentária                                                                                   9\nDesenho Industrial                                                                                             9\nDesigner Gráfico                                                                                               9\nEstatuto Da Advocacia E Da Oab, Regulamento Geral E Código De ética E Disciplina Da Oab                        9\nTécnicas Administrativas                                                                                       8\nEngenharia De Produção                                                                                         8\nEletricidade                                                                                                   8\nSegurança Pública                                                                                              8\nDesign Gráfico                                                                                                 8\nMetalurgia                                                                                                     8\nSegurança E Transporte                                                                                         7\nMarketing                                                                                                      7\nMeteorologia                                                                                                   7\nCriminalística                                                                                                 7\nComércio Internacional (exterior)                                                                              7\nConhecimentos De Serviços Gerais                                                                               6\nPolítica Internacional                                                                                         6\nArtes Gráficas                                                                                                 6\nEngenharia Aeronáutica                                                                                         6\nDesenho Técnico                                                                                                5\nEngenharia De Qualidade                                                                                        5\nCriminologia                                                                                                   5\nArqueologia                                                                                                    5\nHidrologia                                                                                                     5\nEngenharia Florestal                                                                                           5\nEletrônica Digital                                                                                             5\nNoções De Telecomunicações                                                                                     4\nCiência Política                                                                                               4\nArtes Visuais                                                                                                  4\nCartografia                                                                                                    4\nOperações Portuárias                                                                                           4\nAutomação Pneumática e Hidráulica                                                                              4\nSistemas De Informação                                                                                         4\nPapiloscopia                                                                                                   4\nFilosofia Do Direito                                                                                           4\nDispositivos Móveis                                                                                            4\nEngenharia De Pesca                                                                                            4\nLegislação Dos Tribunais Do Trabalho (tst E Trts)                                                              4\nMuseologia                                                                                                     4\nFundamentos de Programação                                                                                     4\nEstatuto Do Idoso - Lei Nº 10.741 De 2003                                                                      4\nCiências Navais                                                                                                3\nAtuária                                                                                                        3\nQuímica Industrial                                                                                             3\nDireito Processual Penal Militar                                                                               3\nEngenharia De Agrimensura                                                                                      3\nBiossegurança                                                                                                  3\nArtes Plásticas                                                                                                3\nEngenharia Química                                                                                             3\nLegislação Da Agu                                                                                              3\nInterpretação - Libras                                                                                         3\nEletrônica Industrial                                                                                          3\nAgrimensura                                                                                                    3\nDireito Marítimo                                                                                               3\nDireito Internacional Privado                                                                                  3\nEngenharia Ambiental E Sanitária                                                                               3\nAntropologia                                                                                                   3\nEngenharia De Petróleo                                                                                         3\nEngenharia Cartográfica                                                                                        3\nTecnologias Industriais                                                                                        3\nMicrocontroladores                                                                                             3\nSegurança                                                                                                      3\nGeral                                                                                                          2\nMetrologia                                                                                                     2\nEngenharia Hidráulica                                                                                          2\nEngenharia Clínica                                                                                             2\nórtese E Prótese                                                                                               2\nEletrônica de Potência                                                                                         2\nEletrônica II                                                                                                  2\nEletricidade I                                                                                                 2\nLógica e Técnica de Programação                                                                                2\nPsicologia Jurídica                                                                                            2\nEngenharia Sanitária                                                                                           2\nAtendimento (escriturário)                                                                                     2\nOceanografia Geológica                                                                                         2\nAnálise e Projeto de Sistemas                                                                                  2\nEngenharia Biomédica                                                                                           2\nOrganização Da Justiça Militar Da União                                                                        2\nOrganização, Normas e Segurança do Trabalho                                                                    2\nEngenharia De Minas                                                                                            2\nSistema Elétrico Brasileiro                                                                                    2\nNoções De Primeiros Socorros                                                                                   2\nControlador Lógico Programável                                                                                 1\nLegislação Da Justiça Militar                                                                                  1\nArquitetura de Computadores e Suporte                                                                          1\nLegislação Da Defensoria Pública                                                                               1\nZootecnia                                                                                                      1\nEngenharia Naval                                                                                               1\nEstatuto Da Pessoa Com Deficiência - Lei Nº 13.146 De 2015                                                     1\nFront-End                                                                                                      1\nTurismo                                                                                                        1\nUser Experience                                                                                                1\nLegislação De Seguros                                                                                          1\nEstatuto Da Pessoa Com Deficiência                                                                             1\nTecnologia Em Produção Gráfica                                                                                 1\nProgramação Web                                                                                                1\nTecnologia Educacional                                                                                         1\nDireito De Família                                                                                             1\nLegislação Da Prf                                                                                              1\nEngenharia Mecatrônica                                                                                         1\nLinguagem de Programação II                                                                                    1\nEletromecânica                                                                                                 1\nCiência E Tecnologia                                                                                           1\nLegislação dos Tribunais de Contas (TCU, TCEs e TCMs) e Ministérios Públicos de Contas                         1\nEngenharia Agrícola                                                                                            1\nVestuário                                                                                                      1\nInstrumentação Industrial                                                                                      1\nMatemática Atuarial                                                                                            1\nInstalação e Manutenção de Computadores                                                                        1\nLegislação Dos Tribunais Eleitorais (tse E Tres)                                                               1\nEngenharia                                                                                                     1\nLíngua inglesa                                                                                                 1\nName: target, dtype: int64"
     },
     "execution_count": 7,
     "metadata": {},
     "output_type": "execute_result"
    }
   ],
   "source": [
    "# Observing the classes of the target to drop, aiming to comprehend only the topics of bncc\n",
    "df_bncc_copy[\"target\"].value_counts()"
   ]
  },
  {
   "cell_type": "code",
   "execution_count": 8,
   "metadata": {},
   "outputs": [
    {
     "data": {
      "text/plain": "(100000, 3)"
     },
     "execution_count": 8,
     "metadata": {},
     "output_type": "execute_result"
    }
   ],
   "source": [
    "df_bncc_copy.shape"
   ]
  },
  {
   "cell_type": "code",
   "execution_count": 9,
   "metadata": {},
   "outputs": [],
   "source": [
    "# Selecting observations which are the target are included on BNCC\n",
    "df_bncc_copy_targets_bncc = df_bncc_copy.loc[\n",
    "    df_bncc_copy[\"target\"].isin(\n",
    "        [\n",
    "            \"Língua Portuguesa\",\n",
    "            \"Arte\",\n",
    "            \"Educação Física\",\n",
    "            \"Inglês\",\n",
    "            \"Matemática\",\n",
    "            \"Ciências\",\n",
    "            \"Geografia\",\n",
    "            \"História\",\n",
    "            \"Ensino Religioso\",\n",
    "            \"Biologia\",\n",
    "            \"Física\",\n",
    "            \"Química\",\n",
    "        ]\n",
    "    )\n",
    "]"
   ]
  },
  {
   "cell_type": "markdown",
   "metadata": {},
   "source": [
    "Obs: in the setp of making the final solution, we must observe if the Topic of knowledge fits with the Setp of knowledge predicted.\n",
    "For exemple: if the first code was EM, than, the topic must be Ciências Humanas\n",
    "else EF , than the topic must be Geografia (or other in Cências Humanas)"
   ]
  },
  {
   "cell_type": "code",
   "execution_count": 10,
   "metadata": {},
   "outputs": [
    {
     "data": {
      "text/plain": "            id                                          questions             target\n0      3486670  <p>Com base em seus conhecimentos sobre o comp...               Arte\n1      3343927  <p>&ldquo;Achar um n&uacute;mero que, somado c...         Matemática\n4      3691951  <p style=\"padding:0px;margin:10px 0px 0px;outl...            Química\n6      1744035     <p>Pagina nr. 54 do Livro did&aacute;tico.</p>           História\n7      2525602                 <p>O que &eacute; CHIAROSCURO?</p>               Arte\n...        ...                                                ...                ...\n99994  2447693  <p>Leia a reportagem e responda a quest&atilde...  Língua Portuguesa\n99995  4330761  <p>Para responder à questão, leia o trecho do ...  Língua Portuguesa\n99996  3249373  <h1 style=\"list-style:none;margin:0px 0px 20px...    Educação Física\n99998  4150214  <p>Os machos e fêmeas de mosquitos do gênero <...           Ciências\n99999  1487049  <p>Observe a tabela e veja quantos lanches for...         Matemática\n\n[76447 rows x 3 columns]",
      "text/html": "<div>\n<style scoped>\n    .dataframe tbody tr th:only-of-type {\n        vertical-align: middle;\n    }\n\n    .dataframe tbody tr th {\n        vertical-align: top;\n    }\n\n    .dataframe thead th {\n        text-align: right;\n    }\n</style>\n<table border=\"1\" class=\"dataframe\">\n  <thead>\n    <tr style=\"text-align: right;\">\n      <th></th>\n      <th>id</th>\n      <th>questions</th>\n      <th>target</th>\n    </tr>\n  </thead>\n  <tbody>\n    <tr>\n      <th>0</th>\n      <td>3486670</td>\n      <td>&lt;p&gt;Com base em seus conhecimentos sobre o comp...</td>\n      <td>Arte</td>\n    </tr>\n    <tr>\n      <th>1</th>\n      <td>3343927</td>\n      <td>&lt;p&gt;&amp;ldquo;Achar um n&amp;uacute;mero que, somado c...</td>\n      <td>Matemática</td>\n    </tr>\n    <tr>\n      <th>4</th>\n      <td>3691951</td>\n      <td>&lt;p style=\"padding:0px;margin:10px 0px 0px;outl...</td>\n      <td>Química</td>\n    </tr>\n    <tr>\n      <th>6</th>\n      <td>1744035</td>\n      <td>&lt;p&gt;Pagina nr. 54 do Livro did&amp;aacute;tico.&lt;/p&gt;</td>\n      <td>História</td>\n    </tr>\n    <tr>\n      <th>7</th>\n      <td>2525602</td>\n      <td>&lt;p&gt;O que &amp;eacute; CHIAROSCURO?&lt;/p&gt;</td>\n      <td>Arte</td>\n    </tr>\n    <tr>\n      <th>...</th>\n      <td>...</td>\n      <td>...</td>\n      <td>...</td>\n    </tr>\n    <tr>\n      <th>99994</th>\n      <td>2447693</td>\n      <td>&lt;p&gt;Leia a reportagem e responda a quest&amp;atilde...</td>\n      <td>Língua Portuguesa</td>\n    </tr>\n    <tr>\n      <th>99995</th>\n      <td>4330761</td>\n      <td>&lt;p&gt;Para responder à questão, leia o trecho do ...</td>\n      <td>Língua Portuguesa</td>\n    </tr>\n    <tr>\n      <th>99996</th>\n      <td>3249373</td>\n      <td>&lt;h1 style=\"list-style:none;margin:0px 0px 20px...</td>\n      <td>Educação Física</td>\n    </tr>\n    <tr>\n      <th>99998</th>\n      <td>4150214</td>\n      <td>&lt;p&gt;Os machos e fêmeas de mosquitos do gênero &lt;...</td>\n      <td>Ciências</td>\n    </tr>\n    <tr>\n      <th>99999</th>\n      <td>1487049</td>\n      <td>&lt;p&gt;Observe a tabela e veja quantos lanches for...</td>\n      <td>Matemática</td>\n    </tr>\n  </tbody>\n</table>\n<p>76447 rows × 3 columns</p>\n</div>"
     },
     "execution_count": 10,
     "metadata": {},
     "output_type": "execute_result"
    }
   ],
   "source": [
    "# Observing if the filtering was correctly applied\n",
    "df_bncc_copy_targets_bncc"
   ]
  },
  {
   "cell_type": "code",
   "execution_count": 11,
   "metadata": {},
   "outputs": [
    {
     "data": {
      "text/plain": "Matemática           12539\nLíngua Portuguesa    11887\nGeografia             9266\nHistória              9072\nInglês                8103\nCiências              7099\nFísica                5537\nArte                  3681\nQuímica               3276\nBiologia              3133\nEducação Física       2386\nEnsino Religioso       468\nName: target, dtype: int64"
     },
     "execution_count": 11,
     "metadata": {},
     "output_type": "execute_result"
    }
   ],
   "source": [
    "# Observing if the filtering was correctly applied by visualizing the clases\n",
    "df_bncc_copy_targets_bncc[\"target\"].value_counts()"
   ]
  },
  {
   "cell_type": "code",
   "execution_count": 12,
   "metadata": {},
   "outputs": [
    {
     "data": {
      "text/plain": "(76447, 3)"
     },
     "execution_count": 12,
     "metadata": {},
     "output_type": "execute_result"
    }
   ],
   "source": [
    "# How many observations do we have now?\n",
    "df_bncc_copy_targets_bncc.shape"
   ]
  },
  {
   "cell_type": "code",
   "execution_count": 13,
   "metadata": {},
   "outputs": [
    {
     "name": "stderr",
     "output_type": "stream",
     "text": [
      "/tmp/ipykernel_1534129/859106253.py:10: SettingWithCopyWarning: \n",
      "A value is trying to be set on a copy of a slice from a DataFrame.\n",
      "Try using .loc[row_indexer,col_indexer] = value instead\n",
      "\n",
      "See the caveats in the documentation: https://pandas.pydata.org/pandas-docs/stable/user_guide/indexing.html#returning-a-view-versus-a-copy\n",
      "  df_bncc_copy_targets_bncc[\"target_enc\"] = lb_enc.transform(\n"
     ]
    },
    {
     "data": {
      "text/plain": "            id                                          questions             target  target_enc\n0      3486670  <p>Com base em seus conhecimentos sobre o comp...               Arte           0\n1      3343927  <p>&ldquo;Achar um n&uacute;mero que, somado c...         Matemática          10\n4      3691951  <p style=\"padding:0px;margin:10px 0px 0px;outl...            Química          11\n6      1744035     <p>Pagina nr. 54 do Livro did&aacute;tico.</p>           História           7\n7      2525602                 <p>O que &eacute; CHIAROSCURO?</p>               Arte           0\n...        ...                                                ...                ...         ...\n99994  2447693  <p>Leia a reportagem e responda a quest&atilde...  Língua Portuguesa           9\n99995  4330761  <p>Para responder à questão, leia o trecho do ...  Língua Portuguesa           9\n99996  3249373  <h1 style=\"list-style:none;margin:0px 0px 20px...    Educação Física           3\n99998  4150214  <p>Os machos e fêmeas de mosquitos do gênero <...           Ciências           2\n99999  1487049  <p>Observe a tabela e veja quantos lanches for...         Matemática          10\n\n[76447 rows x 4 columns]",
      "text/html": "<div>\n<style scoped>\n    .dataframe tbody tr th:only-of-type {\n        vertical-align: middle;\n    }\n\n    .dataframe tbody tr th {\n        vertical-align: top;\n    }\n\n    .dataframe thead th {\n        text-align: right;\n    }\n</style>\n<table border=\"1\" class=\"dataframe\">\n  <thead>\n    <tr style=\"text-align: right;\">\n      <th></th>\n      <th>id</th>\n      <th>questions</th>\n      <th>target</th>\n      <th>target_enc</th>\n    </tr>\n  </thead>\n  <tbody>\n    <tr>\n      <th>0</th>\n      <td>3486670</td>\n      <td>&lt;p&gt;Com base em seus conhecimentos sobre o comp...</td>\n      <td>Arte</td>\n      <td>0</td>\n    </tr>\n    <tr>\n      <th>1</th>\n      <td>3343927</td>\n      <td>&lt;p&gt;&amp;ldquo;Achar um n&amp;uacute;mero que, somado c...</td>\n      <td>Matemática</td>\n      <td>10</td>\n    </tr>\n    <tr>\n      <th>4</th>\n      <td>3691951</td>\n      <td>&lt;p style=\"padding:0px;margin:10px 0px 0px;outl...</td>\n      <td>Química</td>\n      <td>11</td>\n    </tr>\n    <tr>\n      <th>6</th>\n      <td>1744035</td>\n      <td>&lt;p&gt;Pagina nr. 54 do Livro did&amp;aacute;tico.&lt;/p&gt;</td>\n      <td>História</td>\n      <td>7</td>\n    </tr>\n    <tr>\n      <th>7</th>\n      <td>2525602</td>\n      <td>&lt;p&gt;O que &amp;eacute; CHIAROSCURO?&lt;/p&gt;</td>\n      <td>Arte</td>\n      <td>0</td>\n    </tr>\n    <tr>\n      <th>...</th>\n      <td>...</td>\n      <td>...</td>\n      <td>...</td>\n      <td>...</td>\n    </tr>\n    <tr>\n      <th>99994</th>\n      <td>2447693</td>\n      <td>&lt;p&gt;Leia a reportagem e responda a quest&amp;atilde...</td>\n      <td>Língua Portuguesa</td>\n      <td>9</td>\n    </tr>\n    <tr>\n      <th>99995</th>\n      <td>4330761</td>\n      <td>&lt;p&gt;Para responder à questão, leia o trecho do ...</td>\n      <td>Língua Portuguesa</td>\n      <td>9</td>\n    </tr>\n    <tr>\n      <th>99996</th>\n      <td>3249373</td>\n      <td>&lt;h1 style=\"list-style:none;margin:0px 0px 20px...</td>\n      <td>Educação Física</td>\n      <td>3</td>\n    </tr>\n    <tr>\n      <th>99998</th>\n      <td>4150214</td>\n      <td>&lt;p&gt;Os machos e fêmeas de mosquitos do gênero &lt;...</td>\n      <td>Ciências</td>\n      <td>2</td>\n    </tr>\n    <tr>\n      <th>99999</th>\n      <td>1487049</td>\n      <td>&lt;p&gt;Observe a tabela e veja quantos lanches for...</td>\n      <td>Matemática</td>\n      <td>10</td>\n    </tr>\n  </tbody>\n</table>\n<p>76447 rows × 4 columns</p>\n</div>"
     },
     "execution_count": 13,
     "metadata": {},
     "output_type": "execute_result"
    }
   ],
   "source": [
    "# Encoding the target with labels for the classifier\n",
    "# this procedure can be done with LabelEncoder from scikit-learn\n",
    "# will give us more control over the pipeline\n",
    "lb_enc = preprocessing.LabelEncoder()\n",
    "\n",
    "# train on the column we want encode\n",
    "lb_enc.fit(df_bncc_copy_targets_bncc[\"target\"])\n",
    "\n",
    "# transform the same column, but here we'll have this transformation for test and after for train\n",
    "df_bncc_copy_targets_bncc[\"target_enc\"] = lb_enc.transform(\n",
    "    df_bncc_copy_targets_bncc[\"target\"]\n",
    ")\n",
    "df_bncc_copy_targets_bncc"
   ]
  },
  {
   "cell_type": "code",
   "execution_count": 14,
   "outputs": [
    {
     "data": {
      "text/plain": "array(['Arte', 'Biologia', 'Ciências', 'Educação Física',\n       'Ensino Religioso', 'Física', 'Geografia', 'História', 'Inglês',\n       'Língua Portuguesa', 'Matemática', 'Química'], dtype=object)"
     },
     "execution_count": 14,
     "metadata": {},
     "output_type": "execute_result"
    }
   ],
   "source": [
    "# you can access how the labels was transformed by looking at the classes\n",
    "lb_enc.classes_"
   ],
   "metadata": {
    "collapsed": false,
    "pycharm": {
     "name": "#%%\n"
    }
   }
  },
  {
   "cell_type": "markdown",
   "metadata": {},
   "source": [
    "## Cleaning the dataset"
   ]
  },
  {
   "cell_type": "code",
   "execution_count": 15,
   "outputs": [
    {
     "name": "stderr",
     "output_type": "stream",
     "text": [
      "/tmp/ipykernel_1534129/492001490.py:2: SettingWithCopyWarning: \n",
      "A value is trying to be set on a copy of a slice from a DataFrame.\n",
      "Try using .loc[row_indexer,col_indexer] = value instead\n",
      "\n",
      "See the caveats in the documentation: https://pandas.pydata.org/pandas-docs/stable/user_guide/indexing.html#returning-a-view-versus-a-copy\n",
      "  df_bncc_copy_targets_bncc[\"questions_clean\"] = (\n"
     ]
    }
   ],
   "source": [
    "# chaining all cleaning steps\n",
    "df_bncc_copy_targets_bncc[\"questions_clean\"] = (\n",
    "    df_bncc_copy_targets_bncc[\"questions\"]\n",
    "    .astype(str)\n",
    "    .apply(html.unescape)\n",
    "    .apply(lambda x: cleaning.remove_html(x))\n",
    "    .apply(lambda x: x.lower())\n",
    "    .apply(lambda x: cleaning.remove_punctuation_2(x))\n",
    "    .apply(cleaning.remove_italic_quotes)\n",
    "    .apply(cleaning.remove_open_quotes)\n",
    "    .apply(cleaning.remove_end_quotes)\n",
    "    .apply(cleaning.remove_italic_dquotes)\n",
    "    .apply(cleaning.remove_open_dquotes)\n",
    "    .apply(cleaning.remove_quote)\n",
    "    .apply(lambda x: cleaning.remove_pt_stopwords(x))\n",
    "    .apply(lambda x: cleaning.remove_en_stopwords(x))\n",
    ")"
   ],
   "metadata": {
    "collapsed": false,
    "pycharm": {
     "name": "#%%\n"
    }
   }
  },
  {
   "cell_type": "code",
   "execution_count": 16,
   "outputs": [
    {
     "data": {
      "text/plain": "         id                                          questions      target  target_enc                                    questions_clean\n0   3486670  <p>Com base em seus conhecimentos sobre o comp...        Arte           0  base conhecimentos sobre compositor john cage ...\n1   3343927  <p>&ldquo;Achar um n&uacute;mero que, somado c...  Matemática          10  achar número somado 2 igual inverso” equações ...\n4   3691951  <p style=\"padding:0px;margin:10px 0px 0px;outl...     Química          11  chuva ácida fenômeno provocado poluição atmosf...\n6   1744035     <p>Pagina nr. 54 do Livro did&aacute;tico.</p>    História           7                        pagina nr 54 livro didático\n7   2525602                 <p>O que &eacute; CHIAROSCURO?</p>        Arte           0                                        chiaroscuro\n8   2610914  <p>Analise a igualdade a seguir</p><p><br></p>...  Matemática          10             analise igualdade seguiresta igualdade\n12  1961666  <p style=\"text-align:justify\">Jo&atilde;o prec...  Matemática          10  joão precisa realizar movimentações financeira...\n13  3612229  <p>Complete as lacunas.</p><p>________________...        Arte           0  complete lacunas apresentou desenho revolucion...\n15  2423863  <p>Analise o mapa a seguir.</p><div style=\"tex...   Geografia           6  analise mapa seguira maior concentração espaci...\n17  3121866  <p>Observe a charge:</p> <p><a href=\"https://3...   Geografia           6                             observe charge retrata",
      "text/html": "<div>\n<style scoped>\n    .dataframe tbody tr th:only-of-type {\n        vertical-align: middle;\n    }\n\n    .dataframe tbody tr th {\n        vertical-align: top;\n    }\n\n    .dataframe thead th {\n        text-align: right;\n    }\n</style>\n<table border=\"1\" class=\"dataframe\">\n  <thead>\n    <tr style=\"text-align: right;\">\n      <th></th>\n      <th>id</th>\n      <th>questions</th>\n      <th>target</th>\n      <th>target_enc</th>\n      <th>questions_clean</th>\n    </tr>\n  </thead>\n  <tbody>\n    <tr>\n      <th>0</th>\n      <td>3486670</td>\n      <td>&lt;p&gt;Com base em seus conhecimentos sobre o comp...</td>\n      <td>Arte</td>\n      <td>0</td>\n      <td>base conhecimentos sobre compositor john cage ...</td>\n    </tr>\n    <tr>\n      <th>1</th>\n      <td>3343927</td>\n      <td>&lt;p&gt;&amp;ldquo;Achar um n&amp;uacute;mero que, somado c...</td>\n      <td>Matemática</td>\n      <td>10</td>\n      <td>achar número somado 2 igual inverso” equações ...</td>\n    </tr>\n    <tr>\n      <th>4</th>\n      <td>3691951</td>\n      <td>&lt;p style=\"padding:0px;margin:10px 0px 0px;outl...</td>\n      <td>Química</td>\n      <td>11</td>\n      <td>chuva ácida fenômeno provocado poluição atmosf...</td>\n    </tr>\n    <tr>\n      <th>6</th>\n      <td>1744035</td>\n      <td>&lt;p&gt;Pagina nr. 54 do Livro did&amp;aacute;tico.&lt;/p&gt;</td>\n      <td>História</td>\n      <td>7</td>\n      <td>pagina nr 54 livro didático</td>\n    </tr>\n    <tr>\n      <th>7</th>\n      <td>2525602</td>\n      <td>&lt;p&gt;O que &amp;eacute; CHIAROSCURO?&lt;/p&gt;</td>\n      <td>Arte</td>\n      <td>0</td>\n      <td>chiaroscuro</td>\n    </tr>\n    <tr>\n      <th>8</th>\n      <td>2610914</td>\n      <td>&lt;p&gt;Analise a igualdade a seguir&lt;/p&gt;&lt;p&gt;&lt;br&gt;&lt;/p&gt;...</td>\n      <td>Matemática</td>\n      <td>10</td>\n      <td>analise igualdade seguiresta igualdade</td>\n    </tr>\n    <tr>\n      <th>12</th>\n      <td>1961666</td>\n      <td>&lt;p style=\"text-align:justify\"&gt;Jo&amp;atilde;o prec...</td>\n      <td>Matemática</td>\n      <td>10</td>\n      <td>joão precisa realizar movimentações financeira...</td>\n    </tr>\n    <tr>\n      <th>13</th>\n      <td>3612229</td>\n      <td>&lt;p&gt;Complete as lacunas.&lt;/p&gt;&lt;p&gt;________________...</td>\n      <td>Arte</td>\n      <td>0</td>\n      <td>complete lacunas apresentou desenho revolucion...</td>\n    </tr>\n    <tr>\n      <th>15</th>\n      <td>2423863</td>\n      <td>&lt;p&gt;Analise o mapa a seguir.&lt;/p&gt;&lt;div style=\"tex...</td>\n      <td>Geografia</td>\n      <td>6</td>\n      <td>analise mapa seguira maior concentração espaci...</td>\n    </tr>\n    <tr>\n      <th>17</th>\n      <td>3121866</td>\n      <td>&lt;p&gt;Observe a charge:&lt;/p&gt; &lt;p&gt;&lt;a href=\"https://3...</td>\n      <td>Geografia</td>\n      <td>6</td>\n      <td>observe charge retrata</td>\n    </tr>\n  </tbody>\n</table>\n</div>"
     },
     "execution_count": 16,
     "metadata": {},
     "output_type": "execute_result"
    }
   ],
   "source": [
    "df_bncc_copy_targets_bncc.head(10)"
   ],
   "metadata": {
    "collapsed": false,
    "pycharm": {
     "name": "#%%\n"
    }
   }
  },
  {
   "cell_type": "code",
   "execution_count": 18,
   "metadata": {},
   "outputs": [],
   "source": [
    "# class to remove frq and rare, we can choose how many rare or frq words to remove\n",
    "remove_frq_rare = cleaning.RemoveFrqRare(df=df_bncc_copy_targets_bncc)\n",
    "remove_frq_rare.calc_frq_words()\n",
    "remove_frq_rare.calc_rare_words()\n",
    "bncc_cleaned_df = remove_frq_rare.remove_frq_and_rare()"
   ]
  },
  {
   "cell_type": "code",
   "execution_count": 19,
   "metadata": {},
   "outputs": [
    {
     "data": {
      "text/plain": "        id                                          questions      target  target_enc                                    questions_clean\n0  3486670  <p>Com base em seus conhecimentos sobre o comp...        Arte           0  base conhecimentos sobre compositor john cage ...\n1  3343927  <p>&ldquo;Achar um n&uacute;mero que, somado c...  Matemática          10  achar número somado 2 igual inverso” equações ...\n4  3691951  <p style=\"padding:0px;margin:10px 0px 0px;outl...     Química          11  chuva ácida fenômeno provocado poluição atmosf...\n6  1744035     <p>Pagina nr. 54 do Livro did&aacute;tico.</p>    História           7                        pagina nr 54 livro didático\n7  2525602                 <p>O que &eacute; CHIAROSCURO?</p>        Arte           0                                        chiaroscuro",
      "text/html": "<div>\n<style scoped>\n    .dataframe tbody tr th:only-of-type {\n        vertical-align: middle;\n    }\n\n    .dataframe tbody tr th {\n        vertical-align: top;\n    }\n\n    .dataframe thead th {\n        text-align: right;\n    }\n</style>\n<table border=\"1\" class=\"dataframe\">\n  <thead>\n    <tr style=\"text-align: right;\">\n      <th></th>\n      <th>id</th>\n      <th>questions</th>\n      <th>target</th>\n      <th>target_enc</th>\n      <th>questions_clean</th>\n    </tr>\n  </thead>\n  <tbody>\n    <tr>\n      <th>0</th>\n      <td>3486670</td>\n      <td>&lt;p&gt;Com base em seus conhecimentos sobre o comp...</td>\n      <td>Arte</td>\n      <td>0</td>\n      <td>base conhecimentos sobre compositor john cage ...</td>\n    </tr>\n    <tr>\n      <th>1</th>\n      <td>3343927</td>\n      <td>&lt;p&gt;&amp;ldquo;Achar um n&amp;uacute;mero que, somado c...</td>\n      <td>Matemática</td>\n      <td>10</td>\n      <td>achar número somado 2 igual inverso” equações ...</td>\n    </tr>\n    <tr>\n      <th>4</th>\n      <td>3691951</td>\n      <td>&lt;p style=\"padding:0px;margin:10px 0px 0px;outl...</td>\n      <td>Química</td>\n      <td>11</td>\n      <td>chuva ácida fenômeno provocado poluição atmosf...</td>\n    </tr>\n    <tr>\n      <th>6</th>\n      <td>1744035</td>\n      <td>&lt;p&gt;Pagina nr. 54 do Livro did&amp;aacute;tico.&lt;/p&gt;</td>\n      <td>História</td>\n      <td>7</td>\n      <td>pagina nr 54 livro didático</td>\n    </tr>\n    <tr>\n      <th>7</th>\n      <td>2525602</td>\n      <td>&lt;p&gt;O que &amp;eacute; CHIAROSCURO?&lt;/p&gt;</td>\n      <td>Arte</td>\n      <td>0</td>\n      <td>chiaroscuro</td>\n    </tr>\n  </tbody>\n</table>\n</div>"
     },
     "execution_count": 19,
     "metadata": {},
     "output_type": "execute_result"
    }
   ],
   "source": [
    "bncc_cleaned_df.head()"
   ]
  },
  {
   "cell_type": "markdown",
   "metadata": {},
   "source": [
    "### Exporting the dataset"
   ]
  },
  {
   "cell_type": "code",
   "execution_count": 20,
   "metadata": {},
   "outputs": [],
   "source": [
    "bncc_cleaned_df = bncc_cleaned_df[[\"id\", \"questions_clean\", \"target_enc\"]]"
   ]
  },
  {
   "cell_type": "code",
   "execution_count": 22,
   "metadata": {},
   "outputs": [],
   "source": [
    "# Exporting\n",
    "bncc_cleaned_df.to_csv(\n",
    "    \"../../data/curated/df_bncc_model_two_curated_pedro_02032022.csv\"\n",
    ")"
   ]
  },
  {
   "cell_type": "markdown",
   "source": [
    "## Modeling"
   ],
   "metadata": {
    "collapsed": false,
    "pycharm": {
     "name": "#%% md\n"
    }
   }
  },
  {
   "cell_type": "code",
   "execution_count": 31,
   "outputs": [
    {
     "data": {
      "text/plain": "            id                                    questions_clean  target_enc  words_count\n0      3486670  base conhecimentos sobre compositor john cage ...           0          346\n1      3343927  achar número somado 2 igual inverso” equações ...          10           65\n4      3691951  chuva ácida fenômeno provocado poluição atmosf...          11           97\n6      1744035                        pagina nr 54 livro didático           7           27\n7      2525602                                        chiaroscuro           0           11\n...        ...                                                ...         ...          ...\n99994  2447693  leia reportagem responda questãosobre pergunta...           9           99\n99995  4330761  responder questão leia trecho contoprefácio hi...           9         1458\n99996  3249373                                  pais surgiu skate           3           17\n99998  4150214  machos fêmeas mosquitos gênero aedes vivem loc...           2          415\n99999  1487049  observe tabela veja quantos lanches vendidos t...          10          122\n\n[75505 rows x 4 columns]",
      "text/html": "<div>\n<style scoped>\n    .dataframe tbody tr th:only-of-type {\n        vertical-align: middle;\n    }\n\n    .dataframe tbody tr th {\n        vertical-align: top;\n    }\n\n    .dataframe thead th {\n        text-align: right;\n    }\n</style>\n<table border=\"1\" class=\"dataframe\">\n  <thead>\n    <tr style=\"text-align: right;\">\n      <th></th>\n      <th>id</th>\n      <th>questions_clean</th>\n      <th>target_enc</th>\n      <th>words_count</th>\n    </tr>\n  </thead>\n  <tbody>\n    <tr>\n      <th>0</th>\n      <td>3486670</td>\n      <td>base conhecimentos sobre compositor john cage ...</td>\n      <td>0</td>\n      <td>346</td>\n    </tr>\n    <tr>\n      <th>1</th>\n      <td>3343927</td>\n      <td>achar número somado 2 igual inverso” equações ...</td>\n      <td>10</td>\n      <td>65</td>\n    </tr>\n    <tr>\n      <th>4</th>\n      <td>3691951</td>\n      <td>chuva ácida fenômeno provocado poluição atmosf...</td>\n      <td>11</td>\n      <td>97</td>\n    </tr>\n    <tr>\n      <th>6</th>\n      <td>1744035</td>\n      <td>pagina nr 54 livro didático</td>\n      <td>7</td>\n      <td>27</td>\n    </tr>\n    <tr>\n      <th>7</th>\n      <td>2525602</td>\n      <td>chiaroscuro</td>\n      <td>0</td>\n      <td>11</td>\n    </tr>\n    <tr>\n      <th>...</th>\n      <td>...</td>\n      <td>...</td>\n      <td>...</td>\n      <td>...</td>\n    </tr>\n    <tr>\n      <th>99994</th>\n      <td>2447693</td>\n      <td>leia reportagem responda questãosobre pergunta...</td>\n      <td>9</td>\n      <td>99</td>\n    </tr>\n    <tr>\n      <th>99995</th>\n      <td>4330761</td>\n      <td>responder questão leia trecho contoprefácio hi...</td>\n      <td>9</td>\n      <td>1458</td>\n    </tr>\n    <tr>\n      <th>99996</th>\n      <td>3249373</td>\n      <td>pais surgiu skate</td>\n      <td>3</td>\n      <td>17</td>\n    </tr>\n    <tr>\n      <th>99998</th>\n      <td>4150214</td>\n      <td>machos fêmeas mosquitos gênero aedes vivem loc...</td>\n      <td>2</td>\n      <td>415</td>\n    </tr>\n    <tr>\n      <th>99999</th>\n      <td>1487049</td>\n      <td>observe tabela veja quantos lanches vendidos t...</td>\n      <td>10</td>\n      <td>122</td>\n    </tr>\n  </tbody>\n</table>\n<p>75505 rows × 4 columns</p>\n</div>"
     },
     "execution_count": 31,
     "metadata": {},
     "output_type": "execute_result"
    }
   ],
   "source": [
    "# removing registers with zero chars\n",
    "bncc_cleaned_df[\"words_count\"] = bncc_cleaned_df[\"questions_clean\"].apply(len)\n",
    "bncc_cleaned_filtered_df = bncc_cleaned_df[bncc_cleaned_df[\"words_count\"] != 0]\n",
    "bncc_cleaned_filtered_df"
   ],
   "metadata": {
    "collapsed": false,
    "pycharm": {
     "name": "#%%\n"
    }
   }
  },
  {
   "cell_type": "code",
   "execution_count": 32,
   "outputs": [
    {
     "name": "stderr",
     "output_type": "stream",
     "text": [
      "/tmp/ipykernel_1534129/1311229821.py:2: SettingWithCopyWarning: \n",
      "A value is trying to be set on a copy of a slice from a DataFrame.\n",
      "Try using .loc[row_indexer,col_indexer] = value instead\n",
      "\n",
      "See the caveats in the documentation: https://pandas.pydata.org/pandas-docs/stable/user_guide/indexing.html#returning-a-view-versus-a-copy\n",
      "  bncc_cleaned_filtered_df[\"question_tokens\"] = bncc_cleaned_filtered_df[\"questions_clean\"].apply(word_tokenize)\n"
     ]
    },
    {
     "data": {
      "text/plain": "            id                                    questions_clean  target_enc  words_count                                    question_tokens\n0      3486670  base conhecimentos sobre compositor john cage ...           0          346  [base, conhecimentos, sobre, compositor, john,...\n1      3343927  achar número somado 2 igual inverso” equações ...          10           65  [achar, número, somado, 2, igual, inverso, ”, ...\n4      3691951  chuva ácida fenômeno provocado poluição atmosf...          11           97  [chuva, ácida, fenômeno, provocado, poluição, ...\n6      1744035                        pagina nr 54 livro didático           7           27                  [pagina, nr, 54, livro, didático]\n7      2525602                                        chiaroscuro           0           11                                      [chiaroscuro]\n...        ...                                                ...         ...          ...                                                ...\n99994  2447693  leia reportagem responda questãosobre pergunta...           9           99  [leia, reportagem, responda, questãosobre, per...\n99995  4330761  responder questão leia trecho contoprefácio hi...           9         1458  [responder, questão, leia, trecho, contoprefác...\n99996  3249373                                  pais surgiu skate           3           17                              [pais, surgiu, skate]\n99998  4150214  machos fêmeas mosquitos gênero aedes vivem loc...           2          415  [machos, fêmeas, mosquitos, gênero, aedes, viv...\n99999  1487049  observe tabela veja quantos lanches vendidos t...          10          122  [observe, tabela, veja, quantos, lanches, vend...\n\n[75505 rows x 5 columns]",
      "text/html": "<div>\n<style scoped>\n    .dataframe tbody tr th:only-of-type {\n        vertical-align: middle;\n    }\n\n    .dataframe tbody tr th {\n        vertical-align: top;\n    }\n\n    .dataframe thead th {\n        text-align: right;\n    }\n</style>\n<table border=\"1\" class=\"dataframe\">\n  <thead>\n    <tr style=\"text-align: right;\">\n      <th></th>\n      <th>id</th>\n      <th>questions_clean</th>\n      <th>target_enc</th>\n      <th>words_count</th>\n      <th>question_tokens</th>\n    </tr>\n  </thead>\n  <tbody>\n    <tr>\n      <th>0</th>\n      <td>3486670</td>\n      <td>base conhecimentos sobre compositor john cage ...</td>\n      <td>0</td>\n      <td>346</td>\n      <td>[base, conhecimentos, sobre, compositor, john,...</td>\n    </tr>\n    <tr>\n      <th>1</th>\n      <td>3343927</td>\n      <td>achar número somado 2 igual inverso” equações ...</td>\n      <td>10</td>\n      <td>65</td>\n      <td>[achar, número, somado, 2, igual, inverso, ”, ...</td>\n    </tr>\n    <tr>\n      <th>4</th>\n      <td>3691951</td>\n      <td>chuva ácida fenômeno provocado poluição atmosf...</td>\n      <td>11</td>\n      <td>97</td>\n      <td>[chuva, ácida, fenômeno, provocado, poluição, ...</td>\n    </tr>\n    <tr>\n      <th>6</th>\n      <td>1744035</td>\n      <td>pagina nr 54 livro didático</td>\n      <td>7</td>\n      <td>27</td>\n      <td>[pagina, nr, 54, livro, didático]</td>\n    </tr>\n    <tr>\n      <th>7</th>\n      <td>2525602</td>\n      <td>chiaroscuro</td>\n      <td>0</td>\n      <td>11</td>\n      <td>[chiaroscuro]</td>\n    </tr>\n    <tr>\n      <th>...</th>\n      <td>...</td>\n      <td>...</td>\n      <td>...</td>\n      <td>...</td>\n      <td>...</td>\n    </tr>\n    <tr>\n      <th>99994</th>\n      <td>2447693</td>\n      <td>leia reportagem responda questãosobre pergunta...</td>\n      <td>9</td>\n      <td>99</td>\n      <td>[leia, reportagem, responda, questãosobre, per...</td>\n    </tr>\n    <tr>\n      <th>99995</th>\n      <td>4330761</td>\n      <td>responder questão leia trecho contoprefácio hi...</td>\n      <td>9</td>\n      <td>1458</td>\n      <td>[responder, questão, leia, trecho, contoprefác...</td>\n    </tr>\n    <tr>\n      <th>99996</th>\n      <td>3249373</td>\n      <td>pais surgiu skate</td>\n      <td>3</td>\n      <td>17</td>\n      <td>[pais, surgiu, skate]</td>\n    </tr>\n    <tr>\n      <th>99998</th>\n      <td>4150214</td>\n      <td>machos fêmeas mosquitos gênero aedes vivem loc...</td>\n      <td>2</td>\n      <td>415</td>\n      <td>[machos, fêmeas, mosquitos, gênero, aedes, viv...</td>\n    </tr>\n    <tr>\n      <th>99999</th>\n      <td>1487049</td>\n      <td>observe tabela veja quantos lanches vendidos t...</td>\n      <td>10</td>\n      <td>122</td>\n      <td>[observe, tabela, veja, quantos, lanches, vend...</td>\n    </tr>\n  </tbody>\n</table>\n<p>75505 rows × 5 columns</p>\n</div>"
     },
     "execution_count": 32,
     "metadata": {},
     "output_type": "execute_result"
    }
   ],
   "source": [
    "# tokenization\n",
    "bncc_cleaned_filtered_df[\"question_tokens\"] = bncc_cleaned_filtered_df[\n",
    "    \"questions_clean\"\n",
    "].apply(word_tokenize)\n",
    "bncc_cleaned_filtered_df"
   ],
   "metadata": {
    "collapsed": false,
    "pycharm": {
     "name": "#%%\n"
    }
   }
  },
  {
   "cell_type": "markdown",
   "source": [
    "Eu vi depois que essa poha do CountVectorizer n precisa tokenizar antes, pode jogar o texto mesmo q ele cria os tokens pro bag of words. Por isso q to dropando ae embaixo."
   ],
   "metadata": {
    "collapsed": false,
    "pycharm": {
     "name": "#%% md\n"
    }
   }
  },
  {
   "cell_type": "code",
   "execution_count": 79,
   "outputs": [],
   "source": [
    "# sklearn patterns names\n",
    "X = bncc_cleaned_filtered_df.drop(\n",
    "    [\"id\", \"words_count\", \"question_tokens\", \"target_enc\"], axis=1\n",
    ")\n",
    "y = bncc_cleaned_filtered_df[\"target_enc\"]\n",
    "X_train, X_test, y_train, y_test = model_selection.train_test_split(\n",
    "    X, y, random_state=1\n",
    ")"
   ],
   "metadata": {
    "collapsed": false,
    "pycharm": {
     "name": "#%%\n"
    }
   }
  },
  {
   "cell_type": "code",
   "execution_count": 86,
   "outputs": [
    {
     "name": "stdout",
     "output_type": "stream",
     "text": [
      "(56628, 140369) (18877, 140369)\n"
     ]
    }
   ],
   "source": [
    "# bow vect\n",
    "vectBOW = feature_extraction.text.CountVectorizer()\n",
    "X_train_trans = vectBOW.fit_transform(X_train[\"questions_clean\"])\n",
    "X_test_trans = vectBOW.transform(X_test[\"questions_clean\"])\n",
    "print(X_train_trans.shape, X_test_trans.shape)"
   ],
   "metadata": {
    "collapsed": false,
    "pycharm": {
     "name": "#%%\n"
    }
   }
  },
  {
   "cell_type": "code",
   "execution_count": 88,
   "outputs": [
    {
     "name": "stderr",
     "output_type": "stream",
     "text": [
      "/home/luba/.local/share/virtualenvs/bncc-classifier-AU87OF4y/lib/python3.9/site-packages/sklearn/linear_model/_logistic.py:814: ConvergenceWarning: lbfgs failed to converge (status=1):\n",
      "STOP: TOTAL NO. of ITERATIONS REACHED LIMIT.\n",
      "\n",
      "Increase the number of iterations (max_iter) or scale the data as shown in:\n",
      "    https://scikit-learn.org/stable/modules/preprocessing.html\n",
      "Please also refer to the documentation for alternative solver options:\n",
      "    https://scikit-learn.org/stable/modules/linear_model.html#logistic-regression\n",
      "  n_iter_i = _check_optimize_result(\n"
     ]
    }
   ],
   "source": [
    "logreg = linear_model.LogisticRegression(class_weight=\"balanced\")\n",
    "logreg.fit(X_train_trans, y_train)\n",
    "y_pred_class = logreg.predict(X_test_trans)"
   ],
   "metadata": {
    "collapsed": false,
    "pycharm": {
     "name": "#%%\n"
    }
   }
  },
  {
   "cell_type": "code",
   "execution_count": 91,
   "outputs": [
    {
     "name": "stdout",
     "output_type": "stream",
     "text": [
      "              precision    recall  f1-score   support\n",
      "\n",
      "           0       0.72      0.77      0.74       928\n",
      "           1       0.64      0.65      0.64       748\n",
      "           2       0.61      0.63      0.62      1755\n",
      "           3       0.69      0.78      0.73       562\n",
      "           4       0.29      0.50      0.37       105\n",
      "           5       0.88      0.86      0.87      1382\n",
      "           6       0.77      0.75      0.76      2273\n",
      "           7       0.81      0.78      0.79      2284\n",
      "           8       0.87      0.89      0.88      2021\n",
      "           9       0.86      0.84      0.85      2928\n",
      "          10       0.90      0.88      0.89      3057\n",
      "          11       0.80      0.76      0.78       834\n",
      "\n",
      "    accuracy                           0.80     18877\n",
      "   macro avg       0.74      0.76      0.74     18877\n",
      "weighted avg       0.80      0.80      0.80     18877\n",
      "\n"
     ]
    }
   ],
   "source": [
    "print(metrics.classification_report(y_test, y_pred_class))"
   ],
   "metadata": {
    "collapsed": false,
    "pycharm": {
     "name": "#%%\n"
    }
   }
  },
  {
   "cell_type": "code",
   "execution_count": 95,
   "outputs": [
    {
     "data": {
      "text/plain": "target_enc\n10            12148\n9             11794\n6              9201\n7              9012\n8              7963\n2              7046\n5              5500\n0              3646\n11             3241\n1              3124\n3              2365\n4               465\ndtype: int64"
     },
     "execution_count": 95,
     "metadata": {},
     "output_type": "execute_result"
    }
   ],
   "source": [
    "bncc_cleaned_filtered_df.value_counts([\"target_enc\"])"
   ],
   "metadata": {
    "collapsed": false,
    "pycharm": {
     "name": "#%%\n"
    }
   }
  },
  {
   "cell_type": "code",
   "execution_count": 96,
   "outputs": [
    {
     "data": {
      "text/plain": "array(['Arte', 'Biologia', 'Ciências', 'Educação Física',\n       'Ensino Religioso', 'Física', 'Geografia', 'História', 'Inglês',\n       'Língua Portuguesa', 'Matemática', 'Química'], dtype=object)"
     },
     "execution_count": 96,
     "metadata": {},
     "output_type": "execute_result"
    }
   ],
   "source": [
    "lb_enc.classes_"
   ],
   "metadata": {
    "collapsed": false,
    "pycharm": {
     "name": "#%%\n"
    }
   }
  },
  {
   "cell_type": "code",
   "execution_count": null,
   "outputs": [],
   "source": [],
   "metadata": {
    "collapsed": false,
    "pycharm": {
     "name": "#%%\n"
    }
   }
  },
  {
   "cell_type": "code",
   "execution_count": null,
   "outputs": [],
   "source": [],
   "metadata": {
    "collapsed": false,
    "pycharm": {
     "name": "#%%\n"
    }
   }
  },
  {
   "cell_type": "code",
   "execution_count": null,
   "outputs": [],
   "source": [],
   "metadata": {
    "collapsed": false,
    "pycharm": {
     "name": "#%%\n"
    }
   }
  },
  {
   "cell_type": "code",
   "execution_count": null,
   "outputs": [],
   "source": [],
   "metadata": {
    "collapsed": false,
    "pycharm": {
     "name": "#%%\n"
    }
   }
  },
  {
   "cell_type": "code",
   "execution_count": null,
   "outputs": [],
   "source": [],
   "metadata": {
    "collapsed": false,
    "pycharm": {
     "name": "#%%\n"
    }
   }
  },
  {
   "cell_type": "code",
   "execution_count": null,
   "outputs": [],
   "source": [],
   "metadata": {
    "collapsed": false,
    "pycharm": {
     "name": "#%%\n"
    }
   }
  },
  {
   "cell_type": "code",
   "execution_count": null,
   "outputs": [],
   "source": [],
   "metadata": {
    "collapsed": false,
    "pycharm": {
     "name": "#%%\n"
    }
   }
  },
  {
   "cell_type": "code",
   "execution_count": null,
   "outputs": [],
   "source": [],
   "metadata": {
    "collapsed": false,
    "pycharm": {
     "name": "#%%\n"
    }
   }
  }
 ],
 "metadata": {
  "interpreter": {
   "hash": "a3af3214af4e872b3161d3c6a3bffbd99bf6587232dec24ec6e7026b16ba81c0"
  },
  "kernelspec": {
   "display_name": "Python 3.9.10 ('bncc-classifier-Qtat0hV3')",
   "language": "python",
   "name": "python3"
  },
  "language_info": {
   "codemirror_mode": {
    "name": "ipython",
    "version": 3
   },
   "file_extension": ".py",
   "mimetype": "text/x-python",
   "name": "python",
   "nbconvert_exporter": "python",
   "pygments_lexer": "ipython3",
   "version": "3.9.10"
  },
  "orig_nbformat": 4
 },
 "nbformat": 4,
 "nbformat_minor": 2
}
