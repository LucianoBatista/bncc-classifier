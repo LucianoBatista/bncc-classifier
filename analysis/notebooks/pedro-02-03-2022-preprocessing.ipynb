{
 "cells": [
  {
   "cell_type": "markdown",
   "metadata": {},
   "source": [
    "# Dataset pre processing"
   ]
  },
  {
   "cell_type": "markdown",
   "metadata": {},
   "source": [
    "This notbook focuses on the bncc dataset pre processing aiming the training of a classification model for \"etapa do conhecimento\" prediction"
   ]
  },
  {
   "cell_type": "code",
   "execution_count": 89,
   "metadata": {},
   "outputs": [],
   "source": [
    "import html\n",
    "\n",
    "import pandas as pd\n",
    "from nltk.tokenize import word_tokenize\n",
    "from sklearn import (\n",
    "    feature_extraction,\n",
    "    linear_model,\n",
    "    metrics,\n",
    "    model_selection,\n",
    "    preprocessing,\n",
    ")\n",
    "\n",
    "from src.data_preprocessing import cleaning"
   ]
  },
  {
   "cell_type": "code",
   "execution_count": 2,
   "metadata": {},
   "outputs": [],
   "source": [
    "pd.set_option(\"display.max_rows\", 1000)\n",
    "pd.set_option(\"display.max_columns\", 1000)\n",
    "pd.set_option(\"display.width\", 1000)"
   ]
  },
  {
   "cell_type": "markdown",
   "metadata": {},
   "source": [
    "## Selecting and filtering the features that will be used in the model"
   ]
  },
  {
   "cell_type": "code",
   "execution_count": 3,
   "metadata": {},
   "outputs": [],
   "source": [
    "# Importing Data\n",
    "df_bncc = pd.read_csv(\"../../data/raw/bncc_first_classifier.csv\")"
   ]
  },
  {
   "cell_type": "code",
   "execution_count": 4,
   "metadata": {},
   "outputs": [
    {
     "data": {
      "text/html": [
       "<div>\n",
       "<style scoped>\n",
       "    .dataframe tbody tr th:only-of-type {\n",
       "        vertical-align: middle;\n",
       "    }\n",
       "\n",
       "    .dataframe tbody tr th {\n",
       "        vertical-align: top;\n",
       "    }\n",
       "\n",
       "    .dataframe thead th {\n",
       "        text-align: right;\n",
       "    }\n",
       "</style>\n",
       "<table border=\"1\" class=\"dataframe\">\n",
       "  <thead>\n",
       "    <tr style=\"text-align: right;\">\n",
       "      <th></th>\n",
       "      <th>id</th>\n",
       "      <th>question</th>\n",
       "      <th>bulletType</th>\n",
       "      <th>name</th>\n",
       "      <th>slug</th>\n",
       "      <th>name.1</th>\n",
       "      <th>slug.1</th>\n",
       "      <th>name.2</th>\n",
       "    </tr>\n",
       "  </thead>\n",
       "  <tbody>\n",
       "    <tr>\n",
       "      <th>0</th>\n",
       "      <td>3486670</td>\n",
       "      <td>&lt;p&gt;Com base em seus conhecimentos sobre o comp...</td>\n",
       "      <td>2</td>\n",
       "      <td>História da Arte</td>\n",
       "      <td>historia-da-arte</td>\n",
       "      <td>Arte</td>\n",
       "      <td>arte</td>\n",
       "      <td>Fundamental II</td>\n",
       "    </tr>\n",
       "    <tr>\n",
       "      <th>1</th>\n",
       "      <td>3343927</td>\n",
       "      <td>&lt;p&gt;&amp;ldquo;Achar um n&amp;uacute;mero que, somado c...</td>\n",
       "      <td>2</td>\n",
       "      <td>Álgebra: Equações do 2º grau: Equação do 2º gr...</td>\n",
       "      <td>algebra-equacoes-do-2o-grau-equacao-do-2o-grau...</td>\n",
       "      <td>Matemática</td>\n",
       "      <td>matematica</td>\n",
       "      <td>Fundamental II</td>\n",
       "    </tr>\n",
       "    <tr>\n",
       "      <th>2</th>\n",
       "      <td>1927600</td>\n",
       "      <td>&lt;p&gt;2. Complete os espaços abaixo com os artigo...</td>\n",
       "      <td>4</td>\n",
       "      <td>Outros</td>\n",
       "      <td>outros</td>\n",
       "      <td>Espanhol</td>\n",
       "      <td>espanhol</td>\n",
       "      <td>Fundamental II</td>\n",
       "    </tr>\n",
       "    <tr>\n",
       "      <th>3</th>\n",
       "      <td>106855</td>\n",
       "      <td>&lt;p&gt;&lt;div&gt; A respeito dos serviços públicos e da...</td>\n",
       "      <td>2</td>\n",
       "      <td>Responsabilidade Civil do Estado</td>\n",
       "      <td>responsabilidade-civil-do-estado</td>\n",
       "      <td>Direito Administrativo</td>\n",
       "      <td>direito-administrativo</td>\n",
       "      <td>Concurso</td>\n",
       "    </tr>\n",
       "    <tr>\n",
       "      <th>4</th>\n",
       "      <td>3691951</td>\n",
       "      <td>&lt;p style=\"padding:0px;margin:10px 0px 0px;outl...</td>\n",
       "      <td>2</td>\n",
       "      <td>Outros</td>\n",
       "      <td>outros</td>\n",
       "      <td>Química</td>\n",
       "      <td>quimica</td>\n",
       "      <td>Fundamental II</td>\n",
       "    </tr>\n",
       "  </tbody>\n",
       "</table>\n",
       "</div>"
      ],
      "text/plain": [
       "        id                                           question  bulletType                                               name                                               slug                  name.1                  slug.1          name.2\n",
       "0  3486670  <p>Com base em seus conhecimentos sobre o comp...           2                                   História da Arte                                   historia-da-arte                    Arte                    arte  Fundamental II\n",
       "1  3343927  <p>&ldquo;Achar um n&uacute;mero que, somado c...           2  Álgebra: Equações do 2º grau: Equação do 2º gr...  algebra-equacoes-do-2o-grau-equacao-do-2o-grau...              Matemática              matematica  Fundamental II\n",
       "2  1927600  <p>2. Complete os espaços abaixo com os artigo...           4                                             Outros                                             outros                Espanhol                espanhol  Fundamental II\n",
       "3   106855  <p><div> A respeito dos serviços públicos e da...           2                   Responsabilidade Civil do Estado                   responsabilidade-civil-do-estado  Direito Administrativo  direito-administrativo        Concurso\n",
       "4  3691951  <p style=\"padding:0px;margin:10px 0px 0px;outl...           2                                             Outros                                             outros                 Química                 quimica  Fundamental II"
      ]
     },
     "execution_count": 4,
     "metadata": {},
     "output_type": "execute_result"
    }
   ],
   "source": [
    "# Making a copy of the dataset and visualizing it\n",
    "df_bncc_copy = df_bncc.copy()\n",
    "\n",
    "df_bncc_copy.head()"
   ]
  },
  {
   "cell_type": "code",
   "execution_count": 5,
   "metadata": {},
   "outputs": [
    {
     "data": {
      "text/html": [
       "<div>\n",
       "<style scoped>\n",
       "    .dataframe tbody tr th:only-of-type {\n",
       "        vertical-align: middle;\n",
       "    }\n",
       "\n",
       "    .dataframe tbody tr th {\n",
       "        vertical-align: top;\n",
       "    }\n",
       "\n",
       "    .dataframe thead th {\n",
       "        text-align: right;\n",
       "    }\n",
       "</style>\n",
       "<table border=\"1\" class=\"dataframe\">\n",
       "  <thead>\n",
       "    <tr style=\"text-align: right;\">\n",
       "      <th></th>\n",
       "      <th>id</th>\n",
       "      <th>question</th>\n",
       "      <th>name.1</th>\n",
       "    </tr>\n",
       "  </thead>\n",
       "  <tbody>\n",
       "    <tr>\n",
       "      <th>0</th>\n",
       "      <td>3486670</td>\n",
       "      <td>&lt;p&gt;Com base em seus conhecimentos sobre o comp...</td>\n",
       "      <td>Arte</td>\n",
       "    </tr>\n",
       "    <tr>\n",
       "      <th>1</th>\n",
       "      <td>3343927</td>\n",
       "      <td>&lt;p&gt;&amp;ldquo;Achar um n&amp;uacute;mero que, somado c...</td>\n",
       "      <td>Matemática</td>\n",
       "    </tr>\n",
       "    <tr>\n",
       "      <th>2</th>\n",
       "      <td>1927600</td>\n",
       "      <td>&lt;p&gt;2. Complete os espaços abaixo com os artigo...</td>\n",
       "      <td>Espanhol</td>\n",
       "    </tr>\n",
       "    <tr>\n",
       "      <th>3</th>\n",
       "      <td>106855</td>\n",
       "      <td>&lt;p&gt;&lt;div&gt; A respeito dos serviços públicos e da...</td>\n",
       "      <td>Direito Administrativo</td>\n",
       "    </tr>\n",
       "    <tr>\n",
       "      <th>4</th>\n",
       "      <td>3691951</td>\n",
       "      <td>&lt;p style=\"padding:0px;margin:10px 0px 0px;outl...</td>\n",
       "      <td>Química</td>\n",
       "    </tr>\n",
       "  </tbody>\n",
       "</table>\n",
       "</div>"
      ],
      "text/plain": [
       "        id                                           question                  name.1\n",
       "0  3486670  <p>Com base em seus conhecimentos sobre o comp...                    Arte\n",
       "1  3343927  <p>&ldquo;Achar um n&uacute;mero que, somado c...              Matemática\n",
       "2  1927600  <p>2. Complete os espaços abaixo com os artigo...                Espanhol\n",
       "3   106855  <p><div> A respeito dos serviços públicos e da...  Direito Administrativo\n",
       "4  3691951  <p style=\"padding:0px;margin:10px 0px 0px;outl...                 Química"
      ]
     },
     "execution_count": 5,
     "metadata": {},
     "output_type": "execute_result"
    }
   ],
   "source": [
    "# Dropping unuseful columns\n",
    "df_bncc_copy = df_bncc_copy[[\"id\", \"question\", \"name.1\"]]\n",
    "\n",
    "df_bncc_copy.head()"
   ]
  },
  {
   "cell_type": "code",
   "execution_count": 6,
   "metadata": {},
   "outputs": [
    {
     "data": {
      "text/html": [
       "<div>\n",
       "<style scoped>\n",
       "    .dataframe tbody tr th:only-of-type {\n",
       "        vertical-align: middle;\n",
       "    }\n",
       "\n",
       "    .dataframe tbody tr th {\n",
       "        vertical-align: top;\n",
       "    }\n",
       "\n",
       "    .dataframe thead th {\n",
       "        text-align: right;\n",
       "    }\n",
       "</style>\n",
       "<table border=\"1\" class=\"dataframe\">\n",
       "  <thead>\n",
       "    <tr style=\"text-align: right;\">\n",
       "      <th></th>\n",
       "      <th>id</th>\n",
       "      <th>questions</th>\n",
       "      <th>target</th>\n",
       "    </tr>\n",
       "  </thead>\n",
       "  <tbody>\n",
       "    <tr>\n",
       "      <th>0</th>\n",
       "      <td>3486670</td>\n",
       "      <td>&lt;p&gt;Com base em seus conhecimentos sobre o comp...</td>\n",
       "      <td>Arte</td>\n",
       "    </tr>\n",
       "    <tr>\n",
       "      <th>1</th>\n",
       "      <td>3343927</td>\n",
       "      <td>&lt;p&gt;&amp;ldquo;Achar um n&amp;uacute;mero que, somado c...</td>\n",
       "      <td>Matemática</td>\n",
       "    </tr>\n",
       "    <tr>\n",
       "      <th>2</th>\n",
       "      <td>1927600</td>\n",
       "      <td>&lt;p&gt;2. Complete os espaços abaixo com os artigo...</td>\n",
       "      <td>Espanhol</td>\n",
       "    </tr>\n",
       "  </tbody>\n",
       "</table>\n",
       "</div>"
      ],
      "text/plain": [
       "        id                                          questions      target\n",
       "0  3486670  <p>Com base em seus conhecimentos sobre o comp...        Arte\n",
       "1  3343927  <p>&ldquo;Achar um n&uacute;mero que, somado c...  Matemática\n",
       "2  1927600  <p>2. Complete os espaços abaixo com os artigo...    Espanhol"
      ]
     },
     "execution_count": 6,
     "metadata": {},
     "output_type": "execute_result"
    }
   ],
   "source": [
    "# Renaming dataset columns\n",
    "df_bncc_copy.columns = [\"id\", \"questions\", \"target\"]\n",
    "\n",
    "df_bncc_copy.head(3)"
   ]
  },
  {
   "cell_type": "code",
   "execution_count": 7,
   "metadata": {},
   "outputs": [
    {
     "data": {
      "text/plain": [
       "Matemática                                                                                                 12539\n",
       "Língua Portuguesa                                                                                          11887\n",
       "Geografia                                                                                                   9266\n",
       "História                                                                                                    9072\n",
       "Inglês                                                                                                      8103\n",
       "Ciências                                                                                                    7099\n",
       "Física                                                                                                      5537\n",
       "Filosofia                                                                                                   3728\n",
       "Arte                                                                                                        3681\n",
       "Química                                                                                                     3276\n",
       "Biologia                                                                                                    3133\n",
       "Educação Física                                                                                             2386\n",
       "Espanhol                                                                                                    2294\n",
       "Literatura                                                                                                  2211\n",
       "Outros                                                                                                      1522\n",
       "Sociologia                                                                                                  1410\n",
       "Português                                                                                                   1221\n",
       "Redação                                                                                                     1035\n",
       "Direito Administrativo                                                                                       494\n",
       "Ensino Religioso                                                                                             468\n",
       "Medicina                                                                                                     403\n",
       "Produção de Texto                                                                                            371\n",
       "Direito Constitucional                                                                                       327\n",
       "Enfermagem                                                                                                   295\n",
       "Noções De Informática                                                                                        287\n",
       "Pedagogia                                                                                                    253\n",
       "Odontologia                                                                                                  231\n",
       "Direito Penal                                                                                                203\n",
       "Psicologia                                                                                                   202\n",
       "Não Classificada                                                                                             202\n",
       "Não Definido                                                                                                 194\n",
       "Contabilidade Geral                                                                                          180\n",
       "Administração Geral                                                                                          175\n",
       "Engenharia Civil                                                                                             163\n",
       "Serviço Social                                                                                               158\n",
       "Raciocínio Lógico                                                                                            157\n",
       "Atualidades                                                                                                  153\n",
       "Direito Civil                                                                                                139\n",
       "Direito Processual Civil - Cpc 1973                                                                          138\n",
       "Redes De Computadores                                                                                        138\n",
       "Banco De Dados                                                                                               127\n",
       "Administração Financeira E Orçamentária                                                                      126\n",
       "Arquivologia                                                                                                 126\n",
       "Contabilidade Pública                                                                                        125\n",
       "Segurança E Saúde No Trabalho                                                                                118\n",
       "Engenharia Elétrica                                                                                          116\n",
       "Direito Tributário                                                                                           106\n",
       "Direito Do Trabalho                                                                                          102\n",
       "Direito Processual Penal                                                                                     101\n",
       "Biblioteconomia                                                                                               99\n",
       "Legislação Estadual                                                                                           99\n",
       "Gestão De Pessoas                                                                                             98\n",
       "Programação                                                                                                   94\n",
       "Farmácia                                                                                                      92\n",
       "Economia                                                                                                      87\n",
       "Direito Empresarial (comercial)                                                                               83\n",
       "Engenharia De Software                                                                                        82\n",
       "Engenharia Mecânica                                                                                           80\n",
       "Arquitetura                                                                                                   79\n",
       "Direito Processual Do Trabalho                                                                                77\n",
       "Comunicação Social                                                                                            76\n",
       "Administração Pública                                                                                         75\n",
       "Estatística                                                                                                   73\n",
       "Segurança Da Informação                                                                                       72\n",
       "Direito Sanitário                                                                                             71\n",
       "Nutrição                                                                                                      68\n",
       "Sistemas Operacionais                                                                                         67\n",
       "Fisioterapia                                                                                                  65\n",
       "Legislação Federal                                                                                            64\n",
       "Conhecimentos Gerais                                                                                          63\n",
       "Radiologia                                                                                                    63\n",
       "Direito Ambiental                                                                                             62\n",
       "Redação Oficial                                                                                               60\n",
       "Medicina Do Trabalho                                                                                          54\n",
       "Desenho Geométrico                                                                                            53\n",
       "Legislação Municipal                                                                                          52\n",
       "Direito Previdenciário                                                                                        51\n",
       "Governança De Ti                                                                                              50\n",
       "Jornalismo                                                                                                    49\n",
       "Direito Processual Civil - Novo Código De Processo Civil - Cpc 2015                                           49\n",
       "Direito Financeiro                                                                                            48\n",
       "Direito Notarial E Registral                                                                                  47\n",
       "Matemática Financeira                                                                                         47\n",
       "História E Geografia De Estados E Municípios                                                                  47\n",
       "Administração De Recursos Materiais                                                                           47\n",
       "Veterinária                                                                                                   46\n",
       "Direitos Humanos                                                                                              44\n",
       "Direito Da Criança E Do Adolescente - Estatuto Da Criança E Do Adolescente (eca) - Lei Nº 8.069 De 1990       43\n",
       "Auditoria                                                                                                     42\n",
       "Princípios, Normas E Atribuições Institucionais                                                               40\n",
       "Arquitetura De Computadores                                                                                   36\n",
       "Medicina Legal                                                                                                36\n",
       "Regimento Interno                                                                                             36\n",
       "Arquitetura De Software                                                                                       34\n",
       "Ciências Humanas                                                                                              33\n",
       "Direito Eleitoral                                                                                             31\n",
       "Direito Do Consumidor                                                                                         31\n",
       "Gerência De Projetos                                                                                          29\n",
       "Eletrônica                                                                                                    29\n",
       "Teologia                                                                                                      28\n",
       "Análises Clínicas                                                                                             28\n",
       "Engenharia Agronômica (agronomia)                                                                             27\n",
       "Relações Públicas                                                                                             27\n",
       "Mecânica                                                                                                      25\n",
       "Biomedicina                                                                                                   25\n",
       "Alemão                                                                                                        25\n",
       "Conhecimentos Bancários                                                                                       25\n",
       "Técnicas Em Laboratório                                                                                       25\n",
       "Auditoria Governamental                                                                                       23\n",
       "Legislação De Trânsito                                                                                        23\n",
       "ética Na Administração Pública                                                                                23\n",
       "Legislação Dos Tribunais De Justiça (tjs)                                                                     23\n",
       "Edificações                                                                                                   23\n",
       "Direito Internacional Público                                                                                 21\n",
       "Engenharia Eletrônica                                                                                         21\n",
       "Psiquiatria                                                                                                   21\n",
       "Direito Urbanístico                                                                                           21\n",
       "Análise De Balanços                                                                                           20\n",
       "Meio Ambiente                                                                                                 20\n",
       "Francês                                                                                                       20\n",
       "Engenharia Ambiental                                                                                          19\n",
       "Fonoaudiologia                                                                                                17\n",
       "Contabilidade De Custos                                                                                       16\n",
       "Algoritmos E Estrutura De Dados                                                                               16\n",
       "Música                                                                                                        15\n",
       "Telecomunicações                                                                                              15\n",
       "Terapia Ocupacional                                                                                           15\n",
       "Engenharia Cartográfica E Cartografia                                                                         14\n",
       "Modelagem De Processos De Negócio (bpm)                                                                       13\n",
       "Secretariado                                                                                                  13\n",
       "Eletrotécnica                                                                                                 13\n",
       "Legislação Do Ministério Público                                                                              12\n",
       "Atendimento Ao Público                                                                                        12\n",
       "Direito Penal Militar                                                                                         12\n",
       "Auditoria De Obras Públicas                                                                                   12\n",
       "áudio E Vídeo                                                                                                 12\n",
       "Ciências Biológicas                                                                                           12\n",
       "Controle Externo                                                                                              12\n",
       "Engenharia Química E Química Industrial                                                                       12\n",
       "Italiano                                                                                                      11\n",
       "Estatuto Do Idoso (lei Nº 10.741, De 1º De Outubro De 2003)                                                   11\n",
       "Saúde Pública                                                                                                 11\n",
       "Direito Agrário                                                                                               11\n",
       "Técnicas Em Topografia                                                                                        11\n",
       "Geologia                                                                                                      11\n",
       "Logística                                                                                                     10\n",
       "Engenharia De Telecomunicações                                                                                10\n",
       "Bioquímica                                                                                                    10\n",
       "Direito Econômico                                                                                             10\n",
       "Patologia                                                                                                      9\n",
       "Legislação Dos Trfs, Stj, Stf E Cnj                                                                            9\n",
       "Educação Artística                                                                                             9\n",
       "Mecânica De Autos                                                                                              9\n",
       "Técnicas Em Prótese Dentária                                                                                   9\n",
       "Desenho Industrial                                                                                             9\n",
       "Designer Gráfico                                                                                               9\n",
       "Estatuto Da Advocacia E Da Oab, Regulamento Geral E Código De ética E Disciplina Da Oab                        9\n",
       "Técnicas Administrativas                                                                                       8\n",
       "Engenharia De Produção                                                                                         8\n",
       "Eletricidade                                                                                                   8\n",
       "Segurança Pública                                                                                              8\n",
       "Design Gráfico                                                                                                 8\n",
       "Metalurgia                                                                                                     8\n",
       "Segurança E Transporte                                                                                         7\n",
       "Marketing                                                                                                      7\n",
       "Meteorologia                                                                                                   7\n",
       "Criminalística                                                                                                 7\n",
       "Comércio Internacional (exterior)                                                                              7\n",
       "Conhecimentos De Serviços Gerais                                                                               6\n",
       "Política Internacional                                                                                         6\n",
       "Artes Gráficas                                                                                                 6\n",
       "Engenharia Aeronáutica                                                                                         6\n",
       "Desenho Técnico                                                                                                5\n",
       "Engenharia De Qualidade                                                                                        5\n",
       "Criminologia                                                                                                   5\n",
       "Arqueologia                                                                                                    5\n",
       "Hidrologia                                                                                                     5\n",
       "Engenharia Florestal                                                                                           5\n",
       "Eletrônica Digital                                                                                             5\n",
       "Noções De Telecomunicações                                                                                     4\n",
       "Ciência Política                                                                                               4\n",
       "Artes Visuais                                                                                                  4\n",
       "Cartografia                                                                                                    4\n",
       "Operações Portuárias                                                                                           4\n",
       "Automação Pneumática e Hidráulica                                                                              4\n",
       "Sistemas De Informação                                                                                         4\n",
       "Papiloscopia                                                                                                   4\n",
       "Filosofia Do Direito                                                                                           4\n",
       "Dispositivos Móveis                                                                                            4\n",
       "Engenharia De Pesca                                                                                            4\n",
       "Legislação Dos Tribunais Do Trabalho (tst E Trts)                                                              4\n",
       "Museologia                                                                                                     4\n",
       "Fundamentos de Programação                                                                                     4\n",
       "Estatuto Do Idoso - Lei Nº 10.741 De 2003                                                                      4\n",
       "Ciências Navais                                                                                                3\n",
       "Atuária                                                                                                        3\n",
       "Química Industrial                                                                                             3\n",
       "Direito Processual Penal Militar                                                                               3\n",
       "Engenharia De Agrimensura                                                                                      3\n",
       "Biossegurança                                                                                                  3\n",
       "Artes Plásticas                                                                                                3\n",
       "Engenharia Química                                                                                             3\n",
       "Legislação Da Agu                                                                                              3\n",
       "Interpretação - Libras                                                                                         3\n",
       "Eletrônica Industrial                                                                                          3\n",
       "Agrimensura                                                                                                    3\n",
       "Direito Marítimo                                                                                               3\n",
       "Direito Internacional Privado                                                                                  3\n",
       "Engenharia Ambiental E Sanitária                                                                               3\n",
       "Antropologia                                                                                                   3\n",
       "Engenharia De Petróleo                                                                                         3\n",
       "Engenharia Cartográfica                                                                                        3\n",
       "Tecnologias Industriais                                                                                        3\n",
       "Microcontroladores                                                                                             3\n",
       "Segurança                                                                                                      3\n",
       "Geral                                                                                                          2\n",
       "Metrologia                                                                                                     2\n",
       "Engenharia Hidráulica                                                                                          2\n",
       "Engenharia Clínica                                                                                             2\n",
       "órtese E Prótese                                                                                               2\n",
       "Eletrônica de Potência                                                                                         2\n",
       "Eletrônica II                                                                                                  2\n",
       "Eletricidade I                                                                                                 2\n",
       "Lógica e Técnica de Programação                                                                                2\n",
       "Psicologia Jurídica                                                                                            2\n",
       "Engenharia Sanitária                                                                                           2\n",
       "Atendimento (escriturário)                                                                                     2\n",
       "Oceanografia Geológica                                                                                         2\n",
       "Análise e Projeto de Sistemas                                                                                  2\n",
       "Engenharia Biomédica                                                                                           2\n",
       "Organização Da Justiça Militar Da União                                                                        2\n",
       "Organização, Normas e Segurança do Trabalho                                                                    2\n",
       "Engenharia De Minas                                                                                            2\n",
       "Sistema Elétrico Brasileiro                                                                                    2\n",
       "Noções De Primeiros Socorros                                                                                   2\n",
       "Controlador Lógico Programável                                                                                 1\n",
       "Legislação Da Justiça Militar                                                                                  1\n",
       "Arquitetura de Computadores e Suporte                                                                          1\n",
       "Legislação Da Defensoria Pública                                                                               1\n",
       "Zootecnia                                                                                                      1\n",
       "Engenharia Naval                                                                                               1\n",
       "Estatuto Da Pessoa Com Deficiência - Lei Nº 13.146 De 2015                                                     1\n",
       "Front-End                                                                                                      1\n",
       "Turismo                                                                                                        1\n",
       "User Experience                                                                                                1\n",
       "Legislação De Seguros                                                                                          1\n",
       "Estatuto Da Pessoa Com Deficiência                                                                             1\n",
       "Tecnologia Em Produção Gráfica                                                                                 1\n",
       "Programação Web                                                                                                1\n",
       "Tecnologia Educacional                                                                                         1\n",
       "Direito De Família                                                                                             1\n",
       "Legislação Da Prf                                                                                              1\n",
       "Engenharia Mecatrônica                                                                                         1\n",
       "Linguagem de Programação II                                                                                    1\n",
       "Eletromecânica                                                                                                 1\n",
       "Ciência E Tecnologia                                                                                           1\n",
       "Legislação dos Tribunais de Contas (TCU, TCEs e TCMs) e Ministérios Públicos de Contas                         1\n",
       "Engenharia Agrícola                                                                                            1\n",
       "Vestuário                                                                                                      1\n",
       "Instrumentação Industrial                                                                                      1\n",
       "Matemática Atuarial                                                                                            1\n",
       "Instalação e Manutenção de Computadores                                                                        1\n",
       "Legislação Dos Tribunais Eleitorais (tse E Tres)                                                               1\n",
       "Engenharia                                                                                                     1\n",
       "Língua inglesa                                                                                                 1\n",
       "Name: target, dtype: int64"
      ]
     },
     "execution_count": 7,
     "metadata": {},
     "output_type": "execute_result"
    }
   ],
   "source": [
    "# Observing the classes of the target to drop, aiming to comprehend only the topics of bncc\n",
    "df_bncc_copy[\"target\"].value_counts()"
   ]
  },
  {
   "cell_type": "code",
   "execution_count": 8,
   "metadata": {},
   "outputs": [
    {
     "data": {
      "text/plain": [
       "(100000, 3)"
      ]
     },
     "execution_count": 8,
     "metadata": {},
     "output_type": "execute_result"
    }
   ],
   "source": [
    "df_bncc_copy.shape"
   ]
  },
  {
   "cell_type": "code",
   "execution_count": 9,
   "metadata": {},
   "outputs": [],
   "source": [
    "# Selecting observations which are the target are included on BNCC\n",
    "df_bncc_copy_targets_bncc = df_bncc_copy.loc[\n",
    "    df_bncc_copy[\"target\"].isin(\n",
    "        [\n",
    "            \"Língua Portuguesa\",\n",
    "            \"Arte\",\n",
    "            \"Educação Física\",\n",
    "            \"Inglês\",\n",
    "            \"Matemática\",\n",
    "            \"Ciências\",\n",
    "            \"Geografia\",\n",
    "            \"História\",\n",
    "            \"Ensino Religioso\",\n",
    "            \"Biologia\",\n",
    "            \"Física\",\n",
    "            \"Química\",\n",
    "        ]\n",
    "    )\n",
    "]"
   ]
  },
  {
   "cell_type": "markdown",
   "metadata": {},
   "source": [
    "Obs: in the setp of making the final solution, we must observe if the Topic of knowledge fits with the Setp of knowledge predicted.\n",
    "For exemple: if the first code was EM, than, the topic must be Ciências Humanas\n",
    "else EF , than the topic must be Geografia (or other in Cências Humanas)"
   ]
  },
  {
   "cell_type": "code",
   "execution_count": 10,
   "metadata": {},
   "outputs": [
    {
     "data": {
      "text/html": [
       "<div>\n",
       "<style scoped>\n",
       "    .dataframe tbody tr th:only-of-type {\n",
       "        vertical-align: middle;\n",
       "    }\n",
       "\n",
       "    .dataframe tbody tr th {\n",
       "        vertical-align: top;\n",
       "    }\n",
       "\n",
       "    .dataframe thead th {\n",
       "        text-align: right;\n",
       "    }\n",
       "</style>\n",
       "<table border=\"1\" class=\"dataframe\">\n",
       "  <thead>\n",
       "    <tr style=\"text-align: right;\">\n",
       "      <th></th>\n",
       "      <th>id</th>\n",
       "      <th>questions</th>\n",
       "      <th>target</th>\n",
       "    </tr>\n",
       "  </thead>\n",
       "  <tbody>\n",
       "    <tr>\n",
       "      <th>0</th>\n",
       "      <td>3486670</td>\n",
       "      <td>&lt;p&gt;Com base em seus conhecimentos sobre o comp...</td>\n",
       "      <td>Arte</td>\n",
       "    </tr>\n",
       "    <tr>\n",
       "      <th>1</th>\n",
       "      <td>3343927</td>\n",
       "      <td>&lt;p&gt;&amp;ldquo;Achar um n&amp;uacute;mero que, somado c...</td>\n",
       "      <td>Matemática</td>\n",
       "    </tr>\n",
       "    <tr>\n",
       "      <th>4</th>\n",
       "      <td>3691951</td>\n",
       "      <td>&lt;p style=\"padding:0px;margin:10px 0px 0px;outl...</td>\n",
       "      <td>Química</td>\n",
       "    </tr>\n",
       "    <tr>\n",
       "      <th>6</th>\n",
       "      <td>1744035</td>\n",
       "      <td>&lt;p&gt;Pagina nr. 54 do Livro did&amp;aacute;tico.&lt;/p&gt;</td>\n",
       "      <td>História</td>\n",
       "    </tr>\n",
       "    <tr>\n",
       "      <th>7</th>\n",
       "      <td>2525602</td>\n",
       "      <td>&lt;p&gt;O que &amp;eacute; CHIAROSCURO?&lt;/p&gt;</td>\n",
       "      <td>Arte</td>\n",
       "    </tr>\n",
       "    <tr>\n",
       "      <th>...</th>\n",
       "      <td>...</td>\n",
       "      <td>...</td>\n",
       "      <td>...</td>\n",
       "    </tr>\n",
       "    <tr>\n",
       "      <th>99994</th>\n",
       "      <td>2447693</td>\n",
       "      <td>&lt;p&gt;Leia a reportagem e responda a quest&amp;atilde...</td>\n",
       "      <td>Língua Portuguesa</td>\n",
       "    </tr>\n",
       "    <tr>\n",
       "      <th>99995</th>\n",
       "      <td>4330761</td>\n",
       "      <td>&lt;p&gt;Para responder à questão, leia o trecho do ...</td>\n",
       "      <td>Língua Portuguesa</td>\n",
       "    </tr>\n",
       "    <tr>\n",
       "      <th>99996</th>\n",
       "      <td>3249373</td>\n",
       "      <td>&lt;h1 style=\"list-style:none;margin:0px 0px 20px...</td>\n",
       "      <td>Educação Física</td>\n",
       "    </tr>\n",
       "    <tr>\n",
       "      <th>99998</th>\n",
       "      <td>4150214</td>\n",
       "      <td>&lt;p&gt;Os machos e fêmeas de mosquitos do gênero &lt;...</td>\n",
       "      <td>Ciências</td>\n",
       "    </tr>\n",
       "    <tr>\n",
       "      <th>99999</th>\n",
       "      <td>1487049</td>\n",
       "      <td>&lt;p&gt;Observe a tabela e veja quantos lanches for...</td>\n",
       "      <td>Matemática</td>\n",
       "    </tr>\n",
       "  </tbody>\n",
       "</table>\n",
       "<p>76447 rows × 3 columns</p>\n",
       "</div>"
      ],
      "text/plain": [
       "            id                                          questions             target\n",
       "0      3486670  <p>Com base em seus conhecimentos sobre o comp...               Arte\n",
       "1      3343927  <p>&ldquo;Achar um n&uacute;mero que, somado c...         Matemática\n",
       "4      3691951  <p style=\"padding:0px;margin:10px 0px 0px;outl...            Química\n",
       "6      1744035     <p>Pagina nr. 54 do Livro did&aacute;tico.</p>           História\n",
       "7      2525602                 <p>O que &eacute; CHIAROSCURO?</p>               Arte\n",
       "...        ...                                                ...                ...\n",
       "99994  2447693  <p>Leia a reportagem e responda a quest&atilde...  Língua Portuguesa\n",
       "99995  4330761  <p>Para responder à questão, leia o trecho do ...  Língua Portuguesa\n",
       "99996  3249373  <h1 style=\"list-style:none;margin:0px 0px 20px...    Educação Física\n",
       "99998  4150214  <p>Os machos e fêmeas de mosquitos do gênero <...           Ciências\n",
       "99999  1487049  <p>Observe a tabela e veja quantos lanches for...         Matemática\n",
       "\n",
       "[76447 rows x 3 columns]"
      ]
     },
     "execution_count": 10,
     "metadata": {},
     "output_type": "execute_result"
    }
   ],
   "source": [
    "# Observing if the filtering was correctly applied\n",
    "df_bncc_copy_targets_bncc"
   ]
  },
  {
   "cell_type": "code",
   "execution_count": 11,
   "metadata": {},
   "outputs": [
    {
     "data": {
      "text/plain": [
       "Matemática           12539\n",
       "Língua Portuguesa    11887\n",
       "Geografia             9266\n",
       "História              9072\n",
       "Inglês                8103\n",
       "Ciências              7099\n",
       "Física                5537\n",
       "Arte                  3681\n",
       "Química               3276\n",
       "Biologia              3133\n",
       "Educação Física       2386\n",
       "Ensino Religioso       468\n",
       "Name: target, dtype: int64"
      ]
     },
     "execution_count": 11,
     "metadata": {},
     "output_type": "execute_result"
    }
   ],
   "source": [
    "# Observing if the filtering was correctly applied by visualizing the clases\n",
    "df_bncc_copy_targets_bncc[\"target\"].value_counts()"
   ]
  },
  {
   "cell_type": "code",
   "execution_count": 12,
   "metadata": {},
   "outputs": [
    {
     "data": {
      "text/plain": [
       "(76447, 3)"
      ]
     },
     "execution_count": 12,
     "metadata": {},
     "output_type": "execute_result"
    }
   ],
   "source": [
    "# How many observations do we have now?\n",
    "df_bncc_copy_targets_bncc.shape"
   ]
  },
  {
   "cell_type": "code",
   "execution_count": 13,
   "metadata": {},
   "outputs": [
    {
     "name": "stderr",
     "output_type": "stream",
     "text": [
      "/tmp/ipykernel_1534129/859106253.py:10: SettingWithCopyWarning: \n",
      "A value is trying to be set on a copy of a slice from a DataFrame.\n",
      "Try using .loc[row_indexer,col_indexer] = value instead\n",
      "\n",
      "See the caveats in the documentation: https://pandas.pydata.org/pandas-docs/stable/user_guide/indexing.html#returning-a-view-versus-a-copy\n",
      "  df_bncc_copy_targets_bncc[\"target_enc\"] = lb_enc.transform(\n"
     ]
    },
    {
     "data": {
      "text/html": [
       "<div>\n",
       "<style scoped>\n",
       "    .dataframe tbody tr th:only-of-type {\n",
       "        vertical-align: middle;\n",
       "    }\n",
       "\n",
       "    .dataframe tbody tr th {\n",
       "        vertical-align: top;\n",
       "    }\n",
       "\n",
       "    .dataframe thead th {\n",
       "        text-align: right;\n",
       "    }\n",
       "</style>\n",
       "<table border=\"1\" class=\"dataframe\">\n",
       "  <thead>\n",
       "    <tr style=\"text-align: right;\">\n",
       "      <th></th>\n",
       "      <th>id</th>\n",
       "      <th>questions</th>\n",
       "      <th>target</th>\n",
       "      <th>target_enc</th>\n",
       "    </tr>\n",
       "  </thead>\n",
       "  <tbody>\n",
       "    <tr>\n",
       "      <th>0</th>\n",
       "      <td>3486670</td>\n",
       "      <td>&lt;p&gt;Com base em seus conhecimentos sobre o comp...</td>\n",
       "      <td>Arte</td>\n",
       "      <td>0</td>\n",
       "    </tr>\n",
       "    <tr>\n",
       "      <th>1</th>\n",
       "      <td>3343927</td>\n",
       "      <td>&lt;p&gt;&amp;ldquo;Achar um n&amp;uacute;mero que, somado c...</td>\n",
       "      <td>Matemática</td>\n",
       "      <td>10</td>\n",
       "    </tr>\n",
       "    <tr>\n",
       "      <th>4</th>\n",
       "      <td>3691951</td>\n",
       "      <td>&lt;p style=\"padding:0px;margin:10px 0px 0px;outl...</td>\n",
       "      <td>Química</td>\n",
       "      <td>11</td>\n",
       "    </tr>\n",
       "    <tr>\n",
       "      <th>6</th>\n",
       "      <td>1744035</td>\n",
       "      <td>&lt;p&gt;Pagina nr. 54 do Livro did&amp;aacute;tico.&lt;/p&gt;</td>\n",
       "      <td>História</td>\n",
       "      <td>7</td>\n",
       "    </tr>\n",
       "    <tr>\n",
       "      <th>7</th>\n",
       "      <td>2525602</td>\n",
       "      <td>&lt;p&gt;O que &amp;eacute; CHIAROSCURO?&lt;/p&gt;</td>\n",
       "      <td>Arte</td>\n",
       "      <td>0</td>\n",
       "    </tr>\n",
       "    <tr>\n",
       "      <th>...</th>\n",
       "      <td>...</td>\n",
       "      <td>...</td>\n",
       "      <td>...</td>\n",
       "      <td>...</td>\n",
       "    </tr>\n",
       "    <tr>\n",
       "      <th>99994</th>\n",
       "      <td>2447693</td>\n",
       "      <td>&lt;p&gt;Leia a reportagem e responda a quest&amp;atilde...</td>\n",
       "      <td>Língua Portuguesa</td>\n",
       "      <td>9</td>\n",
       "    </tr>\n",
       "    <tr>\n",
       "      <th>99995</th>\n",
       "      <td>4330761</td>\n",
       "      <td>&lt;p&gt;Para responder à questão, leia o trecho do ...</td>\n",
       "      <td>Língua Portuguesa</td>\n",
       "      <td>9</td>\n",
       "    </tr>\n",
       "    <tr>\n",
       "      <th>99996</th>\n",
       "      <td>3249373</td>\n",
       "      <td>&lt;h1 style=\"list-style:none;margin:0px 0px 20px...</td>\n",
       "      <td>Educação Física</td>\n",
       "      <td>3</td>\n",
       "    </tr>\n",
       "    <tr>\n",
       "      <th>99998</th>\n",
       "      <td>4150214</td>\n",
       "      <td>&lt;p&gt;Os machos e fêmeas de mosquitos do gênero &lt;...</td>\n",
       "      <td>Ciências</td>\n",
       "      <td>2</td>\n",
       "    </tr>\n",
       "    <tr>\n",
       "      <th>99999</th>\n",
       "      <td>1487049</td>\n",
       "      <td>&lt;p&gt;Observe a tabela e veja quantos lanches for...</td>\n",
       "      <td>Matemática</td>\n",
       "      <td>10</td>\n",
       "    </tr>\n",
       "  </tbody>\n",
       "</table>\n",
       "<p>76447 rows × 4 columns</p>\n",
       "</div>"
      ],
      "text/plain": [
       "            id                                          questions             target  target_enc\n",
       "0      3486670  <p>Com base em seus conhecimentos sobre o comp...               Arte           0\n",
       "1      3343927  <p>&ldquo;Achar um n&uacute;mero que, somado c...         Matemática          10\n",
       "4      3691951  <p style=\"padding:0px;margin:10px 0px 0px;outl...            Química          11\n",
       "6      1744035     <p>Pagina nr. 54 do Livro did&aacute;tico.</p>           História           7\n",
       "7      2525602                 <p>O que &eacute; CHIAROSCURO?</p>               Arte           0\n",
       "...        ...                                                ...                ...         ...\n",
       "99994  2447693  <p>Leia a reportagem e responda a quest&atilde...  Língua Portuguesa           9\n",
       "99995  4330761  <p>Para responder à questão, leia o trecho do ...  Língua Portuguesa           9\n",
       "99996  3249373  <h1 style=\"list-style:none;margin:0px 0px 20px...    Educação Física           3\n",
       "99998  4150214  <p>Os machos e fêmeas de mosquitos do gênero <...           Ciências           2\n",
       "99999  1487049  <p>Observe a tabela e veja quantos lanches for...         Matemática          10\n",
       "\n",
       "[76447 rows x 4 columns]"
      ]
     },
     "execution_count": 13,
     "metadata": {},
     "output_type": "execute_result"
    }
   ],
   "source": [
    "# Encoding the target with labels for the classifier\n",
    "# this procedure can be done with LabelEncoder from scikit-learn\n",
    "# will give us more control over the pipeline\n",
    "lb_enc = preprocessing.LabelEncoder()\n",
    "\n",
    "# train on the column we want encode\n",
    "lb_enc.fit(df_bncc_copy_targets_bncc[\"target\"])\n",
    "\n",
    "# transform the same column, but here we'll have this transformation for test and after for train\n",
    "df_bncc_copy_targets_bncc[\"target_enc\"] = lb_enc.transform(\n",
    "    df_bncc_copy_targets_bncc[\"target\"]\n",
    ")\n",
    "df_bncc_copy_targets_bncc"
   ]
  },
  {
   "cell_type": "code",
   "execution_count": 14,
   "metadata": {
    "collapsed": false,
    "pycharm": {
     "name": "#%%\n"
    }
   },
   "outputs": [
    {
     "data": {
      "text/plain": [
       "array(['Arte', 'Biologia', 'Ciências', 'Educação Física',\n",
       "       'Ensino Religioso', 'Física', 'Geografia', 'História', 'Inglês',\n",
       "       'Língua Portuguesa', 'Matemática', 'Química'], dtype=object)"
      ]
     },
     "execution_count": 14,
     "metadata": {},
     "output_type": "execute_result"
    }
   ],
   "source": [
    "# you can access how the labels was transformed by looking at the classes\n",
    "lb_enc.classes_"
   ]
  },
  {
   "cell_type": "markdown",
   "metadata": {},
   "source": [
    "## Cleaning the dataset"
   ]
  },
  {
   "cell_type": "code",
   "execution_count": 15,
   "metadata": {
    "collapsed": false,
    "pycharm": {
     "name": "#%%\n"
    }
   },
   "outputs": [
    {
     "name": "stderr",
     "output_type": "stream",
     "text": [
      "/tmp/ipykernel_1534129/492001490.py:2: SettingWithCopyWarning: \n",
      "A value is trying to be set on a copy of a slice from a DataFrame.\n",
      "Try using .loc[row_indexer,col_indexer] = value instead\n",
      "\n",
      "See the caveats in the documentation: https://pandas.pydata.org/pandas-docs/stable/user_guide/indexing.html#returning-a-view-versus-a-copy\n",
      "  df_bncc_copy_targets_bncc[\"questions_clean\"] = (\n"
     ]
    }
   ],
   "source": [
    "# chaining all cleaning steps\n",
    "df_bncc_copy_targets_bncc[\"questions_clean\"] = (\n",
    "    df_bncc_copy_targets_bncc[\"questions\"]\n",
    "    .astype(str)\n",
    "    .apply(html.unescape)\n",
    "    .apply(lambda x: cleaning.remove_html(x))\n",
    "    .apply(lambda x: x.lower())\n",
    "    .apply(lambda x: cleaning.remove_punctuation_2(x))\n",
    "    .apply(cleaning.remove_italic_quotes)\n",
    "    .apply(cleaning.remove_open_quotes)\n",
    "    .apply(cleaning.remove_end_quotes)\n",
    "    .apply(cleaning.remove_italic_dquotes)\n",
    "    .apply(cleaning.remove_open_dquotes)\n",
    "    .apply(cleaning.remove_quote)\n",
    "    .apply(lambda x: cleaning.remove_pt_stopwords(x))\n",
    "    .apply(lambda x: cleaning.remove_en_stopwords(x))\n",
    ")"
   ]
  },
  {
   "cell_type": "code",
   "execution_count": 16,
   "metadata": {
    "collapsed": false,
    "pycharm": {
     "name": "#%%\n"
    }
   },
   "outputs": [
    {
     "data": {
      "text/html": [
       "<div>\n",
       "<style scoped>\n",
       "    .dataframe tbody tr th:only-of-type {\n",
       "        vertical-align: middle;\n",
       "    }\n",
       "\n",
       "    .dataframe tbody tr th {\n",
       "        vertical-align: top;\n",
       "    }\n",
       "\n",
       "    .dataframe thead th {\n",
       "        text-align: right;\n",
       "    }\n",
       "</style>\n",
       "<table border=\"1\" class=\"dataframe\">\n",
       "  <thead>\n",
       "    <tr style=\"text-align: right;\">\n",
       "      <th></th>\n",
       "      <th>id</th>\n",
       "      <th>questions</th>\n",
       "      <th>target</th>\n",
       "      <th>target_enc</th>\n",
       "      <th>questions_clean</th>\n",
       "    </tr>\n",
       "  </thead>\n",
       "  <tbody>\n",
       "    <tr>\n",
       "      <th>0</th>\n",
       "      <td>3486670</td>\n",
       "      <td>&lt;p&gt;Com base em seus conhecimentos sobre o comp...</td>\n",
       "      <td>Arte</td>\n",
       "      <td>0</td>\n",
       "      <td>base conhecimentos sobre compositor john cage ...</td>\n",
       "    </tr>\n",
       "    <tr>\n",
       "      <th>1</th>\n",
       "      <td>3343927</td>\n",
       "      <td>&lt;p&gt;&amp;ldquo;Achar um n&amp;uacute;mero que, somado c...</td>\n",
       "      <td>Matemática</td>\n",
       "      <td>10</td>\n",
       "      <td>achar número somado 2 igual inverso” equações ...</td>\n",
       "    </tr>\n",
       "    <tr>\n",
       "      <th>4</th>\n",
       "      <td>3691951</td>\n",
       "      <td>&lt;p style=\"padding:0px;margin:10px 0px 0px;outl...</td>\n",
       "      <td>Química</td>\n",
       "      <td>11</td>\n",
       "      <td>chuva ácida fenômeno provocado poluição atmosf...</td>\n",
       "    </tr>\n",
       "    <tr>\n",
       "      <th>6</th>\n",
       "      <td>1744035</td>\n",
       "      <td>&lt;p&gt;Pagina nr. 54 do Livro did&amp;aacute;tico.&lt;/p&gt;</td>\n",
       "      <td>História</td>\n",
       "      <td>7</td>\n",
       "      <td>pagina nr 54 livro didático</td>\n",
       "    </tr>\n",
       "    <tr>\n",
       "      <th>7</th>\n",
       "      <td>2525602</td>\n",
       "      <td>&lt;p&gt;O que &amp;eacute; CHIAROSCURO?&lt;/p&gt;</td>\n",
       "      <td>Arte</td>\n",
       "      <td>0</td>\n",
       "      <td>chiaroscuro</td>\n",
       "    </tr>\n",
       "    <tr>\n",
       "      <th>8</th>\n",
       "      <td>2610914</td>\n",
       "      <td>&lt;p&gt;Analise a igualdade a seguir&lt;/p&gt;&lt;p&gt;&lt;br&gt;&lt;/p&gt;...</td>\n",
       "      <td>Matemática</td>\n",
       "      <td>10</td>\n",
       "      <td>analise igualdade seguiresta igualdade</td>\n",
       "    </tr>\n",
       "    <tr>\n",
       "      <th>12</th>\n",
       "      <td>1961666</td>\n",
       "      <td>&lt;p style=\"text-align:justify\"&gt;Jo&amp;atilde;o prec...</td>\n",
       "      <td>Matemática</td>\n",
       "      <td>10</td>\n",
       "      <td>joão precisa realizar movimentações financeira...</td>\n",
       "    </tr>\n",
       "    <tr>\n",
       "      <th>13</th>\n",
       "      <td>3612229</td>\n",
       "      <td>&lt;p&gt;Complete as lacunas.&lt;/p&gt;&lt;p&gt;________________...</td>\n",
       "      <td>Arte</td>\n",
       "      <td>0</td>\n",
       "      <td>complete lacunas apresentou desenho revolucion...</td>\n",
       "    </tr>\n",
       "    <tr>\n",
       "      <th>15</th>\n",
       "      <td>2423863</td>\n",
       "      <td>&lt;p&gt;Analise o mapa a seguir.&lt;/p&gt;&lt;div style=\"tex...</td>\n",
       "      <td>Geografia</td>\n",
       "      <td>6</td>\n",
       "      <td>analise mapa seguira maior concentração espaci...</td>\n",
       "    </tr>\n",
       "    <tr>\n",
       "      <th>17</th>\n",
       "      <td>3121866</td>\n",
       "      <td>&lt;p&gt;Observe a charge:&lt;/p&gt; &lt;p&gt;&lt;a href=\"https://3...</td>\n",
       "      <td>Geografia</td>\n",
       "      <td>6</td>\n",
       "      <td>observe charge retrata</td>\n",
       "    </tr>\n",
       "  </tbody>\n",
       "</table>\n",
       "</div>"
      ],
      "text/plain": [
       "         id                                          questions      target  target_enc                                    questions_clean\n",
       "0   3486670  <p>Com base em seus conhecimentos sobre o comp...        Arte           0  base conhecimentos sobre compositor john cage ...\n",
       "1   3343927  <p>&ldquo;Achar um n&uacute;mero que, somado c...  Matemática          10  achar número somado 2 igual inverso” equações ...\n",
       "4   3691951  <p style=\"padding:0px;margin:10px 0px 0px;outl...     Química          11  chuva ácida fenômeno provocado poluição atmosf...\n",
       "6   1744035     <p>Pagina nr. 54 do Livro did&aacute;tico.</p>    História           7                        pagina nr 54 livro didático\n",
       "7   2525602                 <p>O que &eacute; CHIAROSCURO?</p>        Arte           0                                        chiaroscuro\n",
       "8   2610914  <p>Analise a igualdade a seguir</p><p><br></p>...  Matemática          10             analise igualdade seguiresta igualdade\n",
       "12  1961666  <p style=\"text-align:justify\">Jo&atilde;o prec...  Matemática          10  joão precisa realizar movimentações financeira...\n",
       "13  3612229  <p>Complete as lacunas.</p><p>________________...        Arte           0  complete lacunas apresentou desenho revolucion...\n",
       "15  2423863  <p>Analise o mapa a seguir.</p><div style=\"tex...   Geografia           6  analise mapa seguira maior concentração espaci...\n",
       "17  3121866  <p>Observe a charge:</p> <p><a href=\"https://3...   Geografia           6                             observe charge retrata"
      ]
     },
     "execution_count": 16,
     "metadata": {},
     "output_type": "execute_result"
    }
   ],
   "source": [
    "df_bncc_copy_targets_bncc.head(10)"
   ]
  },
  {
   "cell_type": "code",
   "execution_count": 18,
   "metadata": {},
   "outputs": [],
   "source": [
    "# class to remove frq and rare, we can choose how many rare or frq words to remove\n",
    "remove_frq_rare = cleaning.RemoveFrqRare(df=df_bncc_copy_targets_bncc)\n",
    "remove_frq_rare.calc_frq_words()\n",
    "remove_frq_rare.calc_rare_words()\n",
    "bncc_cleaned_df = remove_frq_rare.remove_frq_and_rare()"
   ]
  },
  {
   "cell_type": "code",
   "execution_count": 19,
   "metadata": {},
   "outputs": [
    {
     "data": {
      "text/html": [
       "<div>\n",
       "<style scoped>\n",
       "    .dataframe tbody tr th:only-of-type {\n",
       "        vertical-align: middle;\n",
       "    }\n",
       "\n",
       "    .dataframe tbody tr th {\n",
       "        vertical-align: top;\n",
       "    }\n",
       "\n",
       "    .dataframe thead th {\n",
       "        text-align: right;\n",
       "    }\n",
       "</style>\n",
       "<table border=\"1\" class=\"dataframe\">\n",
       "  <thead>\n",
       "    <tr style=\"text-align: right;\">\n",
       "      <th></th>\n",
       "      <th>id</th>\n",
       "      <th>questions</th>\n",
       "      <th>target</th>\n",
       "      <th>target_enc</th>\n",
       "      <th>questions_clean</th>\n",
       "    </tr>\n",
       "  </thead>\n",
       "  <tbody>\n",
       "    <tr>\n",
       "      <th>0</th>\n",
       "      <td>3486670</td>\n",
       "      <td>&lt;p&gt;Com base em seus conhecimentos sobre o comp...</td>\n",
       "      <td>Arte</td>\n",
       "      <td>0</td>\n",
       "      <td>base conhecimentos sobre compositor john cage ...</td>\n",
       "    </tr>\n",
       "    <tr>\n",
       "      <th>1</th>\n",
       "      <td>3343927</td>\n",
       "      <td>&lt;p&gt;&amp;ldquo;Achar um n&amp;uacute;mero que, somado c...</td>\n",
       "      <td>Matemática</td>\n",
       "      <td>10</td>\n",
       "      <td>achar número somado 2 igual inverso” equações ...</td>\n",
       "    </tr>\n",
       "    <tr>\n",
       "      <th>4</th>\n",
       "      <td>3691951</td>\n",
       "      <td>&lt;p style=\"padding:0px;margin:10px 0px 0px;outl...</td>\n",
       "      <td>Química</td>\n",
       "      <td>11</td>\n",
       "      <td>chuva ácida fenômeno provocado poluição atmosf...</td>\n",
       "    </tr>\n",
       "    <tr>\n",
       "      <th>6</th>\n",
       "      <td>1744035</td>\n",
       "      <td>&lt;p&gt;Pagina nr. 54 do Livro did&amp;aacute;tico.&lt;/p&gt;</td>\n",
       "      <td>História</td>\n",
       "      <td>7</td>\n",
       "      <td>pagina nr 54 livro didático</td>\n",
       "    </tr>\n",
       "    <tr>\n",
       "      <th>7</th>\n",
       "      <td>2525602</td>\n",
       "      <td>&lt;p&gt;O que &amp;eacute; CHIAROSCURO?&lt;/p&gt;</td>\n",
       "      <td>Arte</td>\n",
       "      <td>0</td>\n",
       "      <td>chiaroscuro</td>\n",
       "    </tr>\n",
       "  </tbody>\n",
       "</table>\n",
       "</div>"
      ],
      "text/plain": [
       "        id                                          questions      target  target_enc                                    questions_clean\n",
       "0  3486670  <p>Com base em seus conhecimentos sobre o comp...        Arte           0  base conhecimentos sobre compositor john cage ...\n",
       "1  3343927  <p>&ldquo;Achar um n&uacute;mero que, somado c...  Matemática          10  achar número somado 2 igual inverso” equações ...\n",
       "4  3691951  <p style=\"padding:0px;margin:10px 0px 0px;outl...     Química          11  chuva ácida fenômeno provocado poluição atmosf...\n",
       "6  1744035     <p>Pagina nr. 54 do Livro did&aacute;tico.</p>    História           7                        pagina nr 54 livro didático\n",
       "7  2525602                 <p>O que &eacute; CHIAROSCURO?</p>        Arte           0                                        chiaroscuro"
      ]
     },
     "execution_count": 19,
     "metadata": {},
     "output_type": "execute_result"
    }
   ],
   "source": [
    "bncc_cleaned_df.head()"
   ]
  },
  {
   "cell_type": "markdown",
   "metadata": {},
   "source": [
    "### Exporting the dataset"
   ]
  },
  {
   "cell_type": "code",
   "execution_count": 20,
   "metadata": {},
   "outputs": [],
   "source": [
    "bncc_cleaned_df = bncc_cleaned_df[[\"id\", \"questions_clean\", \"target_enc\"]]"
   ]
  },
  {
   "cell_type": "code",
   "execution_count": 22,
   "metadata": {},
   "outputs": [],
   "source": [
    "# Exporting\n",
    "bncc_cleaned_df.to_csv(\n",
    "    \"../../data/curated/df_bncc_model_two_curated_pedro_02032022.csv\"\n",
    ")"
   ]
  },
  {
   "cell_type": "markdown",
   "metadata": {
    "collapsed": false,
    "pycharm": {
     "name": "#%% md\n"
    }
   },
   "source": [
    "## Modeling"
   ]
  },
  {
   "cell_type": "code",
   "execution_count": 31,
   "metadata": {
    "collapsed": false,
    "pycharm": {
     "name": "#%%\n"
    }
   },
   "outputs": [
    {
     "data": {
      "text/html": [
       "<div>\n",
       "<style scoped>\n",
       "    .dataframe tbody tr th:only-of-type {\n",
       "        vertical-align: middle;\n",
       "    }\n",
       "\n",
       "    .dataframe tbody tr th {\n",
       "        vertical-align: top;\n",
       "    }\n",
       "\n",
       "    .dataframe thead th {\n",
       "        text-align: right;\n",
       "    }\n",
       "</style>\n",
       "<table border=\"1\" class=\"dataframe\">\n",
       "  <thead>\n",
       "    <tr style=\"text-align: right;\">\n",
       "      <th></th>\n",
       "      <th>id</th>\n",
       "      <th>questions_clean</th>\n",
       "      <th>target_enc</th>\n",
       "      <th>words_count</th>\n",
       "    </tr>\n",
       "  </thead>\n",
       "  <tbody>\n",
       "    <tr>\n",
       "      <th>0</th>\n",
       "      <td>3486670</td>\n",
       "      <td>base conhecimentos sobre compositor john cage ...</td>\n",
       "      <td>0</td>\n",
       "      <td>346</td>\n",
       "    </tr>\n",
       "    <tr>\n",
       "      <th>1</th>\n",
       "      <td>3343927</td>\n",
       "      <td>achar número somado 2 igual inverso” equações ...</td>\n",
       "      <td>10</td>\n",
       "      <td>65</td>\n",
       "    </tr>\n",
       "    <tr>\n",
       "      <th>4</th>\n",
       "      <td>3691951</td>\n",
       "      <td>chuva ácida fenômeno provocado poluição atmosf...</td>\n",
       "      <td>11</td>\n",
       "      <td>97</td>\n",
       "    </tr>\n",
       "    <tr>\n",
       "      <th>6</th>\n",
       "      <td>1744035</td>\n",
       "      <td>pagina nr 54 livro didático</td>\n",
       "      <td>7</td>\n",
       "      <td>27</td>\n",
       "    </tr>\n",
       "    <tr>\n",
       "      <th>7</th>\n",
       "      <td>2525602</td>\n",
       "      <td>chiaroscuro</td>\n",
       "      <td>0</td>\n",
       "      <td>11</td>\n",
       "    </tr>\n",
       "    <tr>\n",
       "      <th>...</th>\n",
       "      <td>...</td>\n",
       "      <td>...</td>\n",
       "      <td>...</td>\n",
       "      <td>...</td>\n",
       "    </tr>\n",
       "    <tr>\n",
       "      <th>99994</th>\n",
       "      <td>2447693</td>\n",
       "      <td>leia reportagem responda questãosobre pergunta...</td>\n",
       "      <td>9</td>\n",
       "      <td>99</td>\n",
       "    </tr>\n",
       "    <tr>\n",
       "      <th>99995</th>\n",
       "      <td>4330761</td>\n",
       "      <td>responder questão leia trecho contoprefácio hi...</td>\n",
       "      <td>9</td>\n",
       "      <td>1458</td>\n",
       "    </tr>\n",
       "    <tr>\n",
       "      <th>99996</th>\n",
       "      <td>3249373</td>\n",
       "      <td>pais surgiu skate</td>\n",
       "      <td>3</td>\n",
       "      <td>17</td>\n",
       "    </tr>\n",
       "    <tr>\n",
       "      <th>99998</th>\n",
       "      <td>4150214</td>\n",
       "      <td>machos fêmeas mosquitos gênero aedes vivem loc...</td>\n",
       "      <td>2</td>\n",
       "      <td>415</td>\n",
       "    </tr>\n",
       "    <tr>\n",
       "      <th>99999</th>\n",
       "      <td>1487049</td>\n",
       "      <td>observe tabela veja quantos lanches vendidos t...</td>\n",
       "      <td>10</td>\n",
       "      <td>122</td>\n",
       "    </tr>\n",
       "  </tbody>\n",
       "</table>\n",
       "<p>75505 rows × 4 columns</p>\n",
       "</div>"
      ],
      "text/plain": [
       "            id                                    questions_clean  target_enc  words_count\n",
       "0      3486670  base conhecimentos sobre compositor john cage ...           0          346\n",
       "1      3343927  achar número somado 2 igual inverso” equações ...          10           65\n",
       "4      3691951  chuva ácida fenômeno provocado poluição atmosf...          11           97\n",
       "6      1744035                        pagina nr 54 livro didático           7           27\n",
       "7      2525602                                        chiaroscuro           0           11\n",
       "...        ...                                                ...         ...          ...\n",
       "99994  2447693  leia reportagem responda questãosobre pergunta...           9           99\n",
       "99995  4330761  responder questão leia trecho contoprefácio hi...           9         1458\n",
       "99996  3249373                                  pais surgiu skate           3           17\n",
       "99998  4150214  machos fêmeas mosquitos gênero aedes vivem loc...           2          415\n",
       "99999  1487049  observe tabela veja quantos lanches vendidos t...          10          122\n",
       "\n",
       "[75505 rows x 4 columns]"
      ]
     },
     "execution_count": 31,
     "metadata": {},
     "output_type": "execute_result"
    }
   ],
   "source": [
    "# removing registers with zero chars\n",
    "bncc_cleaned_df[\"words_count\"] = bncc_cleaned_df[\"questions_clean\"].apply(len)\n",
    "bncc_cleaned_filtered_df = bncc_cleaned_df[bncc_cleaned_df[\"words_count\"] != 0]\n",
    "bncc_cleaned_filtered_df"
   ]
  },
  {
   "cell_type": "code",
   "execution_count": 32,
   "metadata": {
    "collapsed": false,
    "pycharm": {
     "name": "#%%\n"
    }
   },
   "outputs": [
    {
     "name": "stderr",
     "output_type": "stream",
     "text": [
      "/tmp/ipykernel_1534129/1311229821.py:2: SettingWithCopyWarning: \n",
      "A value is trying to be set on a copy of a slice from a DataFrame.\n",
      "Try using .loc[row_indexer,col_indexer] = value instead\n",
      "\n",
      "See the caveats in the documentation: https://pandas.pydata.org/pandas-docs/stable/user_guide/indexing.html#returning-a-view-versus-a-copy\n",
      "  bncc_cleaned_filtered_df[\"question_tokens\"] = bncc_cleaned_filtered_df[\"questions_clean\"].apply(word_tokenize)\n"
     ]
    },
    {
     "data": {
      "text/html": [
       "<div>\n",
       "<style scoped>\n",
       "    .dataframe tbody tr th:only-of-type {\n",
       "        vertical-align: middle;\n",
       "    }\n",
       "\n",
       "    .dataframe tbody tr th {\n",
       "        vertical-align: top;\n",
       "    }\n",
       "\n",
       "    .dataframe thead th {\n",
       "        text-align: right;\n",
       "    }\n",
       "</style>\n",
       "<table border=\"1\" class=\"dataframe\">\n",
       "  <thead>\n",
       "    <tr style=\"text-align: right;\">\n",
       "      <th></th>\n",
       "      <th>id</th>\n",
       "      <th>questions_clean</th>\n",
       "      <th>target_enc</th>\n",
       "      <th>words_count</th>\n",
       "      <th>question_tokens</th>\n",
       "    </tr>\n",
       "  </thead>\n",
       "  <tbody>\n",
       "    <tr>\n",
       "      <th>0</th>\n",
       "      <td>3486670</td>\n",
       "      <td>base conhecimentos sobre compositor john cage ...</td>\n",
       "      <td>0</td>\n",
       "      <td>346</td>\n",
       "      <td>[base, conhecimentos, sobre, compositor, john,...</td>\n",
       "    </tr>\n",
       "    <tr>\n",
       "      <th>1</th>\n",
       "      <td>3343927</td>\n",
       "      <td>achar número somado 2 igual inverso” equações ...</td>\n",
       "      <td>10</td>\n",
       "      <td>65</td>\n",
       "      <td>[achar, número, somado, 2, igual, inverso, ”, ...</td>\n",
       "    </tr>\n",
       "    <tr>\n",
       "      <th>4</th>\n",
       "      <td>3691951</td>\n",
       "      <td>chuva ácida fenômeno provocado poluição atmosf...</td>\n",
       "      <td>11</td>\n",
       "      <td>97</td>\n",
       "      <td>[chuva, ácida, fenômeno, provocado, poluição, ...</td>\n",
       "    </tr>\n",
       "    <tr>\n",
       "      <th>6</th>\n",
       "      <td>1744035</td>\n",
       "      <td>pagina nr 54 livro didático</td>\n",
       "      <td>7</td>\n",
       "      <td>27</td>\n",
       "      <td>[pagina, nr, 54, livro, didático]</td>\n",
       "    </tr>\n",
       "    <tr>\n",
       "      <th>7</th>\n",
       "      <td>2525602</td>\n",
       "      <td>chiaroscuro</td>\n",
       "      <td>0</td>\n",
       "      <td>11</td>\n",
       "      <td>[chiaroscuro]</td>\n",
       "    </tr>\n",
       "    <tr>\n",
       "      <th>...</th>\n",
       "      <td>...</td>\n",
       "      <td>...</td>\n",
       "      <td>...</td>\n",
       "      <td>...</td>\n",
       "      <td>...</td>\n",
       "    </tr>\n",
       "    <tr>\n",
       "      <th>99994</th>\n",
       "      <td>2447693</td>\n",
       "      <td>leia reportagem responda questãosobre pergunta...</td>\n",
       "      <td>9</td>\n",
       "      <td>99</td>\n",
       "      <td>[leia, reportagem, responda, questãosobre, per...</td>\n",
       "    </tr>\n",
       "    <tr>\n",
       "      <th>99995</th>\n",
       "      <td>4330761</td>\n",
       "      <td>responder questão leia trecho contoprefácio hi...</td>\n",
       "      <td>9</td>\n",
       "      <td>1458</td>\n",
       "      <td>[responder, questão, leia, trecho, contoprefác...</td>\n",
       "    </tr>\n",
       "    <tr>\n",
       "      <th>99996</th>\n",
       "      <td>3249373</td>\n",
       "      <td>pais surgiu skate</td>\n",
       "      <td>3</td>\n",
       "      <td>17</td>\n",
       "      <td>[pais, surgiu, skate]</td>\n",
       "    </tr>\n",
       "    <tr>\n",
       "      <th>99998</th>\n",
       "      <td>4150214</td>\n",
       "      <td>machos fêmeas mosquitos gênero aedes vivem loc...</td>\n",
       "      <td>2</td>\n",
       "      <td>415</td>\n",
       "      <td>[machos, fêmeas, mosquitos, gênero, aedes, viv...</td>\n",
       "    </tr>\n",
       "    <tr>\n",
       "      <th>99999</th>\n",
       "      <td>1487049</td>\n",
       "      <td>observe tabela veja quantos lanches vendidos t...</td>\n",
       "      <td>10</td>\n",
       "      <td>122</td>\n",
       "      <td>[observe, tabela, veja, quantos, lanches, vend...</td>\n",
       "    </tr>\n",
       "  </tbody>\n",
       "</table>\n",
       "<p>75505 rows × 5 columns</p>\n",
       "</div>"
      ],
      "text/plain": [
       "            id                                    questions_clean  target_enc  words_count                                    question_tokens\n",
       "0      3486670  base conhecimentos sobre compositor john cage ...           0          346  [base, conhecimentos, sobre, compositor, john,...\n",
       "1      3343927  achar número somado 2 igual inverso” equações ...          10           65  [achar, número, somado, 2, igual, inverso, ”, ...\n",
       "4      3691951  chuva ácida fenômeno provocado poluição atmosf...          11           97  [chuva, ácida, fenômeno, provocado, poluição, ...\n",
       "6      1744035                        pagina nr 54 livro didático           7           27                  [pagina, nr, 54, livro, didático]\n",
       "7      2525602                                        chiaroscuro           0           11                                      [chiaroscuro]\n",
       "...        ...                                                ...         ...          ...                                                ...\n",
       "99994  2447693  leia reportagem responda questãosobre pergunta...           9           99  [leia, reportagem, responda, questãosobre, per...\n",
       "99995  4330761  responder questão leia trecho contoprefácio hi...           9         1458  [responder, questão, leia, trecho, contoprefác...\n",
       "99996  3249373                                  pais surgiu skate           3           17                              [pais, surgiu, skate]\n",
       "99998  4150214  machos fêmeas mosquitos gênero aedes vivem loc...           2          415  [machos, fêmeas, mosquitos, gênero, aedes, viv...\n",
       "99999  1487049  observe tabela veja quantos lanches vendidos t...          10          122  [observe, tabela, veja, quantos, lanches, vend...\n",
       "\n",
       "[75505 rows x 5 columns]"
      ]
     },
     "execution_count": 32,
     "metadata": {},
     "output_type": "execute_result"
    }
   ],
   "source": [
    "# tokenization\n",
    "bncc_cleaned_filtered_df[\"question_tokens\"] = bncc_cleaned_filtered_df[\n",
    "    \"questions_clean\"\n",
    "].apply(word_tokenize)\n",
    "bncc_cleaned_filtered_df"
   ]
  },
  {
   "cell_type": "markdown",
   "metadata": {
    "collapsed": false,
    "pycharm": {
     "name": "#%% md\n"
    }
   },
   "source": [
    "The use of CountVectorizer does not demand a previous tokenization of the text.\n",
    "So, for the next step, it will be dropped and the Bag of Words applied on the already splitted dataset in train and test."
   ]
  },
  {
   "cell_type": "code",
   "execution_count": 79,
   "metadata": {
    "collapsed": false,
    "pycharm": {
     "name": "#%%\n"
    }
   },
   "outputs": [],
   "source": [
    "# sklearn patterns names\n",
    "X = bncc_cleaned_filtered_df.drop(\n",
    "    [\"id\", \"words_count\", \"question_tokens\", \"target_enc\"], axis=1\n",
    ")\n",
    "y = bncc_cleaned_filtered_df[\"target_enc\"]\n",
    "X_train, X_test, y_train, y_test = model_selection.train_test_split(\n",
    "    X, y, random_state=1\n",
    ")"
   ]
  },
  {
   "cell_type": "code",
   "execution_count": 86,
   "metadata": {
    "collapsed": false,
    "pycharm": {
     "name": "#%%\n"
    }
   },
   "outputs": [
    {
     "name": "stdout",
     "output_type": "stream",
     "text": [
      "(56628, 140369) (18877, 140369)\n"
     ]
    }
   ],
   "source": [
    "# bow vect\n",
    "vectBOW = feature_extraction.text.CountVectorizer()\n",
    "X_train_trans = vectBOW.fit_transform(X_train[\"questions_clean\"])\n",
    "X_test_trans = vectBOW.transform(X_test[\"questions_clean\"])\n",
    "print(X_train_trans.shape, X_test_trans.shape)"
   ]
  },
  {
   "cell_type": "code",
   "execution_count": 88,
   "metadata": {
    "collapsed": false,
    "pycharm": {
     "name": "#%%\n"
    }
   },
   "outputs": [
    {
     "name": "stderr",
     "output_type": "stream",
     "text": [
      "/home/luba/.local/share/virtualenvs/bncc-classifier-AU87OF4y/lib/python3.9/site-packages/sklearn/linear_model/_logistic.py:814: ConvergenceWarning: lbfgs failed to converge (status=1):\n",
      "STOP: TOTAL NO. of ITERATIONS REACHED LIMIT.\n",
      "\n",
      "Increase the number of iterations (max_iter) or scale the data as shown in:\n",
      "    https://scikit-learn.org/stable/modules/preprocessing.html\n",
      "Please also refer to the documentation for alternative solver options:\n",
      "    https://scikit-learn.org/stable/modules/linear_model.html#logistic-regression\n",
      "  n_iter_i = _check_optimize_result(\n"
     ]
    }
   ],
   "source": [
    "logreg = linear_model.LogisticRegression(class_weight=\"balanced\")\n",
    "logreg.fit(X_train_trans, y_train)\n",
    "y_pred_class = logreg.predict(X_test_trans)"
   ]
  },
  {
   "cell_type": "code",
   "execution_count": 91,
   "metadata": {
    "collapsed": false,
    "pycharm": {
     "name": "#%%\n"
    }
   },
   "outputs": [
    {
     "name": "stdout",
     "output_type": "stream",
     "text": [
      "              precision    recall  f1-score   support\n",
      "\n",
      "           0       0.72      0.77      0.74       928\n",
      "           1       0.64      0.65      0.64       748\n",
      "           2       0.61      0.63      0.62      1755\n",
      "           3       0.69      0.78      0.73       562\n",
      "           4       0.29      0.50      0.37       105\n",
      "           5       0.88      0.86      0.87      1382\n",
      "           6       0.77      0.75      0.76      2273\n",
      "           7       0.81      0.78      0.79      2284\n",
      "           8       0.87      0.89      0.88      2021\n",
      "           9       0.86      0.84      0.85      2928\n",
      "          10       0.90      0.88      0.89      3057\n",
      "          11       0.80      0.76      0.78       834\n",
      "\n",
      "    accuracy                           0.80     18877\n",
      "   macro avg       0.74      0.76      0.74     18877\n",
      "weighted avg       0.80      0.80      0.80     18877\n",
      "\n"
     ]
    }
   ],
   "source": [
    "print(metrics.classification_report(y_test, y_pred_class))"
   ]
  },
  {
   "cell_type": "code",
   "execution_count": 95,
   "metadata": {
    "collapsed": false,
    "pycharm": {
     "name": "#%%\n"
    }
   },
   "outputs": [
    {
     "data": {
      "text/plain": [
       "target_enc\n",
       "10            12148\n",
       "9             11794\n",
       "6              9201\n",
       "7              9012\n",
       "8              7963\n",
       "2              7046\n",
       "5              5500\n",
       "0              3646\n",
       "11             3241\n",
       "1              3124\n",
       "3              2365\n",
       "4               465\n",
       "dtype: int64"
      ]
     },
     "execution_count": 95,
     "metadata": {},
     "output_type": "execute_result"
    }
   ],
   "source": [
    "bncc_cleaned_filtered_df.value_counts([\"target_enc\"])"
   ]
  },
  {
   "cell_type": "code",
   "execution_count": 96,
   "metadata": {
    "collapsed": false,
    "pycharm": {
     "name": "#%%\n"
    }
   },
   "outputs": [
    {
     "data": {
      "text/plain": [
       "array(['Arte', 'Biologia', 'Ciências', 'Educação Física',\n",
       "       'Ensino Religioso', 'Física', 'Geografia', 'História', 'Inglês',\n",
       "       'Língua Portuguesa', 'Matemática', 'Química'], dtype=object)"
      ]
     },
     "execution_count": 96,
     "metadata": {},
     "output_type": "execute_result"
    }
   ],
   "source": [
    "lb_enc.classes_"
   ]
  },
  {
   "cell_type": "code",
   "execution_count": null,
   "metadata": {
    "collapsed": false,
    "pycharm": {
     "name": "#%%\n"
    }
   },
   "outputs": [],
   "source": []
  },
  {
   "cell_type": "code",
   "execution_count": null,
   "metadata": {
    "collapsed": false,
    "pycharm": {
     "name": "#%%\n"
    }
   },
   "outputs": [],
   "source": []
  },
  {
   "cell_type": "code",
   "execution_count": null,
   "metadata": {
    "collapsed": false,
    "pycharm": {
     "name": "#%%\n"
    }
   },
   "outputs": [],
   "source": []
  },
  {
   "cell_type": "code",
   "execution_count": null,
   "metadata": {
    "collapsed": false,
    "pycharm": {
     "name": "#%%\n"
    }
   },
   "outputs": [],
   "source": []
  },
  {
   "cell_type": "code",
   "execution_count": null,
   "metadata": {
    "collapsed": false,
    "pycharm": {
     "name": "#%%\n"
    }
   },
   "outputs": [],
   "source": []
  },
  {
   "cell_type": "code",
   "execution_count": null,
   "metadata": {
    "collapsed": false,
    "pycharm": {
     "name": "#%%\n"
    }
   },
   "outputs": [],
   "source": []
  },
  {
   "cell_type": "code",
   "execution_count": null,
   "metadata": {
    "collapsed": false,
    "pycharm": {
     "name": "#%%\n"
    }
   },
   "outputs": [],
   "source": []
  },
  {
   "cell_type": "code",
   "execution_count": null,
   "metadata": {
    "collapsed": false,
    "pycharm": {
     "name": "#%%\n"
    }
   },
   "outputs": [],
   "source": []
  }
 ],
 "metadata": {
  "interpreter": {
   "hash": "a3af3214af4e872b3161d3c6a3bffbd99bf6587232dec24ec6e7026b16ba81c0"
  },
  "kernelspec": {
   "display_name": "Python 3.9.10 ('bncc-classifier-Qtat0hV3')",
   "language": "python",
   "name": "python3"
  },
  "language_info": {
   "codemirror_mode": {
    "name": "ipython",
    "version": 3
   },
   "file_extension": ".py",
   "mimetype": "text/x-python",
   "name": "python",
   "nbconvert_exporter": "python",
   "pygments_lexer": "ipython3",
   "version": "3.9.10"
  },
  "orig_nbformat": 4
 },
 "nbformat": 4,
 "nbformat_minor": 2
}
