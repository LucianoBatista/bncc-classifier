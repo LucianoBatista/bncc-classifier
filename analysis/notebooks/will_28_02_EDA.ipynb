{
 "cells": [
  {
   "cell_type": "code",
   "execution_count": 1,
   "id": "681beb90",
   "metadata": {},
   "outputs": [],
   "source": [
    "import pandas as pd\n",
    "import numpy as np\n",
    "import html\n",
    "import nltk\n",
    "import regex as re\n",
    "import string\n",
    "import spacy\n",
    "import seaborn as sns\n",
    "import matplotlib.pyplot as plt\n",
    "from nltk.corpus import stopwords\n",
    "from nltk.tokenize import word_tokenize"
   ]
  },
  {
   "cell_type": "code",
   "execution_count": 111,
   "metadata": {},
   "outputs": [],
   "source": [
    "data = pd.read_csv('C:/Users/Danilo/Desktop/Documentos Acadêmicos/TERA/TERAprojetos/Projeto final/BNCC/repo/bncc-classifier/data/raw/bncc_first_classifier.csv')"
   ]
  },
  {
   "cell_type": "code",
   "execution_count": 112,
   "metadata": {},
   "outputs": [],
   "source": [
    "data_clone = data.copy()"
   ]
  },
  {
   "cell_type": "code",
   "execution_count": 113,
   "metadata": {},
   "outputs": [
    {
     "data": {
      "text/html": [
       "<div>\n",
       "<style scoped>\n",
       "    .dataframe tbody tr th:only-of-type {\n",
       "        vertical-align: middle;\n",
       "    }\n",
       "\n",
       "    .dataframe tbody tr th {\n",
       "        vertical-align: top;\n",
       "    }\n",
       "\n",
       "    .dataframe thead th {\n",
       "        text-align: right;\n",
       "    }\n",
       "</style>\n",
       "<table border=\"1\" class=\"dataframe\">\n",
       "  <thead>\n",
       "    <tr style=\"text-align: right;\">\n",
       "      <th></th>\n",
       "      <th>id</th>\n",
       "      <th>questoes</th>\n",
       "      <th>tipoQuestoes</th>\n",
       "      <th>topico</th>\n",
       "      <th>slug</th>\n",
       "      <th>materia</th>\n",
       "      <th>slug.1</th>\n",
       "      <th>etapaEnsino</th>\n",
       "    </tr>\n",
       "  </thead>\n",
       "  <tbody>\n",
       "    <tr>\n",
       "      <th>0</th>\n",
       "      <td>3486670</td>\n",
       "      <td>&lt;p&gt;Com base em seus conhecimentos sobre o comp...</td>\n",
       "      <td>2</td>\n",
       "      <td>História da Arte</td>\n",
       "      <td>historia-da-arte</td>\n",
       "      <td>Arte</td>\n",
       "      <td>arte</td>\n",
       "      <td>Fundamental II</td>\n",
       "    </tr>\n",
       "    <tr>\n",
       "      <th>1</th>\n",
       "      <td>3343927</td>\n",
       "      <td>&lt;p&gt;&amp;ldquo;Achar um n&amp;uacute;mero que, somado c...</td>\n",
       "      <td>2</td>\n",
       "      <td>Álgebra: Equações do 2º grau: Equação do 2º gr...</td>\n",
       "      <td>algebra-equacoes-do-2o-grau-equacao-do-2o-grau...</td>\n",
       "      <td>Matemática</td>\n",
       "      <td>matematica</td>\n",
       "      <td>Fundamental II</td>\n",
       "    </tr>\n",
       "    <tr>\n",
       "      <th>2</th>\n",
       "      <td>1927600</td>\n",
       "      <td>&lt;p&gt;2. Complete os espaços abaixo com os artigo...</td>\n",
       "      <td>4</td>\n",
       "      <td>Outros</td>\n",
       "      <td>outros</td>\n",
       "      <td>Espanhol</td>\n",
       "      <td>espanhol</td>\n",
       "      <td>Fundamental II</td>\n",
       "    </tr>\n",
       "    <tr>\n",
       "      <th>3</th>\n",
       "      <td>106855</td>\n",
       "      <td>&lt;p&gt;&lt;div&gt; A respeito dos serviços públicos e da...</td>\n",
       "      <td>2</td>\n",
       "      <td>Responsabilidade Civil do Estado</td>\n",
       "      <td>responsabilidade-civil-do-estado</td>\n",
       "      <td>Direito Administrativo</td>\n",
       "      <td>direito-administrativo</td>\n",
       "      <td>Concurso</td>\n",
       "    </tr>\n",
       "    <tr>\n",
       "      <th>4</th>\n",
       "      <td>3691951</td>\n",
       "      <td>&lt;p style=\"padding:0px;margin:10px 0px 0px;outl...</td>\n",
       "      <td>2</td>\n",
       "      <td>Outros</td>\n",
       "      <td>outros</td>\n",
       "      <td>Química</td>\n",
       "      <td>quimica</td>\n",
       "      <td>Fundamental II</td>\n",
       "    </tr>\n",
       "  </tbody>\n",
       "</table>\n",
       "</div>"
      ],
      "text/plain": [
       "        id                                           questoes  tipoQuestoes  \\\n",
       "0  3486670  <p>Com base em seus conhecimentos sobre o comp...             2   \n",
       "1  3343927  <p>&ldquo;Achar um n&uacute;mero que, somado c...             2   \n",
       "2  1927600  <p>2. Complete os espaços abaixo com os artigo...             4   \n",
       "3   106855  <p><div> A respeito dos serviços públicos e da...             2   \n",
       "4  3691951  <p style=\"padding:0px;margin:10px 0px 0px;outl...             2   \n",
       "\n",
       "                                              topico  \\\n",
       "0                                   História da Arte   \n",
       "1  Álgebra: Equações do 2º grau: Equação do 2º gr...   \n",
       "2                                             Outros   \n",
       "3                   Responsabilidade Civil do Estado   \n",
       "4                                             Outros   \n",
       "\n",
       "                                                slug                 materia  \\\n",
       "0                                   historia-da-arte                    Arte   \n",
       "1  algebra-equacoes-do-2o-grau-equacao-do-2o-grau...              Matemática   \n",
       "2                                             outros                Espanhol   \n",
       "3                   responsabilidade-civil-do-estado  Direito Administrativo   \n",
       "4                                             outros                 Química   \n",
       "\n",
       "                   slug.1     etapaEnsino  \n",
       "0                    arte  Fundamental II  \n",
       "1              matematica  Fundamental II  \n",
       "2                espanhol  Fundamental II  \n",
       "3  direito-administrativo        Concurso  \n",
       "4                 quimica  Fundamental II  "
      ]
     },
     "execution_count": 113,
     "metadata": {},
     "output_type": "execute_result"
    }
   ],
   "source": [
    "# renomeando as colunas do dataset\n",
    "\n",
    "data_clone.columns = ['id', 'questoes', 'tipoQuestoes', 'topico', 'slug', 'materia', 'slug.1','etapaEnsino']\n",
    "data_clone.head()"
   ]
  },
  {
   "cell_type": "markdown",
   "metadata": {},
   "source": [
    "# EDA"
   ]
  },
  {
   "cell_type": "code",
   "execution_count": 27,
   "metadata": {},
   "outputs": [
    {
     "data": {
      "text/plain": [
       "(100000, 8)"
      ]
     },
     "execution_count": 27,
     "metadata": {},
     "output_type": "execute_result"
    }
   ],
   "source": [
    "data_clone.shape"
   ]
  },
  {
   "cell_type": "code",
   "execution_count": 76,
   "metadata": {},
   "outputs": [
    {
     "data": {
      "text/html": [
       "<div>\n",
       "<style scoped>\n",
       "    .dataframe tbody tr th:only-of-type {\n",
       "        vertical-align: middle;\n",
       "    }\n",
       "\n",
       "    .dataframe tbody tr th {\n",
       "        vertical-align: top;\n",
       "    }\n",
       "\n",
       "    .dataframe thead th {\n",
       "        text-align: right;\n",
       "    }\n",
       "</style>\n",
       "<table border=\"1\" class=\"dataframe\">\n",
       "  <thead>\n",
       "    <tr style=\"text-align: right;\">\n",
       "      <th></th>\n",
       "      <th>etapaEnsino</th>\n",
       "    </tr>\n",
       "  </thead>\n",
       "  <tbody>\n",
       "    <tr>\n",
       "      <th>Médio &amp; Pré-Vestibular</th>\n",
       "      <td>35676</td>\n",
       "    </tr>\n",
       "    <tr>\n",
       "      <th>Fundamental II</th>\n",
       "      <td>33790</td>\n",
       "    </tr>\n",
       "    <tr>\n",
       "      <th>Fundamental I</th>\n",
       "      <td>18379</td>\n",
       "    </tr>\n",
       "    <tr>\n",
       "      <th>Concurso</th>\n",
       "      <td>9875</td>\n",
       "    </tr>\n",
       "    <tr>\n",
       "      <th>Militar</th>\n",
       "      <td>2200</td>\n",
       "    </tr>\n",
       "    <tr>\n",
       "      <th>OAB</th>\n",
       "      <td>80</td>\n",
       "    </tr>\n",
       "  </tbody>\n",
       "</table>\n",
       "</div>"
      ],
      "text/plain": [
       "                        etapaEnsino\n",
       "Médio & Pré-Vestibular        35676\n",
       "Fundamental II                33790\n",
       "Fundamental I                 18379\n",
       "Concurso                       9875\n",
       "Militar                        2200\n",
       "OAB                              80"
      ]
     },
     "execution_count": 76,
     "metadata": {},
     "output_type": "execute_result"
    }
   ],
   "source": [
    "data_clone['etapaEnsino'].value_counts().to_frame()"
   ]
  },
  {
   "cell_type": "markdown",
   "metadata": {},
   "source": [
    "Selecionando apenas questões relacionadas ao Ensino Fundamental e Médio"
   ]
  },
  {
   "cell_type": "code",
   "execution_count": 114,
   "metadata": {},
   "outputs": [
    {
     "data": {
      "text/plain": [
       "(87845, 8)"
      ]
     },
     "execution_count": 114,
     "metadata": {},
     "output_type": "execute_result"
    }
   ],
   "source": [
    "data_step_clean_degree = data_clone[data_clone[\"etapaEnsino\"].isin([\"Médio & Pré-Vestibular\", \"Fundamental II\", \"Fundamental I\"])]\n",
    "data_step_clean_degree.shape"
   ]
  },
  {
   "cell_type": "code",
   "execution_count": 78,
   "metadata": {},
   "outputs": [
    {
     "data": {
      "text/html": [
       "<div>\n",
       "<style scoped>\n",
       "    .dataframe tbody tr th:only-of-type {\n",
       "        vertical-align: middle;\n",
       "    }\n",
       "\n",
       "    .dataframe tbody tr th {\n",
       "        vertical-align: top;\n",
       "    }\n",
       "\n",
       "    .dataframe thead th {\n",
       "        text-align: right;\n",
       "    }\n",
       "</style>\n",
       "<table border=\"1\" class=\"dataframe\">\n",
       "  <thead>\n",
       "    <tr style=\"text-align: right;\">\n",
       "      <th></th>\n",
       "      <th>id</th>\n",
       "      <th>questoes</th>\n",
       "      <th>tipoQuestoes</th>\n",
       "      <th>topico</th>\n",
       "      <th>slug</th>\n",
       "      <th>materia</th>\n",
       "      <th>slug.1</th>\n",
       "      <th>etapaEnsino</th>\n",
       "    </tr>\n",
       "  </thead>\n",
       "  <tbody>\n",
       "    <tr>\n",
       "      <th>96676</th>\n",
       "      <td>3897924</td>\n",
       "      <td>&lt;p&gt;3 &amp;ndash; DE ACORDO COM O TEXTO QUE ESTUDAM...</td>\n",
       "      <td>2</td>\n",
       "      <td>Outros</td>\n",
       "      <td>outros</td>\n",
       "      <td>Produção de Texto</td>\n",
       "      <td>producao-de-texto</td>\n",
       "      <td>Fundamental I</td>\n",
       "    </tr>\n",
       "    <tr>\n",
       "      <th>57374</th>\n",
       "      <td>2946062</td>\n",
       "      <td>&lt;p&gt; P&amp;aacute;gina 6&lt;/p&gt;</td>\n",
       "      <td>4</td>\n",
       "      <td>Outros</td>\n",
       "      <td>outros</td>\n",
       "      <td>Produção de Texto</td>\n",
       "      <td>producao-de-texto</td>\n",
       "      <td>Fundamental II</td>\n",
       "    </tr>\n",
       "    <tr>\n",
       "      <th>57390</th>\n",
       "      <td>1358332</td>\n",
       "      <td>&lt;p&gt; No texto 5, em: “Holmes sempre foi o homem...</td>\n",
       "      <td>2</td>\n",
       "      <td>Outros</td>\n",
       "      <td>outros</td>\n",
       "      <td>Produção de Texto</td>\n",
       "      <td>producao-de-texto</td>\n",
       "      <td>Fundamental II</td>\n",
       "    </tr>\n",
       "    <tr>\n",
       "      <th>57104</th>\n",
       "      <td>2938035</td>\n",
       "      <td>&lt;p&gt;&lt;strong&gt;NÃO&lt;/strong&gt; é característica do ar...</td>\n",
       "      <td>2</td>\n",
       "      <td>Outros</td>\n",
       "      <td>outros</td>\n",
       "      <td>Produção de Texto</td>\n",
       "      <td>producao-de-texto</td>\n",
       "      <td>Fundamental II</td>\n",
       "    </tr>\n",
       "    <tr>\n",
       "      <th>87506</th>\n",
       "      <td>1189992</td>\n",
       "      <td>&lt;p&gt; Fotografia da tarefa - caderno de atividad...</td>\n",
       "      <td>4</td>\n",
       "      <td>Outros</td>\n",
       "      <td>outros</td>\n",
       "      <td>Produção de Texto</td>\n",
       "      <td>producao-de-texto</td>\n",
       "      <td>Fundamental II</td>\n",
       "    </tr>\n",
       "  </tbody>\n",
       "</table>\n",
       "</div>"
      ],
      "text/plain": [
       "            id                                           questoes  \\\n",
       "96676  3897924  <p>3 &ndash; DE ACORDO COM O TEXTO QUE ESTUDAM...   \n",
       "57374  2946062                            <p> P&aacute;gina 6</p>   \n",
       "57390  1358332  <p> No texto 5, em: “Holmes sempre foi o homem...   \n",
       "57104  2938035  <p><strong>NÃO</strong> é característica do ar...   \n",
       "87506  1189992  <p> Fotografia da tarefa - caderno de atividad...   \n",
       "\n",
       "       tipoQuestoes  topico    slug            materia             slug.1  \\\n",
       "96676             2  Outros  outros  Produção de Texto  producao-de-texto   \n",
       "57374             4  Outros  outros  Produção de Texto  producao-de-texto   \n",
       "57390             2  Outros  outros  Produção de Texto  producao-de-texto   \n",
       "57104             2  Outros  outros  Produção de Texto  producao-de-texto   \n",
       "87506             4  Outros  outros  Produção de Texto  producao-de-texto   \n",
       "\n",
       "          etapaEnsino  \n",
       "96676   Fundamental I  \n",
       "57374  Fundamental II  \n",
       "57390  Fundamental II  \n",
       "57104  Fundamental II  \n",
       "87506  Fundamental II  "
      ]
     },
     "execution_count": 78,
     "metadata": {},
     "output_type": "execute_result"
    }
   ],
   "source": [
    "data_step_clean_degree[data_step_clean_degree[\"materia\"] == 'Produção de Texto'].sample(5)"
   ]
  },
  {
   "cell_type": "code",
   "execution_count": 115,
   "metadata": {},
   "outputs": [
    {
     "data": {
      "text/plain": [
       "Língua inglesa              1\n",
       "Geral                       2\n",
       "Conhecimentos Gerais        7\n",
       "Italiano                   11\n",
       "Francês                    17\n",
       "Alemão                     25\n",
       "Ciências Humanas           33\n",
       "Desenho Geométrico         53\n",
       "Atualidades                70\n",
       "Produção de Texto         371\n",
       "Ensino Religioso          468\n",
       "Redação                  1035\n",
       "Sociologia               1392\n",
       "Outros                   1522\n",
       "Literatura               2199\n",
       "Espanhol                 2278\n",
       "Educação Física          2349\n",
       "Biologia                 3041\n",
       "Química                  3108\n",
       "Arte                     3681\n",
       "Filosofia                3714\n",
       "Física                   5366\n",
       "Ciências                 7095\n",
       "Inglês                   7968\n",
       "História                 8913\n",
       "Geografia                9111\n",
       "Língua Portuguesa       11887\n",
       "Matemática              12128\n",
       "Name: materia, dtype: int64"
      ]
     },
     "execution_count": 115,
     "metadata": {},
     "output_type": "execute_result"
    }
   ],
   "source": [
    "data_step_clean_degree[\"materia\"].value_counts(ascending=True)"
   ]
  },
  {
   "cell_type": "markdown",
   "metadata": {},
   "source": [
    "- Agrupando categorias"
   ]
  },
  {
   "cell_type": "code",
   "execution_count": 116,
   "metadata": {},
   "outputs": [],
   "source": [
    "data_step_clean_subjects = data_step_clean_degree.copy()\n",
    "\n",
    "data_step_clean_subjects.replace('Língua inglesa','Inglês', inplace = True)\n",
    "data_step_clean_subjects.replace('Conhecimentos Gerais','Geral', inplace = True)\n",
    "data_step_clean_subjects.replace('Desenho Geométrico','Matemática', inplace = True)\n",
    "data_step_clean_subjects.replace(['Produção de Texto', 'Redação', 'Literatura'],'Língua Portuguesa', inplace = True)"
   ]
  },
  {
   "cell_type": "markdown",
   "metadata": {},
   "source": [
    "- Excluindo categorias"
   ]
  },
  {
   "cell_type": "code",
   "execution_count": 117,
   "metadata": {},
   "outputs": [
    {
     "data": {
      "text/plain": [
       "(83880, 8)"
      ]
     },
     "execution_count": 117,
     "metadata": {},
     "output_type": "execute_result"
    }
   ],
   "source": [
    "data_step_clean_subjects = data_step_clean_subjects[~data_step_clean_subjects[\"materia\"].isin([\n",
    "    'Italiano', 'Francês','Alemão', 'Atualidades','Espanhol','Geral', 'Outros', 'Ciências Humanas'])]\n",
    "data_step_clean_subjects.shape"
   ]
  },
  {
   "cell_type": "code",
   "execution_count": 108,
   "metadata": {},
   "outputs": [
    {
     "data": {
      "text/plain": [
       "Língua Portuguesa    15492\n",
       "Matemática           12181\n",
       "Geografia             9111\n",
       "História              8913\n",
       "Inglês                7969\n",
       "Ciências              7095\n",
       "Física                5366\n",
       "Filosofia             3714\n",
       "Arte                  3681\n",
       "Química               3108\n",
       "Biologia              3041\n",
       "Educação Física       2349\n",
       "Sociologia            1392\n",
       "Ensino Religioso       468\n",
       "Name: materia, dtype: int64"
      ]
     },
     "execution_count": 108,
     "metadata": {},
     "output_type": "execute_result"
    }
   ],
   "source": [
    "data_step_clean_subjects['materia'].value_counts()"
   ]
  },
  {
   "cell_type": "markdown",
   "metadata": {},
   "source": [
    "### Criando categorias reduzidas"
   ]
  },
  {
   "cell_type": "code",
   "execution_count": null,
   "metadata": {},
   "outputs": [],
   "source": [
    "data_step_clean_main_areas = data_step_clean_subjects.copy()\n",
    "\n",
    "data_step_clean_main_areas.replace('Língua inglesa','Inglês', inplace = True)"
   ]
  },
  {
   "cell_type": "markdown",
   "metadata": {},
   "source": [
    "### Tipo questão"
   ]
  },
  {
   "cell_type": "markdown",
   "metadata": {},
   "source": [
    "A variável tipoQuestoes contém items dos tipos:\n",
    "\n",
    "1. Somatória\n",
    "2. Múltipla Escolha\n",
    "3. Certo e Errado\n",
    "4. Discursiva\n",
    "5. Redação ou items que é necessário enviar foto da resolução\n",
    "6. Questões com mais de uma alternativa certa\n",
    "7. Não representa nada em específico\n",
    "\n",
    "Iremos remover questoes tipo 5 e 6 pois não se adequam ao tipo de alvo do nosso problema."
   ]
  },
  {
   "cell_type": "code",
   "execution_count": 94,
   "metadata": {},
   "outputs": [
    {
     "data": {
      "text/html": [
       "<div>\n",
       "<style scoped>\n",
       "    .dataframe tbody tr th:only-of-type {\n",
       "        vertical-align: middle;\n",
       "    }\n",
       "\n",
       "    .dataframe tbody tr th {\n",
       "        vertical-align: top;\n",
       "    }\n",
       "\n",
       "    .dataframe thead th {\n",
       "        text-align: right;\n",
       "    }\n",
       "</style>\n",
       "<table border=\"1\" class=\"dataframe\">\n",
       "  <thead>\n",
       "    <tr style=\"text-align: right;\">\n",
       "      <th></th>\n",
       "      <th>tipoQuestoes</th>\n",
       "    </tr>\n",
       "  </thead>\n",
       "  <tbody>\n",
       "    <tr>\n",
       "      <th>2</th>\n",
       "      <td>65544</td>\n",
       "    </tr>\n",
       "    <tr>\n",
       "      <th>4</th>\n",
       "      <td>13282</td>\n",
       "    </tr>\n",
       "    <tr>\n",
       "      <th>1</th>\n",
       "      <td>2860</td>\n",
       "    </tr>\n",
       "    <tr>\n",
       "      <th>3</th>\n",
       "      <td>1044</td>\n",
       "    </tr>\n",
       "    <tr>\n",
       "      <th>5</th>\n",
       "      <td>978</td>\n",
       "    </tr>\n",
       "    <tr>\n",
       "      <th>7</th>\n",
       "      <td>201</td>\n",
       "    </tr>\n",
       "    <tr>\n",
       "      <th>6</th>\n",
       "      <td>4</td>\n",
       "    </tr>\n",
       "  </tbody>\n",
       "</table>\n",
       "</div>"
      ],
      "text/plain": [
       "   tipoQuestoes\n",
       "2         65544\n",
       "4         13282\n",
       "1          2860\n",
       "3          1044\n",
       "5           978\n",
       "7           201\n",
       "6             4"
      ]
     },
     "execution_count": 94,
     "metadata": {},
     "output_type": "execute_result"
    }
   ],
   "source": [
    "data_step_clean_subjects[\"tipoQuestoes\"].value_counts(ascending=False).to_frame()"
   ]
  },
  {
   "cell_type": "markdown",
   "metadata": {},
   "source": [
    "Obs.: Questoes tipo Multipla escolha e Discursiva somam a maioria das questões"
   ]
  },
  {
   "cell_type": "markdown",
   "metadata": {},
   "source": [
    "### Remover as questoes tipo 6 e 7"
   ]
  },
  {
   "cell_type": "code",
   "execution_count": 118,
   "metadata": {},
   "outputs": [
    {
     "data": {
      "text/plain": [
       "(83675, 8)"
      ]
     },
     "execution_count": 118,
     "metadata": {},
     "output_type": "execute_result"
    }
   ],
   "source": [
    "data_step_clean_ques = data_step_clean_subjects[~data_step_clean_subjects[\"tipoQuestoes\"].isin([6, 7])]\n",
    "data_step_clean_ques.shape"
   ]
  },
  {
   "cell_type": "code",
   "execution_count": 84,
   "metadata": {},
   "outputs": [
    {
     "data": {
      "text/html": [
       "<div>\n",
       "<style scoped>\n",
       "    .dataframe tbody tr th:only-of-type {\n",
       "        vertical-align: middle;\n",
       "    }\n",
       "\n",
       "    .dataframe tbody tr th {\n",
       "        vertical-align: top;\n",
       "    }\n",
       "\n",
       "    .dataframe thead th {\n",
       "        text-align: right;\n",
       "    }\n",
       "</style>\n",
       "<table border=\"1\" class=\"dataframe\">\n",
       "  <thead>\n",
       "    <tr style=\"text-align: right;\">\n",
       "      <th></th>\n",
       "      <th>id</th>\n",
       "      <th>questoes</th>\n",
       "      <th>tipoQuestoes</th>\n",
       "      <th>topico</th>\n",
       "      <th>slug</th>\n",
       "      <th>materia</th>\n",
       "      <th>slug.1</th>\n",
       "      <th>etapaEnsino</th>\n",
       "    </tr>\n",
       "  </thead>\n",
       "  <tbody>\n",
       "    <tr>\n",
       "      <th>0</th>\n",
       "      <td>3486670</td>\n",
       "      <td>&lt;p&gt;Com base em seus conhecimentos sobre o comp...</td>\n",
       "      <td>2</td>\n",
       "      <td>História da Arte</td>\n",
       "      <td>historia-da-arte</td>\n",
       "      <td>Arte</td>\n",
       "      <td>arte</td>\n",
       "      <td>Fundamental II</td>\n",
       "    </tr>\n",
       "    <tr>\n",
       "      <th>1</th>\n",
       "      <td>3343927</td>\n",
       "      <td>&lt;p&gt;&amp;ldquo;Achar um n&amp;uacute;mero que, somado c...</td>\n",
       "      <td>2</td>\n",
       "      <td>Álgebra: Equações do 2º grau: Equação do 2º gr...</td>\n",
       "      <td>algebra-equacoes-do-2o-grau-equacao-do-2o-grau...</td>\n",
       "      <td>Matemática</td>\n",
       "      <td>matematica</td>\n",
       "      <td>Fundamental II</td>\n",
       "    </tr>\n",
       "    <tr>\n",
       "      <th>4</th>\n",
       "      <td>3691951</td>\n",
       "      <td>&lt;p style=\"padding:0px;margin:10px 0px 0px;outl...</td>\n",
       "      <td>2</td>\n",
       "      <td>Outros</td>\n",
       "      <td>outros</td>\n",
       "      <td>Química</td>\n",
       "      <td>quimica</td>\n",
       "      <td>Fundamental II</td>\n",
       "    </tr>\n",
       "    <tr>\n",
       "      <th>5</th>\n",
       "      <td>2016466</td>\n",
       "      <td>&lt;p&gt;&lt;strong&gt;Anexe nesse espa&amp;ccedil;o uma foto ...</td>\n",
       "      <td>4</td>\n",
       "      <td>Proposta</td>\n",
       "      <td>proposta</td>\n",
       "      <td>Língua Portuguesa</td>\n",
       "      <td>redacao</td>\n",
       "      <td>Fundamental I</td>\n",
       "    </tr>\n",
       "    <tr>\n",
       "      <th>6</th>\n",
       "      <td>1744035</td>\n",
       "      <td>&lt;p&gt;Pagina nr. 54 do Livro did&amp;aacute;tico.&lt;/p&gt;</td>\n",
       "      <td>4</td>\n",
       "      <td>Idade Moderna: Revolução Francesa: Antecedente...</td>\n",
       "      <td>idade-moderna-revolucao-francesa-antecedentes-...</td>\n",
       "      <td>História</td>\n",
       "      <td>historia</td>\n",
       "      <td>Fundamental II</td>\n",
       "    </tr>\n",
       "  </tbody>\n",
       "</table>\n",
       "</div>"
      ],
      "text/plain": [
       "        id                                           questoes  tipoQuestoes  \\\n",
       "0  3486670  <p>Com base em seus conhecimentos sobre o comp...             2   \n",
       "1  3343927  <p>&ldquo;Achar um n&uacute;mero que, somado c...             2   \n",
       "4  3691951  <p style=\"padding:0px;margin:10px 0px 0px;outl...             2   \n",
       "5  2016466  <p><strong>Anexe nesse espa&ccedil;o uma foto ...             4   \n",
       "6  1744035     <p>Pagina nr. 54 do Livro did&aacute;tico.</p>             4   \n",
       "\n",
       "                                              topico  \\\n",
       "0                                   História da Arte   \n",
       "1  Álgebra: Equações do 2º grau: Equação do 2º gr...   \n",
       "4                                             Outros   \n",
       "5                                           Proposta   \n",
       "6  Idade Moderna: Revolução Francesa: Antecedente...   \n",
       "\n",
       "                                                slug            materia  \\\n",
       "0                                   historia-da-arte               Arte   \n",
       "1  algebra-equacoes-do-2o-grau-equacao-do-2o-grau...         Matemática   \n",
       "4                                             outros            Química   \n",
       "5                                           proposta  Língua Portuguesa   \n",
       "6  idade-moderna-revolucao-francesa-antecedentes-...           História   \n",
       "\n",
       "       slug.1     etapaEnsino  \n",
       "0        arte  Fundamental II  \n",
       "1  matematica  Fundamental II  \n",
       "4     quimica  Fundamental II  \n",
       "5     redacao   Fundamental I  \n",
       "6    historia  Fundamental II  "
      ]
     },
     "execution_count": 84,
     "metadata": {},
     "output_type": "execute_result"
    }
   ],
   "source": [
    "data_step_clean_ques.head()"
   ]
  },
  {
   "cell_type": "code",
   "execution_count": 106,
   "metadata": {},
   "outputs": [
    {
     "data": {
      "text/html": [
       "<div>\n",
       "<style scoped>\n",
       "    .dataframe tbody tr th:only-of-type {\n",
       "        vertical-align: middle;\n",
       "    }\n",
       "\n",
       "    .dataframe tbody tr th {\n",
       "        vertical-align: top;\n",
       "    }\n",
       "\n",
       "    .dataframe thead th {\n",
       "        text-align: right;\n",
       "    }\n",
       "</style>\n",
       "<table border=\"1\" class=\"dataframe\">\n",
       "  <thead>\n",
       "    <tr style=\"text-align: right;\">\n",
       "      <th></th>\n",
       "      <th>topico</th>\n",
       "    </tr>\n",
       "  </thead>\n",
       "  <tbody>\n",
       "    <tr>\n",
       "      <th>Outros</th>\n",
       "      <td>24114</td>\n",
       "    </tr>\n",
       "    <tr>\n",
       "      <th>Vocabulary</th>\n",
       "      <td>1122</td>\n",
       "    </tr>\n",
       "    <tr>\n",
       "      <th>Gêneros textuais: Interpretação</th>\n",
       "      <td>894</td>\n",
       "    </tr>\n",
       "    <tr>\n",
       "      <th>Geral</th>\n",
       "      <td>682</td>\n",
       "    </tr>\n",
       "    <tr>\n",
       "      <th>Text Comprehension</th>\n",
       "      <td>607</td>\n",
       "    </tr>\n",
       "    <tr>\n",
       "      <th>...</th>\n",
       "      <td>...</td>\n",
       "    </tr>\n",
       "    <tr>\n",
       "      <th>Matéria e energia: Fontes e tipos de energia: Tipos de usinas geradoras de energia elétrica</th>\n",
       "      <td>1</td>\n",
       "    </tr>\n",
       "    <tr>\n",
       "      <th>Arte na Idade Média: Arte românica</th>\n",
       "      <td>1</td>\n",
       "    </tr>\n",
       "    <tr>\n",
       "      <th>Matemática Básica: Mínimo Múltiplo Comum</th>\n",
       "      <td>1</td>\n",
       "    </tr>\n",
       "    <tr>\n",
       "      <th>Biogeografia</th>\n",
       "      <td>1</td>\n",
       "    </tr>\n",
       "    <tr>\n",
       "      <th>Gêneros Textuais: Caracterização: Resumo</th>\n",
       "      <td>1</td>\n",
       "    </tr>\n",
       "  </tbody>\n",
       "</table>\n",
       "<p>3079 rows × 1 columns</p>\n",
       "</div>"
      ],
      "text/plain": [
       "                                                    topico\n",
       "Outros                                               24114\n",
       "Vocabulary                                            1122\n",
       "Gêneros textuais: Interpretação                        894\n",
       "Geral                                                  682\n",
       "Text Comprehension                                     607\n",
       "...                                                    ...\n",
       "Matéria e energia: Fontes e tipos de energia: T...       1\n",
       "Arte na Idade Média: Arte românica                       1\n",
       "Matemática Básica: Mínimo Múltiplo Comum                 1\n",
       "Biogeografia                                             1\n",
       "Gêneros Textuais: Caracterização: Resumo                 1\n",
       "\n",
       "[3079 rows x 1 columns]"
      ]
     },
     "execution_count": 106,
     "metadata": {},
     "output_type": "execute_result"
    }
   ],
   "source": [
    "data_step_clean_ques[\"topico\"].value_counts(ascending=False).to_frame()"
   ]
  },
  {
   "cell_type": "code",
   "execution_count": 119,
   "metadata": {},
   "outputs": [
    {
     "data": {
      "text/html": [
       "<div>\n",
       "<style scoped>\n",
       "    .dataframe tbody tr th:only-of-type {\n",
       "        vertical-align: middle;\n",
       "    }\n",
       "\n",
       "    .dataframe tbody tr th {\n",
       "        vertical-align: top;\n",
       "    }\n",
       "\n",
       "    .dataframe thead th {\n",
       "        text-align: right;\n",
       "    }\n",
       "</style>\n",
       "<table border=\"1\" class=\"dataframe\">\n",
       "  <thead>\n",
       "    <tr style=\"text-align: right;\">\n",
       "      <th></th>\n",
       "      <th>index</th>\n",
       "      <th>topico</th>\n",
       "    </tr>\n",
       "  </thead>\n",
       "  <tbody>\n",
       "    <tr>\n",
       "      <th>2704</th>\n",
       "      <td>Senso Comum e Ideologia</td>\n",
       "      <td>1</td>\n",
       "    </tr>\n",
       "    <tr>\n",
       "      <th>2705</th>\n",
       "      <td>Filosofia Moderna: Utilitarismo: John Stuart Mill</td>\n",
       "      <td>1</td>\n",
       "    </tr>\n",
       "    <tr>\n",
       "      <th>2706</th>\n",
       "      <td>Ator</td>\n",
       "      <td>1</td>\n",
       "    </tr>\n",
       "    <tr>\n",
       "      <th>2707</th>\n",
       "      <td>Clima, relevo e vegetação na formação da paisa...</td>\n",
       "      <td>1</td>\n",
       "    </tr>\n",
       "    <tr>\n",
       "      <th>2708</th>\n",
       "      <td>Estatística: Interpretação e desenvolvimento d...</td>\n",
       "      <td>1</td>\n",
       "    </tr>\n",
       "    <tr>\n",
       "      <th>...</th>\n",
       "      <td>...</td>\n",
       "      <td>...</td>\n",
       "    </tr>\n",
       "    <tr>\n",
       "      <th>3074</th>\n",
       "      <td>Matéria e energia: Fontes e tipos de energia: ...</td>\n",
       "      <td>1</td>\n",
       "    </tr>\n",
       "    <tr>\n",
       "      <th>3075</th>\n",
       "      <td>Arte na Idade Média: Arte românica</td>\n",
       "      <td>1</td>\n",
       "    </tr>\n",
       "    <tr>\n",
       "      <th>3076</th>\n",
       "      <td>Matemática Básica: Mínimo Múltiplo Comum</td>\n",
       "      <td>1</td>\n",
       "    </tr>\n",
       "    <tr>\n",
       "      <th>3077</th>\n",
       "      <td>Biogeografia</td>\n",
       "      <td>1</td>\n",
       "    </tr>\n",
       "    <tr>\n",
       "      <th>3078</th>\n",
       "      <td>Gêneros Textuais: Caracterização: Resumo</td>\n",
       "      <td>1</td>\n",
       "    </tr>\n",
       "  </tbody>\n",
       "</table>\n",
       "<p>375 rows × 2 columns</p>\n",
       "</div>"
      ],
      "text/plain": [
       "                                                  index  topico\n",
       "2704                            Senso Comum e Ideologia       1\n",
       "2705  Filosofia Moderna: Utilitarismo: John Stuart Mill       1\n",
       "2706                                               Ator       1\n",
       "2707  Clima, relevo e vegetação na formação da paisa...       1\n",
       "2708  Estatística: Interpretação e desenvolvimento d...       1\n",
       "...                                                 ...     ...\n",
       "3074  Matéria e energia: Fontes e tipos de energia: ...       1\n",
       "3075                 Arte na Idade Média: Arte românica       1\n",
       "3076           Matemática Básica: Mínimo Múltiplo Comum       1\n",
       "3077                                       Biogeografia       1\n",
       "3078           Gêneros Textuais: Caracterização: Resumo       1\n",
       "\n",
       "[375 rows x 2 columns]"
      ]
     },
     "execution_count": 119,
     "metadata": {},
     "output_type": "execute_result"
    }
   ],
   "source": [
    "p = data_step_clean_ques[\"topico\"].value_counts().reset_index()\n",
    "p[p['topico'] == 1]"
   ]
  },
  {
   "cell_type": "code",
   "execution_count": 120,
   "metadata": {},
   "outputs": [],
   "source": [
    "data_step_clean_ques.to_csv(r'C:/Users/Danilo/Desktop/Documentos Acadêmicos/TERA/TERAprojetos/Projeto final/BNCC/repo/bncc-classifier/data/curated/data_eda_treat_will.csv', index = False)\n"
   ]
  }
 ],
 "metadata": {
  "interpreter": {
   "hash": "225624be816c5ebb69535c62bef1c42756c7997d53b988f5d19a3716cb17cbae"
  },
  "kernelspec": {
   "display_name": "Python 3.10.2 64-bit",
   "language": "python",
   "name": "python3"
  },
  "language_info": {
   "codemirror_mode": {
    "name": "ipython",
    "version": 3
   },
   "file_extension": ".py",
   "mimetype": "text/x-python",
   "name": "python",
   "nbconvert_exporter": "python",
   "pygments_lexer": "ipython3",
   "version": "3.10.2"
  },
  "orig_nbformat": 4
 },
 "nbformat": 4,
 "nbformat_minor": 2
}
