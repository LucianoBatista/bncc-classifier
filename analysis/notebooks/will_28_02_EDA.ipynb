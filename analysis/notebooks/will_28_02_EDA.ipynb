{
 "cells": [
  {
   "cell_type": "code",
   "execution_count": 3,
   "id": "681beb90",
   "metadata": {},
   "outputs": [],
   "source": [
    "import pandas as pd\n",
    "import numpy as np\n",
    "import html\n",
    "import nltk\n",
    "import regex as re\n",
    "import string\n",
    "import spacy\n",
    "import seaborn as sns\n",
    "import matplotlib.pyplot as plt\n",
    "from nltk.corpus import stopwords\n",
    "from nltk.tokenize import word_tokenize"
   ]
  },
  {
   "cell_type": "code",
   "execution_count": 4,
   "metadata": {},
   "outputs": [],
   "source": [
    "# data = pd.read_csv('C:/Users/Danilo/Desktop/Documentos Acadêmicos/TERA/TERAprojetos/Projeto final/BNCC/repo/bncc-classifier/data/raw/bncc_first_classifier.csv')\n",
    "data = pd.read_csv(\"../../data/raw/bncc_first_classifier.csv\")\n"
   ]
  },
  {
   "cell_type": "code",
   "execution_count": 5,
   "metadata": {},
   "outputs": [],
   "source": [
    "data_clone = data.copy()"
   ]
  },
  {
   "cell_type": "code",
   "execution_count": 6,
   "metadata": {},
   "outputs": [
    {
     "data": {
      "text/plain": "        id                                           questoes  tipoQuestoes  \\\n0  3486670  <p>Com base em seus conhecimentos sobre o comp...             2   \n1  3343927  <p>&ldquo;Achar um n&uacute;mero que, somado c...             2   \n2  1927600  <p>2. Complete os espaços abaixo com os artigo...             4   \n3   106855  <p><div> A respeito dos serviços públicos e da...             2   \n4  3691951  <p style=\"padding:0px;margin:10px 0px 0px;outl...             2   \n\n                                              topico  \\\n0                                   História da Arte   \n1  Álgebra: Equações do 2º grau: Equação do 2º gr...   \n2                                             Outros   \n3                   Responsabilidade Civil do Estado   \n4                                             Outros   \n\n                                                slug                 materia  \\\n0                                   historia-da-arte                    Arte   \n1  algebra-equacoes-do-2o-grau-equacao-do-2o-grau...              Matemática   \n2                                             outros                Espanhol   \n3                   responsabilidade-civil-do-estado  Direito Administrativo   \n4                                             outros                 Química   \n\n                   slug.1     etapaEnsino  \n0                    arte  Fundamental II  \n1              matematica  Fundamental II  \n2                espanhol  Fundamental II  \n3  direito-administrativo        Concurso  \n4                 quimica  Fundamental II  ",
      "text/html": "<div>\n<style scoped>\n    .dataframe tbody tr th:only-of-type {\n        vertical-align: middle;\n    }\n\n    .dataframe tbody tr th {\n        vertical-align: top;\n    }\n\n    .dataframe thead th {\n        text-align: right;\n    }\n</style>\n<table border=\"1\" class=\"dataframe\">\n  <thead>\n    <tr style=\"text-align: right;\">\n      <th></th>\n      <th>id</th>\n      <th>questoes</th>\n      <th>tipoQuestoes</th>\n      <th>topico</th>\n      <th>slug</th>\n      <th>materia</th>\n      <th>slug.1</th>\n      <th>etapaEnsino</th>\n    </tr>\n  </thead>\n  <tbody>\n    <tr>\n      <th>0</th>\n      <td>3486670</td>\n      <td>&lt;p&gt;Com base em seus conhecimentos sobre o comp...</td>\n      <td>2</td>\n      <td>História da Arte</td>\n      <td>historia-da-arte</td>\n      <td>Arte</td>\n      <td>arte</td>\n      <td>Fundamental II</td>\n    </tr>\n    <tr>\n      <th>1</th>\n      <td>3343927</td>\n      <td>&lt;p&gt;&amp;ldquo;Achar um n&amp;uacute;mero que, somado c...</td>\n      <td>2</td>\n      <td>Álgebra: Equações do 2º grau: Equação do 2º gr...</td>\n      <td>algebra-equacoes-do-2o-grau-equacao-do-2o-grau...</td>\n      <td>Matemática</td>\n      <td>matematica</td>\n      <td>Fundamental II</td>\n    </tr>\n    <tr>\n      <th>2</th>\n      <td>1927600</td>\n      <td>&lt;p&gt;2. Complete os espaços abaixo com os artigo...</td>\n      <td>4</td>\n      <td>Outros</td>\n      <td>outros</td>\n      <td>Espanhol</td>\n      <td>espanhol</td>\n      <td>Fundamental II</td>\n    </tr>\n    <tr>\n      <th>3</th>\n      <td>106855</td>\n      <td>&lt;p&gt;&lt;div&gt; A respeito dos serviços públicos e da...</td>\n      <td>2</td>\n      <td>Responsabilidade Civil do Estado</td>\n      <td>responsabilidade-civil-do-estado</td>\n      <td>Direito Administrativo</td>\n      <td>direito-administrativo</td>\n      <td>Concurso</td>\n    </tr>\n    <tr>\n      <th>4</th>\n      <td>3691951</td>\n      <td>&lt;p style=\"padding:0px;margin:10px 0px 0px;outl...</td>\n      <td>2</td>\n      <td>Outros</td>\n      <td>outros</td>\n      <td>Química</td>\n      <td>quimica</td>\n      <td>Fundamental II</td>\n    </tr>\n  </tbody>\n</table>\n</div>"
     },
     "execution_count": 6,
     "metadata": {},
     "output_type": "execute_result"
    }
   ],
   "source": [
    "# renomeando as colunas do dataset\n",
    "\n",
    "data_clone.columns = ['id', 'questoes', 'tipoQuestoes', 'topico', 'slug', 'materia', 'slug.1','etapaEnsino']\n",
    "data_clone.head()"
   ]
  },
  {
   "cell_type": "markdown",
   "metadata": {},
   "source": [
    "# EDA"
   ]
  },
  {
   "cell_type": "code",
   "execution_count": 7,
   "metadata": {},
   "outputs": [
    {
     "data": {
      "text/plain": "(100000, 8)"
     },
     "execution_count": 7,
     "metadata": {},
     "output_type": "execute_result"
    }
   ],
   "source": [
    "data_clone.shape"
   ]
  },
  {
   "cell_type": "code",
   "execution_count": 8,
   "metadata": {},
   "outputs": [
    {
     "data": {
      "text/plain": "                        etapaEnsino\nMédio & Pré-Vestibular        35676\nFundamental II                33790\nFundamental I                 18379\nConcurso                       9875\nMilitar                        2200\nOAB                              80",
      "text/html": "<div>\n<style scoped>\n    .dataframe tbody tr th:only-of-type {\n        vertical-align: middle;\n    }\n\n    .dataframe tbody tr th {\n        vertical-align: top;\n    }\n\n    .dataframe thead th {\n        text-align: right;\n    }\n</style>\n<table border=\"1\" class=\"dataframe\">\n  <thead>\n    <tr style=\"text-align: right;\">\n      <th></th>\n      <th>etapaEnsino</th>\n    </tr>\n  </thead>\n  <tbody>\n    <tr>\n      <th>Médio &amp; Pré-Vestibular</th>\n      <td>35676</td>\n    </tr>\n    <tr>\n      <th>Fundamental II</th>\n      <td>33790</td>\n    </tr>\n    <tr>\n      <th>Fundamental I</th>\n      <td>18379</td>\n    </tr>\n    <tr>\n      <th>Concurso</th>\n      <td>9875</td>\n    </tr>\n    <tr>\n      <th>Militar</th>\n      <td>2200</td>\n    </tr>\n    <tr>\n      <th>OAB</th>\n      <td>80</td>\n    </tr>\n  </tbody>\n</table>\n</div>"
     },
     "execution_count": 8,
     "metadata": {},
     "output_type": "execute_result"
    }
   ],
   "source": [
    "data_clone['etapaEnsino'].value_counts().to_frame()"
   ]
  },
  {
   "cell_type": "markdown",
   "metadata": {},
   "source": [
    "Selecionando apenas questões relacionadas ao Ensino Fundamental e Médio"
   ]
  },
  {
   "cell_type": "code",
   "execution_count": 9,
   "metadata": {},
   "outputs": [
    {
     "data": {
      "text/plain": "(87845, 8)"
     },
     "execution_count": 9,
     "metadata": {},
     "output_type": "execute_result"
    }
   ],
   "source": [
    "data_step_clean_degree = data_clone[data_clone[\"etapaEnsino\"].isin([\"Médio & Pré-Vestibular\", \"Fundamental II\", \"Fundamental I\"])]\n",
    "data_step_clean_degree.shape"
   ]
  },
  {
   "cell_type": "code",
   "execution_count": 10,
   "metadata": {},
   "outputs": [
    {
     "data": {
      "text/plain": "            id                                           questoes  \\\n57190  3625929  <p>Leia o seguinte verbete de dicion&aacute;ri...   \n70882  1021960  <p>Em 10 de dezembro de 1948, a Organiza&ccedi...   \n80569  3231968  <p><strong>2. Textos instrucionais s&atilde;o ...   \n50321  4315493  <p>(1,0)</p><p><br></p><p><strong>Leia os text...   \n82925  1623470  <p>* LIVRO DE ATIVIDADES.</p><p>* PRODU&Ccedil...   \n\n       tipoQuestoes  topico    slug            materia             slug.1  \\\n57190             4  Outros  outros  Produção de Texto  producao-de-texto   \n70882             2  Outros  outros  Produção de Texto  producao-de-texto   \n80569             2  Outros  outros  Produção de Texto  producao-de-texto   \n50321             2  Outros  outros  Produção de Texto  producao-de-texto   \n82925             4  Outros  outros  Produção de Texto  producao-de-texto   \n\n          etapaEnsino  \n57190  Fundamental II  \n70882  Fundamental II  \n80569  Fundamental II  \n50321  Fundamental II  \n82925  Fundamental II  ",
      "text/html": "<div>\n<style scoped>\n    .dataframe tbody tr th:only-of-type {\n        vertical-align: middle;\n    }\n\n    .dataframe tbody tr th {\n        vertical-align: top;\n    }\n\n    .dataframe thead th {\n        text-align: right;\n    }\n</style>\n<table border=\"1\" class=\"dataframe\">\n  <thead>\n    <tr style=\"text-align: right;\">\n      <th></th>\n      <th>id</th>\n      <th>questoes</th>\n      <th>tipoQuestoes</th>\n      <th>topico</th>\n      <th>slug</th>\n      <th>materia</th>\n      <th>slug.1</th>\n      <th>etapaEnsino</th>\n    </tr>\n  </thead>\n  <tbody>\n    <tr>\n      <th>57190</th>\n      <td>3625929</td>\n      <td>&lt;p&gt;Leia o seguinte verbete de dicion&amp;aacute;ri...</td>\n      <td>4</td>\n      <td>Outros</td>\n      <td>outros</td>\n      <td>Produção de Texto</td>\n      <td>producao-de-texto</td>\n      <td>Fundamental II</td>\n    </tr>\n    <tr>\n      <th>70882</th>\n      <td>1021960</td>\n      <td>&lt;p&gt;Em 10 de dezembro de 1948, a Organiza&amp;ccedi...</td>\n      <td>2</td>\n      <td>Outros</td>\n      <td>outros</td>\n      <td>Produção de Texto</td>\n      <td>producao-de-texto</td>\n      <td>Fundamental II</td>\n    </tr>\n    <tr>\n      <th>80569</th>\n      <td>3231968</td>\n      <td>&lt;p&gt;&lt;strong&gt;2. Textos instrucionais s&amp;atilde;o ...</td>\n      <td>2</td>\n      <td>Outros</td>\n      <td>outros</td>\n      <td>Produção de Texto</td>\n      <td>producao-de-texto</td>\n      <td>Fundamental II</td>\n    </tr>\n    <tr>\n      <th>50321</th>\n      <td>4315493</td>\n      <td>&lt;p&gt;(1,0)&lt;/p&gt;&lt;p&gt;&lt;br&gt;&lt;/p&gt;&lt;p&gt;&lt;strong&gt;Leia os text...</td>\n      <td>2</td>\n      <td>Outros</td>\n      <td>outros</td>\n      <td>Produção de Texto</td>\n      <td>producao-de-texto</td>\n      <td>Fundamental II</td>\n    </tr>\n    <tr>\n      <th>82925</th>\n      <td>1623470</td>\n      <td>&lt;p&gt;* LIVRO DE ATIVIDADES.&lt;/p&gt;&lt;p&gt;* PRODU&amp;Ccedil...</td>\n      <td>4</td>\n      <td>Outros</td>\n      <td>outros</td>\n      <td>Produção de Texto</td>\n      <td>producao-de-texto</td>\n      <td>Fundamental II</td>\n    </tr>\n  </tbody>\n</table>\n</div>"
     },
     "execution_count": 10,
     "metadata": {},
     "output_type": "execute_result"
    }
   ],
   "source": [
    "data_step_clean_degree[data_step_clean_degree[\"materia\"] == 'Produção de Texto'].sample(5)"
   ]
  },
  {
   "cell_type": "code",
   "execution_count": 11,
   "metadata": {},
   "outputs": [
    {
     "data": {
      "text/plain": "Língua inglesa              1\nGeral                       2\nConhecimentos Gerais        7\nItaliano                   11\nFrancês                    17\nAlemão                     25\nCiências Humanas           33\nDesenho Geométrico         53\nAtualidades                70\nProdução de Texto         371\nEnsino Religioso          468\nRedação                  1035\nSociologia               1392\nOutros                   1522\nLiteratura               2199\nEspanhol                 2278\nEducação Física          2349\nBiologia                 3041\nQuímica                  3108\nArte                     3681\nFilosofia                3714\nFísica                   5366\nCiências                 7095\nInglês                   7968\nHistória                 8913\nGeografia                9111\nLíngua Portuguesa       11887\nMatemática              12128\nName: materia, dtype: int64"
     },
     "execution_count": 11,
     "metadata": {},
     "output_type": "execute_result"
    }
   ],
   "source": [
    "data_step_clean_degree[\"materia\"].value_counts(ascending=True)"
   ]
  },
  {
   "cell_type": "markdown",
   "metadata": {},
   "source": [
    "- Agrupando categorias"
   ]
  },
  {
   "cell_type": "code",
   "execution_count": 12,
   "metadata": {},
   "outputs": [],
   "source": [
    "data_step_clean_subjects = data_step_clean_degree.copy()\n",
    "\n",
    "data_step_clean_subjects.replace('Língua inglesa','Inglês', inplace = True)\n",
    "data_step_clean_subjects.replace('Conhecimentos Gerais','Geral', inplace = True)\n",
    "data_step_clean_subjects.replace('Desenho Geométrico','Matemática', inplace = True)\n",
    "data_step_clean_subjects.replace(['Produção de Texto', 'Redação', 'Literatura'],'Língua Portuguesa', inplace = True)"
   ]
  },
  {
   "cell_type": "markdown",
   "metadata": {},
   "source": [
    "- Excluindo categorias"
   ]
  },
  {
   "cell_type": "code",
   "execution_count": 13,
   "metadata": {},
   "outputs": [
    {
     "data": {
      "text/plain": "(83880, 8)"
     },
     "execution_count": 13,
     "metadata": {},
     "output_type": "execute_result"
    }
   ],
   "source": [
    "data_step_clean_subjects = data_step_clean_subjects[~data_step_clean_subjects[\"materia\"].isin([\n",
    "    'Italiano', 'Francês','Alemão', 'Atualidades','Espanhol','Geral', 'Outros', 'Ciências Humanas'])]\n",
    "data_step_clean_subjects.shape"
   ]
  },
  {
   "cell_type": "code",
   "execution_count": 14,
   "metadata": {},
   "outputs": [
    {
     "data": {
      "text/plain": "Língua Portuguesa    15492\nMatemática           12181\nGeografia             9111\nHistória              8913\nInglês                7969\nCiências              7095\nFísica                5366\nFilosofia             3714\nArte                  3681\nQuímica               3108\nBiologia              3041\nEducação Física       2349\nSociologia            1392\nEnsino Religioso       468\nName: materia, dtype: int64"
     },
     "execution_count": 14,
     "metadata": {},
     "output_type": "execute_result"
    }
   ],
   "source": [
    "data_step_clean_subjects['materia'].value_counts()"
   ]
  },
  {
   "cell_type": "markdown",
   "metadata": {},
   "source": [
    "### Criando categorias reduzidas"
   ]
  },
  {
   "cell_type": "code",
   "execution_count": 15,
   "metadata": {},
   "outputs": [],
   "source": [
    "data_step_clean_main_areas = data_step_clean_subjects.copy()\n",
    "\n",
    "data_step_clean_main_areas.replace('Língua inglesa','Inglês', inplace = True)"
   ]
  },
  {
   "cell_type": "markdown",
   "metadata": {},
   "source": [
    "### Tipo questão"
   ]
  },
  {
   "cell_type": "markdown",
   "metadata": {},
   "source": [
    "A variável tipoQuestoes contém items dos tipos:\n",
    "\n",
    "1. Somatória\n",
    "2. Múltipla Escolha\n",
    "3. Certo e Errado\n",
    "4. Discursiva\n",
    "5. Redação ou items que é necessário enviar foto da resolução\n",
    "6. Questões com mais de uma alternativa certa\n",
    "7. Não representa nada em específico\n",
    "\n",
    "Iremos remover questoes tipo 5 e 6 pois não se adequam ao tipo de alvo do nosso problema."
   ]
  },
  {
   "cell_type": "code",
   "execution_count": 16,
   "metadata": {},
   "outputs": [
    {
     "data": {
      "text/plain": "   tipoQuestoes\n2         65515\n4         13281\n1          2858\n3          1043\n5           978\n7           201\n6             4",
      "text/html": "<div>\n<style scoped>\n    .dataframe tbody tr th:only-of-type {\n        vertical-align: middle;\n    }\n\n    .dataframe tbody tr th {\n        vertical-align: top;\n    }\n\n    .dataframe thead th {\n        text-align: right;\n    }\n</style>\n<table border=\"1\" class=\"dataframe\">\n  <thead>\n    <tr style=\"text-align: right;\">\n      <th></th>\n      <th>tipoQuestoes</th>\n    </tr>\n  </thead>\n  <tbody>\n    <tr>\n      <th>2</th>\n      <td>65515</td>\n    </tr>\n    <tr>\n      <th>4</th>\n      <td>13281</td>\n    </tr>\n    <tr>\n      <th>1</th>\n      <td>2858</td>\n    </tr>\n    <tr>\n      <th>3</th>\n      <td>1043</td>\n    </tr>\n    <tr>\n      <th>5</th>\n      <td>978</td>\n    </tr>\n    <tr>\n      <th>7</th>\n      <td>201</td>\n    </tr>\n    <tr>\n      <th>6</th>\n      <td>4</td>\n    </tr>\n  </tbody>\n</table>\n</div>"
     },
     "execution_count": 16,
     "metadata": {},
     "output_type": "execute_result"
    }
   ],
   "source": [
    "data_step_clean_subjects[\"tipoQuestoes\"].value_counts(ascending=False).to_frame()"
   ]
  },
  {
   "cell_type": "markdown",
   "metadata": {},
   "source": [
    "Obs.: Questoes tipo Multipla escolha e Discursiva somam a maioria das questões"
   ]
  },
  {
   "cell_type": "markdown",
   "metadata": {},
   "source": [
    "### Remover as questoes tipo 6 e 7"
   ]
  },
  {
   "cell_type": "code",
   "execution_count": 17,
   "metadata": {},
   "outputs": [
    {
     "data": {
      "text/plain": "(83675, 8)"
     },
     "execution_count": 17,
     "metadata": {},
     "output_type": "execute_result"
    }
   ],
   "source": [
    "data_step_clean_ques = data_step_clean_subjects[~data_step_clean_subjects[\"tipoQuestoes\"].isin([6, 7])]\n",
    "data_step_clean_ques.shape"
   ]
  },
  {
   "cell_type": "code",
   "execution_count": 18,
   "metadata": {},
   "outputs": [
    {
     "data": {
      "text/plain": "        id                                           questoes  tipoQuestoes  \\\n0  3486670  <p>Com base em seus conhecimentos sobre o comp...             2   \n1  3343927  <p>&ldquo;Achar um n&uacute;mero que, somado c...             2   \n4  3691951  <p style=\"padding:0px;margin:10px 0px 0px;outl...             2   \n5  2016466  <p><strong>Anexe nesse espa&ccedil;o uma foto ...             4   \n6  1744035     <p>Pagina nr. 54 do Livro did&aacute;tico.</p>             4   \n\n                                              topico  \\\n0                                   História da Arte   \n1  Álgebra: Equações do 2º grau: Equação do 2º gr...   \n4                                             Outros   \n5                                           Proposta   \n6  Idade Moderna: Revolução Francesa: Antecedente...   \n\n                                                slug            materia  \\\n0                                   historia-da-arte               Arte   \n1  algebra-equacoes-do-2o-grau-equacao-do-2o-grau...         Matemática   \n4                                             outros            Química   \n5                                           proposta  Língua Portuguesa   \n6  idade-moderna-revolucao-francesa-antecedentes-...           História   \n\n       slug.1     etapaEnsino  \n0        arte  Fundamental II  \n1  matematica  Fundamental II  \n4     quimica  Fundamental II  \n5     redacao   Fundamental I  \n6    historia  Fundamental II  ",
      "text/html": "<div>\n<style scoped>\n    .dataframe tbody tr th:only-of-type {\n        vertical-align: middle;\n    }\n\n    .dataframe tbody tr th {\n        vertical-align: top;\n    }\n\n    .dataframe thead th {\n        text-align: right;\n    }\n</style>\n<table border=\"1\" class=\"dataframe\">\n  <thead>\n    <tr style=\"text-align: right;\">\n      <th></th>\n      <th>id</th>\n      <th>questoes</th>\n      <th>tipoQuestoes</th>\n      <th>topico</th>\n      <th>slug</th>\n      <th>materia</th>\n      <th>slug.1</th>\n      <th>etapaEnsino</th>\n    </tr>\n  </thead>\n  <tbody>\n    <tr>\n      <th>0</th>\n      <td>3486670</td>\n      <td>&lt;p&gt;Com base em seus conhecimentos sobre o comp...</td>\n      <td>2</td>\n      <td>História da Arte</td>\n      <td>historia-da-arte</td>\n      <td>Arte</td>\n      <td>arte</td>\n      <td>Fundamental II</td>\n    </tr>\n    <tr>\n      <th>1</th>\n      <td>3343927</td>\n      <td>&lt;p&gt;&amp;ldquo;Achar um n&amp;uacute;mero que, somado c...</td>\n      <td>2</td>\n      <td>Álgebra: Equações do 2º grau: Equação do 2º gr...</td>\n      <td>algebra-equacoes-do-2o-grau-equacao-do-2o-grau...</td>\n      <td>Matemática</td>\n      <td>matematica</td>\n      <td>Fundamental II</td>\n    </tr>\n    <tr>\n      <th>4</th>\n      <td>3691951</td>\n      <td>&lt;p style=\"padding:0px;margin:10px 0px 0px;outl...</td>\n      <td>2</td>\n      <td>Outros</td>\n      <td>outros</td>\n      <td>Química</td>\n      <td>quimica</td>\n      <td>Fundamental II</td>\n    </tr>\n    <tr>\n      <th>5</th>\n      <td>2016466</td>\n      <td>&lt;p&gt;&lt;strong&gt;Anexe nesse espa&amp;ccedil;o uma foto ...</td>\n      <td>4</td>\n      <td>Proposta</td>\n      <td>proposta</td>\n      <td>Língua Portuguesa</td>\n      <td>redacao</td>\n      <td>Fundamental I</td>\n    </tr>\n    <tr>\n      <th>6</th>\n      <td>1744035</td>\n      <td>&lt;p&gt;Pagina nr. 54 do Livro did&amp;aacute;tico.&lt;/p&gt;</td>\n      <td>4</td>\n      <td>Idade Moderna: Revolução Francesa: Antecedente...</td>\n      <td>idade-moderna-revolucao-francesa-antecedentes-...</td>\n      <td>História</td>\n      <td>historia</td>\n      <td>Fundamental II</td>\n    </tr>\n  </tbody>\n</table>\n</div>"
     },
     "execution_count": 18,
     "metadata": {},
     "output_type": "execute_result"
    }
   ],
   "source": [
    "data_step_clean_ques.head()"
   ]
  },
  {
   "cell_type": "code",
   "execution_count": 19,
   "metadata": {},
   "outputs": [
    {
     "data": {
      "text/plain": "                                                    topico\nOutros                                               24081\nVocabulary                                            1122\nGêneros textuais: Interpretação                        894\nGeral                                                  682\nText Comprehension                                     607\n...                                                    ...\nMatéria e energia: Fontes e tipos de energia: T...       1\nArte na Idade Média: Arte românica                       1\nMatemática Básica: Mínimo Múltiplo Comum                 1\nBiogeografia                                             1\nGêneros Textuais: Caracterização: Resumo                 1\n\n[3079 rows x 1 columns]",
      "text/html": "<div>\n<style scoped>\n    .dataframe tbody tr th:only-of-type {\n        vertical-align: middle;\n    }\n\n    .dataframe tbody tr th {\n        vertical-align: top;\n    }\n\n    .dataframe thead th {\n        text-align: right;\n    }\n</style>\n<table border=\"1\" class=\"dataframe\">\n  <thead>\n    <tr style=\"text-align: right;\">\n      <th></th>\n      <th>topico</th>\n    </tr>\n  </thead>\n  <tbody>\n    <tr>\n      <th>Outros</th>\n      <td>24081</td>\n    </tr>\n    <tr>\n      <th>Vocabulary</th>\n      <td>1122</td>\n    </tr>\n    <tr>\n      <th>Gêneros textuais: Interpretação</th>\n      <td>894</td>\n    </tr>\n    <tr>\n      <th>Geral</th>\n      <td>682</td>\n    </tr>\n    <tr>\n      <th>Text Comprehension</th>\n      <td>607</td>\n    </tr>\n    <tr>\n      <th>...</th>\n      <td>...</td>\n    </tr>\n    <tr>\n      <th>Matéria e energia: Fontes e tipos de energia: Tipos de usinas geradoras de energia elétrica</th>\n      <td>1</td>\n    </tr>\n    <tr>\n      <th>Arte na Idade Média: Arte românica</th>\n      <td>1</td>\n    </tr>\n    <tr>\n      <th>Matemática Básica: Mínimo Múltiplo Comum</th>\n      <td>1</td>\n    </tr>\n    <tr>\n      <th>Biogeografia</th>\n      <td>1</td>\n    </tr>\n    <tr>\n      <th>Gêneros Textuais: Caracterização: Resumo</th>\n      <td>1</td>\n    </tr>\n  </tbody>\n</table>\n<p>3079 rows × 1 columns</p>\n</div>"
     },
     "execution_count": 19,
     "metadata": {},
     "output_type": "execute_result"
    }
   ],
   "source": [
    "data_step_clean_ques[\"topico\"].value_counts(ascending=False).to_frame()"
   ]
  },
  {
   "cell_type": "code",
   "execution_count": 20,
   "metadata": {},
   "outputs": [
    {
     "data": {
      "text/plain": "                                                  index  topico\n2704                            Senso Comum e Ideologia       1\n2705  Filosofia Moderna: Utilitarismo: John Stuart Mill       1\n2706                                               Ator       1\n2707  Clima, relevo e vegetação na formação da paisa...       1\n2708  Estatística: Interpretação e desenvolvimento d...       1\n...                                                 ...     ...\n3074  Matéria e energia: Fontes e tipos de energia: ...       1\n3075                 Arte na Idade Média: Arte românica       1\n3076           Matemática Básica: Mínimo Múltiplo Comum       1\n3077                                       Biogeografia       1\n3078           Gêneros Textuais: Caracterização: Resumo       1\n\n[375 rows x 2 columns]",
      "text/html": "<div>\n<style scoped>\n    .dataframe tbody tr th:only-of-type {\n        vertical-align: middle;\n    }\n\n    .dataframe tbody tr th {\n        vertical-align: top;\n    }\n\n    .dataframe thead th {\n        text-align: right;\n    }\n</style>\n<table border=\"1\" class=\"dataframe\">\n  <thead>\n    <tr style=\"text-align: right;\">\n      <th></th>\n      <th>index</th>\n      <th>topico</th>\n    </tr>\n  </thead>\n  <tbody>\n    <tr>\n      <th>2704</th>\n      <td>Senso Comum e Ideologia</td>\n      <td>1</td>\n    </tr>\n    <tr>\n      <th>2705</th>\n      <td>Filosofia Moderna: Utilitarismo: John Stuart Mill</td>\n      <td>1</td>\n    </tr>\n    <tr>\n      <th>2706</th>\n      <td>Ator</td>\n      <td>1</td>\n    </tr>\n    <tr>\n      <th>2707</th>\n      <td>Clima, relevo e vegetação na formação da paisa...</td>\n      <td>1</td>\n    </tr>\n    <tr>\n      <th>2708</th>\n      <td>Estatística: Interpretação e desenvolvimento d...</td>\n      <td>1</td>\n    </tr>\n    <tr>\n      <th>...</th>\n      <td>...</td>\n      <td>...</td>\n    </tr>\n    <tr>\n      <th>3074</th>\n      <td>Matéria e energia: Fontes e tipos de energia: ...</td>\n      <td>1</td>\n    </tr>\n    <tr>\n      <th>3075</th>\n      <td>Arte na Idade Média: Arte românica</td>\n      <td>1</td>\n    </tr>\n    <tr>\n      <th>3076</th>\n      <td>Matemática Básica: Mínimo Múltiplo Comum</td>\n      <td>1</td>\n    </tr>\n    <tr>\n      <th>3077</th>\n      <td>Biogeografia</td>\n      <td>1</td>\n    </tr>\n    <tr>\n      <th>3078</th>\n      <td>Gêneros Textuais: Caracterização: Resumo</td>\n      <td>1</td>\n    </tr>\n  </tbody>\n</table>\n<p>375 rows × 2 columns</p>\n</div>"
     },
     "execution_count": 20,
     "metadata": {},
     "output_type": "execute_result"
    }
   ],
   "source": [
    "p = data_step_clean_ques[\"topico\"].value_counts().reset_index()\n",
    "p[p['topico'] == 1]"
   ]
  },
  {
   "cell_type": "code",
   "execution_count": 22,
   "metadata": {},
   "outputs": [],
   "source": [
    "# data_step_clean_ques.to_csv(r'C:/Users/Danilo/Desktop/Documentos Acadêmicos/TERA/TERAprojetos/Projeto final/BNCC/repo/bncc-classifier/data/curated/data_eda_treat_will.csv', index = False)\n",
    "data_step_clean_ques.to_csv(\"../../data/curated/data_eda_treat_will.csv\", index=False)\n",
    "\n"
   ]
  },
  {
   "cell_type": "code",
   "execution_count": null,
   "outputs": [],
   "source": [],
   "metadata": {
    "collapsed": false,
    "pycharm": {
     "name": "#%%\n"
    }
   }
  }
 ],
 "metadata": {
  "interpreter": {
   "hash": "225624be816c5ebb69535c62bef1c42756c7997d53b988f5d19a3716cb17cbae"
  },
  "kernelspec": {
   "display_name": "Python 3.10.2 64-bit",
   "language": "python",
   "name": "python3"
  },
  "language_info": {
   "codemirror_mode": {
    "name": "ipython",
    "version": 3
   },
   "file_extension": ".py",
   "mimetype": "text/x-python",
   "name": "python",
   "nbconvert_exporter": "python",
   "pygments_lexer": "ipython3",
   "version": "3.9.10"
  },
  "orig_nbformat": 4
 },
 "nbformat": 4,
 "nbformat_minor": 2
}