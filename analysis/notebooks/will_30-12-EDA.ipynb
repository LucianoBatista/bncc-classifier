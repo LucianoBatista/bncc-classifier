{
 "cells": [
  {
   "cell_type": "code",
   "execution_count": 2,
   "metadata": {},
   "outputs": [],
   "source": [
    "import pandas as pd\n",
    "import numpy as np\n",
    "import matplotlib.pyplot as plt\n",
    "import seaborn as sns"
   ]
  },
  {
   "cell_type": "code",
   "execution_count": 3,
   "metadata": {},
   "outputs": [],
   "source": [
    "pd.options.display.max_rows = 999\n",
    "pd.options.display.max_columns = 999"
   ]
  },
  {
   "cell_type": "code",
   "execution_count": 4,
   "metadata": {},
   "outputs": [
    {
     "data": {
      "text/html": [
       "<div>\n",
       "<style scoped>\n",
       "    .dataframe tbody tr th:only-of-type {\n",
       "        vertical-align: middle;\n",
       "    }\n",
       "\n",
       "    .dataframe tbody tr th {\n",
       "        vertical-align: top;\n",
       "    }\n",
       "\n",
       "    .dataframe thead th {\n",
       "        text-align: right;\n",
       "    }\n",
       "</style>\n",
       "<table border=\"1\" class=\"dataframe\">\n",
       "  <thead>\n",
       "    <tr style=\"text-align: right;\">\n",
       "      <th></th>\n",
       "      <th>id</th>\n",
       "      <th>question</th>\n",
       "      <th>bulletType</th>\n",
       "      <th>name</th>\n",
       "      <th>slug</th>\n",
       "      <th>name.1</th>\n",
       "      <th>slug.1</th>\n",
       "      <th>name.2</th>\n",
       "      <th>code</th>\n",
       "      <th>description</th>\n",
       "    </tr>\n",
       "  </thead>\n",
       "  <tbody>\n",
       "    <tr>\n",
       "      <th>0</th>\n",
       "      <td>2759872</td>\n",
       "      <td>&lt;p style=\"text-align:left;\"&gt;É muito comum no d...</td>\n",
       "      <td>2</td>\n",
       "      <td>Outros</td>\n",
       "      <td>outros</td>\n",
       "      <td>Ciências</td>\n",
       "      <td>ciencias</td>\n",
       "      <td>Fundamental II</td>\n",
       "      <td>EF06LP01</td>\n",
       "      <td>Reconhecer a impossibilidade de uma neutralida...</td>\n",
       "    </tr>\n",
       "    <tr>\n",
       "      <th>1</th>\n",
       "      <td>3130254</td>\n",
       "      <td>&lt;p&gt;dadasd&lt;/p&gt;</td>\n",
       "      <td>2</td>\n",
       "      <td>Arquitetura</td>\n",
       "      <td>arquitetura</td>\n",
       "      <td>Arte</td>\n",
       "      <td>arte</td>\n",
       "      <td>Fundamental II</td>\n",
       "      <td>EF06LP01</td>\n",
       "      <td>Reconhecer a impossibilidade de uma neutralida...</td>\n",
       "    </tr>\n",
       "    <tr>\n",
       "      <th>2</th>\n",
       "      <td>3134220</td>\n",
       "      <td>&lt;p&gt;Quest&amp;atilde;o 01&lt;/p&gt;&lt;p&gt;&lt;br&gt;&lt;/p&gt;&lt;p&gt;Observe ...</td>\n",
       "      <td>4</td>\n",
       "      <td>Morfologia: Verbo</td>\n",
       "      <td>morfologia-verbo</td>\n",
       "      <td>Língua Portuguesa</td>\n",
       "      <td>lingua-portuguesa</td>\n",
       "      <td>Fundamental II</td>\n",
       "      <td>EF06LP01</td>\n",
       "      <td>Reconhecer a impossibilidade de uma neutralida...</td>\n",
       "    </tr>\n",
       "    <tr>\n",
       "      <th>3</th>\n",
       "      <td>3134221</td>\n",
       "      <td>&lt;p&gt;Quando eu era garoto, acreditava em bruxas,...</td>\n",
       "      <td>4</td>\n",
       "      <td>Morfologia: Verbo</td>\n",
       "      <td>morfologia-verbo</td>\n",
       "      <td>Língua Portuguesa</td>\n",
       "      <td>lingua-portuguesa</td>\n",
       "      <td>Fundamental II</td>\n",
       "      <td>EF06LP01</td>\n",
       "      <td>Reconhecer a impossibilidade de uma neutralida...</td>\n",
       "    </tr>\n",
       "    <tr>\n",
       "      <th>4</th>\n",
       "      <td>3134222</td>\n",
       "      <td>&lt;p&gt;De cima para baixo&lt;/p&gt;&lt;p&gt;Naquele dia o &lt;str...</td>\n",
       "      <td>4</td>\n",
       "      <td>Morfologia: Verbo</td>\n",
       "      <td>morfologia-verbo</td>\n",
       "      <td>Língua Portuguesa</td>\n",
       "      <td>lingua-portuguesa</td>\n",
       "      <td>Fundamental II</td>\n",
       "      <td>EF06LP01</td>\n",
       "      <td>Reconhecer a impossibilidade de uma neutralida...</td>\n",
       "    </tr>\n",
       "  </tbody>\n",
       "</table>\n",
       "</div>"
      ],
      "text/plain": [
       "        id                                           question  bulletType  \\\n",
       "0  2759872  <p style=\"text-align:left;\">É muito comum no d...           2   \n",
       "1  3130254                                      <p>dadasd</p>           2   \n",
       "2  3134220  <p>Quest&atilde;o 01</p><p><br></p><p>Observe ...           4   \n",
       "3  3134221  <p>Quando eu era garoto, acreditava em bruxas,...           4   \n",
       "4  3134222  <p>De cima para baixo</p><p>Naquele dia o <str...           4   \n",
       "\n",
       "                name              slug             name.1             slug.1  \\\n",
       "0             Outros            outros           Ciências           ciencias   \n",
       "1        Arquitetura       arquitetura               Arte               arte   \n",
       "2  Morfologia: Verbo  morfologia-verbo  Língua Portuguesa  lingua-portuguesa   \n",
       "3  Morfologia: Verbo  morfologia-verbo  Língua Portuguesa  lingua-portuguesa   \n",
       "4  Morfologia: Verbo  morfologia-verbo  Língua Portuguesa  lingua-portuguesa   \n",
       "\n",
       "           name.2      code                                        description  \n",
       "0  Fundamental II  EF06LP01  Reconhecer a impossibilidade de uma neutralida...  \n",
       "1  Fundamental II  EF06LP01  Reconhecer a impossibilidade de uma neutralida...  \n",
       "2  Fundamental II  EF06LP01  Reconhecer a impossibilidade de uma neutralida...  \n",
       "3  Fundamental II  EF06LP01  Reconhecer a impossibilidade de uma neutralida...  \n",
       "4  Fundamental II  EF06LP01  Reconhecer a impossibilidade de uma neutralida...  "
      ]
     },
     "execution_count": 4,
     "metadata": {},
     "output_type": "execute_result"
    }
   ],
   "source": [
    "bncc_raw = pd.read_csv('C:/Users/Danilo/Desktop/Documentos Acadêmicos/TERA/TERAprojetos/Projeto final/BNCC/bncc_db.csv', encoding = 'utf8')\n",
    "bncc_db = bncc_raw.copy()\n",
    "bncc_db.head()"
   ]
  },
  {
   "cell_type": "markdown",
   "metadata": {},
   "source": [
    "## Explorando os dados"
   ]
  },
  {
   "cell_type": "code",
   "execution_count": 5,
   "metadata": {},
   "outputs": [
    {
     "name": "stdout",
     "output_type": "stream",
     "text": [
      "<class 'pandas.core.frame.DataFrame'>\n",
      "RangeIndex: 8908 entries, 0 to 8907\n",
      "Data columns (total 10 columns):\n",
      " #   Column       Non-Null Count  Dtype \n",
      "---  ------       --------------  ----- \n",
      " 0   id           8908 non-null   int64 \n",
      " 1   question     8908 non-null   object\n",
      " 2   bulletType   8908 non-null   int64 \n",
      " 3   name         8908 non-null   object\n",
      " 4   slug         8908 non-null   object\n",
      " 5   name.1       8908 non-null   object\n",
      " 6   slug.1       8908 non-null   object\n",
      " 7   name.2       8908 non-null   object\n",
      " 8   code         8908 non-null   object\n",
      " 9   description  8908 non-null   object\n",
      "dtypes: int64(2), object(8)\n",
      "memory usage: 696.1+ KB\n"
     ]
    }
   ],
   "source": [
    "bncc_db.info()"
   ]
  },
  {
   "cell_type": "code",
   "execution_count": 38,
   "metadata": {},
   "outputs": [
    {
     "data": {
      "text/plain": [
       "'São um total de 20 Áreas do Conhecimento'"
      ]
     },
     "metadata": {},
     "output_type": "display_data"
    },
    {
     "data": {
      "text/html": [
       "<div>\n",
       "<style scoped>\n",
       "    .dataframe tbody tr th:only-of-type {\n",
       "        vertical-align: middle;\n",
       "    }\n",
       "\n",
       "    .dataframe tbody tr th {\n",
       "        vertical-align: top;\n",
       "    }\n",
       "\n",
       "    .dataframe thead th {\n",
       "        text-align: right;\n",
       "    }\n",
       "</style>\n",
       "<table border=\"1\" class=\"dataframe\">\n",
       "  <thead>\n",
       "    <tr style=\"text-align: right;\">\n",
       "      <th></th>\n",
       "      <th>value_counts</th>\n",
       "    </tr>\n",
       "  </thead>\n",
       "  <tbody>\n",
       "    <tr>\n",
       "      <th>Língua Portuguesa</th>\n",
       "      <td>1459</td>\n",
       "    </tr>\n",
       "    <tr>\n",
       "      <th>Matemática</th>\n",
       "      <td>1449</td>\n",
       "    </tr>\n",
       "    <tr>\n",
       "      <th>Geografia</th>\n",
       "      <td>1375</td>\n",
       "    </tr>\n",
       "    <tr>\n",
       "      <th>Ciências</th>\n",
       "      <td>1242</td>\n",
       "    </tr>\n",
       "    <tr>\n",
       "      <th>História</th>\n",
       "      <td>1203</td>\n",
       "    </tr>\n",
       "  </tbody>\n",
       "</table>\n",
       "</div>"
      ],
      "text/plain": [
       "                   value_counts\n",
       "Língua Portuguesa          1459\n",
       "Matemática                 1449\n",
       "Geografia                  1375\n",
       "Ciências                   1242\n",
       "História                   1203"
      ]
     },
     "metadata": {},
     "output_type": "display_data"
    }
   ],
   "source": [
    "name1 = bncc_db['name.1'].nunique()\n",
    "d = ('São um total de %d Áreas do Conhecimento' % (name1))\n",
    "\n",
    "display(\n",
    "    d,\n",
    "    bncc_db.iloc[:, 5].agg(['value_counts']).head()\n",
    ")"
   ]
  },
  {
   "cell_type": "code",
   "execution_count": 34,
   "metadata": {},
   "outputs": [
    {
     "data": {
      "text/plain": [
       "array(['EF06LP01', 'EF06LP02', 'EF06LP03', 'EF06LP04', 'EF06LP05',\n",
       "       'EF06LP06', 'EF06LP07', 'EF06LP08', 'EF06LP09', 'EF06LP10',\n",
       "       'EF06LP11', 'EF06LP12', 'EF67LP01', 'EF67LP02', 'EF67LP03',\n",
       "       'EF67LP04', 'EF67LP05', 'EF67LP06', 'EF67LP07', 'EF67LP08',\n",
       "       'EF67LP09', 'EF67LP10', 'EF67LP11', 'EF67LP12', 'EF67LP13',\n",
       "       'EF67LP14', 'EF67LP15', 'EF67LP16', 'EF67LP17', 'EF67LP19',\n",
       "       'EF67LP20', 'EF67LP21', 'EF67LP23', 'EF67LP24', 'EF67LP25',\n",
       "       'EF67LP26', 'EF67LP27', 'EF67LP28', 'EF67LP29', 'EF67LP30',\n",
       "       'EF67LP32', 'EF67LP33', 'EF67LP35', 'EF67LP36', 'EF67LP37',\n",
       "       'EF67LP38', 'EF69LP01', 'EF69LP02', 'EF69LP03', 'EF69LP04',\n",
       "       'EF69LP05', 'EF69LP06', 'EF69LP07', 'EF69LP08', 'EF69LP09',\n",
       "       'EF69LP11', 'EF69LP12', 'EF69LP13', 'EF69LP14', 'EF69LP15',\n",
       "       'EF69LP16', 'EF69LP17', 'EF69LP18', 'EF69LP20', 'EF69LP21',\n",
       "       'EF69LP22', 'EF69LP23', 'EF69LP24', 'EF69LP25', 'EF69LP27',\n",
       "       'EF69LP28', 'EF69LP29', 'EF69LP30', 'EF69LP31', 'EF69LP32',\n",
       "       'EF69LP33', 'EF69LP34', 'EF69LP35', 'EF69LP36', 'EF69LP38',\n",
       "       'EF69LP39', 'EF69LP40', 'EF69LP41', 'EF69LP42', 'EF69LP44',\n",
       "       'EF69LP45', 'EF69LP46', 'EF69LP47', 'EF69LP48', 'EF69LP49',\n",
       "       'EF69LP50', 'EF69LP51', 'EF69LP52', 'EF69LP53', 'EF69LP54',\n",
       "       'EF69LP56', 'EF07LP04', 'EF07LP06', 'EF07LP07', 'EF07LP08',\n",
       "       'EF07LP09', 'EF07LP11', 'EF07LP13', 'EF08LP03', 'EF08LP04',\n",
       "       'EF08LP08', 'EF08LP09', 'EF08LP10', 'EF08LP11', 'EF08LP15',\n",
       "       'EF08LP16', 'EF89LP01', 'EF89LP02', 'EF89LP04', 'EF89LP07',\n",
       "       'EF89LP08', 'EF89LP11', 'EF89LP12', 'EF89LP15', 'EF89LP16',\n",
       "       'EF89LP17', 'EF89LP18', 'EF89LP19', 'EF89LP23', 'EF89LP26',\n",
       "       'EF89LP31', 'EF89LP32', 'EF89LP33', 'EF89LP35', 'EF89LP37',\n",
       "       'EF09LP03', 'EF09LP05', 'EF09LP07', 'EF09LP08', 'EF09LP09',\n",
       "       'EF09LP10', 'EF09LP11', 'EF09LP12', 'EF69AR01', 'EF69AR02',\n",
       "       'EF69AR03', 'EF69AR04', 'EF69AR05', 'EF69AR06', 'EF69AR07',\n",
       "       'EF69AR08', 'EF69AR09', 'EF69AR10', 'EF69AR12', 'EF69AR13',\n",
       "       'EF69AR14', 'EF69AR16', 'EF69AR17', 'EF69AR19', 'EF69AR21',\n",
       "       'EF69AR24', 'EF69AR27', 'EF69AR30', 'EF69AR31', 'EF69AR32',\n",
       "       'EF69AR33', 'EF69AR34', 'EF69AR35', 'EF67EF07', 'EF67EF14',\n",
       "       'EF67EF15', 'EF67EF16', 'EF67EF18', 'EF67EF19', 'EF67EF21',\n",
       "       'EF89EF12', 'EF89EF16', 'EF89EF17', 'EF89EF18', 'EF89EF19',\n",
       "       'EF89EF21', 'EF06LI01', 'EF06LI08', 'EF06LI09', 'EF06LI16',\n",
       "       'EF06LI17', 'EF06LI20', 'EF07LI01', 'EF07LI04', 'EF07LI05',\n",
       "       'EF07LI06', 'EF07LI07', 'EF07LI08', 'EF07LI11', 'EF07LI17',\n",
       "       'EF07LI18', 'EF07LI22', 'EF08LI01', 'EF08LI02', 'EF08LI05',\n",
       "       'EF08LI11', 'EF08LI14', 'EF09LI02', 'EF09LI07', 'EF06MA01',\n",
       "       'EF06MA02', 'EF06MA03', 'EF06MA06', 'EF06MA07', 'EF06MA08',\n",
       "       'EF06MA09', 'EF06MA10', 'EF06MA11', 'EF06MA13', 'EF06MA14',\n",
       "       'EF06MA15', 'EF06MA17', 'EF06MA18', 'EF06MA19', 'EF06MA24',\n",
       "       'EF06MA28', 'EF06MA29', 'EF06MA30', 'EF06MA31', 'EF06MA32',\n",
       "       'EF07MA02', 'EF07MA04', 'EF07MA09', 'EF07MA11', 'EF07MA12',\n",
       "       'EF07MA13', 'EF07MA14', 'EF07MA15', 'EF07MA16', 'EF07MA17',\n",
       "       'EF07MA18', 'EF07MA19', 'EF07MA20', 'EF07MA22', 'EF07MA29',\n",
       "       'EF07MA30', 'EF07MA32', 'EF07MA33', 'EF07MA34', 'EF07MA35',\n",
       "       'EF07MA36', 'EF07MA37', 'EF08MA02', 'EF08MA03', 'EF08MA04',\n",
       "       'EF08MA05', 'EF08MA06', 'EF08MA07', 'EF08MA08', 'EF08MA09',\n",
       "       'EF08MA12', 'EF08MA13', 'EF08MA14', 'EF08MA15', 'EF08MA17',\n",
       "       'EF08MA19', 'EF08MA20', 'EF08MA21', 'EF08MA22', 'EF08MA25',\n",
       "       'EF08MA26', 'EF09MA01', 'EF09MA04', 'EF09MA05', 'EF09MA06',\n",
       "       'EF09MA07', 'EF09MA08', 'EF09MA09', 'EF09MA11', 'EF09MA13',\n",
       "       'EF09MA19', 'EF09MA20', 'EF09MA21', 'EF09MA22', 'EF09MA23',\n",
       "       'EF06CI01', 'EF06CI02', 'EF06CI05', 'EF06CI06', 'EF06CI07',\n",
       "       'EF06CI08', 'EF06CI09', 'EF06CI10', 'EF06CI11', 'EF06CI14',\n",
       "       'EF07CI01', 'EF07CI02', 'EF07CI03', 'EF07CI04', 'EF07CI05',\n",
       "       'EF07CI06', 'EF07CI07', 'EF07CI08', 'EF07CI09', 'EF07CI13',\n",
       "       'EF07CI14', 'EF07CI16', 'EF08CI07', 'EF08CI08', 'EF08CI09',\n",
       "       'EF08CI10', 'EF08CI12', 'EF08CI14', 'EF08CI15', 'EF08CI16',\n",
       "       'EF09CI01', 'EF09CI02', 'EF09CI03', 'EF09CI04', 'EF09CI05',\n",
       "       'EF09CI06', 'EF09CI07', 'EF09CI08', 'EF09CI09', 'EF09CI10',\n",
       "       'EF09CI11', 'EF09CI12', 'EF09CI13', 'EF09CI14', 'EF09CI15',\n",
       "       'EF09CI17', 'EF06GE01', 'EF06GE03', 'EF06GE04', 'EF06GE05',\n",
       "       'EF06GE06', 'EF06GE07', 'EF06GE08', 'EF06GE09', 'EF06GE10',\n",
       "       'EF06GE11', 'EF06GE12', 'EF06GE13', 'EF07GE01', 'EF07GE02',\n",
       "       'EF07GE03', 'EF07GE04', 'EF07GE06', 'EF07GE07', 'EF07GE08',\n",
       "       'EF07GE09', 'EF07GE10', 'EF07GE11', 'EF07GE12', 'EF08GE01',\n",
       "       'EF08GE04', 'EF08GE05', 'EF08GE06', 'EF08GE07', 'EF08GE08',\n",
       "       'EF08GE09', 'EF08GE10', 'EF08GE11', 'EF08GE12', 'EF08GE13',\n",
       "       'EF08GE16', 'EF08GE17', 'EF08GE18', 'EF08GE19', 'EF08GE20',\n",
       "       'EF08GE24', 'EF09GE01', 'EF09GE02', 'EF09GE03', 'EF09GE04',\n",
       "       'EF09GE06', 'EF09GE07', 'EF09GE08', 'EF09GE09', 'EF09GE10',\n",
       "       'EF09GE11', 'EF09GE12', 'EF09GE13', 'EF09GE14', 'EF09GE15',\n",
       "       'EF09GE17', 'EF09GE18', 'EF06HI01', 'EF06HI11', 'EF06HI13',\n",
       "       'EF06HI14', 'EF06HI15', 'EF06HI16', 'EF06HI18', 'EF06HI19',\n",
       "       'EF07HI01', 'EF07HI02', 'EF07HI03', 'EF07HI04', 'EF07HI06',\n",
       "       'EF07HI07', 'EF07HI08', 'EF07HI10', 'EF07HI11', 'EF07HI12',\n",
       "       'EF07HI13', 'EF07HI15', 'EF07HI16', 'EF08HI01', 'EF08HI02',\n",
       "       'EF08HI04', 'EF08HI07', 'EF08HI11', 'EF08HI12', 'EF08HI13',\n",
       "       'EF08HI14', 'EF08HI15', 'EF08HI16', 'EF08HI17', 'EF08HI18',\n",
       "       'EF08HI21', 'EF08HI22', 'EF08HI23', 'EF08HI24', 'EF08HI25',\n",
       "       'EF09HI01', 'EF09HI02', 'EF09HI16', 'EF09HI17', 'EF09HI18',\n",
       "       'EF09HI19', 'EF09HI20', 'EF09HI24', 'EF09HI26', 'EF09HI28',\n",
       "       'EF09HI29', 'EF09HI32', 'EF09HI33', 'EF09HI34', 'EF09HI35',\n",
       "       'EF09HI36', 'EF06ER05', 'EF06ER06', 'EF07ER08', 'H1', 'H3', 'H4',\n",
       "       'H5', 'H6', 'H11', 'H8', 'H13', 'H14', 'H15', 'H16', 'H17', 'H18',\n",
       "       'H19', 'H20', 'H21', 'H24', 'H25', 'H28', 'H29', 'H30', 'H2', 'H7',\n",
       "       'H22', 'H26', 'H27', 'H10', 'H12', 'H23', 'H9', 'EF01ER01',\n",
       "       'EF01ER02', 'EF01ER03', 'EF01ER04', 'EF01ER05', 'EF01ER06',\n",
       "       'EF02ER01', 'EF02ER02', 'EF02ER03', 'EF02ER04', 'EF02ER05',\n",
       "       'EF02ER07', 'EF03ER01', 'EF03ER02', 'EF03ER03', 'EF03ER04',\n",
       "       'EF03ER05', 'EF04ER01', 'EF04ER02', 'EF04ER03', 'EF04ER04',\n",
       "       'EF04ER05', 'EF04ER06', 'EF04ER07', 'EF05ER01', 'EF05ER02',\n",
       "       'EF05ER03', 'EF05ER04', 'EF05ER05', 'EF05ER07', 'EF01MA01',\n",
       "       'EF01MA02', 'EF01MA03', 'EF01MA04', 'EF01MA05', 'EF01MA06',\n",
       "       'EF01MA07', 'EF01MA08', 'EF01MA09', 'EF01MA10', 'EF01MA12',\n",
       "       'EF01MA13', 'EF01MA14', 'EF01MA15', 'EF01MA16', 'EF01MA17',\n",
       "       'EF01MA18', 'EF01MA19', 'EF01MA21', 'EF01MA22', 'EF02MA01',\n",
       "       'EF02MA02', 'EF02MA03', 'EF02MA04', 'EF02MA05', 'EF02MA06',\n",
       "       'EF02MA08', 'EF02MA10', 'EF02MA11', 'EF02MA12', 'EF02MA14',\n",
       "       'EF02MA16', 'EF02MA17', 'EF02MA18', 'EF02MA19', 'EF02MA20',\n",
       "       'EF02MA21', 'EF02MA22', 'EF03MA01', 'EF03MA02', 'EF03MA03',\n",
       "       'EF03MA04', 'EF03MA05', 'EF03MA06', 'EF03MA07', 'EF03MA09',\n",
       "       'EF03MA12', 'EF03MA15', 'EF03MA18', 'EF03MA21', 'EF03MA23',\n",
       "       'EF03MA24', 'EF03MA27', 'EF04MA01', 'EF04MA02', 'EF04MA03',\n",
       "       'EF04MA04', 'EF04MA05', 'EF04MA07', 'EF04MA08', 'EF04MA09',\n",
       "       'EF04MA11', 'EF04MA13', 'EF04MA15', 'EF04MA20', 'EF04MA21',\n",
       "       'EF04MA23', 'EF04MA24', 'EF04MA27', 'EF05MA01', 'EF05MA05',\n",
       "       'EF05MA06', 'EF05MA07', 'EF05MA08', 'EF05MA09', 'EF05MA10',\n",
       "       'EF05MA12', 'EF05MA13', 'EF05MA14', 'EF05MA15', 'EF05MA19',\n",
       "       'EF05MA20', 'EF05MA21', 'EF05MA24', 'EF15AR01', 'EF15AR02',\n",
       "       'EF15AR04', 'EF15AR05', 'EF15AR08', 'EF15AR11', 'EF15AR13',\n",
       "       'EF15AR14', 'EF15AR15', 'EF15AR16', 'EF15AR19', 'EF15AR20',\n",
       "       'EF15AR21', 'EF15AR25', 'EF12EF01', 'EF12EF02', 'EF12EF05',\n",
       "       'EF12EF06', 'EF35EF01', 'EF35EF05', 'EF35EF07', 'EF35EF08',\n",
       "       'EF35EF10', 'EF35EF13', 'EF35EF14', 'EF35EF15', 'EF01CI01',\n",
       "       'EF01CI05', 'EF01CI06', 'EF02CI01', 'EF02CI02', 'EF02CI03',\n",
       "       'EF02CI04', 'EF03CI01', 'EF03CI02', 'EF03CI03', 'EF03CI06',\n",
       "       'EF03CI09', 'EF03CI10', 'EF04CI02', 'EF04CI03', 'EF04CI06',\n",
       "       'EF04CI07', 'EF04CI08', 'EF04CI10', 'EF04CI11', 'EF05CI01',\n",
       "       'EF05CI02', 'EF05CI10', 'EF05CI11', 'EF05CI12', 'EF05CI13',\n",
       "       'EF01GE01', 'EF01GE02', 'EF01GE03', 'EF01GE04', 'EF01GE05',\n",
       "       'EF01GE06', 'EF01GE07', 'EF01GE09', 'EF01GE11', 'EF02GE03',\n",
       "       'EF02GE07', 'EF03GE01', 'EF03GE02', 'EF03GE04', 'EF03GE08',\n",
       "       'EF03GE09', 'EF03GE10', 'EF03GE11', 'EF04GE04', 'EF04GE07',\n",
       "       'EF04GE08', 'EF04GE11', 'EF05GE01', 'EF05GE04', 'EF05GE05',\n",
       "       'EF05GE06', 'EF05GE07', 'EF05GE09', 'EF01HI01', 'EF01HI02',\n",
       "       'EF01HI03', 'EF01HI04', 'EF01HI05', 'EF01HI06', 'EF01HI08',\n",
       "       'EF02HI01', 'EF02HI02', 'EF02HI03', 'EF02HI05', 'EF02HI06',\n",
       "       'EF02HI07', 'EF02HI10', 'EF02HI11', 'EF03HI01', 'EF03HI02',\n",
       "       'EF03HI03', 'EF03HI05', 'EF03HI07', 'EF03HI08', 'EF03HI10',\n",
       "       'EF03HI12', 'EF04HI01', 'EF04HI02', 'EF04HI03', 'EF04HI05',\n",
       "       'EF04HI06', 'EF04HI07', 'EF04HI08', 'EF04HI09', 'EF04HI11',\n",
       "       'EF05HI01', 'EF05HI04', 'EF05HI05', 'EF05HI07', 'EF05HI09',\n",
       "       'EF05HI10', 'EF01LP01', 'EF01LP02', 'EF01LP03', 'EF01LP04',\n",
       "       'EF01LP05', 'EF01LP06', 'EF01LP07', 'EF01LP08', 'EF01LP09',\n",
       "       'EF01LP10', 'EF01LP13', 'EF01LP15', 'EF01LP16', 'EF01LP20',\n",
       "       'EF12LP01', 'EF12LP04', 'EF12LP08', 'EF12LP10', 'EF12LP14',\n",
       "       'EF12LP18', 'EF12LP19', 'EF15LP01', 'EF15LP02', 'EF15LP03',\n",
       "       'EF15LP04', 'EF15LP05', 'EF15LP06', 'EF15LP13', 'EF15LP14',\n",
       "       'EF15LP15', 'EF15LP16', 'EF15LP17', 'EF15LP18', 'EF15LP19',\n",
       "       'EF02LP01', 'EF02LP02', 'EF02LP03', 'EF02LP04', 'EF02LP05',\n",
       "       'EF02LP06', 'EF02LP07', 'EF02LP09', 'EF02LP10', 'EF02LP17',\n",
       "       'EF02LP18', 'EF02LP26', 'EF03LP01', 'EF03LP02', 'EF03LP03',\n",
       "       'EF03LP06', 'EF03LP08', 'EF03LP09', 'EF03LP10', 'EF03LP11',\n",
       "       'EF03LP12', 'EF03LP16', 'EF03LP17', 'EF03LP19', 'EF03LP24',\n",
       "       'EF35LP01', 'EF35LP02', 'EF35LP03', 'EF35LP04', 'EF35LP05',\n",
       "       'EF35LP06', 'EF35LP07', 'EF35LP08', 'EF35LP10', 'EF35LP11',\n",
       "       'EF35LP12', 'EF35LP13', 'EF35LP14', 'EF35LP16', 'EF35LP21',\n",
       "       'EF35LP22', 'EF35LP25', 'EF35LP26', 'EF35LP29', 'EF35LP30',\n",
       "       'EF35LP31', 'EF04LP01', 'EF04LP05', 'EF04LP06', 'EF04LP08',\n",
       "       'EF04LP11', 'EF04LP13', 'EF04LP14', 'EF04LP15', 'EF04LP21',\n",
       "       'EF04LP27', 'EF05LP02', 'EF05LP03', 'EF05LP06', 'EF05LP07',\n",
       "       'EF05LP08', 'EF05LP09', 'EF05LP10', 'EF05LP12', 'EF05LP26',\n",
       "       'EF67EF11\\n', 'EF67EF14\\n', 'EF89EF01\\n', 'EF89EF07\\n'],\n",
       "      dtype=object)"
      ]
     },
     "execution_count": 34,
     "metadata": {},
     "output_type": "execute_result"
    }
   ],
   "source": [
    "### Coluna code\n",
    "\n",
    "bncc_db.iloc[:, 8].unique()"
   ]
  },
  {
   "cell_type": "code",
   "execution_count": 6,
   "metadata": {},
   "outputs": [
    {
     "data": {
      "text/plain": [
       "'São um total de 799 códigos da BNCC presentes no dataset'"
      ]
     },
     "metadata": {},
     "output_type": "display_data"
    },
    {
     "data": {
      "text/html": [
       "<div>\n",
       "<style scoped>\n",
       "    .dataframe tbody tr th:only-of-type {\n",
       "        vertical-align: middle;\n",
       "    }\n",
       "\n",
       "    .dataframe tbody tr th {\n",
       "        vertical-align: top;\n",
       "    }\n",
       "\n",
       "    .dataframe thead th {\n",
       "        text-align: right;\n",
       "    }\n",
       "</style>\n",
       "<table border=\"1\" class=\"dataframe\">\n",
       "  <thead>\n",
       "    <tr style=\"text-align: right;\">\n",
       "      <th></th>\n",
       "      <th>value_counts</th>\n",
       "    </tr>\n",
       "  </thead>\n",
       "  <tbody>\n",
       "    <tr>\n",
       "      <th>EF69LP01</th>\n",
       "      <td>712</td>\n",
       "    </tr>\n",
       "    <tr>\n",
       "      <th>EF06LP01</th>\n",
       "      <td>637</td>\n",
       "    </tr>\n",
       "    <tr>\n",
       "      <th>EF67LP01</th>\n",
       "      <td>435</td>\n",
       "    </tr>\n",
       "    <tr>\n",
       "      <th>EF69LP02</th>\n",
       "      <td>222</td>\n",
       "    </tr>\n",
       "    <tr>\n",
       "      <th>EF02ER01</th>\n",
       "      <td>138</td>\n",
       "    </tr>\n",
       "  </tbody>\n",
       "</table>\n",
       "</div>"
      ],
      "text/plain": [
       "          value_counts\n",
       "EF69LP01           712\n",
       "EF06LP01           637\n",
       "EF67LP01           435\n",
       "EF69LP02           222\n",
       "EF02ER01           138"
      ]
     },
     "metadata": {},
     "output_type": "display_data"
    }
   ],
   "source": [
    "code = bncc_db['code'].nunique()\n",
    "d = ('São um total de %d códigos da BNCC presentes no dataset' % (code))\n",
    "\n",
    "display(\n",
    "    d,\n",
    "    bncc_db.iloc[:, 8].agg(['value_counts']).head()\n",
    ")"
   ]
  },
  {
   "cell_type": "code",
   "execution_count": 7,
   "metadata": {},
   "outputs": [
    {
     "data": {
      "text/plain": [
       "'São um total de 861 descrições'"
      ]
     },
     "metadata": {},
     "output_type": "display_data"
    },
    {
     "data": {
      "text/html": [
       "<div>\n",
       "<style scoped>\n",
       "    .dataframe tbody tr th:only-of-type {\n",
       "        vertical-align: middle;\n",
       "    }\n",
       "\n",
       "    .dataframe tbody tr th {\n",
       "        vertical-align: top;\n",
       "    }\n",
       "\n",
       "    .dataframe thead th {\n",
       "        text-align: right;\n",
       "    }\n",
       "</style>\n",
       "<table border=\"1\" class=\"dataframe\">\n",
       "  <thead>\n",
       "    <tr style=\"text-align: right;\">\n",
       "      <th></th>\n",
       "      <th>value_counts</th>\n",
       "    </tr>\n",
       "  </thead>\n",
       "  <tbody>\n",
       "    <tr>\n",
       "      <th>Diferenciar liberdade de expressão de discursos de ódio, posicionando-se contrariamente a esse tipo de discurso e vislumbrando possibilidades de denúncia quando for o caso.</th>\n",
       "      <td>712</td>\n",
       "    </tr>\n",
       "    <tr>\n",
       "      <th>Reconhecer a impossibilidade de uma neutralidade absoluta no relato de fatos e identificar diferentes graus de parcialidade/ imparcialidade dados pelo recorte feito e pelos efeitos de sentido advindos de escolhas feitas pelo autor, de forma a poder desenvolver uma atitude crítica frente aos textos jornalísticos e tornar-se consciente das escolhas feitas enquanto produtor de textos.</th>\n",
       "      <td>637</td>\n",
       "    </tr>\n",
       "    <tr>\n",
       "      <th>Analisar a estrutura e funcionamento dos hiperlinks em textos noticiosos publicados na Web e vislumbrar possibilidades de uma escrita hipertextual.</th>\n",
       "      <td>435</td>\n",
       "    </tr>\n",
       "    <tr>\n",
       "      <th>Analisar e comparar peças publicitárias variadas (cartazes, folhetos, outdoor, anúncios e propagandas em diferentes mídias, spots, jingle, vídeos etc.), de forma a perceber a articulação entre elas em campanhas, as especificidades das várias semioses e mídias, a adequação dessas peças ao público-alvo, aos objetivos do anunciante e/ou da campanha e à construção composicional e estilo dos gêneros em questão, como forma de ampliar suas possibilidades de compreensão (e produção) de textos pertencentes a esses gêneros.</th>\n",
       "      <td>222</td>\n",
       "    </tr>\n",
       "    <tr>\n",
       "      <th>Reconhecer os diferentes espaços de convivência.</th>\n",
       "      <td>138</td>\n",
       "    </tr>\n",
       "  </tbody>\n",
       "</table>\n",
       "</div>"
      ],
      "text/plain": [
       "                                                    value_counts\n",
       "Diferenciar liberdade de expressão de discursos...           712\n",
       "Reconhecer a impossibilidade de uma neutralidad...           637\n",
       "Analisar a estrutura e funcionamento dos hiperl...           435\n",
       "Analisar e comparar peças publicitárias variada...           222\n",
       "Reconhecer os diferentes espaços de convivência.             138"
      ]
     },
     "metadata": {},
     "output_type": "display_data"
    }
   ],
   "source": [
    "description = bncc_db['description'].nunique()\n",
    "d = ('São um total de %d descrições' % (description))\n",
    "\n",
    "display(\n",
    "    d,\n",
    "    bncc_db['description'].agg(['value_counts']).head()\n",
    ")"
   ]
  },
  {
   "cell_type": "code",
   "execution_count": 8,
   "metadata": {},
   "outputs": [
    {
     "data": {
      "text/plain": [
       "'São um total de 7549 questões'"
      ]
     },
     "metadata": {},
     "output_type": "display_data"
    },
    {
     "data": {
      "text/html": [
       "<div>\n",
       "<style scoped>\n",
       "    .dataframe tbody tr th:only-of-type {\n",
       "        vertical-align: middle;\n",
       "    }\n",
       "\n",
       "    .dataframe tbody tr th {\n",
       "        vertical-align: top;\n",
       "    }\n",
       "\n",
       "    .dataframe thead th {\n",
       "        text-align: right;\n",
       "    }\n",
       "</style>\n",
       "<table border=\"1\" class=\"dataframe\">\n",
       "  <thead>\n",
       "    <tr style=\"text-align: right;\">\n",
       "      <th></th>\n",
       "      <th>value_counts</th>\n",
       "    </tr>\n",
       "  </thead>\n",
       "  <tbody>\n",
       "    <tr>\n",
       "      <th>&lt;p&gt;(CMDPII) Read the dialogue and answer the question.&lt;/p&gt; &lt;p style=\"text-align:center;\"&gt;&lt;img src=\"https://s3.amazonaws.com/studos-plus/questions/1618868167757-1618868167757.png\" style=\"width:459px;\" alt=\"Studos\"&gt;&lt;/p&gt; &lt;p&gt;&lt;strong&gt;Henri&lt;/strong&gt;: Hello, Mary. How are you?&lt;/p&gt; &lt;p&gt;&lt;strong&gt;Mary&lt;/strong&gt;: Fine, thanks. And you?&lt;/p&gt; &lt;p&gt;&lt;strong&gt;Henri&lt;/strong&gt;: Great! Mary, this is Helen.&lt;/p&gt; &lt;p&gt;&lt;strong&gt;Mary&lt;/strong&gt;: Hi, Helen nice to meet you.&lt;/p&gt; &lt;p&gt;&lt;strong&gt;Helen&lt;/strong&gt;: Nice to meet you, too.&lt;/p&gt; &lt;p&gt;&lt;strong&gt;Mary&lt;/strong&gt;: Well, I have to go. Bye-bye.&lt;/p&gt; &lt;p style=\"text-align:right;\"&gt;&lt;sup&gt;StandFor-2014.Team up. Texto adaptado. https://thumbs.dreamstime.com/z/three-friends-talking-taking-conversation-street-happy-sunny-day-buildings. Acesso em 02 de março de 2018.&lt;/sup&gt;&lt;/p&gt; &lt;p&gt;&lt;strong&gt;&lt;sup&gt;Vocabulário:&lt;/sup&gt;&lt;/strong&gt;&lt;/p&gt; &lt;p&gt;&lt;sup&gt;1. Great: Ótimo; &lt;/sup&gt;&lt;sup&gt;2. Have to go: Tenho que ir; &lt;/sup&gt;&lt;sup&gt;3. Meets: Conhecer, encontrar.&lt;/sup&gt;&lt;/p&gt; &lt;p&gt;&lt;sup&gt;Disponível em Oxford, dicionário escolar.&lt;/sup&gt;&lt;/p&gt; &lt;p&gt;  After reading the dialogue choose the only &lt;strong&gt;CORRECT OPTION.&lt;/strong&gt;&lt;/p&gt;</th>\n",
       "      <td>12</td>\n",
       "    </tr>\n",
       "    <tr>\n",
       "      <th>&lt;p&gt;01-Marque o singular da palavra cartas .&lt;/p&gt;</th>\n",
       "      <td>12</td>\n",
       "    </tr>\n",
       "    <tr>\n",
       "      <th>&lt;p&gt;02- singular da palavra borboletas .&lt;/p&gt;</th>\n",
       "      <td>11</td>\n",
       "    </tr>\n",
       "    <tr>\n",
       "      <th>&lt;p&gt;O professor de Educa&amp;ccedil;&amp;atilde;o F&amp;iacute;sica organizou no p&amp;aacute;tio da escola 2 fileiras com 34 alunos em cada uma. Quantos alunos est&amp;atilde;o no p&amp;aacute;tio da escola?&lt;/p&gt;</th>\n",
       "      <td>10</td>\n",
       "    </tr>\n",
       "    <tr>\n",
       "      <th>&lt;p&gt;O magnetismo e a Eletricidade em nosso e s&amp;atilde;o &amp;aacute;reas da ci&amp;ecirc;ncia que estudam os fen&amp;ocirc;menos magn&amp;eacute;ticos e el&amp;eacute;tricos que pode estar presentes em nosso dia a dia. A atra&amp;ccedil;&amp;atilde;o entre o metal e o &amp;iacute;m&amp;atilde; &amp;eacute; um bom exemplo de fen&amp;ocirc;meno magn&amp;eacute;tico. J&amp;aacute; o funcionamento de uma l&amp;acirc;mpada acessa &amp;eacute; um bom condutor de eletricidade. Em rela&amp;ccedil;&amp;atilde;o aos &amp;iacute;m&amp;atilde;s marque a alternativa correta.&lt;/p&gt;</th>\n",
       "      <td>10</td>\n",
       "    </tr>\n",
       "  </tbody>\n",
       "</table>\n",
       "</div>"
      ],
      "text/plain": [
       "                                                    value_counts\n",
       "<p>(CMDPII) Read the dialogue and answer the qu...            12\n",
       "<p>01-Marque o singular da palavra cartas .</p>               12\n",
       "<p>02- singular da palavra borboletas .</p>                   11\n",
       "<p>O professor de Educa&ccedil;&atilde;o F&iacu...            10\n",
       "<p>O magnetismo e a Eletricidade em nosso e s&a...            10"
      ]
     },
     "metadata": {},
     "output_type": "display_data"
    }
   ],
   "source": [
    "question = bncc_db['question'].nunique()\n",
    "d = ('São um total de %d questões' % (question))\n",
    "\n",
    "display(\n",
    "    d,\n",
    "    bncc_db['question'].agg(['value_counts']).head()\n",
    ")"
   ]
  },
  {
   "cell_type": "markdown",
   "metadata": {},
   "source": [
    "## Limpando as questões"
   ]
  },
  {
   "cell_type": "code",
   "execution_count": 12,
   "metadata": {},
   "outputs": [
    {
     "data": {
      "text/html": [
       "<div>\n",
       "<style scoped>\n",
       "    .dataframe tbody tr th:only-of-type {\n",
       "        vertical-align: middle;\n",
       "    }\n",
       "\n",
       "    .dataframe tbody tr th {\n",
       "        vertical-align: top;\n",
       "    }\n",
       "\n",
       "    .dataframe thead th {\n",
       "        text-align: right;\n",
       "    }\n",
       "</style>\n",
       "<table border=\"1\" class=\"dataframe\">\n",
       "  <thead>\n",
       "    <tr style=\"text-align: right;\">\n",
       "      <th></th>\n",
       "      <th>id</th>\n",
       "      <th>question_clean</th>\n",
       "      <th>question</th>\n",
       "      <th>bulletType</th>\n",
       "      <th>name</th>\n",
       "      <th>slug</th>\n",
       "      <th>name.1</th>\n",
       "      <th>slug.1</th>\n",
       "      <th>name.2</th>\n",
       "      <th>code</th>\n",
       "      <th>description</th>\n",
       "    </tr>\n",
       "  </thead>\n",
       "  <tbody>\n",
       "    <tr>\n",
       "      <th>0</th>\n",
       "      <td>2759872</td>\n",
       "      <td>É muito comum no dia a dia utilizarmos métodos...</td>\n",
       "      <td>&lt;p style=\"text-align:left;\"&gt;É muito comum no d...</td>\n",
       "      <td>2</td>\n",
       "      <td>Outros</td>\n",
       "      <td>outros</td>\n",
       "      <td>Ciências</td>\n",
       "      <td>ciencias</td>\n",
       "      <td>Fundamental II</td>\n",
       "      <td>EF06LP01</td>\n",
       "      <td>Reconhecer a impossibilidade de uma neutralida...</td>\n",
       "    </tr>\n",
       "    <tr>\n",
       "      <th>1</th>\n",
       "      <td>3130254</td>\n",
       "      <td>dadasd</td>\n",
       "      <td>&lt;p&gt;dadasd&lt;/p&gt;</td>\n",
       "      <td>2</td>\n",
       "      <td>Arquitetura</td>\n",
       "      <td>arquitetura</td>\n",
       "      <td>Arte</td>\n",
       "      <td>arte</td>\n",
       "      <td>Fundamental II</td>\n",
       "      <td>EF06LP01</td>\n",
       "      <td>Reconhecer a impossibilidade de uma neutralida...</td>\n",
       "    </tr>\n",
       "    <tr>\n",
       "      <th>2</th>\n",
       "      <td>3134220</td>\n",
       "      <td>Questão 01Observe as imagens de uma campanha p...</td>\n",
       "      <td>&lt;p&gt;Quest&amp;atilde;o 01&lt;/p&gt;&lt;p&gt;&lt;br&gt;&lt;/p&gt;&lt;p&gt;Observe ...</td>\n",
       "      <td>4</td>\n",
       "      <td>Morfologia: Verbo</td>\n",
       "      <td>morfologia-verbo</td>\n",
       "      <td>Língua Portuguesa</td>\n",
       "      <td>lingua-portuguesa</td>\n",
       "      <td>Fundamental II</td>\n",
       "      <td>EF06LP01</td>\n",
       "      <td>Reconhecer a impossibilidade de uma neutralida...</td>\n",
       "    </tr>\n",
       "    <tr>\n",
       "      <th>3</th>\n",
       "      <td>3134221</td>\n",
       "      <td>Quando eu era garoto, acreditava em bruxas, mu...</td>\n",
       "      <td>&lt;p&gt;Quando eu era garoto, acreditava em bruxas,...</td>\n",
       "      <td>4</td>\n",
       "      <td>Morfologia: Verbo</td>\n",
       "      <td>morfologia-verbo</td>\n",
       "      <td>Língua Portuguesa</td>\n",
       "      <td>lingua-portuguesa</td>\n",
       "      <td>Fundamental II</td>\n",
       "      <td>EF06LP01</td>\n",
       "      <td>Reconhecer a impossibilidade de uma neutralida...</td>\n",
       "    </tr>\n",
       "    <tr>\n",
       "      <th>4</th>\n",
       "      <td>3134222</td>\n",
       "      <td>De cima para baixoNaquele dia o ministro chego...</td>\n",
       "      <td>&lt;p&gt;De cima para baixo&lt;/p&gt;&lt;p&gt;Naquele dia o &lt;str...</td>\n",
       "      <td>4</td>\n",
       "      <td>Morfologia: Verbo</td>\n",
       "      <td>morfologia-verbo</td>\n",
       "      <td>Língua Portuguesa</td>\n",
       "      <td>lingua-portuguesa</td>\n",
       "      <td>Fundamental II</td>\n",
       "      <td>EF06LP01</td>\n",
       "      <td>Reconhecer a impossibilidade de uma neutralida...</td>\n",
       "    </tr>\n",
       "  </tbody>\n",
       "</table>\n",
       "</div>"
      ],
      "text/plain": [
       "        id                                     question_clean  \\\n",
       "0  2759872  É muito comum no dia a dia utilizarmos métodos...   \n",
       "1  3130254                                             dadasd   \n",
       "2  3134220  Questão 01Observe as imagens de uma campanha p...   \n",
       "3  3134221  Quando eu era garoto, acreditava em bruxas, mu...   \n",
       "4  3134222  De cima para baixoNaquele dia o ministro chego...   \n",
       "\n",
       "                                            question  bulletType  \\\n",
       "0  <p style=\"text-align:left;\">É muito comum no d...           2   \n",
       "1                                      <p>dadasd</p>           2   \n",
       "2  <p>Quest&atilde;o 01</p><p><br></p><p>Observe ...           4   \n",
       "3  <p>Quando eu era garoto, acreditava em bruxas,...           4   \n",
       "4  <p>De cima para baixo</p><p>Naquele dia o <str...           4   \n",
       "\n",
       "                name              slug             name.1             slug.1  \\\n",
       "0             Outros            outros           Ciências           ciencias   \n",
       "1        Arquitetura       arquitetura               Arte               arte   \n",
       "2  Morfologia: Verbo  morfologia-verbo  Língua Portuguesa  lingua-portuguesa   \n",
       "3  Morfologia: Verbo  morfologia-verbo  Língua Portuguesa  lingua-portuguesa   \n",
       "4  Morfologia: Verbo  morfologia-verbo  Língua Portuguesa  lingua-portuguesa   \n",
       "\n",
       "           name.2      code                                        description  \n",
       "0  Fundamental II  EF06LP01  Reconhecer a impossibilidade de uma neutralida...  \n",
       "1  Fundamental II  EF06LP01  Reconhecer a impossibilidade de uma neutralida...  \n",
       "2  Fundamental II  EF06LP01  Reconhecer a impossibilidade de uma neutralida...  \n",
       "3  Fundamental II  EF06LP01  Reconhecer a impossibilidade de uma neutralida...  \n",
       "4  Fundamental II  EF06LP01  Reconhecer a impossibilidade de uma neutralida...  "
      ]
     },
     "execution_count": 12,
     "metadata": {},
     "output_type": "execute_result"
    }
   ],
   "source": [
    "### Resolvendo problema de codificação de caracteres presentes nas Questões\n",
    "\n",
    "import html\n",
    "\n",
    "data_quest = bncc_db['question'].astype('str').apply(html.unescape)\n",
    "\n",
    "### Resolvendo problema de tags html\n",
    "\n",
    "import regex as reg\n",
    "CLEANR = reg.compile('<.*?>') \n",
    "\n",
    "\n",
    "def cleanhtml(raw_html):\n",
    "  cleantext = reg.sub(CLEANR, '', raw_html)\n",
    "  return cleantext\n",
    "\n",
    "text = data_quest.map(lambda x: cleanhtml(x))\n",
    "\n",
    "bncc_db.insert(1, 'question_clean', text, allow_duplicates=False)\n",
    "bncc_db.head()"
   ]
  },
  {
   "cell_type": "markdown",
   "metadata": {},
   "source": [
    "## Instalando Bibliotecas necessárias para NLP\n",
    "\n",
    "- `!pip install regex`\n",
    "- `!pip install html`\n",
    "- `!pip install lxml`\n",
    "- `!pip install nltk`\n",
    "- `!pip install gensim`\n",
    "- `!pip install pyldavis`\n",
    "- `!pip install wordcloud`\n",
    "- `!pip install textblob`\n",
    "- `!pip install spacy`\n",
    "- `!pip install textstat`"
   ]
  },
  {
   "cell_type": "markdown",
   "metadata": {},
   "source": [
    "### Número de Caracteres por Sentença"
   ]
  },
  {
   "cell_type": "code",
   "execution_count": 13,
   "metadata": {},
   "outputs": [
    {
     "name": "stdout",
     "output_type": "stream",
     "text": [
      "As questões vão de 0 à 8419 caracteres por questão\n",
      "O valor mediano e médio de caracteres por questão é de 194 e de 337, respectivamente.\n"
     ]
    },
    {
     "data": {
      "text/plain": [
       "<AxesSubplot:xlabel='question_clean', ylabel='Count'>"
      ]
     },
     "execution_count": 13,
     "metadata": {},
     "output_type": "execute_result"
    },
    {
     "data": {
      "image/png": "[encoded data removed]",
      "text/plain": [
       "<Figure size 1440x720 with 1 Axes>"
      ]
     },
     "metadata": {
      "needs_background": "light"
     },
     "output_type": "display_data"
    }
   ],
   "source": [
    "max = bncc_db['question_clean'].str.len().max()\n",
    "min = bncc_db['question_clean'].str.len().min()\n",
    "median = bncc_db['question_clean'].str.len().median()\n",
    "mean = bncc_db['question_clean'].str.len().mean()\n",
    "\n",
    "print('As questões vão de %d à %d caracteres por questão' % (min, max))\n",
    "print('O valor mediano e médio de caracteres por questão é de %d e de %d, respectivamente.' %\n",
    "(median, mean))\n",
    "\n",
    "fig, ax = plt.subplots(figsize=(20, 10))\n",
    "\n",
    "sns.histplot(bncc_db['question_clean'].str.len(), ax = ax)"
   ]
  },
  {
   "cell_type": "markdown",
   "metadata": {},
   "source": [
    "- Verificando Questões vazias"
   ]
  },
  {
   "cell_type": "code",
   "execution_count": 30,
   "metadata": {},
   "outputs": [
    {
     "data": {
      "text/plain": [
       "(array([ 134,  209,  210,  211,  212,  213,  214, 1430, 1441, 1492, 1807,\n",
       "        1932, 3008, 3126, 3130, 3273, 3294, 3296, 3319, 3467, 3499, 4230,\n",
       "        4232, 4233, 4234, 4765, 4766, 4767, 4768, 4769, 4770, 4771, 4772,\n",
       "        4816, 4817, 4827, 4828, 5637, 5639, 5640, 5697, 6277, 6728, 6729,\n",
       "        6736, 6757, 6918, 6923, 6925, 6927, 6933, 6935, 6937, 7036, 7039,\n",
       "        7040, 7041, 7042, 7319, 7321, 7326, 7327, 7510, 7511, 7682, 7683,\n",
       "        7687, 7689, 7691, 7696, 7698, 7709, 7713, 7726, 7727, 7728, 7729,\n",
       "        7731, 7732, 7734, 7997, 7998, 8002, 8004, 8473, 8474, 8476, 8507,\n",
       "        8509, 8552, 8553, 8589], dtype=int64),)"
      ]
     },
     "execution_count": 30,
     "metadata": {},
     "output_type": "execute_result"
    }
   ],
   "source": [
    "np.where(bncc_db['question_clean'].str.len() == 0)"
   ]
  },
  {
   "cell_type": "markdown",
   "metadata": {},
   "source": [
    "### Número de Palavras em cada questão:"
   ]
  },
  {
   "cell_type": "code",
   "execution_count": 103,
   "metadata": {},
   "outputs": [
    {
     "name": "stdout",
     "output_type": "stream",
     "text": [
      "O número de palavras vão de 0 à 1261 por questão\n",
      "O valor mediano e médio de palavras por questão é de 30 e de 52, respectivamente.\n"
     ]
    },
    {
     "data": {
      "text/plain": [
       "<AxesSubplot:xlabel='question_clean', ylabel='Count'>"
      ]
     },
     "execution_count": 103,
     "metadata": {},
     "output_type": "execute_result"
    },
    {
     "data": {
      "image/png": "[encoded data removed]",
      "text/plain": [
       "<Figure size 1440x720 with 1 Axes>"
      ]
     },
     "metadata": {
      "needs_background": "light"
     },
     "output_type": "display_data"
    }
   ],
   "source": [
    "text = bncc_db['question_clean']\n",
    "\n",
    "max = text.str.split().map(lambda x: len(x)).max()\n",
    "min = text.str.split().map(lambda x: len(x)).min()\n",
    "median = text.str.split().map(lambda x: len(x)).median()\n",
    "mean = text.str.split().map(lambda x: len(x)).mean()\n",
    "\n",
    "print('O número de palavras vão de %d à %d por questão' % (min, max))\n",
    "print('O valor mediano e médio de palavras por questão é de %d e de %d, respectivamente.' %\n",
    "(median, mean))\n",
    "\n",
    "fig, ax = plt.subplots(figsize=(20, 10))\n",
    "\n",
    "sns.histplot(text.str.split().map(lambda x: len(x)), ax = ax)\n",
    "\n"
   ]
  },
  {
   "cell_type": "markdown",
   "metadata": {},
   "source": [
    "- Média do tamanho das palavras em cada questão"
   ]
  },
  {
   "cell_type": "code",
   "execution_count": 31,
   "metadata": {},
   "outputs": [
    {
     "name": "stderr",
     "output_type": "stream",
     "text": [
      "C:\\Users\\Danilo\\AppData\\Local\\Programs\\Python\\Python39\\lib\\site-packages\\numpy\\core\\fromnumeric.py:3440: RuntimeWarning: Mean of empty slice.\n",
      "  return _methods._mean(a, axis=axis, dtype=dtype,\n",
      "C:\\Users\\Danilo\\AppData\\Local\\Programs\\Python\\Python39\\lib\\site-packages\\numpy\\core\\_methods.py:189: RuntimeWarning: invalid value encountered in double_scalars\n",
      "  ret = ret.dtype.type(ret / rcount)\n"
     ]
    },
    {
     "data": {
      "text/plain": [
       "0       5.301587\n",
       "1       6.000000\n",
       "2       9.054054\n",
       "3       5.484848\n",
       "4       5.857143\n",
       "          ...   \n",
       "8903    5.330357\n",
       "8904    5.421053\n",
       "8905    5.201389\n",
       "8906    5.264706\n",
       "8907    5.477876\n",
       "Name: question_clean, Length: 8908, dtype: float64"
      ]
     },
     "execution_count": 31,
     "metadata": {},
     "output_type": "execute_result"
    }
   ],
   "source": [
    "mean_words = bncc_db['question_clean'].str.split().apply(lambda x : [len(i) for i in x]).map(lambda x: np.mean(x))\n",
    "mean_words"
   ]
  },
  {
   "cell_type": "markdown",
   "metadata": {},
   "source": [
    "- Valor médio máximo e médio do tamanho de palavras por questão:"
   ]
  },
  {
   "cell_type": "code",
   "execution_count": 32,
   "metadata": {},
   "outputs": [
    {
     "name": "stdout",
     "output_type": "stream",
     "text": [
      "O valor máximo do tamanho médio das palavras por questão é de 348 (Algo está errado)\n",
      "O valor médio do tamanho de uma palavra por questão é de 5\n"
     ]
    }
   ],
   "source": [
    "max_len_words = bncc_db['question_clean'].str.split().apply(lambda x : [len(i) for i in x]).map(lambda x: np.mean(x)).max()\n",
    "print('O valor máximo do tamanho médio das palavras por questão é de %d (Algo está errado)'%(max_len_words))\n",
    "\n",
    "mean_len_words = bncc_db['question_clean'].str.split().apply(lambda x : [len(i) for i in x]).map(lambda x: np.mean(x)).mean()\n",
    "print('O valor médio do tamanho de uma palavra por questão é de %d'%(mean_len_words))"
   ]
  },
  {
   "cell_type": "markdown",
   "metadata": {},
   "source": [
    "### Possíveis problemas relacionados a palavras compridas;\n",
    "\n",
    "- Palavras distintas não separadas por espaço\n",
    "- Ausencia de espaço após finalizar uma frase.\n",
    "  - Une uma palavra do final de uma frase com a palavra do início de uma nova frase (Acabou.Começou != Acabou. Começou)\n",
    "\n",
    "Apesar de termos limpados as tag html, a própria estrutura das questões deixam alguns erros. Por ex.:\n",
    " - Tópicos enumerados a serem cumpridos na questão estão grudados. ex.:\n",
    "   - Deveria ser:\n",
    "    - 1. alternativa\n",
    "    - 2. alternativa\n",
    "    - 3. alternativa\n",
    "    - 4. alternativa\n",
    "  - Como está:\n",
    "    - -1. alternativa-2. alternativa- 3. alternativa-4. alternativa"
   ]
  },
  {
   "cell_type": "code",
   "execution_count": 127,
   "metadata": {},
   "outputs": [
    {
     "data": {
      "text/plain": [
       "'De cima para baixoNaquele dia o ministro\\xa0chegou de mau humor ao seu gabinete e imediatamente mandou chamar o diretor-geral da Secretaria.Este, como se movido fosse por uma pilha elétrica , estava, poucos instantes depois, em presença de Sua Excelência, que o recebeu com duas pedras na mão.– Estou furioso ! — exclamou o conselheiro. — Por sua causa passei por uma vergonha diante de Sua Majestade o Imperador![...]AZEVEDO, Artur de. De cima para baixo. Disponível em: https://novaescola.org.br/conteudo/3167/de-cima-para-baixo . Acesso em: 10 abr. 2021.Classifique as palavras destacadas no texto, de acordo com as regras de formação adequadas, transcrevendo-as \\xa0a seguir.1- Masculino\\xa02- Feminino3- Singular4- PluralR.:'"
      ]
     },
     "execution_count": 127,
     "metadata": {},
     "output_type": "execute_result"
    }
   ],
   "source": [
    "bncc_db['question_clean'][4]\n"
   ]
  },
  {
   "cell_type": "code",
   "execution_count": 104,
   "metadata": {},
   "outputs": [
    {
     "name": "stderr",
     "output_type": "stream",
     "text": [
      "C:\\Users\\Danilo\\AppData\\Local\\Programs\\Python\\Python39\\lib\\site-packages\\numpy\\core\\fromnumeric.py:3440: RuntimeWarning: Mean of empty slice.\n",
      "  return _methods._mean(a, axis=axis, dtype=dtype,\n",
      "C:\\Users\\Danilo\\AppData\\Local\\Programs\\Python\\Python39\\lib\\site-packages\\numpy\\core\\_methods.py:189: RuntimeWarning: invalid value encountered in double_scalars\n",
      "  ret = ret.dtype.type(ret / rcount)\n"
     ]
    },
    {
     "data": {
      "text/plain": [
       "<AxesSubplot:xlabel='question_clean', ylabel='Count'>"
      ]
     },
     "execution_count": 104,
     "metadata": {},
     "output_type": "execute_result"
    },
    {
     "data": {
      "image/png": "[encoded data removed]",
      "text/plain": [
       "<Figure size 1440x720 with 1 Axes>"
      ]
     },
     "metadata": {
      "needs_background": "light"
     },
     "output_type": "display_data"
    }
   ],
   "source": [
    "## Verificando o tamanho médio das palavras\n",
    "fig, ax = plt.subplots(figsize=(20, 10))\n",
    "\n",
    "sns.histplot(bncc_db['question_clean'].str.split().apply(lambda x : [len(i) for i in x]).map(lambda x: np.mean(x)),\n",
    "ax = ax)\n",
    "\n",
    "\n",
    "## Vale notar que existe umas palavras com 40, 60, 80 ... letras, o que é inverossímel"
   ]
  },
  {
   "cell_type": "markdown",
   "metadata": {},
   "source": [
    "## Verificar 'stopwords' nas questões"
   ]
  },
  {
   "cell_type": "code",
   "execution_count": 132,
   "metadata": {},
   "outputs": [
    {
     "name": "stderr",
     "output_type": "stream",
     "text": [
      "[nltk_data] Downloading package stopwords to\n",
      "[nltk_data]     C:\\Users\\Danilo\\AppData\\Roaming\\nltk_data...\n",
      "[nltk_data]   Package stopwords is already up-to-date!\n"
     ]
    }
   ],
   "source": [
    "import nltk\n",
    "nltk.download('stopwords')\n",
    "stop = nltk.corpus.stopwords.words('portuguese')\n"
   ]
  },
  {
   "cell_type": "markdown",
   "metadata": {},
   "source": []
  }
 ],
 "metadata": {
  "interpreter": {
   "hash": "90a960bae883613342b79d9d13907d323e145dfd96bd43bab998425e5dc2caf6"
  },
  "kernelspec": {
   "display_name": "Python 3.9.6 64-bit",
   "language": "python",
   "name": "python3"
  },
  "language_info": {
   "codemirror_mode": {
    "name": "ipython",
    "version": 3
   },
   "file_extension": ".py",
   "mimetype": "text/x-python",
   "name": "python",
   "nbconvert_exporter": "python",
   "pygments_lexer": "ipython3",
   "version": "3.9.6"
  },
  "orig_nbformat": 4
 },
 "nbformat": 4,
 "nbformat_minor": 2
}
