{
 "cells": [
  {
   "cell_type": "markdown",
   "metadata": {
    "id": "CePvxGu-i5qI"
   },
   "source": [
    "# <center> Introdução à NLP (Processamento de Linguagem Natural)\n",
    "    \n",
    "<center> <img src=\"https://www.fleetscience.org/sites/default/files/images/customer%20ai.gif\" width=1000>"
   ]
  },
  {
   "cell_type": "markdown",
   "metadata": {
    "id": "jyjP6Csdi5qM"
   },
   "source": [
    "<center> Nesta aula, iremos aprender o que é `Processamento de Linguagem Natural`, suas principais aplicações e um repertório de técnicas tanto de `DataPrep` quanto de `Modelagem` para tratar problemas deste tipo!"
   ]
  },
  {
   "cell_type": "markdown",
   "metadata": {
    "id": "LRFX6JmNi5qN"
   },
   "source": [
    "<center> Nosso principal desafio será o de usar `tweets` para prever se o sentimento da escrita é <b>positivo</b> ou <b>negativo</b> baseado apenas em seus textos, sem que tenhamos que lê-los um a um!\n",
    "\n",
    "<img src='https://support.appsflyer.com/hc/article_attachments/360001968989/twitter_logo.jpg'>"
   ]
  },
  {
   "cell_type": "markdown",
   "metadata": {
    "id": "i_igzTkgi5qN"
   },
   "source": [
    "## 0. Preparativos: Entendendo a base e os dados"
   ]
  },
  {
   "cell_type": "markdown",
   "metadata": {
    "id": "u92FYrtIi5qN"
   },
   "source": [
    "Vamos primeiro carregar algumas libs necessárias para os nossos estudos e análises"
   ]
  },
  {
   "cell_type": "code",
   "execution_count": null,
   "metadata": {
    "id": "3cZVA13ui5qO"
   },
   "outputs": [],
   "source": [
    "# Módulos de manipulação de dados\n",
    "import pandas as pd\n",
    "import numpy as np\n",
    "import matplotlib.pyplot as plt\n",
    "import seaborn as sns\n",
    "\n",
    "# Módulos de DataPrep\n",
    "from sklearn.preprocessing import StandardScaler, MinMaxScaler\n",
    "\n",
    "# Módulos de tratamento de textos\n",
    "from nltk import word_tokenize, sent_tokenize, RSLPStemmer\n",
    "import nltk\n",
    "import re\n",
    "from sklearn.feature_extraction.text import CountVectorizer, TfidfVectorizer\n",
    "\n",
    "# Métricas\n",
    "from sklearn.metrics import accuracy_score, roc_auc_score\n",
    "\n",
    "# Módulos de modelos\n",
    "from sklearn.linear_model import LogisticRegression\n",
    "from sklearn.tree import DecisionTreeClassifier\n",
    "from sklearn.ensemble import RandomForestClassifier, GradientBoostingClassifier\n",
    "from lightgbm import LGBMClassifier\n",
    "from sklearn.model_selection import cross_val_score, train_test_split, GridSearchCV\n",
    "\n",
    "import warnings\n",
    "\n",
    "warnings.filterwarnings(\"ignore\")"
   ]
  },
  {
   "cell_type": "markdown",
   "metadata": {
    "id": "59WURmFdi5qP"
   },
   "source": [
    "Para este problema, iremos usar cerca de 8 mil `tweets` (1% da base), escritos da maneira que são (ou seja, com hashtags, citações e links)"
   ]
  },
  {
   "cell_type": "code",
   "execution_count": null,
   "metadata": {
    "scrolled": true,
    "id": "zYJSXf0bi5qP",
    "outputId": "f9b4531b-5fc4-480f-86e2-e8cebca77155"
   },
   "outputs": [
    {
     "name": "stdout",
     "output_type": "stream",
     "text": [
      "(7858, 4)\n"
     ]
    },
    {
     "data": {
      "text/html": [
       "<div>\n",
       "<style scoped>\n",
       "    .dataframe tbody tr th:only-of-type {\n",
       "        vertical-align: middle;\n",
       "    }\n",
       "\n",
       "    .dataframe tbody tr th {\n",
       "        vertical-align: top;\n",
       "    }\n",
       "\n",
       "    .dataframe thead th {\n",
       "        text-align: right;\n",
       "    }\n",
       "</style>\n",
       "<table border=\"1\" class=\"dataframe\">\n",
       "  <thead>\n",
       "    <tr style=\"text-align: right;\">\n",
       "      <th></th>\n",
       "      <th>tweet_text</th>\n",
       "      <th>tweet_date</th>\n",
       "      <th>sentiment</th>\n",
       "      <th>query_used</th>\n",
       "    </tr>\n",
       "    <tr>\n",
       "      <th>id</th>\n",
       "      <th></th>\n",
       "      <th></th>\n",
       "      <th></th>\n",
       "      <th></th>\n",
       "    </tr>\n",
       "  </thead>\n",
       "  <tbody>\n",
       "    <tr>\n",
       "      <th>1042647383241379841</th>\n",
       "      <td>meu gato beija meu queixo do nada :(</td>\n",
       "      <td>Thu Sep 20 05:31:22 +0000 2018</td>\n",
       "      <td>Negativo</td>\n",
       "      <td>:(</td>\n",
       "    </tr>\n",
       "    <tr>\n",
       "      <th>1042621623550058499</th>\n",
       "      <td>acho que meu app de música pifou :( não quer b...</td>\n",
       "      <td>Thu Sep 20 03:49:00 +0000 2018</td>\n",
       "      <td>Negativo</td>\n",
       "      <td>:(</td>\n",
       "    </tr>\n",
       "    <tr>\n",
       "      <th>1044172114457251840</th>\n",
       "      <td>Bom Dia!! Mais um Dia! São September 24, 2018 ...</td>\n",
       "      <td>Mon Sep 24 10:30:06 +0000 2018</td>\n",
       "      <td>Positivo</td>\n",
       "      <td>:)</td>\n",
       "    </tr>\n",
       "    <tr>\n",
       "      <th>1039963730069663745</th>\n",
       "      <td>se cuidem meus príncipes, eu amo vocês :( http...</td>\n",
       "      <td>Wed Sep 12 19:47:29 +0000 2018</td>\n",
       "      <td>Negativo</td>\n",
       "      <td>:(</td>\n",
       "    </tr>\n",
       "    <tr>\n",
       "      <th>1041735689115762688</th>\n",
       "      <td>O meu pai só sabe o nome do jungkook e do jimi...</td>\n",
       "      <td>Mon Sep 17 17:08:37 +0000 2018</td>\n",
       "      <td>Negativo</td>\n",
       "      <td>:(</td>\n",
       "    </tr>\n",
       "  </tbody>\n",
       "</table>\n",
       "</div>"
      ],
      "text/plain": [
       "                                                            tweet_text  \\\n",
       "id                                                                       \n",
       "1042647383241379841               meu gato beija meu queixo do nada :(   \n",
       "1042621623550058499  acho que meu app de música pifou :( não quer b...   \n",
       "1044172114457251840  Bom Dia!! Mais um Dia! São September 24, 2018 ...   \n",
       "1039963730069663745  se cuidem meus príncipes, eu amo vocês :( http...   \n",
       "1041735689115762688  O meu pai só sabe o nome do jungkook e do jimi...   \n",
       "\n",
       "                                         tweet_date sentiment query_used  \n",
       "id                                                                        \n",
       "1042647383241379841  Thu Sep 20 05:31:22 +0000 2018  Negativo         :(  \n",
       "1042621623550058499  Thu Sep 20 03:49:00 +0000 2018  Negativo         :(  \n",
       "1044172114457251840  Mon Sep 24 10:30:06 +0000 2018  Positivo         :)  \n",
       "1039963730069663745  Wed Sep 12 19:47:29 +0000 2018  Negativo         :(  \n",
       "1041735689115762688  Mon Sep 17 17:08:37 +0000 2018  Negativo         :(  "
      ]
     },
     "execution_count": 2,
     "metadata": {},
     "output_type": "execute_result"
    }
   ],
   "source": [
    "# Carregando a base de dados\n",
    "dados = pd.read_csv(\n",
    "    \"../0. Dados/NoThemeTweets.csv\", encoding=\"utf-8\", index_col=0\n",
    ").sample(frac=0.01, random_state=1234)\n",
    "print(dados.shape)\n",
    "dados.head()"
   ]
  },
  {
   "cell_type": "markdown",
   "metadata": {
    "id": "2pKSi2HTi5qR"
   },
   "source": [
    "Para simplificar, vamos apenas tomar as colunas importantes, o `tweet_text` e o `sentiment`"
   ]
  },
  {
   "cell_type": "code",
   "execution_count": null,
   "metadata": {
    "id": "rVvTczSei5qR",
    "outputId": "7d30675a-ad0d-4561-c9df-778034e4ac58"
   },
   "outputs": [
    {
     "data": {
      "text/html": [
       "<div>\n",
       "<style scoped>\n",
       "    .dataframe tbody tr th:only-of-type {\n",
       "        vertical-align: middle;\n",
       "    }\n",
       "\n",
       "    .dataframe tbody tr th {\n",
       "        vertical-align: top;\n",
       "    }\n",
       "\n",
       "    .dataframe thead th {\n",
       "        text-align: right;\n",
       "    }\n",
       "</style>\n",
       "<table border=\"1\" class=\"dataframe\">\n",
       "  <thead>\n",
       "    <tr style=\"text-align: right;\">\n",
       "      <th></th>\n",
       "      <th>tweet_text</th>\n",
       "      <th>sentiment</th>\n",
       "    </tr>\n",
       "  </thead>\n",
       "  <tbody>\n",
       "    <tr>\n",
       "      <th>0</th>\n",
       "      <td>meu gato beija meu queixo do nada :(</td>\n",
       "      <td>Negativo</td>\n",
       "    </tr>\n",
       "    <tr>\n",
       "      <th>1</th>\n",
       "      <td>acho que meu app de música pifou :( não quer b...</td>\n",
       "      <td>Negativo</td>\n",
       "    </tr>\n",
       "    <tr>\n",
       "      <th>2</th>\n",
       "      <td>Bom Dia!! Mais um Dia! São September 24, 2018 ...</td>\n",
       "      <td>Positivo</td>\n",
       "    </tr>\n",
       "    <tr>\n",
       "      <th>3</th>\n",
       "      <td>se cuidem meus príncipes, eu amo vocês :( http...</td>\n",
       "      <td>Negativo</td>\n",
       "    </tr>\n",
       "    <tr>\n",
       "      <th>4</th>\n",
       "      <td>O meu pai só sabe o nome do jungkook e do jimi...</td>\n",
       "      <td>Negativo</td>\n",
       "    </tr>\n",
       "  </tbody>\n",
       "</table>\n",
       "</div>"
      ],
      "text/plain": [
       "                                          tweet_text sentiment\n",
       "0               meu gato beija meu queixo do nada :(  Negativo\n",
       "1  acho que meu app de música pifou :( não quer b...  Negativo\n",
       "2  Bom Dia!! Mais um Dia! São September 24, 2018 ...  Positivo\n",
       "3  se cuidem meus príncipes, eu amo vocês :( http...  Negativo\n",
       "4  O meu pai só sabe o nome do jungkook e do jimi...  Negativo"
      ]
     },
     "execution_count": 3,
     "metadata": {},
     "output_type": "execute_result"
    }
   ],
   "source": [
    "dados = dados[[\"tweet_text\", \"sentiment\"]].reset_index(drop=True)\n",
    "dados.head()"
   ]
  },
  {
   "cell_type": "markdown",
   "metadata": {
    "id": "rQKq3J0qi5qS"
   },
   "source": [
    "Temos então o texto do Twitter e o sentimento em duas classes: `Positivo` e `Negativo`, com bom balanceamento entre classes"
   ]
  },
  {
   "cell_type": "code",
   "execution_count": null,
   "metadata": {
    "id": "KQ_0-JGEi5qS",
    "outputId": "2437ea78-e0de-4079-c1ca-383d2cb25ad5"
   },
   "outputs": [
    {
     "data": {
      "text/plain": [
       "Negativo    66.11097\n",
       "Positivo    33.88903\n",
       "Name: sentiment, dtype: float64"
      ]
     },
     "execution_count": 4,
     "metadata": {},
     "output_type": "execute_result"
    }
   ],
   "source": [
    "dados.sentiment.value_counts(normalize=True) * 100"
   ]
  },
  {
   "cell_type": "markdown",
   "metadata": {
    "id": "M0Pv6qRYi5qS"
   },
   "source": [
    "## 1. DataPrep: Como usar textos e palavras como features de modelos?"
   ]
  },
  {
   "cell_type": "markdown",
   "metadata": {
    "id": "BDjr6Q2Gi5qS"
   },
   "source": [
    "### 1.0 O primeiro passo: removendo textos indesejados"
   ]
  },
  {
   "cell_type": "markdown",
   "metadata": {
    "id": "rgZcW8Jxi5qT"
   },
   "source": [
    "Apesar de presentes em muitos tweets, certos elementos não fazem parte de um texto contínuo e, portanto, podem nos atrapalhar na hora de avaliar se o texto de um tweet está atrelado a um determinado sentimento. São alguns exemplos:\n",
    "* Links\n",
    "* Citações (com @ no início)\n",
    "* Hashtags (com # no início)\n",
    "* Smiles :( e :), que por acaso foram usados para definir o sentimento dessa base\n",
    "\n",
    "Sendo assim, vamos usar um recurso muito conhecido para removê-los: o `RegEx` (Regular Expressions)"
   ]
  },
  {
   "cell_type": "markdown",
   "metadata": {
    "id": "D5K_N_b4i5qT"
   },
   "source": [
    "`RegEx` é um assunto bastante extenso e poderíamos falar uma aula inteira sobre ele, mas para o momento, o melhor caminho seria usá-lo apenas para simplificar nossa tarefa. Mais para frente deixarei referências sobre o assunto!"
   ]
  },
  {
   "cell_type": "code",
   "execution_count": null,
   "metadata": {
    "id": "dlri6rHQi5qT"
   },
   "outputs": [],
   "source": [
    "# Definindo os padrões de texto que queremos remover dos textos\n",
    "regex_urls = \"[\\s]*http[s]?://\\w+(\\.com?|\\.br)(/\\w+)*\"\n",
    "regex_citations = \"[\\s]*(@\\w+)\"\n",
    "regex_hashtags = \"[\\s]*(#\\w+)\"\n",
    "regex_smiles = \"[\\s]*(:\\(|:\\)|:D|:P)\""
   ]
  },
  {
   "cell_type": "code",
   "execution_count": null,
   "metadata": {
    "id": "HzZskRlZi5qU"
   },
   "outputs": [],
   "source": [
    "# Aplicando as remoções usando o comando .str.replace, presente em qualquer string\n",
    "dados[\"txt_sem_regex\"] = dados.tweet_text.str.replace(regex_urls, \"\")\n",
    "dados[\"txt_sem_regex\"] = dados.txt_sem_regex.str.replace(regex_citations, \"\")\n",
    "dados[\"txt_sem_regex\"] = dados.txt_sem_regex.str.replace(regex_hashtags, \"\")\n",
    "dados[\"txt_sem_regex\"] = dados.txt_sem_regex.str.replace(regex_smiles, \"\")"
   ]
  },
  {
   "cell_type": "code",
   "execution_count": null,
   "metadata": {
    "id": "JlAZ34y8i5qU",
    "outputId": "44d846a4-b967-4fc3-9154-8c39ac76b947"
   },
   "outputs": [
    {
     "data": {
      "text/html": [
       "<div>\n",
       "<style scoped>\n",
       "    .dataframe tbody tr th:only-of-type {\n",
       "        vertical-align: middle;\n",
       "    }\n",
       "\n",
       "    .dataframe tbody tr th {\n",
       "        vertical-align: top;\n",
       "    }\n",
       "\n",
       "    .dataframe thead th {\n",
       "        text-align: right;\n",
       "    }\n",
       "</style>\n",
       "<table border=\"1\" class=\"dataframe\">\n",
       "  <thead>\n",
       "    <tr style=\"text-align: right;\">\n",
       "      <th></th>\n",
       "      <th>tweet_text</th>\n",
       "      <th>sentiment</th>\n",
       "      <th>txt_sem_regex</th>\n",
       "    </tr>\n",
       "  </thead>\n",
       "  <tbody>\n",
       "    <tr>\n",
       "      <th>7853</th>\n",
       "      <td>@GusmolinaTwi @liliharmony @sandryyyyyyyy @bea...</td>\n",
       "      <td>Positivo</td>\n",
       "      <td>E vamos lembrar que o Ciro tá ganhando dispar...</td>\n",
       "    </tr>\n",
       "    <tr>\n",
       "      <th>7854</th>\n",
       "      <td>@nappyola onde comprei só tinha a E :(</td>\n",
       "      <td>Negativo</td>\n",
       "      <td>onde comprei só tinha a E</td>\n",
       "    </tr>\n",
       "    <tr>\n",
       "      <th>7855</th>\n",
       "      <td>Adivinha quem acordou com o diabo do lado? :)</td>\n",
       "      <td>Positivo</td>\n",
       "      <td>Adivinha quem acordou com o diabo do lado?</td>\n",
       "    </tr>\n",
       "    <tr>\n",
       "      <th>7856</th>\n",
       "      <td>O ze me liga no wpp em grupo c gnt q eu nem co...</td>\n",
       "      <td>Positivo</td>\n",
       "      <td>O ze me liga no wpp em grupo c gnt q eu nem co...</td>\n",
       "    </tr>\n",
       "    <tr>\n",
       "      <th>7857</th>\n",
       "      <td>terminar de estudar também :(</td>\n",
       "      <td>Negativo</td>\n",
       "      <td>terminar de estudar também</td>\n",
       "    </tr>\n",
       "  </tbody>\n",
       "</table>\n",
       "</div>"
      ],
      "text/plain": [
       "                                             tweet_text sentiment  \\\n",
       "7853  @GusmolinaTwi @liliharmony @sandryyyyyyyy @bea...  Positivo   \n",
       "7854             @nappyola onde comprei só tinha a E :(  Negativo   \n",
       "7855      Adivinha quem acordou com o diabo do lado? :)  Positivo   \n",
       "7856  O ze me liga no wpp em grupo c gnt q eu nem co...  Positivo   \n",
       "7857                      terminar de estudar também :(  Negativo   \n",
       "\n",
       "                                          txt_sem_regex  \n",
       "7853   E vamos lembrar que o Ciro tá ganhando dispar...  \n",
       "7854                          onde comprei só tinha a E  \n",
       "7855         Adivinha quem acordou com o diabo do lado?  \n",
       "7856  O ze me liga no wpp em grupo c gnt q eu nem co...  \n",
       "7857                         terminar de estudar também  "
      ]
     },
     "execution_count": 7,
     "metadata": {},
     "output_type": "execute_result"
    }
   ],
   "source": [
    "dados.tail(5)"
   ]
  },
  {
   "cell_type": "markdown",
   "metadata": {
    "id": "Y3vMnYZUi5qU"
   },
   "source": [
    "### 1.1 O conceito de `token`"
   ]
  },
  {
   "cell_type": "markdown",
   "metadata": {
    "id": "3UA8SKW1i5qV"
   },
   "source": [
    "Até agora, em modelos em que usamos dados `tabulares`, cada informação que usamos para prever uma determinada característica já está devidamente colocada em uma coluna, chamada de `feature`:\n",
    "\n",
    "<center> <img src = \"../2. MISC/tabulardata.png\" width=1200>"
   ]
  },
  {
   "cell_type": "markdown",
   "metadata": {
    "id": "dh-A29Lai5qX"
   },
   "source": [
    "Mas com texto, esse trabalho fica mais complicado, pois só temos **uma** coluna de features, que é o próprio texto! E mais do que isso, cada texto possui palavras diferentes, então como poderíamos usá-las para diferenciar cada tweet?"
   ]
  },
  {
   "cell_type": "code",
   "execution_count": null,
   "metadata": {
    "scrolled": true,
    "id": "Yjtj5tBTi5qX",
    "outputId": "97667d7c-e337-48ad-cc92-dfc29b5a5ad4"
   },
   "outputs": [
    {
     "data": {
      "text/plain": [
       "0                     meu gato beija meu queixo do nada\n",
       "1     acho que meu app de música pifou não quer baix...\n",
       "2     Bom Dia!! Mais um Dia! São September 24, 2018 ...\n",
       "3                se cuidem meus príncipes, eu amo vocês\n",
       "4     O meu pai só sabe o nome do jungkook e do jimi...\n",
       "5                             Não quero nada ir sozinha\n",
       "6                                         ganda pala e)\n",
       "7                            Tas a ser, po caralho rude\n",
       "8                             cuidando do meu bebezinho\n",
       "9     orgulhinho de mim e deixando de ser mão de vac...\n",
       "10                                          Ai eu quero\n",
       "11                                           pior q fui\n",
       "12                        PQP EU TO MUITO TRISTE(((((((\n",
       "13    Apaixonada pelas suas sobrancelhas e por vc n ...\n",
       "14     HUAHAUAHAUAU meu sonho de interiorana era ir ...\n",
       "Name: txt_sem_regex, dtype: object"
      ]
     },
     "execution_count": 8,
     "metadata": {},
     "output_type": "execute_result"
    }
   ],
   "source": [
    "dados.txt_sem_regex.head(15)"
   ]
  },
  {
   "cell_type": "markdown",
   "metadata": {
    "id": "rg8vMFbbi5qX"
   },
   "source": [
    "É nesses casos em que o conceito de `token`pode nos salvar! O Token nada mais é do que um elemento do texto separado por espaços, o que em quase todos os casos significa uma `palavra`, de fato!\n",
    "\n",
    "Focando apenas no primeiro registro, vamos ver como poderíamos fazer isso"
   ]
  },
  {
   "cell_type": "code",
   "execution_count": null,
   "metadata": {
    "id": "R-k4PKzOi5qX",
    "outputId": "e4b72ec5-7522-4a25-d8b2-d947ab497af9"
   },
   "outputs": [
    {
     "data": {
      "text/plain": [
       "'a risadinha'"
      ]
     },
     "execution_count": 9,
     "metadata": {},
     "output_type": "execute_result"
    }
   ],
   "source": [
    "primeira_avaliacao = dados.txt_sem_regex.iloc[500]\n",
    "primeira_avaliacao"
   ]
  },
  {
   "cell_type": "code",
   "execution_count": null,
   "metadata": {
    "id": "3FeLHoLpi5qX",
    "outputId": "98275ec2-271e-40a5-a025-ab2da9e8be9d"
   },
   "outputs": [
    {
     "data": {
      "text/plain": [
       "str"
      ]
     },
     "execution_count": 10,
     "metadata": {},
     "output_type": "execute_result"
    }
   ],
   "source": [
    "# Tipo de dado\n",
    "type(primeira_avaliacao)"
   ]
  },
  {
   "cell_type": "markdown",
   "metadata": {
    "id": "YLM7ucuYi5qY"
   },
   "source": [
    "Como o tipo de dado é  `string`, podemos usar uma série de métodos inclusos, como, por exemplo, o de separação dos elementos por um determinado separados, o `str.split()`"
   ]
  },
  {
   "cell_type": "code",
   "execution_count": null,
   "metadata": {
    "scrolled": true,
    "id": "GNNrtNbii5qY",
    "outputId": "a3224e90-b633-40a8-c9fc-003fe5924186"
   },
   "outputs": [
    {
     "data": {
      "text/plain": [
       "['a', 'risadinha']"
      ]
     },
     "execution_count": 68,
     "metadata": {},
     "output_type": "execute_result"
    }
   ],
   "source": [
    "primeira_avaliacao.split(\" \")"
   ]
  },
  {
   "cell_type": "markdown",
   "metadata": {
    "id": "gbTEeJhNi5qY"
   },
   "source": [
    "Fazendo desta forma, agora temos uma lista onde cada elemento é uma palavra diferente do texto! Cada elemento, portanto, é um  `token` que podemos usar de alguma maneira como feature do nosso modelo"
   ]
  },
  {
   "cell_type": "markdown",
   "metadata": {
    "id": "0I7RXsAbi5qY"
   },
   "source": [
    "Se quisermos de fato transformar estes `tokens` em features, uma ideia simples seria, por exemplo, contar o número de vezes que cada palavra aparece no texto"
   ]
  },
  {
   "cell_type": "code",
   "execution_count": null,
   "metadata": {
    "scrolled": true,
    "id": "vXPG_eVTi5qY",
    "outputId": "dbbdfacb-adbd-4af7-9fa2-c0a46217951f"
   },
   "outputs": [
    {
     "data": {
      "text/plain": [
       "a            1\n",
       "risadinha    1\n",
       "dtype: int64"
      ]
     },
     "execution_count": 12,
     "metadata": {},
     "output_type": "execute_result"
    }
   ],
   "source": [
    "pd.Series(primeira_avaliacao.split(\" \")).value_counts()"
   ]
  },
  {
   "cell_type": "markdown",
   "metadata": {
    "id": "-dkhYkJJi5qY"
   },
   "source": [
    "Se fizéssemos o mesmo processo com o terceiro tweet, teremos contagens diferentes, inclusive com palavras que não foram citadas no primeiro tweet!"
   ]
  },
  {
   "cell_type": "code",
   "execution_count": null,
   "metadata": {
    "scrolled": true,
    "id": "NTrIYJRKi5qZ",
    "outputId": "097b60a5-a0db-4a26-ebf9-c8ffabf82c04"
   },
   "outputs": [
    {
     "data": {
      "text/plain": [
       "príncipes,    1\n",
       "amo           1\n",
       "vocês         1\n",
       "cuidem        1\n",
       "se            1\n",
       "meus          1\n",
       "eu            1\n",
       "dtype: int64"
      ]
     },
     "execution_count": 13,
     "metadata": {},
     "output_type": "execute_result"
    }
   ],
   "source": [
    "segunda_avaliacao = dados.txt_sem_regex.iloc[3]\n",
    "pd.Series(segunda_avaliacao.split(\" \")).value_counts()"
   ]
  },
  {
   "cell_type": "markdown",
   "metadata": {
    "id": "dgHpCsk5i5qZ"
   },
   "source": [
    "Fazer este trabalho apenas com Python puro pode ser complexo, então vamos usar alguns módulos próprioas para estas tarefas!"
   ]
  },
  {
   "cell_type": "markdown",
   "metadata": {
    "id": "GnqytXxfi5qZ"
   },
   "source": [
    "### 1.2 Funções de tokenização"
   ]
  },
  {
   "cell_type": "markdown",
   "metadata": {
    "id": "8gDT1rbYi5qZ"
   },
   "source": [
    "Temos muitos módulos do Python próprios para esta tarefa de tratamento de texto, e um dos mais famosos é o `NLTK` (**N**atural **L**anguage **T**ool**k**it), que usaremos bastante nessa aula"
   ]
  },
  {
   "cell_type": "code",
   "execution_count": null,
   "metadata": {
    "id": "wMXO0wGwi5qZ"
   },
   "outputs": [],
   "source": [
    "# Importando módulos do NLTK\n",
    "from nltk import word_tokenize, sent_tokenize, RSLPStemmer"
   ]
  },
  {
   "cell_type": "markdown",
   "metadata": {
    "id": "-4MnLvnli5qZ"
   },
   "source": [
    "Para mostrar algumas funcionalidades, vamos usar algumas expressões de exemplo:"
   ]
  },
  {
   "cell_type": "code",
   "execution_count": null,
   "metadata": {
    "id": "59CTVhXJi5qZ"
   },
   "outputs": [],
   "source": [
    "exemplos_texto = [\n",
    "    \"Eu gosto de correr.\",\n",
    "    \"Eu Gosto de corrida\",\n",
    "    \"Acho que estou começando a aprender a tratar textos\",\n",
    "    \"Esta aula da Tera é sobre NLP, não é?\",\n",
    "]"
   ]
  },
  {
   "cell_type": "markdown",
   "metadata": {
    "id": "SaGH4ZQJi5qa"
   },
   "source": [
    "Para separar palavras em textos usando a função `word_tokenize` do `NLTK`"
   ]
  },
  {
   "cell_type": "code",
   "execution_count": null,
   "metadata": {
    "id": "QKyX-riti5qa",
    "outputId": "8f7968ee-fcb5-4360-cb6a-6ccb36fccfd6"
   },
   "outputs": [
    {
     "name": "stdout",
     "output_type": "stream",
     "text": [
      "['Eu', 'gosto', 'de', 'correr', '.']\n",
      "['Eu', 'Gosto', 'de', 'corrida']\n",
      "['Acho', 'que', 'estou', 'começando', 'a', 'aprender', 'a', 'tratar', 'textos']\n",
      "['Esta', 'aula', 'da', 'Tera', 'é', 'sobre', 'NLP', ',', 'não', 'é', '?']\n"
     ]
    }
   ],
   "source": [
    "for frase in exemplos_texto:\n",
    "    print(word_tokenize(frase))"
   ]
  },
  {
   "cell_type": "markdown",
   "metadata": {
    "id": "CuYp5JW9i5qa"
   },
   "source": [
    "O que podemos ver desse processo de tokenização?"
   ]
  },
  {
   "cell_type": "markdown",
   "metadata": {
    "id": "7JkvdCl0i5qa"
   },
   "source": [
    "### 1.3 Transformando nosso Dataset em um `bag of words`"
   ]
  },
  {
   "cell_type": "markdown",
   "metadata": {
    "id": "8ahLujUni5qa"
   },
   "source": [
    "Como vimos com o `word_tokenize` do `NLTK`, podemos separar cada palavra de um texto como elementos de uma lista. Mas para realmente transformarmos estas palavras em `features`, precisamos transformá-las em números de alguma forma.\n",
    "\n",
    "É nesse tipo de cenário em que podemos usar uma abordagem de `Bag of Words` ou 'saco de palavras', em que a contagem de palavras em cada frase se torna uma coluna.\n",
    "\n",
    "<img src=\"https://ichi.pro/assets/images/max/724/1*hLvya7MXjsSc3NS2SoLMEg.png\" width=800>\n",
    "\n",
    "<center> Qual é uma possível desvantagem dessa abordagem?"
   ]
  },
  {
   "cell_type": "markdown",
   "metadata": {
    "id": "taFQ5WkSi5qa"
   },
   "source": [
    "Vamos então usar o `scikit-learn` para converter todos os textos do nosso exemplo em colunas com as contagens de palavras, usando a função `CountVectorizer`, que além de `tokenizar`as palavras (como o `word_tokenize` do NLTK) também faz para nós a `contagem de palavras em cada tweet`!\n",
    "\n",
    "Assim como quase todos os objetos do `scikit-learn`, seu funcionamento tem base nos métodos `fit` e `transform`, sendo que o `fit` entende o universo de palavras para transformar em colunas e o `transform` efetivamente faz a transformação"
   ]
  },
  {
   "cell_type": "code",
   "execution_count": null,
   "metadata": {
    "scrolled": true,
    "id": "UiwMavFki5qa",
    "outputId": "84cec798-dcb7-4bae-d74d-9585eea9adcd"
   },
   "outputs": [
    {
     "data": {
      "text/plain": [
       "<4x19 sparse matrix of type '<class 'numpy.int64'>'\n",
       "\twith 22 stored elements in Compressed Sparse Row format>"
      ]
     },
     "execution_count": 17,
     "metadata": {},
     "output_type": "execute_result"
    }
   ],
   "source": [
    "from sklearn.feature_extraction.text import CountVectorizer\n",
    "\n",
    "# Instanciando o objeto\n",
    "cvx = CountVectorizer(\n",
    "    strip_accents=\"unicode\",  # Tratamento de acentos\n",
    "    lowercase=True,  # Converte todos os caracteres em letras minúsculas\n",
    ")\n",
    "\n",
    "# Ajustando o Count Vectorizer aos dados\n",
    "cvx.fit(exemplos_texto)\n",
    "# Aplicando a transformação aos dados\n",
    "exemplos_tratados = cvx.transform(exemplos_texto)\n",
    "exemplos_tratados"
   ]
  },
  {
   "cell_type": "markdown",
   "metadata": {
    "id": "S_z_0vNhi5qb"
   },
   "source": [
    "O resultado é uma `matriz esparsa`, ou seja, com muitos zeros, tantos que vale mais a pena guardar na memória apenas os registros que não são zero. Para converter isso em um `DataFrame` que estamos mais acostumados, temos que usar o método `.todense()` do numpy:"
   ]
  },
  {
   "cell_type": "code",
   "execution_count": null,
   "metadata": {
    "id": "oH-2LsnUi5qb",
    "outputId": "d1d68e1a-446a-4454-a7a6-cbf2d45bf32f"
   },
   "outputs": [
    {
     "data": {
      "text/html": [
       "<div>\n",
       "<style scoped>\n",
       "    .dataframe tbody tr th:only-of-type {\n",
       "        vertical-align: middle;\n",
       "    }\n",
       "\n",
       "    .dataframe tbody tr th {\n",
       "        vertical-align: top;\n",
       "    }\n",
       "\n",
       "    .dataframe thead th {\n",
       "        text-align: right;\n",
       "    }\n",
       "</style>\n",
       "<table border=\"1\" class=\"dataframe\">\n",
       "  <thead>\n",
       "    <tr style=\"text-align: right;\">\n",
       "      <th></th>\n",
       "      <th>0</th>\n",
       "      <th>1</th>\n",
       "      <th>2</th>\n",
       "      <th>3</th>\n",
       "      <th>4</th>\n",
       "      <th>5</th>\n",
       "      <th>6</th>\n",
       "      <th>7</th>\n",
       "      <th>8</th>\n",
       "      <th>9</th>\n",
       "      <th>10</th>\n",
       "      <th>11</th>\n",
       "      <th>12</th>\n",
       "      <th>13</th>\n",
       "      <th>14</th>\n",
       "      <th>15</th>\n",
       "      <th>16</th>\n",
       "      <th>17</th>\n",
       "      <th>18</th>\n",
       "    </tr>\n",
       "  </thead>\n",
       "  <tbody>\n",
       "    <tr>\n",
       "      <th>0</th>\n",
       "      <td>0</td>\n",
       "      <td>0</td>\n",
       "      <td>0</td>\n",
       "      <td>0</td>\n",
       "      <td>1</td>\n",
       "      <td>0</td>\n",
       "      <td>0</td>\n",
       "      <td>1</td>\n",
       "      <td>0</td>\n",
       "      <td>0</td>\n",
       "      <td>1</td>\n",
       "      <td>1</td>\n",
       "      <td>0</td>\n",
       "      <td>0</td>\n",
       "      <td>0</td>\n",
       "      <td>0</td>\n",
       "      <td>0</td>\n",
       "      <td>0</td>\n",
       "      <td>0</td>\n",
       "    </tr>\n",
       "    <tr>\n",
       "      <th>1</th>\n",
       "      <td>0</td>\n",
       "      <td>0</td>\n",
       "      <td>0</td>\n",
       "      <td>0</td>\n",
       "      <td>0</td>\n",
       "      <td>1</td>\n",
       "      <td>0</td>\n",
       "      <td>1</td>\n",
       "      <td>0</td>\n",
       "      <td>0</td>\n",
       "      <td>1</td>\n",
       "      <td>1</td>\n",
       "      <td>0</td>\n",
       "      <td>0</td>\n",
       "      <td>0</td>\n",
       "      <td>0</td>\n",
       "      <td>0</td>\n",
       "      <td>0</td>\n",
       "      <td>0</td>\n",
       "    </tr>\n",
       "    <tr>\n",
       "      <th>2</th>\n",
       "      <td>1</td>\n",
       "      <td>1</td>\n",
       "      <td>0</td>\n",
       "      <td>1</td>\n",
       "      <td>0</td>\n",
       "      <td>0</td>\n",
       "      <td>0</td>\n",
       "      <td>0</td>\n",
       "      <td>0</td>\n",
       "      <td>1</td>\n",
       "      <td>0</td>\n",
       "      <td>0</td>\n",
       "      <td>0</td>\n",
       "      <td>0</td>\n",
       "      <td>1</td>\n",
       "      <td>0</td>\n",
       "      <td>0</td>\n",
       "      <td>1</td>\n",
       "      <td>1</td>\n",
       "    </tr>\n",
       "    <tr>\n",
       "      <th>3</th>\n",
       "      <td>0</td>\n",
       "      <td>0</td>\n",
       "      <td>1</td>\n",
       "      <td>0</td>\n",
       "      <td>0</td>\n",
       "      <td>0</td>\n",
       "      <td>1</td>\n",
       "      <td>0</td>\n",
       "      <td>1</td>\n",
       "      <td>0</td>\n",
       "      <td>0</td>\n",
       "      <td>0</td>\n",
       "      <td>1</td>\n",
       "      <td>1</td>\n",
       "      <td>0</td>\n",
       "      <td>1</td>\n",
       "      <td>1</td>\n",
       "      <td>0</td>\n",
       "      <td>0</td>\n",
       "    </tr>\n",
       "  </tbody>\n",
       "</table>\n",
       "</div>"
      ],
      "text/plain": [
       "   0   1   2   3   4   5   6   7   8   9   10  11  12  13  14  15  16  17  18\n",
       "0   0   0   0   0   1   0   0   1   0   0   1   1   0   0   0   0   0   0   0\n",
       "1   0   0   0   0   0   1   0   1   0   0   1   1   0   0   0   0   0   0   0\n",
       "2   1   1   0   1   0   0   0   0   0   1   0   0   0   0   1   0   0   1   1\n",
       "3   0   0   1   0   0   0   1   0   1   0   0   0   1   1   0   1   1   0   0"
      ]
     },
     "execution_count": 75,
     "metadata": {},
     "output_type": "execute_result"
    }
   ],
   "source": [
    "cvx.fit(exemplos_texto)\n",
    "exemplos_tratados = cvx.transform(exemplos_texto)\n",
    "exemplos_tratados = pd.DataFrame(exemplos_tratados.todense())\n",
    "exemplos_tratados"
   ]
  },
  {
   "cell_type": "markdown",
   "metadata": {
    "id": "TUWHVPhXi5qb"
   },
   "source": [
    "Como convertemos cada palavra distinta em uma coluna, o número de features será proporcional ao vocabulário do texto, que neste caso é de 18 palavras. O objeto `CountVectorizer` também guarda a informação do identificador de cada palavra no parâmetro `vocabulary_`:"
   ]
  },
  {
   "cell_type": "code",
   "execution_count": null,
   "metadata": {
    "id": "gz4Xy27vi5qb",
    "outputId": "e598d457-d368-4d32-a221-7fae2b864e9a"
   },
   "outputs": [
    {
     "data": {
      "text/html": [
       "<div>\n",
       "<style scoped>\n",
       "    .dataframe tbody tr th:only-of-type {\n",
       "        vertical-align: middle;\n",
       "    }\n",
       "\n",
       "    .dataframe tbody tr th {\n",
       "        vertical-align: top;\n",
       "    }\n",
       "\n",
       "    .dataframe thead th {\n",
       "        text-align: right;\n",
       "    }\n",
       "</style>\n",
       "<table border=\"1\" class=\"dataframe\">\n",
       "  <thead>\n",
       "    <tr style=\"text-align: right;\">\n",
       "      <th></th>\n",
       "      <th>acho</th>\n",
       "      <th>aprender</th>\n",
       "      <th>aula</th>\n",
       "      <th>comecando</th>\n",
       "      <th>correr</th>\n",
       "      <th>corrida</th>\n",
       "      <th>da</th>\n",
       "      <th>de</th>\n",
       "      <th>esta</th>\n",
       "      <th>estou</th>\n",
       "      <th>eu</th>\n",
       "      <th>gosto</th>\n",
       "      <th>nao</th>\n",
       "      <th>nlp</th>\n",
       "      <th>que</th>\n",
       "      <th>sobre</th>\n",
       "      <th>tera</th>\n",
       "      <th>textos</th>\n",
       "      <th>tratar</th>\n",
       "    </tr>\n",
       "  </thead>\n",
       "  <tbody>\n",
       "    <tr>\n",
       "      <th>0</th>\n",
       "      <td>0</td>\n",
       "      <td>0</td>\n",
       "      <td>0</td>\n",
       "      <td>0</td>\n",
       "      <td>1</td>\n",
       "      <td>0</td>\n",
       "      <td>0</td>\n",
       "      <td>1</td>\n",
       "      <td>0</td>\n",
       "      <td>0</td>\n",
       "      <td>1</td>\n",
       "      <td>1</td>\n",
       "      <td>0</td>\n",
       "      <td>0</td>\n",
       "      <td>0</td>\n",
       "      <td>0</td>\n",
       "      <td>0</td>\n",
       "      <td>0</td>\n",
       "      <td>0</td>\n",
       "    </tr>\n",
       "    <tr>\n",
       "      <th>1</th>\n",
       "      <td>0</td>\n",
       "      <td>0</td>\n",
       "      <td>0</td>\n",
       "      <td>0</td>\n",
       "      <td>0</td>\n",
       "      <td>1</td>\n",
       "      <td>0</td>\n",
       "      <td>1</td>\n",
       "      <td>0</td>\n",
       "      <td>0</td>\n",
       "      <td>1</td>\n",
       "      <td>1</td>\n",
       "      <td>0</td>\n",
       "      <td>0</td>\n",
       "      <td>0</td>\n",
       "      <td>0</td>\n",
       "      <td>0</td>\n",
       "      <td>0</td>\n",
       "      <td>0</td>\n",
       "    </tr>\n",
       "    <tr>\n",
       "      <th>2</th>\n",
       "      <td>1</td>\n",
       "      <td>1</td>\n",
       "      <td>0</td>\n",
       "      <td>1</td>\n",
       "      <td>0</td>\n",
       "      <td>0</td>\n",
       "      <td>0</td>\n",
       "      <td>0</td>\n",
       "      <td>0</td>\n",
       "      <td>1</td>\n",
       "      <td>0</td>\n",
       "      <td>0</td>\n",
       "      <td>0</td>\n",
       "      <td>0</td>\n",
       "      <td>1</td>\n",
       "      <td>0</td>\n",
       "      <td>0</td>\n",
       "      <td>1</td>\n",
       "      <td>1</td>\n",
       "    </tr>\n",
       "    <tr>\n",
       "      <th>3</th>\n",
       "      <td>0</td>\n",
       "      <td>0</td>\n",
       "      <td>1</td>\n",
       "      <td>0</td>\n",
       "      <td>0</td>\n",
       "      <td>0</td>\n",
       "      <td>1</td>\n",
       "      <td>0</td>\n",
       "      <td>1</td>\n",
       "      <td>0</td>\n",
       "      <td>0</td>\n",
       "      <td>0</td>\n",
       "      <td>1</td>\n",
       "      <td>1</td>\n",
       "      <td>0</td>\n",
       "      <td>1</td>\n",
       "      <td>1</td>\n",
       "      <td>0</td>\n",
       "      <td>0</td>\n",
       "    </tr>\n",
       "  </tbody>\n",
       "</table>\n",
       "</div>"
      ],
      "text/plain": [
       "   acho  aprender  aula  comecando  correr  corrida  da  de  esta  estou  eu  \\\n",
       "0     0         0     0          0       1        0   0   1     0      0   1   \n",
       "1     0         0     0          0       0        1   0   1     0      0   1   \n",
       "2     1         1     0          1       0        0   0   0     0      1   0   \n",
       "3     0         0     1          0       0        0   1   0     1      0   0   \n",
       "\n",
       "   gosto  nao  nlp  que  sobre  tera  textos  tratar  \n",
       "0      1    0    0    0      0     0       0       0  \n",
       "1      1    0    0    0      0     0       0       0  \n",
       "2      0    0    0    1      0     0       1       1  \n",
       "3      0    1    1    0      1     1       0       0  "
      ]
     },
     "execution_count": 19,
     "metadata": {},
     "output_type": "execute_result"
    }
   ],
   "source": [
    "mapa_vocabulario = {v: k for k, v in cvx.vocabulary_.items()}\n",
    "# Ajustando o nome das colunas\n",
    "exemplos_tratados.columns = exemplos_tratados.columns.map(mapa_vocabulario)\n",
    "exemplos_tratados"
   ]
  },
  {
   "cell_type": "markdown",
   "metadata": {
    "id": "MmFojvPoi5qb"
   },
   "source": [
    "O que funcionou bem nesse processo? E o que podemos melhorar?"
   ]
  },
  {
   "cell_type": "markdown",
   "metadata": {
    "id": "l_vFcRsZi5qb"
   },
   "source": [
    "Para os próximos passos, vamos transformar todo esse processo de `bag of words` em uma função fácil de ser chamada:"
   ]
  },
  {
   "cell_type": "code",
   "execution_count": null,
   "metadata": {
    "id": "oFZdog5ii5qb"
   },
   "outputs": [],
   "source": [
    "def faz_bagofwords(frases):\n",
    "    # Instancia o CountVectorizer\n",
    "    cv_aux = CountVectorizer(strip_accents=\"unicode\", lowercase=True)\n",
    "    # Ajusta o objeto às frases\n",
    "    cv_aux.fit(frases)\n",
    "    # Constrói um Dataframe transformado\n",
    "    tratados = cv_aux.transform(frases)\n",
    "    tratados = pd.DataFrame(tratados.todense())\n",
    "    tratados.columns = tratados.columns.map(\n",
    "        {v: k for k, v in cv_aux.vocabulary_.items()}\n",
    "    )\n",
    "    return tratados"
   ]
  },
  {
   "cell_type": "markdown",
   "metadata": {
    "id": "inWcvkKNi5qc"
   },
   "source": [
    "### 1.4 Removendo Stopwords"
   ]
  },
  {
   "cell_type": "markdown",
   "metadata": {
    "id": "pRNYC7zxi5qc"
   },
   "source": [
    "No nosso processo de `bag of words` da forma atual, estamos incluindo elementos não tão importantes assim para o sentido de um comentário, como:\n",
    "* Pontuações (virgula, ponto, interrogação)\n",
    "* Artigos (a)\n",
    "* Preposições e Apostos (esta, este)\n",
    "\n",
    "Será que temos alguma forma de retirar essas palavras das sentenças tokenizadas?"
   ]
  },
  {
   "cell_type": "markdown",
   "metadata": {
    "id": "0U6Wxwydi5qc"
   },
   "source": [
    "Estas palavras não tão importantes são chamadas de `stopwords`, e há uma série de bibliotecas no Python que podem tratá-las. O NLTK tem a sua própria relação de stopwords na língua portuguesa, e ela pode ser baixada "
   ]
  },
  {
   "cell_type": "code",
   "execution_count": null,
   "metadata": {
    "id": "CFS4KA8ui5qc"
   },
   "outputs": [],
   "source": [
    "# Descomente e rode a célula abaixo caso não tenha o NLTK!\n",
    "# nltk.download('stopwords')"
   ]
  },
  {
   "cell_type": "code",
   "execution_count": null,
   "metadata": {
    "scrolled": true,
    "id": "qkWUeASZi5qc",
    "outputId": "12d2df44-9000-4cd6-fac3-f934ec00504f"
   },
   "outputs": [
    {
     "data": {
      "text/plain": [
       "['de',\n",
       " 'a',\n",
       " 'o',\n",
       " 'que',\n",
       " 'e',\n",
       " 'é',\n",
       " 'do',\n",
       " 'da',\n",
       " 'em',\n",
       " 'um',\n",
       " 'para',\n",
       " 'com',\n",
       " 'não',\n",
       " 'uma',\n",
       " 'os']"
      ]
     },
     "execution_count": 22,
     "metadata": {},
     "output_type": "execute_result"
    }
   ],
   "source": [
    "# Verificando e salvando as stopwords\n",
    "stopwords_portugues = nltk.corpus.stopwords.words(\"portuguese\")\n",
    "stopwords_portugues[:15]"
   ]
  },
  {
   "cell_type": "markdown",
   "metadata": {
    "id": "sdAO-eMGi5qc"
   },
   "source": [
    "Com essa nova lista de palavras, podemos removê-las das expressões tokenizadas usando um `list comprehension`:"
   ]
  },
  {
   "cell_type": "code",
   "execution_count": null,
   "metadata": {
    "id": "8Uptdopki5qc",
    "outputId": "f630cc3a-a8fd-4cc6-deb1-bc4257a59a60"
   },
   "outputs": [
    {
     "name": "stdout",
     "output_type": "stream",
     "text": [
      "['Eu', 'gosto', 'correr', '.']\n",
      "['Eu', 'Gosto', 'corrida']\n",
      "['Acho', 'começando', 'aprender', 'tratar', 'textos']\n",
      "['Esta', 'aula', 'Tera', 'sobre', 'NLP', ',', '?']\n"
     ]
    }
   ],
   "source": [
    "for frase in exemplos_texto:\n",
    "    print(\n",
    "        [\n",
    "            palavra\n",
    "            for palavra in word_tokenize(frase)\n",
    "            if palavra not in stopwords_portugues\n",
    "        ]\n",
    "    )"
   ]
  },
  {
   "cell_type": "markdown",
   "metadata": {
    "id": "WndrwrRKi5qd"
   },
   "source": [
    "Ainda não retiramos as ponuações do texto, mas podemos fazer isso usando um processo similar ao de stopwords, mas agora também considerando os sinais de pontuação"
   ]
  },
  {
   "cell_type": "code",
   "execution_count": null,
   "metadata": {
    "id": "tZPCqKgqi5qd"
   },
   "outputs": [],
   "source": [
    "lista_pontuacoes = [\".\", \",\", \"!\", \"?\", \":\", \";\"]\n",
    "# Unindo com o que já tinhamos mapeado de stopwords\n",
    "stopwords_mais_pontuacao = stopwords_portugues + lista_pontuacoes"
   ]
  },
  {
   "cell_type": "code",
   "execution_count": null,
   "metadata": {
    "scrolled": true,
    "id": "I-LvvCTNi5qd",
    "outputId": "05414753-9cc2-4b98-b245-05231cec5208"
   },
   "outputs": [
    {
     "name": "stdout",
     "output_type": "stream",
     "text": [
      "['Eu', 'gosto', 'correr']\n",
      "['Eu', 'Gosto', 'corrida']\n",
      "['Acho', 'começando', 'aprender', 'tratar', 'textos']\n",
      "['Esta', 'aula', 'Tera', 'sobre', 'NLP']\n"
     ]
    }
   ],
   "source": [
    "for frase in exemplos_texto:\n",
    "    print(\n",
    "        [\n",
    "            palavra\n",
    "            for palavra in word_tokenize(frase)\n",
    "            if palavra not in stopwords_mais_pontuacao\n",
    "        ]\n",
    "    )"
   ]
  },
  {
   "cell_type": "markdown",
   "metadata": {
    "id": "HOGzFaRpi5qd"
   },
   "source": [
    "Vamos agora aplicar novamente o `Bag of Words` na nossa nova lista de frases. Para isso, temos que unir as tokens em uma frase novamente, o que pode ser feito usando o método `.join()` de uma string"
   ]
  },
  {
   "cell_type": "code",
   "execution_count": null,
   "metadata": {
    "id": "xIWuiQx9i5qd",
    "outputId": "0ddc01d9-4989-44f9-8df5-cfe5889ae522"
   },
   "outputs": [
    {
     "data": {
      "text/plain": [
       "'eu quero unir essas palavras'"
      ]
     },
     "execution_count": 26,
     "metadata": {},
     "output_type": "execute_result"
    }
   ],
   "source": [
    "lista_exemplo = [\"eu\", \"quero\", \"unir\", \"essas\", \"palavras\"]\n",
    "# Exemplo do uso do 'join'\n",
    "\" \".join(lista_exemplo)"
   ]
  },
  {
   "cell_type": "code",
   "execution_count": null,
   "metadata": {
    "id": "XeAJG3fDi5qd"
   },
   "outputs": [],
   "source": [
    "# Construindo a lista de frases novamente, apenas de palavras que não são stopwords\n",
    "exemplos_stopwords = []\n",
    "for frase in exemplos_texto:\n",
    "    exemplos_stopwords.append(\n",
    "        \" \".join(\n",
    "            [\n",
    "                palavra\n",
    "                for palavra in word_tokenize(frase)\n",
    "                if palavra not in stopwords_mais_pontuacao\n",
    "            ]\n",
    "        )\n",
    "    )"
   ]
  },
  {
   "cell_type": "code",
   "execution_count": null,
   "metadata": {
    "id": "14GZcaJ_i5qd",
    "outputId": "df7ba9ea-aee6-44a7-9c58-ef92c2ec0bab"
   },
   "outputs": [
    {
     "data": {
      "text/html": [
       "<div>\n",
       "<style scoped>\n",
       "    .dataframe tbody tr th:only-of-type {\n",
       "        vertical-align: middle;\n",
       "    }\n",
       "\n",
       "    .dataframe tbody tr th {\n",
       "        vertical-align: top;\n",
       "    }\n",
       "\n",
       "    .dataframe thead th {\n",
       "        text-align: right;\n",
       "    }\n",
       "</style>\n",
       "<table border=\"1\" class=\"dataframe\">\n",
       "  <thead>\n",
       "    <tr style=\"text-align: right;\">\n",
       "      <th></th>\n",
       "      <th>acho</th>\n",
       "      <th>aprender</th>\n",
       "      <th>aula</th>\n",
       "      <th>comecando</th>\n",
       "      <th>correr</th>\n",
       "      <th>corrida</th>\n",
       "      <th>esta</th>\n",
       "      <th>eu</th>\n",
       "      <th>gosto</th>\n",
       "      <th>nlp</th>\n",
       "      <th>sobre</th>\n",
       "      <th>tera</th>\n",
       "      <th>textos</th>\n",
       "      <th>tratar</th>\n",
       "    </tr>\n",
       "  </thead>\n",
       "  <tbody>\n",
       "    <tr>\n",
       "      <th>0</th>\n",
       "      <td>0</td>\n",
       "      <td>0</td>\n",
       "      <td>0</td>\n",
       "      <td>0</td>\n",
       "      <td>1</td>\n",
       "      <td>0</td>\n",
       "      <td>0</td>\n",
       "      <td>1</td>\n",
       "      <td>1</td>\n",
       "      <td>0</td>\n",
       "      <td>0</td>\n",
       "      <td>0</td>\n",
       "      <td>0</td>\n",
       "      <td>0</td>\n",
       "    </tr>\n",
       "    <tr>\n",
       "      <th>1</th>\n",
       "      <td>0</td>\n",
       "      <td>0</td>\n",
       "      <td>0</td>\n",
       "      <td>0</td>\n",
       "      <td>0</td>\n",
       "      <td>1</td>\n",
       "      <td>0</td>\n",
       "      <td>1</td>\n",
       "      <td>1</td>\n",
       "      <td>0</td>\n",
       "      <td>0</td>\n",
       "      <td>0</td>\n",
       "      <td>0</td>\n",
       "      <td>0</td>\n",
       "    </tr>\n",
       "    <tr>\n",
       "      <th>2</th>\n",
       "      <td>1</td>\n",
       "      <td>1</td>\n",
       "      <td>0</td>\n",
       "      <td>1</td>\n",
       "      <td>0</td>\n",
       "      <td>0</td>\n",
       "      <td>0</td>\n",
       "      <td>0</td>\n",
       "      <td>0</td>\n",
       "      <td>0</td>\n",
       "      <td>0</td>\n",
       "      <td>0</td>\n",
       "      <td>1</td>\n",
       "      <td>1</td>\n",
       "    </tr>\n",
       "    <tr>\n",
       "      <th>3</th>\n",
       "      <td>0</td>\n",
       "      <td>0</td>\n",
       "      <td>1</td>\n",
       "      <td>0</td>\n",
       "      <td>0</td>\n",
       "      <td>0</td>\n",
       "      <td>1</td>\n",
       "      <td>0</td>\n",
       "      <td>0</td>\n",
       "      <td>1</td>\n",
       "      <td>1</td>\n",
       "      <td>1</td>\n",
       "      <td>0</td>\n",
       "      <td>0</td>\n",
       "    </tr>\n",
       "  </tbody>\n",
       "</table>\n",
       "</div>"
      ],
      "text/plain": [
       "   acho  aprender  aula  comecando  correr  corrida  esta  eu  gosto  nlp  \\\n",
       "0     0         0     0          0       1        0     0   1      1    0   \n",
       "1     0         0     0          0       0        1     0   1      1    0   \n",
       "2     1         1     0          1       0        0     0   0      0    0   \n",
       "3     0         0     1          0       0        0     1   0      0    1   \n",
       "\n",
       "   sobre  tera  textos  tratar  \n",
       "0      0     0       0       0  \n",
       "1      0     0       0       0  \n",
       "2      0     0       1       1  \n",
       "3      1     1       0       0  "
      ]
     },
     "execution_count": 28,
     "metadata": {},
     "output_type": "execute_result"
    }
   ],
   "source": [
    "faz_bagofwords(exemplos_stopwords)"
   ]
  },
  {
   "cell_type": "markdown",
   "metadata": {
    "id": "Xu4qurJMi5qd"
   },
   "source": [
    "O que mudou? E o que persistiu?"
   ]
  },
  {
   "cell_type": "markdown",
   "metadata": {
    "id": "sE5BVL5Fi5qe"
   },
   "source": [
    "No processo de remoção de `stopwords`, acabamos removendo palavras que podem ser úteis na identificação de sentimento, principalmente palavras que indicam negação ou descontentamento, como `não` e `mas`. Para evitar remover essas palavras, podemos incluir uma lista de exclusão, com palavras que não queremos que sejam removidas:"
   ]
  },
  {
   "cell_type": "code",
   "execution_count": null,
   "metadata": {
    "scrolled": false,
    "id": "ziLKr7s_i5qe"
   },
   "outputs": [],
   "source": [
    "# Criando uma lista de exceção de palavras para serem consideradas como stopwords\n",
    "lista_excecao = [\"não\", \"mas\", \"entretanto\", \"porém\"]\n",
    "# Atualizando nossa lista de stopwords\n",
    "stopwords_final = [\n",
    "    palavra for palavra in stopwords_mais_pontuacao if palavra not in lista_excecao\n",
    "]"
   ]
  },
  {
   "cell_type": "code",
   "execution_count": null,
   "metadata": {
    "id": "g0zcJaOPi5qe",
    "outputId": "e0b5a46d-c28e-40c5-9298-7d84ce2ad92d"
   },
   "outputs": [
    {
     "data": {
      "text/html": [
       "<div>\n",
       "<style scoped>\n",
       "    .dataframe tbody tr th:only-of-type {\n",
       "        vertical-align: middle;\n",
       "    }\n",
       "\n",
       "    .dataframe tbody tr th {\n",
       "        vertical-align: top;\n",
       "    }\n",
       "\n",
       "    .dataframe thead th {\n",
       "        text-align: right;\n",
       "    }\n",
       "</style>\n",
       "<table border=\"1\" class=\"dataframe\">\n",
       "  <thead>\n",
       "    <tr style=\"text-align: right;\">\n",
       "      <th></th>\n",
       "      <th>acho</th>\n",
       "      <th>aprender</th>\n",
       "      <th>aula</th>\n",
       "      <th>comecando</th>\n",
       "      <th>correr</th>\n",
       "      <th>corrida</th>\n",
       "      <th>esta</th>\n",
       "      <th>eu</th>\n",
       "      <th>gosto</th>\n",
       "      <th>nao</th>\n",
       "      <th>nlp</th>\n",
       "      <th>sobre</th>\n",
       "      <th>tera</th>\n",
       "      <th>textos</th>\n",
       "      <th>tratar</th>\n",
       "    </tr>\n",
       "  </thead>\n",
       "  <tbody>\n",
       "    <tr>\n",
       "      <th>0</th>\n",
       "      <td>0</td>\n",
       "      <td>0</td>\n",
       "      <td>0</td>\n",
       "      <td>0</td>\n",
       "      <td>1</td>\n",
       "      <td>0</td>\n",
       "      <td>0</td>\n",
       "      <td>1</td>\n",
       "      <td>1</td>\n",
       "      <td>0</td>\n",
       "      <td>0</td>\n",
       "      <td>0</td>\n",
       "      <td>0</td>\n",
       "      <td>0</td>\n",
       "      <td>0</td>\n",
       "    </tr>\n",
       "    <tr>\n",
       "      <th>1</th>\n",
       "      <td>0</td>\n",
       "      <td>0</td>\n",
       "      <td>0</td>\n",
       "      <td>0</td>\n",
       "      <td>0</td>\n",
       "      <td>1</td>\n",
       "      <td>0</td>\n",
       "      <td>1</td>\n",
       "      <td>1</td>\n",
       "      <td>0</td>\n",
       "      <td>0</td>\n",
       "      <td>0</td>\n",
       "      <td>0</td>\n",
       "      <td>0</td>\n",
       "      <td>0</td>\n",
       "    </tr>\n",
       "    <tr>\n",
       "      <th>2</th>\n",
       "      <td>1</td>\n",
       "      <td>1</td>\n",
       "      <td>0</td>\n",
       "      <td>1</td>\n",
       "      <td>0</td>\n",
       "      <td>0</td>\n",
       "      <td>0</td>\n",
       "      <td>0</td>\n",
       "      <td>0</td>\n",
       "      <td>0</td>\n",
       "      <td>0</td>\n",
       "      <td>0</td>\n",
       "      <td>0</td>\n",
       "      <td>1</td>\n",
       "      <td>1</td>\n",
       "    </tr>\n",
       "    <tr>\n",
       "      <th>3</th>\n",
       "      <td>0</td>\n",
       "      <td>0</td>\n",
       "      <td>1</td>\n",
       "      <td>0</td>\n",
       "      <td>0</td>\n",
       "      <td>0</td>\n",
       "      <td>1</td>\n",
       "      <td>0</td>\n",
       "      <td>0</td>\n",
       "      <td>1</td>\n",
       "      <td>1</td>\n",
       "      <td>1</td>\n",
       "      <td>1</td>\n",
       "      <td>0</td>\n",
       "      <td>0</td>\n",
       "    </tr>\n",
       "  </tbody>\n",
       "</table>\n",
       "</div>"
      ],
      "text/plain": [
       "   acho  aprender  aula  comecando  correr  corrida  esta  eu  gosto  nao  \\\n",
       "0     0         0     0          0       1        0     0   1      1    0   \n",
       "1     0         0     0          0       0        1     0   1      1    0   \n",
       "2     1         1     0          1       0        0     0   0      0    0   \n",
       "3     0         0     1          0       0        0     1   0      0    1   \n",
       "\n",
       "   nlp  sobre  tera  textos  tratar  \n",
       "0    0      0     0       0       0  \n",
       "1    0      0     0       0       0  \n",
       "2    0      0     0       1       1  \n",
       "3    1      1     1       0       0  "
      ]
     },
     "execution_count": 30,
     "metadata": {},
     "output_type": "execute_result"
    }
   ],
   "source": [
    "exemplos_stopwords_excecoes = []\n",
    "for frase in exemplos_texto:\n",
    "    exemplos_stopwords_excecoes.append(\n",
    "        \" \".join(\n",
    "            [\n",
    "                palavra\n",
    "                for palavra in word_tokenize(frase)\n",
    "                if palavra not in stopwords_final\n",
    "            ]\n",
    "        )\n",
    "    )\n",
    "\n",
    "# Aplica novamente nossa função de bag of words\n",
    "faz_bagofwords(exemplos_stopwords_excecoes)"
   ]
  },
  {
   "cell_type": "markdown",
   "metadata": {
    "id": "40ZXZb__i5qe"
   },
   "source": [
    "Agora a palavra `não` foi mantida na última frase!"
   ]
  },
  {
   "cell_type": "markdown",
   "metadata": {
    "id": "qxaPfPb9i5qe"
   },
   "source": [
    "### 1.5 Capturando a essência das palavras com `stemming`"
   ]
  },
  {
   "cell_type": "markdown",
   "metadata": {
    "id": "NVB16vf2i5qe"
   },
   "source": [
    "As palavras `correr` e `corrida` derivam da mesma matriz de palavra, e por conta disso as duas primeiras frases não são realmente diferentes do ponto de vista de `significado`. Sendo assim, como podemos tratar estas palavras apenas pela sua origem  (derivação ou `stem`):\n",
    "\n",
    "<img src=\"https://user.oc-static.com/upload/2020/10/22/16033551309054_stemming%20example.png\" width=800>"
   ]
  },
  {
   "cell_type": "markdown",
   "metadata": {
    "id": "TeDbMjsui5qe"
   },
   "source": [
    "Podemos tratar os prefixos e sufixos em português usando outra função do NLTK, o `RSLPStemmer`:"
   ]
  },
  {
   "cell_type": "code",
   "execution_count": null,
   "metadata": {
    "id": "K-jhbO2Oi5qe"
   },
   "outputs": [],
   "source": [
    "# Caso não tenha instalado, descomentar a linha abaixo e rodar!\n",
    "# nltk.download('rslp')\n",
    "# Importando o módulo\n",
    "from nltk import RSLPStemmer\n",
    "\n",
    "# Instanciando o objeto\n",
    "stemmer = RSLPStemmer()"
   ]
  },
  {
   "cell_type": "markdown",
   "metadata": {
    "id": "nRBDH9p0i5qf"
   },
   "source": [
    "Para usar o Stemmer, basta usar o método `.stem()` no token de interesse"
   ]
  },
  {
   "cell_type": "code",
   "execution_count": null,
   "metadata": {
    "id": "tRezYHuci5qf",
    "outputId": "eb37882d-65c3-4cd0-8ad4-0287b7e3889c"
   },
   "outputs": [
    {
     "name": "stdout",
     "output_type": "stream",
     "text": [
      "['eu', 'gost', 'corr']\n",
      "['eu', 'gost', 'corr']\n",
      "['ach', 'começ', 'aprend', 'trat', 'text']\n",
      "['est', 'aul', 'ter', 'sobr', 'nlp', 'não']\n"
     ]
    }
   ],
   "source": [
    "# Aplicando sobre o texto\n",
    "for frase in exemplos_texto:\n",
    "    print(\n",
    "        [\n",
    "            stemmer.stem(palavra)\n",
    "            for palavra in word_tokenize(frase)\n",
    "            if palavra not in stopwords_final\n",
    "        ]\n",
    "    )"
   ]
  },
  {
   "cell_type": "markdown",
   "metadata": {
    "id": "aHAoo98ji5qf"
   },
   "source": [
    "Agora as primeiras duas expressões são verdadeiras! Mas nem sempre o stemming pode ser justo com algumas palavras, como com `Tera` que foi reduzida a `ter`, por ser sinônimo de `terá` sem o acento."
   ]
  },
  {
   "cell_type": "markdown",
   "metadata": {
    "id": "XrMQHAvVi5qf"
   },
   "source": [
    "Vamos ver como fica o `bag of words` nesse novo exemplo:"
   ]
  },
  {
   "cell_type": "code",
   "execution_count": null,
   "metadata": {
    "id": "j5Mi5apRi5qf",
    "outputId": "06904672-a651-4219-d509-fda460b3aebe"
   },
   "outputs": [
    {
     "data": {
      "text/html": [
       "<div>\n",
       "<style scoped>\n",
       "    .dataframe tbody tr th:only-of-type {\n",
       "        vertical-align: middle;\n",
       "    }\n",
       "\n",
       "    .dataframe tbody tr th {\n",
       "        vertical-align: top;\n",
       "    }\n",
       "\n",
       "    .dataframe thead th {\n",
       "        text-align: right;\n",
       "    }\n",
       "</style>\n",
       "<table border=\"1\" class=\"dataframe\">\n",
       "  <thead>\n",
       "    <tr style=\"text-align: right;\">\n",
       "      <th></th>\n",
       "      <th>ach</th>\n",
       "      <th>aprend</th>\n",
       "      <th>aul</th>\n",
       "      <th>comec</th>\n",
       "      <th>corr</th>\n",
       "      <th>est</th>\n",
       "      <th>eu</th>\n",
       "      <th>gost</th>\n",
       "      <th>nao</th>\n",
       "      <th>nlp</th>\n",
       "      <th>sobr</th>\n",
       "      <th>ter</th>\n",
       "      <th>text</th>\n",
       "      <th>trat</th>\n",
       "    </tr>\n",
       "  </thead>\n",
       "  <tbody>\n",
       "    <tr>\n",
       "      <th>0</th>\n",
       "      <td>0</td>\n",
       "      <td>0</td>\n",
       "      <td>0</td>\n",
       "      <td>0</td>\n",
       "      <td>1</td>\n",
       "      <td>0</td>\n",
       "      <td>1</td>\n",
       "      <td>1</td>\n",
       "      <td>0</td>\n",
       "      <td>0</td>\n",
       "      <td>0</td>\n",
       "      <td>0</td>\n",
       "      <td>0</td>\n",
       "      <td>0</td>\n",
       "    </tr>\n",
       "    <tr>\n",
       "      <th>1</th>\n",
       "      <td>0</td>\n",
       "      <td>0</td>\n",
       "      <td>0</td>\n",
       "      <td>0</td>\n",
       "      <td>1</td>\n",
       "      <td>0</td>\n",
       "      <td>1</td>\n",
       "      <td>1</td>\n",
       "      <td>0</td>\n",
       "      <td>0</td>\n",
       "      <td>0</td>\n",
       "      <td>0</td>\n",
       "      <td>0</td>\n",
       "      <td>0</td>\n",
       "    </tr>\n",
       "    <tr>\n",
       "      <th>2</th>\n",
       "      <td>1</td>\n",
       "      <td>1</td>\n",
       "      <td>0</td>\n",
       "      <td>1</td>\n",
       "      <td>0</td>\n",
       "      <td>0</td>\n",
       "      <td>0</td>\n",
       "      <td>0</td>\n",
       "      <td>0</td>\n",
       "      <td>0</td>\n",
       "      <td>0</td>\n",
       "      <td>0</td>\n",
       "      <td>1</td>\n",
       "      <td>1</td>\n",
       "    </tr>\n",
       "    <tr>\n",
       "      <th>3</th>\n",
       "      <td>0</td>\n",
       "      <td>0</td>\n",
       "      <td>1</td>\n",
       "      <td>0</td>\n",
       "      <td>0</td>\n",
       "      <td>1</td>\n",
       "      <td>0</td>\n",
       "      <td>0</td>\n",
       "      <td>1</td>\n",
       "      <td>1</td>\n",
       "      <td>1</td>\n",
       "      <td>1</td>\n",
       "      <td>0</td>\n",
       "      <td>0</td>\n",
       "    </tr>\n",
       "  </tbody>\n",
       "</table>\n",
       "</div>"
      ],
      "text/plain": [
       "   ach  aprend  aul  comec  corr  est  eu  gost  nao  nlp  sobr  ter  text  \\\n",
       "0    0       0    0      0     1    0   1     1    0    0     0    0     0   \n",
       "1    0       0    0      0     1    0   1     1    0    0     0    0     0   \n",
       "2    1       1    0      1     0    0   0     0    0    0     0    0     1   \n",
       "3    0       0    1      0     0    1   0     0    1    1     1    1     0   \n",
       "\n",
       "   trat  \n",
       "0     0  \n",
       "1     0  \n",
       "2     1  \n",
       "3     0  "
      ]
     },
     "execution_count": 33,
     "metadata": {},
     "output_type": "execute_result"
    }
   ],
   "source": [
    "exemplos_stem = []\n",
    "for frase in exemplos_texto:\n",
    "    exemplos_stem.append(\n",
    "        \" \".join(\n",
    "            [\n",
    "                stemmer.stem(palavra)\n",
    "                for palavra in word_tokenize(frase)\n",
    "                if palavra not in stopwords_final\n",
    "            ]\n",
    "        )\n",
    "    )\n",
    "\n",
    "# Aplicando nossa função de Bag of Words\n",
    "faz_bagofwords(exemplos_stem)"
   ]
  },
  {
   "cell_type": "markdown",
   "metadata": {
    "id": "WiHiNpABi5qf"
   },
   "source": [
    "Quais mudanças aconteceram nesse caso?"
   ]
  },
  {
   "cell_type": "markdown",
   "metadata": {
    "id": "pb1OAMPUi5qf"
   },
   "source": [
    "### 1.6 Aplicando o Dataprep no nosso Dataset"
   ]
  },
  {
   "cell_type": "markdown",
   "metadata": {
    "id": "BysxXx4Vi5qf"
   },
   "source": [
    "Podemos fazer algumas análises simples e entender quais são os termos mais citados das avaliações positivas e negativas, até mesmo para validar nosso método de tratamento de textos.\n",
    "\n",
    "Primeiramente vamos aplicar todas as transformações que comentamos no dataset original, `exceto Stemming`, para facilitar a interpretação dos termos, criando uma função que faça todos os processos de uma vez"
   ]
  },
  {
   "cell_type": "code",
   "execution_count": null,
   "metadata": {
    "scrolled": false,
    "id": "6VxQQ_xXi5qf"
   },
   "outputs": [],
   "source": [
    "def dataprep_texto(texto, excecoes_stopwords=[\"não\", \"mas\", \"porém\", \"entretanto\"]):\n",
    "    # Define a lista de stopwords\n",
    "    stopwords = set(\n",
    "        nltk.corpus.stopwords.words(\"portuguese\") + [\".\", \",\", \"!\", \"?\", \":\", \";\"]\n",
    "    ) - set(excecoes_stopwords)\n",
    "    # Realiza a tokenização e a stemmização da frase\n",
    "    return \" \".join(\n",
    "        [palavra for palavra in word_tokenize(texto) if palavra not in stopwords]\n",
    "    )"
   ]
  },
  {
   "cell_type": "code",
   "execution_count": null,
   "metadata": {
    "scrolled": true,
    "id": "RgHo5F1si5qg",
    "outputId": "670b7071-fac2-41d6-af08-3c5742df9707"
   },
   "outputs": [
    {
     "data": {
      "text/html": [
       "<div>\n",
       "<style scoped>\n",
       "    .dataframe tbody tr th:only-of-type {\n",
       "        vertical-align: middle;\n",
       "    }\n",
       "\n",
       "    .dataframe tbody tr th {\n",
       "        vertical-align: top;\n",
       "    }\n",
       "\n",
       "    .dataframe thead th {\n",
       "        text-align: right;\n",
       "    }\n",
       "</style>\n",
       "<table border=\"1\" class=\"dataframe\">\n",
       "  <thead>\n",
       "    <tr style=\"text-align: right;\">\n",
       "      <th></th>\n",
       "      <th>00</th>\n",
       "      <th>000</th>\n",
       "      <th>00155a7d</th>\n",
       "      <th>00am</th>\n",
       "      <th>00pm</th>\n",
       "      <th>01</th>\n",
       "      <th>01h</th>\n",
       "      <th>03</th>\n",
       "      <th>032f6ace6b16</th>\n",
       "      <th>040</th>\n",
       "      <th>...</th>\n",
       "      <th>zona</th>\n",
       "      <th>zoo</th>\n",
       "      <th>zootopia</th>\n",
       "      <th>zuado</th>\n",
       "      <th>zuando</th>\n",
       "      <th>zuckerberg</th>\n",
       "      <th>zuou</th>\n",
       "      <th>ᅠᅠᅠᅠᅠᅠ</th>\n",
       "      <th>ゝeu</th>\n",
       "      <th>sentimento_tweet</th>\n",
       "    </tr>\n",
       "  </thead>\n",
       "  <tbody>\n",
       "    <tr>\n",
       "      <th>0</th>\n",
       "      <td>0</td>\n",
       "      <td>0</td>\n",
       "      <td>0</td>\n",
       "      <td>0</td>\n",
       "      <td>0</td>\n",
       "      <td>0</td>\n",
       "      <td>0</td>\n",
       "      <td>0</td>\n",
       "      <td>0</td>\n",
       "      <td>0</td>\n",
       "      <td>...</td>\n",
       "      <td>0</td>\n",
       "      <td>0</td>\n",
       "      <td>0</td>\n",
       "      <td>0</td>\n",
       "      <td>0</td>\n",
       "      <td>0</td>\n",
       "      <td>0</td>\n",
       "      <td>0</td>\n",
       "      <td>0</td>\n",
       "      <td>Negativo</td>\n",
       "    </tr>\n",
       "    <tr>\n",
       "      <th>1</th>\n",
       "      <td>0</td>\n",
       "      <td>0</td>\n",
       "      <td>0</td>\n",
       "      <td>0</td>\n",
       "      <td>0</td>\n",
       "      <td>0</td>\n",
       "      <td>0</td>\n",
       "      <td>0</td>\n",
       "      <td>0</td>\n",
       "      <td>0</td>\n",
       "      <td>...</td>\n",
       "      <td>0</td>\n",
       "      <td>0</td>\n",
       "      <td>0</td>\n",
       "      <td>0</td>\n",
       "      <td>0</td>\n",
       "      <td>0</td>\n",
       "      <td>0</td>\n",
       "      <td>0</td>\n",
       "      <td>0</td>\n",
       "      <td>Negativo</td>\n",
       "    </tr>\n",
       "    <tr>\n",
       "      <th>2</th>\n",
       "      <td>0</td>\n",
       "      <td>0</td>\n",
       "      <td>0</td>\n",
       "      <td>0</td>\n",
       "      <td>0</td>\n",
       "      <td>0</td>\n",
       "      <td>0</td>\n",
       "      <td>0</td>\n",
       "      <td>0</td>\n",
       "      <td>0</td>\n",
       "      <td>...</td>\n",
       "      <td>0</td>\n",
       "      <td>0</td>\n",
       "      <td>0</td>\n",
       "      <td>0</td>\n",
       "      <td>0</td>\n",
       "      <td>0</td>\n",
       "      <td>0</td>\n",
       "      <td>0</td>\n",
       "      <td>0</td>\n",
       "      <td>Positivo</td>\n",
       "    </tr>\n",
       "    <tr>\n",
       "      <th>3</th>\n",
       "      <td>0</td>\n",
       "      <td>0</td>\n",
       "      <td>0</td>\n",
       "      <td>0</td>\n",
       "      <td>0</td>\n",
       "      <td>0</td>\n",
       "      <td>0</td>\n",
       "      <td>0</td>\n",
       "      <td>0</td>\n",
       "      <td>0</td>\n",
       "      <td>...</td>\n",
       "      <td>0</td>\n",
       "      <td>0</td>\n",
       "      <td>0</td>\n",
       "      <td>0</td>\n",
       "      <td>0</td>\n",
       "      <td>0</td>\n",
       "      <td>0</td>\n",
       "      <td>0</td>\n",
       "      <td>0</td>\n",
       "      <td>Negativo</td>\n",
       "    </tr>\n",
       "    <tr>\n",
       "      <th>4</th>\n",
       "      <td>0</td>\n",
       "      <td>0</td>\n",
       "      <td>0</td>\n",
       "      <td>0</td>\n",
       "      <td>0</td>\n",
       "      <td>0</td>\n",
       "      <td>0</td>\n",
       "      <td>0</td>\n",
       "      <td>0</td>\n",
       "      <td>0</td>\n",
       "      <td>...</td>\n",
       "      <td>0</td>\n",
       "      <td>0</td>\n",
       "      <td>0</td>\n",
       "      <td>0</td>\n",
       "      <td>0</td>\n",
       "      <td>0</td>\n",
       "      <td>0</td>\n",
       "      <td>0</td>\n",
       "      <td>0</td>\n",
       "      <td>Negativo</td>\n",
       "    </tr>\n",
       "  </tbody>\n",
       "</table>\n",
       "<p>5 rows × 11933 columns</p>\n",
       "</div>"
      ],
      "text/plain": [
       "   00  000  00155a7d  00am  00pm  01  01h  03  032f6ace6b16  040  ...  zona  \\\n",
       "0   0    0         0     0     0   0    0   0             0    0  ...     0   \n",
       "1   0    0         0     0     0   0    0   0             0    0  ...     0   \n",
       "2   0    0         0     0     0   0    0   0             0    0  ...     0   \n",
       "3   0    0         0     0     0   0    0   0             0    0  ...     0   \n",
       "4   0    0         0     0     0   0    0   0             0    0  ...     0   \n",
       "\n",
       "   zoo  zootopia  zuado  zuando  zuckerberg  zuou  ᅠᅠᅠᅠᅠᅠ  ゝeu  \\\n",
       "0    0         0      0       0           0     0       0    0   \n",
       "1    0         0      0       0           0     0       0    0   \n",
       "2    0         0      0       0           0     0       0    0   \n",
       "3    0         0      0       0           0     0       0    0   \n",
       "4    0         0      0       0           0     0       0    0   \n",
       "\n",
       "   sentimento_tweet  \n",
       "0          Negativo  \n",
       "1          Negativo  \n",
       "2          Positivo  \n",
       "3          Negativo  \n",
       "4          Negativo  \n",
       "\n",
       "[5 rows x 11933 columns]"
      ]
     },
     "execution_count": 35,
     "metadata": {},
     "output_type": "execute_result"
    }
   ],
   "source": [
    "# Usando a função 'apply' para aplicar nossa função de DataPrep à coluna 'avaliacao'\n",
    "dados[\"texto_final\"] = dados.txt_sem_regex.apply(dataprep_texto)\n",
    "dados.head()\n",
    "\n",
    "# Renomeando colunas (menos a última, que é a target) para facilitar a análise\n",
    "df_frases = faz_bagofwords(dados.texto_final)\n",
    "# Incluindo a coluna de sentimento\n",
    "df_frases[\"sentimento_tweet\"] = dados.sentiment\n",
    "df_frases.head()"
   ]
  },
  {
   "cell_type": "markdown",
   "metadata": {
    "id": "qajJxnuxi5qg"
   },
   "source": [
    "Vamos verificar os 10 termos mais citados em avaliações positivas e negativas"
   ]
  },
  {
   "cell_type": "code",
   "execution_count": null,
   "metadata": {
    "id": "qqsZE481i5qg",
    "outputId": "bce8ca89-0dfa-4693-d3bc-a74f8885ea9e"
   },
   "outputs": [
    {
     "data": {
      "image/png": "[encoded data removed]",
      "text/plain": [
       "<Figure size 1080x288 with 2 Axes>"
      ]
     },
     "metadata": {
      "needs_background": "light"
     },
     "output_type": "display_data"
    }
   ],
   "source": [
    "fig, ax = plt.subplots(1, 2, figsize=(15, 4))\n",
    "cols_palavras = df_frases.columns[:-1]\n",
    "df_frases[df_frases.sentimento_tweet == \"Negativo\"][cols_palavras].sum().sort_values(\n",
    "    ascending=False\n",
    ")[:10].plot(kind=\"barh\", ax=ax[0])\n",
    "df_frases[df_frases.sentimento_tweet == \"Positivo\"][cols_palavras].sum().sort_values(\n",
    "    ascending=False\n",
    ")[:10].plot(kind=\"barh\", ax=ax[1])\n",
    "ax[0].set_xlabel(\"Freq. Palavras\")\n",
    "ax[1].set_xlabel(\"Freq. Palavras\")\n",
    "ax[1].set_title(\"Palavras mais comuns - Avaliações positivas\")\n",
    "ax[0].set_title(\"Palavras mais comuns - Avaliações negativas\")\n",
    "plt.show()"
   ]
  },
  {
   "cell_type": "markdown",
   "metadata": {
    "id": "hqOGd2VKi5qg"
   },
   "source": [
    "Apesar de termos algumas palavras similares (`não`, `mas`) nos dois conjuntos, nas avaliações positivas conseguimos ver palavras de conotação positiva (`bom`, `bem`), e nas negativas algumas palavras mais frequentemente associadas com sentimentos negativos (`triste`)"
   ]
  },
  {
   "cell_type": "markdown",
   "metadata": {
    "id": "vb458HSki5qg"
   },
   "source": [
    "Temos outras formas de representar estes termos, como por exemplo usando a biblioteca `Wordcloud`"
   ]
  },
  {
   "cell_type": "code",
   "execution_count": null,
   "metadata": {
    "id": "VoKWoCTCi5qg"
   },
   "outputs": [],
   "source": [
    "from wordcloud import WordCloud\n",
    "\n",
    "# Instanciando o objeto\n",
    "wc = WordCloud(\n",
    "    max_words=25,  # Número máximo de palavras no wordcloud\n",
    "    random_state=42,  # Estado aleatório\n",
    ")"
   ]
  },
  {
   "cell_type": "markdown",
   "metadata": {
    "id": "OaeVVd40i5qg"
   },
   "source": [
    "Após instanciarmos o objeto, podemos gerar a nuvem de palavras fornecendo os tweets e o tamanho da imagem"
   ]
  },
  {
   "cell_type": "code",
   "execution_count": null,
   "metadata": {
    "id": "zyRZ6VNHi5qg",
    "outputId": "c9e5965d-5be2-431e-b404-c21184e8585e"
   },
   "outputs": [
    {
     "data": {
      "text/plain": [
       "(-0.5, 399.5, 199.5, -0.5)"
      ]
     },
     "execution_count": 38,
     "metadata": {},
     "output_type": "execute_result"
    },
    {
     "data": {
      "image/png": "[encoded data removed]",
      "text/plain": [
       "<Figure size 1440x504 with 1 Axes>"
      ]
     },
     "metadata": {
      "needs_background": "light"
     },
     "output_type": "display_data"
    }
   ],
   "source": [
    "# Nuvem de palavras dos tweets positivos\n",
    "wc.generate(str(dados[dados.sentiment == \"Positivo\"].texto_final))\n",
    "plt.figure(figsize=(20, 7))  # ajustar tamanho imagem\n",
    "plt.imshow(wc, interpolation=\"bilinear\")\n",
    "plt.axis(\"off\")"
   ]
  },
  {
   "cell_type": "code",
   "execution_count": null,
   "metadata": {
    "id": "MS01_-e5i5qh",
    "outputId": "f940c888-b993-462a-a6f7-0fb7e2d89c80"
   },
   "outputs": [
    {
     "data": {
      "text/plain": [
       "(-0.5, 399.5, 199.5, -0.5)"
      ]
     },
     "execution_count": 39,
     "metadata": {},
     "output_type": "execute_result"
    },
    {
     "data": {
      "image/png": "[encoded data removed]",
      "text/plain": [
       "<Figure size 1440x504 with 1 Axes>"
      ]
     },
     "metadata": {
      "needs_background": "light"
     },
     "output_type": "display_data"
    }
   ],
   "source": [
    "# Nuvem de palavras dos tweets negativos\n",
    "wc.generate(str(dados[dados.sentiment == \"Negativo\"].texto_final))\n",
    "plt.figure(figsize=(20, 7))  # ajustar tamanho imagem\n",
    "plt.imshow(wc, interpolation=\"bilinear\")\n",
    "plt.axis(\"off\")"
   ]
  },
  {
   "cell_type": "markdown",
   "metadata": {
    "id": "TBGYBLj7i5qh"
   },
   "source": [
    "## 2. Modelagem: Usando todo o tratamento em modelos que só entendem números!"
   ]
  },
  {
   "cell_type": "markdown",
   "metadata": {
    "id": "JZnEb1gNi5qh"
   },
   "source": [
    "Todo este tratamento vem de um único detalhe: não importa qual modelo ou situação queremos trabalhar, computadores só entendem `números`!! E por conta disso, todo este trabalho de converter textos em palavras (e depois em contagens) faz sentido."
   ]
  },
  {
   "cell_type": "markdown",
   "metadata": {
    "id": "lsXghd4Oi5qh"
   },
   "source": [
    "### 2.0 Separação treino-teste e escolha de métricas"
   ]
  },
  {
   "cell_type": "markdown",
   "metadata": {
    "id": "IVl2B1Rui5qh"
   },
   "source": [
    "Este problema é de `classificação`, então iremos escolher métricas próprias para esse tipo de problema. Como vimos antes, nosso problema tem relativamente bem distribuídas. Neste caso, podemos usar o `roc_auc` como uma boa métrica, pois estamos falando de um problema binário de classificação\n",
    "\n",
    "<img src=\"https://i2.wp.com/sefiks.com/wp-content/uploads/2020/12/roc-curve-original.png?ssl=1\">"
   ]
  },
  {
   "cell_type": "markdown",
   "metadata": {
    "id": "mGob7PzHi5qh"
   },
   "source": [
    "Assim como em qualquer problema de machine learning, vamos separar os dados em `treino`e `teste`. Porém o método que usamos do `CountVectorizer`foi usado em todo o conjunto de dados. Que tipo de problemas isso pode gerar?"
   ]
  },
  {
   "cell_type": "code",
   "execution_count": null,
   "metadata": {
    "id": "LzflZt8Ki5qh"
   },
   "outputs": [],
   "source": [
    "# Separando os textos em features e targets\n",
    "X = dados.texto_final\n",
    "y = dados.sentiment\n",
    "\n",
    "X_train, X_test, y_train, y_test = train_test_split(\n",
    "    X, y, test_size=0.2, random_state=1234, stratify=y\n",
    ")  # Random state para replicar código"
   ]
  },
  {
   "cell_type": "markdown",
   "metadata": {
    "id": "JwFaGQEDi5qh"
   },
   "source": [
    "Para evitar vazamento de dados, precisamos instanciar o `CountVectorizer` no conjunto de treino e aplicá-lo nos conjuntos de treino e de teste"
   ]
  },
  {
   "cell_type": "code",
   "execution_count": null,
   "metadata": {
    "id": "YLX3uAsCi5qh"
   },
   "outputs": [],
   "source": [
    "cv_train = CountVectorizer(\n",
    "    strip_accents=\"unicode\",  # Tratamento de acentos\n",
    "    lowercase=True,  # Converte todos os caracteres em letras minúsculas\n",
    ")\n",
    "\n",
    "# Ajustando sobre os textos do treino\n",
    "cv_train.fit(X_train)\n",
    "# Aplicando sobre o treino e sobre o teste\n",
    "X_train_vect = pd.DataFrame(cv_train.transform(X_train).todense())\n",
    "X_test_vect = pd.DataFrame(cv_train.transform(X_test).todense())"
   ]
  },
  {
   "cell_type": "markdown",
   "metadata": {
    "id": "O8VQsz8Ii5qi"
   },
   "source": [
    "### 2.1 Treinando um modelo de base"
   ]
  },
  {
   "cell_type": "markdown",
   "metadata": {
    "id": "Izp-q0RSi5qi"
   },
   "source": [
    "Com as bases trabalhadas, vamos agora treinar alguns modelos e avaliar suas performances"
   ]
  },
  {
   "cell_type": "code",
   "execution_count": null,
   "metadata": {
    "id": "dWUrOD0pi5qi"
   },
   "outputs": [],
   "source": [
    "modelos_teste = {\n",
    "    \"Logística\": LogisticRegression(),\n",
    "    \"Árvore\": DecisionTreeClassifier(max_depth=10),\n",
    "    \"RandomForest\": RandomForestClassifier(max_depth=10),\n",
    "    \"LGBM\": LGBMClassifier(),\n",
    "}"
   ]
  },
  {
   "cell_type": "code",
   "execution_count": null,
   "metadata": {
    "id": "HlPmk6f1i5qi",
    "outputId": "aade1f49-c6ff-4f36-8775-c5683b678d12"
   },
   "outputs": [
    {
     "name": "stdout",
     "output_type": "stream",
     "text": [
      "ROC AUC - Logística: 0.775\n",
      "ROC AUC - Árvore: 0.623\n",
      "ROC AUC - RandomForest: 0.745\n",
      "ROC AUC - LGBM: 0.743\n"
     ]
    }
   ],
   "source": [
    "# Treinando cada modelo e avaliando métrica sobre conjuntos de validação\n",
    "for nome, modelo in modelos_teste.items():\n",
    "    metrica = cross_val_score(\n",
    "        modelo, X_train_vect, y_train, cv=3, scoring=\"roc_auc\"\n",
    "    ).mean()\n",
    "    print(\"ROC AUC - \" + nome + \": {:.3f}\".format(metrica))"
   ]
  },
  {
   "cell_type": "markdown",
   "metadata": {
    "id": "SQcsKFvvi5qi"
   },
   "source": [
    "Dos nossos modelos, o que melhor performou foi a `Regressão Logística`! E inclusive  muito melhor que um teste ao acaso, que seria de uma `ROC AUC` de `0.5` ou 50%.\n",
    "\n",
    "Agora com nosso modelo escolhido, vamos otimizar os hiperparâmetros e plotar nosso modelo final! Para isso, vamos usar o `GridSearchCV` específico para a Regressão Logística"
   ]
  },
  {
   "cell_type": "code",
   "execution_count": null,
   "metadata": {
    "id": "UOJfhIy7i5qi",
    "outputId": "b770c156-3f5e-46a9-a11a-911820036092"
   },
   "outputs": [
    {
     "name": "stdout",
     "output_type": "stream",
     "text": [
      "Fitting 3 folds for each of 5 candidates, totalling 15 fits\n"
     ]
    },
    {
     "name": "stderr",
     "output_type": "stream",
     "text": [
      "[Parallel(n_jobs=8)]: Using backend LokyBackend with 8 concurrent workers.\n",
      "[Parallel(n_jobs=8)]: Done  15 out of  15 | elapsed:   39.8s finished\n"
     ]
    },
    {
     "data": {
      "text/plain": [
       "GridSearchCV(cv=3, estimator=LogisticRegression(), n_jobs=8,\n",
       "             param_grid={'C': [0.01, 0.1, 1, 10, 100]}, scoring='roc_auc',\n",
       "             verbose=True)"
      ]
     },
     "execution_count": 44,
     "metadata": {},
     "output_type": "execute_result"
    }
   ],
   "source": [
    "param_grid = {\"C\": [0.01, 0.1, 1, 10, 100]}\n",
    "\n",
    "rcv = GridSearchCV(\n",
    "    LogisticRegression(),\n",
    "    param_grid=param_grid,\n",
    "    cv=3,\n",
    "    scoring=\"roc_auc\",\n",
    "    verbose=True,\n",
    "    n_jobs=8,\n",
    ")\n",
    "rcv.fit(X_train_vect, y_train)"
   ]
  },
  {
   "cell_type": "code",
   "execution_count": null,
   "metadata": {
    "id": "p3u6IC_xi5qi",
    "outputId": "a1764f71-8acb-4875-bd82-668a762038ad"
   },
   "outputs": [
    {
     "name": "stdout",
     "output_type": "stream",
     "text": [
      "{'C': 1}\n",
      "Acurácia no conjunto de teste 0.783\n"
     ]
    }
   ],
   "source": [
    "# Melhores parâmetros\n",
    "print(rcv.best_params_)\n",
    "# Treinando o modelo com melhores parâmetros\n",
    "modelo_final = LogisticRegression(**rcv.best_params_).fit(X_train_vect, y_train)\n",
    "\n",
    "# Avaliando a acurácia sobre o conjunto de teste\n",
    "y_test_pred = modelo_final.predict_proba(X_test_vect)[:, 1]\n",
    "acuracia_teste = roc_auc_score(y_test, y_test_pred)\n",
    "\n",
    "print(\"Acurácia no conjunto de teste {:.3f}\".format(acuracia_teste))"
   ]
  },
  {
   "cell_type": "markdown",
   "metadata": {
    "id": "Tbv3QTiMi5qi"
   },
   "source": [
    "Parece que o modelo funcionou bem, mesmo no conjunto de teste! Mas será que podemos melhorar este modelo?"
   ]
  },
  {
   "cell_type": "markdown",
   "metadata": {
    "id": "4tIzipvki5qj"
   },
   "source": [
    "### 2.2 Feature Engineering com dados textuais"
   ]
  },
  {
   "cell_type": "markdown",
   "metadata": {
    "id": "xSwRrTiFi5qj"
   },
   "source": [
    "Assim como em qualquer problema de modelagem, podemos pensar em formas mais criativas de usar nossas features disponíveis e, a partir delas, criar novas features! Em caso de dados textuais não é diferente, e iremos agora discutir duas técnicas muito boas de criar novas features a partir das palavras/tokens que já separamos"
   ]
  },
  {
   "cell_type": "markdown",
   "metadata": {
    "id": "XcMKGwXmi5qj"
   },
   "source": [
    "### 2.2.1 N-gramas"
   ]
  },
  {
   "cell_type": "markdown",
   "metadata": {
    "id": "4x5zWXzfi5qj"
   },
   "source": [
    "No começo da nossa análise, separamos cada coluna como a contagem de cada palavra em cada texto. Mas há casos em que as palavras separadas não conseguem dar o mesmo contexto que teriam se contadas juntas. Vamos ver um exemplo:\n",
    "\n",
    "* Avaliação 1: \"Eu **não** gostei do meu dia hoje.\"\n",
    "* Avaliação 2: \"Amei, **não** consigo ver nenhum problema no rolê que fizemos!\"\n",
    "\n",
    "Qual é o significado da palavra `não` em cada caso?"
   ]
  },
  {
   "cell_type": "markdown",
   "metadata": {
    "id": "Bx_UpzIai5qj"
   },
   "source": [
    "Seria muito melhor se pudéssemos então agrupar os tokens em `pares`, certo? Assim a expressão `não gostei` realmente estaria mais presente em avaliações negativas, apesar da palavra `não` também ser possível em avaliações positivas"
   ]
  },
  {
   "cell_type": "markdown",
   "metadata": {
    "id": "npznTR0ri5qj"
   },
   "source": [
    "É nesse contexto que os `n-gramas` são muito úteis e podem nos ajudar! Os n-gramas nada mais são do que grupos de mais de uma palavra, lidos em uma `janela` que é o tamanho do n-grama. Sendo assim, `bigramas` são pares de palavras, `trigramas` triplas, e assim por diante.\n",
    "\n",
    "<center> <img src=\"https://images.deepai.org/glossary-terms/867de904ba9b46869af29cead3194b6c/8ARA1.png\" width=1200>"
   ]
  },
  {
   "cell_type": "markdown",
   "metadata": {
    "id": "Fdexe7omi5qj"
   },
   "source": [
    "Para que passemos a considerar duas palavras nas features, podemos mudar este parâmetro na função `CountVectorizer`"
   ]
  },
  {
   "cell_type": "code",
   "execution_count": null,
   "metadata": {
    "id": "5xmvQjEni5qj"
   },
   "outputs": [],
   "source": [
    "# Instanciando o objeto\n",
    "cv_bigramas = CountVectorizer(\n",
    "    strip_accents=\"unicode\",  # Tratamento de acentos\n",
    "    lowercase=True,  # Converte todos os caracteres em letras minúsculas\n",
    "    ngram_range=(2, 2),  # Signfica tomar apenas pares de palavras (2)\n",
    ")\n",
    "\n",
    "# Treinando sobre o conjunto de treino\n",
    "cv_bigramas.fit(dados.texto_final)\n",
    "# Fazendo o processo de conversão em colunas efetivamente\n",
    "frases_tratadas_bigram = cv_bigramas.transform(dados.texto_final)\n",
    "df_frases_bigram = pd.DataFrame(frases_tratadas_bigram.todense())"
   ]
  },
  {
   "cell_type": "code",
   "execution_count": null,
   "metadata": {
    "id": "fgfGahMPi5qj"
   },
   "outputs": [],
   "source": [
    "# Novo dicionário de vocabularios dos bigramas\n",
    "mapa_vocabulario_bigram = {v: k for k, v in cv_bigramas.vocabulary_.items()}\n",
    "df_frases_bigram.columns = df_frases_bigram.columns.map(mapa_vocabulario_bigram)\n",
    "\n",
    "# Marcando a variável target, que é o sentimento do tweet\n",
    "df_frases_bigram[\"sentimento_tweet\"] = dados.sentiment"
   ]
  },
  {
   "cell_type": "markdown",
   "metadata": {
    "id": "bfaUrje_i5qk"
   },
   "source": [
    "Vamos agora verificar os pares de palavras mais frequentes novamente, sobre os sentimentos positivos e negativos"
   ]
  },
  {
   "cell_type": "code",
   "execution_count": null,
   "metadata": {
    "id": "4QreDmexi5qk",
    "outputId": "45e97931-b743-4ee8-d2ae-4b930ff31c74"
   },
   "outputs": [
    {
     "data": {
      "image/png": "[encoded data removed]",
      "text/plain": [
       "<Figure size 1080x288 with 2 Axes>"
      ]
     },
     "metadata": {
      "needs_background": "light"
     },
     "output_type": "display_data"
    }
   ],
   "source": [
    "fig, ax = plt.subplots(1, 2, figsize=(15, 4))\n",
    "cols_bigramas = df_frases_bigram.columns[:-1]\n",
    "df_frases_bigram[df_frases_bigram.sentimento_tweet == \"Negativo\"][\n",
    "    cols_bigramas\n",
    "].sum().sort_values(ascending=False)[:10].plot(kind=\"barh\", ax=ax[0])\n",
    "df_frases_bigram[df_frases_bigram.sentimento_tweet == \"Positivo\"][\n",
    "    cols_bigramas\n",
    "].sum().sort_values(ascending=False)[:10].plot(kind=\"barh\", ax=ax[1])\n",
    "ax[0].set_xlabel(\"Freq. Bigramas\")\n",
    "ax[1].set_xlabel(\"Freq. Bigramas\")\n",
    "ax[1].set_title(\"Bigramas mais comuns - Avaliações positivas\")\n",
    "ax[0].set_title(\"Bigramas mais comuns - Avaliações negativas\")\n",
    "plt.show()"
   ]
  },
  {
   "cell_type": "markdown",
   "metadata": {
    "id": "P5iWu6-Bi5qk"
   },
   "source": [
    "Dessa vez, temos termos que indicam melhor sentimentos positivos e negativos. Quais exemplos vocês conseguem ver?"
   ]
  },
  {
   "cell_type": "markdown",
   "metadata": {
    "id": "4dSspR5ui5qk"
   },
   "source": [
    "Vamos agora retreinar nosso modelo usando apenas os bigramas, e avaliar nossa performance"
   ]
  },
  {
   "cell_type": "code",
   "execution_count": null,
   "metadata": {
    "id": "ZCo8fwtEi5qk"
   },
   "outputs": [],
   "source": [
    "cv_bigramas = CountVectorizer(\n",
    "    strip_accents=\"unicode\",  # Tratamento de acentos\n",
    "    lowercase=True,  # Converte todos os caracteres em letras minúsculas\n",
    "    ngram_range=(1, 2),  # Considerando palavras E bigramas\n",
    ")\n",
    "\n",
    "# Ajustando sobre os textos do treino\n",
    "cv_bigramas.fit(X_train)\n",
    "# Aplicando sobre o treino e sobre o teste\n",
    "X_train_bigramas = pd.DataFrame(cv_bigramas.transform(X_train).todense())\n",
    "X_test_bigramas = pd.DataFrame(cv_bigramas.transform(X_test).todense())"
   ]
  },
  {
   "cell_type": "markdown",
   "metadata": {
    "id": "dnvW6_ABi5qk"
   },
   "source": [
    "Vamos comparar as Regressões Logísticas usando unigramas (palavras) e bigramas"
   ]
  },
  {
   "cell_type": "code",
   "execution_count": null,
   "metadata": {
    "id": "lO-R2odHi5qk",
    "outputId": "d5219436-364a-4c3d-e399-500063e8c0ab"
   },
   "outputs": [
    {
     "name": "stdout",
     "output_type": "stream",
     "text": [
      "Performance usando unigramas, ou palavras: 0.775\n",
      "Performance usando unigramas e bigramas: 0.779\n"
     ]
    }
   ],
   "source": [
    "print(\n",
    "    \"Performance usando unigramas, ou palavras: {:.3f}\".format(\n",
    "        cross_val_score(\n",
    "            LogisticRegression(), X_train_vect, y_train, scoring=\"roc_auc\", cv=3\n",
    "        ).mean()\n",
    "    )\n",
    ")\n",
    "print(\n",
    "    \"Performance usando unigramas e bigramas: {:.3f}\".format(\n",
    "        cross_val_score(\n",
    "            LogisticRegression(), X_train_bigramas, y_train, scoring=\"roc_auc\", cv=3\n",
    "        ).mean()\n",
    "    )\n",
    ")"
   ]
  },
  {
   "cell_type": "markdown",
   "metadata": {
    "id": "lNXCpvxXi5qk"
   },
   "source": [
    "O que podemos concluir?"
   ]
  },
  {
   "cell_type": "markdown",
   "metadata": {
    "id": "LPAWIu4Li5ql"
   },
   "source": [
    "### 2.2.2 Eliminando a frequência de palavras comuns com TF-IDF"
   ]
  },
  {
   "cell_type": "markdown",
   "metadata": {
    "id": "ptLK5xDai5ql"
   },
   "source": [
    "Apesar de conseguimos melhores resultados usando unigramas, ainda temos algumas palavras muito comuns e frequentes pelo assunto do Dataset (como `não`). Desta forma, ela não é tão importante assim para diferenciar tweets positivos e negativas.\n",
    "\n",
    "E se pudéssemos usar `apenas palavras realmente relevantes` para construir nosso Dataset? Podemos fazer isso usando o \n",
    "`TF-IDF` (Text Freqency - Inverted Document Frequency)\n",
    "\n",
    "<center> <img src=\"https://miro.medium.com/max/1404/1*mu6G-cBmWlENS4pWHEnGcg@2x.jpeg\" width=800>\n",
    "  "
   ]
  },
  {
   "cell_type": "markdown",
   "metadata": {
    "id": "kdFJ7lOti5ql"
   },
   "source": [
    "Para usar o TFIDF, podemos usar a função `TfidfVectorizer` do `scikit-learn`"
   ]
  },
  {
   "cell_type": "code",
   "execution_count": null,
   "metadata": {
    "id": "Mo4YXWLji5ql"
   },
   "outputs": [],
   "source": [
    "from sklearn.feature_extraction.text import TfidfVectorizer\n",
    "\n",
    "# Instanciando o objeto\n",
    "tfidf = TfidfVectorizer(\n",
    "    strip_accents=\"unicode\",  # Tratamento de acentos\n",
    "    lowercase=True,  # Converte todos os caracteres em letras minúsculas\n",
    "    ngram_range=(2, 2),  # Incluindo apenas bigramas\n",
    ")\n",
    "\n",
    "# Ajustando sobre os dados\n",
    "tfidf.fit(X_train)\n",
    "# Fazendo o processo de conversão em colunas efetivamente\n",
    "frases_tratadas_tfidf = tfidf.transform(X_train)\n",
    "df_frases_tfidf = pd.DataFrame(frases_tratadas_tfidf.todense())"
   ]
  },
  {
   "cell_type": "markdown",
   "metadata": {
    "id": "dCRdoKzfi5ql"
   },
   "source": [
    "Assim como nos outros casos, vamos marcar os nomes das colunas e analisar os termos mais frequentes"
   ]
  },
  {
   "cell_type": "code",
   "execution_count": null,
   "metadata": {
    "id": "R4NjAUkji5ql"
   },
   "outputs": [],
   "source": [
    "# Novo dicionário de vocabularios dos bigramas\n",
    "mapa_vocabulario_tfidf = {v: k for k, v in tfidf.vocabulary_.items()}\n",
    "df_frases_tfidf.columns = df_frases_tfidf.columns.map(mapa_vocabulario_tfidf)\n",
    "# Marcando a variável target, que é o sentimento do tweet\n",
    "df_frases_tfidf[\"sentimento_tweet\"] = dados.sentiment"
   ]
  },
  {
   "cell_type": "code",
   "execution_count": null,
   "metadata": {
    "id": "DuB9mbh2i5ql",
    "outputId": "209f666a-6afe-44e4-8fc6-83666405b596"
   },
   "outputs": [
    {
     "data": {
      "image/png": "[encoded data removed]",
      "text/plain": [
       "<Figure size 1080x216 with 2 Axes>"
      ]
     },
     "metadata": {
      "needs_background": "light"
     },
     "output_type": "display_data"
    }
   ],
   "source": [
    "fig, ax = plt.subplots(1, 2, figsize=(15, 3))\n",
    "cols_tfidf = df_frases_tfidf.columns[:-1]\n",
    "df_frases_tfidf[df_frases_tfidf.sentimento_tweet == \"Negativo\"][\n",
    "    cols_tfidf\n",
    "].sum().sort_values(ascending=False)[:10].plot(kind=\"barh\", ax=ax[0])\n",
    "df_frases_tfidf[df_frases_tfidf.sentimento_tweet == \"Positivo\"][\n",
    "    cols_tfidf\n",
    "].sum().sort_values(ascending=False)[:10].plot(kind=\"barh\", ax=ax[1])\n",
    "ax[0].set_xlabel(\"Freq. Palavras-Bigramas\")\n",
    "ax[1].set_xlabel(\"Freq. Palavras-Bigramas\")\n",
    "ax[1].set_title(\"Bigramas TFIDF mais comuns - Tweets positivos\")\n",
    "ax[0].set_title(\"Bigramas TFIDF mais comuns - Tweets negativos\")\n",
    "plt.show()"
   ]
  },
  {
   "cell_type": "markdown",
   "metadata": {
    "id": "PwbDcUEyi5ql"
   },
   "source": [
    "Com TFIDF, conseguimos ver mais claramente termos associados a avaliações positivas e negativas, mas sem tantas repetições com a palavra `não`, como vimos no caso de tratamento de bigramas. Quais expressões passaram a aparecer?"
   ]
  },
  {
   "cell_type": "markdown",
   "metadata": {
    "id": "4xxRSyshi5ql"
   },
   "source": [
    "Para finalizar, vamos comparar agora o modelo com TFIDF com os dois anteriores que treinamos, usando `unigramas` e `bigramas`:"
   ]
  },
  {
   "cell_type": "code",
   "execution_count": null,
   "metadata": {
    "id": "D2RZXQnFi5qm"
   },
   "outputs": [],
   "source": [
    "tfidf_final = TfidfVectorizer(\n",
    "    strip_accents=\"unicode\",  # Tratamento de acentos\n",
    "    lowercase=True,  # Converte todos os caracteres em letras minúsculas\n",
    "    ngram_range=(1, 2),  # Incluindo unigramas e bigramas\n",
    ")\n",
    "\n",
    "# Ajustando sobre os textos do treino\n",
    "tfidf_final.fit(X_train)\n",
    "# Aplicando sobre o treino e sobre o teste\n",
    "X_train_tfidf = pd.DataFrame(tfidf_final.transform(X_train).todense())\n",
    "X_test_tfidf = pd.DataFrame(tfidf_final.transform(X_test).todense())"
   ]
  },
  {
   "cell_type": "code",
   "execution_count": null,
   "metadata": {
    "id": "xUfMFMDOi5qm",
    "outputId": "f77ed9d8-815a-48ce-b500-2d9757fe881e"
   },
   "outputs": [
    {
     "name": "stdout",
     "output_type": "stream",
     "text": [
      "Performance usando unigramas, ou palavras: 0.775\n",
      "Performance usando unigramas e bigramas: 0.779\n",
      "Performance usando TFIDF de unigramas e bigramas: 0.788\n"
     ]
    }
   ],
   "source": [
    "print(\n",
    "    \"Performance usando unigramas, ou palavras: {:.3f}\".format(\n",
    "        cross_val_score(\n",
    "            LogisticRegression(), X_train_vect, y_train, scoring=\"roc_auc\", cv=3\n",
    "        ).mean()\n",
    "    )\n",
    ")\n",
    "print(\n",
    "    \"Performance usando unigramas e bigramas: {:.3f}\".format(\n",
    "        cross_val_score(\n",
    "            LogisticRegression(), X_train_bigramas, y_train, scoring=\"roc_auc\", cv=3\n",
    "        ).mean()\n",
    "    )\n",
    ")\n",
    "print(\n",
    "    \"Performance usando TFIDF de unigramas e bigramas: {:.3f}\".format(\n",
    "        cross_val_score(\n",
    "            LogisticRegression(), X_train_tfidf, y_train, scoring=\"roc_auc\", cv=3\n",
    "        ).mean()\n",
    "    )\n",
    ")"
   ]
  },
  {
   "cell_type": "markdown",
   "metadata": {
    "id": "_3S0amLPi5qm"
   },
   "source": [
    "Os tratamentos funcionaram!"
   ]
  },
  {
   "cell_type": "markdown",
   "metadata": {
    "id": "SxoxBYlmi5qm"
   },
   "source": [
    "## 3. Indo além: Representações vetoriais de palavras com Embeddings\n",
    "\n",
    "Agora que já sabemos como tratar textos em features, vamos dar um passo além e representar nossas palavras como vetores"
   ]
  },
  {
   "cell_type": "markdown",
   "metadata": {
    "id": "iUk38He_i5qm"
   },
   "source": [
    "### 3.0 Tentando resolver os problemas do `bag of words`"
   ]
  },
  {
   "cell_type": "markdown",
   "metadata": {
    "id": "wJShiIJmi5qm"
   },
   "source": [
    "Mesmo durante nossas soluções, fica bem claro que em qualquer abordagem de `bag of words` criamos **milhares de colunas**, e isso gera tanto problemas de `memória` quanto de `interpretabilidade` das bases criadas!"
   ]
  },
  {
   "cell_type": "code",
   "execution_count": null,
   "metadata": {
    "id": "16KZt_Kii5qm",
    "outputId": "98377c0c-e623-4d03-acb5-ee7854882980"
   },
   "outputs": [
    {
     "data": {
      "text/html": [
       "<div>\n",
       "<style scoped>\n",
       "    .dataframe tbody tr th:only-of-type {\n",
       "        vertical-align: middle;\n",
       "    }\n",
       "\n",
       "    .dataframe tbody tr th {\n",
       "        vertical-align: top;\n",
       "    }\n",
       "\n",
       "    .dataframe thead th {\n",
       "        text-align: right;\n",
       "    }\n",
       "</style>\n",
       "<table border=\"1\" class=\"dataframe\">\n",
       "  <thead>\n",
       "    <tr style=\"text-align: right;\">\n",
       "      <th></th>\n",
       "      <th>00</th>\n",
       "      <th>000</th>\n",
       "      <th>00155a7d</th>\n",
       "      <th>00am</th>\n",
       "      <th>00pm</th>\n",
       "      <th>01</th>\n",
       "      <th>01h</th>\n",
       "      <th>03</th>\n",
       "      <th>032f6ace6b16</th>\n",
       "      <th>040</th>\n",
       "      <th>...</th>\n",
       "      <th>zona</th>\n",
       "      <th>zoo</th>\n",
       "      <th>zootopia</th>\n",
       "      <th>zuado</th>\n",
       "      <th>zuando</th>\n",
       "      <th>zuckerberg</th>\n",
       "      <th>zuou</th>\n",
       "      <th>ᅠᅠᅠᅠᅠᅠ</th>\n",
       "      <th>ゝeu</th>\n",
       "      <th>sentimento_tweet</th>\n",
       "    </tr>\n",
       "  </thead>\n",
       "  <tbody>\n",
       "    <tr>\n",
       "      <th>0</th>\n",
       "      <td>0</td>\n",
       "      <td>0</td>\n",
       "      <td>0</td>\n",
       "      <td>0</td>\n",
       "      <td>0</td>\n",
       "      <td>0</td>\n",
       "      <td>0</td>\n",
       "      <td>0</td>\n",
       "      <td>0</td>\n",
       "      <td>0</td>\n",
       "      <td>...</td>\n",
       "      <td>0</td>\n",
       "      <td>0</td>\n",
       "      <td>0</td>\n",
       "      <td>0</td>\n",
       "      <td>0</td>\n",
       "      <td>0</td>\n",
       "      <td>0</td>\n",
       "      <td>0</td>\n",
       "      <td>0</td>\n",
       "      <td>Negativo</td>\n",
       "    </tr>\n",
       "    <tr>\n",
       "      <th>1</th>\n",
       "      <td>0</td>\n",
       "      <td>0</td>\n",
       "      <td>0</td>\n",
       "      <td>0</td>\n",
       "      <td>0</td>\n",
       "      <td>0</td>\n",
       "      <td>0</td>\n",
       "      <td>0</td>\n",
       "      <td>0</td>\n",
       "      <td>0</td>\n",
       "      <td>...</td>\n",
       "      <td>0</td>\n",
       "      <td>0</td>\n",
       "      <td>0</td>\n",
       "      <td>0</td>\n",
       "      <td>0</td>\n",
       "      <td>0</td>\n",
       "      <td>0</td>\n",
       "      <td>0</td>\n",
       "      <td>0</td>\n",
       "      <td>Negativo</td>\n",
       "    </tr>\n",
       "    <tr>\n",
       "      <th>2</th>\n",
       "      <td>0</td>\n",
       "      <td>0</td>\n",
       "      <td>0</td>\n",
       "      <td>0</td>\n",
       "      <td>0</td>\n",
       "      <td>0</td>\n",
       "      <td>0</td>\n",
       "      <td>0</td>\n",
       "      <td>0</td>\n",
       "      <td>0</td>\n",
       "      <td>...</td>\n",
       "      <td>0</td>\n",
       "      <td>0</td>\n",
       "      <td>0</td>\n",
       "      <td>0</td>\n",
       "      <td>0</td>\n",
       "      <td>0</td>\n",
       "      <td>0</td>\n",
       "      <td>0</td>\n",
       "      <td>0</td>\n",
       "      <td>Positivo</td>\n",
       "    </tr>\n",
       "    <tr>\n",
       "      <th>3</th>\n",
       "      <td>0</td>\n",
       "      <td>0</td>\n",
       "      <td>0</td>\n",
       "      <td>0</td>\n",
       "      <td>0</td>\n",
       "      <td>0</td>\n",
       "      <td>0</td>\n",
       "      <td>0</td>\n",
       "      <td>0</td>\n",
       "      <td>0</td>\n",
       "      <td>...</td>\n",
       "      <td>0</td>\n",
       "      <td>0</td>\n",
       "      <td>0</td>\n",
       "      <td>0</td>\n",
       "      <td>0</td>\n",
       "      <td>0</td>\n",
       "      <td>0</td>\n",
       "      <td>0</td>\n",
       "      <td>0</td>\n",
       "      <td>Negativo</td>\n",
       "    </tr>\n",
       "    <tr>\n",
       "      <th>4</th>\n",
       "      <td>0</td>\n",
       "      <td>0</td>\n",
       "      <td>0</td>\n",
       "      <td>0</td>\n",
       "      <td>0</td>\n",
       "      <td>0</td>\n",
       "      <td>0</td>\n",
       "      <td>0</td>\n",
       "      <td>0</td>\n",
       "      <td>0</td>\n",
       "      <td>...</td>\n",
       "      <td>0</td>\n",
       "      <td>0</td>\n",
       "      <td>0</td>\n",
       "      <td>0</td>\n",
       "      <td>0</td>\n",
       "      <td>0</td>\n",
       "      <td>0</td>\n",
       "      <td>0</td>\n",
       "      <td>0</td>\n",
       "      <td>Negativo</td>\n",
       "    </tr>\n",
       "  </tbody>\n",
       "</table>\n",
       "<p>5 rows × 11933 columns</p>\n",
       "</div>"
      ],
      "text/plain": [
       "   00  000  00155a7d  00am  00pm  01  01h  03  032f6ace6b16  040  ...  zona  \\\n",
       "0   0    0         0     0     0   0    0   0             0    0  ...     0   \n",
       "1   0    0         0     0     0   0    0   0             0    0  ...     0   \n",
       "2   0    0         0     0     0   0    0   0             0    0  ...     0   \n",
       "3   0    0         0     0     0   0    0   0             0    0  ...     0   \n",
       "4   0    0         0     0     0   0    0   0             0    0  ...     0   \n",
       "\n",
       "   zoo  zootopia  zuado  zuando  zuckerberg  zuou  ᅠᅠᅠᅠᅠᅠ  ゝeu  \\\n",
       "0    0         0      0       0           0     0       0    0   \n",
       "1    0         0      0       0           0     0       0    0   \n",
       "2    0         0      0       0           0     0       0    0   \n",
       "3    0         0      0       0           0     0       0    0   \n",
       "4    0         0      0       0           0     0       0    0   \n",
       "\n",
       "   sentimento_tweet  \n",
       "0          Negativo  \n",
       "1          Negativo  \n",
       "2          Positivo  \n",
       "3          Negativo  \n",
       "4          Negativo  \n",
       "\n",
       "[5 rows x 11933 columns]"
      ]
     },
     "execution_count": 56,
     "metadata": {},
     "output_type": "execute_result"
    }
   ],
   "source": [
    "df_frases.head()"
   ]
  },
  {
   "cell_type": "markdown",
   "metadata": {
    "id": "tegDexREi5qm"
   },
   "source": [
    "Seria muito mais conveniente se pudéssemos representar cada palavra por um `vetor de números`, de forma que as dimensões da base final fossem menores\n",
    "\n",
    "<center> <img src=\"../2. MISC/embeddings.png\" width=400>"
   ]
  },
  {
   "cell_type": "markdown",
   "metadata": {
    "id": "66UD4Qvyi5qn"
   },
   "source": [
    "Este é o famoso conceito de `embeddings`, onde os significados estão 'embebidos' dentro de um número menor de dimensões. Assim, um vasto vocabulário poderá ser representado por vetores, com cada dimensão carregando um significado instríseco (ex: gênero, plural, tipo, tamanho)"
   ]
  },
  {
   "cell_type": "markdown",
   "metadata": {
    "id": "Npl9V-qUi5qn"
   },
   "source": [
    "Para encontrarmos esse 'novo espaço' de menos dimensões sobre a qual podemos descrever nossas palavras, precisamos de algum método que permita que algum modelo aprenda essas dimensões. Uma das formas mais conhecidas de se fazer esse mapeamento é usando novas estruturas de dados chamados `cbow`, ou `context bag of words`\n",
    "\n",
    "<center> <img src=\"https://1.bp.blogspot.com/-nZFc7P6o3Yc/XQo2cYPM_ZI/AAAAAAAABxM/XBqYSa06oyQ_sxQzPcgnUxb5msRwDrJrQCLcBGAs/s1600/image001.png\" width=500>"
   ]
  },
  {
   "cell_type": "markdown",
   "metadata": {
    "id": "6popHJedi5qn"
   },
   "source": [
    "Neste algoritmo, organizamos as palavras de forma tal que o modelo tentará prever a palavra central com base nas palavras do seu entorno ou contexto"
   ]
  },
  {
   "cell_type": "code",
   "execution_count": null,
   "metadata": {
    "id": "OFEruqP9i5qn"
   },
   "outputs": [],
   "source": [
    "frase_exemplo = \"Eu vou para a minha casa hoje\"\n",
    "\n",
    "# Com uma janela de 3 palavras\n",
    "target1 = \"vou\"\n",
    "features1 = (\"Eu\", \"para\")\n",
    "\n",
    "target2 = \"para\"\n",
    "features2 = (\"vou\", \"minha\")\n",
    "\n",
    "target3 = \"minha\"\n",
    "features3 = (\"para\", \"casa\")"
   ]
  },
  {
   "cell_type": "markdown",
   "metadata": {
    "id": "Sw08p2Dfi5qn"
   },
   "source": [
    "Sendo assim, o `contexto` das palavras dirá qual palavra provavelmente temos na frase!"
   ]
  },
  {
   "cell_type": "markdown",
   "metadata": {
    "id": "kNmM7kSOi5qn"
   },
   "source": [
    "### 3.1 Treinando embeddings com o  `word2vec`"
   ]
  },
  {
   "cell_type": "markdown",
   "metadata": {
    "id": "cHiyAnxpi5qn"
   },
   "source": [
    "O modelo que permite esse tipo de treinamento para nós é uma `rede neural`, mas diferente do que pensamos, já há muitas implementações simples que podemos usar sem mesmo ter muito conhecimento de redes neurais. Uma bem famosa é o `Word2Vec`, que usaremos aqui!\n",
    "\n",
    "<center> <img src=\"data:image/jpeg;base64,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\" width=600>\n",
    "\n",
    "Mas calma, se você nunca viu ou não conhece redes neurais, não tem problema, a ideia é mostrar como é fácil aplicar estes conceitos na prática"
   ]
  },
  {
   "cell_type": "code",
   "execution_count": null,
   "metadata": {
    "id": "h0Aqg9Zei5qn"
   },
   "outputs": [],
   "source": [
    "from gensim.models import Word2Vec"
   ]
  },
  {
   "cell_type": "markdown",
   "metadata": {
    "id": "LtQEQSD8i5qo"
   },
   "source": [
    "Para usar um `Word2Vec`, só precisamos especificar o tamanho das dimensões que queremos, a janela de leitura dos textos e o número mínimo de ocorrências de uma palavra para ela ser considerada relevante para o processo"
   ]
  },
  {
   "cell_type": "code",
   "execution_count": null,
   "metadata": {
    "id": "bQyoUerbi5qo"
   },
   "outputs": [],
   "source": [
    "# Treinando um Word2Vec\n",
    "wv = Word2Vec(\n",
    "    sentences=dados.texto_final.apply(\n",
    "        lambda x: x.split()\n",
    "    ).values,  # Relação de sentenças/frases\n",
    "    vector_size=10,  # Dimensão final do embedding (i.e. número de colunas da representação)\n",
    "    window=3,  # Janela de contexto que consideraremos para tentar prever a palavra central\n",
    "    min_count=1,  # Número mínimo de ocorrências de uma palavra para ela ser considerada no modelo\n",
    "    workers=10,  # Número de processadores usados\n",
    ")"
   ]
  },
  {
   "cell_type": "markdown",
   "metadata": {
    "id": "yH8NfrZAi5qo"
   },
   "source": [
    "### 3.2 Funcionalidades do  `word2vec`"
   ]
  },
  {
   "cell_type": "markdown",
   "metadata": {
    "id": "VX3ozEswi5qo"
   },
   "source": [
    "Agora que podemos representar cada token na forma de vetores, podemos comparar as palavras entre sí usando a função `most_similar`do objeto `Word2Vec` treinado"
   ]
  },
  {
   "cell_type": "code",
   "execution_count": null,
   "metadata": {
    "scrolled": true,
    "id": "hir76VlDi5qo",
    "outputId": "24019403-46b4-4051-f391-c8a65ec449d7"
   },
   "outputs": [
    {
     "data": {
      "text/plain": [
       "[('feliz', 0.99249267578125),\n",
       " ('ficar', 0.9918792843818665),\n",
       " ('sei', 0.9916536808013916),\n",
       " ('saber', 0.990849494934082),\n",
       " ('q', 0.990795373916626),\n",
       " ('assistir', 0.9907591342926025),\n",
       " ('vou', 0.9903814792633057),\n",
       " ('ir', 0.9902487993240356),\n",
       " ('vai', 0.9896280765533447),\n",
       " ('lindo', 0.989183783531189)]"
      ]
     },
     "execution_count": 60,
     "metadata": {},
     "output_type": "execute_result"
    }
   ],
   "source": [
    "wv.wv.most_similar(\"triste\")"
   ]
  },
  {
   "cell_type": "markdown",
   "metadata": {
    "id": "qBH4l_s7i5qo"
   },
   "source": [
    "Também podemos representar cada `tweet` como um vetor único, usando os embeddings para isso! Para facilitar este trabalho, vamos construir uma função que transforme cada palavra de um tweet em um vetor, usando a função `get_vector()`"
   ]
  },
  {
   "cell_type": "code",
   "execution_count": null,
   "metadata": {
    "id": "dLGw8d1Ni5qp",
    "outputId": "b437e9af-9146-41da-bd05-6263cc692df8"
   },
   "outputs": [
    {
     "data": {
      "text/plain": [
       "array([ 0.10348392, -0.5523751 ,  0.34502307, -0.38665354,  0.60542697,\n",
       "        0.27420875,  1.326015  ,  0.43546572, -0.9825272 , -0.32693192],\n",
       "      dtype=float32)"
      ]
     },
     "execution_count": 61,
     "metadata": {},
     "output_type": "execute_result"
    }
   ],
   "source": [
    "wv.wv.get_vector(\"triste\")"
   ]
  },
  {
   "cell_type": "markdown",
   "metadata": {
    "id": "TSsDiUuOi5qp"
   },
   "source": [
    "Com isso, podemos criar uma função que transforma uma palavra em um vetor de representaço, usando para isso nosso `Word2Vec`"
   ]
  },
  {
   "cell_type": "code",
   "execution_count": null,
   "metadata": {
    "id": "F26nEQUPi5qp"
   },
   "outputs": [],
   "source": [
    "def transforma_palavra(tweet):\n",
    "    # Define dicionário para abrigar os vetores de palavras\n",
    "    dict_vetores = {}\n",
    "    # Usando a função get_vector, transforma a palavra no vetor de Embeddings\n",
    "    for palavra in tweet.split():\n",
    "        dict_vetores[palavra] = wv.wv.get_vector(palavra)\n",
    "    return dict_vetores"
   ]
  },
  {
   "cell_type": "markdown",
   "metadata": {
    "id": "EBrutiUDi5qp"
   },
   "source": [
    "Testando agora sobre o primeiro `tweet`"
   ]
  },
  {
   "cell_type": "code",
   "execution_count": null,
   "metadata": {
    "id": "uAeng8AUi5qp",
    "outputId": "b535b3f3-cf55-4b01-d77e-8002831b1c40"
   },
   "outputs": [
    {
     "data": {
      "text/plain": [
       "{'gato': array([ 0.13184454, -0.1897148 ,  0.00212807, -0.02304993,  0.0369725 ,\n",
       "         0.10777054,  0.21385248,  0.02589419, -0.1542374 , -0.05754994],\n",
       "       dtype=float32),\n",
       " 'beija': array([-0.04136916, -0.09973264, -0.05450664, -0.01320821,  0.029126  ,\n",
       "         0.12166975,  0.16990489,  0.09070545, -0.01597275,  0.02372941],\n",
       "       dtype=float32),\n",
       " 'queixo': array([ 0.05380009, -0.0639279 , -0.07337564, -0.0178093 ,  0.07594086,\n",
       "         0.04515729,  0.06329644, -0.04196674, -0.05858269,  0.07150318],\n",
       "       dtype=float32),\n",
       " 'nada': array([ 0.24800093, -0.7714271 ,  0.6088711 , -0.55854315,  1.0398217 ,\n",
       "         0.38227573,  1.5306833 ,  0.6090234 , -1.5466162 , -0.64445025],\n",
       "       dtype=float32)}"
      ]
     },
     "execution_count": 63,
     "metadata": {},
     "output_type": "execute_result"
    }
   ],
   "source": [
    "transforma_palavra(dados.texto_final[0])"
   ]
  },
  {
   "cell_type": "markdown",
   "metadata": {
    "id": "xPxsXU5Fi5qp"
   },
   "source": [
    "Agora que sabemos converter uma palavra em um vetor, podemos converter `todo o tweet` e representá-lo como um único vetor! Temos algumas formas de sumarizar os vetores de cada palavra, e para este exemplo vamos usar a média:"
   ]
  },
  {
   "cell_type": "code",
   "execution_count": null,
   "metadata": {
    "id": "zPPY5B5Mi5qq"
   },
   "outputs": [],
   "source": [
    "def transforma_tweet(tweet):\n",
    "    # Usando a função get_vector, transforma a palavra no vetor de Embeddings\n",
    "    lista_vetores = [wv.wv.get_vector(x) for x in tweet.split()]\n",
    "    return np.sum(lista_vetores, axis=0)"
   ]
  },
  {
   "cell_type": "markdown",
   "metadata": {
    "id": "-Gon02JRi5qq"
   },
   "source": [
    "Com essa função criada, vamos aplicá-la com o método `.apply()` do Pandas ao nosso DataFrame original"
   ]
  },
  {
   "cell_type": "code",
   "execution_count": null,
   "metadata": {
    "id": "BU4bOnrni5qq",
    "outputId": "dc65ea3a-7135-4043-fdcc-f8a5989a02fc"
   },
   "outputs": [
    {
     "data": {
      "text/html": [
       "<div>\n",
       "<style scoped>\n",
       "    .dataframe tbody tr th:only-of-type {\n",
       "        vertical-align: middle;\n",
       "    }\n",
       "\n",
       "    .dataframe tbody tr th {\n",
       "        vertical-align: top;\n",
       "    }\n",
       "\n",
       "    .dataframe thead th {\n",
       "        text-align: right;\n",
       "    }\n",
       "</style>\n",
       "<table border=\"1\" class=\"dataframe\">\n",
       "  <thead>\n",
       "    <tr style=\"text-align: right;\">\n",
       "      <th></th>\n",
       "      <th>embedding_1</th>\n",
       "      <th>embedding_2</th>\n",
       "      <th>embedding_3</th>\n",
       "      <th>embedding_4</th>\n",
       "      <th>embedding_5</th>\n",
       "      <th>embedding_6</th>\n",
       "      <th>embedding_7</th>\n",
       "      <th>embedding_8</th>\n",
       "      <th>embedding_9</th>\n",
       "      <th>embedding_10</th>\n",
       "      <th>tweet</th>\n",
       "      <th>sentimento_tweet</th>\n",
       "    </tr>\n",
       "  </thead>\n",
       "  <tbody>\n",
       "    <tr>\n",
       "      <th>0</th>\n",
       "      <td>0.392276</td>\n",
       "      <td>-1.124802</td>\n",
       "      <td>0.483117</td>\n",
       "      <td>-0.612611</td>\n",
       "      <td>1.181861</td>\n",
       "      <td>0.656873</td>\n",
       "      <td>1.977737</td>\n",
       "      <td>0.683656</td>\n",
       "      <td>-1.775409</td>\n",
       "      <td>-0.606768</td>\n",
       "      <td>gato beija queixo nada</td>\n",
       "      <td>Negativo</td>\n",
       "    </tr>\n",
       "    <tr>\n",
       "      <th>1</th>\n",
       "      <td>1.275719</td>\n",
       "      <td>-3.353176</td>\n",
       "      <td>2.104879</td>\n",
       "      <td>-2.144978</td>\n",
       "      <td>3.764331</td>\n",
       "      <td>1.292598</td>\n",
       "      <td>6.545410</td>\n",
       "      <td>3.052709</td>\n",
       "      <td>-6.270268</td>\n",
       "      <td>-2.478683</td>\n",
       "      <td>acho app música pifou não quer baixar nenhuma</td>\n",
       "      <td>Negativo</td>\n",
       "    </tr>\n",
       "    <tr>\n",
       "      <th>2</th>\n",
       "      <td>1.409090</td>\n",
       "      <td>-3.437270</td>\n",
       "      <td>2.773641</td>\n",
       "      <td>-1.744473</td>\n",
       "      <td>3.114618</td>\n",
       "      <td>1.179414</td>\n",
       "      <td>5.451665</td>\n",
       "      <td>3.036403</td>\n",
       "      <td>-5.503507</td>\n",
       "      <td>-1.870184</td>\n",
       "      <td>Bom Dia Mais Dia São September 24 2018 at 07:3...</td>\n",
       "      <td>Positivo</td>\n",
       "    </tr>\n",
       "    <tr>\n",
       "      <th>3</th>\n",
       "      <td>0.387580</td>\n",
       "      <td>-1.083244</td>\n",
       "      <td>0.297804</td>\n",
       "      <td>-0.369639</td>\n",
       "      <td>0.920514</td>\n",
       "      <td>0.264785</td>\n",
       "      <td>1.362826</td>\n",
       "      <td>0.647262</td>\n",
       "      <td>-1.628318</td>\n",
       "      <td>-0.382639</td>\n",
       "      <td>cuidem príncipes amo</td>\n",
       "      <td>Negativo</td>\n",
       "    </tr>\n",
       "    <tr>\n",
       "      <th>4</th>\n",
       "      <td>5.080564</td>\n",
       "      <td>-11.936690</td>\n",
       "      <td>9.328081</td>\n",
       "      <td>-7.408183</td>\n",
       "      <td>13.143221</td>\n",
       "      <td>5.371646</td>\n",
       "      <td>23.933271</td>\n",
       "      <td>11.459881</td>\n",
       "      <td>-23.710945</td>\n",
       "      <td>-9.444567</td>\n",
       "      <td>O pai sabe nome jungkook jimin aí toda vez fal...</td>\n",
       "      <td>Negativo</td>\n",
       "    </tr>\n",
       "  </tbody>\n",
       "</table>\n",
       "</div>"
      ],
      "text/plain": [
       "   embedding_1  embedding_2  embedding_3  embedding_4  embedding_5  \\\n",
       "0     0.392276    -1.124802     0.483117    -0.612611     1.181861   \n",
       "1     1.275719    -3.353176     2.104879    -2.144978     3.764331   \n",
       "2     1.409090    -3.437270     2.773641    -1.744473     3.114618   \n",
       "3     0.387580    -1.083244     0.297804    -0.369639     0.920514   \n",
       "4     5.080564   -11.936690     9.328081    -7.408183    13.143221   \n",
       "\n",
       "   embedding_6  embedding_7  embedding_8  embedding_9  embedding_10  \\\n",
       "0     0.656873     1.977737     0.683656    -1.775409     -0.606768   \n",
       "1     1.292598     6.545410     3.052709    -6.270268     -2.478683   \n",
       "2     1.179414     5.451665     3.036403    -5.503507     -1.870184   \n",
       "3     0.264785     1.362826     0.647262    -1.628318     -0.382639   \n",
       "4     5.371646    23.933271    11.459881   -23.710945     -9.444567   \n",
       "\n",
       "                                               tweet sentimento_tweet  \n",
       "0                             gato beija queixo nada         Negativo  \n",
       "1      acho app música pifou não quer baixar nenhuma         Negativo  \n",
       "2  Bom Dia Mais Dia São September 24 2018 at 07:3...         Positivo  \n",
       "3                               cuidem príncipes amo         Negativo  \n",
       "4  O pai sabe nome jungkook jimin aí toda vez fal...         Negativo  "
      ]
     },
     "execution_count": 65,
     "metadata": {},
     "output_type": "execute_result"
    }
   ],
   "source": [
    "# Aplicando sobre os nossos tweets\n",
    "vetores_embeddings = dados.texto_final.apply(transforma_tweet)\n",
    "\n",
    "# Criando um Dataframe com os resultados\n",
    "df_embeddings = pd.DataFrame.from_dict(\n",
    "    dict(zip(vetores_embeddings.index, vetores_embeddings.values))\n",
    ").T\n",
    "# Definindo os nomes das colunas\n",
    "df_embeddings.columns = [\"embedding_\" + str(i) for i in range(1, 11)]\n",
    "\n",
    "# Vamos também trazer o tweet original e o sentimento\n",
    "df_embeddings[\"tweet\"] = dados.texto_final\n",
    "df_embeddings[\"sentimento_tweet\"] = dados.sentiment\n",
    "\n",
    "df_embeddings.head()"
   ]
  },
  {
   "cell_type": "markdown",
   "metadata": {
    "id": "s_edB3PQi5qq"
   },
   "source": [
    "### 3.3 Treinando um modelo com embeddings"
   ]
  },
  {
   "cell_type": "markdown",
   "metadata": {
    "id": "pTymfS4Ei5qq"
   },
   "source": [
    "Agora que temos todos os `tweets` representados na forma de vetores, podemos usar novamente alguns modelos para avaliar qual deles prevê melhor o sentimento de cada tweet"
   ]
  },
  {
   "cell_type": "code",
   "execution_count": null,
   "metadata": {
    "id": "GCKvKW3yi5qq"
   },
   "outputs": [],
   "source": [
    "# Separando os dados em X e y\n",
    "X_emb = df_embeddings[df_embeddings.columns[:10]]\n",
    "y_emb = df_embeddings.sentimento_tweet\n",
    "\n",
    "X_train_emb, X_test_emb, y_train_emb, y_test_emb = train_test_split(\n",
    "    X_emb, y_emb, test_size=0.2, stratify=y_emb\n",
    ")"
   ]
  },
  {
   "cell_type": "code",
   "execution_count": null,
   "metadata": {
    "scrolled": true,
    "id": "kc0XA_Pvi5qr",
    "outputId": "d9d6f541-28af-43f7-bc7a-722339b8d62b"
   },
   "outputs": [
    {
     "name": "stdout",
     "output_type": "stream",
     "text": [
      "ROC AUC - Logística: 0.718\n",
      "ROC AUC - Árvore: 0.653\n",
      "ROC AUC - RandomForest: 0.702\n",
      "ROC AUC - LGBM: 0.709\n"
     ]
    }
   ],
   "source": [
    "modelos_teste = {\n",
    "    \"Logística\": LogisticRegression(),\n",
    "    \"Árvore\": DecisionTreeClassifier(max_depth=10),\n",
    "    \"RandomForest\": RandomForestClassifier(max_depth=10),\n",
    "    \"LGBM\": LGBMClassifier(),\n",
    "}\n",
    "\n",
    "# Treinando cada modelo e avaliando métrica sobre conjuntos de validação\n",
    "for nome, modelo in modelos_teste.items():\n",
    "    metrica = cross_val_score(\n",
    "        modelo, X_train_emb, y_train_emb, cv=3, scoring=\"roc_auc\"\n",
    "    ).mean()\n",
    "    print(\"ROC AUC - \" + nome + \": {:.3f}\".format(metrica))"
   ]
  },
  {
   "cell_type": "markdown",
   "metadata": {
    "id": "OhNkeqfki5qr"
   },
   "source": [
    "Não conseguimos superar uma performance mais simples como a da Regressão Logística usando Bag of Words, mas até que faz sentido, dado que 'comprimimos' a informação de todas as sentenças em apenas 10 dimensões. "
   ]
  },
  {
   "cell_type": "markdown",
   "metadata": {
    "id": "7VmT-pdEi5qr"
   },
   "source": [
    "## 4. Conclusões!"
   ]
  },
  {
   "cell_type": "markdown",
   "metadata": {
    "id": "dnJLJ6Lsi5qr"
   },
   "source": [
    "Falamos bastante coisa sobre análise de textos! \n",
    "Para ajudar, vamos relembrar as principais técnicas que aprendemos:\n",
    "\n",
    "<center> <img src=\"https://i.gifer.com/2jv.gif\" width=1200>"
   ]
  },
  {
   "cell_type": "markdown",
   "metadata": {
    "id": "7UpKB8TTi5qr"
   },
   "source": [
    "* Textos são sequências de palavras, e para interpretá-los como features, uma das técnicas mais utilizadas é considerar `n-gramas` de palavras (conjuntos de uma, duas, três palavras, etc. como elementos isolados\n",
    "* Vimos duas formas diferentes de tratar n-gramas: contando as ocorrências de palavras em cada frase/tweet usando o `CountVectorizer` ou também considerando a frequência relativa de cada palavra em todo o dataset com o `TfidfVectorizer`. Ambos são abordagens do estilo `bag of words` ('saco' de palavras) e pertencem ao pacote `NLTK`\n",
    "* Há diversos tratamentos que podemos fazer para tratar textos, como remover `stopwords` (palavras comuns e não importantes para o significado), pontuações e até mesmo extrair apenas o núcleo de cada palavra com o `Stemming`\n",
    "* Podemos também criar representações vetoriais de palavras e até mesmo de tweets usando `word embeddings`, que são algoritmos de Redes Neurais que capturam significados de palavras similares; com eles, podemos treinar novos modelos ou até mesmo reduzir a dimensionalidade do nosso dataset"
   ]
  },
  {
   "cell_type": "markdown",
   "metadata": {
    "id": "bxXOgTsHi5qr"
   },
   "source": [
    "## 5. Algumas referências interessantes"
   ]
  },
  {
   "cell_type": "markdown",
   "metadata": {
    "id": "tpdP-yYsi5qs"
   },
   "source": [
    "* Em NLP temos diversas bibliotecas disponíveis, não apenas o `NLTK`, segue a documentação de algumas delas:\n",
    " * [Gensim](https://radimrehurek.com/gensim/auto_examples/index.html) -> Útil para embeddings e topic modelling\n",
    " * [spaCy](https://spacy.io/) -> Funções parecidas com a do NLTK, com módulos mais refinados de stopwords e NER\n",
    " * [TextBlob](https://textblob.readthedocs.io/en/dev/) -> Representação gráfica de textos\n",
    " \n",
    "* Não discutimos profundamente RegEx aqui porque é um assunto que é mais treino do que exposição, então vale mais a pena treinar em alguns sites legais para isso ou usar sempre que necessário. Sugiro colocar esses links na sua barra de favoritos!:\n",
    " * https://regexr.com/\n",
    " * https://www.regextester.com/\n",
    "* Este guia [aqui](https://towardsdatascience.com/word-embeddings-intuition-behind-the-vector-representation-of-the-words-7e4eb2410bba) é uma ótima introdução para o entendimento do que são embeddings e de como são treinados em redes neurais\n",
    "* Para quem tem interesse em se aprofundar neste assunto, há grupos de pesquisa universitários que estão trabalhando em Chatbots no estado da arte. Este grupo da iniciativa [C4AI](https://c4ai.inova.usp.br/pt/keml-pt/) da USP está construindo chatbots de perguntas e respostas baseados em embeddings não muito diferentes dos que vimos"
   ]
  },
  {
   "cell_type": "markdown",
   "metadata": {
    "id": "G-oY0kiCi5qs"
   },
   "source": [
    "# <center> Muito obrigado a todos!!!"
   ]
  }
 ],
 "metadata": {
  "celltoolbar": "Slideshow",
  "kernelspec": {
   "display_name": "Python 3",
   "language": "python",
   "name": "python3"
  },
  "language_info": {
   "codemirror_mode": {
    "name": "ipython",
    "version": 3
   },
   "file_extension": ".py",
   "mimetype": "text/x-python",
   "name": "python",
   "nbconvert_exporter": "python",
   "pygments_lexer": "ipython3",
   "version": "3.8.5"
  },
  "colab": {
   "name": "20210713_introducaonlptweets.ipynb",
   "provenance": []
  }
 },
 "nbformat": 4,
 "nbformat_minor": 0
}
