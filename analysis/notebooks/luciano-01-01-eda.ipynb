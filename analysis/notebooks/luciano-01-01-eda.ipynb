{
 "cells": [
  {
   "cell_type": "code",
   "execution_count": 1,
   "metadata": {},
   "outputs": [],
   "source": [
    "import pandas as pd\n",
    "import matplotlib.pyplot as plt\n",
    "import seaborn as sns\n",
    "from nltk.tokenize import word_tokenize\n",
    "from collections import Counter\n",
    "import numpy as np"
   ]
  },
  {
   "cell_type": "code",
   "execution_count": 2,
   "metadata": {},
   "outputs": [],
   "source": [
    "# data\n",
    "df_to_eda = pd.read_csv(\"data/curated/df_to_eda.csv\")"
   ]
  },
  {
   "cell_type": "code",
   "execution_count": 3,
   "metadata": {},
   "outputs": [
    {
     "data": {
      "text/plain": [
       "Médio & Pré-Vestibular    35307\n",
       "Fundamental II            33390\n",
       "Fundamental I             18144\n",
       "Name: school_step, dtype: int64"
      ]
     },
     "execution_count": 3,
     "metadata": {},
     "output_type": "execute_result"
    }
   ],
   "source": [
    "# how much data we have on school_step\n",
    "df_to_eda[\"school_step\"].value_counts()"
   ]
  },
  {
   "cell_type": "markdown",
   "metadata": {},
   "source": [
    "Como podemos ver aqui, existe uma quantidade bem interessante entre as 3 classes que iremos prever. No FUND-I temos um pouco mais da metade das outras duas classes, mas acreditamos que não será um problema."
   ]
  },
  {
   "cell_type": "markdown",
   "metadata": {},
   "source": [
    "# Tamanho das sentenças"
   ]
  },
  {
   "cell_type": "code",
   "execution_count": 4,
   "metadata": {},
   "outputs": [
    {
     "name": "stdout",
     "output_type": "stream",
     "text": [
      "As questões vão de 1 à 62275 caracteres por questão\n",
      "O valor mediano e médio de caracteres por questão é de 161 e de 291, respectivamente.\n"
     ]
    },
    {
     "data": {
      "text/plain": [
       "<AxesSubplot:xlabel='question_c6', ylabel='Count'>"
      ]
     },
     "execution_count": 4,
     "metadata": {},
     "output_type": "execute_result"
    },
    {
     "data": {
      "image/png": "[encoded data removed]",
      "text/plain": [
       "<Figure size 1440x720 with 1 Axes>"
      ]
     },
     "metadata": {
      "needs_background": "light"
     },
     "output_type": "display_data"
    }
   ],
   "source": [
    "max = df_to_eda['question_c6'].str.len().max()\n",
    "min = df_to_eda['question_c6'].str.len().min()\n",
    "median = df_to_eda['question_c6'].str.len().median()\n",
    "mean = df_to_eda['question_c6'].str.len().mean()\n",
    "\n",
    "print('As questões vão de %d à %d caracteres por questão' % (min, max))\n",
    "print('O valor mediano e médio de caracteres por questão é de %d e de %d, respectivamente.' %\n",
    "(median, mean))\n",
    "\n",
    "fig, ax = plt.subplots(figsize=(20, 10))\n",
    "\n",
    "sns.histplot(df_to_eda['question_c6'].str.len(), ax = ax)"
   ]
  },
  {
   "cell_type": "markdown",
   "metadata": {},
   "source": [
    "Curiosamente temos muitas sentenças de tamanho 1. Provavelmente esses itens não representam nada e precisam ser excluídos."
   ]
  },
  {
   "cell_type": "code",
   "execution_count": 5,
   "metadata": {},
   "outputs": [
    {
     "data": {
      "text/plain": [
       "80830        1\n",
       "4024         1\n",
       "48188        1\n",
       "78086        1\n",
       "75771        1\n",
       "         ...  \n",
       "58817    60452\n",
       "69735    61967\n",
       "79472    62275\n",
       "23050    62275\n",
       "42658    62275\n",
       "Name: question_c6, Length: 86841, dtype: int64"
      ]
     },
     "execution_count": 5,
     "metadata": {},
     "output_type": "execute_result"
    }
   ],
   "source": [
    "df_to_eda['question_c6'].astype(\"str\").apply(len).sort_values()"
   ]
  },
  {
   "cell_type": "code",
   "execution_count": 6,
   "metadata": {},
   "outputs": [
    {
     "data": {
      "text/html": [
       "<div>\n",
       "<style scoped>\n",
       "    .dataframe tbody tr th:only-of-type {\n",
       "        vertical-align: middle;\n",
       "    }\n",
       "\n",
       "    .dataframe tbody tr th {\n",
       "        vertical-align: top;\n",
       "    }\n",
       "\n",
       "    .dataframe thead th {\n",
       "        text-align: right;\n",
       "    }\n",
       "</style>\n",
       "<table border=\"1\" class=\"dataframe\">\n",
       "  <thead>\n",
       "    <tr style=\"text-align: right;\">\n",
       "      <th></th>\n",
       "      <th>question_c6</th>\n",
       "      <th>bulletType</th>\n",
       "      <th>school_step</th>\n",
       "    </tr>\n",
       "  </thead>\n",
       "  <tbody>\n",
       "    <tr>\n",
       "      <th>4024</th>\n",
       "      <td>p</td>\n",
       "      <td>4</td>\n",
       "      <td>Médio &amp; Pré-Vestibular</td>\n",
       "    </tr>\n",
       "    <tr>\n",
       "      <th>7408</th>\n",
       "      <td>c</td>\n",
       "      <td>4</td>\n",
       "      <td>Fundamental II</td>\n",
       "    </tr>\n",
       "    <tr>\n",
       "      <th>10679</th>\n",
       "      <td>p</td>\n",
       "      <td>4</td>\n",
       "      <td>Fundamental II</td>\n",
       "    </tr>\n",
       "    <tr>\n",
       "      <th>11814</th>\n",
       "      <td>p</td>\n",
       "      <td>4</td>\n",
       "      <td>Médio &amp; Pré-Vestibular</td>\n",
       "    </tr>\n",
       "    <tr>\n",
       "      <th>13716</th>\n",
       "      <td>r</td>\n",
       "      <td>2</td>\n",
       "      <td>Fundamental II</td>\n",
       "    </tr>\n",
       "    <tr>\n",
       "      <th>28603</th>\n",
       "      <td>x</td>\n",
       "      <td>2</td>\n",
       "      <td>Médio &amp; Pré-Vestibular</td>\n",
       "    </tr>\n",
       "    <tr>\n",
       "      <th>32239</th>\n",
       "      <td>x</td>\n",
       "      <td>2</td>\n",
       "      <td>Médio &amp; Pré-Vestibular</td>\n",
       "    </tr>\n",
       "    <tr>\n",
       "      <th>37554</th>\n",
       "      <td>r</td>\n",
       "      <td>4</td>\n",
       "      <td>Fundamental II</td>\n",
       "    </tr>\n",
       "    <tr>\n",
       "      <th>43794</th>\n",
       "      <td>p</td>\n",
       "      <td>4</td>\n",
       "      <td>Médio &amp; Pré-Vestibular</td>\n",
       "    </tr>\n",
       "    <tr>\n",
       "      <th>44475</th>\n",
       "      <td>p</td>\n",
       "      <td>4</td>\n",
       "      <td>Médio &amp; Pré-Vestibular</td>\n",
       "    </tr>\n",
       "    <tr>\n",
       "      <th>45109</th>\n",
       "      <td>p</td>\n",
       "      <td>4</td>\n",
       "      <td>Fundamental II</td>\n",
       "    </tr>\n",
       "    <tr>\n",
       "      <th>46191</th>\n",
       "      <td>x</td>\n",
       "      <td>2</td>\n",
       "      <td>Médio &amp; Pré-Vestibular</td>\n",
       "    </tr>\n",
       "    <tr>\n",
       "      <th>48188</th>\n",
       "      <td>p</td>\n",
       "      <td>4</td>\n",
       "      <td>Fundamental II</td>\n",
       "    </tr>\n",
       "    <tr>\n",
       "      <th>49806</th>\n",
       "      <td>x</td>\n",
       "      <td>2</td>\n",
       "      <td>Médio &amp; Pré-Vestibular</td>\n",
       "    </tr>\n",
       "    <tr>\n",
       "      <th>57652</th>\n",
       "      <td>p</td>\n",
       "      <td>4</td>\n",
       "      <td>Fundamental II</td>\n",
       "    </tr>\n",
       "    <tr>\n",
       "      <th>61540</th>\n",
       "      <td>p</td>\n",
       "      <td>4</td>\n",
       "      <td>Fundamental II</td>\n",
       "    </tr>\n",
       "    <tr>\n",
       "      <th>66526</th>\n",
       "      <td>x</td>\n",
       "      <td>2</td>\n",
       "      <td>Médio &amp; Pré-Vestibular</td>\n",
       "    </tr>\n",
       "    <tr>\n",
       "      <th>69952</th>\n",
       "      <td>x</td>\n",
       "      <td>2</td>\n",
       "      <td>Médio &amp; Pré-Vestibular</td>\n",
       "    </tr>\n",
       "    <tr>\n",
       "      <th>71817</th>\n",
       "      <td>p</td>\n",
       "      <td>4</td>\n",
       "      <td>Fundamental II</td>\n",
       "    </tr>\n",
       "    <tr>\n",
       "      <th>71909</th>\n",
       "      <td>x</td>\n",
       "      <td>2</td>\n",
       "      <td>Médio &amp; Pré-Vestibular</td>\n",
       "    </tr>\n",
       "    <tr>\n",
       "      <th>75771</th>\n",
       "      <td>x</td>\n",
       "      <td>2</td>\n",
       "      <td>Médio &amp; Pré-Vestibular</td>\n",
       "    </tr>\n",
       "    <tr>\n",
       "      <th>78086</th>\n",
       "      <td>p</td>\n",
       "      <td>4</td>\n",
       "      <td>Médio &amp; Pré-Vestibular</td>\n",
       "    </tr>\n",
       "    <tr>\n",
       "      <th>78157</th>\n",
       "      <td>z</td>\n",
       "      <td>4</td>\n",
       "      <td>Fundamental II</td>\n",
       "    </tr>\n",
       "    <tr>\n",
       "      <th>79571</th>\n",
       "      <td>j</td>\n",
       "      <td>4</td>\n",
       "      <td>Fundamental II</td>\n",
       "    </tr>\n",
       "    <tr>\n",
       "      <th>80830</th>\n",
       "      <td>l</td>\n",
       "      <td>4</td>\n",
       "      <td>Fundamental II</td>\n",
       "    </tr>\n",
       "  </tbody>\n",
       "</table>\n",
       "</div>"
      ],
      "text/plain": [
       "      question_c6  bulletType             school_step\n",
       "4024            p           4  Médio & Pré-Vestibular\n",
       "7408            c           4          Fundamental II\n",
       "10679           p           4          Fundamental II\n",
       "11814           p           4  Médio & Pré-Vestibular\n",
       "13716           r           2          Fundamental II\n",
       "28603           x           2  Médio & Pré-Vestibular\n",
       "32239           x           2  Médio & Pré-Vestibular\n",
       "37554           r           4          Fundamental II\n",
       "43794           p           4  Médio & Pré-Vestibular\n",
       "44475           p           4  Médio & Pré-Vestibular\n",
       "45109           p           4          Fundamental II\n",
       "46191           x           2  Médio & Pré-Vestibular\n",
       "48188           p           4          Fundamental II\n",
       "49806           x           2  Médio & Pré-Vestibular\n",
       "57652           p           4          Fundamental II\n",
       "61540           p           4          Fundamental II\n",
       "66526           x           2  Médio & Pré-Vestibular\n",
       "69952           x           2  Médio & Pré-Vestibular\n",
       "71817           p           4          Fundamental II\n",
       "71909           x           2  Médio & Pré-Vestibular\n",
       "75771           x           2  Médio & Pré-Vestibular\n",
       "78086           p           4  Médio & Pré-Vestibular\n",
       "78157           z           4          Fundamental II\n",
       "79571           j           4          Fundamental II\n",
       "80830           l           4          Fundamental II"
      ]
     },
     "execution_count": 6,
     "metadata": {},
     "output_type": "execute_result"
    }
   ],
   "source": [
    "# looking at those items with sentence length of 1\n",
    "df_to_eda[df_to_eda[\"question_c6\"].astype(\"str\").apply(len) == 1]"
   ]
  },
  {
   "cell_type": "code",
   "execution_count": 7,
   "metadata": {},
   "outputs": [],
   "source": [
    "# filtering length 1 sentence size items\n",
    "df_c1 = df_to_eda[df_to_eda[\"question_c6\"].astype(\"str\").apply(len) != 1]\n"
   ]
  },
  {
   "cell_type": "code",
   "execution_count": 8,
   "metadata": {},
   "outputs": [
    {
     "data": {
      "text/plain": [
       "67100        2\n",
       "14616        2\n",
       "47504        2\n",
       "57554        2\n",
       "50341        2\n",
       "         ...  \n",
       "58817    60452\n",
       "69735    61967\n",
       "79472    62275\n",
       "42658    62275\n",
       "23050    62275\n",
       "Name: question_c6, Length: 86816, dtype: int64"
      ]
     },
     "execution_count": 8,
     "metadata": {},
     "output_type": "execute_result"
    }
   ],
   "source": [
    "# let's check the length of these sentences again\n",
    "df_c1['question_c6'].astype(\"str\").apply(len).sort_values()\n"
   ]
  },
  {
   "cell_type": "code",
   "execution_count": 9,
   "metadata": {},
   "outputs": [
    {
     "name": "stderr",
     "output_type": "stream",
     "text": [
      "/tmp/ipykernel_66856/2090979127.py:1: SettingWithCopyWarning: \n",
      "A value is trying to be set on a copy of a slice from a DataFrame.\n",
      "Try using .loc[row_indexer,col_indexer] = value instead\n",
      "\n",
      "See the caveats in the documentation: https://pandas.pydata.org/pandas-docs/stable/user_guide/indexing.html#returning-a-view-versus-a-copy\n",
      "  df_c1[\"sentence_len\"] = df_c1[\"question_c6\"].astype(\"str\").apply(len)\n"
     ]
    }
   ],
   "source": [
    "df_c1[\"sentence_len\"] = df_c1[\"question_c6\"].astype(\"str\").apply(len)"
   ]
  },
  {
   "cell_type": "code",
   "execution_count": 10,
   "metadata": {},
   "outputs": [
    {
     "data": {
      "text/html": [
       "<div>\n",
       "<style scoped>\n",
       "    .dataframe tbody tr th:only-of-type {\n",
       "        vertical-align: middle;\n",
       "    }\n",
       "\n",
       "    .dataframe tbody tr th {\n",
       "        vertical-align: top;\n",
       "    }\n",
       "\n",
       "    .dataframe thead th {\n",
       "        text-align: right;\n",
       "    }\n",
       "</style>\n",
       "<table border=\"1\" class=\"dataframe\">\n",
       "  <thead>\n",
       "    <tr style=\"text-align: right;\">\n",
       "      <th></th>\n",
       "      <th>question_c6</th>\n",
       "      <th>bulletType</th>\n",
       "      <th>school_step</th>\n",
       "      <th>sentence_len</th>\n",
       "    </tr>\n",
       "  </thead>\n",
       "  <tbody>\n",
       "    <tr>\n",
       "      <th>0</th>\n",
       "      <td>base conhecimentos sobre compositor john cage ...</td>\n",
       "      <td>2</td>\n",
       "      <td>Fundamental II</td>\n",
       "      <td>345</td>\n",
       "    </tr>\n",
       "    <tr>\n",
       "      <th>1</th>\n",
       "      <td>achar número somado igual inverso equações rep...</td>\n",
       "      <td>2</td>\n",
       "      <td>Fundamental II</td>\n",
       "      <td>62</td>\n",
       "    </tr>\n",
       "    <tr>\n",
       "      <th>2</th>\n",
       "      <td>complete espaços abaixo artigos determinados i...</td>\n",
       "      <td>4</td>\n",
       "      <td>Fundamental II</td>\n",
       "      <td>397</td>\n",
       "    </tr>\n",
       "    <tr>\n",
       "      <th>3</th>\n",
       "      <td>chuva ácida fenômeno provocado poluição atmosf...</td>\n",
       "      <td>2</td>\n",
       "      <td>Fundamental II</td>\n",
       "      <td>97</td>\n",
       "    </tr>\n",
       "    <tr>\n",
       "      <th>4</th>\n",
       "      <td>anexe nesse espaço foto ilustração</td>\n",
       "      <td>4</td>\n",
       "      <td>Fundamental I</td>\n",
       "      <td>34</td>\n",
       "    </tr>\n",
       "    <tr>\n",
       "      <th>...</th>\n",
       "      <td>...</td>\n",
       "      <td>...</td>\n",
       "      <td>...</td>\n",
       "      <td>...</td>\n",
       "    </tr>\n",
       "    <tr>\n",
       "      <th>86836</th>\n",
       "      <td>leia reportagem responda questão sobre pergunt...</td>\n",
       "      <td>2</td>\n",
       "      <td>Fundamental I</td>\n",
       "      <td>100</td>\n",
       "    </tr>\n",
       "    <tr>\n",
       "      <th>86837</th>\n",
       "      <td>responder questão leia trecho conto prefácio h...</td>\n",
       "      <td>2</td>\n",
       "      <td>Médio &amp; Pré-Vestibular</td>\n",
       "      <td>1424</td>\n",
       "    </tr>\n",
       "    <tr>\n",
       "      <th>86838</th>\n",
       "      <td>pais surgiu skate</td>\n",
       "      <td>2</td>\n",
       "      <td>Fundamental II</td>\n",
       "      <td>17</td>\n",
       "    </tr>\n",
       "    <tr>\n",
       "      <th>86839</th>\n",
       "      <td>machos fêmeas mosquitos gênero aedes vivem loc...</td>\n",
       "      <td>2</td>\n",
       "      <td>Fundamental II</td>\n",
       "      <td>405</td>\n",
       "    </tr>\n",
       "    <tr>\n",
       "      <th>86840</th>\n",
       "      <td>observe tabela veja quantos lanches vendidos t...</td>\n",
       "      <td>2</td>\n",
       "      <td>Fundamental I</td>\n",
       "      <td>122</td>\n",
       "    </tr>\n",
       "  </tbody>\n",
       "</table>\n",
       "<p>86816 rows × 4 columns</p>\n",
       "</div>"
      ],
      "text/plain": [
       "                                             question_c6  bulletType  \\\n",
       "0      base conhecimentos sobre compositor john cage ...           2   \n",
       "1      achar número somado igual inverso equações rep...           2   \n",
       "2      complete espaços abaixo artigos determinados i...           4   \n",
       "3      chuva ácida fenômeno provocado poluição atmosf...           2   \n",
       "4                     anexe nesse espaço foto ilustração           4   \n",
       "...                                                  ...         ...   \n",
       "86836  leia reportagem responda questão sobre pergunt...           2   \n",
       "86837  responder questão leia trecho conto prefácio h...           2   \n",
       "86838                                  pais surgiu skate           2   \n",
       "86839  machos fêmeas mosquitos gênero aedes vivem loc...           2   \n",
       "86840  observe tabela veja quantos lanches vendidos t...           2   \n",
       "\n",
       "                  school_step  sentence_len  \n",
       "0              Fundamental II           345  \n",
       "1              Fundamental II            62  \n",
       "2              Fundamental II           397  \n",
       "3              Fundamental II            97  \n",
       "4               Fundamental I            34  \n",
       "...                       ...           ...  \n",
       "86836           Fundamental I           100  \n",
       "86837  Médio & Pré-Vestibular          1424  \n",
       "86838          Fundamental II            17  \n",
       "86839          Fundamental II           405  \n",
       "86840           Fundamental I           122  \n",
       "\n",
       "[86816 rows x 4 columns]"
      ]
     },
     "execution_count": 10,
     "metadata": {},
     "output_type": "execute_result"
    }
   ],
   "source": [
    "df_c1"
   ]
  },
  {
   "cell_type": "markdown",
   "metadata": {},
   "source": [
    "Sabemos que apesar de termo removido as stopwords, existem palavras específicas desse contexto que não representam muito para o problema que temos. Porém, para melhor visualizá-las, vamos plotar uma wordcloud em todas as sentenças do dataset."
   ]
  },
  {
   "cell_type": "code",
   "execution_count": 11,
   "metadata": {},
   "outputs": [],
   "source": [
    "# plot wordcloud\n",
    "\n",
    "tokens = []\n",
    "\n",
    "text_list = df_c1[\"question_c6\"].values\n",
    "_ = [tokens.extend(word_tokenize(str(text))) for text in text_list]\n"
   ]
  },
  {
   "cell_type": "code",
   "execution_count": 12,
   "metadata": {},
   "outputs": [],
   "source": [
    "counting_tokens = Counter(tokens)"
   ]
  },
  {
   "cell_type": "code",
   "execution_count": 13,
   "metadata": {},
   "outputs": [],
   "source": [
    "count_tokens_df = pd.DataFrame({\"words\": counting_tokens.keys(), \"count\": counting_tokens.values()})"
   ]
  },
  {
   "cell_type": "code",
   "execution_count": 14,
   "metadata": {},
   "outputs": [
    {
     "data": {
      "text/html": [
       "<div>\n",
       "<style scoped>\n",
       "    .dataframe tbody tr th:only-of-type {\n",
       "        vertical-align: middle;\n",
       "    }\n",
       "\n",
       "    .dataframe tbody tr th {\n",
       "        vertical-align: top;\n",
       "    }\n",
       "\n",
       "    .dataframe thead th {\n",
       "        text-align: right;\n",
       "    }\n",
       "</style>\n",
       "<table border=\"1\" class=\"dataframe\">\n",
       "  <thead>\n",
       "    <tr style=\"text-align: right;\">\n",
       "      <th></th>\n",
       "      <th>words</th>\n",
       "      <th>count</th>\n",
       "    </tr>\n",
       "  </thead>\n",
       "  <tbody>\n",
       "    <tr>\n",
       "      <th>703</th>\n",
       "      <td>the</td>\n",
       "      <td>21275</td>\n",
       "    </tr>\n",
       "    <tr>\n",
       "      <th>266</th>\n",
       "      <td>texto</td>\n",
       "      <td>16179</td>\n",
       "    </tr>\n",
       "    <tr>\n",
       "      <th>2</th>\n",
       "      <td>sobre</td>\n",
       "      <td>15918</td>\n",
       "    </tr>\n",
       "    <tr>\n",
       "      <th>131</th>\n",
       "      <td>ser</td>\n",
       "      <td>12483</td>\n",
       "    </tr>\n",
       "    <tr>\n",
       "      <th>39</th>\n",
       "      <td>alternativa</td>\n",
       "      <td>11670</td>\n",
       "    </tr>\n",
       "    <tr>\n",
       "      <th>...</th>\n",
       "      <td>...</td>\n",
       "      <td>...</td>\n",
       "    </tr>\n",
       "    <tr>\n",
       "      <th>95966</th>\n",
       "      <td>jcnet</td>\n",
       "      <td>1</td>\n",
       "    </tr>\n",
       "    <tr>\n",
       "      <th>95967</th>\n",
       "      <td>sempredadores</td>\n",
       "      <td>1</td>\n",
       "    </tr>\n",
       "    <tr>\n",
       "      <th>95968</th>\n",
       "      <td>avancam</td>\n",
       "      <td>1</td>\n",
       "    </tr>\n",
       "    <tr>\n",
       "      <th>22061</th>\n",
       "      <td>loosely</td>\n",
       "      <td>1</td>\n",
       "    </tr>\n",
       "    <tr>\n",
       "      <th>140518</th>\n",
       "      <td>id_subcategoria</td>\n",
       "      <td>1</td>\n",
       "    </tr>\n",
       "  </tbody>\n",
       "</table>\n",
       "<p>140519 rows × 2 columns</p>\n",
       "</div>"
      ],
      "text/plain": [
       "                  words  count\n",
       "703                 the  21275\n",
       "266               texto  16179\n",
       "2                 sobre  15918\n",
       "131                 ser  12483\n",
       "39          alternativa  11670\n",
       "...                 ...    ...\n",
       "95966             jcnet      1\n",
       "95967     sempredadores      1\n",
       "95968           avancam      1\n",
       "22061           loosely      1\n",
       "140518  id_subcategoria      1\n",
       "\n",
       "[140519 rows x 2 columns]"
      ]
     },
     "execution_count": 14,
     "metadata": {},
     "output_type": "execute_result"
    }
   ],
   "source": [
    "count_tokens_df.sort_values([\"count\"], ascending=False)"
   ]
  },
  {
   "cell_type": "code",
   "execution_count": 21,
   "metadata": {},
   "outputs": [
    {
     "data": {
      "text/plain": [
       "q_groups\n",
       "(0.999, 2.0]           75303\n",
       "(2.0, 3.0]             15736\n",
       "(9.0, 25.0]            13448\n",
       "(25.0, 378.0]          12616\n",
       "(3.0, 5.0]             11392\n",
       "(5.0, 9.0]             10619\n",
       "(378.0, 2454.122]       1264\n",
       "(2454.122, 21275.0]      141\n",
       "dtype: int64"
      ]
     },
     "execution_count": 21,
     "metadata": {},
     "output_type": "execute_result"
    }
   ],
   "source": [
    "count_tokens_df[\"q_groups\"] = pd.qcut(count_tokens_df[\"count\"], q=[.1, .5, .6, .7, .8, .9, .99, .999, 1])\n",
    "count_tokens_df.value_counts(\"q_groups\")"
   ]
  },
  {
   "cell_type": "code",
   "execution_count": 24,
   "metadata": {},
   "outputs": [
    {
     "data": {
      "text/html": [
       "<div>\n",
       "<style scoped>\n",
       "    .dataframe tbody tr th:only-of-type {\n",
       "        vertical-align: middle;\n",
       "    }\n",
       "\n",
       "    .dataframe tbody tr th {\n",
       "        vertical-align: top;\n",
       "    }\n",
       "\n",
       "    .dataframe thead th {\n",
       "        text-align: right;\n",
       "    }\n",
       "</style>\n",
       "<table border=\"1\" class=\"dataframe\">\n",
       "  <thead>\n",
       "    <tr style=\"text-align: right;\">\n",
       "      <th></th>\n",
       "      <th>words</th>\n",
       "      <th>count</th>\n",
       "      <th>q_groups</th>\n",
       "    </tr>\n",
       "  </thead>\n",
       "  <tbody>\n",
       "    <tr>\n",
       "      <th>0</th>\n",
       "      <td>base</td>\n",
       "      <td>4434</td>\n",
       "      <td>(2454.122, 21275.0]</td>\n",
       "    </tr>\n",
       "    <tr>\n",
       "      <th>1</th>\n",
       "      <td>conhecimentos</td>\n",
       "      <td>1632</td>\n",
       "      <td>(378.0, 2454.122]</td>\n",
       "    </tr>\n",
       "    <tr>\n",
       "      <th>2</th>\n",
       "      <td>sobre</td>\n",
       "      <td>15918</td>\n",
       "      <td>(2454.122, 21275.0]</td>\n",
       "    </tr>\n",
       "    <tr>\n",
       "      <th>3</th>\n",
       "      <td>compositor</td>\n",
       "      <td>71</td>\n",
       "      <td>(25.0, 378.0]</td>\n",
       "    </tr>\n",
       "    <tr>\n",
       "      <th>4</th>\n",
       "      <td>john</td>\n",
       "      <td>277</td>\n",
       "      <td>(25.0, 378.0]</td>\n",
       "    </tr>\n",
       "    <tr>\n",
       "      <th>...</th>\n",
       "      <td>...</td>\n",
       "      <td>...</td>\n",
       "      <td>...</td>\n",
       "    </tr>\n",
       "    <tr>\n",
       "      <th>140514</th>\n",
       "      <td>alunosonline</td>\n",
       "      <td>1</td>\n",
       "      <td>(0.999, 2.0]</td>\n",
       "    </tr>\n",
       "    <tr>\n",
       "      <th>140515</th>\n",
       "      <td>planetainvertebrados</td>\n",
       "      <td>1</td>\n",
       "      <td>(0.999, 2.0]</td>\n",
       "    </tr>\n",
       "    <tr>\n",
       "      <th>140516</th>\n",
       "      <td>especies_ver</td>\n",
       "      <td>1</td>\n",
       "      <td>(0.999, 2.0]</td>\n",
       "    </tr>\n",
       "    <tr>\n",
       "      <th>140517</th>\n",
       "      <td>id_categoria</td>\n",
       "      <td>1</td>\n",
       "      <td>(0.999, 2.0]</td>\n",
       "    </tr>\n",
       "    <tr>\n",
       "      <th>140518</th>\n",
       "      <td>id_subcategoria</td>\n",
       "      <td>1</td>\n",
       "      <td>(0.999, 2.0]</td>\n",
       "    </tr>\n",
       "  </tbody>\n",
       "</table>\n",
       "<p>140519 rows × 3 columns</p>\n",
       "</div>"
      ],
      "text/plain": [
       "                       words  count             q_groups\n",
       "0                       base   4434  (2454.122, 21275.0]\n",
       "1              conhecimentos   1632    (378.0, 2454.122]\n",
       "2                      sobre  15918  (2454.122, 21275.0]\n",
       "3                 compositor     71        (25.0, 378.0]\n",
       "4                       john    277        (25.0, 378.0]\n",
       "...                      ...    ...                  ...\n",
       "140514          alunosonline      1         (0.999, 2.0]\n",
       "140515  planetainvertebrados      1         (0.999, 2.0]\n",
       "140516          especies_ver      1         (0.999, 2.0]\n",
       "140517          id_categoria      1         (0.999, 2.0]\n",
       "140518       id_subcategoria      1         (0.999, 2.0]\n",
       "\n",
       "[140519 rows x 3 columns]"
      ]
     },
     "execution_count": 24,
     "metadata": {},
     "output_type": "execute_result"
    }
   ],
   "source": [
    "count_tokens_df[\"q_groups\"] = count_tokens_df[\"q_groups\"].astype(\"str\")\n",
    "count_tokens_df"
   ]
  },
  {
   "cell_type": "code",
   "execution_count": 27,
   "metadata": {},
   "outputs": [
    {
     "data": {
      "image/png": "[encoded data removed]",
      "text/plain": [
       "<Figure size 432x288 with 1 Axes>"
      ]
     },
     "metadata": {
      "needs_background": "light"
     },
     "output_type": "display_data"
    }
   ],
   "source": [
    "bins_to_plot = count_tokens_df[\"q_groups\"].value_counts().reset_index()\n",
    "_ = sns.barplot(x=\"q_groups\", y=\"index\", data=bins_to_plot)\n",
    "plt.show()"
   ]
  },
  {
   "cell_type": "markdown",
   "metadata": {},
   "source": [
    "Mais de 90% das palavras aparecem de 1 a 25 vezes, precisamos investigar essas palavras."
   ]
  },
  {
   "cell_type": "code",
   "execution_count": 30,
   "metadata": {},
   "outputs": [],
   "source": [
    "less_than_25_df = count_tokens_df[count_tokens_df[\"count\"] <= 25]"
   ]
  },
  {
   "cell_type": "code",
   "execution_count": 31,
   "metadata": {},
   "outputs": [
    {
     "data": {
      "text/html": [
       "<div>\n",
       "<style scoped>\n",
       "    .dataframe tbody tr th:only-of-type {\n",
       "        vertical-align: middle;\n",
       "    }\n",
       "\n",
       "    .dataframe tbody tr th {\n",
       "        vertical-align: top;\n",
       "    }\n",
       "\n",
       "    .dataframe thead th {\n",
       "        text-align: right;\n",
       "    }\n",
       "</style>\n",
       "<table border=\"1\" class=\"dataframe\">\n",
       "  <thead>\n",
       "    <tr style=\"text-align: right;\">\n",
       "      <th></th>\n",
       "      <th>words</th>\n",
       "      <th>count</th>\n",
       "      <th>q_groups</th>\n",
       "    </tr>\n",
       "  </thead>\n",
       "  <tbody>\n",
       "    <tr>\n",
       "      <th>5</th>\n",
       "      <td>cage</td>\n",
       "      <td>3</td>\n",
       "      <td>(2.0, 3.0]</td>\n",
       "    </tr>\n",
       "    <tr>\n",
       "      <th>22</th>\n",
       "      <td>orientados</td>\n",
       "      <td>10</td>\n",
       "      <td>(9.0, 25.0]</td>\n",
       "    </tr>\n",
       "    <tr>\n",
       "      <th>43</th>\n",
       "      <td>somado</td>\n",
       "      <td>22</td>\n",
       "      <td>(9.0, 25.0]</td>\n",
       "    </tr>\n",
       "    <tr>\n",
       "      <th>45</th>\n",
       "      <td>inverso</td>\n",
       "      <td>25</td>\n",
       "      <td>(9.0, 25.0]</td>\n",
       "    </tr>\n",
       "    <tr>\n",
       "      <th>54</th>\n",
       "      <td>indeterminados</td>\n",
       "      <td>4</td>\n",
       "      <td>(3.0, 5.0]</td>\n",
       "    </tr>\n",
       "    <tr>\n",
       "      <th>...</th>\n",
       "      <td>...</td>\n",
       "      <td>...</td>\n",
       "      <td>...</td>\n",
       "    </tr>\n",
       "    <tr>\n",
       "      <th>140514</th>\n",
       "      <td>alunosonline</td>\n",
       "      <td>1</td>\n",
       "      <td>(0.999, 2.0]</td>\n",
       "    </tr>\n",
       "    <tr>\n",
       "      <th>140515</th>\n",
       "      <td>planetainvertebrados</td>\n",
       "      <td>1</td>\n",
       "      <td>(0.999, 2.0]</td>\n",
       "    </tr>\n",
       "    <tr>\n",
       "      <th>140516</th>\n",
       "      <td>especies_ver</td>\n",
       "      <td>1</td>\n",
       "      <td>(0.999, 2.0]</td>\n",
       "    </tr>\n",
       "    <tr>\n",
       "      <th>140517</th>\n",
       "      <td>id_categoria</td>\n",
       "      <td>1</td>\n",
       "      <td>(0.999, 2.0]</td>\n",
       "    </tr>\n",
       "    <tr>\n",
       "      <th>140518</th>\n",
       "      <td>id_subcategoria</td>\n",
       "      <td>1</td>\n",
       "      <td>(0.999, 2.0]</td>\n",
       "    </tr>\n",
       "  </tbody>\n",
       "</table>\n",
       "<p>126498 rows × 3 columns</p>\n",
       "</div>"
      ],
      "text/plain": [
       "                       words  count      q_groups\n",
       "5                       cage      3    (2.0, 3.0]\n",
       "22                orientados     10   (9.0, 25.0]\n",
       "43                    somado     22   (9.0, 25.0]\n",
       "45                   inverso     25   (9.0, 25.0]\n",
       "54            indeterminados      4    (3.0, 5.0]\n",
       "...                      ...    ...           ...\n",
       "140514          alunosonline      1  (0.999, 2.0]\n",
       "140515  planetainvertebrados      1  (0.999, 2.0]\n",
       "140516          especies_ver      1  (0.999, 2.0]\n",
       "140517          id_categoria      1  (0.999, 2.0]\n",
       "140518       id_subcategoria      1  (0.999, 2.0]\n",
       "\n",
       "[126498 rows x 3 columns]"
      ]
     },
     "execution_count": 31,
     "metadata": {},
     "output_type": "execute_result"
    }
   ],
   "source": [
    "less_than_25_df"
   ]
  },
  {
   "cell_type": "code",
   "execution_count": null,
   "metadata": {},
   "outputs": [],
   "source": []
  },
  {
   "cell_type": "code",
   "execution_count": null,
   "metadata": {},
   "outputs": [],
   "source": []
  }
 ],
 "metadata": {
  "interpreter": {
   "hash": "9d16b2cdcd667c0138096fa734d9b5938cd9a1d2eb815f78fcce7eb1051717bd"
  },
  "kernelspec": {
   "display_name": "Python 3.9.0 64-bit ('bncc-classifier-qOkeiedE': pipenv)",
   "language": "python",
   "name": "python3"
  },
  "language_info": {
   "codemirror_mode": {
    "name": "ipython",
    "version": 3
   },
   "file_extension": ".py",
   "mimetype": "text/x-python",
   "name": "python",
   "nbconvert_exporter": "python",
   "pygments_lexer": "ipython3",
   "version": "3.9.0"
  },
  "orig_nbformat": 4
 },
 "nbformat": 4,
 "nbformat_minor": 2
}
