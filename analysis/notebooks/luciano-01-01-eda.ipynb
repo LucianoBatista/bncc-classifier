{
 "cells": [
  {
   "cell_type": "code",
   "execution_count": 5,
   "metadata": {},
   "outputs": [],
   "source": [
    "import pandas as pd\n",
    "import matplotlib.pyplot as plt\n",
    "import seaborn as sns"
   ]
  },
  {
   "cell_type": "code",
   "execution_count": 6,
   "metadata": {},
   "outputs": [],
   "source": [
    "# data\n",
    "df_to_eda = pd.read_csv(\"data/curated/df_to_eda.csv\")"
   ]
  },
  {
   "cell_type": "code",
   "execution_count": 7,
   "metadata": {},
   "outputs": [
    {
     "data": {
      "text/plain": [
       "Médio & Pré-Vestibular    35307\n",
       "Fundamental II            33390\n",
       "Fundamental I             18144\n",
       "Name: school_step, dtype: int64"
      ]
     },
     "execution_count": 7,
     "metadata": {},
     "output_type": "execute_result"
    }
   ],
   "source": [
    "# how much data we have on school_step\n",
    "df_to_eda[\"school_step\"].value_counts()"
   ]
  },
  {
   "cell_type": "markdown",
   "metadata": {},
   "source": [
    "Como podemos ver aqui, existe uma quantidade bem interessante entre as 3 classes que iremos prever. No FUND-I temos um pouco mais da metade das outras duas classes, mas acreditamos que não será um problema."
   ]
  },
  {
   "cell_type": "markdown",
   "metadata": {},
   "source": [
    "# Tamanho das sentenças"
   ]
  },
  {
   "cell_type": "code",
   "execution_count": 8,
   "metadata": {},
   "outputs": [
    {
     "name": "stdout",
     "output_type": "stream",
     "text": [
      "As questões vão de 2 à 52706 caracteres por questão\n",
      "O valor mediano e médio de caracteres por questão é de 218 e de 395, respectivamente.\n"
     ]
    },
    {
     "data": {
      "text/plain": [
       "<AxesSubplot:xlabel='question_c6', ylabel='Count'>"
      ]
     },
     "execution_count": 8,
     "metadata": {},
     "output_type": "execute_result"
    },
    {
     "data": {
      "image/png": "[encoded data removed]",
      "text/plain": [
       "<Figure size 1440x720 with 1 Axes>"
      ]
     },
     "metadata": {
      "needs_background": "light"
     },
     "output_type": "display_data"
    }
   ],
   "source": [
    "max = df_to_eda['question_c6'].str.len().max()\n",
    "min = df_to_eda['question_c6'].str.len().min()\n",
    "median = df_to_eda['question_c6'].str.len().median()\n",
    "mean = df_to_eda['question_c6'].str.len().mean()\n",
    "\n",
    "print('As questões vão de %d à %d caracteres por questão' % (min, max))\n",
    "print('O valor mediano e médio de caracteres por questão é de %d e de %d, respectivamente.' %\n",
    "(median, mean))\n",
    "\n",
    "fig, ax = plt.subplots(figsize=(20, 10))\n",
    "\n",
    "sns.histplot(df_to_eda['question_c6'].str.len(), ax = ax)"
   ]
  },
  {
   "cell_type": "markdown",
   "metadata": {},
   "source": [
    "Curiosamente temos muitas sentenças de tamanho 1. Provavelmente esses itens não representam nada e precisam ser excluídos."
   ]
  },
  {
   "cell_type": "code",
   "execution_count": 9,
   "metadata": {},
   "outputs": [
    {
     "data": {
      "text/plain": [
       "60203        2\n",
       "62497        2\n",
       "85839        2\n",
       "13705        2\n",
       "32833        2\n",
       "         ...  \n",
       "58817    50759\n",
       "79472    52546\n",
       "42658    52546\n",
       "23050    52546\n",
       "69735    52706\n",
       "Name: question_c6, Length: 86841, dtype: int64"
      ]
     },
     "execution_count": 9,
     "metadata": {},
     "output_type": "execute_result"
    }
   ],
   "source": [
    "df_to_eda['question_c6'].astype(\"str\").apply(len).sort_values()"
   ]
  },
  {
   "cell_type": "code",
   "execution_count": 10,
   "metadata": {},
   "outputs": [
    {
     "data": {
      "text/html": [
       "<div>\n",
       "<style scoped>\n",
       "    .dataframe tbody tr th:only-of-type {\n",
       "        vertical-align: middle;\n",
       "    }\n",
       "\n",
       "    .dataframe tbody tr th {\n",
       "        vertical-align: top;\n",
       "    }\n",
       "\n",
       "    .dataframe thead th {\n",
       "        text-align: right;\n",
       "    }\n",
       "</style>\n",
       "<table border=\"1\" class=\"dataframe\">\n",
       "  <thead>\n",
       "    <tr style=\"text-align: right;\">\n",
       "      <th></th>\n",
       "      <th>question_c6</th>\n",
       "      <th>bulletType</th>\n",
       "      <th>school_step</th>\n",
       "    </tr>\n",
       "  </thead>\n",
       "  <tbody>\n",
       "  </tbody>\n",
       "</table>\n",
       "</div>"
      ],
      "text/plain": [
       "Empty DataFrame\n",
       "Columns: [question_c6, bulletType, school_step]\n",
       "Index: []"
      ]
     },
     "execution_count": 10,
     "metadata": {},
     "output_type": "execute_result"
    }
   ],
   "source": [
    "# looking at those items with sentence length of 1\n",
    "df_to_eda[df_to_eda[\"question_c6\"].astype(\"str\").apply(len) == 1]"
   ]
  },
  {
   "cell_type": "code",
   "execution_count": 11,
   "metadata": {},
   "outputs": [],
   "source": [
    "# filtering length 1 sentence size items\n",
    "df_c1 = df_to_eda[df_to_eda[\"question_c6\"].astype(\"str\").apply(len) != 1]\n"
   ]
  },
  {
   "cell_type": "code",
   "execution_count": 12,
   "metadata": {},
   "outputs": [
    {
     "data": {
      "text/plain": [
       "60203        2\n",
       "62497        2\n",
       "85839        2\n",
       "13705        2\n",
       "32833        2\n",
       "         ...  \n",
       "58817    50759\n",
       "79472    52546\n",
       "42658    52546\n",
       "23050    52546\n",
       "69735    52706\n",
       "Name: question_c6, Length: 86841, dtype: int64"
      ]
     },
     "execution_count": 12,
     "metadata": {},
     "output_type": "execute_result"
    }
   ],
   "source": [
    "# let's check the length of these sentences again\n",
    "df_c1['question_c6'].astype(\"str\").apply(len).sort_values()\n"
   ]
  },
  {
   "cell_type": "code",
   "execution_count": 14,
   "metadata": {},
   "outputs": [],
   "source": [
    "df_c1[\"sentence_len\"] = df_c1[\"question_c6\"].astype(\"str\").apply(len)"
   ]
  },
  {
   "cell_type": "code",
   "execution_count": 15,
   "metadata": {},
   "outputs": [
    {
     "data": {
      "text/html": [
       "<div>\n",
       "<style scoped>\n",
       "    .dataframe tbody tr th:only-of-type {\n",
       "        vertical-align: middle;\n",
       "    }\n",
       "\n",
       "    .dataframe tbody tr th {\n",
       "        vertical-align: top;\n",
       "    }\n",
       "\n",
       "    .dataframe thead th {\n",
       "        text-align: right;\n",
       "    }\n",
       "</style>\n",
       "<table border=\"1\" class=\"dataframe\">\n",
       "  <thead>\n",
       "    <tr style=\"text-align: right;\">\n",
       "      <th></th>\n",
       "      <th>question_c6</th>\n",
       "      <th>bulletType</th>\n",
       "      <th>school_step</th>\n",
       "      <th>sentence_len</th>\n",
       "    </tr>\n",
       "  </thead>\n",
       "  <tbody>\n",
       "    <tr>\n",
       "      <th>0</th>\n",
       "      <td>['base', 'conhecimentos', 'sobre', 'compositor...</td>\n",
       "      <td>2</td>\n",
       "      <td>Fundamental II</td>\n",
       "      <td>468</td>\n",
       "    </tr>\n",
       "    <tr>\n",
       "      <th>1</th>\n",
       "      <td>['achar', 'número', 'somado', 'igual', 'invers...</td>\n",
       "      <td>2</td>\n",
       "      <td>Fundamental II</td>\n",
       "      <td>87</td>\n",
       "    </tr>\n",
       "    <tr>\n",
       "      <th>2</th>\n",
       "      <td>['complete', 'espaços', 'abaixo', 'artigos', '...</td>\n",
       "      <td>4</td>\n",
       "      <td>Fundamental II</td>\n",
       "      <td>583</td>\n",
       "    </tr>\n",
       "    <tr>\n",
       "      <th>3</th>\n",
       "      <td>['chuva', 'ácida', 'fenômeno', 'provocado', 'p...</td>\n",
       "      <td>2</td>\n",
       "      <td>Fundamental II</td>\n",
       "      <td>131</td>\n",
       "    </tr>\n",
       "    <tr>\n",
       "      <th>4</th>\n",
       "      <td>['anexe', 'nesse', 'espaço', 'foto', 'ilustraç...</td>\n",
       "      <td>4</td>\n",
       "      <td>Fundamental I</td>\n",
       "      <td>50</td>\n",
       "    </tr>\n",
       "    <tr>\n",
       "      <th>...</th>\n",
       "      <td>...</td>\n",
       "      <td>...</td>\n",
       "      <td>...</td>\n",
       "      <td>...</td>\n",
       "    </tr>\n",
       "    <tr>\n",
       "      <th>86836</th>\n",
       "      <td>['leia', 'reportagem', 'responda', 'questãosob...</td>\n",
       "      <td>2</td>\n",
       "      <td>Fundamental I</td>\n",
       "      <td>133</td>\n",
       "    </tr>\n",
       "    <tr>\n",
       "      <th>86837</th>\n",
       "      <td>['responder', 'questão', 'leia', 'trecho', 'co...</td>\n",
       "      <td>2</td>\n",
       "      <td>Médio &amp; Pré-Vestibular</td>\n",
       "      <td>1984</td>\n",
       "    </tr>\n",
       "    <tr>\n",
       "      <th>86838</th>\n",
       "      <td>['pais', 'surgiu', 'skate']</td>\n",
       "      <td>2</td>\n",
       "      <td>Fundamental II</td>\n",
       "      <td>27</td>\n",
       "    </tr>\n",
       "    <tr>\n",
       "      <th>86839</th>\n",
       "      <td>['machos', 'fêmeas', 'mosquitos', 'gênero', 'a...</td>\n",
       "      <td>2</td>\n",
       "      <td>Fundamental II</td>\n",
       "      <td>509</td>\n",
       "    </tr>\n",
       "    <tr>\n",
       "      <th>86840</th>\n",
       "      <td>['observe', 'tabela', 'veja', 'quantos', 'lanc...</td>\n",
       "      <td>2</td>\n",
       "      <td>Fundamental I</td>\n",
       "      <td>174</td>\n",
       "    </tr>\n",
       "  </tbody>\n",
       "</table>\n",
       "<p>86841 rows × 4 columns</p>\n",
       "</div>"
      ],
      "text/plain": [
       "                                             question_c6  bulletType  \\\n",
       "0      ['base', 'conhecimentos', 'sobre', 'compositor...           2   \n",
       "1      ['achar', 'número', 'somado', 'igual', 'invers...           2   \n",
       "2      ['complete', 'espaços', 'abaixo', 'artigos', '...           4   \n",
       "3      ['chuva', 'ácida', 'fenômeno', 'provocado', 'p...           2   \n",
       "4      ['anexe', 'nesse', 'espaço', 'foto', 'ilustraç...           4   \n",
       "...                                                  ...         ...   \n",
       "86836  ['leia', 'reportagem', 'responda', 'questãosob...           2   \n",
       "86837  ['responder', 'questão', 'leia', 'trecho', 'co...           2   \n",
       "86838                        ['pais', 'surgiu', 'skate']           2   \n",
       "86839  ['machos', 'fêmeas', 'mosquitos', 'gênero', 'a...           2   \n",
       "86840  ['observe', 'tabela', 'veja', 'quantos', 'lanc...           2   \n",
       "\n",
       "                  school_step  sentence_len  \n",
       "0              Fundamental II           468  \n",
       "1              Fundamental II            87  \n",
       "2              Fundamental II           583  \n",
       "3              Fundamental II           131  \n",
       "4               Fundamental I            50  \n",
       "...                       ...           ...  \n",
       "86836           Fundamental I           133  \n",
       "86837  Médio & Pré-Vestibular          1984  \n",
       "86838          Fundamental II            27  \n",
       "86839          Fundamental II           509  \n",
       "86840           Fundamental I           174  \n",
       "\n",
       "[86841 rows x 4 columns]"
      ]
     },
     "execution_count": 15,
     "metadata": {},
     "output_type": "execute_result"
    }
   ],
   "source": [
    "df_c1"
   ]
  },
  {
   "cell_type": "code",
   "execution_count": null,
   "metadata": {},
   "outputs": [],
   "source": []
  }
 ],
 "metadata": {
  "interpreter": {
   "hash": "9d16b2cdcd667c0138096fa734d9b5938cd9a1d2eb815f78fcce7eb1051717bd"
  },
  "kernelspec": {
   "display_name": "Python 3.9.0 64-bit ('bncc-classifier-qOkeiedE': pipenv)",
   "language": "python",
   "name": "python3"
  },
  "language_info": {
   "codemirror_mode": {
    "name": "ipython",
    "version": 3
   },
   "file_extension": ".py",
   "mimetype": "text/x-python",
   "name": "python",
   "nbconvert_exporter": "python",
   "pygments_lexer": "ipython3",
   "version": "3.9.0"
  },
  "orig_nbformat": 4
 },
 "nbformat": 4,
 "nbformat_minor": 2
}
