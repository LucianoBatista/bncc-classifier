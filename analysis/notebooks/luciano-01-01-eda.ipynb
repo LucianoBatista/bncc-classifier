{
 "cells": [
  {
   "cell_type": "code",
   "execution_count": 19,
   "metadata": {},
   "outputs": [],
   "source": [
    "import pandas as pd\n",
    "import matplotlib.pyplot as plt\n",
    "import seaborn as sns"
   ]
  },
  {
   "cell_type": "code",
   "execution_count": 20,
   "metadata": {},
   "outputs": [],
   "source": [
    "# data\n",
    "df_to_eda = pd.read_csv(\"data/curated/df_to_eda.csv\")"
   ]
  },
  {
   "cell_type": "code",
   "execution_count": 21,
   "metadata": {},
   "outputs": [
    {
     "data": {
      "text/plain": [
       "Médio & Pré-Vestibular    35307\n",
       "Fundamental II            33390\n",
       "Fundamental I             18144\n",
       "Name: school_step, dtype: int64"
      ]
     },
     "execution_count": 21,
     "metadata": {},
     "output_type": "execute_result"
    }
   ],
   "source": [
    "# how much data we have on school_step\n",
    "df_to_eda[\"school_step\"].value_counts()"
   ]
  },
  {
   "cell_type": "markdown",
   "metadata": {},
   "source": [
    "Como podemos ver aqui, existe uma quantidade bem interessante entre as 3 classes que iremos prever. No FUND-I temos um pouco mais da metade das outras duas classes, mas acreditamos que não será um problema."
   ]
  },
  {
   "cell_type": "markdown",
   "metadata": {},
   "source": [
    "# Tamanho das sentenças"
   ]
  },
  {
   "cell_type": "code",
   "execution_count": 23,
   "metadata": {},
   "outputs": [
    {
     "name": "stdout",
     "output_type": "stream",
     "text": [
      "As questões vão de 1 à 65532 caracteres por questão\n",
      "O valor mediano e médio de caracteres por questão é de 215 e de 385, respectivamente.\n"
     ]
    },
    {
     "data": {
      "text/plain": [
       "<AxesSubplot:xlabel='question_c2', ylabel='Count'>"
      ]
     },
     "execution_count": 23,
     "metadata": {},
     "output_type": "execute_result"
    },
    {
     "data": {
      "image/png": "[encoded data removed]",
      "text/plain": [
       "<Figure size 1440x720 with 1 Axes>"
      ]
     },
     "metadata": {
      "needs_background": "light"
     },
     "output_type": "display_data"
    }
   ],
   "source": [
    "max = df_to_eda['question_c2'].str.len().max()\n",
    "min = df_to_eda['question_c2'].str.len().min()\n",
    "median = df_to_eda['question_c2'].str.len().median()\n",
    "mean = df_to_eda['question_c2'].str.len().mean()\n",
    "\n",
    "print('As questões vão de %d à %d caracteres por questão' % (min, max))\n",
    "print('O valor mediano e médio de caracteres por questão é de %d e de %d, respectivamente.' %\n",
    "(median, mean))\n",
    "\n",
    "fig, ax = plt.subplots(figsize=(20, 10))\n",
    "\n",
    "sns.histplot(df_to_eda['question_c2'].str.len(), ax = ax)"
   ]
  },
  {
   "cell_type": "markdown",
   "metadata": {},
   "source": [
    "Curiosamente temos muitas sentenças de tamanho 1. Provavelmente esses itens não representam nada e precisam ser excluídos."
   ]
  },
  {
   "cell_type": "code",
   "execution_count": 29,
   "metadata": {},
   "outputs": [
    {
     "data": {
      "text/plain": [
       "69952        1\n",
       "76497        1\n",
       "75251        1\n",
       "46892        1\n",
       "50419        1\n",
       "         ...  \n",
       "58817    64505\n",
       "69735    65532\n",
       "42658    65532\n",
       "23050    65532\n",
       "79472    65532\n",
       "Name: question_c2, Length: 86841, dtype: int64"
      ]
     },
     "execution_count": 29,
     "metadata": {},
     "output_type": "execute_result"
    }
   ],
   "source": [
    "df_to_eda['question_c2'].astype(\"str\").apply(len).sort_values()"
   ]
  },
  {
   "cell_type": "code",
   "execution_count": 32,
   "metadata": {},
   "outputs": [
    {
     "data": {
      "text/html": [
       "<div>\n",
       "<style scoped>\n",
       "    .dataframe tbody tr th:only-of-type {\n",
       "        vertical-align: middle;\n",
       "    }\n",
       "\n",
       "    .dataframe tbody tr th {\n",
       "        vertical-align: top;\n",
       "    }\n",
       "\n",
       "    .dataframe thead th {\n",
       "        text-align: right;\n",
       "    }\n",
       "</style>\n",
       "<table border=\"1\" class=\"dataframe\">\n",
       "  <thead>\n",
       "    <tr style=\"text-align: right;\">\n",
       "      <th></th>\n",
       "      <th>question_c2</th>\n",
       "      <th>bulletType</th>\n",
       "      <th>school_step</th>\n",
       "    </tr>\n",
       "  </thead>\n",
       "  <tbody>\n",
       "    <tr>\n",
       "      <th>1131</th>\n",
       "      <td>4</td>\n",
       "      <td>4</td>\n",
       "      <td>Fundamental II</td>\n",
       "    </tr>\n",
       "    <tr>\n",
       "      <th>1665</th>\n",
       "      <td></td>\n",
       "      <td>2</td>\n",
       "      <td>Médio &amp; Pré-Vestibular</td>\n",
       "    </tr>\n",
       "    <tr>\n",
       "      <th>1752</th>\n",
       "      <td>5</td>\n",
       "      <td>4</td>\n",
       "      <td>Médio &amp; Pré-Vestibular</td>\n",
       "    </tr>\n",
       "    <tr>\n",
       "      <th>3033</th>\n",
       "      <td>8</td>\n",
       "      <td>4</td>\n",
       "      <td>Fundamental II</td>\n",
       "    </tr>\n",
       "    <tr>\n",
       "      <th>4107</th>\n",
       "      <td>:</td>\n",
       "      <td>2</td>\n",
       "      <td>Médio &amp; Pré-Vestibular</td>\n",
       "    </tr>\n",
       "    <tr>\n",
       "      <th>...</th>\n",
       "      <td>...</td>\n",
       "      <td>...</td>\n",
       "      <td>...</td>\n",
       "    </tr>\n",
       "    <tr>\n",
       "      <th>80836</th>\n",
       "      <td>:</td>\n",
       "      <td>2</td>\n",
       "      <td>Médio &amp; Pré-Vestibular</td>\n",
       "    </tr>\n",
       "    <tr>\n",
       "      <th>83017</th>\n",
       "      <td>3</td>\n",
       "      <td>4</td>\n",
       "      <td>Fundamental II</td>\n",
       "    </tr>\n",
       "    <tr>\n",
       "      <th>84419</th>\n",
       "      <td></td>\n",
       "      <td>4</td>\n",
       "      <td>Fundamental I</td>\n",
       "    </tr>\n",
       "    <tr>\n",
       "      <th>84427</th>\n",
       "      <td></td>\n",
       "      <td>2</td>\n",
       "      <td>Médio &amp; Pré-Vestibular</td>\n",
       "    </tr>\n",
       "    <tr>\n",
       "      <th>85000</th>\n",
       "      <td></td>\n",
       "      <td>2</td>\n",
       "      <td>Médio &amp; Pré-Vestibular</td>\n",
       "    </tr>\n",
       "  </tbody>\n",
       "</table>\n",
       "<p>89 rows × 3 columns</p>\n",
       "</div>"
      ],
      "text/plain": [
       "      question_c2  bulletType             school_step\n",
       "1131            4           4          Fundamental II\n",
       "1665                        2  Médio & Pré-Vestibular\n",
       "1752            5           4  Médio & Pré-Vestibular\n",
       "3033            8           4          Fundamental II\n",
       "4107            :           2  Médio & Pré-Vestibular\n",
       "...           ...         ...                     ...\n",
       "80836           :           2  Médio & Pré-Vestibular\n",
       "83017           3           4          Fundamental II\n",
       "84419                       4           Fundamental I\n",
       "84427                       2  Médio & Pré-Vestibular\n",
       "85000                       2  Médio & Pré-Vestibular\n",
       "\n",
       "[89 rows x 3 columns]"
      ]
     },
     "execution_count": 32,
     "metadata": {},
     "output_type": "execute_result"
    }
   ],
   "source": [
    "# looking at those items with sentence length of 1\n",
    "df_to_eda[df_to_eda[\"question_c2\"].astype(\"str\").apply(len) == 1]"
   ]
  },
  {
   "cell_type": "code",
   "execution_count": 33,
   "metadata": {},
   "outputs": [],
   "source": [
    "# filtering length 1 sentence size items\n",
    "df_c1 = df_to_eda[df_to_eda[\"question_c2\"].astype(\"str\").apply(len) != 1]\n"
   ]
  },
  {
   "cell_type": "code",
   "execution_count": 35,
   "metadata": {},
   "outputs": [
    {
     "data": {
      "text/plain": [
       "73408        2\n",
       "85664        2\n",
       "3769         2\n",
       "20474        2\n",
       "57918        2\n",
       "         ...  \n",
       "58817    64505\n",
       "79472    65532\n",
       "69735    65532\n",
       "42658    65532\n",
       "23050    65532\n",
       "Name: question_c2, Length: 86752, dtype: int64"
      ]
     },
     "execution_count": 35,
     "metadata": {},
     "output_type": "execute_result"
    }
   ],
   "source": [
    "# let's check the length of these sentences again\n",
    "df_c1['question_c2'].astype(\"str\").apply(len).sort_values()\n"
   ]
  },
  {
   "cell_type": "code",
   "execution_count": 41,
   "metadata": {},
   "outputs": [
    {
     "name": "stderr",
     "output_type": "stream",
     "text": [
      "/tmp/ipykernel_21864/3120791506.py:1: SettingWithCopyWarning: \n",
      "A value is trying to be set on a copy of a slice from a DataFrame.\n",
      "Try using .loc[row_indexer,col_indexer] = value instead\n",
      "\n",
      "See the caveats in the documentation: https://pandas.pydata.org/pandas-docs/stable/user_guide/indexing.html#returning-a-view-versus-a-copy\n",
      "  df_c1[\"sentence_len\"] = df_c1[\"question_c2\"].astype(\"str\").apply(len)\n"
     ]
    }
   ],
   "source": [
    "df_c1[\"sentence_len\"] = df_c1[\"question_c2\"].astype(\"str\").apply(len)"
   ]
  },
  {
   "cell_type": "code",
   "execution_count": 42,
   "metadata": {},
   "outputs": [
    {
     "data": {
      "text/html": [
       "<div>\n",
       "<style scoped>\n",
       "    .dataframe tbody tr th:only-of-type {\n",
       "        vertical-align: middle;\n",
       "    }\n",
       "\n",
       "    .dataframe tbody tr th {\n",
       "        vertical-align: top;\n",
       "    }\n",
       "\n",
       "    .dataframe thead th {\n",
       "        text-align: right;\n",
       "    }\n",
       "</style>\n",
       "<table border=\"1\" class=\"dataframe\">\n",
       "  <thead>\n",
       "    <tr style=\"text-align: right;\">\n",
       "      <th></th>\n",
       "      <th>question_c2</th>\n",
       "      <th>bulletType</th>\n",
       "      <th>school_step</th>\n",
       "      <th>sentence_len</th>\n",
       "    </tr>\n",
       "  </thead>\n",
       "  <tbody>\n",
       "    <tr>\n",
       "      <th>0</th>\n",
       "      <td>Com base em seus conhecimentos sobre o composi...</td>\n",
       "      <td>2</td>\n",
       "      <td>Fundamental II</td>\n",
       "      <td>437</td>\n",
       "    </tr>\n",
       "    <tr>\n",
       "      <th>1</th>\n",
       "      <td>“Achar um número que, somado com 2 seja igual ...</td>\n",
       "      <td>2</td>\n",
       "      <td>Fundamental II</td>\n",
       "      <td>106</td>\n",
       "    </tr>\n",
       "    <tr>\n",
       "      <th>2</th>\n",
       "      <td>2. Complete os espaços abaixo com os artigos d...</td>\n",
       "      <td>4</td>\n",
       "      <td>Fundamental II</td>\n",
       "      <td>455</td>\n",
       "    </tr>\n",
       "    <tr>\n",
       "      <th>3</th>\n",
       "      <td>A chuva ácida é um fenômeno provocado pela pol...</td>\n",
       "      <td>2</td>\n",
       "      <td>Fundamental II</td>\n",
       "      <td>119</td>\n",
       "    </tr>\n",
       "    <tr>\n",
       "      <th>4</th>\n",
       "      <td>Anexe nesse espaço uma foto da sua ilustração.</td>\n",
       "      <td>4</td>\n",
       "      <td>Fundamental I</td>\n",
       "      <td>46</td>\n",
       "    </tr>\n",
       "    <tr>\n",
       "      <th>...</th>\n",
       "      <td>...</td>\n",
       "      <td>...</td>\n",
       "      <td>...</td>\n",
       "      <td>...</td>\n",
       "    </tr>\n",
       "    <tr>\n",
       "      <th>86836</th>\n",
       "      <td>Leia a reportagem e responda a questão:Sobre a...</td>\n",
       "      <td>2</td>\n",
       "      <td>Fundamental I</td>\n",
       "      <td>120</td>\n",
       "    </tr>\n",
       "    <tr>\n",
       "      <th>86837</th>\n",
       "      <td>Para responder à questão, leia o trecho do con...</td>\n",
       "      <td>2</td>\n",
       "      <td>Médio &amp; Pré-Vestibular</td>\n",
       "      <td>2046</td>\n",
       "    </tr>\n",
       "    <tr>\n",
       "      <th>86838</th>\n",
       "      <td>Em que pais surgiu o skate?</td>\n",
       "      <td>2</td>\n",
       "      <td>Fundamental II</td>\n",
       "      <td>27</td>\n",
       "    </tr>\n",
       "    <tr>\n",
       "      <th>86839</th>\n",
       "      <td>Os machos e fêmeas de mosquitos do gênero Aede...</td>\n",
       "      <td>2</td>\n",
       "      <td>Fundamental II</td>\n",
       "      <td>567</td>\n",
       "    </tr>\n",
       "    <tr>\n",
       "      <th>86840</th>\n",
       "      <td>Observe a tabela e veja quantos lanches foram ...</td>\n",
       "      <td>2</td>\n",
       "      <td>Fundamental I</td>\n",
       "      <td>152</td>\n",
       "    </tr>\n",
       "  </tbody>\n",
       "</table>\n",
       "<p>86752 rows × 4 columns</p>\n",
       "</div>"
      ],
      "text/plain": [
       "                                             question_c2  bulletType  \\\n",
       "0      Com base em seus conhecimentos sobre o composi...           2   \n",
       "1      “Achar um número que, somado com 2 seja igual ...           2   \n",
       "2      2. Complete os espaços abaixo com os artigos d...           4   \n",
       "3      A chuva ácida é um fenômeno provocado pela pol...           2   \n",
       "4         Anexe nesse espaço uma foto da sua ilustração.           4   \n",
       "...                                                  ...         ...   \n",
       "86836  Leia a reportagem e responda a questão:Sobre a...           2   \n",
       "86837  Para responder à questão, leia o trecho do con...           2   \n",
       "86838                        Em que pais surgiu o skate?           2   \n",
       "86839  Os machos e fêmeas de mosquitos do gênero Aede...           2   \n",
       "86840  Observe a tabela e veja quantos lanches foram ...           2   \n",
       "\n",
       "                  school_step  sentence_len  \n",
       "0              Fundamental II           437  \n",
       "1              Fundamental II           106  \n",
       "2              Fundamental II           455  \n",
       "3              Fundamental II           119  \n",
       "4               Fundamental I            46  \n",
       "...                       ...           ...  \n",
       "86836           Fundamental I           120  \n",
       "86837  Médio & Pré-Vestibular          2046  \n",
       "86838          Fundamental II            27  \n",
       "86839          Fundamental II           567  \n",
       "86840           Fundamental I           152  \n",
       "\n",
       "[86752 rows x 4 columns]"
      ]
     },
     "execution_count": 42,
     "metadata": {},
     "output_type": "execute_result"
    }
   ],
   "source": [
    "df_c1"
   ]
  },
  {
   "cell_type": "code",
   "execution_count": null,
   "metadata": {},
   "outputs": [],
   "source": []
  }
 ],
 "metadata": {
  "interpreter": {
   "hash": "9d16b2cdcd667c0138096fa734d9b5938cd9a1d2eb815f78fcce7eb1051717bd"
  },
  "kernelspec": {
   "display_name": "Python 3.9.0 64-bit ('bncc-classifier-qOkeiedE': pipenv)",
   "language": "python",
   "name": "python3"
  },
  "language_info": {
   "codemirror_mode": {
    "name": "ipython",
    "version": 3
   },
   "file_extension": ".py",
   "mimetype": "text/x-python",
   "name": "python",
   "nbconvert_exporter": "python",
   "pygments_lexer": "ipython3",
   "version": "3.9.0"
  },
  "orig_nbformat": 4
 },
 "nbformat": 4,
 "nbformat_minor": 2
}
