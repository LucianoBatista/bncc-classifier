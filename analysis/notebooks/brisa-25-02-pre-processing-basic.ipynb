{
 "cells": [
  {
   "cell_type": "markdown",
   "id": "752d3b83-2168-41a3-ae09-75fa7ace0c97",
   "metadata": {
    "id": "752d3b83-2168-41a3-ae09-75fa7ace0c97"
   },
   "source": [
    "Importar bibliotecas"
   ]
  },
  {
   "cell_type": "code",
   "execution_count": 87,
   "id": "522fc21e-81b2-46a2-85a4-eaca8012a917",
   "metadata": {
    "executionInfo": {
     "elapsed": 1116,
     "status": "ok",
     "timestamp": 1646256250235,
     "user": {
      "displayName": "Brisa Gonçalves",
      "photoUrl": "https://lh3.googleusercontent.com/a-/AOh14GitzE3yBEnyqzopa88QrW2MbETwuEkAWSdRG9efhg0=s64",
      "userId": "03031556768674861812"
     },
     "user_tz": 180
    },
    "id": "522fc21e-81b2-46a2-85a4-eaca8012a917"
   },
   "outputs": [],
   "source": [
    "import pandas as pd\n",
    "import numpy as np\n",
    "import html\n",
    "import nltk\n",
    "import regex as re\n",
    "import string\n",
    "import seaborn as sns\n",
    "import matplotlib.pyplot as plt\n",
    "from nltk.corpus import stopwords\n",
    "from nltk.tokenize import word_tokenize\n",
    "from nltk.stem.snowball import SnowballStemmer\n",
    "from nltk.stem import WordNetLemmatizer"
   ]
  },
  {
   "cell_type": "code",
   "execution_count": 4,
   "id": "98618749-f766-461a-97da-a01fa7c3544b",
   "metadata": {
    "executionInfo": {
     "elapsed": 430,
     "status": "ok",
     "timestamp": 1646080959474,
     "user": {
      "displayName": "Brisa Gonçalves",
      "photoUrl": "https://lh3.googleusercontent.com/a-/AOh14GitzE3yBEnyqzopa88QrW2MbETwuEkAWSdRG9efhg0=s64",
      "userId": "03031556768674861812"
     },
     "user_tz": 180
    },
    "id": "98618749-f766-461a-97da-a01fa7c3544b"
   },
   "outputs": [
    {
     "name": "stdout",
     "output_type": "stream",
     "text": [
      "^C\n"
     ]
    }
   ],
   "source": [
    "!pip install nltk"
   ]
  },
  {
   "cell_type": "code",
   "execution_count": 17,
   "id": "BArq9MlPLSK-",
   "metadata": {
    "id": "BArq9MlPLSK-"
   },
   "outputs": [
    {
     "name": "stdout",
     "output_type": "stream",
     "text": [
      "showing info https://raw.githubusercontent.com/nltk/nltk_data/gh-pages/index.xml\n"
     ]
    },
    {
     "data": {
      "text/plain": [
       "True"
      ]
     },
     "execution_count": 17,
     "metadata": {},
     "output_type": "execute_result"
    }
   ],
   "source": [
    "nltk.download()"
   ]
  },
  {
   "cell_type": "markdown",
   "id": "f6f43e31-1cc1-46e6-ad04-134fc8dbe03b",
   "metadata": {
    "id": "f6f43e31-1cc1-46e6-ad04-134fc8dbe03b",
    "tags": []
   },
   "source": [
    "Importar dados"
   ]
  },
  {
   "cell_type": "code",
   "execution_count": 12,
   "id": "56555dc2-9a74-421f-a6f9-18368414a5d7",
   "metadata": {
    "executionInfo": {
     "elapsed": 550,
     "status": "ok",
     "timestamp": 1646256255059,
     "user": {
      "displayName": "Brisa Gonçalves",
      "photoUrl": "https://lh3.googleusercontent.com/a-/AOh14GitzE3yBEnyqzopa88QrW2MbETwuEkAWSdRG9efhg0=s64",
      "userId": "03031556768674861812"
     },
     "user_tz": 180
    },
    "id": "56555dc2-9a74-421f-a6f9-18368414a5d7"
   },
   "outputs": [],
   "source": [
    "data = pd.read_csv('G:/Meu Drive/DataScience/DS-Tera/ProjetoBNCC/bncc-classifier/data/raw/bncc_first_classifier.csv')"
   ]
  },
  {
   "cell_type": "code",
   "execution_count": 13,
   "id": "2c94c434-f641-4627-a4fd-bc9b358b658f",
   "metadata": {
    "executionInfo": {
     "elapsed": 517,
     "status": "ok",
     "timestamp": 1646256260081,
     "user": {
      "displayName": "Brisa Gonçalves",
      "photoUrl": "https://lh3.googleusercontent.com/a-/AOh14GitzE3yBEnyqzopa88QrW2MbETwuEkAWSdRG9efhg0=s64",
      "userId": "03031556768674861812"
     },
     "user_tz": 180
    },
    "id": "2c94c434-f641-4627-a4fd-bc9b358b658f"
   },
   "outputs": [],
   "source": [
    "data_clone = data.copy()"
   ]
  },
  {
   "cell_type": "code",
   "execution_count": 14,
   "id": "WkTBovhZ-u8Y",
   "metadata": {
    "colab": {
     "base_uri": "https://localhost:8080/",
     "height": 409
    },
    "executionInfo": {
     "elapsed": 67,
     "status": "ok",
     "timestamp": 1646256262379,
     "user": {
      "displayName": "Brisa Gonçalves",
      "photoUrl": "https://lh3.googleusercontent.com/a-/AOh14GitzE3yBEnyqzopa88QrW2MbETwuEkAWSdRG9efhg0=s64",
      "userId": "03031556768674861812"
     },
     "user_tz": 180
    },
    "id": "WkTBovhZ-u8Y",
    "outputId": "38a70de9-db28-4ec4-fe50-6316e814328a",
    "scrolled": true
   },
   "outputs": [
    {
     "data": {
      "text/html": [
       "<div>\n",
       "<style scoped>\n",
       "    .dataframe tbody tr th:only-of-type {\n",
       "        vertical-align: middle;\n",
       "    }\n",
       "\n",
       "    .dataframe tbody tr th {\n",
       "        vertical-align: top;\n",
       "    }\n",
       "\n",
       "    .dataframe thead th {\n",
       "        text-align: right;\n",
       "    }\n",
       "</style>\n",
       "<table border=\"1\" class=\"dataframe\">\n",
       "  <thead>\n",
       "    <tr style=\"text-align: right;\">\n",
       "      <th></th>\n",
       "      <th>id</th>\n",
       "      <th>questoes</th>\n",
       "      <th>tipoQuestoes</th>\n",
       "      <th>topico</th>\n",
       "      <th>slug</th>\n",
       "      <th>materia</th>\n",
       "      <th>slug.1</th>\n",
       "      <th>etapaEnsino</th>\n",
       "    </tr>\n",
       "  </thead>\n",
       "  <tbody>\n",
       "    <tr>\n",
       "      <th>0</th>\n",
       "      <td>3486670</td>\n",
       "      <td>&lt;p&gt;Com base em seus conhecimentos sobre o comp...</td>\n",
       "      <td>2</td>\n",
       "      <td>História da Arte</td>\n",
       "      <td>historia-da-arte</td>\n",
       "      <td>Arte</td>\n",
       "      <td>arte</td>\n",
       "      <td>Fundamental II</td>\n",
       "    </tr>\n",
       "    <tr>\n",
       "      <th>1</th>\n",
       "      <td>3343927</td>\n",
       "      <td>&lt;p&gt;&amp;ldquo;Achar um n&amp;uacute;mero que, somado c...</td>\n",
       "      <td>2</td>\n",
       "      <td>Álgebra: Equações do 2º grau: Equação do 2º gr...</td>\n",
       "      <td>algebra-equacoes-do-2o-grau-equacao-do-2o-grau...</td>\n",
       "      <td>Matemática</td>\n",
       "      <td>matematica</td>\n",
       "      <td>Fundamental II</td>\n",
       "    </tr>\n",
       "    <tr>\n",
       "      <th>2</th>\n",
       "      <td>1927600</td>\n",
       "      <td>&lt;p&gt;2. Complete os espaços abaixo com os artigo...</td>\n",
       "      <td>4</td>\n",
       "      <td>Outros</td>\n",
       "      <td>outros</td>\n",
       "      <td>Espanhol</td>\n",
       "      <td>espanhol</td>\n",
       "      <td>Fundamental II</td>\n",
       "    </tr>\n",
       "    <tr>\n",
       "      <th>3</th>\n",
       "      <td>106855</td>\n",
       "      <td>&lt;p&gt;&lt;div&gt; A respeito dos serviços públicos e da...</td>\n",
       "      <td>2</td>\n",
       "      <td>Responsabilidade Civil do Estado</td>\n",
       "      <td>responsabilidade-civil-do-estado</td>\n",
       "      <td>Direito Administrativo</td>\n",
       "      <td>direito-administrativo</td>\n",
       "      <td>Concurso</td>\n",
       "    </tr>\n",
       "    <tr>\n",
       "      <th>4</th>\n",
       "      <td>3691951</td>\n",
       "      <td>&lt;p style=\"padding:0px;margin:10px 0px 0px;outl...</td>\n",
       "      <td>2</td>\n",
       "      <td>Outros</td>\n",
       "      <td>outros</td>\n",
       "      <td>Química</td>\n",
       "      <td>quimica</td>\n",
       "      <td>Fundamental II</td>\n",
       "    </tr>\n",
       "  </tbody>\n",
       "</table>\n",
       "</div>"
      ],
      "text/plain": [
       "        id                                           questoes  tipoQuestoes  \\\n",
       "0  3486670  <p>Com base em seus conhecimentos sobre o comp...             2   \n",
       "1  3343927  <p>&ldquo;Achar um n&uacute;mero que, somado c...             2   \n",
       "2  1927600  <p>2. Complete os espaços abaixo com os artigo...             4   \n",
       "3   106855  <p><div> A respeito dos serviços públicos e da...             2   \n",
       "4  3691951  <p style=\"padding:0px;margin:10px 0px 0px;outl...             2   \n",
       "\n",
       "                                              topico  \\\n",
       "0                                   História da Arte   \n",
       "1  Álgebra: Equações do 2º grau: Equação do 2º gr...   \n",
       "2                                             Outros   \n",
       "3                   Responsabilidade Civil do Estado   \n",
       "4                                             Outros   \n",
       "\n",
       "                                                slug                 materia  \\\n",
       "0                                   historia-da-arte                    Arte   \n",
       "1  algebra-equacoes-do-2o-grau-equacao-do-2o-grau...              Matemática   \n",
       "2                                             outros                Espanhol   \n",
       "3                   responsabilidade-civil-do-estado  Direito Administrativo   \n",
       "4                                             outros                 Química   \n",
       "\n",
       "                   slug.1     etapaEnsino  \n",
       "0                    arte  Fundamental II  \n",
       "1              matematica  Fundamental II  \n",
       "2                espanhol  Fundamental II  \n",
       "3  direito-administrativo        Concurso  \n",
       "4                 quimica  Fundamental II  "
      ]
     },
     "execution_count": 14,
     "metadata": {},
     "output_type": "execute_result"
    }
   ],
   "source": [
    "# renomeando as colunas do dataset\n",
    "\n",
    "data_clone.columns = ['id', 'questoes', 'tipoQuestoes', 'topico', 'slug', 'materia', 'slug.1','etapaEnsino']\n",
    "data_clone.head()"
   ]
  },
  {
   "cell_type": "markdown",
   "id": "LvO-H4PuUIyn",
   "metadata": {
    "id": "LvO-H4PuUIyn"
   },
   "source": [
    "## Pre-processamento"
   ]
  },
  {
   "cell_type": "markdown",
   "id": "dec881ae-2da3-490e-93a4-225438b9a559",
   "metadata": {
    "id": "dec881ae-2da3-490e-93a4-225438b9a559"
   },
   "source": [
    "* Escrevendo funcões para etapa de pre-processamento de Texto usando regex "
   ]
  },
  {
   "cell_type": "code",
   "execution_count": 67,
   "id": "1d317b88-9cdd-49db-8e91-95f40398e6a3",
   "metadata": {
    "collapsed": true,
    "executionInfo": {
     "elapsed": 594,
     "status": "ok",
     "timestamp": 1646256271028,
     "user": {
      "displayName": "Brisa Gonçalves",
      "photoUrl": "https://lh3.googleusercontent.com/a-/AOh14GitzE3yBEnyqzopa88QrW2MbETwuEkAWSdRG9efhg0=s64",
      "userId": "03031556768674861812"
     },
     "user_tz": 180
    },
    "id": "1d317b88-9cdd-49db-8e91-95f40398e6a3"
   },
   "outputs": [],
   "source": [
    "# Função para remover tags de html usando regex\n",
    "\n",
    "def remove_tags(text: str) -> str:\n",
    "    pattern = re.compile(\"<.*?>\")\n",
    "    cleantext = re.sub(pattern, \" \", text).replace(u\"\\xa0\", u\" \")\n",
    "    return cleantext\n",
    "\n",
    "# Função para deixar todo o texto em caixa baixa\n",
    "def to_lower(text: str) -> str:\n",
    "    return text.lower()\n",
    "\n",
    "# Função para remover numeros\n",
    "def remove_numbers(text: str) -> str:\n",
    "    pattern = re.compile(\"[0-9]+\")\n",
    "    clean_text = re.sub(pattern, \" \", text)\n",
    "    return clean_text\n",
    "\n",
    "# Função para remover caracteres especiais e pontuação\n",
    "def remove_punctuation(text: str) -> str:\n",
    "    pattern = re.compile(\"[\\d\\.\\,\\*\\\"\\'\\”\\“\\?\\!\\:\\-]\")\n",
    "    clean_text = re.sub(pattern,\" \", text) \n",
    "    return clean_text\n",
    "\n",
    "# Função para remover stopwords em portugues; preposições, conjunções, artigos, etc\n",
    "def remove_standard_stopwords_pt(text: str) -> str:\n",
    "    stop_words = set(stopwords.words(\"portuguese\"))\n",
    "    word_tokens = word_tokenize(text)\n",
    "    filtered_sentence = [w for w in word_tokens if not w in stop_words]\n",
    "    final_sentence = \" \".join(filtered_sentence)\n",
    "    return final_sentence  \n",
    "\n",
    "def remove_standard_stopwords_en(text: str) -> str:\n",
    "    stop_words = set(stopwords.words(\"english\"))\n",
    "    word_tokens = word_tokenize(text)\n",
    "    filtered_sentence = [w for w in word_tokens if not w in stop_words]\n",
    "    final_sentence = \" \".join(filtered_sentence)\n",
    "    return final_sentence  \n",
    "         "
   ]
  },
  {
   "cell_type": "code",
   "execution_count": 68,
   "id": "4f426db9-19a0-41e7-bbc9-9eb62b865e59",
   "metadata": {
    "colab": {
     "base_uri": "https://localhost:8080/",
     "height": 1000
    },
    "collapsed": true,
    "executionInfo": {
     "elapsed": 1199,
     "status": "error",
     "timestamp": 1646256279459,
     "user": {
      "displayName": "Brisa Gonçalves",
      "photoUrl": "https://lh3.googleusercontent.com/a-/AOh14GitzE3yBEnyqzopa88QrW2MbETwuEkAWSdRG9efhg0=s64",
      "userId": "03031556768674861812"
     },
     "user_tz": 180
    },
    "id": "4f426db9-19a0-41e7-bbc9-9eb62b865e59",
    "outputId": "68b280b0-79bc-43e6-c165-a5114ce36ff6"
   },
   "outputs": [],
   "source": [
    "# resolve problema de codificação html da coluna 'questoes'\n",
    "data_clone['questoes_html']= data['question'].astype('str').apply(html.unescape)\n",
    "\n",
    "# limpando o texto utilizando as funçoes criadas\n",
    "data_clone['questoes_tags'] = data_clone['questoes_html'].apply(remove_tags)\n",
    "data_clone['questoes_lower'] = data_clone['questoes_tags'].apply(to_lower)\n",
    "data_clone['questoes_numbers'] = data_clone['questoes_lower'].apply(remove_numbers)\n",
    "data_clone['questoes_punct'] = data_clone['questoes_numbers'].apply(remove_punctuation)\n",
    "data_clone['questoes_stopw_pt'] = data_clone['questoes_punct'].apply(remove_standard_stopwords_pt)\n",
    "data_clone['questoes_stopw_en'] = data_clone['questoes_stopw_pt'].apply(remove_standard_stopwords_en)\n"
   ]
  },
  {
   "cell_type": "code",
   "execution_count": 69,
   "id": "3687376d-a8ea-4202-bda9-4a810c8fb392",
   "metadata": {
    "colab": {
     "base_uri": "https://localhost:8080/",
     "height": 548
    },
    "executionInfo": {
     "elapsed": 518,
     "status": "ok",
     "timestamp": 1646084027347,
     "user": {
      "displayName": "Brisa Gonçalves",
      "photoUrl": "https://lh3.googleusercontent.com/a-/AOh14GitzE3yBEnyqzopa88QrW2MbETwuEkAWSdRG9efhg0=s64",
      "userId": "03031556768674861812"
     },
     "user_tz": 180
    },
    "id": "3687376d-a8ea-4202-bda9-4a810c8fb392",
    "outputId": "050a25bf-fe92-4408-9d47-32e5be5f670b",
    "scrolled": true
   },
   "outputs": [
    {
     "data": {
      "text/html": [
       "<div>\n",
       "<style scoped>\n",
       "    .dataframe tbody tr th:only-of-type {\n",
       "        vertical-align: middle;\n",
       "    }\n",
       "\n",
       "    .dataframe tbody tr th {\n",
       "        vertical-align: top;\n",
       "    }\n",
       "\n",
       "    .dataframe thead th {\n",
       "        text-align: right;\n",
       "    }\n",
       "</style>\n",
       "<table border=\"1\" class=\"dataframe\">\n",
       "  <thead>\n",
       "    <tr style=\"text-align: right;\">\n",
       "      <th></th>\n",
       "      <th>id</th>\n",
       "      <th>questoes</th>\n",
       "      <th>tipoQuestoes</th>\n",
       "      <th>topico</th>\n",
       "      <th>slug</th>\n",
       "      <th>materia</th>\n",
       "      <th>slug.1</th>\n",
       "      <th>etapaEnsino</th>\n",
       "      <th>questoes_html</th>\n",
       "      <th>questoes_tags</th>\n",
       "      <th>questoes_lower</th>\n",
       "      <th>questoes_numbers</th>\n",
       "      <th>questoes_punct</th>\n",
       "      <th>questoes_stopw_pt</th>\n",
       "      <th>questoes_stopw_en</th>\n",
       "    </tr>\n",
       "  </thead>\n",
       "  <tbody>\n",
       "    <tr>\n",
       "      <th>0</th>\n",
       "      <td>3486670</td>\n",
       "      <td>&lt;p&gt;Com base em seus conhecimentos sobre o comp...</td>\n",
       "      <td>2</td>\n",
       "      <td>História da Arte</td>\n",
       "      <td>historia-da-arte</td>\n",
       "      <td>Arte</td>\n",
       "      <td>arte</td>\n",
       "      <td>Fundamental II</td>\n",
       "      <td>&lt;p&gt;Com base em seus conhecimentos sobre o comp...</td>\n",
       "      <td>Com base em seus conhecimentos sobre o compos...</td>\n",
       "      <td>com base em seus conhecimentos sobre o compos...</td>\n",
       "      <td>com base em seus conhecimentos sobre o compos...</td>\n",
       "      <td>com base em seus conhecimentos sobre o compos...</td>\n",
       "      <td>base conhecimentos sobre compositor john cage ...</td>\n",
       "      <td>base conhecimentos sobre compositor john cage ...</td>\n",
       "    </tr>\n",
       "    <tr>\n",
       "      <th>1</th>\n",
       "      <td>3343927</td>\n",
       "      <td>&lt;p&gt;&amp;ldquo;Achar um n&amp;uacute;mero que, somado c...</td>\n",
       "      <td>2</td>\n",
       "      <td>Álgebra: Equações do 2º grau: Equação do 2º gr...</td>\n",
       "      <td>algebra-equacoes-do-2o-grau-equacao-do-2o-grau...</td>\n",
       "      <td>Matemática</td>\n",
       "      <td>matematica</td>\n",
       "      <td>Fundamental II</td>\n",
       "      <td>&lt;p&gt;“Achar um número que, somado com 2 seja igu...</td>\n",
       "      <td>“Achar um número que, somado com 2 seja igual...</td>\n",
       "      <td>“achar um número que, somado com 2 seja igual...</td>\n",
       "      <td>“achar um número que, somado com   seja igual...</td>\n",
       "      <td>achar um número que  somado com   seja igual...</td>\n",
       "      <td>achar número somado igual inverso equações rep...</td>\n",
       "      <td>achar número somado igual inverso equações rep...</td>\n",
       "    </tr>\n",
       "    <tr>\n",
       "      <th>2</th>\n",
       "      <td>1927600</td>\n",
       "      <td>&lt;p&gt;2. Complete os espaços abaixo com os artigo...</td>\n",
       "      <td>4</td>\n",
       "      <td>Outros</td>\n",
       "      <td>outros</td>\n",
       "      <td>Espanhol</td>\n",
       "      <td>espanhol</td>\n",
       "      <td>Fundamental II</td>\n",
       "      <td>&lt;p&gt;2. Complete os espaços abaixo com os artigo...</td>\n",
       "      <td>2. Complete os espaços abaixo com os artigos ...</td>\n",
       "      <td>2. complete os espaços abaixo com os artigos ...</td>\n",
       "      <td>. complete os espaços abaixo com os artigos ...</td>\n",
       "      <td>complete os espaços abaixo com os artigos ...</td>\n",
       "      <td>complete espaços abaixo artigos determinados i...</td>\n",
       "      <td>complete espaços abaixo artigos determinados i...</td>\n",
       "    </tr>\n",
       "    <tr>\n",
       "      <th>3</th>\n",
       "      <td>106855</td>\n",
       "      <td>&lt;p&gt;&lt;div&gt; A respeito dos serviços públicos e da...</td>\n",
       "      <td>2</td>\n",
       "      <td>Responsabilidade Civil do Estado</td>\n",
       "      <td>responsabilidade-civil-do-estado</td>\n",
       "      <td>Direito Administrativo</td>\n",
       "      <td>direito-administrativo</td>\n",
       "      <td>Concurso</td>\n",
       "      <td>&lt;p&gt;&lt;div&gt; A respeito dos serviços públicos e da...</td>\n",
       "      <td>A respeito dos serviços públicos e da respo...</td>\n",
       "      <td>a respeito dos serviços públicos e da respo...</td>\n",
       "      <td>a respeito dos serviços públicos e da respo...</td>\n",
       "      <td>a respeito dos serviços públicos e da respo...</td>\n",
       "      <td>respeito serviços públicos responsabilidade ci...</td>\n",
       "      <td>respeito serviços públicos responsabilidade ci...</td>\n",
       "    </tr>\n",
       "    <tr>\n",
       "      <th>4</th>\n",
       "      <td>3691951</td>\n",
       "      <td>&lt;p style=\"padding:0px;margin:10px 0px 0px;outl...</td>\n",
       "      <td>2</td>\n",
       "      <td>Outros</td>\n",
       "      <td>outros</td>\n",
       "      <td>Química</td>\n",
       "      <td>quimica</td>\n",
       "      <td>Fundamental II</td>\n",
       "      <td>&lt;p style=\"padding:0px;margin:10px 0px 0px;outl...</td>\n",
       "      <td>A chuva ácida é um fenômeno provocado pela po...</td>\n",
       "      <td>a chuva ácida é um fenômeno provocado pela po...</td>\n",
       "      <td>a chuva ácida é um fenômeno provocado pela po...</td>\n",
       "      <td>a chuva ácida é um fenômeno provocado pela po...</td>\n",
       "      <td>chuva ácida fenômeno provocado poluição atmosf...</td>\n",
       "      <td>chuva ácida fenômeno provocado poluição atmosf...</td>\n",
       "    </tr>\n",
       "  </tbody>\n",
       "</table>\n",
       "</div>"
      ],
      "text/plain": [
       "        id                                           questoes  tipoQuestoes  \\\n",
       "0  3486670  <p>Com base em seus conhecimentos sobre o comp...             2   \n",
       "1  3343927  <p>&ldquo;Achar um n&uacute;mero que, somado c...             2   \n",
       "2  1927600  <p>2. Complete os espaços abaixo com os artigo...             4   \n",
       "3   106855  <p><div> A respeito dos serviços públicos e da...             2   \n",
       "4  3691951  <p style=\"padding:0px;margin:10px 0px 0px;outl...             2   \n",
       "\n",
       "                                              topico  \\\n",
       "0                                   História da Arte   \n",
       "1  Álgebra: Equações do 2º grau: Equação do 2º gr...   \n",
       "2                                             Outros   \n",
       "3                   Responsabilidade Civil do Estado   \n",
       "4                                             Outros   \n",
       "\n",
       "                                                slug                 materia  \\\n",
       "0                                   historia-da-arte                    Arte   \n",
       "1  algebra-equacoes-do-2o-grau-equacao-do-2o-grau...              Matemática   \n",
       "2                                             outros                Espanhol   \n",
       "3                   responsabilidade-civil-do-estado  Direito Administrativo   \n",
       "4                                             outros                 Química   \n",
       "\n",
       "                   slug.1     etapaEnsino  \\\n",
       "0                    arte  Fundamental II   \n",
       "1              matematica  Fundamental II   \n",
       "2                espanhol  Fundamental II   \n",
       "3  direito-administrativo        Concurso   \n",
       "4                 quimica  Fundamental II   \n",
       "\n",
       "                                       questoes_html  \\\n",
       "0  <p>Com base em seus conhecimentos sobre o comp...   \n",
       "1  <p>“Achar um número que, somado com 2 seja igu...   \n",
       "2  <p>2. Complete os espaços abaixo com os artigo...   \n",
       "3  <p><div> A respeito dos serviços públicos e da...   \n",
       "4  <p style=\"padding:0px;margin:10px 0px 0px;outl...   \n",
       "\n",
       "                                       questoes_tags  \\\n",
       "0   Com base em seus conhecimentos sobre o compos...   \n",
       "1   “Achar um número que, somado com 2 seja igual...   \n",
       "2   2. Complete os espaços abaixo com os artigos ...   \n",
       "3     A respeito dos serviços públicos e da respo...   \n",
       "4   A chuva ácida é um fenômeno provocado pela po...   \n",
       "\n",
       "                                      questoes_lower  \\\n",
       "0   com base em seus conhecimentos sobre o compos...   \n",
       "1   “achar um número que, somado com 2 seja igual...   \n",
       "2   2. complete os espaços abaixo com os artigos ...   \n",
       "3     a respeito dos serviços públicos e da respo...   \n",
       "4   a chuva ácida é um fenômeno provocado pela po...   \n",
       "\n",
       "                                    questoes_numbers  \\\n",
       "0   com base em seus conhecimentos sobre o compos...   \n",
       "1   “achar um número que, somado com   seja igual...   \n",
       "2    . complete os espaços abaixo com os artigos ...   \n",
       "3     a respeito dos serviços públicos e da respo...   \n",
       "4   a chuva ácida é um fenômeno provocado pela po...   \n",
       "\n",
       "                                      questoes_punct  \\\n",
       "0   com base em seus conhecimentos sobre o compos...   \n",
       "1    achar um número que  somado com   seja igual...   \n",
       "2      complete os espaços abaixo com os artigos ...   \n",
       "3     a respeito dos serviços públicos e da respo...   \n",
       "4   a chuva ácida é um fenômeno provocado pela po...   \n",
       "\n",
       "                                   questoes_stopw_pt  \\\n",
       "0  base conhecimentos sobre compositor john cage ...   \n",
       "1  achar número somado igual inverso equações rep...   \n",
       "2  complete espaços abaixo artigos determinados i...   \n",
       "3  respeito serviços públicos responsabilidade ci...   \n",
       "4  chuva ácida fenômeno provocado poluição atmosf...   \n",
       "\n",
       "                                   questoes_stopw_en  \n",
       "0  base conhecimentos sobre compositor john cage ...  \n",
       "1  achar número somado igual inverso equações rep...  \n",
       "2  complete espaços abaixo artigos determinados i...  \n",
       "3  respeito serviços públicos responsabilidade ci...  \n",
       "4  chuva ácida fenômeno provocado poluição atmosf...  "
      ]
     },
     "execution_count": 69,
     "metadata": {},
     "output_type": "execute_result"
    }
   ],
   "source": [
    "data_clone.head()"
   ]
  },
  {
   "cell_type": "code",
   "execution_count": 70,
   "id": "U2RAgqQMG0V-",
   "metadata": {
    "colab": {
     "base_uri": "https://localhost:8080/"
    },
    "executionInfo": {
     "elapsed": 447,
     "status": "ok",
     "timestamp": 1646084039002,
     "user": {
      "displayName": "Brisa Gonçalves",
      "photoUrl": "https://lh3.googleusercontent.com/a-/AOh14GitzE3yBEnyqzopa88QrW2MbETwuEkAWSdRG9efhg0=s64",
      "userId": "03031556768674861812"
     },
     "user_tz": 180
    },
    "id": "U2RAgqQMG0V-",
    "outputId": "664edfed-491d-4a60-c941-f589cd53fe46"
   },
   "outputs": [
    {
     "data": {
      "text/plain": [
       "0         com base em seus conhecimentos sobre o compos...\n",
       "1          achar um número que  somado com   seja igual...\n",
       "2            complete os espaços abaixo com os artigos ...\n",
       "3           a respeito dos serviços públicos e da respo...\n",
       "4         a chuva ácida é um fenômeno provocado pela po...\n",
       "                               ...                        \n",
       "99995     para responder à questão  leia o trecho do co...\n",
       "99996                         em que pais surgiu o skate  \n",
       "99997       a teoria comportamental oferece uma varieda...\n",
       "99998     os machos e fêmeas de mosquitos do gênero  ae...\n",
       "99999     observe a tabela e veja quantos lanches foram...\n",
       "Name: questoes_punct, Length: 100000, dtype: object"
      ]
     },
     "execution_count": 70,
     "metadata": {},
     "output_type": "execute_result"
    }
   ],
   "source": [
    "data_clone['questoes_punct']"
   ]
  },
  {
   "cell_type": "markdown",
   "id": "15bc5750-fa21-4344-8f49-e404621f952c",
   "metadata": {
    "id": "15bc5750-fa21-4344-8f49-e404621f952c"
   },
   "source": [
    "Verifica a existência de questões para concursos e outros tipos que não é interessante para análise"
   ]
  },
  {
   "cell_type": "code",
   "execution_count": 71,
   "id": "e5774409-3c7c-46a5-a61c-ea1c338dbcab",
   "metadata": {
    "colab": {
     "base_uri": "https://localhost:8080/"
    },
    "executionInfo": {
     "elapsed": 437,
     "status": "ok",
     "timestamp": 1646084051381,
     "user": {
      "displayName": "Brisa Gonçalves",
      "photoUrl": "https://lh3.googleusercontent.com/a-/AOh14GitzE3yBEnyqzopa88QrW2MbETwuEkAWSdRG9efhg0=s64",
      "userId": "03031556768674861812"
     },
     "user_tz": 180
    },
    "id": "e5774409-3c7c-46a5-a61c-ea1c338dbcab",
    "outputId": "7e466fe8-3adb-49a8-e33b-69b046c57a50"
   },
   "outputs": [
    {
     "data": {
      "text/plain": [
       "Médio & Pré-Vestibular    35676\n",
       "Fundamental II            33790\n",
       "Fundamental I             18379\n",
       "Concurso                   9875\n",
       "Militar                    2200\n",
       "OAB                          80\n",
       "Name: etapaEnsino, dtype: int64"
      ]
     },
     "execution_count": 71,
     "metadata": {},
     "output_type": "execute_result"
    }
   ],
   "source": [
    "data_clone['etapaEnsino'].value_counts()"
   ]
  },
  {
   "cell_type": "markdown",
   "id": "XPBw7s-jfEVy",
   "metadata": {
    "id": "XPBw7s-jfEVy"
   },
   "source": [
    "Selecionando apenas questões relacionadas ao Ensino Fundamental e Médio"
   ]
  },
  {
   "cell_type": "code",
   "execution_count": 72,
   "id": "3b2e233e-f518-4643-a2c0-4395c6aec887",
   "metadata": {
    "colab": {
     "base_uri": "https://localhost:8080/",
     "height": 600
    },
    "executionInfo": {
     "elapsed": 517,
     "status": "ok",
     "timestamp": 1646084058246,
     "user": {
      "displayName": "Brisa Gonçalves",
      "photoUrl": "https://lh3.googleusercontent.com/a-/AOh14GitzE3yBEnyqzopa88QrW2MbETwuEkAWSdRG9efhg0=s64",
      "userId": "03031556768674861812"
     },
     "user_tz": 180
    },
    "id": "3b2e233e-f518-4643-a2c0-4395c6aec887",
    "outputId": "f23b7e69-2d38-46e5-8954-abf3a7f39016",
    "scrolled": true
   },
   "outputs": [
    {
     "data": {
      "text/html": [
       "<div>\n",
       "<style scoped>\n",
       "    .dataframe tbody tr th:only-of-type {\n",
       "        vertical-align: middle;\n",
       "    }\n",
       "\n",
       "    .dataframe tbody tr th {\n",
       "        vertical-align: top;\n",
       "    }\n",
       "\n",
       "    .dataframe thead th {\n",
       "        text-align: right;\n",
       "    }\n",
       "</style>\n",
       "<table border=\"1\" class=\"dataframe\">\n",
       "  <thead>\n",
       "    <tr style=\"text-align: right;\">\n",
       "      <th></th>\n",
       "      <th>id</th>\n",
       "      <th>questoes</th>\n",
       "      <th>tipoQuestoes</th>\n",
       "      <th>topico</th>\n",
       "      <th>slug</th>\n",
       "      <th>materia</th>\n",
       "      <th>slug.1</th>\n",
       "      <th>etapaEnsino</th>\n",
       "      <th>questoes_html</th>\n",
       "      <th>questoes_tags</th>\n",
       "      <th>questoes_lower</th>\n",
       "      <th>questoes_numbers</th>\n",
       "      <th>questoes_punct</th>\n",
       "      <th>questoes_stopw_pt</th>\n",
       "      <th>questoes_stopw_en</th>\n",
       "    </tr>\n",
       "  </thead>\n",
       "  <tbody>\n",
       "    <tr>\n",
       "      <th>0</th>\n",
       "      <td>3486670</td>\n",
       "      <td>&lt;p&gt;Com base em seus conhecimentos sobre o comp...</td>\n",
       "      <td>2</td>\n",
       "      <td>História da Arte</td>\n",
       "      <td>historia-da-arte</td>\n",
       "      <td>Arte</td>\n",
       "      <td>arte</td>\n",
       "      <td>Fundamental II</td>\n",
       "      <td>&lt;p&gt;Com base em seus conhecimentos sobre o comp...</td>\n",
       "      <td>Com base em seus conhecimentos sobre o compos...</td>\n",
       "      <td>com base em seus conhecimentos sobre o compos...</td>\n",
       "      <td>com base em seus conhecimentos sobre o compos...</td>\n",
       "      <td>com base em seus conhecimentos sobre o compos...</td>\n",
       "      <td>base conhecimentos sobre compositor john cage ...</td>\n",
       "      <td>base conhecimentos sobre compositor john cage ...</td>\n",
       "    </tr>\n",
       "    <tr>\n",
       "      <th>1</th>\n",
       "      <td>3343927</td>\n",
       "      <td>&lt;p&gt;&amp;ldquo;Achar um n&amp;uacute;mero que, somado c...</td>\n",
       "      <td>2</td>\n",
       "      <td>Álgebra: Equações do 2º grau: Equação do 2º gr...</td>\n",
       "      <td>algebra-equacoes-do-2o-grau-equacao-do-2o-grau...</td>\n",
       "      <td>Matemática</td>\n",
       "      <td>matematica</td>\n",
       "      <td>Fundamental II</td>\n",
       "      <td>&lt;p&gt;“Achar um número que, somado com 2 seja igu...</td>\n",
       "      <td>“Achar um número que, somado com 2 seja igual...</td>\n",
       "      <td>“achar um número que, somado com 2 seja igual...</td>\n",
       "      <td>“achar um número que, somado com   seja igual...</td>\n",
       "      <td>achar um número que  somado com   seja igual...</td>\n",
       "      <td>achar número somado igual inverso equações rep...</td>\n",
       "      <td>achar número somado igual inverso equações rep...</td>\n",
       "    </tr>\n",
       "    <tr>\n",
       "      <th>2</th>\n",
       "      <td>1927600</td>\n",
       "      <td>&lt;p&gt;2. Complete os espaços abaixo com os artigo...</td>\n",
       "      <td>4</td>\n",
       "      <td>Outros</td>\n",
       "      <td>outros</td>\n",
       "      <td>Espanhol</td>\n",
       "      <td>espanhol</td>\n",
       "      <td>Fundamental II</td>\n",
       "      <td>&lt;p&gt;2. Complete os espaços abaixo com os artigo...</td>\n",
       "      <td>2. Complete os espaços abaixo com os artigos ...</td>\n",
       "      <td>2. complete os espaços abaixo com os artigos ...</td>\n",
       "      <td>. complete os espaços abaixo com os artigos ...</td>\n",
       "      <td>complete os espaços abaixo com os artigos ...</td>\n",
       "      <td>complete espaços abaixo artigos determinados i...</td>\n",
       "      <td>complete espaços abaixo artigos determinados i...</td>\n",
       "    </tr>\n",
       "    <tr>\n",
       "      <th>4</th>\n",
       "      <td>3691951</td>\n",
       "      <td>&lt;p style=\"padding:0px;margin:10px 0px 0px;outl...</td>\n",
       "      <td>2</td>\n",
       "      <td>Outros</td>\n",
       "      <td>outros</td>\n",
       "      <td>Química</td>\n",
       "      <td>quimica</td>\n",
       "      <td>Fundamental II</td>\n",
       "      <td>&lt;p style=\"padding:0px;margin:10px 0px 0px;outl...</td>\n",
       "      <td>A chuva ácida é um fenômeno provocado pela po...</td>\n",
       "      <td>a chuva ácida é um fenômeno provocado pela po...</td>\n",
       "      <td>a chuva ácida é um fenômeno provocado pela po...</td>\n",
       "      <td>a chuva ácida é um fenômeno provocado pela po...</td>\n",
       "      <td>chuva ácida fenômeno provocado poluição atmosf...</td>\n",
       "      <td>chuva ácida fenômeno provocado poluição atmosf...</td>\n",
       "    </tr>\n",
       "    <tr>\n",
       "      <th>5</th>\n",
       "      <td>2016466</td>\n",
       "      <td>&lt;p&gt;&lt;strong&gt;Anexe nesse espa&amp;ccedil;o uma foto ...</td>\n",
       "      <td>4</td>\n",
       "      <td>Proposta</td>\n",
       "      <td>proposta</td>\n",
       "      <td>Redação</td>\n",
       "      <td>redacao</td>\n",
       "      <td>Fundamental I</td>\n",
       "      <td>&lt;p&gt;&lt;strong&gt;Anexe nesse espaço uma foto da sua ...</td>\n",
       "      <td>Anexe nesse espaço uma foto da sua ilustraçã...</td>\n",
       "      <td>anexe nesse espaço uma foto da sua ilustraçã...</td>\n",
       "      <td>anexe nesse espaço uma foto da sua ilustraçã...</td>\n",
       "      <td>anexe nesse espaço uma foto da sua ilustraçã...</td>\n",
       "      <td>anexe nesse espaço foto ilustração</td>\n",
       "      <td>anexe nesse espaço foto ilustração</td>\n",
       "    </tr>\n",
       "  </tbody>\n",
       "</table>\n",
       "</div>"
      ],
      "text/plain": [
       "        id                                           questoes  tipoQuestoes  \\\n",
       "0  3486670  <p>Com base em seus conhecimentos sobre o comp...             2   \n",
       "1  3343927  <p>&ldquo;Achar um n&uacute;mero que, somado c...             2   \n",
       "2  1927600  <p>2. Complete os espaços abaixo com os artigo...             4   \n",
       "4  3691951  <p style=\"padding:0px;margin:10px 0px 0px;outl...             2   \n",
       "5  2016466  <p><strong>Anexe nesse espa&ccedil;o uma foto ...             4   \n",
       "\n",
       "                                              topico  \\\n",
       "0                                   História da Arte   \n",
       "1  Álgebra: Equações do 2º grau: Equação do 2º gr...   \n",
       "2                                             Outros   \n",
       "4                                             Outros   \n",
       "5                                           Proposta   \n",
       "\n",
       "                                                slug     materia      slug.1  \\\n",
       "0                                   historia-da-arte        Arte        arte   \n",
       "1  algebra-equacoes-do-2o-grau-equacao-do-2o-grau...  Matemática  matematica   \n",
       "2                                             outros    Espanhol    espanhol   \n",
       "4                                             outros     Química     quimica   \n",
       "5                                           proposta     Redação     redacao   \n",
       "\n",
       "      etapaEnsino                                      questoes_html  \\\n",
       "0  Fundamental II  <p>Com base em seus conhecimentos sobre o comp...   \n",
       "1  Fundamental II  <p>“Achar um número que, somado com 2 seja igu...   \n",
       "2  Fundamental II  <p>2. Complete os espaços abaixo com os artigo...   \n",
       "4  Fundamental II  <p style=\"padding:0px;margin:10px 0px 0px;outl...   \n",
       "5   Fundamental I  <p><strong>Anexe nesse espaço uma foto da sua ...   \n",
       "\n",
       "                                       questoes_tags  \\\n",
       "0   Com base em seus conhecimentos sobre o compos...   \n",
       "1   “Achar um número que, somado com 2 seja igual...   \n",
       "2   2. Complete os espaços abaixo com os artigos ...   \n",
       "4   A chuva ácida é um fenômeno provocado pela po...   \n",
       "5    Anexe nesse espaço uma foto da sua ilustraçã...   \n",
       "\n",
       "                                      questoes_lower  \\\n",
       "0   com base em seus conhecimentos sobre o compos...   \n",
       "1   “achar um número que, somado com 2 seja igual...   \n",
       "2   2. complete os espaços abaixo com os artigos ...   \n",
       "4   a chuva ácida é um fenômeno provocado pela po...   \n",
       "5    anexe nesse espaço uma foto da sua ilustraçã...   \n",
       "\n",
       "                                    questoes_numbers  \\\n",
       "0   com base em seus conhecimentos sobre o compos...   \n",
       "1   “achar um número que, somado com   seja igual...   \n",
       "2    . complete os espaços abaixo com os artigos ...   \n",
       "4   a chuva ácida é um fenômeno provocado pela po...   \n",
       "5    anexe nesse espaço uma foto da sua ilustraçã...   \n",
       "\n",
       "                                      questoes_punct  \\\n",
       "0   com base em seus conhecimentos sobre o compos...   \n",
       "1    achar um número que  somado com   seja igual...   \n",
       "2      complete os espaços abaixo com os artigos ...   \n",
       "4   a chuva ácida é um fenômeno provocado pela po...   \n",
       "5    anexe nesse espaço uma foto da sua ilustraçã...   \n",
       "\n",
       "                                   questoes_stopw_pt  \\\n",
       "0  base conhecimentos sobre compositor john cage ...   \n",
       "1  achar número somado igual inverso equações rep...   \n",
       "2  complete espaços abaixo artigos determinados i...   \n",
       "4  chuva ácida fenômeno provocado poluição atmosf...   \n",
       "5                 anexe nesse espaço foto ilustração   \n",
       "\n",
       "                                   questoes_stopw_en  \n",
       "0  base conhecimentos sobre compositor john cage ...  \n",
       "1  achar número somado igual inverso equações rep...  \n",
       "2  complete espaços abaixo artigos determinados i...  \n",
       "4  chuva ácida fenômeno provocado poluição atmosf...  \n",
       "5                 anexe nesse espaço foto ilustração  "
      ]
     },
     "execution_count": 72,
     "metadata": {},
     "output_type": "execute_result"
    }
   ],
   "source": [
    "data_pre_process = data_clone[data_clone[\"etapaEnsino\"].isin([\"Médio & Pré-Vestibular\", \"Fundamental II\", \"Fundamental I\"])]\n",
    "data_pre_process.head()"
   ]
  },
  {
   "cell_type": "code",
   "execution_count": 73,
   "id": "KaB0w1eHP4A8",
   "metadata": {
    "colab": {
     "base_uri": "https://localhost:8080/"
    },
    "executionInfo": {
     "elapsed": 454,
     "status": "ok",
     "timestamp": 1646084065638,
     "user": {
      "displayName": "Brisa Gonçalves",
      "photoUrl": "https://lh3.googleusercontent.com/a-/AOh14GitzE3yBEnyqzopa88QrW2MbETwuEkAWSdRG9efhg0=s64",
      "userId": "03031556768674861812"
     },
     "user_tz": 180
    },
    "id": "KaB0w1eHP4A8",
    "outputId": "69ffe841-674f-4b70-a539-670fdf6ef9c2"
   },
   "outputs": [
    {
     "data": {
      "text/plain": [
       "Médio & Pré-Vestibular    35676\n",
       "Fundamental II            33790\n",
       "Fundamental I             18379\n",
       "Name: etapaEnsino, dtype: int64"
      ]
     },
     "execution_count": 73,
     "metadata": {},
     "output_type": "execute_result"
    }
   ],
   "source": [
    "# Verificando se foram selecionadas as etapas targets corretas\n",
    "\n",
    "data_pre_process['etapaEnsino'].value_counts()"
   ]
  },
  {
   "cell_type": "markdown",
   "id": "be7ca6ee-f29e-4748-a39b-56d63896b2a0",
   "metadata": {
    "id": "be7ca6ee-f29e-4748-a39b-56d63896b2a0"
   },
   "source": [
    "A variável tipoQuestoes contém items dos tipos:\n",
    "\n",
    "1. Somatória\n",
    "2. Múltipla Escolha\n",
    "3. Certo e Errado\n",
    "4. Discursiva\n",
    "5. Redação ou items que é necessário enviar foto da resolução\n",
    "6. Questões com mais de uma alternativa certa\n",
    "7. Não representa nada em específico\n",
    "\n",
    "Iremos remover questoes tipo 5 e 6 pois não se adequam ao tipo de alvo do nosso problema."
   ]
  },
  {
   "cell_type": "code",
   "execution_count": 74,
   "id": "02a622fb-d9ef-491d-94a9-544a660fa0f7",
   "metadata": {
    "colab": {
     "base_uri": "https://localhost:8080/"
    },
    "executionInfo": {
     "elapsed": 440,
     "status": "ok",
     "timestamp": 1646084077351,
     "user": {
      "displayName": "Brisa Gonçalves",
      "photoUrl": "https://lh3.googleusercontent.com/a-/AOh14GitzE3yBEnyqzopa88QrW2MbETwuEkAWSdRG9efhg0=s64",
      "userId": "03031556768674861812"
     },
     "user_tz": 180
    },
    "id": "02a622fb-d9ef-491d-94a9-544a660fa0f7",
    "outputId": "0c5a3100-e5b2-4e6e-d368-3169b556856e"
   },
   "outputs": [
    {
     "data": {
      "text/plain": [
       "6        5\n",
       "7      209\n",
       "5      999\n",
       "3     1179\n",
       "1     2968\n",
       "4    13881\n",
       "2    68604\n",
       "Name: tipoQuestoes, dtype: int64"
      ]
     },
     "execution_count": 74,
     "metadata": {},
     "output_type": "execute_result"
    }
   ],
   "source": [
    "data_pre_process[\"tipoQuestoes\"].value_counts(ascending=True)"
   ]
  },
  {
   "cell_type": "markdown",
   "id": "io7bukKJjTnW",
   "metadata": {
    "id": "io7bukKJjTnW"
   },
   "source": [
    "Obs.: Questoes tipo Multipla escolha e Discursiva somam a maioria das questões"
   ]
  },
  {
   "cell_type": "markdown",
   "id": "ad9fe614-f229-404e-98ea-a0ee1e30e17f",
   "metadata": {
    "id": "ad9fe614-f229-404e-98ea-a0ee1e30e17f"
   },
   "source": [
    "Remover as questoes tipo 5 e 6 pois não se adequam ao nosso problema de Classificação"
   ]
  },
  {
   "cell_type": "code",
   "execution_count": 75,
   "id": "60f473f6-3388-48f5-8cc7-d78692df5bb9",
   "metadata": {
    "executionInfo": {
     "elapsed": 436,
     "status": "ok",
     "timestamp": 1646084180096,
     "user": {
      "displayName": "Brisa Gonçalves",
      "photoUrl": "https://lh3.googleusercontent.com/a-/AOh14GitzE3yBEnyqzopa88QrW2MbETwuEkAWSdRG9efhg0=s64",
      "userId": "03031556768674861812"
     },
     "user_tz": 180
    },
    "id": "60f473f6-3388-48f5-8cc7-d78692df5bb9"
   },
   "outputs": [],
   "source": [
    "data_pre_process_quest= data_pre_process[~data_pre_process[\"tipoQuestoes\"].isin([5, 6])]"
   ]
  },
  {
   "cell_type": "code",
   "execution_count": 76,
   "id": "dd70312c",
   "metadata": {},
   "outputs": [
    {
     "data": {
      "text/plain": [
       "7      209\n",
       "3     1179\n",
       "1     2968\n",
       "4    13881\n",
       "2    68604\n",
       "Name: tipoQuestoes, dtype: int64"
      ]
     },
     "execution_count": 76,
     "metadata": {},
     "output_type": "execute_result"
    }
   ],
   "source": [
    "data_pre_process_quest[\"tipoQuestoes\"].value_counts(ascending=True)"
   ]
  },
  {
   "cell_type": "markdown",
   "id": "UfhVziZUIHae",
   "metadata": {
    "id": "UfhVziZUIHae"
   },
   "source": [
    "Existem algumas matérias que não se encaixam na BNCC, por isso será necessário removê-las"
   ]
  },
  {
   "cell_type": "code",
   "execution_count": 77,
   "id": "PjgxIs4z7RvH",
   "metadata": {
    "colab": {
     "base_uri": "https://localhost:8080/"
    },
    "executionInfo": {
     "elapsed": 526,
     "status": "ok",
     "timestamp": 1646084193468,
     "user": {
      "displayName": "Brisa Gonçalves",
      "photoUrl": "https://lh3.googleusercontent.com/a-/AOh14GitzE3yBEnyqzopa88QrW2MbETwuEkAWSdRG9efhg0=s64",
      "userId": "03031556768674861812"
     },
     "user_tz": 180
    },
    "id": "PjgxIs4z7RvH",
    "outputId": "1530e1c7-128b-4fe7-c9bf-d28ed3295a88"
   },
   "outputs": [
    {
     "data": {
      "text/plain": [
       "Língua inglesa              1\n",
       "Geral                       2\n",
       "Conhecimentos Gerais        7\n",
       "Italiano                   11\n",
       "Francês                    17\n",
       "Alemão                     25\n",
       "Ciências Humanas           33\n",
       "Desenho Geométrico         53\n",
       "Atualidades                70\n",
       "Produção de Texto         331\n",
       "Ensino Religioso          446\n",
       "Redação                   603\n",
       "Sociologia               1385\n",
       "Outros                   1512\n",
       "Literatura               2192\n",
       "Espanhol                 2266\n",
       "Educação Física          2322\n",
       "Biologia                 3024\n",
       "Química                  3101\n",
       "Arte                     3642\n",
       "Filosofia                3691\n",
       "Física                   5355\n",
       "Ciências                 7047\n",
       "Inglês                   7923\n",
       "História                 8872\n",
       "Geografia                9056\n",
       "Língua Portuguesa       11785\n",
       "Matemática              12069\n",
       "Name: materia, dtype: int64"
      ]
     },
     "execution_count": 77,
     "metadata": {},
     "output_type": "execute_result"
    }
   ],
   "source": [
    "data_pre_process_quest[\"materia\"].value_counts(ascending=True)"
   ]
  },
  {
   "cell_type": "markdown",
   "id": "0b57ec83",
   "metadata": {},
   "source": [
    "Materias listadas pela BNCC\n",
    "Ensino Fundamental 1 e 2 :\n",
    "* Português\n",
    "* Artes\n",
    "* Educação Física\n",
    "* Inglês\n",
    "* Matemática\n",
    "* Ciências\n",
    "* Geografia\n",
    "* História\n",
    "* Ensino Religioso\n",
    "\n",
    "Ensino Médio\n",
    "\n",
    "* Linguagens e suas Tecnologias (Arte, Educação Física, Língua Inglesa e Língua Portuguesa)\n",
    "* Matemática e suas Tecnologias (Matemática)\n",
    "* Ciências da Natureza e suas Tecnologias (Biologia, Física e Química)\n",
    "* Ciências Humanas e Sociais Aplicadas ( História, Geografia, Filosofia e Sociologia)"
   ]
  },
  {
   "cell_type": "markdown",
   "id": "4ee9d3cd",
   "metadata": {},
   "source": [
    "Primeiro iremos agrupar materias para coincidir com as listadas na BNCC"
   ]
  },
  {
   "cell_type": "code",
   "execution_count": 78,
   "id": "986e7be8",
   "metadata": {},
   "outputs": [],
   "source": [
    "data_pre_process_group = data_pre_process_quest.copy()\n",
    "data_pre_process_group.replace('Língua inglesa','Inglês', inplace = True)\n",
    "data_pre_process_group.replace('Desenho Geométrico','Matemática', inplace = True)\n",
    "data_pre_process_group.replace(['Produção de Texto', 'Literatura'],'Língua Portuguesa', inplace = True)"
   ]
  },
  {
   "cell_type": "markdown",
   "id": "fC4Hi2ksStzJ",
   "metadata": {
    "id": "fC4Hi2ksStzJ"
   },
   "source": [
    "Selecionando apenas as matérias listadas na BNCC para Ensino médio e Fundamental 1 e 2"
   ]
  },
  {
   "cell_type": "code",
   "execution_count": 79,
   "id": "3rydFQqeStKS",
   "metadata": {
    "colab": {
     "base_uri": "https://localhost:8080/",
     "height": 235
    },
    "executionInfo": {
     "elapsed": 136,
     "status": "error",
     "timestamp": 1646256044112,
     "user": {
      "displayName": "Brisa Gonçalves",
      "photoUrl": "https://lh3.googleusercontent.com/a-/AOh14GitzE3yBEnyqzopa88QrW2MbETwuEkAWSdRG9efhg0=s64",
      "userId": "03031556768674861812"
     },
     "user_tz": 180
    },
    "id": "3rydFQqeStKS",
    "outputId": "bd860d6d-5e5c-4f9a-d742-79c8a27750bd"
   },
   "outputs": [],
   "source": [
    "data_pre_process_group = data_pre_process_group[~data_pre_process_group[\"materia\"].isin([\n",
    "    'Italiano', 'Espanhol','Francês','Alemão', 'Redação','Atualidades','Geral', 'Conhecimentos Gerais','Outros','Ciências Humanas'])]"
   ]
  },
  {
   "cell_type": "code",
   "execution_count": 80,
   "id": "-v6Okk_BYiVO",
   "metadata": {
    "colab": {
     "base_uri": "https://localhost:8080/"
    },
    "executionInfo": {
     "elapsed": 640,
     "status": "ok",
     "timestamp": 1646086310463,
     "user": {
      "displayName": "Brisa Gonçalves",
      "photoUrl": "https://lh3.googleusercontent.com/a-/AOh14GitzE3yBEnyqzopa88QrW2MbETwuEkAWSdRG9efhg0=s64",
      "userId": "03031556768674861812"
     },
     "user_tz": 180
    },
    "id": "-v6Okk_BYiVO",
    "outputId": "03000abe-ffea-4ff4-b3de-29c1cf7a70b5"
   },
   "outputs": [
    {
     "data": {
      "text/plain": [
       "Ensino Religioso       446\n",
       "Sociologia            1385\n",
       "Educação Física       2322\n",
       "Biologia              3024\n",
       "Química               3101\n",
       "Arte                  3642\n",
       "Filosofia             3691\n",
       "Física                5355\n",
       "Ciências              7047\n",
       "Inglês                7924\n",
       "História              8872\n",
       "Geografia             9056\n",
       "Matemática           12122\n",
       "Língua Portuguesa    14308\n",
       "Name: materia, dtype: int64"
      ]
     },
     "execution_count": 80,
     "metadata": {},
     "output_type": "execute_result"
    }
   ],
   "source": [
    "data_pre_process_group[\"materia\"].value_counts(ascending=True)"
   ]
  },
  {
   "cell_type": "markdown",
   "id": "08222d72-60b5-4b6e-afb8-d50bd4644338",
   "metadata": {
    "id": "08222d72-60b5-4b6e-afb8-d50bd4644338"
   },
   "source": [
    "Tokenizaçao das Questoes usando NLTK"
   ]
  },
  {
   "cell_type": "code",
   "execution_count": 81,
   "id": "MoXfXYxxBUFU",
   "metadata": {
    "colab": {
     "base_uri": "https://localhost:8080/",
     "height": 617
    },
    "executionInfo": {
     "elapsed": 387,
     "status": "ok",
     "timestamp": 1645728079135,
     "user": {
      "displayName": "Brisa Gonçalves",
      "photoUrl": "https://lh3.googleusercontent.com/a-/AOh14GitzE3yBEnyqzopa88QrW2MbETwuEkAWSdRG9efhg0=s64",
      "userId": "03031556768674861812"
     },
     "user_tz": 180
    },
    "id": "MoXfXYxxBUFU",
    "outputId": "dbcb420f-5f90-4d99-dd10-5b9b1cb776ee"
   },
   "outputs": [
    {
     "data": {
      "text/plain": [
       "0    [base, conhecimentos, sobre, compositor, john,...\n",
       "1    [achar, número, somado, igual, inverso, equaçõ...\n",
       "4    [chuva, ácida, fenômeno, provocado, poluição, ...\n",
       "6                        [pagina, nr, livro, didático]\n",
       "7                                        [chiaroscuro]\n",
       "Name: questoes_tokens, dtype: object"
      ]
     },
     "execution_count": 81,
     "metadata": {},
     "output_type": "execute_result"
    }
   ],
   "source": [
    "data_pre_process_tokens = data_pre_process_group.copy()\n",
    "data_pre_process_tokens['questoes_tokens'] = data_pre_process_tokens['questoes_stopw_en'].apply(word_tokenize)\n",
    "data_pre_process_tokens['questoes_tokens'].head()"
   ]
  },
  {
   "cell_type": "markdown",
   "id": "9927b66a",
   "metadata": {},
   "source": [
    "Stemming - Remove sufixo das palavras e reduz à sua forma basal"
   ]
  },
  {
   "cell_type": "code",
   "execution_count": 111,
   "id": "81aef8e8",
   "metadata": {},
   "outputs": [],
   "source": [
    "# função para aplicar processo de 'stemming' na coluna questoes\n",
    "\n",
    "stemmer = SnowballStemmer(\"portuguese\")\n",
    "\n",
    "def stemming_text(text):\n",
    "    return [stemmer.stem(w) for w in text]\n",
    "\n",
    "data_pre_process_tokens['questoes_stemm'] = data_pre_process_tokens['questoes_tokens'].apply(stemming_text)"
   ]
  },
  {
   "cell_type": "code",
   "execution_count": 112,
   "id": "57b6bc2c",
   "metadata": {},
   "outputs": [
    {
     "data": {
      "text/plain": [
       "0    [bas, conhec, sobr, compositor, john, cag, ana...\n",
       "1    [achar, númer, som, igual, invers, equaçõ, rep...\n",
       "4    [chuv, ácid, fenômen, provoc, poluiçã, atmosfé...\n",
       "6                             [pagin, nr, livr, didát]\n",
       "7                                         [chiaroscur]\n",
       "Name: questoes_stemm, dtype: object"
      ]
     },
     "execution_count": 112,
     "metadata": {},
     "output_type": "execute_result"
    }
   ],
   "source": [
    "data_pre_process_tokens['questoes_stemm'].head()"
   ]
  },
  {
   "cell_type": "markdown",
   "id": "0c321018",
   "metadata": {},
   "source": [
    "Lemmatizing - é o processo de agrupar as diferentes formas flexionadas de uma palavra para que possam ser analisadas como um único item"
   ]
  },
  {
   "cell_type": "code",
   "execution_count": 113,
   "id": "052030e1",
   "metadata": {},
   "outputs": [],
   "source": [
    "# função para aplicar processo de 'lemmatizing' na coluna questoes\n",
    "lemmatizer = WordNetLemmatizer()\n",
    "\n",
    "def lemmatize_text(text):\n",
    "    return [lemmatizer.lemmatize(w) for w in text]\n",
    "\n",
    "data_pre_process_tokens['questoes_lemma'] = data_pre_process_tokens['questoes_tokens'].apply(lemmatize_text)"
   ]
  },
  {
   "cell_type": "code",
   "execution_count": 114,
   "id": "1da221f9",
   "metadata": {
    "scrolled": true
   },
   "outputs": [
    {
     "data": {
      "text/plain": [
       "0    [base, conhecimentos, sobre, compositor, john,...\n",
       "1    [achar, número, somado, igual, inverso, equaçõ...\n",
       "4    [chuva, ácida, fenômeno, provocado, poluição, ...\n",
       "6                        [pagina, nr, livro, didático]\n",
       "7                                        [chiaroscuro]\n",
       "Name: questoes_lemma, dtype: object"
      ]
     },
     "execution_count": 114,
     "metadata": {},
     "output_type": "execute_result"
    }
   ],
   "source": [
    "data_pre_process_tokens['questoes_lemma'].head()"
   ]
  },
  {
   "cell_type": "markdown",
   "id": "2df1add3",
   "metadata": {},
   "source": [
    "Deletando colunas que não utilizaremos para análises futuras"
   ]
  },
  {
   "cell_type": "code",
   "execution_count": null,
   "id": "63709ea4",
   "metadata": {},
   "outputs": [],
   "source": [
    "data_pre_process_tokens.drop(['slug','slug.1'], axis=1, inplace=True)"
   ]
  },
  {
   "cell_type": "code",
   "execution_count": 103,
   "id": "422554d2",
   "metadata": {},
   "outputs": [
    {
     "data": {
      "text/html": [
       "<div>\n",
       "<style scoped>\n",
       "    .dataframe tbody tr th:only-of-type {\n",
       "        vertical-align: middle;\n",
       "    }\n",
       "\n",
       "    .dataframe tbody tr th {\n",
       "        vertical-align: top;\n",
       "    }\n",
       "\n",
       "    .dataframe thead th {\n",
       "        text-align: right;\n",
       "    }\n",
       "</style>\n",
       "<table border=\"1\" class=\"dataframe\">\n",
       "  <thead>\n",
       "    <tr style=\"text-align: right;\">\n",
       "      <th></th>\n",
       "      <th>id</th>\n",
       "      <th>questoes</th>\n",
       "      <th>tipoQuestoes</th>\n",
       "      <th>topico</th>\n",
       "      <th>materia</th>\n",
       "      <th>etapaEnsino</th>\n",
       "      <th>questoes_html</th>\n",
       "      <th>questoes_tags</th>\n",
       "      <th>questoes_lower</th>\n",
       "      <th>questoes_numbers</th>\n",
       "      <th>questoes_punct</th>\n",
       "      <th>questoes_stopw_pt</th>\n",
       "      <th>questoes_stopw_en</th>\n",
       "      <th>questoes_tokens</th>\n",
       "      <th>questoes_stemm</th>\n",
       "      <th>questoes_lemma</th>\n",
       "    </tr>\n",
       "  </thead>\n",
       "  <tbody>\n",
       "    <tr>\n",
       "      <th>0</th>\n",
       "      <td>3486670</td>\n",
       "      <td>&lt;p&gt;Com base em seus conhecimentos sobre o comp...</td>\n",
       "      <td>2</td>\n",
       "      <td>História da Arte</td>\n",
       "      <td>Arte</td>\n",
       "      <td>Fundamental II</td>\n",
       "      <td>&lt;p&gt;Com base em seus conhecimentos sobre o comp...</td>\n",
       "      <td>Com base em seus conhecimentos sobre o compos...</td>\n",
       "      <td>com base em seus conhecimentos sobre o compos...</td>\n",
       "      <td>com base em seus conhecimentos sobre o compos...</td>\n",
       "      <td>com base em seus conhecimentos sobre o compos...</td>\n",
       "      <td>base conhecimentos sobre compositor john cage ...</td>\n",
       "      <td>base conhecimentos sobre compositor john cage ...</td>\n",
       "      <td>[base, conhecimentos, sobre, compositor, john,...</td>\n",
       "      <td>[bas, conhec, sobr, compositor, john, cag, ana...</td>\n",
       "      <td>[base, conhecimentos, sobre, compositor, john,...</td>\n",
       "    </tr>\n",
       "    <tr>\n",
       "      <th>1</th>\n",
       "      <td>3343927</td>\n",
       "      <td>&lt;p&gt;&amp;ldquo;Achar um n&amp;uacute;mero que, somado c...</td>\n",
       "      <td>2</td>\n",
       "      <td>Álgebra: Equações do 2º grau: Equação do 2º gr...</td>\n",
       "      <td>Matemática</td>\n",
       "      <td>Fundamental II</td>\n",
       "      <td>&lt;p&gt;“Achar um número que, somado com 2 seja igu...</td>\n",
       "      <td>“Achar um número que, somado com 2 seja igual...</td>\n",
       "      <td>“achar um número que, somado com 2 seja igual...</td>\n",
       "      <td>“achar um número que, somado com   seja igual...</td>\n",
       "      <td>achar um número que  somado com   seja igual...</td>\n",
       "      <td>achar número somado igual inverso equações rep...</td>\n",
       "      <td>achar número somado igual inverso equações rep...</td>\n",
       "      <td>[achar, número, somado, igual, inverso, equaçõ...</td>\n",
       "      <td>[achar, númer, som, igual, invers, equaçõ, rep...</td>\n",
       "      <td>[achar, número, somado, igual, inverso, equaçõ...</td>\n",
       "    </tr>\n",
       "    <tr>\n",
       "      <th>4</th>\n",
       "      <td>3691951</td>\n",
       "      <td>&lt;p style=\"padding:0px;margin:10px 0px 0px;outl...</td>\n",
       "      <td>2</td>\n",
       "      <td>Outros</td>\n",
       "      <td>Química</td>\n",
       "      <td>Fundamental II</td>\n",
       "      <td>&lt;p style=\"padding:0px;margin:10px 0px 0px;outl...</td>\n",
       "      <td>A chuva ácida é um fenômeno provocado pela po...</td>\n",
       "      <td>a chuva ácida é um fenômeno provocado pela po...</td>\n",
       "      <td>a chuva ácida é um fenômeno provocado pela po...</td>\n",
       "      <td>a chuva ácida é um fenômeno provocado pela po...</td>\n",
       "      <td>chuva ácida fenômeno provocado poluição atmosf...</td>\n",
       "      <td>chuva ácida fenômeno provocado poluição atmosf...</td>\n",
       "      <td>[chuva, ácida, fenômeno, provocado, poluição, ...</td>\n",
       "      <td>[chuv, ácid, fenômen, provoc, poluiçã, atmosfé...</td>\n",
       "      <td>[chuva, ácida, fenômeno, provocado, poluição, ...</td>\n",
       "    </tr>\n",
       "    <tr>\n",
       "      <th>6</th>\n",
       "      <td>1744035</td>\n",
       "      <td>&lt;p&gt;Pagina nr. 54 do Livro did&amp;aacute;tico.&lt;/p&gt;</td>\n",
       "      <td>4</td>\n",
       "      <td>Idade Moderna: Revolução Francesa: Antecedente...</td>\n",
       "      <td>História</td>\n",
       "      <td>Fundamental II</td>\n",
       "      <td>&lt;p&gt;Pagina nr. 54 do Livro didático.&lt;/p&gt;</td>\n",
       "      <td>Pagina nr. 54 do Livro didático.</td>\n",
       "      <td>pagina nr. 54 do livro didático.</td>\n",
       "      <td>pagina nr.   do livro didático.</td>\n",
       "      <td>pagina nr    do livro didático</td>\n",
       "      <td>pagina nr livro didático</td>\n",
       "      <td>pagina nr livro didático</td>\n",
       "      <td>[pagina, nr, livro, didático]</td>\n",
       "      <td>[pagin, nr, livr, didát]</td>\n",
       "      <td>[pagina, nr, livro, didático]</td>\n",
       "    </tr>\n",
       "    <tr>\n",
       "      <th>7</th>\n",
       "      <td>2525602</td>\n",
       "      <td>&lt;p&gt;O que &amp;eacute; CHIAROSCURO?&lt;/p&gt;</td>\n",
       "      <td>4</td>\n",
       "      <td>História da Arte: Arte Barroca</td>\n",
       "      <td>Arte</td>\n",
       "      <td>Médio &amp; Pré-Vestibular</td>\n",
       "      <td>&lt;p&gt;O que é CHIAROSCURO?&lt;/p&gt;</td>\n",
       "      <td>O que é CHIAROSCURO?</td>\n",
       "      <td>o que é chiaroscuro?</td>\n",
       "      <td>o que é chiaroscuro?</td>\n",
       "      <td>o que é chiaroscuro</td>\n",
       "      <td>chiaroscuro</td>\n",
       "      <td>chiaroscuro</td>\n",
       "      <td>[chiaroscuro]</td>\n",
       "      <td>[chiaroscur]</td>\n",
       "      <td>[chiaroscuro]</td>\n",
       "    </tr>\n",
       "  </tbody>\n",
       "</table>\n",
       "</div>"
      ],
      "text/plain": [
       "        id                                           questoes  tipoQuestoes  \\\n",
       "0  3486670  <p>Com base em seus conhecimentos sobre o comp...             2   \n",
       "1  3343927  <p>&ldquo;Achar um n&uacute;mero que, somado c...             2   \n",
       "4  3691951  <p style=\"padding:0px;margin:10px 0px 0px;outl...             2   \n",
       "6  1744035     <p>Pagina nr. 54 do Livro did&aacute;tico.</p>             4   \n",
       "7  2525602                 <p>O que &eacute; CHIAROSCURO?</p>             4   \n",
       "\n",
       "                                              topico     materia  \\\n",
       "0                                   História da Arte        Arte   \n",
       "1  Álgebra: Equações do 2º grau: Equação do 2º gr...  Matemática   \n",
       "4                                             Outros     Química   \n",
       "6  Idade Moderna: Revolução Francesa: Antecedente...    História   \n",
       "7                     História da Arte: Arte Barroca        Arte   \n",
       "\n",
       "              etapaEnsino                                      questoes_html  \\\n",
       "0          Fundamental II  <p>Com base em seus conhecimentos sobre o comp...   \n",
       "1          Fundamental II  <p>“Achar um número que, somado com 2 seja igu...   \n",
       "4          Fundamental II  <p style=\"padding:0px;margin:10px 0px 0px;outl...   \n",
       "6          Fundamental II            <p>Pagina nr. 54 do Livro didático.</p>   \n",
       "7  Médio & Pré-Vestibular                        <p>O que é CHIAROSCURO?</p>   \n",
       "\n",
       "                                       questoes_tags  \\\n",
       "0   Com base em seus conhecimentos sobre o compos...   \n",
       "1   “Achar um número que, somado com 2 seja igual...   \n",
       "4   A chuva ácida é um fenômeno provocado pela po...   \n",
       "6                  Pagina nr. 54 do Livro didático.    \n",
       "7                              O que é CHIAROSCURO?    \n",
       "\n",
       "                                      questoes_lower  \\\n",
       "0   com base em seus conhecimentos sobre o compos...   \n",
       "1   “achar um número que, somado com 2 seja igual...   \n",
       "4   a chuva ácida é um fenômeno provocado pela po...   \n",
       "6                  pagina nr. 54 do livro didático.    \n",
       "7                              o que é chiaroscuro?    \n",
       "\n",
       "                                    questoes_numbers  \\\n",
       "0   com base em seus conhecimentos sobre o compos...   \n",
       "1   “achar um número que, somado com   seja igual...   \n",
       "4   a chuva ácida é um fenômeno provocado pela po...   \n",
       "6                   pagina nr.   do livro didático.    \n",
       "7                              o que é chiaroscuro?    \n",
       "\n",
       "                                      questoes_punct  \\\n",
       "0   com base em seus conhecimentos sobre o compos...   \n",
       "1    achar um número que  somado com   seja igual...   \n",
       "4   a chuva ácida é um fenômeno provocado pela po...   \n",
       "6                   pagina nr    do livro didático     \n",
       "7                              o que é chiaroscuro     \n",
       "\n",
       "                                   questoes_stopw_pt  \\\n",
       "0  base conhecimentos sobre compositor john cage ...   \n",
       "1  achar número somado igual inverso equações rep...   \n",
       "4  chuva ácida fenômeno provocado poluição atmosf...   \n",
       "6                           pagina nr livro didático   \n",
       "7                                        chiaroscuro   \n",
       "\n",
       "                                   questoes_stopw_en  \\\n",
       "0  base conhecimentos sobre compositor john cage ...   \n",
       "1  achar número somado igual inverso equações rep...   \n",
       "4  chuva ácida fenômeno provocado poluição atmosf...   \n",
       "6                           pagina nr livro didático   \n",
       "7                                        chiaroscuro   \n",
       "\n",
       "                                     questoes_tokens  \\\n",
       "0  [base, conhecimentos, sobre, compositor, john,...   \n",
       "1  [achar, número, somado, igual, inverso, equaçõ...   \n",
       "4  [chuva, ácida, fenômeno, provocado, poluição, ...   \n",
       "6                      [pagina, nr, livro, didático]   \n",
       "7                                      [chiaroscuro]   \n",
       "\n",
       "                                      questoes_stemm  \\\n",
       "0  [bas, conhec, sobr, compositor, john, cag, ana...   \n",
       "1  [achar, númer, som, igual, invers, equaçõ, rep...   \n",
       "4  [chuv, ácid, fenômen, provoc, poluiçã, atmosfé...   \n",
       "6                           [pagin, nr, livr, didát]   \n",
       "7                                       [chiaroscur]   \n",
       "\n",
       "                                      questoes_lemma  \n",
       "0  [base, conhecimentos, sobre, compositor, john,...  \n",
       "1  [achar, número, somado, igual, inverso, equaçõ...  \n",
       "4  [chuva, ácida, fenômeno, provocado, poluição, ...  \n",
       "6                      [pagina, nr, livro, didático]  \n",
       "7                                      [chiaroscuro]  "
      ]
     },
     "execution_count": 103,
     "metadata": {},
     "output_type": "execute_result"
    }
   ],
   "source": [
    "data_pre_process_tokens.head()"
   ]
  },
  {
   "cell_type": "code",
   "execution_count": 109,
   "id": "2277edf7",
   "metadata": {},
   "outputs": [],
   "source": [
    "data_preprocess_basic = data_pre_process_tokens.copy()\n",
    "data_preprocess_basic.to_csv('G:/Meu Drive/DataScience/DS-Tera/ProjetoBNCC/bncc-classifier/data/curated/data_preprocess_basic.csv', index = False)"
   ]
  },
  {
   "cell_type": "code",
   "execution_count": null,
   "id": "2499cf01",
   "metadata": {},
   "outputs": [],
   "source": []
  }
 ],
 "metadata": {
  "colab": {
   "collapsed_sections": [],
   "name": "brisa-25-02-eda.ipynb",
   "provenance": []
  },
  "kernelspec": {
   "display_name": "Python 3 (ipykernel)",
   "language": "python",
   "name": "python3"
  },
  "language_info": {
   "codemirror_mode": {
    "name": "ipython",
    "version": 3
   },
   "file_extension": ".py",
   "mimetype": "text/x-python",
   "name": "python",
   "nbconvert_exporter": "python",
   "pygments_lexer": "ipython3",
   "version": "3.9.7"
  }
 },
 "nbformat": 4,
 "nbformat_minor": 5
}
