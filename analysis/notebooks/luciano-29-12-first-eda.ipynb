{
 "cells": [
  {
   "cell_type": "code",
   "execution_count": 1,
   "metadata": {},
   "outputs": [],
   "source": [
    "# libs\n",
    "import pandas as pd"
   ]
  },
  {
   "cell_type": "code",
   "execution_count": 3,
   "metadata": {},
   "outputs": [],
   "source": [
    "# data\n",
    "bncc_data = pd.read_csv(\"data/raw/bncc_first_classifier.csv\")"
   ]
  },
  {
   "cell_type": "code",
   "execution_count": 6,
   "metadata": {},
   "outputs": [
    {
     "data": {
      "text/plain": [
       "Médio & Pré-Vestibular    35676\n",
       "Fundamental II            33790\n",
       "Fundamental I             18379\n",
       "Concurso                   9875\n",
       "Militar                    2200\n",
       "OAB                          80\n",
       "Name: name.2, dtype: int64"
      ]
     },
     "execution_count": 6,
     "metadata": {},
     "output_type": "execute_result"
    }
   ],
   "source": [
    "bncc_data[\"name.2\"].value_counts()"
   ]
  },
  {
   "cell_type": "code",
   "execution_count": 7,
   "metadata": {},
   "outputs": [
    {
     "data": {
      "text/plain": [
       "12155"
      ]
     },
     "execution_count": 7,
     "metadata": {},
     "output_type": "execute_result"
    }
   ],
   "source": [
    "9875+2200+80"
   ]
  },
  {
   "cell_type": "code",
   "execution_count": 4,
   "metadata": {},
   "outputs": [
    {
     "data": {
      "text/plain": [
       "2    77245\n",
       "4    13885\n",
       "3     4689\n",
       "1     2968\n",
       "5      999\n",
       "7      209\n",
       "6        5\n",
       "Name: bulletType, dtype: int64"
      ]
     },
     "execution_count": 4,
     "metadata": {},
     "output_type": "execute_result"
    }
   ],
   "source": [
    "bncc_data[\"bulletType\"].value_counts()"
   ]
  },
  {
   "cell_type": "code",
   "execution_count": 5,
   "metadata": {},
   "outputs": [
    {
     "data": {
      "text/html": [
       "<div>\n",
       "<style scoped>\n",
       "    .dataframe tbody tr th:only-of-type {\n",
       "        vertical-align: middle;\n",
       "    }\n",
       "\n",
       "    .dataframe tbody tr th {\n",
       "        vertical-align: top;\n",
       "    }\n",
       "\n",
       "    .dataframe thead th {\n",
       "        text-align: right;\n",
       "    }\n",
       "</style>\n",
       "<table border=\"1\" class=\"dataframe\">\n",
       "  <thead>\n",
       "    <tr style=\"text-align: right;\">\n",
       "      <th></th>\n",
       "      <th>id</th>\n",
       "      <th>question</th>\n",
       "      <th>bulletType</th>\n",
       "      <th>name</th>\n",
       "      <th>slug</th>\n",
       "      <th>name.1</th>\n",
       "      <th>slug.1</th>\n",
       "      <th>name.2</th>\n",
       "    </tr>\n",
       "  </thead>\n",
       "  <tbody>\n",
       "    <tr>\n",
       "      <th>0</th>\n",
       "      <td>3486670</td>\n",
       "      <td>&lt;p&gt;Com base em seus conhecimentos sobre o comp...</td>\n",
       "      <td>2</td>\n",
       "      <td>História da Arte</td>\n",
       "      <td>historia-da-arte</td>\n",
       "      <td>Arte</td>\n",
       "      <td>arte</td>\n",
       "      <td>Fundamental II</td>\n",
       "    </tr>\n",
       "    <tr>\n",
       "      <th>1</th>\n",
       "      <td>3343927</td>\n",
       "      <td>&lt;p&gt;&amp;ldquo;Achar um n&amp;uacute;mero que, somado c...</td>\n",
       "      <td>2</td>\n",
       "      <td>Álgebra: Equações do 2º grau: Equação do 2º gr...</td>\n",
       "      <td>algebra-equacoes-do-2o-grau-equacao-do-2o-grau...</td>\n",
       "      <td>Matemática</td>\n",
       "      <td>matematica</td>\n",
       "      <td>Fundamental II</td>\n",
       "    </tr>\n",
       "    <tr>\n",
       "      <th>2</th>\n",
       "      <td>1927600</td>\n",
       "      <td>&lt;p&gt;2. Complete os espaços abaixo com os artigo...</td>\n",
       "      <td>4</td>\n",
       "      <td>Outros</td>\n",
       "      <td>outros</td>\n",
       "      <td>Espanhol</td>\n",
       "      <td>espanhol</td>\n",
       "      <td>Fundamental II</td>\n",
       "    </tr>\n",
       "    <tr>\n",
       "      <th>3</th>\n",
       "      <td>106855</td>\n",
       "      <td>&lt;p&gt;&lt;div&gt; A respeito dos serviços públicos e da...</td>\n",
       "      <td>2</td>\n",
       "      <td>Responsabilidade Civil do Estado</td>\n",
       "      <td>responsabilidade-civil-do-estado</td>\n",
       "      <td>Direito Administrativo</td>\n",
       "      <td>direito-administrativo</td>\n",
       "      <td>Concurso</td>\n",
       "    </tr>\n",
       "    <tr>\n",
       "      <th>4</th>\n",
       "      <td>3691951</td>\n",
       "      <td>&lt;p style=\"padding:0px;margin:10px 0px 0px;outl...</td>\n",
       "      <td>2</td>\n",
       "      <td>Outros</td>\n",
       "      <td>outros</td>\n",
       "      <td>Química</td>\n",
       "      <td>quimica</td>\n",
       "      <td>Fundamental II</td>\n",
       "    </tr>\n",
       "    <tr>\n",
       "      <th>...</th>\n",
       "      <td>...</td>\n",
       "      <td>...</td>\n",
       "      <td>...</td>\n",
       "      <td>...</td>\n",
       "      <td>...</td>\n",
       "      <td>...</td>\n",
       "      <td>...</td>\n",
       "      <td>...</td>\n",
       "    </tr>\n",
       "    <tr>\n",
       "      <th>99995</th>\n",
       "      <td>4330761</td>\n",
       "      <td>&lt;p&gt;Para responder à questão, leia o trecho do ...</td>\n",
       "      <td>2</td>\n",
       "      <td>Outros</td>\n",
       "      <td>outros</td>\n",
       "      <td>Língua Portuguesa</td>\n",
       "      <td>gramatica</td>\n",
       "      <td>Médio &amp; Pré-Vestibular</td>\n",
       "    </tr>\n",
       "    <tr>\n",
       "      <th>99996</th>\n",
       "      <td>3249373</td>\n",
       "      <td>&lt;h1 style=\"list-style:none;margin:0px 0px 20px...</td>\n",
       "      <td>2</td>\n",
       "      <td>Práticas Corporais de Aventura: Natureza: Moun...</td>\n",
       "      <td>praticas-corporais-de-aventura-natureza-mounta...</td>\n",
       "      <td>Educação Física</td>\n",
       "      <td>educacao-fisica</td>\n",
       "      <td>Fundamental II</td>\n",
       "    </tr>\n",
       "    <tr>\n",
       "      <th>99997</th>\n",
       "      <td>217251</td>\n",
       "      <td>&lt;p&gt;&lt;div&gt; A teoria comportamental oferece uma v...</td>\n",
       "      <td>2</td>\n",
       "      <td>Outros</td>\n",
       "      <td>outros</td>\n",
       "      <td>Administração Geral</td>\n",
       "      <td>administracao-geral</td>\n",
       "      <td>Concurso</td>\n",
       "    </tr>\n",
       "    <tr>\n",
       "      <th>99998</th>\n",
       "      <td>4150214</td>\n",
       "      <td>&lt;p&gt;Os machos e fêmeas de mosquitos do gênero &lt;...</td>\n",
       "      <td>2</td>\n",
       "      <td>Vida e evolução: Diversidade de ecossistemas: ...</td>\n",
       "      <td>vida-e-evolucao-diversidade-de-ecossistemas-co...</td>\n",
       "      <td>Ciências</td>\n",
       "      <td>ciencias</td>\n",
       "      <td>Fundamental II</td>\n",
       "    </tr>\n",
       "    <tr>\n",
       "      <th>99999</th>\n",
       "      <td>1487049</td>\n",
       "      <td>&lt;p&gt;Observe a tabela e veja quantos lanches for...</td>\n",
       "      <td>2</td>\n",
       "      <td>Números</td>\n",
       "      <td>numeros</td>\n",
       "      <td>Matemática</td>\n",
       "      <td>matematica</td>\n",
       "      <td>Fundamental I</td>\n",
       "    </tr>\n",
       "  </tbody>\n",
       "</table>\n",
       "<p>100000 rows × 8 columns</p>\n",
       "</div>"
      ],
      "text/plain": [
       "            id                                           question  bulletType  \\\n",
       "0      3486670  <p>Com base em seus conhecimentos sobre o comp...           2   \n",
       "1      3343927  <p>&ldquo;Achar um n&uacute;mero que, somado c...           2   \n",
       "2      1927600  <p>2. Complete os espaços abaixo com os artigo...           4   \n",
       "3       106855  <p><div> A respeito dos serviços públicos e da...           2   \n",
       "4      3691951  <p style=\"padding:0px;margin:10px 0px 0px;outl...           2   \n",
       "...        ...                                                ...         ...   \n",
       "99995  4330761  <p>Para responder à questão, leia o trecho do ...           2   \n",
       "99996  3249373  <h1 style=\"list-style:none;margin:0px 0px 20px...           2   \n",
       "99997   217251  <p><div> A teoria comportamental oferece uma v...           2   \n",
       "99998  4150214  <p>Os machos e fêmeas de mosquitos do gênero <...           2   \n",
       "99999  1487049  <p>Observe a tabela e veja quantos lanches for...           2   \n",
       "\n",
       "                                                    name  \\\n",
       "0                                       História da Arte   \n",
       "1      Álgebra: Equações do 2º grau: Equação do 2º gr...   \n",
       "2                                                 Outros   \n",
       "3                       Responsabilidade Civil do Estado   \n",
       "4                                                 Outros   \n",
       "...                                                  ...   \n",
       "99995                                             Outros   \n",
       "99996  Práticas Corporais de Aventura: Natureza: Moun...   \n",
       "99997                                             Outros   \n",
       "99998  Vida e evolução: Diversidade de ecossistemas: ...   \n",
       "99999                                            Números   \n",
       "\n",
       "                                                    slug  \\\n",
       "0                                       historia-da-arte   \n",
       "1      algebra-equacoes-do-2o-grau-equacao-do-2o-grau...   \n",
       "2                                                 outros   \n",
       "3                       responsabilidade-civil-do-estado   \n",
       "4                                                 outros   \n",
       "...                                                  ...   \n",
       "99995                                             outros   \n",
       "99996  praticas-corporais-de-aventura-natureza-mounta...   \n",
       "99997                                             outros   \n",
       "99998  vida-e-evolucao-diversidade-de-ecossistemas-co...   \n",
       "99999                                            numeros   \n",
       "\n",
       "                       name.1                  slug.1                  name.2  \n",
       "0                        Arte                    arte          Fundamental II  \n",
       "1                  Matemática              matematica          Fundamental II  \n",
       "2                    Espanhol                espanhol          Fundamental II  \n",
       "3      Direito Administrativo  direito-administrativo                Concurso  \n",
       "4                     Química                 quimica          Fundamental II  \n",
       "...                       ...                     ...                     ...  \n",
       "99995       Língua Portuguesa               gramatica  Médio & Pré-Vestibular  \n",
       "99996         Educação Física         educacao-fisica          Fundamental II  \n",
       "99997     Administração Geral     administracao-geral                Concurso  \n",
       "99998                Ciências                ciencias          Fundamental II  \n",
       "99999              Matemática              matematica           Fundamental I  \n",
       "\n",
       "[100000 rows x 8 columns]"
      ]
     },
     "execution_count": 5,
     "metadata": {},
     "output_type": "execute_result"
    }
   ],
   "source": [
    "bncc_data"
   ]
  },
  {
   "cell_type": "code",
   "execution_count": null,
   "metadata": {},
   "outputs": [],
   "source": []
  },
  {
   "cell_type": "code",
   "execution_count": null,
   "metadata": {},
   "outputs": [],
   "source": []
  },
  {
   "cell_type": "code",
   "execution_count": null,
   "metadata": {},
   "outputs": [],
   "source": []
  }
 ],
 "metadata": {
  "interpreter": {
   "hash": "ad4819e41335553f27260d49c6dabfb255fd8954fed1fc8f0a901abebba32364"
  },
  "kernelspec": {
   "display_name": "Python 3.9.0 64-bit ('bncc-classifier-AU87OF4y': pipenv)",
   "language": "python",
   "name": "python3"
  },
  "language_info": {
   "codemirror_mode": {
    "name": "ipython",
    "version": 3
   },
   "file_extension": ".py",
   "mimetype": "text/x-python",
   "name": "python",
   "nbconvert_exporter": "python",
   "pygments_lexer": "ipython3",
   "version": "3.9.0"
  },
  "orig_nbformat": 4
 },
 "nbformat": 4,
 "nbformat_minor": 2
}
