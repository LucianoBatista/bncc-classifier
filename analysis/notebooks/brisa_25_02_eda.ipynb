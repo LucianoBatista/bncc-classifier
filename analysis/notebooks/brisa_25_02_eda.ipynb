{
 "cells": [
  {
   "cell_type": "markdown",
   "id": "752d3b83-2168-41a3-ae09-75fa7ace0c97",
   "metadata": {
    "id": "752d3b83-2168-41a3-ae09-75fa7ace0c97"
   },
   "source": [
    "Importar bibliotecas"
   ]
  },
  {
   "cell_type": "code",
   "execution_count": 19,
   "id": "522fc21e-81b2-46a2-85a4-eaca8012a917",
   "metadata": {
    "id": "522fc21e-81b2-46a2-85a4-eaca8012a917"
   },
   "outputs": [],
   "source": [
    "import pandas as pd\n",
    "import numpy as np\n",
    "import html\n",
    "import nltk\n",
    "import regex as re\n",
    "import string\n",
    "import spacy\n",
    "import seaborn as sns\n",
    "import matplotlib.pyplot as plt\n",
    "from nltk.corpus import stopwords\n",
    "from nltk.tokenize import word_tokenize"
   ]
  },
  {
   "cell_type": "code",
   "execution_count": 20,
   "id": "98618749-f766-461a-97da-a01fa7c3544b",
   "metadata": {
    "id": "98618749-f766-461a-97da-a01fa7c3544b"
   },
   "outputs": [],
   "source": [
    "# nltk.download()"
   ]
  },
  {
   "cell_type": "code",
   "source": [
    "#!pip install spacy\n",
    "#!python -m spacy download pt"
   ],
   "metadata": {
    "id": "BArq9MlPLSK-"
   },
   "id": "BArq9MlPLSK-",
   "execution_count": 21,
   "outputs": []
  },
  {
   "cell_type": "markdown",
   "id": "f6f43e31-1cc1-46e6-ad04-134fc8dbe03b",
   "metadata": {
    "tags": [],
    "id": "f6f43e31-1cc1-46e6-ad04-134fc8dbe03b"
   },
   "source": [
    "Importar dados"
   ]
  },
  {
   "cell_type": "code",
   "execution_count": 22,
   "id": "56555dc2-9a74-421f-a6f9-18368414a5d7",
   "metadata": {
    "id": "56555dc2-9a74-421f-a6f9-18368414a5d7",
    "outputId": "a74e66cb-4cb8-49d5-de10-ea01c39eda85",
    "colab": {
     "base_uri": "https://localhost:8080/",
     "height": 329
    }
   },
   "outputs": [],
   "source": [
    "data = pd.read_csv('../../data/raw/bncc_first_classifier.csv')"
   ]
  },
  {
   "cell_type": "code",
   "execution_count": 23,
   "id": "2c94c434-f641-4627-a4fd-bc9b358b658f",
   "metadata": {
    "id": "2c94c434-f641-4627-a4fd-bc9b358b658f"
   },
   "outputs": [],
   "source": [
    "data_clone = data.copy()"
   ]
  },
  {
   "cell_type": "code",
   "source": [
    "# renomeando as colunas do dataset\n",
    "\n",
    "data_clone.columns = ['id', 'questoes', 'tipoQuestoes', 'topico', 'slug', 'materia', 'slug.1','etapaEnsino']\n",
    "data_clone.head()"
   ],
   "metadata": {
    "colab": {
     "base_uri": "https://localhost:8080/",
     "height": 337
    },
    "id": "WkTBovhZ-u8Y",
    "outputId": "f95e5aa7-90a1-457d-a6de-afbeee3e2a23"
   },
   "id": "WkTBovhZ-u8Y",
   "execution_count": 24,
   "outputs": [
    {
     "data": {
      "text/plain": "        id                                           questoes  tipoQuestoes  \\\n0  3486670  <p>Com base em seus conhecimentos sobre o comp...             2   \n1  3343927  <p>&ldquo;Achar um n&uacute;mero que, somado c...             2   \n2  1927600  <p>2. Complete os espaços abaixo com os artigo...             4   \n3   106855  <p><div> A respeito dos serviços públicos e da...             2   \n4  3691951  <p style=\"padding:0px;margin:10px 0px 0px;outl...             2   \n\n                                              topico  \\\n0                                   História da Arte   \n1  Álgebra: Equações do 2º grau: Equação do 2º gr...   \n2                                             Outros   \n3                   Responsabilidade Civil do Estado   \n4                                             Outros   \n\n                                                slug                 materia  \\\n0                                   historia-da-arte                    Arte   \n1  algebra-equacoes-do-2o-grau-equacao-do-2o-grau...              Matemática   \n2                                             outros                Espanhol   \n3                   responsabilidade-civil-do-estado  Direito Administrativo   \n4                                             outros                 Química   \n\n                   slug.1     etapaEnsino  \n0                    arte  Fundamental II  \n1              matematica  Fundamental II  \n2                espanhol  Fundamental II  \n3  direito-administrativo        Concurso  \n4                 quimica  Fundamental II  ",
      "text/html": "<div>\n<style scoped>\n    .dataframe tbody tr th:only-of-type {\n        vertical-align: middle;\n    }\n\n    .dataframe tbody tr th {\n        vertical-align: top;\n    }\n\n    .dataframe thead th {\n        text-align: right;\n    }\n</style>\n<table border=\"1\" class=\"dataframe\">\n  <thead>\n    <tr style=\"text-align: right;\">\n      <th></th>\n      <th>id</th>\n      <th>questoes</th>\n      <th>tipoQuestoes</th>\n      <th>topico</th>\n      <th>slug</th>\n      <th>materia</th>\n      <th>slug.1</th>\n      <th>etapaEnsino</th>\n    </tr>\n  </thead>\n  <tbody>\n    <tr>\n      <th>0</th>\n      <td>3486670</td>\n      <td>&lt;p&gt;Com base em seus conhecimentos sobre o comp...</td>\n      <td>2</td>\n      <td>História da Arte</td>\n      <td>historia-da-arte</td>\n      <td>Arte</td>\n      <td>arte</td>\n      <td>Fundamental II</td>\n    </tr>\n    <tr>\n      <th>1</th>\n      <td>3343927</td>\n      <td>&lt;p&gt;&amp;ldquo;Achar um n&amp;uacute;mero que, somado c...</td>\n      <td>2</td>\n      <td>Álgebra: Equações do 2º grau: Equação do 2º gr...</td>\n      <td>algebra-equacoes-do-2o-grau-equacao-do-2o-grau...</td>\n      <td>Matemática</td>\n      <td>matematica</td>\n      <td>Fundamental II</td>\n    </tr>\n    <tr>\n      <th>2</th>\n      <td>1927600</td>\n      <td>&lt;p&gt;2. Complete os espaços abaixo com os artigo...</td>\n      <td>4</td>\n      <td>Outros</td>\n      <td>outros</td>\n      <td>Espanhol</td>\n      <td>espanhol</td>\n      <td>Fundamental II</td>\n    </tr>\n    <tr>\n      <th>3</th>\n      <td>106855</td>\n      <td>&lt;p&gt;&lt;div&gt; A respeito dos serviços públicos e da...</td>\n      <td>2</td>\n      <td>Responsabilidade Civil do Estado</td>\n      <td>responsabilidade-civil-do-estado</td>\n      <td>Direito Administrativo</td>\n      <td>direito-administrativo</td>\n      <td>Concurso</td>\n    </tr>\n    <tr>\n      <th>4</th>\n      <td>3691951</td>\n      <td>&lt;p style=\"padding:0px;margin:10px 0px 0px;outl...</td>\n      <td>2</td>\n      <td>Outros</td>\n      <td>outros</td>\n      <td>Química</td>\n      <td>quimica</td>\n      <td>Fundamental II</td>\n    </tr>\n  </tbody>\n</table>\n</div>"
     },
     "execution_count": 24,
     "metadata": {},
     "output_type": "execute_result"
    }
   ]
  },
  {
   "cell_type": "markdown",
   "source": [
    "## Pre-processamento"
   ],
   "metadata": {
    "id": "LvO-H4PuUIyn"
   },
   "id": "LvO-H4PuUIyn"
  },
  {
   "cell_type": "markdown",
   "id": "dec881ae-2da3-490e-93a4-225438b9a559",
   "metadata": {
    "id": "dec881ae-2da3-490e-93a4-225438b9a559"
   },
   "source": [
    "* Escrevendo funcões para etapa de pre-processamento de Texto usando regex "
   ]
  },
  {
   "cell_type": "code",
   "execution_count": 40,
   "id": "1d317b88-9cdd-49db-8e91-95f40398e6a3",
   "metadata": {
    "id": "1d317b88-9cdd-49db-8e91-95f40398e6a3"
   },
   "outputs": [],
   "source": [
    "# Função para remover tags de html usando regex\n",
    "\n",
    "def remove_tags(text: str) -> str:\n",
    "    pattern = re.compile(\"<.*?>\")\n",
    "    cleantext = re.sub(pattern, \" \", text).replace(u\"\\xa0\", u\" \")\n",
    "    return cleantext\n",
    "\n",
    "# Função para deixar todo o texto em caixa baixa\n",
    "def to_lower(text: str) -> str:\n",
    "    return text.lower()\n",
    "\n",
    "# Função para remover numeros\n",
    "def remove_numbers(text: str) -> str:\n",
    "    pattern = re.compile(\"[0-9]+\")\n",
    "    clean_text = re.sub(pattern, \" \", text)\n",
    "    return clean_text\n",
    "\n",
    "# Função para remover stopwords em portugues; preposições, conjunções, artigos, etc\n",
    "def remove_standard_stopwords_pt(text: str) -> str:\n",
    "    try:\n",
    "        stop_words = set(stopwords.words(\"portuguese\"))\n",
    "        word_tokens = word_tokenize(text)\n",
    "        filtered_sentence = [w for w in word_tokens if not w in stop_words]\n",
    "        final_sentence = \" \".join(filtered_sentence)\n",
    "        return final_sentence\n",
    "    except:\n",
    "        return text\n",
    "\n",
    "def remove_standard_stopwords_en(text: str) -> str:\n",
    "    try:\n",
    "        stop_words = set(stopwords.words(\"english\"))\n",
    "        word_tokens = word_tokenize(text)\n",
    "        filtered_sentence = [w for w in word_tokens if not w in stop_words]\n",
    "        final_sentence = \" \".join(filtered_sentence)\n",
    "        return final_sentence\n",
    "    except:\n",
    "        return text\n",
    "\n",
    "# Função para remover caracteres especiais e pontuação\n",
    "def remove_punctuation(text: str) -> str:\n",
    "    pattern = re.compile(\"[\\d\\.\\,\\*]\")\n",
    "    clean_text = re.sub(pattern, \" \", text)\n",
    "    return clean_text\n",
    "\n",
    "# Função para remover aspas \n",
    "def remove_quotes(text: str) -> str:\n",
    "    pattern = re.compile(r'“')\n",
    "    clean_text = re.sub(pattern, \" \", text)\n",
    "    return clean_text"
   ]
  },
  {
   "cell_type": "code",
   "execution_count": 38,
   "id": "4f426db9-19a0-41e7-bbc9-9eb62b865e59",
   "metadata": {
    "id": "4f426db9-19a0-41e7-bbc9-9eb62b865e59"
   },
   "outputs": [],
   "source": [
    "# resolve problema de codificação html da coluna 'questoes'\n",
    "data_clone['questoes_html']= data['question'].astype('str').apply(html.unescape)\n",
    "\n",
    "# limpando o texto utilizando as funçoes criadas\n",
    "data_clone['questoes_tags'] = data_clone['questoes_html'].apply(remove_tags)\n",
    "data_clone['questoes_lower'] = data_clone['questoes_tags'].apply(to_lower)\n",
    "data_clone['questoes_numbers'] = data_clone['questoes_lower'].apply(remove_numbers)\n",
    "data_clone['questoes_stopw_pt'] = data_clone['questoes_numbers'].apply(remove_standard_stopwords_pt)\n",
    "data_clone['questoes_stopw_en'] = data_clone['questoes_stopw_pt'].apply(remove_standard_stopwords_en)\n",
    "data_clone['questoes_punct'] = data_clone['questoes_stopw_en'].apply(remove_punctuation)\n",
    "# data_clone['questoes_quotes'] = data_clone['questoes_punct'].apply(remove_quotes)"
   ]
  },
  {
   "cell_type": "code",
   "execution_count": 41,
   "id": "3687376d-a8ea-4202-bda9-4a810c8fb392",
   "metadata": {
    "id": "3687376d-a8ea-4202-bda9-4a810c8fb392",
    "outputId": "74da074c-26c9-4b15-e46b-fdc4903d8cac",
    "colab": {
     "base_uri": "https://localhost:8080/",
     "height": 565
    }
   },
   "outputs": [
    {
     "data": {
      "text/plain": "        id                                           questoes  tipoQuestoes  \\\n0  3486670  <p>Com base em seus conhecimentos sobre o comp...             2   \n1  3343927  <p>&ldquo;Achar um n&uacute;mero que, somado c...             2   \n2  1927600  <p>2. Complete os espaços abaixo com os artigo...             4   \n3   106855  <p><div> A respeito dos serviços públicos e da...             2   \n4  3691951  <p style=\"padding:0px;margin:10px 0px 0px;outl...             2   \n\n                                              topico  \\\n0                                   História da Arte   \n1  Álgebra: Equações do 2º grau: Equação do 2º gr...   \n2                                             Outros   \n3                   Responsabilidade Civil do Estado   \n4                                             Outros   \n\n                                                slug                 materia  \\\n0                                   historia-da-arte                    Arte   \n1  algebra-equacoes-do-2o-grau-equacao-do-2o-grau...              Matemática   \n2                                             outros                Espanhol   \n3                   responsabilidade-civil-do-estado  Direito Administrativo   \n4                                             outros                 Química   \n\n                   slug.1     etapaEnsino  \\\n0                    arte  Fundamental II   \n1              matematica  Fundamental II   \n2                espanhol  Fundamental II   \n3  direito-administrativo        Concurso   \n4                 quimica  Fundamental II   \n\n                                       questoes_html  \\\n0  <p>Com base em seus conhecimentos sobre o comp...   \n1  <p>“Achar um número que, somado com 2 seja igu...   \n2  <p>2. Complete os espaços abaixo com os artigo...   \n3  <p><div> A respeito dos serviços públicos e da...   \n4  <p style=\"padding:0px;margin:10px 0px 0px;outl...   \n\n                                       questoes_tags  \\\n0   Com base em seus conhecimentos sobre o compos...   \n1   “Achar um número que, somado com 2 seja igual...   \n2   2. Complete os espaços abaixo com os artigos ...   \n3     A respeito dos serviços públicos e da respo...   \n4   A chuva ácida é um fenômeno provocado pela po...   \n\n                                      questoes_lower  \\\n0   com base em seus conhecimentos sobre o compos...   \n1   “achar um número que, somado com 2 seja igual...   \n2   2. complete os espaços abaixo com os artigos ...   \n3     a respeito dos serviços públicos e da respo...   \n4   a chuva ácida é um fenômeno provocado pela po...   \n\n                                    questoes_numbers  \\\n0   com base em seus conhecimentos sobre o compos...   \n1   “achar um número que, somado com   seja igual...   \n2    . complete os espaços abaixo com os artigos ...   \n3     a respeito dos serviços públicos e da respo...   \n4   a chuva ácida é um fenômeno provocado pela po...   \n\n                                   questoes_stopw_pt  \\\n0  base conhecimentos sobre compositor john cage ...   \n1  “ achar número , somado igual inverso ” . equa...   \n2    . complete os espaços abaixo com os artigos ...   \n3  respeito serviços públicos responsabilidade ci...   \n4  chuva ácida fenômeno provocado poluição atmosf...   \n\n                                   questoes_stopw_en  \\\n0  base conhecimentos sobre compositor john cage ...   \n1  “ achar número , somado igual inverso ” . equa...   \n2    . complete os espaços abaixo com os artigos ...   \n3  respeito serviços públicos responsabilidade ci...   \n4  chuva ácida fenômeno provocado poluição atmosf...   \n\n                                      questoes_punct  \\\n0  base conhecimentos sobre compositor john cage ...   \n1  “ achar número   somado igual inverso ”   equa...   \n2      complete os espaços abaixo com os artigos ...   \n3  respeito serviços públicos responsabilidade ci...   \n4  chuva ácida fenômeno provocado poluição atmosf...   \n\n                                     questoes_quotes  \n0  base conhecimentos sobre compositor john cage ...  \n1    achar número   somado igual inverso ”   equa...  \n2      complete os espaços abaixo com os artigos ...  \n3  respeito serviços públicos responsabilidade ci...  \n4  chuva ácida fenômeno provocado poluição atmosf...  ",
      "text/html": "<div>\n<style scoped>\n    .dataframe tbody tr th:only-of-type {\n        vertical-align: middle;\n    }\n\n    .dataframe tbody tr th {\n        vertical-align: top;\n    }\n\n    .dataframe thead th {\n        text-align: right;\n    }\n</style>\n<table border=\"1\" class=\"dataframe\">\n  <thead>\n    <tr style=\"text-align: right;\">\n      <th></th>\n      <th>id</th>\n      <th>questoes</th>\n      <th>tipoQuestoes</th>\n      <th>topico</th>\n      <th>slug</th>\n      <th>materia</th>\n      <th>slug.1</th>\n      <th>etapaEnsino</th>\n      <th>questoes_html</th>\n      <th>questoes_tags</th>\n      <th>questoes_lower</th>\n      <th>questoes_numbers</th>\n      <th>questoes_stopw_pt</th>\n      <th>questoes_stopw_en</th>\n      <th>questoes_punct</th>\n      <th>questoes_quotes</th>\n    </tr>\n  </thead>\n  <tbody>\n    <tr>\n      <th>0</th>\n      <td>3486670</td>\n      <td>&lt;p&gt;Com base em seus conhecimentos sobre o comp...</td>\n      <td>2</td>\n      <td>História da Arte</td>\n      <td>historia-da-arte</td>\n      <td>Arte</td>\n      <td>arte</td>\n      <td>Fundamental II</td>\n      <td>&lt;p&gt;Com base em seus conhecimentos sobre o comp...</td>\n      <td>Com base em seus conhecimentos sobre o compos...</td>\n      <td>com base em seus conhecimentos sobre o compos...</td>\n      <td>com base em seus conhecimentos sobre o compos...</td>\n      <td>base conhecimentos sobre compositor john cage ...</td>\n      <td>base conhecimentos sobre compositor john cage ...</td>\n      <td>base conhecimentos sobre compositor john cage ...</td>\n      <td>base conhecimentos sobre compositor john cage ...</td>\n    </tr>\n    <tr>\n      <th>1</th>\n      <td>3343927</td>\n      <td>&lt;p&gt;&amp;ldquo;Achar um n&amp;uacute;mero que, somado c...</td>\n      <td>2</td>\n      <td>Álgebra: Equações do 2º grau: Equação do 2º gr...</td>\n      <td>algebra-equacoes-do-2o-grau-equacao-do-2o-grau...</td>\n      <td>Matemática</td>\n      <td>matematica</td>\n      <td>Fundamental II</td>\n      <td>&lt;p&gt;“Achar um número que, somado com 2 seja igu...</td>\n      <td>“Achar um número que, somado com 2 seja igual...</td>\n      <td>“achar um número que, somado com 2 seja igual...</td>\n      <td>“achar um número que, somado com   seja igual...</td>\n      <td>“ achar número , somado igual inverso ” . equa...</td>\n      <td>“ achar número , somado igual inverso ” . equa...</td>\n      <td>“ achar número   somado igual inverso ”   equa...</td>\n      <td>achar número   somado igual inverso ”   equa...</td>\n    </tr>\n    <tr>\n      <th>2</th>\n      <td>1927600</td>\n      <td>&lt;p&gt;2. Complete os espaços abaixo com os artigo...</td>\n      <td>4</td>\n      <td>Outros</td>\n      <td>outros</td>\n      <td>Espanhol</td>\n      <td>espanhol</td>\n      <td>Fundamental II</td>\n      <td>&lt;p&gt;2. Complete os espaços abaixo com os artigo...</td>\n      <td>2. Complete os espaços abaixo com os artigos ...</td>\n      <td>2. complete os espaços abaixo com os artigos ...</td>\n      <td>. complete os espaços abaixo com os artigos ...</td>\n      <td>. complete os espaços abaixo com os artigos ...</td>\n      <td>. complete os espaços abaixo com os artigos ...</td>\n      <td>complete os espaços abaixo com os artigos ...</td>\n      <td>complete os espaços abaixo com os artigos ...</td>\n    </tr>\n    <tr>\n      <th>3</th>\n      <td>106855</td>\n      <td>&lt;p&gt;&lt;div&gt; A respeito dos serviços públicos e da...</td>\n      <td>2</td>\n      <td>Responsabilidade Civil do Estado</td>\n      <td>responsabilidade-civil-do-estado</td>\n      <td>Direito Administrativo</td>\n      <td>direito-administrativo</td>\n      <td>Concurso</td>\n      <td>&lt;p&gt;&lt;div&gt; A respeito dos serviços públicos e da...</td>\n      <td>A respeito dos serviços públicos e da respo...</td>\n      <td>a respeito dos serviços públicos e da respo...</td>\n      <td>a respeito dos serviços públicos e da respo...</td>\n      <td>respeito serviços públicos responsabilidade ci...</td>\n      <td>respeito serviços públicos responsabilidade ci...</td>\n      <td>respeito serviços públicos responsabilidade ci...</td>\n      <td>respeito serviços públicos responsabilidade ci...</td>\n    </tr>\n    <tr>\n      <th>4</th>\n      <td>3691951</td>\n      <td>&lt;p style=\"padding:0px;margin:10px 0px 0px;outl...</td>\n      <td>2</td>\n      <td>Outros</td>\n      <td>outros</td>\n      <td>Química</td>\n      <td>quimica</td>\n      <td>Fundamental II</td>\n      <td>&lt;p style=\"padding:0px;margin:10px 0px 0px;outl...</td>\n      <td>A chuva ácida é um fenômeno provocado pela po...</td>\n      <td>a chuva ácida é um fenômeno provocado pela po...</td>\n      <td>a chuva ácida é um fenômeno provocado pela po...</td>\n      <td>chuva ácida fenômeno provocado poluição atmosf...</td>\n      <td>chuva ácida fenômeno provocado poluição atmosf...</td>\n      <td>chuva ácida fenômeno provocado poluição atmosf...</td>\n      <td>chuva ácida fenômeno provocado poluição atmosf...</td>\n    </tr>\n  </tbody>\n</table>\n</div>"
     },
     "execution_count": 41,
     "metadata": {},
     "output_type": "execute_result"
    }
   ],
   "source": [
    "data_clone['questoes_quotes'] = data_clone['questoes_punct'].apply(remove_quotes)\n",
    "data_clone.head()"
   ]
  },
  {
   "cell_type": "markdown",
   "id": "15bc5750-fa21-4344-8f49-e404621f952c",
   "metadata": {
    "id": "15bc5750-fa21-4344-8f49-e404621f952c"
   },
   "source": [
    "Verifica a existência de questões para concursos e outros tipos que não é interessante para análise"
   ]
  },
  {
   "cell_type": "code",
   "execution_count": null,
   "id": "e5774409-3c7c-46a5-a61c-ea1c338dbcab",
   "metadata": {
    "id": "e5774409-3c7c-46a5-a61c-ea1c338dbcab",
    "outputId": "3a667eea-403e-4927-8236-d2d5782f8b63",
    "colab": {
     "base_uri": "https://localhost:8080/"
    }
   },
   "outputs": [],
   "source": [
    "data_clone['etapaEnsino'].value_counts()"
   ]
  },
  {
   "cell_type": "markdown",
   "source": [
    "Selecionando apenas questões relacionadas ao Ensino Fundamental e Médio"
   ],
   "metadata": {
    "id": "XPBw7s-jfEVy"
   },
   "id": "XPBw7s-jfEVy"
  },
  {
   "cell_type": "code",
   "execution_count": null,
   "id": "3b2e233e-f518-4643-a2c0-4395c6aec887",
   "metadata": {
    "id": "3b2e233e-f518-4643-a2c0-4395c6aec887",
    "outputId": "125de7aa-a162-49b1-c170-6588a31978cd",
    "colab": {
     "base_uri": "https://localhost:8080/",
     "height": 617
    }
   },
   "outputs": [],
   "source": [
    "data_step_clean = data_clone[data_clone[\"etapaEnsino\"].isin([\"Médio & Pré-Vestibular\", \"Fundamental II\", \"Fundamental I\"])]\n",
    "data_step_clean.head()"
   ]
  },
  {
   "cell_type": "markdown",
   "id": "be7ca6ee-f29e-4748-a39b-56d63896b2a0",
   "metadata": {
    "id": "be7ca6ee-f29e-4748-a39b-56d63896b2a0"
   },
   "source": [
    "A variável tipoQuestoes contém items dos tipos:\n",
    "\n",
    "1. Somatória\n",
    "2. Múltipla Escolha\n",
    "3. Certo e Errado\n",
    "4. Discursiva\n",
    "5. Redação ou items que é necessário enviar foto da resolução\n",
    "6. Questões com mais de uma alternativa certa\n",
    "7. Não representa nada em específico\n",
    "\n",
    "Iremos remover questoes tipo 5 e 6 pois não se adequam ao tipo de alvo do nosso problema."
   ]
  },
  {
   "cell_type": "code",
   "execution_count": null,
   "id": "02a622fb-d9ef-491d-94a9-544a660fa0f7",
   "metadata": {
    "id": "02a622fb-d9ef-491d-94a9-544a660fa0f7",
    "colab": {
     "base_uri": "https://localhost:8080/"
    },
    "outputId": "21cc8ef4-fbcd-49ba-c15a-f9fcebe7ea4c"
   },
   "outputs": [],
   "source": [
    "data_step_clean[\"tipoQuestoes\"].value_counts(ascending=True)"
   ]
  },
  {
   "cell_type": "markdown",
   "source": [
    "Obs.: Questoes tipo Multipla escolha e Discursiva somam a maioria das questões"
   ],
   "metadata": {
    "id": "io7bukKJjTnW"
   },
   "id": "io7bukKJjTnW"
  },
  {
   "cell_type": "markdown",
   "id": "ad9fe614-f229-404e-98ea-a0ee1e30e17f",
   "metadata": {
    "id": "ad9fe614-f229-404e-98ea-a0ee1e30e17f"
   },
   "source": [
    "Remover as questoes tipo 5 e 6"
   ]
  },
  {
   "cell_type": "code",
   "execution_count": null,
   "id": "60f473f6-3388-48f5-8cc7-d78692df5bb9",
   "metadata": {
    "id": "60f473f6-3388-48f5-8cc7-d78692df5bb9"
   },
   "outputs": [],
   "source": [
    "data_step_clean_ques = data_step_clean[~data_step_clean[\"tipoQuestoes\"].isin([5, 6])]"
   ]
  },
  {
   "cell_type": "code",
   "source": [
    "data_step_clean[\"materia\"].value_counts(ascending=True)"
   ],
   "metadata": {
    "colab": {
     "base_uri": "https://localhost:8080/"
    },
    "id": "PjgxIs4z7RvH",
    "outputId": "e633fb15-b4c9-4c10-e95d-39f1e34259ea"
   },
   "id": "PjgxIs4z7RvH",
   "execution_count": null,
   "outputs": []
  },
  {
   "cell_type": "markdown",
   "source": [
    "Selecionando apenas as matétias listadas na BNCC para Ensino médio e Fundamental 1 e 2"
   ],
   "metadata": {
    "id": "fC4Hi2ksStzJ"
   },
   "id": "fC4Hi2ksStzJ"
  },
  {
   "cell_type": "code",
   "source": [
    ""
   ],
   "metadata": {
    "id": "3rydFQqeStKS"
   },
   "id": "3rydFQqeStKS",
   "execution_count": null,
   "outputs": []
  },
  {
   "cell_type": "markdown",
   "id": "08222d72-60b5-4b6e-afb8-d50bd4644338",
   "metadata": {
    "id": "08222d72-60b5-4b6e-afb8-d50bd4644338"
   },
   "source": [
    "Tokenizaçao das Questoes usando NLTK"
   ]
  },
  {
   "cell_type": "code",
   "source": [
    "data_step_clean_ques['questoes_tokens'] = data_step_clean_ques['questoes_punct'].apply(word_tokenize)\n",
    "data_step_clean_ques.head()"
   ],
   "metadata": {
    "colab": {
     "base_uri": "https://localhost:8080/",
     "height": 617
    },
    "id": "MoXfXYxxBUFU",
    "outputId": "dbcb420f-5f90-4d99-dd10-5b9b1cb776ee"
   },
   "id": "MoXfXYxxBUFU",
   "execution_count": null,
   "outputs": []
  }
 ],
 "metadata": {
  "kernelspec": {
   "display_name": "Python 3 (ipykernel)",
   "language": "python",
   "name": "python3"
  },
  "language_info": {
   "codemirror_mode": {
    "name": "ipython",
    "version": 3
   },
   "file_extension": ".py",
   "mimetype": "text/x-python",
   "name": "python",
   "nbconvert_exporter": "python",
   "pygments_lexer": "ipython3",
   "version": "3.9.7"
  },
  "colab": {
   "name": "Copy of brisa-25-02-eda.ipynb",
   "provenance": [],
   "collapsed_sections": []
  }
 },
 "nbformat": 4,
 "nbformat_minor": 5
}