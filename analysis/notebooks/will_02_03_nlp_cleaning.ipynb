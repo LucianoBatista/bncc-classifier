{
  "cells": [
    {
      "cell_type": "markdown",
      "id": "752d3b83-2168-41a3-ae09-75fa7ace0c97",
      "metadata": {
        "id": "752d3b83-2168-41a3-ae09-75fa7ace0c97"
      },
      "source": [
        "Importar bibliotecas"
      ]
    },
    {
      "cell_type": "code",
      "execution_count": 2,
      "id": "522fc21e-81b2-46a2-85a4-eaca8012a917",
      "metadata": {
        "id": "522fc21e-81b2-46a2-85a4-eaca8012a917"
      },
      "outputs": [],
      "source": [
        "import pandas as pd\n",
        "import numpy as np\n",
        "import html\n",
        "import nltk\n",
        "import regex as re\n",
        "import string\n",
        "import spacy\n",
        "import seaborn as sns\n",
        "import matplotlib.pyplot as plt\n",
        "from nltk.corpus import stopwords\n",
        "from nltk.tokenize import word_tokenize"
      ]
    },
    {
      "cell_type": "code",
      "execution_count": 10,
      "id": "98618749-f766-461a-97da-a01fa7c3544b",
      "metadata": {
        "id": "98618749-f766-461a-97da-a01fa7c3544b"
      },
      "outputs": [
        {
          "name": "stderr",
          "output_type": "stream",
          "text": [
            "[nltk_data] Downloading package floresta to\n",
            "[nltk_data]     C:\\Users\\Danilo\\AppData\\Roaming\\nltk_data...\n",
            "[nltk_data]   Package floresta is already up-to-date!\n"
          ]
        },
        {
          "data": {
            "text/plain": [
              "True"
            ]
          },
          "execution_count": 10,
          "metadata": {},
          "output_type": "execute_result"
        }
      ],
      "source": [
        "#nltk.download('floresta')"
      ]
    },
    {
      "cell_type": "code",
      "execution_count": null,
      "id": "BArq9MlPLSK-",
      "metadata": {
        "id": "BArq9MlPLSK-"
      },
      "outputs": [],
      "source": [
        "#!pip install spacy\n",
        "#!python -m spacy download pt"
      ]
    },
    {
      "cell_type": "markdown",
      "id": "f6f43e31-1cc1-46e6-ad04-134fc8dbe03b",
      "metadata": {
        "id": "f6f43e31-1cc1-46e6-ad04-134fc8dbe03b",
        "tags": []
      },
      "source": [
        "Importar dados"
      ]
    },
    {
      "cell_type": "code",
      "execution_count": 3,
      "id": "56555dc2-9a74-421f-a6f9-18368414a5d7",
      "metadata": {
        "id": "56555dc2-9a74-421f-a6f9-18368414a5d7"
      },
      "outputs": [],
      "source": [
        "data = pd.read_csv('C:/Users/Danilo/Desktop/Documentos Acadêmicos/TERA/TERAprojetos/Projeto final/BNCC/repo/bncc-classifier/data/curated/data_eda_treat_will.csv')"
      ]
    },
    {
      "cell_type": "code",
      "execution_count": 4,
      "id": "2c94c434-f641-4627-a4fd-bc9b358b658f",
      "metadata": {
        "id": "2c94c434-f641-4627-a4fd-bc9b358b658f"
      },
      "outputs": [],
      "source": [
        "data_clone = data.copy()"
      ]
    },
    {
      "cell_type": "code",
      "execution_count": 5,
      "id": "WkTBovhZ-u8Y",
      "metadata": {
        "colab": {
          "base_uri": "https://localhost:8080/",
          "height": 337
        },
        "id": "WkTBovhZ-u8Y",
        "outputId": "f95e5aa7-90a1-457d-a6de-afbeee3e2a23"
      },
      "outputs": [
        {
          "data": {
            "text/html": [
              "<div>\n",
              "<style scoped>\n",
              "    .dataframe tbody tr th:only-of-type {\n",
              "        vertical-align: middle;\n",
              "    }\n",
              "\n",
              "    .dataframe tbody tr th {\n",
              "        vertical-align: top;\n",
              "    }\n",
              "\n",
              "    .dataframe thead th {\n",
              "        text-align: right;\n",
              "    }\n",
              "</style>\n",
              "<table border=\"1\" class=\"dataframe\">\n",
              "  <thead>\n",
              "    <tr style=\"text-align: right;\">\n",
              "      <th></th>\n",
              "      <th>id</th>\n",
              "      <th>questoes</th>\n",
              "      <th>tipoQuestoes</th>\n",
              "      <th>topico</th>\n",
              "      <th>materia</th>\n",
              "      <th>etapaEnsino</th>\n",
              "    </tr>\n",
              "  </thead>\n",
              "  <tbody>\n",
              "    <tr>\n",
              "      <th>0</th>\n",
              "      <td>3486670</td>\n",
              "      <td>&lt;p&gt;Com base em seus conhecimentos sobre o comp...</td>\n",
              "      <td>2</td>\n",
              "      <td>História da Arte</td>\n",
              "      <td>Arte</td>\n",
              "      <td>Fundamental II</td>\n",
              "    </tr>\n",
              "    <tr>\n",
              "      <th>1</th>\n",
              "      <td>3343927</td>\n",
              "      <td>&lt;p&gt;&amp;ldquo;Achar um n&amp;uacute;mero que, somado c...</td>\n",
              "      <td>2</td>\n",
              "      <td>Álgebra: Equações do 2º grau: Equação do 2º gr...</td>\n",
              "      <td>Matemática</td>\n",
              "      <td>Fundamental II</td>\n",
              "    </tr>\n",
              "    <tr>\n",
              "      <th>2</th>\n",
              "      <td>3691951</td>\n",
              "      <td>&lt;p style=\"padding:0px;margin:10px 0px 0px;outl...</td>\n",
              "      <td>2</td>\n",
              "      <td>Outros</td>\n",
              "      <td>Química</td>\n",
              "      <td>Fundamental II</td>\n",
              "    </tr>\n",
              "    <tr>\n",
              "      <th>3</th>\n",
              "      <td>2016466</td>\n",
              "      <td>&lt;p&gt;&lt;strong&gt;Anexe nesse espa&amp;ccedil;o uma foto ...</td>\n",
              "      <td>4</td>\n",
              "      <td>Proposta</td>\n",
              "      <td>Língua Portuguesa</td>\n",
              "      <td>Fundamental I</td>\n",
              "    </tr>\n",
              "    <tr>\n",
              "      <th>4</th>\n",
              "      <td>1744035</td>\n",
              "      <td>&lt;p&gt;Pagina nr. 54 do Livro did&amp;aacute;tico.&lt;/p&gt;</td>\n",
              "      <td>4</td>\n",
              "      <td>Idade Moderna: Revolução Francesa: Antecedente...</td>\n",
              "      <td>História</td>\n",
              "      <td>Fundamental II</td>\n",
              "    </tr>\n",
              "  </tbody>\n",
              "</table>\n",
              "</div>"
            ],
            "text/plain": [
              "        id                                           questoes  tipoQuestoes  \\\n",
              "0  3486670  <p>Com base em seus conhecimentos sobre o comp...             2   \n",
              "1  3343927  <p>&ldquo;Achar um n&uacute;mero que, somado c...             2   \n",
              "2  3691951  <p style=\"padding:0px;margin:10px 0px 0px;outl...             2   \n",
              "3  2016466  <p><strong>Anexe nesse espa&ccedil;o uma foto ...             4   \n",
              "4  1744035     <p>Pagina nr. 54 do Livro did&aacute;tico.</p>             4   \n",
              "\n",
              "                                              topico            materia  \\\n",
              "0                                   História da Arte               Arte   \n",
              "1  Álgebra: Equações do 2º grau: Equação do 2º gr...         Matemática   \n",
              "2                                             Outros            Química   \n",
              "3                                           Proposta  Língua Portuguesa   \n",
              "4  Idade Moderna: Revolução Francesa: Antecedente...           História   \n",
              "\n",
              "      etapaEnsino  \n",
              "0  Fundamental II  \n",
              "1  Fundamental II  \n",
              "2  Fundamental II  \n",
              "3   Fundamental I  \n",
              "4  Fundamental II  "
            ]
          },
          "execution_count": 5,
          "metadata": {},
          "output_type": "execute_result"
        }
      ],
      "source": [
        "# renomeando as colunas do dataset\n",
        "\n",
        "data_clone.columns = ['id', 'questoes', 'tipoQuestoes', 'topico', 'slug', 'materia', 'slug.1','etapaEnsino']\n",
        "data_clone.drop(['slug', 'slug.1'], axis = 1, inplace = True)\n",
        "data_clone.head()"
      ]
    },
    {
      "cell_type": "markdown",
      "id": "LvO-H4PuUIyn",
      "metadata": {
        "id": "LvO-H4PuUIyn"
      },
      "source": [
        "## Pre-processamento"
      ]
    },
    {
      "cell_type": "markdown",
      "id": "dec881ae-2da3-490e-93a4-225438b9a559",
      "metadata": {
        "id": "dec881ae-2da3-490e-93a4-225438b9a559"
      },
      "source": [
        "* Escrevendo funcões para etapa de pre-processamento de Texto usando regex "
      ]
    },
    {
      "cell_type": "code",
      "execution_count": 6,
      "id": "1d317b88-9cdd-49db-8e91-95f40398e6a3",
      "metadata": {
        "id": "1d317b88-9cdd-49db-8e91-95f40398e6a3"
      },
      "outputs": [],
      "source": [
        "# Função para remover tags de html usando regex\n",
        "\n",
        "def remove_tags(text: str) -> str:\n",
        "    pattern = re.compile(\"<.*?>\")\n",
        "    cleantext = re.sub(pattern, \" \", text).replace(u\"\\xa0\", u\" \")\n",
        "    return cleantext\n",
        "\n",
        "# Função para deixar todo o texto em caixa baixa\n",
        "def to_lower(text: str) -> str:\n",
        "    return text.lower()\n",
        "\n",
        "# Função para remover numeros\n",
        "def remove_numbers(text: str) -> str:\n",
        "    pattern = re.compile(\"[0-9]+\")\n",
        "    clean_text = re.sub(pattern, \" \", text)\n",
        "    return clean_text\n",
        "\n",
        "# Função para remover stopwords em portugues; preposições, conjunções, artigos, etc\n",
        "def remove_standard_stopwords_pt(text: str) -> str:\n",
        "    stop_words = set(stopwords.words(\"portuguese\"))\n",
        "    word_tokens = word_tokenize(text)\n",
        "    filtered_sentence = [w for w in word_tokens if not w in stop_words]\n",
        "    final_sentence = \" \".join(filtered_sentence)\n",
        "    return final_sentence  \n",
        "\n",
        "def remove_standard_stopwords_en(text: str) -> str:\n",
        "    stop_words = set(stopwords.words(\"english\"))\n",
        "    word_tokens = word_tokenize(text)\n",
        "    filtered_sentence = [w for w in word_tokens if not w in stop_words]\n",
        "    final_sentence = \" \".join(filtered_sentence)\n",
        "    return final_sentence  \n",
        "\n",
        "# Função para remover caracteres especiais e pontuação\n",
        "def remove_punctuation(text: str) -> str:\n",
        "    pattern = re.compile(\"[\\d\\.\\,\\*):(\\?\\/\\-\\]\\[\\–º_]\")\n",
        "    clean_text = re.sub(pattern, \" \", text)\n",
        "    return clean_text\n",
        "\n",
        "# Função para remover aspas em itálico\n",
        "def remove_italic_dquotes(text: str) -> str:\n",
        "    pattern = re.compile(r'\"')\n",
        "    clean_text = re.sub(pattern, \" \", text)\n",
        "    return clean_text\n",
        "\n",
        "# Função para remover aspas de abertura\n",
        "def remove_open_dquotes(text: str) -> str:\n",
        "    pattern = re.compile(r'“')\n",
        "    clean_text = re.sub(pattern, \" \", text)\n",
        "    return clean_text\n",
        "\n",
        "# Função para remover aspas de abertura\n",
        "def remove_end_dquotes(text: str) -> str:\n",
        "    pattern = re.compile(r'”')\n",
        "    clean_text = re.sub(pattern, \" \", text)\n",
        "    return clean_text\n",
        "\n",
        "# Função para remover aspas de abertura\n",
        "def remove_italic_quotes(text: str) -> str:\n",
        "    pattern = re.compile(r\"'\")\n",
        "    clean_text = re.sub(pattern, \" \", text)\n",
        "    return clean_text\n",
        "\n",
        "# Função para remover aspas de abertura\n",
        "def remove_open_quotes(text: str) -> str:\n",
        "    pattern = re.compile(r'‘')\n",
        "    clean_text = re.sub(pattern, \" \", text)\n",
        "    return clean_text\n",
        "\n",
        "# Função para remover aspas de abertura\n",
        "def remove_end_quotes(text: str) -> str:\n",
        "    pattern = re.compile(r'’')\n",
        "    clean_text = re.sub(pattern, \" \", text)\n",
        "    return clean_text\n",
        "\n",
        "# Função para remover aspas de abertura\n",
        "def remove_quote(text: str) -> str:\n",
        "    pattern = re.compile(r'‛')\n",
        "    clean_text = re.sub(pattern, \" \", text)\n",
        "    return clean_text"
      ]
    },
    {
      "cell_type": "code",
      "execution_count": 7,
      "id": "4f426db9-19a0-41e7-bbc9-9eb62b865e59",
      "metadata": {
        "id": "4f426db9-19a0-41e7-bbc9-9eb62b865e59"
      },
      "outputs": [],
      "source": [
        "# resolve problema de codificação html da coluna 'questoes'\n",
        "data_clone['questoes_html']= data_clone['questoes'].astype('str').apply(html.unescape)\n",
        "\n",
        "# limpando o texto utilizando as funçoes criadas\n",
        "data_clone['questoes_tags'] = data_clone['questoes_html'].apply(remove_tags)\n",
        "data_clone['questoes_lower'] = data_clone['questoes_tags'].apply(to_lower)\n",
        "data_clone['questoes_numbers'] = data_clone['questoes_lower'].apply(remove_numbers)"
      ]
    },
    {
      "cell_type": "code",
      "execution_count": 8,
      "id": "3037c209",
      "metadata": {},
      "outputs": [],
      "source": [
        "### limpando pontuações e todos os tipos de aspas\n",
        "\n",
        "data_clone['questoes_punct'] = data_clone['questoes_numbers'].apply(remove_punctuation)\n",
        "\n",
        "data_clone['questoes_no_italic_quotes'] = data_clone['questoes_punct'].apply(remove_italic_quotes)\n",
        "data_clone['questoes_no_open_quotes'] = data_clone['questoes_no_italic_quotes'].apply(remove_open_quotes)\n",
        "data_clone['questoes_no_end_quotes'] = data_clone['questoes_no_open_quotes'].apply(remove_end_quotes)\n",
        "\n",
        "data_clone['questoes_no_italic_dquotes'] = data_clone['questoes_no_end_quotes'].apply(remove_italic_dquotes)\n",
        "data_clone['questoes_no_open_dquotes'] = data_clone['questoes_no_italic_dquotes'].apply(remove_open_dquotes)\n",
        "data_clone['questoes_no_end_dquotes'] = data_clone['questoes_no_open_dquotes'].apply(remove_end_dquotes)\n",
        "\n",
        "data_clone['questoes_no_quotes'] = data_clone['questoes_no_end_dquotes'].apply(remove_quote)"
      ]
    },
    {
      "cell_type": "code",
      "execution_count": 31,
      "id": "6c6b8698",
      "metadata": {},
      "outputs": [
        {
          "data": {
            "text/plain": [
              "' com base em seus conhecimentos sobre o compositor john cage  analise as seguintes afirmativas     i   sua composição intitulada        faz o público refletir sobre o que é música  silêncio e paisagem sonora    ii   os músicos que tocam essa composição são orientados a não executar uma nota sequer durante quatro minutos e trinta e três segundos    iii   para john cage  o silêncio absoluto não existe porque tudo se move    marque a alternativa correta  '"
            ]
          },
          "execution_count": 31,
          "metadata": {},
          "output_type": "execute_result"
        }
      ],
      "source": [
        "data_clone['questoes_no_quotes'][0]"
      ]
    },
    {
      "cell_type": "markdown",
      "id": "8bcf430b",
      "metadata": {},
      "source": [
        "### Lemmatização"
      ]
    },
    {
      "cell_type": "code",
      "execution_count": 11,
      "id": "ad5c70c0",
      "metadata": {},
      "outputs": [],
      "source": [
        "w_tokenizer = nltk.tokenize.WhitespaceTokenizer()\n",
        "lemmatizer = nltk.stem.WordNetLemmatizer()\n",
        "\n",
        "## Lemmatizing nouns\n",
        "\n",
        "def lemmatize_noun(text):\n",
        "    return [lemmatizer.lemmatize(w) for w in w_tokenizer.tokenize(text)]\n",
        "\n",
        "data_clone['lemmatized_tokens'] = data_clone['questoes_no_quotes'].apply(lemmatize_noun)\n",
        "\n",
        "data_clone['lemmatized_texts'] = data_clone['lemmatized_tokens'].apply(\" \".join)\n",
        "\n",
        "data_clone['lemmatized_texts'].sample()"
      ]
    },
    {
      "cell_type": "markdown",
      "id": "08222d72-60b5-4b6e-afb8-d50bd4644338",
      "metadata": {
        "id": "08222d72-60b5-4b6e-afb8-d50bd4644338"
      },
      "source": [
        "Tokenizaçao das Questoes usando NLTK"
      ]
    },
    {
      "cell_type": "code",
      "execution_count": 12,
      "id": "77e4fe83",
      "metadata": {},
      "outputs": [
        {
          "data": {
            "text/plain": [
              "39102    qual palavr foi omit na fal do últ quadr\n",
              "Name: questoes_Stem, dtype: object"
            ]
          },
          "execution_count": 12,
          "metadata": {},
          "output_type": "execute_result"
        }
      ],
      "source": [
        "from nltk.stem import RSLPStemmer\n",
        "\n",
        "def Stemming(sentence):\n",
        "    stemmer = RSLPStemmer()\n",
        "    phrase = []\n",
        "    for word in sentence:\n",
        "        phrase.append(stemmer.stem(word.lower()))\n",
        "    return phrase\n",
        "\n",
        "data_clone['questoes_Stem_tokens'] = data_clone['lemmatized_tokens'].apply(Stemming)\n",
        "\n",
        "data_clone['questoes_Stem'] = data_clone['questoes_Stem_tokens'].apply(\" \".join)\n",
        "\n",
        "data_clone['questoes_Stem'].sample()"
      ]
    },
    {
      "cell_type": "code",
      "execution_count": 13,
      "id": "9f5d1770",
      "metadata": {},
      "outputs": [
        {
          "data": {
            "text/plain": [
              "'com bas em seu conhec sobr o composi john cag analis a seguint afirm i sua compos intitul faz o públic reflet sobr o que é músic silênci e pais son ii o músic que toc ess compos são orient a não execut uma not sequ dur quatr minut e trint e trê segund iii par john cag o silênci absolut não exist porqu tud se mov marqu a altern corret'"
            ]
          },
          "execution_count": 13,
          "metadata": {},
          "output_type": "execute_result"
        }
      ],
      "source": [
        "data_clone['questoes_Stem'][0]"
      ]
    },
    {
      "cell_type": "code",
      "execution_count": 14,
      "id": "1261a462",
      "metadata": {},
      "outputs": [
        {
          "data": {
            "text/plain": [
              "'bas conhec sobr composi john cag analis seguint afirm compos intitul faz públic reflet sobr músic silênci pais son ii músic toc ess compos orient execut sequ dur quatr minut trint trê segund iii par john cag silênci absolut exist porqu tud mov marqu altern corret'"
            ]
          },
          "execution_count": 14,
          "metadata": {},
          "output_type": "execute_result"
        }
      ],
      "source": [
        "### Removendo stopwords em portugues\n",
        "\n",
        "stop_pt = stopwords.words(['portuguese', 'english'])\n",
        "\n",
        "text_pt = data_clone['questoes_Stem']\n",
        "\n",
        "test = pd.DataFrame(text_pt)\n",
        "test.columns = [\"text\"]\n",
        "\n",
        "# Exclude stopwords with Python's list comprehension and pandas.DataFrame.apply.\n",
        "test['text_without_stopwords'] = test['text'].apply(lambda x: ' '.join([word for word in x.split() if word not in (stop_pt)]))\n",
        "data_clone['questoes_no_stopw'] = test['text_without_stopwords']\n",
        "\n",
        "data_clone['questoes_no_stopw'][0]"
      ]
    },
    {
      "cell_type": "code",
      "execution_count": 15,
      "id": "944df71e",
      "metadata": {},
      "outputs": [
        {
          "data": {
            "text/plain": [
              "'nam furnitur english nom móvel abaix ingl'"
            ]
          },
          "execution_count": 15,
          "metadata": {},
          "output_type": "execute_result"
        }
      ],
      "source": [
        "data_clone['questoes_no_stopw'][52179]"
      ]
    },
    {
      "cell_type": "code",
      "execution_count": 17,
      "id": "3bf4cd54",
      "metadata": {},
      "outputs": [
        {
          "data": {
            "text/plain": [
              "'vej fot escult vênu willendorf analis vêm sequ escult pré histór demonstr figur feminin retrat tod exuber sei ventr fart er caracterís muit valor ness períod histór ii qu inspir padr bel greg iii prov foss figur ideal par represent fertil perpetu espéci human est corret'"
            ]
          },
          "execution_count": 17,
          "metadata": {},
          "output_type": "execute_result"
        }
      ],
      "source": [
        "data_clone['questoes_no_stopw'][70291]"
      ]
    },
    {
      "cell_type": "markdown",
      "id": "6bc5361e",
      "metadata": {},
      "source": [
        "### Spliting data"
      ]
    },
    {
      "cell_type": "code",
      "execution_count": 18,
      "id": "c5746145",
      "metadata": {},
      "outputs": [],
      "source": [
        "from sklearn.model_selection import train_test_split\n",
        "\n",
        "X = data_clone['questoes_no_stopw']\n",
        "y = data_clone['etapaEnsino']\n",
        "\n",
        "X_train, X_test, y_train, y_test = train_test_split(X, y, test_size=0.33, random_state=42)"
      ]
    },
    {
      "cell_type": "markdown",
      "id": "69e941e2",
      "metadata": {},
      "source": [
        "- Função para gerar n-grams"
      ]
    },
    {
      "cell_type": "code",
      "execution_count": 33,
      "id": "b12c3149",
      "metadata": {},
      "outputs": [],
      "source": [
        "def generate_N_grams(text,ngram=1):\n",
        "  words=[word for word in text.split(\" \") if word not in set(stopwords.words(['portuguese','english']))]  \n",
        "  #print(\"Sentence after removing stopwords:\",words)\n",
        "  temp=zip(*[words[i:] for i in range(0,ngram)])\n",
        "  ans=[' '.join(ngram) for ngram in temp]\n",
        "  return ans"
      ]
    },
    {
      "cell_type": "markdown",
      "id": "9050ee9d",
      "metadata": {},
      "source": [
        "- Criando uni-grams"
      ]
    },
    {
      "cell_type": "code",
      "execution_count": 20,
      "id": "99cb1e19",
      "metadata": {},
      "outputs": [],
      "source": [
        "from collections import defaultdict\n",
        "\n",
        "fundI=defaultdict(int)\n",
        "fundII=defaultdict(int)\n",
        "Medio=defaultdict(int)"
      ]
    },
    {
      "cell_type": "code",
      "execution_count": 21,
      "id": "1b5de0bd",
      "metadata": {},
      "outputs": [],
      "source": [
        "df1=pd.DataFrame(X_train)\n",
        "\n",
        "df2=pd.DataFrame(y_train)\n",
        "df2=df2.rename(columns={0:'etapaEnsino'})\n",
        "\n",
        "df_train=pd.concat([df1,df2],axis=1)\n",
        "\n",
        "df3=pd.DataFrame(X_test)\n",
        "\n",
        "df4=pd.DataFrame(y_test)\n",
        "df4=df4.rename(columns={0:'etapaEnsino'})\n",
        "\n",
        "df_test=pd.concat([df3,df4],axis=1)"
      ]
    },
    {
      "cell_type": "code",
      "execution_count": 22,
      "id": "63b6b5fa",
      "metadata": {},
      "outputs": [
        {
          "data": {
            "text/plain": [
              "(56062, 2)"
            ]
          },
          "execution_count": 22,
          "metadata": {},
          "output_type": "execute_result"
        }
      ],
      "source": [
        "df_train.shape"
      ]
    },
    {
      "cell_type": "markdown",
      "id": "642e445a",
      "metadata": {},
      "source": [
        "pegando uma porção dos dados para testar"
      ]
    },
    {
      "cell_type": "code",
      "execution_count": 23,
      "id": "d8bba644",
      "metadata": {},
      "outputs": [
        {
          "data": {
            "text/plain": [
              "Fundamental II            785\n",
              "Médio & Pré-Vestibular    780\n",
              "Fundamental I             435\n",
              "Name: etapaEnsino, dtype: int64"
            ]
          },
          "execution_count": 23,
          "metadata": {},
          "output_type": "execute_result"
        }
      ],
      "source": [
        "pilot = df_train.sample(2000, random_state=42)\n",
        "pilot.etapaEnsino.value_counts()"
      ]
    },
    {
      "cell_type": "code",
      "execution_count": 46,
      "id": "f376133e",
      "metadata": {},
      "outputs": [],
      "source": [
        "for text in pilot[pilot.etapaEnsino==\"Fundamental I\"].questoes_no_stopw:\n",
        "  for word in generate_N_grams(text,3):\n",
        "    fundI[word]+=1"
      ]
    },
    {
      "cell_type": "code",
      "execution_count": 47,
      "id": "e3c960fc",
      "metadata": {},
      "outputs": [],
      "source": [
        "for text in pilot[pilot.etapaEnsino==\"Fundamental II\"].questoes_no_stopw:\n",
        "  for word in generate_N_grams(text,3):\n",
        "    fundII[word]+=1"
      ]
    },
    {
      "cell_type": "code",
      "execution_count": 35,
      "id": "d391d103",
      "metadata": {},
      "outputs": [],
      "source": [
        "for text in pilot[pilot.etapaEnsino==\"Médio & Pré-Vestibular\"].questoes_no_stopw:\n",
        "  for word in generate_N_grams(text,3):\n",
        "    Medio[word]+=1"
      ]
    },
    {
      "cell_type": "code",
      "execution_count": 36,
      "id": "7b78805a",
      "metadata": {},
      "outputs": [],
      "source": [
        "df_fundI=pd.DataFrame(sorted(fundI.items(),key=lambda x:x[1],reverse=True))\n",
        "df_fundII=pd.DataFrame(sorted(fundII.items(),key=lambda x:x[1],reverse=True))\n",
        "df_medio=pd.DataFrame(sorted(Medio.items(),key=lambda x:x[1],reverse=True))"
      ]
    },
    {
      "cell_type": "code",
      "execution_count": 37,
      "id": "b15a22be",
      "metadata": {},
      "outputs": [],
      "source": [
        "FI_1=df_fundI[0][:15]\n",
        "FI_2=df_fundI[1][:15]\n",
        "\n",
        "FII_1=df_fundII[0][:15]\n",
        "FII_2=df_fundII[1][:15]\n",
        "\n",
        "ME_1=df_medio[0][:15]\n",
        "ME_2=df_medio[1][:15]"
      ]
    },
    {
      "cell_type": "code",
      "execution_count": 39,
      "id": "e2f2eae7",
      "metadata": {},
      "outputs": [
        {
          "data": {
            "image/png": "[encoded data removed]",
            "text/plain": [
              "<Figure size 1152x288 with 1 Axes>"
            ]
          },
          "metadata": {
            "needs_background": "light"
          },
          "output_type": "display_data"
        }
      ],
      "source": [
        "plt.figure(1,figsize=(16,4))\n",
        "plt.bar(FI_1,FI_2, color ='green',\n",
        "        width = 0.4)\n",
        "plt.xlabel(\"Words in Fundamental I dataframe\")\n",
        "plt.xticks(rotation=45)\n",
        "plt.ylabel(\"Count\")\n",
        "plt.title(\"Top 10 words in Fundamental I dataframe-UNIGRAM ANALYSIS\")\n",
        "plt.show()\n",
        "\n",
        "### plt.savefig(\"trigram.png\")"
      ]
    },
    {
      "cell_type": "code",
      "execution_count": 40,
      "id": "075b1cdc",
      "metadata": {},
      "outputs": [
        {
          "data": {
            "image/png": "[encoded data removed]",
            "text/plain": [
              "<Figure size 1152x288 with 1 Axes>"
            ]
          },
          "metadata": {
            "needs_background": "light"
          },
          "output_type": "display_data"
        }
      ],
      "source": [
        "plt.figure(1,figsize=(16,4))\n",
        "plt.bar(FII_1,FII_2, color ='blue',\n",
        "        width = 0.4)\n",
        "plt.xlabel(\"Words in Fundamental II dataframe\")\n",
        "plt.xticks(rotation=45)\n",
        "plt.ylabel(\"Count\")\n",
        "plt.title(\"Top 10 words in Fundamental II dataframe-UNIGRAM ANALYSIS\")\n",
        "plt.show()\n",
        "\n",
        "### plt.savefig(\"trigram.png\")"
      ]
    },
    {
      "cell_type": "code",
      "execution_count": 41,
      "id": "c143f64f",
      "metadata": {},
      "outputs": [
        {
          "data": {
            "image/png": "[encoded data removed]",
            "text/plain": [
              "<Figure size 1152x288 with 1 Axes>"
            ]
          },
          "metadata": {
            "needs_background": "light"
          },
          "output_type": "display_data"
        }
      ],
      "source": [
        "plt.figure(1,figsize=(16,4))\n",
        "plt.bar(ME_1,ME_2, color ='yellow',\n",
        "        width = 0.4)\n",
        "plt.xlabel(\"Words in Médio & Pré-Vestibular dataframe\")\n",
        "plt.xticks(rotation=45)\n",
        "plt.ylabel(\"Count\")\n",
        "plt.title(\"Top 10 words in Médio & Pré-Vestibular dataframe-UNIGRAM ANALYSIS\")\n",
        "plt.show()\n",
        "\n",
        "### plt.savefig(\"trigram.png\")"
      ]
    },
    {
      "cell_type": "code",
      "execution_count": 45,
      "id": "8a0debb9",
      "metadata": {},
      "outputs": [
        {
          "name": "stdout",
          "output_type": "stream",
          "text": [
            "(2000, 10499)\n"
          ]
        }
      ],
      "source": [
        "from sklearn.feature_extraction.text import CountVectorizer\n",
        "\n",
        "cv = CountVectorizer(ngram_range = (1,1))\n",
        "X = cv.fit_transform(pilot['questoes_no_stopw'])\n",
        "print(X.shape)"
      ]
    },
    {
      "cell_type": "code",
      "execution_count": 25,
      "id": "dffd97f3",
      "metadata": {},
      "outputs": [
        {
          "name": "stderr",
          "output_type": "stream",
          "text": [
            "C:\\Users\\Danilo\\AppData\\Local\\Programs\\Python\\Python310\\lib\\site-packages\\sklearn\\utils\\deprecation.py:87: FutureWarning: Function get_feature_names is deprecated; get_feature_names is deprecated in 1.0 and will be removed in 1.2. Please use get_feature_names_out instead.\n",
            "  warnings.warn(msg, category=FutureWarning)\n"
          ]
        },
        {
          "data": {
            "text/html": [
              "<div>\n",
              "<style scoped>\n",
              "    .dataframe tbody tr th:only-of-type {\n",
              "        vertical-align: middle;\n",
              "    }\n",
              "\n",
              "    .dataframe tbody tr th {\n",
              "        vertical-align: top;\n",
              "    }\n",
              "\n",
              "    .dataframe thead th {\n",
              "        text-align: right;\n",
              "    }\n",
              "</style>\n",
              "<table border=\"1\" class=\"dataframe\">\n",
              "  <thead>\n",
              "    <tr style=\"text-align: right;\">\n",
              "      <th></th>\n",
              "      <th>aa</th>\n",
              "      <th>aaaaaahhhhhh</th>\n",
              "      <th>aaaaahhhhhhhh</th>\n",
              "      <th>aaaiiiii</th>\n",
              "      <th>aarav</th>\n",
              "      <th>ab</th>\n",
              "      <th>abaaa</th>\n",
              "      <th>abacat</th>\n",
              "      <th>abaix</th>\n",
              "      <th>abal</th>\n",
              "      <th>...</th>\n",
              "      <th>úb</th>\n",
              "      <th>últ</th>\n",
              "      <th>úmid</th>\n",
              "      <th>únic</th>\n",
              "      <th>úric</th>\n",
              "      <th>úteis</th>\n",
              "      <th>útel</th>\n",
              "      <th>útil</th>\n",
              "      <th>ﬁnal</th>\n",
              "      <th>ﬂoat</th>\n",
              "    </tr>\n",
              "  </thead>\n",
              "  <tbody>\n",
              "    <tr>\n",
              "      <th>0</th>\n",
              "      <td>0</td>\n",
              "      <td>0</td>\n",
              "      <td>0</td>\n",
              "      <td>0</td>\n",
              "      <td>0</td>\n",
              "      <td>0</td>\n",
              "      <td>0</td>\n",
              "      <td>0</td>\n",
              "      <td>0</td>\n",
              "      <td>0</td>\n",
              "      <td>...</td>\n",
              "      <td>0</td>\n",
              "      <td>0</td>\n",
              "      <td>0</td>\n",
              "      <td>0</td>\n",
              "      <td>0</td>\n",
              "      <td>0</td>\n",
              "      <td>0</td>\n",
              "      <td>0</td>\n",
              "      <td>0</td>\n",
              "      <td>0</td>\n",
              "    </tr>\n",
              "    <tr>\n",
              "      <th>1</th>\n",
              "      <td>0</td>\n",
              "      <td>0</td>\n",
              "      <td>0</td>\n",
              "      <td>0</td>\n",
              "      <td>0</td>\n",
              "      <td>0</td>\n",
              "      <td>0</td>\n",
              "      <td>0</td>\n",
              "      <td>0</td>\n",
              "      <td>0</td>\n",
              "      <td>...</td>\n",
              "      <td>0</td>\n",
              "      <td>0</td>\n",
              "      <td>0</td>\n",
              "      <td>0</td>\n",
              "      <td>0</td>\n",
              "      <td>0</td>\n",
              "      <td>0</td>\n",
              "      <td>0</td>\n",
              "      <td>0</td>\n",
              "      <td>0</td>\n",
              "    </tr>\n",
              "    <tr>\n",
              "      <th>2</th>\n",
              "      <td>0</td>\n",
              "      <td>0</td>\n",
              "      <td>0</td>\n",
              "      <td>0</td>\n",
              "      <td>0</td>\n",
              "      <td>0</td>\n",
              "      <td>0</td>\n",
              "      <td>0</td>\n",
              "      <td>0</td>\n",
              "      <td>0</td>\n",
              "      <td>...</td>\n",
              "      <td>0</td>\n",
              "      <td>0</td>\n",
              "      <td>0</td>\n",
              "      <td>0</td>\n",
              "      <td>0</td>\n",
              "      <td>0</td>\n",
              "      <td>0</td>\n",
              "      <td>0</td>\n",
              "      <td>0</td>\n",
              "      <td>0</td>\n",
              "    </tr>\n",
              "    <tr>\n",
              "      <th>3</th>\n",
              "      <td>0</td>\n",
              "      <td>0</td>\n",
              "      <td>0</td>\n",
              "      <td>0</td>\n",
              "      <td>0</td>\n",
              "      <td>0</td>\n",
              "      <td>0</td>\n",
              "      <td>0</td>\n",
              "      <td>0</td>\n",
              "      <td>0</td>\n",
              "      <td>...</td>\n",
              "      <td>0</td>\n",
              "      <td>0</td>\n",
              "      <td>0</td>\n",
              "      <td>0</td>\n",
              "      <td>0</td>\n",
              "      <td>0</td>\n",
              "      <td>0</td>\n",
              "      <td>0</td>\n",
              "      <td>0</td>\n",
              "      <td>0</td>\n",
              "    </tr>\n",
              "    <tr>\n",
              "      <th>4</th>\n",
              "      <td>0</td>\n",
              "      <td>0</td>\n",
              "      <td>0</td>\n",
              "      <td>0</td>\n",
              "      <td>0</td>\n",
              "      <td>0</td>\n",
              "      <td>0</td>\n",
              "      <td>0</td>\n",
              "      <td>0</td>\n",
              "      <td>0</td>\n",
              "      <td>...</td>\n",
              "      <td>0</td>\n",
              "      <td>0</td>\n",
              "      <td>0</td>\n",
              "      <td>0</td>\n",
              "      <td>0</td>\n",
              "      <td>0</td>\n",
              "      <td>0</td>\n",
              "      <td>0</td>\n",
              "      <td>0</td>\n",
              "      <td>0</td>\n",
              "    </tr>\n",
              "  </tbody>\n",
              "</table>\n",
              "<p>5 rows × 10499 columns</p>\n",
              "</div>"
            ],
            "text/plain": [
              "   aa  aaaaaahhhhhh  aaaaahhhhhhhh  aaaiiiii  aarav  ab  abaaa  abacat  abaix  \\\n",
              "0   0             0              0         0      0   0      0       0      0   \n",
              "1   0             0              0         0      0   0      0       0      0   \n",
              "2   0             0              0         0      0   0      0       0      0   \n",
              "3   0             0              0         0      0   0      0       0      0   \n",
              "4   0             0              0         0      0   0      0       0      0   \n",
              "\n",
              "   abal  ...  úb  últ  úmid  únic  úric  úteis  útel  útil  ﬁnal  ﬂoat  \n",
              "0     0  ...   0    0     0     0     0      0     0     0     0     0  \n",
              "1     0  ...   0    0     0     0     0      0     0     0     0     0  \n",
              "2     0  ...   0    0     0     0     0      0     0     0     0     0  \n",
              "3     0  ...   0    0     0     0     0      0     0     0     0     0  \n",
              "4     0  ...   0    0     0     0     0      0     0     0     0     0  \n",
              "\n",
              "[5 rows x 10499 columns]"
            ]
          },
          "execution_count": 25,
          "metadata": {},
          "output_type": "execute_result"
        }
      ],
      "source": [
        "p = pd.DataFrame(X.toarray(), columns = cv.get_feature_names())\n",
        "p.head()"
      ]
    },
    {
      "cell_type": "code",
      "execution_count": 27,
      "id": "5d5253e5",
      "metadata": {},
      "outputs": [
        {
          "data": {
            "text/plain": [
              "[Index(['aa', 'aaaaaahhhhhh', 'aaaaahhhhhhhh', 'aaaiiiii', 'aarav', 'ab',\n",
              "        'abaaa', 'abacat', 'abaix', 'abal',\n",
              "        ...\n",
              "        'úb', 'últ', 'úmid', 'únic', 'úric', 'úteis', 'útel', 'útil', 'ﬁnal',\n",
              "        'ﬂoat'],\n",
              "       dtype='object', length=10499)]"
            ]
          },
          "execution_count": 27,
          "metadata": {},
          "output_type": "execute_result"
        }
      ],
      "source": [
        "p.columns"
      ]
    },
    {
      "cell_type": "markdown",
      "id": "7a92c1c0",
      "metadata": {},
      "source": [
        "### Enconding with BOW"
      ]
    },
    {
      "cell_type": "code",
      "execution_count": 28,
      "id": "6c32099d",
      "metadata": {},
      "outputs": [
        {
          "data": {
            "text/plain": [
              "<83675x76546 sparse matrix of type '<class 'numpy.int64'>'\n",
              "\twith 2454469 stored elements in Compressed Sparse Row format>"
            ]
          },
          "execution_count": 28,
          "metadata": {},
          "output_type": "execute_result"
        }
      ],
      "source": [
        "from sklearn.feature_extraction.text import CountVectorizer\n",
        "\n",
        "vectorizerBOW = CountVectorizer()\n",
        "XBOW = vectorizerBOW.fit_transform(data_clone['questoes_no_stopw'])\n",
        "XBOW"
      ]
    },
    {
      "cell_type": "markdown",
      "id": "da86526b",
      "metadata": {},
      "source": [
        "### Enconding with TF-IDF"
      ]
    },
    {
      "cell_type": "code",
      "execution_count": 45,
      "id": "48ad9e4a",
      "metadata": {},
      "outputs": [
        {
          "data": {
            "text/plain": [
              "<83675x124300 sparse matrix of type '<class 'numpy.float64'>'\n",
              "\twith 2462464 stored elements in Compressed Sparse Row format>"
            ]
          },
          "execution_count": 45,
          "metadata": {},
          "output_type": "execute_result"
        }
      ],
      "source": [
        "from sklearn.feature_extraction.text import TfidfVectorizer\n",
        "\n",
        "vectorizerTF = TfidfVectorizer()\n",
        "XTF = vectorizerTF.fit_transform(data_clone['lemmatized_texts'])\n",
        "XTF\n"
      ]
    },
    {
      "cell_type": "markdown",
      "id": "fe21230c",
      "metadata": {},
      "source": [
        "### Clusterizando com t-SNE"
      ]
    },
    {
      "cell_type": "code",
      "execution_count": 35,
      "id": "d0b91a39",
      "metadata": {},
      "outputs": [],
      "source": [
        "from sklearn.manifold import TSNE\n",
        "\n",
        "X_embedded_BOW = TSNE(n_components=3, learning_rate='auto',init='random').fit_transform(XBOW) \n",
        "X_embedded_BOW.shape"
      ]
    },
    {
      "cell_type": "markdown",
      "id": "80ebef7d",
      "metadata": {},
      "source": [
        "### Criando modelo para Etapa de Ensino"
      ]
    },
    {
      "cell_type": "code",
      "execution_count": 72,
      "id": "a3fc9340",
      "metadata": {},
      "outputs": [],
      "source": [
        "from sklearn.model_selection import train_test_split\n",
        "\n",
        "y = data_clone['etapaEnsino']\n",
        "\n",
        "X = data_clone['lemmatized_texts']\n",
        "\n",
        "X_train, X_test, y_train, y_test = train_test_split(X, y, test_size=0.33, random_state=42)\n",
        "\n",
        "XBOW_train, XBOW_test, y_train, y_test = train_test_split(XBOW, y, test_size=0.33, random_state=42)\n",
        "\n",
        "XTF_train, XTF_test, y_train, y_test = train_test_split(XTF, y, test_size=0.33, random_state=42)"
      ]
    },
    {
      "cell_type": "code",
      "execution_count": 54,
      "id": "d16142ea",
      "metadata": {},
      "outputs": [
        {
          "data": {
            "text/plain": [
              "Index(['id', 'questoes', 'tipoQuestoes', 'topico', 'slug', 'materia', 'slug.1',\n",
              "       'etapaEnsino', 'questoes_html', 'questoes_tags', 'questoes_lower',\n",
              "       'questoes_numbers', 'questoes_punct', 'questoes_no_italic_quotes',\n",
              "       'questoes_no_open_quotes', 'questoes_no_end_quotes',\n",
              "       'questoes_no_italic_dquotes', 'questoes_no_open_dquotes',\n",
              "       'questoes_no_end_dquotes', 'questoes_stopw_pt', 'questoes_stopw_en',\n",
              "       'questoes_no_quotes', 'questoes_tokens', 'lemmatized_tokens'],\n",
              "      dtype='object')"
            ]
          },
          "execution_count": 54,
          "metadata": {},
          "output_type": "execute_result"
        }
      ],
      "source": [
        "data_clone.columns"
      ]
    },
    {
      "cell_type": "code",
      "execution_count": 55,
      "id": "8545fa62",
      "metadata": {},
      "outputs": [
        {
          "data": {
            "text/plain": [
              "63829"
            ]
          },
          "execution_count": 55,
          "metadata": {},
          "output_type": "execute_result"
        }
      ],
      "source": [
        "data_clone['questoes_no_quotes'].str.len().max()"
      ]
    },
    {
      "cell_type": "code",
      "execution_count": 56,
      "id": "4ffe99dc",
      "metadata": {},
      "outputs": [],
      "source": [
        "from sklearn.model_selection import train_test_split, cross_val_score, cross_val_predict, GridSearchCV\n",
        "from sklearn.feature_extraction.text import TfidfVectorizer\n",
        "from sklearn.linear_model import SGDClassifier\n",
        "from sklearn.pipeline import Pipeline\n",
        "from sklearn.metrics import confusion_matrix, accuracy_score"
      ]
    },
    {
      "cell_type": "code",
      "execution_count": 57,
      "id": "c91a62f8",
      "metadata": {},
      "outputs": [
        {
          "name": "stdout",
          "output_type": "stream",
          "text": [
            "[0.67047177 0.67858735 0.67088833 0.66910453 0.67704245]\n",
            "Accuracy: 0.67 (+/- 0.01)\n"
          ]
        }
      ],
      "source": [
        "sgd_clf = SGDClassifier(random_state=123)\n",
        "sgf_clf_scores = cross_val_score(sgd_clf, XTF_train, y_train, cv=5)\n",
        "print(sgf_clf_scores)\n",
        "print(\"Accuracy: %0.2f (+/- %0.2f)\" % (sgf_clf_scores.mean(), sgf_clf_scores.std() * 2))"
      ]
    },
    {
      "cell_type": "code",
      "execution_count": 59,
      "id": "39b9b24c",
      "metadata": {},
      "outputs": [
        {
          "data": {
            "text/plain": [
              "Médio & Pré-Vestibular    22250\n",
              "Fundamental II            21856\n",
              "Fundamental I             11956\n",
              "Name: etapaEnsino, dtype: int64"
            ]
          },
          "execution_count": 59,
          "metadata": {},
          "output_type": "execute_result"
        }
      ],
      "source": [
        "y_train.value_counts()"
      ]
    },
    {
      "cell_type": "code",
      "execution_count": 62,
      "id": "119a8770",
      "metadata": {},
      "outputs": [
        {
          "name": "stdout",
          "output_type": "stream",
          "text": [
            "[[ 7795  3030  1131]\n",
            " [ 2374 13140  6342]\n",
            " [  759  4684 16807]]\n"
          ]
        }
      ],
      "source": [
        "sgf_clf_pred = cross_val_predict(sgd_clf, XTF_train, y_train, cv=5)\n",
        "print(confusion_matrix(y_train, sgf_clf_pred))"
      ]
    },
    {
      "cell_type": "code",
      "execution_count": 63,
      "id": "09a79a7c",
      "metadata": {},
      "outputs": [
        {
          "name": "stderr",
          "output_type": "stream",
          "text": [
            "C:\\Users\\Danilo\\AppData\\Local\\Programs\\Python\\Python310\\lib\\site-packages\\sklearn\\linear_model\\_stochastic_gradient.py:696: ConvergenceWarning: Maximum number of iteration reached before convergence. Consider increasing max_iter to improve the fit.\n",
            "  warnings.warn(\n",
            "C:\\Users\\Danilo\\AppData\\Local\\Programs\\Python\\Python310\\lib\\site-packages\\sklearn\\linear_model\\_stochastic_gradient.py:696: ConvergenceWarning: Maximum number of iteration reached before convergence. Consider increasing max_iter to improve the fit.\n",
            "  warnings.warn(\n",
            "C:\\Users\\Danilo\\AppData\\Local\\Programs\\Python\\Python310\\lib\\site-packages\\sklearn\\linear_model\\_stochastic_gradient.py:696: ConvergenceWarning: Maximum number of iteration reached before convergence. Consider increasing max_iter to improve the fit.\n",
            "  warnings.warn(\n",
            "C:\\Users\\Danilo\\AppData\\Local\\Programs\\Python\\Python310\\lib\\site-packages\\sklearn\\linear_model\\_stochastic_gradient.py:696: ConvergenceWarning: Maximum number of iteration reached before convergence. Consider increasing max_iter to improve the fit.\n",
            "  warnings.warn(\n",
            "C:\\Users\\Danilo\\AppData\\Local\\Programs\\Python\\Python310\\lib\\site-packages\\sklearn\\linear_model\\_stochastic_gradient.py:696: ConvergenceWarning: Maximum number of iteration reached before convergence. Consider increasing max_iter to improve the fit.\n",
            "  warnings.warn(\n",
            "C:\\Users\\Danilo\\AppData\\Local\\Programs\\Python\\Python310\\lib\\site-packages\\sklearn\\linear_model\\_stochastic_gradient.py:696: ConvergenceWarning: Maximum number of iteration reached before convergence. Consider increasing max_iter to improve the fit.\n",
            "  warnings.warn(\n",
            "C:\\Users\\Danilo\\AppData\\Local\\Programs\\Python\\Python310\\lib\\site-packages\\sklearn\\linear_model\\_stochastic_gradient.py:696: ConvergenceWarning: Maximum number of iteration reached before convergence. Consider increasing max_iter to improve the fit.\n",
            "  warnings.warn(\n",
            "C:\\Users\\Danilo\\AppData\\Local\\Programs\\Python\\Python310\\lib\\site-packages\\sklearn\\linear_model\\_stochastic_gradient.py:696: ConvergenceWarning: Maximum number of iteration reached before convergence. Consider increasing max_iter to improve the fit.\n",
            "  warnings.warn(\n",
            "C:\\Users\\Danilo\\AppData\\Local\\Programs\\Python\\Python310\\lib\\site-packages\\sklearn\\linear_model\\_stochastic_gradient.py:696: ConvergenceWarning: Maximum number of iteration reached before convergence. Consider increasing max_iter to improve the fit.\n",
            "  warnings.warn(\n",
            "C:\\Users\\Danilo\\AppData\\Local\\Programs\\Python\\Python310\\lib\\site-packages\\sklearn\\linear_model\\_stochastic_gradient.py:696: ConvergenceWarning: Maximum number of iteration reached before convergence. Consider increasing max_iter to improve the fit.\n",
            "  warnings.warn(\n",
            "C:\\Users\\Danilo\\AppData\\Local\\Programs\\Python\\Python310\\lib\\site-packages\\sklearn\\linear_model\\_stochastic_gradient.py:696: ConvergenceWarning: Maximum number of iteration reached before convergence. Consider increasing max_iter to improve the fit.\n",
            "  warnings.warn(\n",
            "C:\\Users\\Danilo\\AppData\\Local\\Programs\\Python\\Python310\\lib\\site-packages\\sklearn\\linear_model\\_stochastic_gradient.py:696: ConvergenceWarning: Maximum number of iteration reached before convergence. Consider increasing max_iter to improve the fit.\n",
            "  warnings.warn(\n",
            "C:\\Users\\Danilo\\AppData\\Local\\Programs\\Python\\Python310\\lib\\site-packages\\sklearn\\linear_model\\_stochastic_gradient.py:696: ConvergenceWarning: Maximum number of iteration reached before convergence. Consider increasing max_iter to improve the fit.\n",
            "  warnings.warn(\n",
            "C:\\Users\\Danilo\\AppData\\Local\\Programs\\Python\\Python310\\lib\\site-packages\\sklearn\\linear_model\\_stochastic_gradient.py:696: ConvergenceWarning: Maximum number of iteration reached before convergence. Consider increasing max_iter to improve the fit.\n",
            "  warnings.warn(\n",
            "C:\\Users\\Danilo\\AppData\\Local\\Programs\\Python\\Python310\\lib\\site-packages\\sklearn\\linear_model\\_stochastic_gradient.py:696: ConvergenceWarning: Maximum number of iteration reached before convergence. Consider increasing max_iter to improve the fit.\n",
            "  warnings.warn(\n",
            "C:\\Users\\Danilo\\AppData\\Local\\Programs\\Python\\Python310\\lib\\site-packages\\sklearn\\linear_model\\_stochastic_gradient.py:696: ConvergenceWarning: Maximum number of iteration reached before convergence. Consider increasing max_iter to improve the fit.\n",
            "  warnings.warn(\n",
            "C:\\Users\\Danilo\\AppData\\Local\\Programs\\Python\\Python310\\lib\\site-packages\\sklearn\\linear_model\\_stochastic_gradient.py:696: ConvergenceWarning: Maximum number of iteration reached before convergence. Consider increasing max_iter to improve the fit.\n",
            "  warnings.warn(\n",
            "C:\\Users\\Danilo\\AppData\\Local\\Programs\\Python\\Python310\\lib\\site-packages\\sklearn\\linear_model\\_stochastic_gradient.py:696: ConvergenceWarning: Maximum number of iteration reached before convergence. Consider increasing max_iter to improve the fit.\n",
            "  warnings.warn(\n",
            "C:\\Users\\Danilo\\AppData\\Local\\Programs\\Python\\Python310\\lib\\site-packages\\sklearn\\linear_model\\_stochastic_gradient.py:696: ConvergenceWarning: Maximum number of iteration reached before convergence. Consider increasing max_iter to improve the fit.\n",
            "  warnings.warn(\n",
            "C:\\Users\\Danilo\\AppData\\Local\\Programs\\Python\\Python310\\lib\\site-packages\\sklearn\\linear_model\\_stochastic_gradient.py:696: ConvergenceWarning: Maximum number of iteration reached before convergence. Consider increasing max_iter to improve the fit.\n",
            "  warnings.warn(\n",
            "C:\\Users\\Danilo\\AppData\\Local\\Programs\\Python\\Python310\\lib\\site-packages\\sklearn\\linear_model\\_stochastic_gradient.py:696: ConvergenceWarning: Maximum number of iteration reached before convergence. Consider increasing max_iter to improve the fit.\n",
            "  warnings.warn(\n",
            "C:\\Users\\Danilo\\AppData\\Local\\Programs\\Python\\Python310\\lib\\site-packages\\sklearn\\linear_model\\_stochastic_gradient.py:696: ConvergenceWarning: Maximum number of iteration reached before convergence. Consider increasing max_iter to improve the fit.\n",
            "  warnings.warn(\n",
            "C:\\Users\\Danilo\\AppData\\Local\\Programs\\Python\\Python310\\lib\\site-packages\\sklearn\\linear_model\\_stochastic_gradient.py:696: ConvergenceWarning: Maximum number of iteration reached before convergence. Consider increasing max_iter to improve the fit.\n",
            "  warnings.warn(\n",
            "C:\\Users\\Danilo\\AppData\\Local\\Programs\\Python\\Python310\\lib\\site-packages\\sklearn\\linear_model\\_stochastic_gradient.py:696: ConvergenceWarning: Maximum number of iteration reached before convergence. Consider increasing max_iter to improve the fit.\n",
            "  warnings.warn(\n",
            "C:\\Users\\Danilo\\AppData\\Local\\Programs\\Python\\Python310\\lib\\site-packages\\sklearn\\linear_model\\_stochastic_gradient.py:696: ConvergenceWarning: Maximum number of iteration reached before convergence. Consider increasing max_iter to improve the fit.\n",
            "  warnings.warn(\n",
            "C:\\Users\\Danilo\\AppData\\Local\\Programs\\Python\\Python310\\lib\\site-packages\\sklearn\\linear_model\\_stochastic_gradient.py:696: ConvergenceWarning: Maximum number of iteration reached before convergence. Consider increasing max_iter to improve the fit.\n",
            "  warnings.warn(\n",
            "C:\\Users\\Danilo\\AppData\\Local\\Programs\\Python\\Python310\\lib\\site-packages\\sklearn\\linear_model\\_stochastic_gradient.py:696: ConvergenceWarning: Maximum number of iteration reached before convergence. Consider increasing max_iter to improve the fit.\n",
            "  warnings.warn(\n",
            "C:\\Users\\Danilo\\AppData\\Local\\Programs\\Python\\Python310\\lib\\site-packages\\sklearn\\linear_model\\_stochastic_gradient.py:696: ConvergenceWarning: Maximum number of iteration reached before convergence. Consider increasing max_iter to improve the fit.\n",
            "  warnings.warn(\n",
            "C:\\Users\\Danilo\\AppData\\Local\\Programs\\Python\\Python310\\lib\\site-packages\\sklearn\\linear_model\\_stochastic_gradient.py:696: ConvergenceWarning: Maximum number of iteration reached before convergence. Consider increasing max_iter to improve the fit.\n",
            "  warnings.warn(\n"
          ]
        },
        {
          "data": {
            "text/plain": [
              "{'early_stopping': False,\n",
              " 'fit_intercept': False,\n",
              " 'loss': 'log',\n",
              " 'penalty': 'none'}"
            ]
          },
          "execution_count": 63,
          "metadata": {},
          "output_type": "execute_result"
        }
      ],
      "source": [
        "grid = {'fit_intercept': [True,False],\n",
        "        'early_stopping': [True, False],\n",
        "        'loss' : ['hinge', 'log', 'squared_hinge'],\n",
        "        'penalty' : ['l2', 'l1', 'none']}\n",
        "search = GridSearchCV(estimator=sgd_clf, param_grid=grid, cv=5)\n",
        "search.fit(XTF_train, y_train)\n",
        "search.best_params_"
      ]
    },
    {
      "cell_type": "code",
      "execution_count": 65,
      "id": "5b0238f4",
      "metadata": {},
      "outputs": [
        {
          "name": "stdout",
          "output_type": "stream",
          "text": [
            "[0.681352   0.68358156 0.67508027 0.68230467 0.68703175]\n",
            "Accuracy: 0.68 (+/- 0.01)\n"
          ]
        }
      ],
      "source": [
        "grid_sgd_clf_scores = cross_val_score(search.best_estimator_, XTF_train, y_train, cv=5)\n",
        "print(grid_sgd_clf_scores)\n",
        "print(\"Accuracy: %0.2f (+/- %0.2f)\" % (grid_sgd_clf_scores.mean(), grid_sgd_clf_scores.std() * 2))"
      ]
    },
    {
      "cell_type": "code",
      "execution_count": 73,
      "id": "ca912de4",
      "metadata": {},
      "outputs": [
        {
          "data": {
            "text/plain": [
              "Pipeline(steps=[('vectoriser', TfidfVectorizer()),\n",
              "                ('classifier',\n",
              "                 SGDClassifier(fit_intercept=False, loss='log', penalty='none',\n",
              "                               random_state=123))])"
            ]
          },
          "execution_count": 73,
          "metadata": {},
          "output_type": "execute_result"
        }
      ],
      "source": [
        "pipe = Pipeline([('vectoriser', vectorizerTF),\n",
        "                 ('classifier', search.best_estimator_)])\n",
        "pipe.fit(X_train, y_train)"
      ]
    },
    {
      "cell_type": "code",
      "execution_count": 74,
      "id": "0aff2406",
      "metadata": {},
      "outputs": [
        {
          "name": "stdout",
          "output_type": "stream",
          "text": [
            "Accuracy: 0.69\n",
            "[[4182 1420  490]\n",
            " [1218 6834 2531]\n",
            " [ 506 2370 8062]]\n"
          ]
        }
      ],
      "source": [
        "y_test_pred = pipe.predict(X_test)\n",
        "print(\"Accuracy: %0.2f\" % (accuracy_score(y_test, y_test_pred)))\n",
        "print(confusion_matrix(y_test, y_test_pred))"
      ]
    }
  ],
  "metadata": {
    "colab": {
      "collapsed_sections": [],
      "name": "brisa-25-02-eda.ipynb",
      "provenance": []
    },
    "kernelspec": {
      "display_name": "Python 3 (ipykernel)",
      "language": "python",
      "name": "python3"
    },
    "language_info": {
      "codemirror_mode": {
        "name": "ipython",
        "version": 3
      },
      "file_extension": ".py",
      "mimetype": "text/x-python",
      "name": "python",
      "nbconvert_exporter": "python",
      "pygments_lexer": "ipython3",
      "version": "3.10.2"
    }
  },
  "nbformat": 4,
  "nbformat_minor": 5
}
