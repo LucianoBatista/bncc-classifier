{
 "cells": [
  {
   "cell_type": "code",
   "execution_count": 12,
   "metadata": {},
   "outputs": [],
   "source": [
    "from src.first_model.preprocessing import PreProcessingFirstModel\n",
    "from src.first_model.train import Modeling\n",
    "\n",
    "from sklearn.linear_model import LogisticRegression\n",
    "from sklearn.tree import DecisionTreeClassifier\n",
    "from sklearn.ensemble import RandomForestClassifier\n",
    "from lightgbm import LGBMClassifier\n",
    "from sklearn.model_selection import StratifiedKFold\n",
    "from sklearn.metrics import f1_score\n",
    "import math\n",
    "\n",
    "from sklearn.feature_extraction.text import CountVectorizer"
   ]
  },
  {
   "cell_type": "code",
   "execution_count": 2,
   "metadata": {},
   "outputs": [],
   "source": [
    "PATH_RAW = \"/home/luba/Documents/DS/projects-courses-ongoing/bncc-classifier-[doing]/data/raw/bncc_first_classifier.csv\"  # noqa\n",
    "PATH_TO_SAVE = \"/home/luba/Documents/DS/projects-courses-ongoing/bncc-classifier-[doing]/data/curated/bncc_first_classifier_cleaned.csv\"  # noqa"
   ]
  },
  {
   "cell_type": "code",
   "execution_count": 3,
   "metadata": {},
   "outputs": [],
   "source": [
    "prepro_obj = PreProcessingFirstModel(PATH_RAW)\n",
    "frq_words, rare_words = prepro_obj.prepro()\n",
    "\n",
    "# export list of frq and rare words on our data\n",
    "# with open(\"frq_words.txt\", \"w\") as f:\n",
    "#     # print(frq_words)\n",
    "#     _ = [f.write(\"%s\\n\" % item) for item in frq_words]\n",
    "\n",
    "# with open(\"rare_words.txt\", \"w\") as f:\n",
    "#     # print(rare_words)\n",
    "#     _ = [f.write(\"%s\\n\" % item) for item in rare_words]\n",
    "\n",
    "# prepro_obj.export_cleaned_data(PATH_TO_SAVE)\n",
    "modeling = Modeling(prepro_obj.data)\n",
    "# # modeling.tokenization()\n",
    "modeling.split_data()\n",
    "# modeling.saving_pipeline()\n",
    "# X_train_trans, X_test_trans = modeling.make_bag_of_words()\n",
    "# modeling.train_evaluate_log_reg(\n",
    "#     X_train_trans=X_train_trans, X_test_trans=X_test_trans\n",
    "# )"
   ]
  },
  {
   "cell_type": "code",
   "execution_count": 10,
   "metadata": {},
   "outputs": [
    {
     "data": {
      "text/plain": [
       "71534    ['diagramas', 'pv', 'seguir', 'representam', '...\n",
       "20097    ['programa', 'computador', 'compactar', 'arqui...\n",
       "26713    ['querendo', 'pintar', 'nova', 'fachada', 'lem...\n",
       "43723    ['ef05ma06no', 'final', 'ano', 'passado', 'dir...\n",
       "18699                  ['encaminhar', 'foto', 'pag', '16']\n",
       "                               ...                        \n",
       "26940    ['alunos', 'observarem', 'diariamente', 'nasce...\n",
       "28024    ['observe', 'charge', 'apresentada', 'seguir',...\n",
       "95998    ['feisp', 'movimento', 'retilíneo', 'uniformem...\n",
       "65525    ['circuito', 'dessa', 'questão', 'três', 'capa...\n",
       "6785     ['cmdpii', 'read', 'text', 'picture', 'answer'...\n",
       "Name: questions_clean, Length: 57335, dtype: object"
      ]
     },
     "execution_count": 10,
     "metadata": {},
     "output_type": "execute_result"
    }
   ],
   "source": [
    "modeling.X_train[\"questions_clean\"]"
   ]
  },
  {
   "cell_type": "code",
   "execution_count": 14,
   "metadata": {},
   "outputs": [],
   "source": [
    "# baselines\n",
    "models = {\n",
    "    \"rg_lg\": LogisticRegression(max_iter=500, n_jobs=6),\n",
    "    \"d_tree\": DecisionTreeClassifier(max_depth=10),\n",
    "    \"r_forest\": RandomForestClassifier(max_depth=500, n_jobs=6),\n",
    "    \"lgbm\": LGBMClassifier(n_jobs=6),\n",
    "}"
   ]
  },
  {
   "cell_type": "code",
   "execution_count": 17,
   "metadata": {},
   "outputs": [
    {
     "name": "stdout",
     "output_type": "stream",
     "text": [
      "0.7278253142975671\n",
      "0.19407828326202928\n",
      "0.6550434106278179\n",
      "0.7145164707089338\n",
      "0.7336190154838125\n",
      "0.19210636960698546\n",
      "0.649369269371921\n",
      "0.7211956814872637\n",
      "0.7330740839432095\n",
      "0.19092967263959068\n",
      "0.6498061041604263\n",
      "0.7089284864570269\n",
      "0.714314744373907\n",
      "0.18948359277264393\n",
      "0.6538362995130778\n",
      "0.7173655668562345\n",
      "0.7352967775129926\n",
      "0.18483499341909196\n",
      "0.655190162784483\n",
      "0.7227555791757245\n"
     ]
    }
   ],
   "source": [
    "kfold = StratifiedKFold(n_splits=5, shuffle=True, random_state=2020)\n",
    "for train_idx, val_idx in kfold.split(\n",
    "    modeling.X_train[\"questions_clean\"], modeling.y_train\n",
    "):\n",
    "    for name, model in models.items():\n",
    "        x_train, y_train = (\n",
    "            modeling.X_train[\"questions_clean\"].iloc[train_idx],\n",
    "            modeling.y_train.iloc[train_idx],\n",
    "        )\n",
    "        x_val, y_val = (\n",
    "            modeling.X_train[\"questions_clean\"].iloc[val_idx],\n",
    "            modeling.y_train.iloc[val_idx],\n",
    "        )\n",
    "\n",
    "        count_vectorizer = CountVectorizer()\n",
    "        count_vectorizer.fit(x_train)\n",
    "        X_train_cv = count_vectorizer.transform(x_train)\n",
    "        X_val_cv = count_vectorizer.transform(x_val)\n",
    "\n",
    "        if name == \"lgbm\":\n",
    "            X_train_cv = X_train_cv.astype(\"float32\")\n",
    "            X_val_cv = X_val_cv.astype(\"float32\")\n",
    "            y_train = y_train.astype(\"float32\")\n",
    "            y_val = y_val.astype(\"float32\")\n",
    "\n",
    "        cv_classifier = model\n",
    "        cv_classifier.fit(X_train_cv, y_train)\n",
    "        y_pred = cv_classifier.predict(X_val_cv)\n",
    "        f1 = f1_score(y_val, y_pred, average=\"macro\")\n",
    "        # print('ROC AUC - {}: {}'.format(name, mean))\n",
    "        print(f1)"
   ]
  },
  {
   "cell_type": "code",
   "execution_count": null,
   "metadata": {},
   "outputs": [],
   "source": []
  },
  {
   "cell_type": "code",
   "execution_count": null,
   "metadata": {},
   "outputs": [],
   "source": []
  },
  {
   "cell_type": "code",
   "execution_count": null,
   "metadata": {},
   "outputs": [],
   "source": []
  },
  {
   "cell_type": "code",
   "execution_count": null,
   "metadata": {},
   "outputs": [],
   "source": []
  },
  {
   "cell_type": "code",
   "execution_count": null,
   "metadata": {},
   "outputs": [],
   "source": []
  },
  {
   "cell_type": "code",
   "execution_count": null,
   "metadata": {},
   "outputs": [],
   "source": []
  },
  {
   "cell_type": "code",
   "execution_count": null,
   "metadata": {},
   "outputs": [],
   "source": []
  }
 ],
 "metadata": {
  "interpreter": {
   "hash": "2d74e65e8a325ea3ca010efac6a43d883d251ccb17b474bf65fafd1ee9026a4b"
  },
  "kernelspec": {
   "display_name": "Python 3.9.0 ('bncc-classifier-_doing_-BYzFlin2')",
   "language": "python",
   "name": "python3"
  },
  "language_info": {
   "codemirror_mode": {
    "name": "ipython",
    "version": 3
   },
   "file_extension": ".py",
   "mimetype": "text/x-python",
   "name": "python",
   "nbconvert_exporter": "python",
   "pygments_lexer": "ipython3",
   "version": "3.9.0"
  },
  "orig_nbformat": 4
 },
 "nbformat": 4,
 "nbformat_minor": 2
}
