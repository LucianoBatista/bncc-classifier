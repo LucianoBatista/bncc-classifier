{
 "cells": [
  {
   "cell_type": "markdown",
   "metadata": {},
   "source": [
    "# Dataset pre processing"
   ]
  },
  {
   "cell_type": "markdown",
   "metadata": {},
   "source": [
    "This notbook focuses on the bncc dataset pre processing aiming the training of a classification model for \"etapa do conhecimento\" prediction"
   ]
  },
  {
   "cell_type": "code",
   "execution_count": 1,
   "metadata": {},
   "outputs": [
    {
     "name": "stderr",
     "output_type": "stream",
     "text": [
      "[nltk_data] Downloading package stopwords to\n",
      "[nltk_data]     C:\\Users\\Danilo\\AppData\\Roaming\\nltk_data...\n",
      "[nltk_data]   Package stopwords is already up-to-date!\n"
     ]
    }
   ],
   "source": [
    "import html\n",
    "\n",
    "import pandas as pd\n",
    "from nltk.tokenize import word_tokenize\n",
    "from sklearn import (\n",
    "    feature_extraction,\n",
    "    linear_model,\n",
    "    metrics,\n",
    "    model_selection,\n",
    "    preprocessing,\n",
    ")\n",
    "\n",
    "from src.data_preprocessing import cleaning"
   ]
  },
  {
   "cell_type": "code",
   "execution_count": 2,
   "metadata": {},
   "outputs": [],
   "source": [
    "pd.set_option(\"display.max_rows\", 1000)\n",
    "pd.set_option(\"display.max_columns\", 1000)\n",
    "pd.set_option(\"display.width\", 1000)"
   ]
  },
  {
   "cell_type": "markdown",
   "metadata": {},
   "source": [
    "## Selecting and filtering the features that will be used in the model"
   ]
  },
  {
   "cell_type": "code",
   "execution_count": 3,
   "metadata": {},
   "outputs": [],
   "source": [
    "# Importing Data\n",
    "df_bncc = pd.read_csv(\"C:/Users/Danilo/Desktop/Documentos Acadêmicos/TERA/TERAprojetos/Projeto final/BNCC/repo/bncc-classifier/data/raw/bncc_first_classifier.csv\")"
   ]
  },
  {
   "cell_type": "code",
   "execution_count": 4,
   "metadata": {},
   "outputs": [
    {
     "data": {
      "text/html": [
       "<div>\n",
       "<style scoped>\n",
       "    .dataframe tbody tr th:only-of-type {\n",
       "        vertical-align: middle;\n",
       "    }\n",
       "\n",
       "    .dataframe tbody tr th {\n",
       "        vertical-align: top;\n",
       "    }\n",
       "\n",
       "    .dataframe thead th {\n",
       "        text-align: right;\n",
       "    }\n",
       "</style>\n",
       "<table border=\"1\" class=\"dataframe\">\n",
       "  <thead>\n",
       "    <tr style=\"text-align: right;\">\n",
       "      <th></th>\n",
       "      <th>id</th>\n",
       "      <th>question</th>\n",
       "      <th>bulletType</th>\n",
       "      <th>name</th>\n",
       "      <th>slug</th>\n",
       "      <th>name.1</th>\n",
       "      <th>slug.1</th>\n",
       "      <th>name.2</th>\n",
       "    </tr>\n",
       "  </thead>\n",
       "  <tbody>\n",
       "    <tr>\n",
       "      <th>0</th>\n",
       "      <td>3486670</td>\n",
       "      <td>&lt;p&gt;Com base em seus conhecimentos sobre o comp...</td>\n",
       "      <td>2</td>\n",
       "      <td>História da Arte</td>\n",
       "      <td>historia-da-arte</td>\n",
       "      <td>Arte</td>\n",
       "      <td>arte</td>\n",
       "      <td>Fundamental II</td>\n",
       "    </tr>\n",
       "    <tr>\n",
       "      <th>1</th>\n",
       "      <td>3343927</td>\n",
       "      <td>&lt;p&gt;&amp;ldquo;Achar um n&amp;uacute;mero que, somado c...</td>\n",
       "      <td>2</td>\n",
       "      <td>Álgebra: Equações do 2º grau: Equação do 2º gr...</td>\n",
       "      <td>algebra-equacoes-do-2o-grau-equacao-do-2o-grau...</td>\n",
       "      <td>Matemática</td>\n",
       "      <td>matematica</td>\n",
       "      <td>Fundamental II</td>\n",
       "    </tr>\n",
       "    <tr>\n",
       "      <th>2</th>\n",
       "      <td>1927600</td>\n",
       "      <td>&lt;p&gt;2. Complete os espaços abaixo com os artigo...</td>\n",
       "      <td>4</td>\n",
       "      <td>Outros</td>\n",
       "      <td>outros</td>\n",
       "      <td>Espanhol</td>\n",
       "      <td>espanhol</td>\n",
       "      <td>Fundamental II</td>\n",
       "    </tr>\n",
       "    <tr>\n",
       "      <th>3</th>\n",
       "      <td>106855</td>\n",
       "      <td>&lt;p&gt;&lt;div&gt; A respeito dos serviços públicos e da...</td>\n",
       "      <td>2</td>\n",
       "      <td>Responsabilidade Civil do Estado</td>\n",
       "      <td>responsabilidade-civil-do-estado</td>\n",
       "      <td>Direito Administrativo</td>\n",
       "      <td>direito-administrativo</td>\n",
       "      <td>Concurso</td>\n",
       "    </tr>\n",
       "    <tr>\n",
       "      <th>4</th>\n",
       "      <td>3691951</td>\n",
       "      <td>&lt;p style=\"padding:0px;margin:10px 0px 0px;outl...</td>\n",
       "      <td>2</td>\n",
       "      <td>Outros</td>\n",
       "      <td>outros</td>\n",
       "      <td>Química</td>\n",
       "      <td>quimica</td>\n",
       "      <td>Fundamental II</td>\n",
       "    </tr>\n",
       "  </tbody>\n",
       "</table>\n",
       "</div>"
      ],
      "text/plain": [
       "        id                                           question  bulletType                                               name                                               slug                  name.1                  slug.1          name.2\n",
       "0  3486670  <p>Com base em seus conhecimentos sobre o comp...           2                                   História da Arte                                   historia-da-arte                    Arte                    arte  Fundamental II\n",
       "1  3343927  <p>&ldquo;Achar um n&uacute;mero que, somado c...           2  Álgebra: Equações do 2º grau: Equação do 2º gr...  algebra-equacoes-do-2o-grau-equacao-do-2o-grau...              Matemática              matematica  Fundamental II\n",
       "2  1927600  <p>2. Complete os espaços abaixo com os artigo...           4                                             Outros                                             outros                Espanhol                espanhol  Fundamental II\n",
       "3   106855  <p><div> A respeito dos serviços públicos e da...           2                   Responsabilidade Civil do Estado                   responsabilidade-civil-do-estado  Direito Administrativo  direito-administrativo        Concurso\n",
       "4  3691951  <p style=\"padding:0px;margin:10px 0px 0px;outl...           2                                             Outros                                             outros                 Química                 quimica  Fundamental II"
      ]
     },
     "execution_count": 4,
     "metadata": {},
     "output_type": "execute_result"
    }
   ],
   "source": [
    "# Making a copy of the dataset and visualizing it\n",
    "df_bncc_copy = df_bncc.copy()\n",
    "\n",
    "df_bncc_copy.head()"
   ]
  },
  {
   "cell_type": "code",
   "execution_count": 5,
   "metadata": {},
   "outputs": [
    {
     "data": {
      "text/html": [
       "<div>\n",
       "<style scoped>\n",
       "    .dataframe tbody tr th:only-of-type {\n",
       "        vertical-align: middle;\n",
       "    }\n",
       "\n",
       "    .dataframe tbody tr th {\n",
       "        vertical-align: top;\n",
       "    }\n",
       "\n",
       "    .dataframe thead th {\n",
       "        text-align: right;\n",
       "    }\n",
       "</style>\n",
       "<table border=\"1\" class=\"dataframe\">\n",
       "  <thead>\n",
       "    <tr style=\"text-align: right;\">\n",
       "      <th></th>\n",
       "      <th>id</th>\n",
       "      <th>question</th>\n",
       "      <th>name.2</th>\n",
       "    </tr>\n",
       "  </thead>\n",
       "  <tbody>\n",
       "    <tr>\n",
       "      <th>0</th>\n",
       "      <td>3486670</td>\n",
       "      <td>&lt;p&gt;Com base em seus conhecimentos sobre o comp...</td>\n",
       "      <td>Fundamental II</td>\n",
       "    </tr>\n",
       "    <tr>\n",
       "      <th>1</th>\n",
       "      <td>3343927</td>\n",
       "      <td>&lt;p&gt;&amp;ldquo;Achar um n&amp;uacute;mero que, somado c...</td>\n",
       "      <td>Fundamental II</td>\n",
       "    </tr>\n",
       "    <tr>\n",
       "      <th>2</th>\n",
       "      <td>1927600</td>\n",
       "      <td>&lt;p&gt;2. Complete os espaços abaixo com os artigo...</td>\n",
       "      <td>Fundamental II</td>\n",
       "    </tr>\n",
       "    <tr>\n",
       "      <th>3</th>\n",
       "      <td>106855</td>\n",
       "      <td>&lt;p&gt;&lt;div&gt; A respeito dos serviços públicos e da...</td>\n",
       "      <td>Concurso</td>\n",
       "    </tr>\n",
       "    <tr>\n",
       "      <th>4</th>\n",
       "      <td>3691951</td>\n",
       "      <td>&lt;p style=\"padding:0px;margin:10px 0px 0px;outl...</td>\n",
       "      <td>Fundamental II</td>\n",
       "    </tr>\n",
       "  </tbody>\n",
       "</table>\n",
       "</div>"
      ],
      "text/plain": [
       "        id                                           question          name.2\n",
       "0  3486670  <p>Com base em seus conhecimentos sobre o comp...  Fundamental II\n",
       "1  3343927  <p>&ldquo;Achar um n&uacute;mero que, somado c...  Fundamental II\n",
       "2  1927600  <p>2. Complete os espaços abaixo com os artigo...  Fundamental II\n",
       "3   106855  <p><div> A respeito dos serviços públicos e da...        Concurso\n",
       "4  3691951  <p style=\"padding:0px;margin:10px 0px 0px;outl...  Fundamental II"
      ]
     },
     "execution_count": 5,
     "metadata": {},
     "output_type": "execute_result"
    }
   ],
   "source": [
    "# Dropping unuseful columns\n",
    "df_bncc_copy = df_bncc_copy[[\"id\", \"question\", \"name.2\"]]\n",
    "\n",
    "df_bncc_copy.head()"
   ]
  },
  {
   "cell_type": "code",
   "execution_count": 6,
   "metadata": {},
   "outputs": [
    {
     "data": {
      "text/html": [
       "<div>\n",
       "<style scoped>\n",
       "    .dataframe tbody tr th:only-of-type {\n",
       "        vertical-align: middle;\n",
       "    }\n",
       "\n",
       "    .dataframe tbody tr th {\n",
       "        vertical-align: top;\n",
       "    }\n",
       "\n",
       "    .dataframe thead th {\n",
       "        text-align: right;\n",
       "    }\n",
       "</style>\n",
       "<table border=\"1\" class=\"dataframe\">\n",
       "  <thead>\n",
       "    <tr style=\"text-align: right;\">\n",
       "      <th></th>\n",
       "      <th>id</th>\n",
       "      <th>questions</th>\n",
       "      <th>target</th>\n",
       "    </tr>\n",
       "  </thead>\n",
       "  <tbody>\n",
       "    <tr>\n",
       "      <th>0</th>\n",
       "      <td>3486670</td>\n",
       "      <td>&lt;p&gt;Com base em seus conhecimentos sobre o comp...</td>\n",
       "      <td>Fundamental II</td>\n",
       "    </tr>\n",
       "    <tr>\n",
       "      <th>1</th>\n",
       "      <td>3343927</td>\n",
       "      <td>&lt;p&gt;&amp;ldquo;Achar um n&amp;uacute;mero que, somado c...</td>\n",
       "      <td>Fundamental II</td>\n",
       "    </tr>\n",
       "    <tr>\n",
       "      <th>2</th>\n",
       "      <td>1927600</td>\n",
       "      <td>&lt;p&gt;2. Complete os espaços abaixo com os artigo...</td>\n",
       "      <td>Fundamental II</td>\n",
       "    </tr>\n",
       "  </tbody>\n",
       "</table>\n",
       "</div>"
      ],
      "text/plain": [
       "        id                                          questions          target\n",
       "0  3486670  <p>Com base em seus conhecimentos sobre o comp...  Fundamental II\n",
       "1  3343927  <p>&ldquo;Achar um n&uacute;mero que, somado c...  Fundamental II\n",
       "2  1927600  <p>2. Complete os espaços abaixo com os artigo...  Fundamental II"
      ]
     },
     "execution_count": 6,
     "metadata": {},
     "output_type": "execute_result"
    }
   ],
   "source": [
    "# Renaming dataset columns\n",
    "df_bncc_copy.columns = [\"id\", \"questions\", \"target\"]\n",
    "\n",
    "df_bncc_copy.head(3)"
   ]
  },
  {
   "cell_type": "code",
   "execution_count": 7,
   "metadata": {},
   "outputs": [
    {
     "data": {
      "text/html": [
       "<div>\n",
       "<style scoped>\n",
       "    .dataframe tbody tr th:only-of-type {\n",
       "        vertical-align: middle;\n",
       "    }\n",
       "\n",
       "    .dataframe tbody tr th {\n",
       "        vertical-align: top;\n",
       "    }\n",
       "\n",
       "    .dataframe thead th {\n",
       "        text-align: right;\n",
       "    }\n",
       "</style>\n",
       "<table border=\"1\" class=\"dataframe\">\n",
       "  <thead>\n",
       "    <tr style=\"text-align: right;\">\n",
       "      <th></th>\n",
       "      <th>target</th>\n",
       "    </tr>\n",
       "  </thead>\n",
       "  <tbody>\n",
       "    <tr>\n",
       "      <th>Médio &amp; Pré-Vestibular</th>\n",
       "      <td>35676</td>\n",
       "    </tr>\n",
       "    <tr>\n",
       "      <th>Fundamental II</th>\n",
       "      <td>33790</td>\n",
       "    </tr>\n",
       "    <tr>\n",
       "      <th>Fundamental I</th>\n",
       "      <td>18379</td>\n",
       "    </tr>\n",
       "    <tr>\n",
       "      <th>Concurso</th>\n",
       "      <td>9875</td>\n",
       "    </tr>\n",
       "    <tr>\n",
       "      <th>Militar</th>\n",
       "      <td>2200</td>\n",
       "    </tr>\n",
       "    <tr>\n",
       "      <th>OAB</th>\n",
       "      <td>80</td>\n",
       "    </tr>\n",
       "  </tbody>\n",
       "</table>\n",
       "</div>"
      ],
      "text/plain": [
       "                        target\n",
       "Médio & Pré-Vestibular   35676\n",
       "Fundamental II           33790\n",
       "Fundamental I            18379\n",
       "Concurso                  9875\n",
       "Militar                   2200\n",
       "OAB                         80"
      ]
     },
     "execution_count": 7,
     "metadata": {},
     "output_type": "execute_result"
    }
   ],
   "source": [
    "# Observing the classes of the target to drop, aiming to comprehend only the topics of bncc\n",
    "df_bncc_copy[\"target\"].value_counts().to_frame()"
   ]
  },
  {
   "cell_type": "code",
   "execution_count": 8,
   "metadata": {},
   "outputs": [
    {
     "data": {
      "text/plain": [
       "(100000, 3)"
      ]
     },
     "execution_count": 8,
     "metadata": {},
     "output_type": "execute_result"
    }
   ],
   "source": [
    "df_bncc_copy.shape"
   ]
  },
  {
   "cell_type": "code",
   "execution_count": 9,
   "metadata": {},
   "outputs": [],
   "source": [
    "df_bncc_copy_targets_bncc = df_bncc_copy[df_bncc_copy[\"target\"].isin([\"Médio & Pré-Vestibular\", \"Fundamental II\", \"Fundamental I\"])]"
   ]
  },
  {
   "cell_type": "code",
   "execution_count": 10,
   "metadata": {},
   "outputs": [
    {
     "data": {
      "text/html": [
       "<div>\n",
       "<style scoped>\n",
       "    .dataframe tbody tr th:only-of-type {\n",
       "        vertical-align: middle;\n",
       "    }\n",
       "\n",
       "    .dataframe tbody tr th {\n",
       "        vertical-align: top;\n",
       "    }\n",
       "\n",
       "    .dataframe thead th {\n",
       "        text-align: right;\n",
       "    }\n",
       "</style>\n",
       "<table border=\"1\" class=\"dataframe\">\n",
       "  <thead>\n",
       "    <tr style=\"text-align: right;\">\n",
       "      <th></th>\n",
       "      <th>id</th>\n",
       "      <th>questions</th>\n",
       "      <th>target</th>\n",
       "    </tr>\n",
       "  </thead>\n",
       "  <tbody>\n",
       "    <tr>\n",
       "      <th>0</th>\n",
       "      <td>3486670</td>\n",
       "      <td>&lt;p&gt;Com base em seus conhecimentos sobre o comp...</td>\n",
       "      <td>Fundamental II</td>\n",
       "    </tr>\n",
       "    <tr>\n",
       "      <th>1</th>\n",
       "      <td>3343927</td>\n",
       "      <td>&lt;p&gt;&amp;ldquo;Achar um n&amp;uacute;mero que, somado c...</td>\n",
       "      <td>Fundamental II</td>\n",
       "    </tr>\n",
       "    <tr>\n",
       "      <th>2</th>\n",
       "      <td>1927600</td>\n",
       "      <td>&lt;p&gt;2. Complete os espaços abaixo com os artigo...</td>\n",
       "      <td>Fundamental II</td>\n",
       "    </tr>\n",
       "    <tr>\n",
       "      <th>4</th>\n",
       "      <td>3691951</td>\n",
       "      <td>&lt;p style=\"padding:0px;margin:10px 0px 0px;outl...</td>\n",
       "      <td>Fundamental II</td>\n",
       "    </tr>\n",
       "    <tr>\n",
       "      <th>5</th>\n",
       "      <td>2016466</td>\n",
       "      <td>&lt;p&gt;&lt;strong&gt;Anexe nesse espa&amp;ccedil;o uma foto ...</td>\n",
       "      <td>Fundamental I</td>\n",
       "    </tr>\n",
       "    <tr>\n",
       "      <th>...</th>\n",
       "      <td>...</td>\n",
       "      <td>...</td>\n",
       "      <td>...</td>\n",
       "    </tr>\n",
       "    <tr>\n",
       "      <th>99994</th>\n",
       "      <td>2447693</td>\n",
       "      <td>&lt;p&gt;Leia a reportagem e responda a quest&amp;atilde...</td>\n",
       "      <td>Fundamental I</td>\n",
       "    </tr>\n",
       "    <tr>\n",
       "      <th>99995</th>\n",
       "      <td>4330761</td>\n",
       "      <td>&lt;p&gt;Para responder à questão, leia o trecho do ...</td>\n",
       "      <td>Médio &amp; Pré-Vestibular</td>\n",
       "    </tr>\n",
       "    <tr>\n",
       "      <th>99996</th>\n",
       "      <td>3249373</td>\n",
       "      <td>&lt;h1 style=\"list-style:none;margin:0px 0px 20px...</td>\n",
       "      <td>Fundamental II</td>\n",
       "    </tr>\n",
       "    <tr>\n",
       "      <th>99998</th>\n",
       "      <td>4150214</td>\n",
       "      <td>&lt;p&gt;Os machos e fêmeas de mosquitos do gênero &lt;...</td>\n",
       "      <td>Fundamental II</td>\n",
       "    </tr>\n",
       "    <tr>\n",
       "      <th>99999</th>\n",
       "      <td>1487049</td>\n",
       "      <td>&lt;p&gt;Observe a tabela e veja quantos lanches for...</td>\n",
       "      <td>Fundamental I</td>\n",
       "    </tr>\n",
       "  </tbody>\n",
       "</table>\n",
       "<p>87845 rows × 3 columns</p>\n",
       "</div>"
      ],
      "text/plain": [
       "            id                                          questions                  target\n",
       "0      3486670  <p>Com base em seus conhecimentos sobre o comp...          Fundamental II\n",
       "1      3343927  <p>&ldquo;Achar um n&uacute;mero que, somado c...          Fundamental II\n",
       "2      1927600  <p>2. Complete os espaços abaixo com os artigo...          Fundamental II\n",
       "4      3691951  <p style=\"padding:0px;margin:10px 0px 0px;outl...          Fundamental II\n",
       "5      2016466  <p><strong>Anexe nesse espa&ccedil;o uma foto ...           Fundamental I\n",
       "...        ...                                                ...                     ...\n",
       "99994  2447693  <p>Leia a reportagem e responda a quest&atilde...           Fundamental I\n",
       "99995  4330761  <p>Para responder à questão, leia o trecho do ...  Médio & Pré-Vestibular\n",
       "99996  3249373  <h1 style=\"list-style:none;margin:0px 0px 20px...          Fundamental II\n",
       "99998  4150214  <p>Os machos e fêmeas de mosquitos do gênero <...          Fundamental II\n",
       "99999  1487049  <p>Observe a tabela e veja quantos lanches for...           Fundamental I\n",
       "\n",
       "[87845 rows x 3 columns]"
      ]
     },
     "execution_count": 10,
     "metadata": {},
     "output_type": "execute_result"
    }
   ],
   "source": [
    "# Observing if the filtering was correctly applied\n",
    "df_bncc_copy_targets_bncc"
   ]
  },
  {
   "cell_type": "code",
   "execution_count": 11,
   "metadata": {},
   "outputs": [
    {
     "data": {
      "text/html": [
       "<div>\n",
       "<style scoped>\n",
       "    .dataframe tbody tr th:only-of-type {\n",
       "        vertical-align: middle;\n",
       "    }\n",
       "\n",
       "    .dataframe tbody tr th {\n",
       "        vertical-align: top;\n",
       "    }\n",
       "\n",
       "    .dataframe thead th {\n",
       "        text-align: right;\n",
       "    }\n",
       "</style>\n",
       "<table border=\"1\" class=\"dataframe\">\n",
       "  <thead>\n",
       "    <tr style=\"text-align: right;\">\n",
       "      <th></th>\n",
       "      <th>target</th>\n",
       "    </tr>\n",
       "  </thead>\n",
       "  <tbody>\n",
       "    <tr>\n",
       "      <th>Médio &amp; Pré-Vestibular</th>\n",
       "      <td>35676</td>\n",
       "    </tr>\n",
       "    <tr>\n",
       "      <th>Fundamental II</th>\n",
       "      <td>33790</td>\n",
       "    </tr>\n",
       "    <tr>\n",
       "      <th>Fundamental I</th>\n",
       "      <td>18379</td>\n",
       "    </tr>\n",
       "  </tbody>\n",
       "</table>\n",
       "</div>"
      ],
      "text/plain": [
       "                        target\n",
       "Médio & Pré-Vestibular   35676\n",
       "Fundamental II           33790\n",
       "Fundamental I            18379"
      ]
     },
     "execution_count": 11,
     "metadata": {},
     "output_type": "execute_result"
    }
   ],
   "source": [
    "# Observing if the filtering was correctly applied by visualizing the clases\n",
    "df_bncc_copy_targets_bncc[\"target\"].value_counts().to_frame()"
   ]
  },
  {
   "cell_type": "code",
   "execution_count": 12,
   "metadata": {},
   "outputs": [
    {
     "data": {
      "text/plain": [
       "(87845, 3)"
      ]
     },
     "execution_count": 12,
     "metadata": {},
     "output_type": "execute_result"
    }
   ],
   "source": [
    "# How many observations do we have now?\n",
    "df_bncc_copy_targets_bncc.shape"
   ]
  },
  {
   "cell_type": "code",
   "execution_count": 13,
   "metadata": {},
   "outputs": [
    {
     "name": "stderr",
     "output_type": "stream",
     "text": [
      "<ipython-input-13-e100d794caa5>:11: SettingWithCopyWarning: \n",
      "A value is trying to be set on a copy of a slice from a DataFrame.\n",
      "Try using .loc[row_indexer,col_indexer] = value instead\n",
      "\n",
      "See the caveats in the documentation: https://pandas.pydata.org/pandas-docs/stable/user_guide/indexing.html#returning-a-view-versus-a-copy\n",
      "  df_bncc_copy_targets_bncc[\"target_enc\"] = lb_enc.transform(\n"
     ]
    },
    {
     "data": {
      "text/html": [
       "<div>\n",
       "<style scoped>\n",
       "    .dataframe tbody tr th:only-of-type {\n",
       "        vertical-align: middle;\n",
       "    }\n",
       "\n",
       "    .dataframe tbody tr th {\n",
       "        vertical-align: top;\n",
       "    }\n",
       "\n",
       "    .dataframe thead th {\n",
       "        text-align: right;\n",
       "    }\n",
       "</style>\n",
       "<table border=\"1\" class=\"dataframe\">\n",
       "  <thead>\n",
       "    <tr style=\"text-align: right;\">\n",
       "      <th></th>\n",
       "      <th>id</th>\n",
       "      <th>questions</th>\n",
       "      <th>target</th>\n",
       "      <th>target_enc</th>\n",
       "    </tr>\n",
       "  </thead>\n",
       "  <tbody>\n",
       "    <tr>\n",
       "      <th>0</th>\n",
       "      <td>3486670</td>\n",
       "      <td>&lt;p&gt;Com base em seus conhecimentos sobre o comp...</td>\n",
       "      <td>Fundamental II</td>\n",
       "      <td>1</td>\n",
       "    </tr>\n",
       "    <tr>\n",
       "      <th>1</th>\n",
       "      <td>3343927</td>\n",
       "      <td>&lt;p&gt;&amp;ldquo;Achar um n&amp;uacute;mero que, somado c...</td>\n",
       "      <td>Fundamental II</td>\n",
       "      <td>1</td>\n",
       "    </tr>\n",
       "    <tr>\n",
       "      <th>2</th>\n",
       "      <td>1927600</td>\n",
       "      <td>&lt;p&gt;2. Complete os espaços abaixo com os artigo...</td>\n",
       "      <td>Fundamental II</td>\n",
       "      <td>1</td>\n",
       "    </tr>\n",
       "    <tr>\n",
       "      <th>4</th>\n",
       "      <td>3691951</td>\n",
       "      <td>&lt;p style=\"padding:0px;margin:10px 0px 0px;outl...</td>\n",
       "      <td>Fundamental II</td>\n",
       "      <td>1</td>\n",
       "    </tr>\n",
       "    <tr>\n",
       "      <th>5</th>\n",
       "      <td>2016466</td>\n",
       "      <td>&lt;p&gt;&lt;strong&gt;Anexe nesse espa&amp;ccedil;o uma foto ...</td>\n",
       "      <td>Fundamental I</td>\n",
       "      <td>0</td>\n",
       "    </tr>\n",
       "    <tr>\n",
       "      <th>...</th>\n",
       "      <td>...</td>\n",
       "      <td>...</td>\n",
       "      <td>...</td>\n",
       "      <td>...</td>\n",
       "    </tr>\n",
       "    <tr>\n",
       "      <th>99994</th>\n",
       "      <td>2447693</td>\n",
       "      <td>&lt;p&gt;Leia a reportagem e responda a quest&amp;atilde...</td>\n",
       "      <td>Fundamental I</td>\n",
       "      <td>0</td>\n",
       "    </tr>\n",
       "    <tr>\n",
       "      <th>99995</th>\n",
       "      <td>4330761</td>\n",
       "      <td>&lt;p&gt;Para responder à questão, leia o trecho do ...</td>\n",
       "      <td>Médio &amp; Pré-Vestibular</td>\n",
       "      <td>2</td>\n",
       "    </tr>\n",
       "    <tr>\n",
       "      <th>99996</th>\n",
       "      <td>3249373</td>\n",
       "      <td>&lt;h1 style=\"list-style:none;margin:0px 0px 20px...</td>\n",
       "      <td>Fundamental II</td>\n",
       "      <td>1</td>\n",
       "    </tr>\n",
       "    <tr>\n",
       "      <th>99998</th>\n",
       "      <td>4150214</td>\n",
       "      <td>&lt;p&gt;Os machos e fêmeas de mosquitos do gênero &lt;...</td>\n",
       "      <td>Fundamental II</td>\n",
       "      <td>1</td>\n",
       "    </tr>\n",
       "    <tr>\n",
       "      <th>99999</th>\n",
       "      <td>1487049</td>\n",
       "      <td>&lt;p&gt;Observe a tabela e veja quantos lanches for...</td>\n",
       "      <td>Fundamental I</td>\n",
       "      <td>0</td>\n",
       "    </tr>\n",
       "  </tbody>\n",
       "</table>\n",
       "<p>87845 rows × 4 columns</p>\n",
       "</div>"
      ],
      "text/plain": [
       "            id                                          questions                  target  target_enc\n",
       "0      3486670  <p>Com base em seus conhecimentos sobre o comp...          Fundamental II           1\n",
       "1      3343927  <p>&ldquo;Achar um n&uacute;mero que, somado c...          Fundamental II           1\n",
       "2      1927600  <p>2. Complete os espaços abaixo com os artigo...          Fundamental II           1\n",
       "4      3691951  <p style=\"padding:0px;margin:10px 0px 0px;outl...          Fundamental II           1\n",
       "5      2016466  <p><strong>Anexe nesse espa&ccedil;o uma foto ...           Fundamental I           0\n",
       "...        ...                                                ...                     ...         ...\n",
       "99994  2447693  <p>Leia a reportagem e responda a quest&atilde...           Fundamental I           0\n",
       "99995  4330761  <p>Para responder à questão, leia o trecho do ...  Médio & Pré-Vestibular           2\n",
       "99996  3249373  <h1 style=\"list-style:none;margin:0px 0px 20px...          Fundamental II           1\n",
       "99998  4150214  <p>Os machos e fêmeas de mosquitos do gênero <...          Fundamental II           1\n",
       "99999  1487049  <p>Observe a tabela e veja quantos lanches for...           Fundamental I           0\n",
       "\n",
       "[87845 rows x 4 columns]"
      ]
     },
     "execution_count": 13,
     "metadata": {},
     "output_type": "execute_result"
    }
   ],
   "source": [
    "# Encoding the target with labels for the classifier\n",
    "# this procedure can be done with LabelEncoder from scikit-learn\n",
    "# will give us more control over the pipeline\n",
    "\n",
    "lb_enc = preprocessing.LabelEncoder()\n",
    "\n",
    "# train on the column we want encode\n",
    "lb_enc.fit(df_bncc_copy_targets_bncc[\"target\"])\n",
    "\n",
    "# transform the same column, but here we'll have this transformation for test and after for train\n",
    "df_bncc_copy_targets_bncc[\"target_enc\"] = lb_enc.transform(\n",
    "    df_bncc_copy_targets_bncc[\"target\"]\n",
    ")\n",
    "df_bncc_copy_targets_bncc"
   ]
  },
  {
   "cell_type": "code",
   "execution_count": 14,
   "metadata": {
    "collapsed": false,
    "pycharm": {
     "name": "#%%\n"
    }
   },
   "outputs": [
    {
     "data": {
      "text/plain": [
       "array(['Fundamental I', 'Fundamental II', 'Médio & Pré-Vestibular'],\n",
       "      dtype=object)"
      ]
     },
     "execution_count": 14,
     "metadata": {},
     "output_type": "execute_result"
    }
   ],
   "source": [
    "# you can access how the labels was transformed by looking at the classes\n",
    "lb_enc.classes_"
   ]
  },
  {
   "cell_type": "markdown",
   "metadata": {},
   "source": [
    "## Cleaning the dataset"
   ]
  },
  {
   "cell_type": "code",
   "execution_count": 15,
   "metadata": {
    "collapsed": false,
    "pycharm": {
     "name": "#%%\n"
    }
   },
   "outputs": [
    {
     "name": "stderr",
     "output_type": "stream",
     "text": [
      "<ipython-input-15-8d5b5687da49>:2: SettingWithCopyWarning: \n",
      "A value is trying to be set on a copy of a slice from a DataFrame.\n",
      "Try using .loc[row_indexer,col_indexer] = value instead\n",
      "\n",
      "See the caveats in the documentation: https://pandas.pydata.org/pandas-docs/stable/user_guide/indexing.html#returning-a-view-versus-a-copy\n",
      "  df_bncc_copy_targets_bncc[\"questions_clean\"] = (\n"
     ]
    }
   ],
   "source": [
    "# chaining all cleaning steps\n",
    "df_bncc_copy_targets_bncc[\"questions_clean\"] = (\n",
    "    df_bncc_copy_targets_bncc[\"questions\"]\n",
    "    .astype(str)\n",
    "    .apply(html.unescape)\n",
    "    .apply(lambda x: cleaning.remove_html(x))\n",
    "    .apply(lambda x: x.lower())\n",
    "    .apply(lambda x: cleaning.remove_punctuation_2(x))\n",
    "    .apply(cleaning.remove_italic_quotes)\n",
    "    .apply(cleaning.remove_open_quotes)\n",
    "    .apply(cleaning.remove_end_quotes)\n",
    "    .apply(cleaning.remove_italic_dquotes)\n",
    "    .apply(cleaning.remove_open_dquotes)\n",
    "    .apply(cleaning.remove_quote)\n",
    "    .apply(lambda x: cleaning.remove_pt_stopwords(x))\n",
    "    .apply(lambda x: cleaning.remove_en_stopwords(x))\n",
    ")"
   ]
  },
  {
   "cell_type": "code",
   "execution_count": 16,
   "metadata": {
    "collapsed": false,
    "pycharm": {
     "name": "#%%\n"
    }
   },
   "outputs": [
    {
     "data": {
      "text/html": [
       "<div>\n",
       "<style scoped>\n",
       "    .dataframe tbody tr th:only-of-type {\n",
       "        vertical-align: middle;\n",
       "    }\n",
       "\n",
       "    .dataframe tbody tr th {\n",
       "        vertical-align: top;\n",
       "    }\n",
       "\n",
       "    .dataframe thead th {\n",
       "        text-align: right;\n",
       "    }\n",
       "</style>\n",
       "<table border=\"1\" class=\"dataframe\">\n",
       "  <thead>\n",
       "    <tr style=\"text-align: right;\">\n",
       "      <th></th>\n",
       "      <th>id</th>\n",
       "      <th>questions</th>\n",
       "      <th>target</th>\n",
       "      <th>target_enc</th>\n",
       "      <th>questions_clean</th>\n",
       "    </tr>\n",
       "  </thead>\n",
       "  <tbody>\n",
       "    <tr>\n",
       "      <th>0</th>\n",
       "      <td>3486670</td>\n",
       "      <td>&lt;p&gt;Com base em seus conhecimentos sobre o comp...</td>\n",
       "      <td>Fundamental II</td>\n",
       "      <td>1</td>\n",
       "      <td>base conhecimentos sobre compositor john cage ...</td>\n",
       "    </tr>\n",
       "    <tr>\n",
       "      <th>1</th>\n",
       "      <td>3343927</td>\n",
       "      <td>&lt;p&gt;&amp;ldquo;Achar um n&amp;uacute;mero que, somado c...</td>\n",
       "      <td>Fundamental II</td>\n",
       "      <td>1</td>\n",
       "      <td>achar número somado 2 igual inverso” equações ...</td>\n",
       "    </tr>\n",
       "    <tr>\n",
       "      <th>2</th>\n",
       "      <td>1927600</td>\n",
       "      <td>&lt;p&gt;2. Complete os espaços abaixo com os artigo...</td>\n",
       "      <td>Fundamental II</td>\n",
       "      <td>1</td>\n",
       "      <td>2 complete espaços abaixo artigos determinados...</td>\n",
       "    </tr>\n",
       "    <tr>\n",
       "      <th>4</th>\n",
       "      <td>3691951</td>\n",
       "      <td>&lt;p style=\"padding:0px;margin:10px 0px 0px;outl...</td>\n",
       "      <td>Fundamental II</td>\n",
       "      <td>1</td>\n",
       "      <td>chuva ácida fenômeno provocado poluição atmosf...</td>\n",
       "    </tr>\n",
       "    <tr>\n",
       "      <th>5</th>\n",
       "      <td>2016466</td>\n",
       "      <td>&lt;p&gt;&lt;strong&gt;Anexe nesse espa&amp;ccedil;o uma foto ...</td>\n",
       "      <td>Fundamental I</td>\n",
       "      <td>0</td>\n",
       "      <td>anexe nesse espaço foto ilustração</td>\n",
       "    </tr>\n",
       "    <tr>\n",
       "      <th>6</th>\n",
       "      <td>1744035</td>\n",
       "      <td>&lt;p&gt;Pagina nr. 54 do Livro did&amp;aacute;tico.&lt;/p&gt;</td>\n",
       "      <td>Fundamental II</td>\n",
       "      <td>1</td>\n",
       "      <td>pagina nr 54 livro didático</td>\n",
       "    </tr>\n",
       "    <tr>\n",
       "      <th>7</th>\n",
       "      <td>2525602</td>\n",
       "      <td>&lt;p&gt;O que &amp;eacute; CHIAROSCURO?&lt;/p&gt;</td>\n",
       "      <td>Médio &amp; Pré-Vestibular</td>\n",
       "      <td>2</td>\n",
       "      <td>chiaroscuro</td>\n",
       "    </tr>\n",
       "    <tr>\n",
       "      <th>8</th>\n",
       "      <td>2610914</td>\n",
       "      <td>&lt;p&gt;Analise a igualdade a seguir&lt;/p&gt;&lt;p&gt;&lt;br&gt;&lt;/p&gt;...</td>\n",
       "      <td>Fundamental II</td>\n",
       "      <td>1</td>\n",
       "      <td>analise igualdade seguiresta igualdade</td>\n",
       "    </tr>\n",
       "    <tr>\n",
       "      <th>10</th>\n",
       "      <td>2693547</td>\n",
       "      <td>&lt;p&gt; &amp;Eacute; MUITO IMPORTANTE OBSERVAR TUDO CO...</td>\n",
       "      <td>Fundamental I</td>\n",
       "      <td>0</td>\n",
       "      <td>importante observar tudo muita atenção vezes o...</td>\n",
       "    </tr>\n",
       "    <tr>\n",
       "      <th>12</th>\n",
       "      <td>1961666</td>\n",
       "      <td>&lt;p style=\"text-align:justify\"&gt;Jo&amp;atilde;o prec...</td>\n",
       "      <td>Médio &amp; Pré-Vestibular</td>\n",
       "      <td>2</td>\n",
       "      <td>joão precisa realizar movimentações financeira...</td>\n",
       "    </tr>\n",
       "  </tbody>\n",
       "</table>\n",
       "</div>"
      ],
      "text/plain": [
       "         id                                          questions                  target  target_enc                                    questions_clean\n",
       "0   3486670  <p>Com base em seus conhecimentos sobre o comp...          Fundamental II           1  base conhecimentos sobre compositor john cage ...\n",
       "1   3343927  <p>&ldquo;Achar um n&uacute;mero que, somado c...          Fundamental II           1  achar número somado 2 igual inverso” equações ...\n",
       "2   1927600  <p>2. Complete os espaços abaixo com os artigo...          Fundamental II           1  2 complete espaços abaixo artigos determinados...\n",
       "4   3691951  <p style=\"padding:0px;margin:10px 0px 0px;outl...          Fundamental II           1  chuva ácida fenômeno provocado poluição atmosf...\n",
       "5   2016466  <p><strong>Anexe nesse espa&ccedil;o uma foto ...           Fundamental I           0                 anexe nesse espaço foto ilustração\n",
       "6   1744035     <p>Pagina nr. 54 do Livro did&aacute;tico.</p>          Fundamental II           1                        pagina nr 54 livro didático\n",
       "7   2525602                 <p>O que &eacute; CHIAROSCURO?</p>  Médio & Pré-Vestibular           2                                        chiaroscuro\n",
       "8   2610914  <p>Analise a igualdade a seguir</p><p><br></p>...          Fundamental II           1             analise igualdade seguiresta igualdade\n",
       "10  2693547  <p> &Eacute; MUITO IMPORTANTE OBSERVAR TUDO CO...           Fundamental I           0  importante observar tudo muita atenção vezes o...\n",
       "12  1961666  <p style=\"text-align:justify\">Jo&atilde;o prec...  Médio & Pré-Vestibular           2  joão precisa realizar movimentações financeira..."
      ]
     },
     "execution_count": 16,
     "metadata": {},
     "output_type": "execute_result"
    }
   ],
   "source": [
    "df_bncc_copy_targets_bncc.head(10)"
   ]
  },
  {
   "cell_type": "code",
   "execution_count": 17,
   "metadata": {},
   "outputs": [],
   "source": [
    "# class to remove frq and rare, we can choose how many rare or frq words to remove\n",
    "remove_frq_rare = cleaning.RemoveFrqRare(df=df_bncc_copy_targets_bncc)\n",
    "remove_frq_rare.calc_frq_words()\n",
    "remove_frq_rare.calc_rare_words()\n",
    "bncc_cleaned_df = remove_frq_rare.remove_frq_and_rare()"
   ]
  },
  {
   "cell_type": "code",
   "execution_count": 18,
   "metadata": {},
   "outputs": [
    {
     "data": {
      "text/html": [
       "<div>\n",
       "<style scoped>\n",
       "    .dataframe tbody tr th:only-of-type {\n",
       "        vertical-align: middle;\n",
       "    }\n",
       "\n",
       "    .dataframe tbody tr th {\n",
       "        vertical-align: top;\n",
       "    }\n",
       "\n",
       "    .dataframe thead th {\n",
       "        text-align: right;\n",
       "    }\n",
       "</style>\n",
       "<table border=\"1\" class=\"dataframe\">\n",
       "  <thead>\n",
       "    <tr style=\"text-align: right;\">\n",
       "      <th></th>\n",
       "      <th>id</th>\n",
       "      <th>questions</th>\n",
       "      <th>target</th>\n",
       "      <th>target_enc</th>\n",
       "      <th>questions_clean</th>\n",
       "    </tr>\n",
       "  </thead>\n",
       "  <tbody>\n",
       "    <tr>\n",
       "      <th>0</th>\n",
       "      <td>3486670</td>\n",
       "      <td>&lt;p&gt;Com base em seus conhecimentos sobre o comp...</td>\n",
       "      <td>Fundamental II</td>\n",
       "      <td>1</td>\n",
       "      <td>base conhecimentos sobre compositor john cage ...</td>\n",
       "    </tr>\n",
       "    <tr>\n",
       "      <th>1</th>\n",
       "      <td>3343927</td>\n",
       "      <td>&lt;p&gt;&amp;ldquo;Achar um n&amp;uacute;mero que, somado c...</td>\n",
       "      <td>Fundamental II</td>\n",
       "      <td>1</td>\n",
       "      <td>achar número somado 2 igual inverso” equações ...</td>\n",
       "    </tr>\n",
       "    <tr>\n",
       "      <th>2</th>\n",
       "      <td>1927600</td>\n",
       "      <td>&lt;p&gt;2. Complete os espaços abaixo com os artigo...</td>\n",
       "      <td>Fundamental II</td>\n",
       "      <td>1</td>\n",
       "      <td>2 complete espaços abaixo artigos determinados...</td>\n",
       "    </tr>\n",
       "    <tr>\n",
       "      <th>4</th>\n",
       "      <td>3691951</td>\n",
       "      <td>&lt;p style=\"padding:0px;margin:10px 0px 0px;outl...</td>\n",
       "      <td>Fundamental II</td>\n",
       "      <td>1</td>\n",
       "      <td>chuva ácida fenômeno provocado poluição atmosf...</td>\n",
       "    </tr>\n",
       "    <tr>\n",
       "      <th>5</th>\n",
       "      <td>2016466</td>\n",
       "      <td>&lt;p&gt;&lt;strong&gt;Anexe nesse espa&amp;ccedil;o uma foto ...</td>\n",
       "      <td>Fundamental I</td>\n",
       "      <td>0</td>\n",
       "      <td>anexe nesse espaço foto ilustração</td>\n",
       "    </tr>\n",
       "  </tbody>\n",
       "</table>\n",
       "</div>"
      ],
      "text/plain": [
       "        id                                          questions          target  target_enc                                    questions_clean\n",
       "0  3486670  <p>Com base em seus conhecimentos sobre o comp...  Fundamental II           1  base conhecimentos sobre compositor john cage ...\n",
       "1  3343927  <p>&ldquo;Achar um n&uacute;mero que, somado c...  Fundamental II           1  achar número somado 2 igual inverso” equações ...\n",
       "2  1927600  <p>2. Complete os espaços abaixo com os artigo...  Fundamental II           1  2 complete espaços abaixo artigos determinados...\n",
       "4  3691951  <p style=\"padding:0px;margin:10px 0px 0px;outl...  Fundamental II           1  chuva ácida fenômeno provocado poluição atmosf...\n",
       "5  2016466  <p><strong>Anexe nesse espa&ccedil;o uma foto ...   Fundamental I           0                 anexe nesse espaço foto ilustração"
      ]
     },
     "execution_count": 18,
     "metadata": {},
     "output_type": "execute_result"
    }
   ],
   "source": [
    "bncc_cleaned_df.head()"
   ]
  },
  {
   "cell_type": "markdown",
   "metadata": {},
   "source": [
    "### Exporting the dataset"
   ]
  },
  {
   "cell_type": "code",
   "execution_count": 19,
   "metadata": {},
   "outputs": [],
   "source": [
    "bncc_cleaned_df = bncc_cleaned_df[[\"id\", \"questions_clean\", \"target_enc\"]]"
   ]
  },
  {
   "cell_type": "code",
   "execution_count": 20,
   "metadata": {},
   "outputs": [
    {
     "ename": "FileNotFoundError",
     "evalue": "[Errno 2] No such file or directory: '../../data/curated/df_bncc_model_two_curated_pedro_02032022.csv'",
     "output_type": "error",
     "traceback": [
      "\u001b[1;31m---------------------------------------------------------------------------\u001b[0m",
      "\u001b[1;31mFileNotFoundError\u001b[0m                         Traceback (most recent call last)",
      "\u001b[1;32m<ipython-input-20-08cf07aed0a4>\u001b[0m in \u001b[0;36m<module>\u001b[1;34m\u001b[0m\n\u001b[0;32m      1\u001b[0m \u001b[1;31m# Exporting\u001b[0m\u001b[1;33m\u001b[0m\u001b[1;33m\u001b[0m\u001b[1;33m\u001b[0m\u001b[0m\n\u001b[1;32m----> 2\u001b[1;33m bncc_cleaned_df.to_csv(\n\u001b[0m\u001b[0;32m      3\u001b[0m     \u001b[1;34m\"../../data/curated/df_bncc_model_two_curated_pedro_02032022.csv\"\u001b[0m\u001b[1;33m\u001b[0m\u001b[1;33m\u001b[0m\u001b[0m\n\u001b[0;32m      4\u001b[0m )\n",
      "\u001b[1;32m~\\anaconda3\\lib\\site-packages\\pandas\\core\\generic.py\u001b[0m in \u001b[0;36mto_csv\u001b[1;34m(self, path_or_buf, sep, na_rep, float_format, columns, header, index, index_label, mode, encoding, compression, quoting, quotechar, line_terminator, chunksize, date_format, doublequote, escapechar, decimal)\u001b[0m\n\u001b[0;32m   3202\u001b[0m             \u001b[0mdecimal\u001b[0m\u001b[1;33m=\u001b[0m\u001b[0mdecimal\u001b[0m\u001b[1;33m,\u001b[0m\u001b[1;33m\u001b[0m\u001b[1;33m\u001b[0m\u001b[0m\n\u001b[0;32m   3203\u001b[0m         )\n\u001b[1;32m-> 3204\u001b[1;33m         \u001b[0mformatter\u001b[0m\u001b[1;33m.\u001b[0m\u001b[0msave\u001b[0m\u001b[1;33m(\u001b[0m\u001b[1;33m)\u001b[0m\u001b[1;33m\u001b[0m\u001b[1;33m\u001b[0m\u001b[0m\n\u001b[0m\u001b[0;32m   3205\u001b[0m \u001b[1;33m\u001b[0m\u001b[0m\n\u001b[0;32m   3206\u001b[0m         \u001b[1;32mif\u001b[0m \u001b[0mpath_or_buf\u001b[0m \u001b[1;32mis\u001b[0m \u001b[1;32mNone\u001b[0m\u001b[1;33m:\u001b[0m\u001b[1;33m\u001b[0m\u001b[1;33m\u001b[0m\u001b[0m\n",
      "\u001b[1;32m~\\anaconda3\\lib\\site-packages\\pandas\\io\\formats\\csvs.py\u001b[0m in \u001b[0;36msave\u001b[1;34m(self)\u001b[0m\n\u001b[0;32m    182\u001b[0m             \u001b[0mclose\u001b[0m \u001b[1;33m=\u001b[0m \u001b[1;32mFalse\u001b[0m\u001b[1;33m\u001b[0m\u001b[1;33m\u001b[0m\u001b[0m\n\u001b[0;32m    183\u001b[0m         \u001b[1;32melse\u001b[0m\u001b[1;33m:\u001b[0m\u001b[1;33m\u001b[0m\u001b[1;33m\u001b[0m\u001b[0m\n\u001b[1;32m--> 184\u001b[1;33m             f, handles = get_handle(\n\u001b[0m\u001b[0;32m    185\u001b[0m                 \u001b[0mself\u001b[0m\u001b[1;33m.\u001b[0m\u001b[0mpath_or_buf\u001b[0m\u001b[1;33m,\u001b[0m\u001b[1;33m\u001b[0m\u001b[1;33m\u001b[0m\u001b[0m\n\u001b[0;32m    186\u001b[0m                 \u001b[0mself\u001b[0m\u001b[1;33m.\u001b[0m\u001b[0mmode\u001b[0m\u001b[1;33m,\u001b[0m\u001b[1;33m\u001b[0m\u001b[1;33m\u001b[0m\u001b[0m\n",
      "\u001b[1;32m~\\anaconda3\\lib\\site-packages\\pandas\\io\\common.py\u001b[0m in \u001b[0;36mget_handle\u001b[1;34m(path_or_buf, mode, encoding, compression, memory_map, is_text)\u001b[0m\n\u001b[0;32m    426\u001b[0m         \u001b[1;32mif\u001b[0m \u001b[0mencoding\u001b[0m\u001b[1;33m:\u001b[0m\u001b[1;33m\u001b[0m\u001b[1;33m\u001b[0m\u001b[0m\n\u001b[0;32m    427\u001b[0m             \u001b[1;31m# Encoding\u001b[0m\u001b[1;33m\u001b[0m\u001b[1;33m\u001b[0m\u001b[1;33m\u001b[0m\u001b[0m\n\u001b[1;32m--> 428\u001b[1;33m             \u001b[0mf\u001b[0m \u001b[1;33m=\u001b[0m \u001b[0mopen\u001b[0m\u001b[1;33m(\u001b[0m\u001b[0mpath_or_buf\u001b[0m\u001b[1;33m,\u001b[0m \u001b[0mmode\u001b[0m\u001b[1;33m,\u001b[0m \u001b[0mencoding\u001b[0m\u001b[1;33m=\u001b[0m\u001b[0mencoding\u001b[0m\u001b[1;33m,\u001b[0m \u001b[0mnewline\u001b[0m\u001b[1;33m=\u001b[0m\u001b[1;34m\"\"\u001b[0m\u001b[1;33m)\u001b[0m\u001b[1;33m\u001b[0m\u001b[1;33m\u001b[0m\u001b[0m\n\u001b[0m\u001b[0;32m    429\u001b[0m         \u001b[1;32melif\u001b[0m \u001b[0mis_text\u001b[0m\u001b[1;33m:\u001b[0m\u001b[1;33m\u001b[0m\u001b[1;33m\u001b[0m\u001b[0m\n\u001b[0;32m    430\u001b[0m             \u001b[1;31m# No explicit encoding\u001b[0m\u001b[1;33m\u001b[0m\u001b[1;33m\u001b[0m\u001b[1;33m\u001b[0m\u001b[0m\n",
      "\u001b[1;31mFileNotFoundError\u001b[0m: [Errno 2] No such file or directory: '../../data/curated/df_bncc_model_two_curated_pedro_02032022.csv'"
     ]
    }
   ],
   "source": [
    "# Exporting\n",
    "bncc_cleaned_df.to_csv(\n",
    "    \"../../data/curated/df_bncc_model_two_curated_pedro_02032022.csv\"\n",
    ")"
   ]
  },
  {
   "cell_type": "markdown",
   "metadata": {
    "collapsed": false,
    "pycharm": {
     "name": "#%% md\n"
    }
   },
   "source": [
    "## Modeling"
   ]
  },
  {
   "cell_type": "code",
   "execution_count": null,
   "metadata": {
    "collapsed": false,
    "pycharm": {
     "name": "#%%\n"
    }
   },
   "outputs": [
    {
     "data": {
      "text/html": [
       "<div>\n",
       "<style scoped>\n",
       "    .dataframe tbody tr th:only-of-type {\n",
       "        vertical-align: middle;\n",
       "    }\n",
       "\n",
       "    .dataframe tbody tr th {\n",
       "        vertical-align: top;\n",
       "    }\n",
       "\n",
       "    .dataframe thead th {\n",
       "        text-align: right;\n",
       "    }\n",
       "</style>\n",
       "<table border=\"1\" class=\"dataframe\">\n",
       "  <thead>\n",
       "    <tr style=\"text-align: right;\">\n",
       "      <th></th>\n",
       "      <th>id</th>\n",
       "      <th>questions_clean</th>\n",
       "      <th>target_enc</th>\n",
       "      <th>words_count</th>\n",
       "    </tr>\n",
       "  </thead>\n",
       "  <tbody>\n",
       "    <tr>\n",
       "      <th>0</th>\n",
       "      <td>3486670</td>\n",
       "      <td>base conhecimentos sobre compositor john cage ...</td>\n",
       "      <td>1</td>\n",
       "      <td>346</td>\n",
       "    </tr>\n",
       "    <tr>\n",
       "      <th>1</th>\n",
       "      <td>3343927</td>\n",
       "      <td>achar número somado 2 igual inverso” equações ...</td>\n",
       "      <td>1</td>\n",
       "      <td>65</td>\n",
       "    </tr>\n",
       "    <tr>\n",
       "      <th>2</th>\n",
       "      <td>1927600</td>\n",
       "      <td>2 complete espaços abaixo artigos determinados...</td>\n",
       "      <td>1</td>\n",
       "      <td>359</td>\n",
       "    </tr>\n",
       "    <tr>\n",
       "      <th>4</th>\n",
       "      <td>3691951</td>\n",
       "      <td>chuva ácida fenômeno provocado poluição atmosf...</td>\n",
       "      <td>1</td>\n",
       "      <td>97</td>\n",
       "    </tr>\n",
       "    <tr>\n",
       "      <th>5</th>\n",
       "      <td>2016466</td>\n",
       "      <td>anexe nesse espaço foto ilustração</td>\n",
       "      <td>0</td>\n",
       "      <td>34</td>\n",
       "    </tr>\n",
       "    <tr>\n",
       "      <th>...</th>\n",
       "      <td>...</td>\n",
       "      <td>...</td>\n",
       "      <td>...</td>\n",
       "      <td>...</td>\n",
       "    </tr>\n",
       "    <tr>\n",
       "      <th>99994</th>\n",
       "      <td>2447693</td>\n",
       "      <td>leia reportagem responda questãosobre pergunta...</td>\n",
       "      <td>0</td>\n",
       "      <td>99</td>\n",
       "    </tr>\n",
       "    <tr>\n",
       "      <th>99995</th>\n",
       "      <td>4330761</td>\n",
       "      <td>responder questão leia trecho contoprefácio hi...</td>\n",
       "      <td>2</td>\n",
       "      <td>1458</td>\n",
       "    </tr>\n",
       "    <tr>\n",
       "      <th>99996</th>\n",
       "      <td>3249373</td>\n",
       "      <td>pais surgiu skate</td>\n",
       "      <td>1</td>\n",
       "      <td>17</td>\n",
       "    </tr>\n",
       "    <tr>\n",
       "      <th>99998</th>\n",
       "      <td>4150214</td>\n",
       "      <td>machos fêmeas mosquitos gênero aedes vivem loc...</td>\n",
       "      <td>1</td>\n",
       "      <td>415</td>\n",
       "    </tr>\n",
       "    <tr>\n",
       "      <th>99999</th>\n",
       "      <td>1487049</td>\n",
       "      <td>observe tabela veja quantos lanches vendidos t...</td>\n",
       "      <td>0</td>\n",
       "      <td>122</td>\n",
       "    </tr>\n",
       "  </tbody>\n",
       "</table>\n",
       "<p>86792 rows × 4 columns</p>\n",
       "</div>"
      ],
      "text/plain": [
       "            id                                    questions_clean  target_enc  words_count\n",
       "0      3486670  base conhecimentos sobre compositor john cage ...           1          346\n",
       "1      3343927  achar número somado 2 igual inverso” equações ...           1           65\n",
       "2      1927600  2 complete espaços abaixo artigos determinados...           1          359\n",
       "4      3691951  chuva ácida fenômeno provocado poluição atmosf...           1           97\n",
       "5      2016466                 anexe nesse espaço foto ilustração           0           34\n",
       "...        ...                                                ...         ...          ...\n",
       "99994  2447693  leia reportagem responda questãosobre pergunta...           0           99\n",
       "99995  4330761  responder questão leia trecho contoprefácio hi...           2         1458\n",
       "99996  3249373                                  pais surgiu skate           1           17\n",
       "99998  4150214  machos fêmeas mosquitos gênero aedes vivem loc...           1          415\n",
       "99999  1487049  observe tabela veja quantos lanches vendidos t...           0          122\n",
       "\n",
       "[86792 rows x 4 columns]"
      ]
     },
     "execution_count": 33,
     "metadata": {},
     "output_type": "execute_result"
    }
   ],
   "source": [
    "# removing registers with zero chars\n",
    "bncc_cleaned_df[\"words_count\"] = bncc_cleaned_df[\"questions_clean\"].apply(len)\n",
    "bncc_cleaned_filtered_df = bncc_cleaned_df[bncc_cleaned_df[\"words_count\"] != 0]\n",
    "bncc_cleaned_filtered_df"
   ]
  },
  {
   "cell_type": "markdown",
   "metadata": {
    "collapsed": false,
    "pycharm": {
     "name": "#%% md\n"
    }
   },
   "source": [
    "Eu vi depois que essa poha do CountVectorizer n precisa tokenizar antes, pode jogar o texto mesmo q ele cria os tokens pro bag of words. Por isso q to dropando ae embaixo."
   ]
  },
  {
   "cell_type": "code",
   "execution_count": null,
   "metadata": {
    "collapsed": false,
    "pycharm": {
     "name": "#%%\n"
    }
   },
   "outputs": [],
   "source": [
    "# sklearn patterns names\n",
    "X = bncc_cleaned_filtered_df[\"questions_clean\"]\n",
    "y = bncc_cleaned_filtered_df[\"target_enc\"]\n",
    "X_train, X_test, y_train, y_test = model_selection.train_test_split(\n",
    "    X, y, random_state=1\n",
    ")"
   ]
  },
  {
   "cell_type": "code",
   "execution_count": null,
   "metadata": {
    "collapsed": false,
    "pycharm": {
     "name": "#%%\n"
    }
   },
   "outputs": [
    {
     "name": "stdout",
     "output_type": "stream",
     "text": [
      "(65094, 174497) (21698, 174497)\n"
     ]
    }
   ],
   "source": [
    "# bow vect\n",
    "vectBOW = feature_extraction.text.CountVectorizer()\n",
    "X_train_trans = vectBOW.fit_transform(X_train)\n",
    "X_test_trans = vectBOW.transform(X_test)\n",
    "print(X_train_trans.shape, X_test_trans.shape)"
   ]
  },
  {
   "cell_type": "code",
   "execution_count": null,
   "metadata": {
    "collapsed": false,
    "pycharm": {
     "name": "#%%\n"
    }
   },
   "outputs": [
    {
     "name": "stderr",
     "output_type": "stream",
     "text": [
      "C:\\Users\\Danilo\\AppData\\Local\\Programs\\Python\\Python310\\lib\\site-packages\\sklearn\\linear_model\\_logistic.py:814: ConvergenceWarning: lbfgs failed to converge (status=1):\n",
      "STOP: TOTAL NO. of ITERATIONS REACHED LIMIT.\n",
      "\n",
      "Increase the number of iterations (max_iter) or scale the data as shown in:\n",
      "    https://scikit-learn.org/stable/modules/preprocessing.html\n",
      "Please also refer to the documentation for alternative solver options:\n",
      "    https://scikit-learn.org/stable/modules/linear_model.html#logistic-regression\n",
      "  n_iter_i = _check_optimize_result(\n"
     ]
    }
   ],
   "source": [
    "logreg = linear_model.LogisticRegression(class_weight=\"balanced\")\n",
    "logreg.fit(X_train_trans, y_train)\n",
    "y_pred_class = logreg.predict(X_test_trans)"
   ]
  },
  {
   "cell_type": "code",
   "execution_count": null,
   "metadata": {
    "collapsed": false,
    "pycharm": {
     "name": "#%%\n"
    }
   },
   "outputs": [
    {
     "name": "stdout",
     "output_type": "stream",
     "text": [
      "              precision    recall  f1-score   support\n",
      "\n",
      "           0       0.65      0.78      0.71      4575\n",
      "           1       0.65      0.65      0.65      8338\n",
      "           2       0.77      0.70      0.74      8785\n",
      "\n",
      "    accuracy                           0.70     21698\n",
      "   macro avg       0.69      0.71      0.70     21698\n",
      "weighted avg       0.70      0.70      0.70     21698\n",
      "\n"
     ]
    }
   ],
   "source": [
    "print(metrics.classification_report(y_test, y_pred_class))"
   ]
  },
  {
   "cell_type": "markdown",
   "metadata": {},
   "source": [
    "- Fundamental I - 0\n",
    "- Fundamental II - 1\n",
    "- Médio e Pré-Vestibular - 2"
   ]
  }
 ],
 "metadata": {
  "interpreter": {
   "hash": "a3af3214af4e872b3161d3c6a3bffbd99bf6587232dec24ec6e7026b16ba81c0"
  },
  "kernelspec": {
   "display_name": "Python 3.9.10 ('bncc-classifier-Qtat0hV3')",
   "language": "python",
   "name": "python3"
  },
  "language_info": {
   "codemirror_mode": {
    "name": "ipython",
    "version": 3
   },
   "file_extension": ".py",
   "mimetype": "text/x-python",
   "name": "python",
   "nbconvert_exporter": "python",
   "pygments_lexer": "ipython3",
   "version": "3.8.3"
  },
  "orig_nbformat": 4
 },
 "nbformat": 4,
 "nbformat_minor": 2
}
