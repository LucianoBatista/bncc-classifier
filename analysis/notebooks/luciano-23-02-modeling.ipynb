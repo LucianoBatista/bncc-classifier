{
 "cells": [
  {
   "cell_type": "code",
   "execution_count": 1,
   "metadata": {
    "collapsed": true
   },
   "outputs": [],
   "source": [
    "import pandas as pd"
   ]
  },
  {
   "cell_type": "code",
   "execution_count": 6,
   "outputs": [],
   "source": [
    "bncc_df = pd.read_csv(\"../../data/raw/bncc_first_classifier.csv\")"
   ],
   "metadata": {
    "collapsed": false,
    "pycharm": {
     "name": "#%%\n"
    }
   }
  },
  {
   "cell_type": "code",
   "execution_count": 7,
   "outputs": [
    {
     "data": {
      "text/plain": "            id                                           question  bulletType  \\\n0      3486670  <p>Com base em seus conhecimentos sobre o comp...           2   \n1      3343927  <p>&ldquo;Achar um n&uacute;mero que, somado c...           2   \n2      1927600  <p>2. Complete os espaços abaixo com os artigo...           4   \n3       106855  <p><div> A respeito dos serviços públicos e da...           2   \n4      3691951  <p style=\"padding:0px;margin:10px 0px 0px;outl...           2   \n...        ...                                                ...         ...   \n99995  4330761  <p>Para responder à questão, leia o trecho do ...           2   \n99996  3249373  <h1 style=\"list-style:none;margin:0px 0px 20px...           2   \n99997   217251  <p><div> A teoria comportamental oferece uma v...           2   \n99998  4150214  <p>Os machos e fêmeas de mosquitos do gênero <...           2   \n99999  1487049  <p>Observe a tabela e veja quantos lanches for...           2   \n\n                                                    name  \\\n0                                       História da Arte   \n1      Álgebra: Equações do 2º grau: Equação do 2º gr...   \n2                                                 Outros   \n3                       Responsabilidade Civil do Estado   \n4                                                 Outros   \n...                                                  ...   \n99995                                             Outros   \n99996  Práticas Corporais de Aventura: Natureza: Moun...   \n99997                                             Outros   \n99998  Vida e evolução: Diversidade de ecossistemas: ...   \n99999                                            Números   \n\n                                                    slug  \\\n0                                       historia-da-arte   \n1      algebra-equacoes-do-2o-grau-equacao-do-2o-grau...   \n2                                                 outros   \n3                       responsabilidade-civil-do-estado   \n4                                                 outros   \n...                                                  ...   \n99995                                             outros   \n99996  praticas-corporais-de-aventura-natureza-mounta...   \n99997                                             outros   \n99998  vida-e-evolucao-diversidade-de-ecossistemas-co...   \n99999                                            numeros   \n\n                       name.1                  slug.1                  name.2  \n0                        Arte                    arte          Fundamental II  \n1                  Matemática              matematica          Fundamental II  \n2                    Espanhol                espanhol          Fundamental II  \n3      Direito Administrativo  direito-administrativo                Concurso  \n4                     Química                 quimica          Fundamental II  \n...                       ...                     ...                     ...  \n99995       Língua Portuguesa               gramatica  Médio & Pré-Vestibular  \n99996         Educação Física         educacao-fisica          Fundamental II  \n99997     Administração Geral     administracao-geral                Concurso  \n99998                Ciências                ciencias          Fundamental II  \n99999              Matemática              matematica           Fundamental I  \n\n[100000 rows x 8 columns]",
      "text/html": "<div>\n<style scoped>\n    .dataframe tbody tr th:only-of-type {\n        vertical-align: middle;\n    }\n\n    .dataframe tbody tr th {\n        vertical-align: top;\n    }\n\n    .dataframe thead th {\n        text-align: right;\n    }\n</style>\n<table border=\"1\" class=\"dataframe\">\n  <thead>\n    <tr style=\"text-align: right;\">\n      <th></th>\n      <th>id</th>\n      <th>question</th>\n      <th>bulletType</th>\n      <th>name</th>\n      <th>slug</th>\n      <th>name.1</th>\n      <th>slug.1</th>\n      <th>name.2</th>\n    </tr>\n  </thead>\n  <tbody>\n    <tr>\n      <th>0</th>\n      <td>3486670</td>\n      <td>&lt;p&gt;Com base em seus conhecimentos sobre o comp...</td>\n      <td>2</td>\n      <td>História da Arte</td>\n      <td>historia-da-arte</td>\n      <td>Arte</td>\n      <td>arte</td>\n      <td>Fundamental II</td>\n    </tr>\n    <tr>\n      <th>1</th>\n      <td>3343927</td>\n      <td>&lt;p&gt;&amp;ldquo;Achar um n&amp;uacute;mero que, somado c...</td>\n      <td>2</td>\n      <td>Álgebra: Equações do 2º grau: Equação do 2º gr...</td>\n      <td>algebra-equacoes-do-2o-grau-equacao-do-2o-grau...</td>\n      <td>Matemática</td>\n      <td>matematica</td>\n      <td>Fundamental II</td>\n    </tr>\n    <tr>\n      <th>2</th>\n      <td>1927600</td>\n      <td>&lt;p&gt;2. Complete os espaços abaixo com os artigo...</td>\n      <td>4</td>\n      <td>Outros</td>\n      <td>outros</td>\n      <td>Espanhol</td>\n      <td>espanhol</td>\n      <td>Fundamental II</td>\n    </tr>\n    <tr>\n      <th>3</th>\n      <td>106855</td>\n      <td>&lt;p&gt;&lt;div&gt; A respeito dos serviços públicos e da...</td>\n      <td>2</td>\n      <td>Responsabilidade Civil do Estado</td>\n      <td>responsabilidade-civil-do-estado</td>\n      <td>Direito Administrativo</td>\n      <td>direito-administrativo</td>\n      <td>Concurso</td>\n    </tr>\n    <tr>\n      <th>4</th>\n      <td>3691951</td>\n      <td>&lt;p style=\"padding:0px;margin:10px 0px 0px;outl...</td>\n      <td>2</td>\n      <td>Outros</td>\n      <td>outros</td>\n      <td>Química</td>\n      <td>quimica</td>\n      <td>Fundamental II</td>\n    </tr>\n    <tr>\n      <th>...</th>\n      <td>...</td>\n      <td>...</td>\n      <td>...</td>\n      <td>...</td>\n      <td>...</td>\n      <td>...</td>\n      <td>...</td>\n      <td>...</td>\n    </tr>\n    <tr>\n      <th>99995</th>\n      <td>4330761</td>\n      <td>&lt;p&gt;Para responder à questão, leia o trecho do ...</td>\n      <td>2</td>\n      <td>Outros</td>\n      <td>outros</td>\n      <td>Língua Portuguesa</td>\n      <td>gramatica</td>\n      <td>Médio &amp; Pré-Vestibular</td>\n    </tr>\n    <tr>\n      <th>99996</th>\n      <td>3249373</td>\n      <td>&lt;h1 style=\"list-style:none;margin:0px 0px 20px...</td>\n      <td>2</td>\n      <td>Práticas Corporais de Aventura: Natureza: Moun...</td>\n      <td>praticas-corporais-de-aventura-natureza-mounta...</td>\n      <td>Educação Física</td>\n      <td>educacao-fisica</td>\n      <td>Fundamental II</td>\n    </tr>\n    <tr>\n      <th>99997</th>\n      <td>217251</td>\n      <td>&lt;p&gt;&lt;div&gt; A teoria comportamental oferece uma v...</td>\n      <td>2</td>\n      <td>Outros</td>\n      <td>outros</td>\n      <td>Administração Geral</td>\n      <td>administracao-geral</td>\n      <td>Concurso</td>\n    </tr>\n    <tr>\n      <th>99998</th>\n      <td>4150214</td>\n      <td>&lt;p&gt;Os machos e fêmeas de mosquitos do gênero &lt;...</td>\n      <td>2</td>\n      <td>Vida e evolução: Diversidade de ecossistemas: ...</td>\n      <td>vida-e-evolucao-diversidade-de-ecossistemas-co...</td>\n      <td>Ciências</td>\n      <td>ciencias</td>\n      <td>Fundamental II</td>\n    </tr>\n    <tr>\n      <th>99999</th>\n      <td>1487049</td>\n      <td>&lt;p&gt;Observe a tabela e veja quantos lanches for...</td>\n      <td>2</td>\n      <td>Números</td>\n      <td>numeros</td>\n      <td>Matemática</td>\n      <td>matematica</td>\n      <td>Fundamental I</td>\n    </tr>\n  </tbody>\n</table>\n<p>100000 rows × 8 columns</p>\n</div>"
     },
     "execution_count": 7,
     "metadata": {},
     "output_type": "execute_result"
    }
   ],
   "source": [
    "bncc_df"
   ],
   "metadata": {
    "collapsed": false,
    "pycharm": {
     "name": "#%%\n"
    }
   }
  },
  {
   "cell_type": "markdown",
   "source": [
    "# Cleaning\n",
    "\n",
    "Before the running of the pipeline of pre-processing, we need to do some cleaning, like:\n",
    "\n",
    "- remove [Militar, Concurso and OAB]\n",
    "- select just [question, bulletType and school_step\n"
   ],
   "metadata": {
    "collapsed": false,
    "pycharm": {
     "name": "#%% md\n"
    }
   }
  },
  {
   "cell_type": "code",
   "execution_count": 10,
   "outputs": [],
   "source": [
    "bncc_clean_df = bncc_df[bncc_df[\"name.2\"].isin([\"Médio & Pré-Vestibular\", \"Fundamental II\", \"Fundamental I\"])][[\"question\", \"bulletType\", \"name.2\"]]"
   ],
   "metadata": {
    "collapsed": false,
    "pycharm": {
     "name": "#%%\n"
    }
   }
  },
  {
   "cell_type": "code",
   "execution_count": 11,
   "outputs": [
    {
     "data": {
      "text/plain": "                                                question  bulletType  \\\n0      <p>Com base em seus conhecimentos sobre o comp...           2   \n1      <p>&ldquo;Achar um n&uacute;mero que, somado c...           2   \n2      <p>2. Complete os espaços abaixo com os artigo...           4   \n4      <p style=\"padding:0px;margin:10px 0px 0px;outl...           2   \n5      <p><strong>Anexe nesse espa&ccedil;o uma foto ...           4   \n...                                                  ...         ...   \n99994  <p>Leia a reportagem e responda a quest&atilde...           2   \n99995  <p>Para responder à questão, leia o trecho do ...           2   \n99996  <h1 style=\"list-style:none;margin:0px 0px 20px...           2   \n99998  <p>Os machos e fêmeas de mosquitos do gênero <...           2   \n99999  <p>Observe a tabela e veja quantos lanches for...           2   \n\n                       name.2  \n0              Fundamental II  \n1              Fundamental II  \n2              Fundamental II  \n4              Fundamental II  \n5               Fundamental I  \n...                       ...  \n99994           Fundamental I  \n99995  Médio & Pré-Vestibular  \n99996          Fundamental II  \n99998          Fundamental II  \n99999           Fundamental I  \n\n[87845 rows x 3 columns]",
      "text/html": "<div>\n<style scoped>\n    .dataframe tbody tr th:only-of-type {\n        vertical-align: middle;\n    }\n\n    .dataframe tbody tr th {\n        vertical-align: top;\n    }\n\n    .dataframe thead th {\n        text-align: right;\n    }\n</style>\n<table border=\"1\" class=\"dataframe\">\n  <thead>\n    <tr style=\"text-align: right;\">\n      <th></th>\n      <th>question</th>\n      <th>bulletType</th>\n      <th>name.2</th>\n    </tr>\n  </thead>\n  <tbody>\n    <tr>\n      <th>0</th>\n      <td>&lt;p&gt;Com base em seus conhecimentos sobre o comp...</td>\n      <td>2</td>\n      <td>Fundamental II</td>\n    </tr>\n    <tr>\n      <th>1</th>\n      <td>&lt;p&gt;&amp;ldquo;Achar um n&amp;uacute;mero que, somado c...</td>\n      <td>2</td>\n      <td>Fundamental II</td>\n    </tr>\n    <tr>\n      <th>2</th>\n      <td>&lt;p&gt;2. Complete os espaços abaixo com os artigo...</td>\n      <td>4</td>\n      <td>Fundamental II</td>\n    </tr>\n    <tr>\n      <th>4</th>\n      <td>&lt;p style=\"padding:0px;margin:10px 0px 0px;outl...</td>\n      <td>2</td>\n      <td>Fundamental II</td>\n    </tr>\n    <tr>\n      <th>5</th>\n      <td>&lt;p&gt;&lt;strong&gt;Anexe nesse espa&amp;ccedil;o uma foto ...</td>\n      <td>4</td>\n      <td>Fundamental I</td>\n    </tr>\n    <tr>\n      <th>...</th>\n      <td>...</td>\n      <td>...</td>\n      <td>...</td>\n    </tr>\n    <tr>\n      <th>99994</th>\n      <td>&lt;p&gt;Leia a reportagem e responda a quest&amp;atilde...</td>\n      <td>2</td>\n      <td>Fundamental I</td>\n    </tr>\n    <tr>\n      <th>99995</th>\n      <td>&lt;p&gt;Para responder à questão, leia o trecho do ...</td>\n      <td>2</td>\n      <td>Médio &amp; Pré-Vestibular</td>\n    </tr>\n    <tr>\n      <th>99996</th>\n      <td>&lt;h1 style=\"list-style:none;margin:0px 0px 20px...</td>\n      <td>2</td>\n      <td>Fundamental II</td>\n    </tr>\n    <tr>\n      <th>99998</th>\n      <td>&lt;p&gt;Os machos e fêmeas de mosquitos do gênero &lt;...</td>\n      <td>2</td>\n      <td>Fundamental II</td>\n    </tr>\n    <tr>\n      <th>99999</th>\n      <td>&lt;p&gt;Observe a tabela e veja quantos lanches for...</td>\n      <td>2</td>\n      <td>Fundamental I</td>\n    </tr>\n  </tbody>\n</table>\n<p>87845 rows × 3 columns</p>\n</div>"
     },
     "execution_count": 11,
     "metadata": {},
     "output_type": "execute_result"
    }
   ],
   "source": [
    "bncc_clean_df"
   ],
   "metadata": {
    "collapsed": false,
    "pycharm": {
     "name": "#%%\n"
    }
   }
  },
  {
   "cell_type": "markdown",
   "source": [
    "# Pre-Processing\n",
    "\n",
    "I think that the full pipeline of pre-processing in this initial modeling phase is\n",
    "\n",
    "- decode html\n",
    "- remove tags\n",
    "- remove numbers\n",
    "- remove ponctuation\n",
    "- pass to lower\n",
    "- remove stopwords in english and portuguese\n",
    "- remove special chars\n",
    "- remove missing values\n",
    "- identify the idiom as a new column\n",
    "- remove observations that are just words like 'test': test, Test, teste...\n",
    "- utilize CountVectorize from sklearn to build a BoW (Bag of Word) and train some baseline models (Chap 04 - Practical NLP)."
   ],
   "metadata": {
    "collapsed": false,
    "pycharm": {
     "name": "#%% md\n"
    }
   }
  },
  {
   "cell_type": "markdown",
   "source": [],
   "metadata": {
    "collapsed": false
   }
  },
  {
   "cell_type": "code",
   "execution_count": null,
   "outputs": [],
   "source": [
    "bncc_pre_processed_df = bncc_df[\"question\"].astype(\"str\").apply()"
   ],
   "metadata": {
    "collapsed": false,
    "pycharm": {
     "name": "#%%\n"
    }
   }
  }
 ],
 "metadata": {
  "kernelspec": {
   "display_name": "Python 3",
   "language": "python",
   "name": "python3"
  },
  "language_info": {
   "codemirror_mode": {
    "name": "ipython",
    "version": 2
   },
   "file_extension": ".py",
   "mimetype": "text/x-python",
   "name": "python",
   "nbconvert_exporter": "python",
   "pygments_lexer": "ipython2",
   "version": "2.7.6"
  }
 },
 "nbformat": 4,
 "nbformat_minor": 0
}