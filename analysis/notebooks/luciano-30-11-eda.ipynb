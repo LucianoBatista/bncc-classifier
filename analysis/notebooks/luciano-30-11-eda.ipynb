{
 "cells": [
  {
   "cell_type": "code",
   "execution_count": 1,
   "metadata": {},
   "outputs": [],
   "source": [
    "import pandas as pd\n",
    "import html\n",
    "from src.data_preprocessing.cleaning import remove_tags"
   ]
  },
  {
   "cell_type": "code",
   "execution_count": 2,
   "metadata": {},
   "outputs": [],
   "source": [
    "data = pd.read_csv(\"data/raw/bncc_first_classifier.csv\", encoding=\"utf-8\")"
   ]
  },
  {
   "cell_type": "code",
   "execution_count": 3,
   "metadata": {},
   "outputs": [
    {
     "data": {
      "text/plain": [
       "0        <p>Com base em seus conhecimentos sobre o comp...\n",
       "1        <p>“Achar um número que, somado com 2 seja igu...\n",
       "2        <p>2. Complete os espaços abaixo com os artigo...\n",
       "3        <p><div> A respeito dos serviços públicos e da...\n",
       "4        <p style=\"padding:0px;margin:10px 0px 0px;outl...\n",
       "                               ...                        \n",
       "99995    <p>Para responder à questão, leia o trecho do ...\n",
       "99996    <h1 style=\"list-style:none;margin:0px 0px 20px...\n",
       "99997    <p><div> A teoria comportamental oferece uma v...\n",
       "99998    <p>Os machos e fêmeas de mosquitos do gênero <...\n",
       "99999    <p>Observe a tabela e veja quantos lanches for...\n",
       "Name: question_c1, Length: 100000, dtype: object"
      ]
     },
     "execution_count": 3,
     "metadata": {},
     "output_type": "execute_result"
    }
   ],
   "source": [
    "data[\"question_c1\"] = data[\"question\"].astype(\"str\").apply(html.unescape)\n",
    "data[\"question_c1\"].apply(remove_tags)"
   ]
  },
  {
   "cell_type": "code",
   "execution_count": 5,
   "metadata": {},
   "outputs": [
    {
     "data": {
      "text/plain": [
       "'<p>Com base em seus conhecimentos sobre o compositor John Cage, analise as seguintes afirmativas.</p><blockquote><p style=\"box-sizing:inherit;margin:0px 0px 1rem;padding:0px;font-size:inherit;line-height:1.6;text-rendering:optimizelegibility;color:rgb(138, 138, 138)\"><b style=\"box-sizing:inherit;font-weight:700;line-height:inherit\">I.</b> Sua composição intitulada <em style=\"box-sizing:inherit;font-style:italic;line-height:inherit\">4’33</em>’ faz o público refletir sobre o que é música, silêncio e paisagem sonora.</p><p style=\"box-sizing:inherit;margin:0px 0px 1rem;padding:0px;font-size:inherit;line-height:1.6;text-rendering:optimizelegibility;color:rgb(138, 138, 138)\"><b style=\"box-sizing:inherit;font-weight:700;line-height:inherit\">II.</b> Os músicos que tocam essa composição são orientados a não executar uma nota sequer durante quatro minutos e trinta e três segundos.</p><p style=\"box-sizing:inherit;margin:0px;padding:0px;font-size:inherit;line-height:1.6;text-rendering:optimizelegibility;color:rgb(138, 138, 138)\"><b style=\"box-sizing:inherit;font-weight:700;line-height:inherit\">III.</b> Para John Cage, o silêncio absoluto não existe porque tudo se move.</p></blockquote><p>Marque a alternativa correta:</p>'"
      ]
     },
     "execution_count": 5,
     "metadata": {},
     "output_type": "execute_result"
    }
   ],
   "source": [
    "str(data[\"question_c1\"][0])"
   ]
  },
  {
   "cell_type": "code",
   "execution_count": null,
   "metadata": {},
   "outputs": [],
   "source": []
  }
 ],
 "metadata": {
  "interpreter": {
   "hash": "9d16b2cdcd667c0138096fa734d9b5938cd9a1d2eb815f78fcce7eb1051717bd"
  },
  "kernelspec": {
   "display_name": "Python 3.9.0 64-bit ('bncc-classifier-qOkeiedE': pipenv)",
   "language": "python",
   "name": "python3"
  },
  "language_info": {
   "codemirror_mode": {
    "name": "ipython",
    "version": 3
   },
   "file_extension": ".py",
   "mimetype": "text/x-python",
   "name": "python",
   "nbconvert_exporter": "python",
   "pygments_lexer": "ipython3",
   "version": "3.9.0"
  },
  "orig_nbformat": 4
 },
 "nbformat": 4,
 "nbformat_minor": 2
}
