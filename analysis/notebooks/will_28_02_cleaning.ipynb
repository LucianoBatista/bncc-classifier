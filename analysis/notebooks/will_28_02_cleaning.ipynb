{
  "cells": [
    {
      "cell_type": "markdown",
      "id": "752d3b83-2168-41a3-ae09-75fa7ace0c97",
      "metadata": {
        "id": "752d3b83-2168-41a3-ae09-75fa7ace0c97"
      },
      "source": [
        "Importar bibliotecas"
      ]
    },
    {
      "cell_type": "code",
      "execution_count": 1,
      "id": "522fc21e-81b2-46a2-85a4-eaca8012a917",
      "metadata": {
        "id": "522fc21e-81b2-46a2-85a4-eaca8012a917"
      },
      "outputs": [],
      "source": [
        "import pandas as pd\n",
        "import numpy as np\n",
        "import html\n",
        "import nltk\n",
        "import regex as re\n",
        "import string\n",
        "import spacy\n",
        "import seaborn as sns\n",
        "import matplotlib.pyplot as plt\n",
        "from nltk.corpus import stopwords\n",
        "from nltk.tokenize import word_tokenize"
      ]
    },
    {
      "cell_type": "code",
      "execution_count": 12,
      "id": "98618749-f766-461a-97da-a01fa7c3544b",
      "metadata": {
        "id": "98618749-f766-461a-97da-a01fa7c3544b"
      },
      "outputs": [
        {
          "name": "stdout",
          "output_type": "stream",
          "text": [
            "showing info https://raw.githubusercontent.com/nltk/nltk_data/gh-pages/index.xml\n"
          ]
        },
        {
          "data": {
            "text/plain": [
              "True"
            ]
          },
          "execution_count": 12,
          "metadata": {},
          "output_type": "execute_result"
        }
      ],
      "source": [
        "# nltk.download()"
      ]
    },
    {
      "cell_type": "code",
      "execution_count": null,
      "id": "BArq9MlPLSK-",
      "metadata": {
        "id": "BArq9MlPLSK-"
      },
      "outputs": [],
      "source": [
        "#!pip install spacy\n",
        "#!python -m spacy download pt"
      ]
    },
    {
      "cell_type": "markdown",
      "id": "f6f43e31-1cc1-46e6-ad04-134fc8dbe03b",
      "metadata": {
        "id": "f6f43e31-1cc1-46e6-ad04-134fc8dbe03b",
        "tags": []
      },
      "source": [
        "Importar dados"
      ]
    },
    {
      "cell_type": "code",
      "execution_count": 2,
      "id": "56555dc2-9a74-421f-a6f9-18368414a5d7",
      "metadata": {
        "id": "56555dc2-9a74-421f-a6f9-18368414a5d7"
      },
      "outputs": [],
      "source": [
        "data = pd.read_csv('C:/Users/Danilo/Desktop/Documentos Acadêmicos/TERA/TERAprojetos/Projeto final/BNCC/repo/bncc-classifier/data/curated/data_eda_treat_will.csv')\n"
      ]
    },
    {
      "cell_type": "code",
      "execution_count": 3,
      "id": "2c94c434-f641-4627-a4fd-bc9b358b658f",
      "metadata": {
        "id": "2c94c434-f641-4627-a4fd-bc9b358b658f"
      },
      "outputs": [],
      "source": [
        "data_clone = data.copy()"
      ]
    },
    {
      "cell_type": "code",
      "execution_count": 5,
      "id": "WkTBovhZ-u8Y",
      "metadata": {
        "colab": {
          "base_uri": "https://localhost:8080/",
          "height": 337
        },
        "id": "WkTBovhZ-u8Y",
        "outputId": "f95e5aa7-90a1-457d-a6de-afbeee3e2a23"
      },
      "outputs": [
        {
          "data": {
            "text/html": [
              "<div>\n",
              "<style scoped>\n",
              "    .dataframe tbody tr th:only-of-type {\n",
              "        vertical-align: middle;\n",
              "    }\n",
              "\n",
              "    .dataframe tbody tr th {\n",
              "        vertical-align: top;\n",
              "    }\n",
              "\n",
              "    .dataframe thead th {\n",
              "        text-align: right;\n",
              "    }\n",
              "</style>\n",
              "<table border=\"1\" class=\"dataframe\">\n",
              "  <thead>\n",
              "    <tr style=\"text-align: right;\">\n",
              "      <th></th>\n",
              "      <th>id</th>\n",
              "      <th>questoes</th>\n",
              "      <th>tipoQuestoes</th>\n",
              "      <th>topico</th>\n",
              "      <th>slug</th>\n",
              "      <th>materia</th>\n",
              "      <th>slug.1</th>\n",
              "      <th>etapaEnsino</th>\n",
              "    </tr>\n",
              "  </thead>\n",
              "  <tbody>\n",
              "    <tr>\n",
              "      <th>0</th>\n",
              "      <td>3486670</td>\n",
              "      <td>&lt;p&gt;Com base em seus conhecimentos sobre o comp...</td>\n",
              "      <td>2</td>\n",
              "      <td>História da Arte</td>\n",
              "      <td>historia-da-arte</td>\n",
              "      <td>Arte</td>\n",
              "      <td>arte</td>\n",
              "      <td>Fundamental II</td>\n",
              "    </tr>\n",
              "    <tr>\n",
              "      <th>1</th>\n",
              "      <td>3343927</td>\n",
              "      <td>&lt;p&gt;&amp;ldquo;Achar um n&amp;uacute;mero que, somado c...</td>\n",
              "      <td>2</td>\n",
              "      <td>Álgebra: Equações do 2º grau: Equação do 2º gr...</td>\n",
              "      <td>algebra-equacoes-do-2o-grau-equacao-do-2o-grau...</td>\n",
              "      <td>Matemática</td>\n",
              "      <td>matematica</td>\n",
              "      <td>Fundamental II</td>\n",
              "    </tr>\n",
              "    <tr>\n",
              "      <th>2</th>\n",
              "      <td>3691951</td>\n",
              "      <td>&lt;p style=\"padding:0px;margin:10px 0px 0px;outl...</td>\n",
              "      <td>2</td>\n",
              "      <td>Outros</td>\n",
              "      <td>outros</td>\n",
              "      <td>Química</td>\n",
              "      <td>quimica</td>\n",
              "      <td>Fundamental II</td>\n",
              "    </tr>\n",
              "    <tr>\n",
              "      <th>3</th>\n",
              "      <td>2016466</td>\n",
              "      <td>&lt;p&gt;&lt;strong&gt;Anexe nesse espa&amp;ccedil;o uma foto ...</td>\n",
              "      <td>4</td>\n",
              "      <td>Proposta</td>\n",
              "      <td>proposta</td>\n",
              "      <td>Língua Portuguesa</td>\n",
              "      <td>redacao</td>\n",
              "      <td>Fundamental I</td>\n",
              "    </tr>\n",
              "    <tr>\n",
              "      <th>4</th>\n",
              "      <td>1744035</td>\n",
              "      <td>&lt;p&gt;Pagina nr. 54 do Livro did&amp;aacute;tico.&lt;/p&gt;</td>\n",
              "      <td>4</td>\n",
              "      <td>Idade Moderna: Revolução Francesa: Antecedente...</td>\n",
              "      <td>idade-moderna-revolucao-francesa-antecedentes-...</td>\n",
              "      <td>História</td>\n",
              "      <td>historia</td>\n",
              "      <td>Fundamental II</td>\n",
              "    </tr>\n",
              "  </tbody>\n",
              "</table>\n",
              "</div>"
            ],
            "text/plain": [
              "        id                                           questoes  tipoQuestoes  \\\n",
              "0  3486670  <p>Com base em seus conhecimentos sobre o comp...             2   \n",
              "1  3343927  <p>&ldquo;Achar um n&uacute;mero que, somado c...             2   \n",
              "2  3691951  <p style=\"padding:0px;margin:10px 0px 0px;outl...             2   \n",
              "3  2016466  <p><strong>Anexe nesse espa&ccedil;o uma foto ...             4   \n",
              "4  1744035     <p>Pagina nr. 54 do Livro did&aacute;tico.</p>             4   \n",
              "\n",
              "                                              topico  \\\n",
              "0                                   História da Arte   \n",
              "1  Álgebra: Equações do 2º grau: Equação do 2º gr...   \n",
              "2                                             Outros   \n",
              "3                                           Proposta   \n",
              "4  Idade Moderna: Revolução Francesa: Antecedente...   \n",
              "\n",
              "                                                slug            materia  \\\n",
              "0                                   historia-da-arte               Arte   \n",
              "1  algebra-equacoes-do-2o-grau-equacao-do-2o-grau...         Matemática   \n",
              "2                                             outros            Química   \n",
              "3                                           proposta  Língua Portuguesa   \n",
              "4  idade-moderna-revolucao-francesa-antecedentes-...           História   \n",
              "\n",
              "       slug.1     etapaEnsino  \n",
              "0        arte  Fundamental II  \n",
              "1  matematica  Fundamental II  \n",
              "2     quimica  Fundamental II  \n",
              "3     redacao   Fundamental I  \n",
              "4    historia  Fundamental II  "
            ]
          },
          "execution_count": 5,
          "metadata": {},
          "output_type": "execute_result"
        }
      ],
      "source": [
        "# renomeando as colunas do dataset\n",
        "\n",
        "data_clone.columns = ['id', 'questoes', 'tipoQuestoes', 'topico', 'slug', 'materia', 'slug.1','etapaEnsino']\n",
        "data_clone.head()"
      ]
    },
    {
      "cell_type": "markdown",
      "id": "LvO-H4PuUIyn",
      "metadata": {
        "id": "LvO-H4PuUIyn"
      },
      "source": [
        "## Pre-processamento"
      ]
    },
    {
      "cell_type": "markdown",
      "id": "dec881ae-2da3-490e-93a4-225438b9a559",
      "metadata": {
        "id": "dec881ae-2da3-490e-93a4-225438b9a559"
      },
      "source": [
        "* Escrevendo funcões para etapa de pre-processamento de Texto usando regex "
      ]
    },
    {
      "cell_type": "code",
      "execution_count": 28,
      "id": "1d317b88-9cdd-49db-8e91-95f40398e6a3",
      "metadata": {
        "id": "1d317b88-9cdd-49db-8e91-95f40398e6a3"
      },
      "outputs": [],
      "source": [
        "# Função para remover tags de html usando regex\n",
        "\n",
        "def remove_tags(text: str) -> str:\n",
        "    pattern = re.compile(\"<.*?>\")\n",
        "    cleantext = re.sub(pattern, \" \", text).replace(u\"\\xa0\", u\" \")\n",
        "    return cleantext\n",
        "\n",
        "# Função para deixar todo o texto em caixa baixa\n",
        "def to_lower(text: str) -> str:\n",
        "    return text.lower()\n",
        "\n",
        "# Função para remover numeros\n",
        "def remove_numbers(text: str) -> str:\n",
        "    pattern = re.compile(\"[0-9]+\")\n",
        "    clean_text = re.sub(pattern, \" \", text)\n",
        "    return clean_text\n",
        "\n",
        "# Função para remover stopwords em portugues; preposições, conjunções, artigos, etc\n",
        "def remove_standard_stopwords_pt(text: str) -> str:\n",
        "    stop_words = set(stopwords.words(\"portuguese\"))\n",
        "    word_tokens = word_tokenize(text)\n",
        "    filtered_sentence = [w for w in word_tokens if not w in stop_words]\n",
        "    final_sentence = \" \".join(filtered_sentence)\n",
        "    return final_sentence  \n",
        "\n",
        "def remove_standard_stopwords_en(text: str) -> str:\n",
        "    stop_words = set(stopwords.words(\"english\"))\n",
        "    word_tokens = word_tokenize(text)\n",
        "    filtered_sentence = [w for w in word_tokens if not w in stop_words]\n",
        "    final_sentence = \" \".join(filtered_sentence)\n",
        "    return final_sentence  \n",
        "\n",
        "# Função para remover caracteres especiais e pontuação\n",
        "def remove_punctuation(text: str) -> str:\n",
        "    pattern = re.compile(\"[\\d\\.\\,\\*):(\\?\\/\\-\\]\\[\\–]\")\n",
        "    clean_text = re.sub(pattern, \" \", text)\n",
        "    return clean_text\n",
        "\n",
        "# Função para remover aspas em itálico\n",
        "def remove_italic_dquotes(text: str) -> str:\n",
        "    pattern = re.compile(r'\"')\n",
        "    clean_text = re.sub(pattern, \" \", text)\n",
        "    return clean_text\n",
        "\n",
        "# Função para remover aspas de abertura\n",
        "def remove_open_dquotes(text: str) -> str:\n",
        "    pattern = re.compile(r'“')\n",
        "    clean_text = re.sub(pattern, \" \", text)\n",
        "    return clean_text\n",
        "\n",
        "# Função para remover aspas de abertura\n",
        "def remove_end_dquotes(text: str) -> str:\n",
        "    pattern = re.compile(r'”')\n",
        "    clean_text = re.sub(pattern, \" \", text)\n",
        "    return clean_text\n",
        "\n",
        "# Função para remover aspas de abertura\n",
        "def remove_italic_quotes(text: str) -> str:\n",
        "    pattern = re.compile(r\"'\")\n",
        "    clean_text = re.sub(pattern, \" \", text)\n",
        "    return clean_text\n",
        "\n",
        "# Função para remover aspas de abertura\n",
        "def remove_open_quotes(text: str) -> str:\n",
        "    pattern = re.compile(r'‘')\n",
        "    clean_text = re.sub(pattern, \" \", text)\n",
        "    return clean_text\n",
        "\n",
        "# Função para remover aspas de abertura\n",
        "def remove_end_quotes(text: str) -> str:\n",
        "    pattern = re.compile(r'’')\n",
        "    clean_text = re.sub(pattern, \" \", text)\n",
        "    return clean_text\n",
        "\n",
        "# Função para remover aspas de abertura\n",
        "def remove_quote(text: str) -> str:\n",
        "    pattern = re.compile(r'‛')\n",
        "    clean_text = re.sub(pattern, \" \", text)\n",
        "    return clean_text"
      ]
    },
    {
      "cell_type": "code",
      "execution_count": 29,
      "id": "4f426db9-19a0-41e7-bbc9-9eb62b865e59",
      "metadata": {
        "id": "4f426db9-19a0-41e7-bbc9-9eb62b865e59"
      },
      "outputs": [],
      "source": [
        "# resolve problema de codificação html da coluna 'questoes'\n",
        "data_clone['questoes_html']= data_clone['questoes'].astype('str').apply(html.unescape)\n",
        "\n",
        "# limpando o texto utilizando as funçoes criadas\n",
        "data_clone['questoes_tags'] = data_clone['questoes_html'].apply(remove_tags)\n",
        "data_clone['questoes_lower'] = data_clone['questoes_tags'].apply(to_lower)\n",
        "data_clone['questoes_numbers'] = data_clone['questoes_lower'].apply(remove_numbers)"
      ]
    },
    {
      "cell_type": "code",
      "execution_count": 33,
      "id": "3037c209",
      "metadata": {},
      "outputs": [],
      "source": [
        "### limpando pontuações e todos os tipos de aspas\n",
        "\n",
        "data_clone['questoes_punct'] = data_clone['questoes_numbers'].apply(remove_punctuation)\n",
        "\n",
        "data_clone['questoes_no_italic_quotes'] = data_clone['questoes_punct'].apply(remove_italic_quotes)\n",
        "data_clone['questoes_no_open_quotes'] = data_clone['questoes_no_italic_quotes'].apply(remove_open_quotes)\n",
        "data_clone['questoes_no_end_quotes'] = data_clone['questoes_no_open_quotes'].apply(remove_end_quotes)\n",
        "\n",
        "data_clone['questoes_no_italic_dquotes'] = data_clone['questoes_no_end_quotes'].apply(remove_italic_dquotes)\n",
        "data_clone['questoes_no_open_dquotes'] = data_clone['questoes_no_italic_dquotes'].apply(remove_open_dquotes)\n",
        "data_clone['questoes_no_end_dquotes'] = data_clone['questoes_no_open_dquotes'].apply(remove_end_dquotes)\n",
        "\n",
        "data_clone['questoes_no_quotes'] = data_clone['questoes_no_end_dquotes'].apply(remove_quote)"
      ]
    },
    {
      "cell_type": "code",
      "execution_count": 31,
      "id": "6c6b8698",
      "metadata": {},
      "outputs": [
        {
          "data": {
            "text/plain": [
              "' com base em seus conhecimentos sobre o compositor john cage  analise as seguintes afirmativas     i   sua composição intitulada        faz o público refletir sobre o que é música  silêncio e paisagem sonora    ii   os músicos que tocam essa composição são orientados a não executar uma nota sequer durante quatro minutos e trinta e três segundos    iii   para john cage  o silêncio absoluto não existe porque tudo se move    marque a alternativa correta  '"
            ]
          },
          "execution_count": 31,
          "metadata": {},
          "output_type": "execute_result"
        }
      ],
      "source": [
        "data_clone['questoes_no_quotes'][0]"
      ]
    },
    {
      "cell_type": "code",
      "execution_count": 34,
      "id": "1261a462",
      "metadata": {},
      "outputs": [
        {
          "data": {
            "text/plain": [
              "'base conhecimentos sobre compositor john cage analise seguintes afirmativas i composição intitulada faz público refletir sobre música silêncio paisagem sonora ii músicos tocam composição orientados executar nota sequer durante quatro minutos trinta três segundos iii john cage silêncio absoluto existe porque tudo move marque alternativa correta'"
            ]
          },
          "execution_count": 34,
          "metadata": {},
          "output_type": "execute_result"
        }
      ],
      "source": [
        "### Removendo stopwords em portugues\n",
        "\n",
        "stop_pt = stopwords.words('portuguese')\n",
        "\n",
        "text_pt = data_clone['questoes_no_quotes']\n",
        "\n",
        "test = pd.DataFrame(text_pt)\n",
        "test.columns = [\"text\"]\n",
        "\n",
        "# Exclude stopwords with Python's list comprehension and pandas.DataFrame.apply.\n",
        "test['text_without_stopwords'] = test['text'].apply(lambda x: ' '.join([word for word in x.split() if word not in (stop_pt)]))\n",
        "data_clone['questoes_stopw_pt'] = test['text_without_stopwords']\n",
        "\n",
        "data_clone['questoes_stopw_pt'][0]"
      ]
    },
    {
      "cell_type": "code",
      "execution_count": 35,
      "id": "d2d21da7",
      "metadata": {},
      "outputs": [
        {
          "data": {
            "text/plain": [
              "42333                                 atividades pendentes\n",
              "79365    filme menina ouro conta história maggie fitzge...\n",
              "52179      name furniture english nome móvel abaixo inglês\n",
              "4090     bloco massa kg jogado alto atinge ponto máximo...\n",
              "51493    leia alternativas seguir sobre fundamentos han...\n",
              "Name: questoes_stopw_en, dtype: object"
            ]
          },
          "execution_count": 35,
          "metadata": {},
          "output_type": "execute_result"
        }
      ],
      "source": [
        "### Removendo stopwords em inglês\n",
        "\n",
        "stop_en = stopwords.words('english')\n",
        "\n",
        "text_en = data_clone['questoes_stopw_pt']\n",
        "\n",
        "test_en = pd.DataFrame(text_en)\n",
        "test_en.columns = [\"text\"]\n",
        "\n",
        "# Exclude stopwords with Python's list comprehension and pandas.DataFrame.apply.\n",
        "test_en['text_without_stopwords'] = test_en['text'].apply(lambda x: ' '.join([word for word in x.split() if word not in (stop_en)]))\n",
        "data_clone['questoes_stopw_en'] = test_en['text_without_stopwords']\n",
        "\n",
        "data_clone['questoes_stopw_en'][52179]  ## exemplo de texto em inglês p/ verificar modificação"
      ]
    },
    {
      "cell_type": "code",
      "execution_count": 36,
      "id": "4f47fdd8",
      "metadata": {},
      "outputs": [
        {
          "data": {
            "text/plain": [
              "'uel pr cuidadosos dentre metafísicos ocorreu duvidar aqui limiar onde necessário haviam jurado si próprios omnibus dubitandum tudo duvidar todo valor possa merecer verdadeiro veraz desinteressado possível deva atribuir aparência vontade engano egoísmo cobiça valor alto fundamental vida possível constitui valor dessas coisas boas honradas consista exatamente serem insidiosamente aparentadas atadas unidas talvez essencialmente iguais coisas ruins aparentemente opostas talvez! mostra disposto ocupar tais perigosos talvez preciso esperar advento nova espécie filósofos gosto pendor diversos contrários daqueles agora existiram filósofos perigoso talvez todo custo falando toda seriedade vejo filósofos surgirem nietzsche f além bem mal marcondes textos básicos filosofia présocráticos wittgenstein ed rev rio janeiro zahar p partir citação acima assinale correto'"
            ]
          },
          "execution_count": 36,
          "metadata": {},
          "output_type": "execute_result"
        }
      ],
      "source": [
        "data_clone['questoes_stopw_en'][58131]"
      ]
    },
    {
      "cell_type": "markdown",
      "id": "08222d72-60b5-4b6e-afb8-d50bd4644338",
      "metadata": {
        "id": "08222d72-60b5-4b6e-afb8-d50bd4644338"
      },
      "source": [
        "Tokenizaçao das Questoes usando NLTK"
      ]
    },
    {
      "cell_type": "code",
      "execution_count": 37,
      "id": "MoXfXYxxBUFU",
      "metadata": {
        "colab": {
          "base_uri": "https://localhost:8080/",
          "height": 617
        },
        "id": "MoXfXYxxBUFU",
        "outputId": "dbcb420f-5f90-4d99-dd10-5b9b1cb776ee"
      },
      "outputs": [
        {
          "data": {
            "text/plain": [
              "0    [base, conhecimentos, sobre, compositor, john,...\n",
              "1    [achar, número, somado, igual, inverso, equaçõ...\n",
              "2    [chuva, ácida, fenômeno, provocado, poluição, ...\n",
              "3             [anexe, nesse, espaço, foto, ilustração]\n",
              "4                        [pagina, nr, livro, didático]\n",
              "Name: questoes_tokens, dtype: object"
            ]
          },
          "execution_count": 37,
          "metadata": {},
          "output_type": "execute_result"
        }
      ],
      "source": [
        "data_clone['questoes_tokens'] = data_clone['questoes_stopw_en'].apply(word_tokenize)\n",
        "data_clone['questoes_tokens'].head()"
      ]
    },
    {
      "cell_type": "code",
      "execution_count": 38,
      "id": "39cd89b4",
      "metadata": {},
      "outputs": [
        {
          "data": {
            "text/html": [
              "<div>\n",
              "<style scoped>\n",
              "    .dataframe tbody tr th:only-of-type {\n",
              "        vertical-align: middle;\n",
              "    }\n",
              "\n",
              "    .dataframe tbody tr th {\n",
              "        vertical-align: top;\n",
              "    }\n",
              "\n",
              "    .dataframe thead th {\n",
              "        text-align: right;\n",
              "    }\n",
              "</style>\n",
              "<table border=\"1\" class=\"dataframe\">\n",
              "  <thead>\n",
              "    <tr style=\"text-align: right;\">\n",
              "      <th></th>\n",
              "      <th>questoes_tokens</th>\n",
              "    </tr>\n",
              "  </thead>\n",
              "  <tbody>\n",
              "    <tr>\n",
              "      <th>0</th>\n",
              "      <td>[base, conhecimentos, sobre, compositor, john,...</td>\n",
              "    </tr>\n",
              "    <tr>\n",
              "      <th>1</th>\n",
              "      <td>[achar, número, somado, igual, inverso, equaçõ...</td>\n",
              "    </tr>\n",
              "    <tr>\n",
              "      <th>2</th>\n",
              "      <td>[chuva, ácida, fenômeno, provocado, poluição, ...</td>\n",
              "    </tr>\n",
              "    <tr>\n",
              "      <th>3</th>\n",
              "      <td>[anexe, nesse, espaço, foto, ilustração]</td>\n",
              "    </tr>\n",
              "    <tr>\n",
              "      <th>4</th>\n",
              "      <td>[pagina, nr, livro, didático]</td>\n",
              "    </tr>\n",
              "    <tr>\n",
              "      <th>...</th>\n",
              "      <td>...</td>\n",
              "    </tr>\n",
              "    <tr>\n",
              "      <th>83670</th>\n",
              "      <td>[leia, reportagem, responda, questão, sobre, p...</td>\n",
              "    </tr>\n",
              "    <tr>\n",
              "      <th>83671</th>\n",
              "      <td>[responder, questão, leia, trecho, conto, pref...</td>\n",
              "    </tr>\n",
              "    <tr>\n",
              "      <th>83672</th>\n",
              "      <td>[pais, surgiu, skate]</td>\n",
              "    </tr>\n",
              "    <tr>\n",
              "      <th>83673</th>\n",
              "      <td>[machos, fêmeas, mosquitos, gênero, aedes, viv...</td>\n",
              "    </tr>\n",
              "    <tr>\n",
              "      <th>83674</th>\n",
              "      <td>[observe, tabela, veja, quantos, lanches, vend...</td>\n",
              "    </tr>\n",
              "  </tbody>\n",
              "</table>\n",
              "<p>83675 rows × 1 columns</p>\n",
              "</div>"
            ],
            "text/plain": [
              "                                         questoes_tokens\n",
              "0      [base, conhecimentos, sobre, compositor, john,...\n",
              "1      [achar, número, somado, igual, inverso, equaçõ...\n",
              "2      [chuva, ácida, fenômeno, provocado, poluição, ...\n",
              "3               [anexe, nesse, espaço, foto, ilustração]\n",
              "4                          [pagina, nr, livro, didático]\n",
              "...                                                  ...\n",
              "83670  [leia, reportagem, responda, questão, sobre, p...\n",
              "83671  [responder, questão, leia, trecho, conto, pref...\n",
              "83672                              [pais, surgiu, skate]\n",
              "83673  [machos, fêmeas, mosquitos, gênero, aedes, viv...\n",
              "83674  [observe, tabela, veja, quantos, lanches, vend...\n",
              "\n",
              "[83675 rows x 1 columns]"
            ]
          },
          "execution_count": 38,
          "metadata": {},
          "output_type": "execute_result"
        }
      ],
      "source": [
        "data_tokens = pd.DataFrame(data_clone['questoes_tokens'])\n",
        "data_tokens"
      ]
    },
    {
      "cell_type": "markdown",
      "id": "8bcf430b",
      "metadata": {},
      "source": [
        "### Lemmatização"
      ]
    },
    {
      "cell_type": "code",
      "execution_count": 42,
      "id": "ad5c70c0",
      "metadata": {},
      "outputs": [
        {
          "data": {
            "text/plain": [
              "19686    teatro possui forma circular semicircular onde...\n",
              "73653    observe imagem roupa acessórios usados persona...\n",
              "55172    acabamos comemorar menor desmatamento floresta...\n",
              "Name: lemmatized_tokens, dtype: object"
            ]
          },
          "execution_count": 42,
          "metadata": {},
          "output_type": "execute_result"
        }
      ],
      "source": [
        "w_tokenizer = nltk.tokenize.WhitespaceTokenizer()\n",
        "lemmatizer = nltk.stem.WordNetLemmatizer()\n",
        "\n",
        "def lemmatize_text(text):\n",
        "    return [lemmatizer.lemmatize(w) for w in w_tokenizer.tokenize(text)]\n",
        "\n",
        "data_clone['lemmatized_tokens'] = data_clone['questoes_stopw_en'].apply(lemmatize_text)\n",
        "\n",
        "data_clone['lemmatized_tokens'] = data_clone['lemmatized_tokens'].apply(\" \".join)\n",
        "\n",
        "data_clone['lemmatized_tokens'].sample(3)"
      ]
    },
    {
      "cell_type": "code",
      "execution_count": 64,
      "id": "e100ab63",
      "metadata": {},
      "outputs": [
        {
          "data": {
            "text/plain": [
              "<AxesSubplot:xlabel='lemmatized_tokens', ylabel='Count'>"
            ]
          },
          "execution_count": 64,
          "metadata": {},
          "output_type": "execute_result"
        },
        {
          "data": {
            "image/png": "[encoded data removed]",
            "text/plain": [
              "<Figure size 1440x720 with 1 Axes>"
            ]
          },
          "metadata": {
            "needs_background": "light"
          },
          "output_type": "display_data"
        }
      ],
      "source": [
        "fig, ax = plt.subplots(figsize=(20, 10))\n",
        "\n",
        "sns.histplot(data_clone['lemmatized_tokens'].str.len(), ax = ax)"
      ]
    },
    {
      "cell_type": "code",
      "execution_count": 43,
      "id": "3bf4cd54",
      "metadata": {},
      "outputs": [
        {
          "data": {
            "text/plain": [
              "'veja foto escultura vênus willendorf analise itens vêm sequência escultura pré histórica demonstra figura feminina retratada toda exuberância seios ventre fartos quais características valorizadas nesse período histórico ii inspirou padrão beleza grego iii provável figura idealizada representar fertilidade perpetuação espécie humana corretos'"
            ]
          },
          "execution_count": 43,
          "metadata": {},
          "output_type": "execute_result"
        }
      ],
      "source": [
        "data_clone['lemmatized_tokens'][70291]"
      ]
    },
    {
      "cell_type": "markdown",
      "id": "7a92c1c0",
      "metadata": {},
      "source": [
        "### Enconding with BOW"
      ]
    },
    {
      "cell_type": "code",
      "execution_count": 44,
      "id": "6c32099d",
      "metadata": {},
      "outputs": [
        {
          "data": {
            "text/plain": [
              "<83675x124300 sparse matrix of type '<class 'numpy.int64'>'\n",
              "\twith 2462464 stored elements in Compressed Sparse Row format>"
            ]
          },
          "execution_count": 44,
          "metadata": {},
          "output_type": "execute_result"
        }
      ],
      "source": [
        "from sklearn.feature_extraction.text import CountVectorizer\n",
        "\n",
        "vectorizerBOW = CountVectorizer()\n",
        "XBOW = vectorizerBOW.fit_transform(data_clone['lemmatized_tokens'])\n",
        "XBOW"
      ]
    },
    {
      "cell_type": "markdown",
      "id": "da86526b",
      "metadata": {},
      "source": [
        "### Enconding with TF-IDF"
      ]
    },
    {
      "cell_type": "code",
      "execution_count": 45,
      "id": "48ad9e4a",
      "metadata": {},
      "outputs": [
        {
          "data": {
            "text/plain": [
              "<83675x124300 sparse matrix of type '<class 'numpy.float64'>'\n",
              "\twith 2462464 stored elements in Compressed Sparse Row format>"
            ]
          },
          "execution_count": 45,
          "metadata": {},
          "output_type": "execute_result"
        }
      ],
      "source": [
        "from sklearn.feature_extraction.text import TfidfVectorizer\n",
        "\n",
        "vectorizerTF = TfidfVectorizer()\n",
        "XTF = vectorizerTF.fit_transform(data_clone['lemmatized_tokens'])\n",
        "XTF\n"
      ]
    },
    {
      "cell_type": "markdown",
      "id": "fe21230c",
      "metadata": {},
      "source": [
        "### Clusterizando com t-SNE"
      ]
    },
    {
      "cell_type": "code",
      "execution_count": 35,
      "id": "d0b91a39",
      "metadata": {},
      "outputs": [],
      "source": [
        "from sklearn.manifold import TSNE\n",
        "\n",
        "X_embedded_BOW = TSNE(n_components=3, learning_rate='auto',init='random').fit_transform(XBOW) \n",
        "X_embedded_BOW.shape"
      ]
    },
    {
      "cell_type": "markdown",
      "id": "80ebef7d",
      "metadata": {},
      "source": [
        "### Criando modelo para Etapa de Ensino"
      ]
    },
    {
      "cell_type": "code",
      "execution_count": 72,
      "id": "a3fc9340",
      "metadata": {},
      "outputs": [],
      "source": [
        "from sklearn.model_selection import train_test_split\n",
        "\n",
        "y = data_clone['etapaEnsino']\n",
        "\n",
        "X = data_clone['lemmatized_tokens']\n",
        "\n",
        "X_train, X_test, y_train, y_test = train_test_split(X, y, test_size=0.33, random_state=42)\n",
        "\n",
        "XBOW_train, XBOW_test, y_train, y_test = train_test_split(XBOW, y, test_size=0.33, random_state=42)\n",
        "\n",
        "XTF_train, XTF_test, y_train, y_test = train_test_split(XTF, y, test_size=0.33, random_state=42)"
      ]
    },
    {
      "cell_type": "code",
      "execution_count": 54,
      "id": "d16142ea",
      "metadata": {},
      "outputs": [
        {
          "data": {
            "text/plain": [
              "Index(['id', 'questoes', 'tipoQuestoes', 'topico', 'slug', 'materia', 'slug.1',\n",
              "       'etapaEnsino', 'questoes_html', 'questoes_tags', 'questoes_lower',\n",
              "       'questoes_numbers', 'questoes_punct', 'questoes_no_italic_quotes',\n",
              "       'questoes_no_open_quotes', 'questoes_no_end_quotes',\n",
              "       'questoes_no_italic_dquotes', 'questoes_no_open_dquotes',\n",
              "       'questoes_no_end_dquotes', 'questoes_stopw_pt', 'questoes_stopw_en',\n",
              "       'questoes_no_quotes', 'questoes_tokens', 'lemmatized_tokens'],\n",
              "      dtype='object')"
            ]
          },
          "execution_count": 54,
          "metadata": {},
          "output_type": "execute_result"
        }
      ],
      "source": [
        "data_clone.columns"
      ]
    },
    {
      "cell_type": "code",
      "execution_count": 55,
      "id": "8545fa62",
      "metadata": {},
      "outputs": [
        {
          "data": {
            "text/plain": [
              "63829"
            ]
          },
          "execution_count": 55,
          "metadata": {},
          "output_type": "execute_result"
        }
      ],
      "source": [
        "data_clone['questoes_no_quotes'].str.len().max()"
      ]
    },
    {
      "cell_type": "code",
      "execution_count": 56,
      "id": "4ffe99dc",
      "metadata": {},
      "outputs": [],
      "source": [
        "from sklearn.model_selection import train_test_split, cross_val_score, cross_val_predict, GridSearchCV\n",
        "from sklearn.feature_extraction.text import TfidfVectorizer\n",
        "from sklearn.linear_model import SGDClassifier\n",
        "from sklearn.pipeline import Pipeline\n",
        "from sklearn.metrics import confusion_matrix, accuracy_score"
      ]
    },
    {
      "cell_type": "code",
      "execution_count": 57,
      "id": "c91a62f8",
      "metadata": {},
      "outputs": [
        {
          "name": "stdout",
          "output_type": "stream",
          "text": [
            "[0.67047177 0.67858735 0.67088833 0.66910453 0.67704245]\n",
            "Accuracy: 0.67 (+/- 0.01)\n"
          ]
        }
      ],
      "source": [
        "sgd_clf = SGDClassifier(random_state=123)\n",
        "sgf_clf_scores = cross_val_score(sgd_clf, XTF_train, y_train, cv=5)\n",
        "print(sgf_clf_scores)\n",
        "print(\"Accuracy: %0.2f (+/- %0.2f)\" % (sgf_clf_scores.mean(), sgf_clf_scores.std() * 2))"
      ]
    },
    {
      "cell_type": "code",
      "execution_count": 59,
      "id": "39b9b24c",
      "metadata": {},
      "outputs": [
        {
          "data": {
            "text/plain": [
              "Médio & Pré-Vestibular    22250\n",
              "Fundamental II            21856\n",
              "Fundamental I             11956\n",
              "Name: etapaEnsino, dtype: int64"
            ]
          },
          "execution_count": 59,
          "metadata": {},
          "output_type": "execute_result"
        }
      ],
      "source": [
        "y_train.value_counts()"
      ]
    },
    {
      "cell_type": "code",
      "execution_count": 62,
      "id": "119a8770",
      "metadata": {},
      "outputs": [
        {
          "name": "stdout",
          "output_type": "stream",
          "text": [
            "[[ 7795  3030  1131]\n",
            " [ 2374 13140  6342]\n",
            " [  759  4684 16807]]\n"
          ]
        }
      ],
      "source": [
        "sgf_clf_pred = cross_val_predict(sgd_clf, XTF_train, y_train, cv=5)\n",
        "print(confusion_matrix(y_train, sgf_clf_pred))"
      ]
    },
    {
      "cell_type": "code",
      "execution_count": 63,
      "id": "09a79a7c",
      "metadata": {},
      "outputs": [
        {
          "name": "stderr",
          "output_type": "stream",
          "text": [
            "C:\\Users\\Danilo\\AppData\\Local\\Programs\\Python\\Python310\\lib\\site-packages\\sklearn\\linear_model\\_stochastic_gradient.py:696: ConvergenceWarning: Maximum number of iteration reached before convergence. Consider increasing max_iter to improve the fit.\n",
            "  warnings.warn(\n",
            "C:\\Users\\Danilo\\AppData\\Local\\Programs\\Python\\Python310\\lib\\site-packages\\sklearn\\linear_model\\_stochastic_gradient.py:696: ConvergenceWarning: Maximum number of iteration reached before convergence. Consider increasing max_iter to improve the fit.\n",
            "  warnings.warn(\n",
            "C:\\Users\\Danilo\\AppData\\Local\\Programs\\Python\\Python310\\lib\\site-packages\\sklearn\\linear_model\\_stochastic_gradient.py:696: ConvergenceWarning: Maximum number of iteration reached before convergence. Consider increasing max_iter to improve the fit.\n",
            "  warnings.warn(\n",
            "C:\\Users\\Danilo\\AppData\\Local\\Programs\\Python\\Python310\\lib\\site-packages\\sklearn\\linear_model\\_stochastic_gradient.py:696: ConvergenceWarning: Maximum number of iteration reached before convergence. Consider increasing max_iter to improve the fit.\n",
            "  warnings.warn(\n",
            "C:\\Users\\Danilo\\AppData\\Local\\Programs\\Python\\Python310\\lib\\site-packages\\sklearn\\linear_model\\_stochastic_gradient.py:696: ConvergenceWarning: Maximum number of iteration reached before convergence. Consider increasing max_iter to improve the fit.\n",
            "  warnings.warn(\n",
            "C:\\Users\\Danilo\\AppData\\Local\\Programs\\Python\\Python310\\lib\\site-packages\\sklearn\\linear_model\\_stochastic_gradient.py:696: ConvergenceWarning: Maximum number of iteration reached before convergence. Consider increasing max_iter to improve the fit.\n",
            "  warnings.warn(\n",
            "C:\\Users\\Danilo\\AppData\\Local\\Programs\\Python\\Python310\\lib\\site-packages\\sklearn\\linear_model\\_stochastic_gradient.py:696: ConvergenceWarning: Maximum number of iteration reached before convergence. Consider increasing max_iter to improve the fit.\n",
            "  warnings.warn(\n",
            "C:\\Users\\Danilo\\AppData\\Local\\Programs\\Python\\Python310\\lib\\site-packages\\sklearn\\linear_model\\_stochastic_gradient.py:696: ConvergenceWarning: Maximum number of iteration reached before convergence. Consider increasing max_iter to improve the fit.\n",
            "  warnings.warn(\n",
            "C:\\Users\\Danilo\\AppData\\Local\\Programs\\Python\\Python310\\lib\\site-packages\\sklearn\\linear_model\\_stochastic_gradient.py:696: ConvergenceWarning: Maximum number of iteration reached before convergence. Consider increasing max_iter to improve the fit.\n",
            "  warnings.warn(\n",
            "C:\\Users\\Danilo\\AppData\\Local\\Programs\\Python\\Python310\\lib\\site-packages\\sklearn\\linear_model\\_stochastic_gradient.py:696: ConvergenceWarning: Maximum number of iteration reached before convergence. Consider increasing max_iter to improve the fit.\n",
            "  warnings.warn(\n",
            "C:\\Users\\Danilo\\AppData\\Local\\Programs\\Python\\Python310\\lib\\site-packages\\sklearn\\linear_model\\_stochastic_gradient.py:696: ConvergenceWarning: Maximum number of iteration reached before convergence. Consider increasing max_iter to improve the fit.\n",
            "  warnings.warn(\n",
            "C:\\Users\\Danilo\\AppData\\Local\\Programs\\Python\\Python310\\lib\\site-packages\\sklearn\\linear_model\\_stochastic_gradient.py:696: ConvergenceWarning: Maximum number of iteration reached before convergence. Consider increasing max_iter to improve the fit.\n",
            "  warnings.warn(\n",
            "C:\\Users\\Danilo\\AppData\\Local\\Programs\\Python\\Python310\\lib\\site-packages\\sklearn\\linear_model\\_stochastic_gradient.py:696: ConvergenceWarning: Maximum number of iteration reached before convergence. Consider increasing max_iter to improve the fit.\n",
            "  warnings.warn(\n",
            "C:\\Users\\Danilo\\AppData\\Local\\Programs\\Python\\Python310\\lib\\site-packages\\sklearn\\linear_model\\_stochastic_gradient.py:696: ConvergenceWarning: Maximum number of iteration reached before convergence. Consider increasing max_iter to improve the fit.\n",
            "  warnings.warn(\n",
            "C:\\Users\\Danilo\\AppData\\Local\\Programs\\Python\\Python310\\lib\\site-packages\\sklearn\\linear_model\\_stochastic_gradient.py:696: ConvergenceWarning: Maximum number of iteration reached before convergence. Consider increasing max_iter to improve the fit.\n",
            "  warnings.warn(\n",
            "C:\\Users\\Danilo\\AppData\\Local\\Programs\\Python\\Python310\\lib\\site-packages\\sklearn\\linear_model\\_stochastic_gradient.py:696: ConvergenceWarning: Maximum number of iteration reached before convergence. Consider increasing max_iter to improve the fit.\n",
            "  warnings.warn(\n",
            "C:\\Users\\Danilo\\AppData\\Local\\Programs\\Python\\Python310\\lib\\site-packages\\sklearn\\linear_model\\_stochastic_gradient.py:696: ConvergenceWarning: Maximum number of iteration reached before convergence. Consider increasing max_iter to improve the fit.\n",
            "  warnings.warn(\n",
            "C:\\Users\\Danilo\\AppData\\Local\\Programs\\Python\\Python310\\lib\\site-packages\\sklearn\\linear_model\\_stochastic_gradient.py:696: ConvergenceWarning: Maximum number of iteration reached before convergence. Consider increasing max_iter to improve the fit.\n",
            "  warnings.warn(\n",
            "C:\\Users\\Danilo\\AppData\\Local\\Programs\\Python\\Python310\\lib\\site-packages\\sklearn\\linear_model\\_stochastic_gradient.py:696: ConvergenceWarning: Maximum number of iteration reached before convergence. Consider increasing max_iter to improve the fit.\n",
            "  warnings.warn(\n",
            "C:\\Users\\Danilo\\AppData\\Local\\Programs\\Python\\Python310\\lib\\site-packages\\sklearn\\linear_model\\_stochastic_gradient.py:696: ConvergenceWarning: Maximum number of iteration reached before convergence. Consider increasing max_iter to improve the fit.\n",
            "  warnings.warn(\n",
            "C:\\Users\\Danilo\\AppData\\Local\\Programs\\Python\\Python310\\lib\\site-packages\\sklearn\\linear_model\\_stochastic_gradient.py:696: ConvergenceWarning: Maximum number of iteration reached before convergence. Consider increasing max_iter to improve the fit.\n",
            "  warnings.warn(\n",
            "C:\\Users\\Danilo\\AppData\\Local\\Programs\\Python\\Python310\\lib\\site-packages\\sklearn\\linear_model\\_stochastic_gradient.py:696: ConvergenceWarning: Maximum number of iteration reached before convergence. Consider increasing max_iter to improve the fit.\n",
            "  warnings.warn(\n",
            "C:\\Users\\Danilo\\AppData\\Local\\Programs\\Python\\Python310\\lib\\site-packages\\sklearn\\linear_model\\_stochastic_gradient.py:696: ConvergenceWarning: Maximum number of iteration reached before convergence. Consider increasing max_iter to improve the fit.\n",
            "  warnings.warn(\n",
            "C:\\Users\\Danilo\\AppData\\Local\\Programs\\Python\\Python310\\lib\\site-packages\\sklearn\\linear_model\\_stochastic_gradient.py:696: ConvergenceWarning: Maximum number of iteration reached before convergence. Consider increasing max_iter to improve the fit.\n",
            "  warnings.warn(\n",
            "C:\\Users\\Danilo\\AppData\\Local\\Programs\\Python\\Python310\\lib\\site-packages\\sklearn\\linear_model\\_stochastic_gradient.py:696: ConvergenceWarning: Maximum number of iteration reached before convergence. Consider increasing max_iter to improve the fit.\n",
            "  warnings.warn(\n",
            "C:\\Users\\Danilo\\AppData\\Local\\Programs\\Python\\Python310\\lib\\site-packages\\sklearn\\linear_model\\_stochastic_gradient.py:696: ConvergenceWarning: Maximum number of iteration reached before convergence. Consider increasing max_iter to improve the fit.\n",
            "  warnings.warn(\n",
            "C:\\Users\\Danilo\\AppData\\Local\\Programs\\Python\\Python310\\lib\\site-packages\\sklearn\\linear_model\\_stochastic_gradient.py:696: ConvergenceWarning: Maximum number of iteration reached before convergence. Consider increasing max_iter to improve the fit.\n",
            "  warnings.warn(\n",
            "C:\\Users\\Danilo\\AppData\\Local\\Programs\\Python\\Python310\\lib\\site-packages\\sklearn\\linear_model\\_stochastic_gradient.py:696: ConvergenceWarning: Maximum number of iteration reached before convergence. Consider increasing max_iter to improve the fit.\n",
            "  warnings.warn(\n",
            "C:\\Users\\Danilo\\AppData\\Local\\Programs\\Python\\Python310\\lib\\site-packages\\sklearn\\linear_model\\_stochastic_gradient.py:696: ConvergenceWarning: Maximum number of iteration reached before convergence. Consider increasing max_iter to improve the fit.\n",
            "  warnings.warn(\n"
          ]
        },
        {
          "data": {
            "text/plain": [
              "{'early_stopping': False,\n",
              " 'fit_intercept': False,\n",
              " 'loss': 'log',\n",
              " 'penalty': 'none'}"
            ]
          },
          "execution_count": 63,
          "metadata": {},
          "output_type": "execute_result"
        }
      ],
      "source": [
        "grid = {'fit_intercept': [True,False],\n",
        "        'early_stopping': [True, False],\n",
        "        'loss' : ['hinge', 'log', 'squared_hinge'],\n",
        "        'penalty' : ['l2', 'l1', 'none']}\n",
        "search = GridSearchCV(estimator=sgd_clf, param_grid=grid, cv=5)\n",
        "search.fit(XTF_train, y_train)\n",
        "search.best_params_"
      ]
    },
    {
      "cell_type": "code",
      "execution_count": 65,
      "id": "5b0238f4",
      "metadata": {},
      "outputs": [
        {
          "name": "stdout",
          "output_type": "stream",
          "text": [
            "[0.681352   0.68358156 0.67508027 0.68230467 0.68703175]\n",
            "Accuracy: 0.68 (+/- 0.01)\n"
          ]
        }
      ],
      "source": [
        "grid_sgd_clf_scores = cross_val_score(search.best_estimator_, XTF_train, y_train, cv=5)\n",
        "print(grid_sgd_clf_scores)\n",
        "print(\"Accuracy: %0.2f (+/- %0.2f)\" % (grid_sgd_clf_scores.mean(), grid_sgd_clf_scores.std() * 2))"
      ]
    },
    {
      "cell_type": "code",
      "execution_count": 73,
      "id": "ca912de4",
      "metadata": {},
      "outputs": [
        {
          "data": {
            "text/plain": [
              "Pipeline(steps=[('vectoriser', TfidfVectorizer()),\n",
              "                ('classifier',\n",
              "                 SGDClassifier(fit_intercept=False, loss='log', penalty='none',\n",
              "                               random_state=123))])"
            ]
          },
          "execution_count": 73,
          "metadata": {},
          "output_type": "execute_result"
        }
      ],
      "source": [
        "pipe = Pipeline([('vectoriser', vectorizerTF),\n",
        "                 ('classifier', search.best_estimator_)])\n",
        "pipe.fit(X_train, y_train)"
      ]
    },
    {
      "cell_type": "code",
      "execution_count": 74,
      "id": "0aff2406",
      "metadata": {},
      "outputs": [
        {
          "name": "stdout",
          "output_type": "stream",
          "text": [
            "Accuracy: 0.69\n",
            "[[4182 1420  490]\n",
            " [1218 6834 2531]\n",
            " [ 506 2370 8062]]\n"
          ]
        }
      ],
      "source": [
        "y_test_pred = pipe.predict(X_test)\n",
        "print(\"Accuracy: %0.2f\" % (accuracy_score(y_test, y_test_pred)))\n",
        "print(confusion_matrix(y_test, y_test_pred))"
      ]
    }
  ],
  "metadata": {
    "colab": {
      "collapsed_sections": [],
      "name": "brisa-25-02-eda.ipynb",
      "provenance": []
    },
    "kernelspec": {
      "display_name": "Python 3 (ipykernel)",
      "language": "python",
      "name": "python3"
    },
    "language_info": {
      "codemirror_mode": {
        "name": "ipython",
        "version": 3
      },
      "file_extension": ".py",
      "mimetype": "text/x-python",
      "name": "python",
      "nbconvert_exporter": "python",
      "pygments_lexer": "ipython3",
      "version": "3.10.2"
    }
  },
  "nbformat": 4,
  "nbformat_minor": 5
}
